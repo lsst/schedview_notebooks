{
 "cells": [
  {
   "cell_type": "markdown",
   "id": "63015603",
   "metadata": {},
   "source": [
    "# Vera C. Rubin Observatory Scheduler Reports"
   ]
  },
  {
   "cell_type": "code",
   "execution_count": null,
   "id": "849247d3-2f42-4a52-8e91-ace6313607f2",
   "metadata": {},
   "outputs": [],
   "source": [
    "\"\"\"\n",
    "# To render this notebook to html, in the current directory with the current python environment\n",
    "\n",
    "jupyter nbconvert \\\n",
    "    --to html \\\n",
    "    --execute \\\n",
    "    --no-input \\\n",
    "    --ExecutePreprocessor.kernel_name=python3 \\\n",
    "    --ExecutePreprocessor.startup_timeout=3600 \\\n",
    "    --ExecutePreprocessor.timeout=3600 \\\n",
    "    schedview_reports_toc.ipynb\n",
    "\n",
    "# The public USDF page served at\n",
    "#    https://s3df.slac.stanford.edu/data/rubin/sim-data/schedview/reports\n",
    "# is found at\n",
    "#    /sdf/group/rubin/web_data/sim-data/schedview/reports/index.html\n",
    "\n",
    "# You can set up the conda environment used to automatically generate these pages with\n",
    "#    conda activate /sdf/data/rubin/shared/scheduler/envs/prenight\n",
    "\"\"\"\n",
    "pass"
   ]
  },
  {
   "cell_type": "code",
   "execution_count": null,
   "id": "ea8d991a",
   "metadata": {},
   "outputs": [],
   "source": [
    "from IPython.display import HTML\n",
    "import sys"
   ]
  },
  {
   "cell_type": "code",
   "execution_count": null,
   "id": "83e57c95-e0d4-499e-b6f0-2976e7858424",
   "metadata": {},
   "outputs": [],
   "source": [
    "#sched_source = 'env'\n",
    "sched_source = 'shared'\n",
    "#sched_source = 'devel'\n",
    "match sched_source:\n",
    "    case 'shared':\n",
    "        if os.path.exists('/sdf/data/rubin/shared/scheduler/packages'):\n",
    "            sys.path.insert(0, \"/sdf/data/rubin/shared/scheduler/packages/rubin_scheduler-3.11.0\")\n",
    "            sys.path.insert(0, \"/sdf/data/rubin/shared/scheduler/packages/rubin_sim-2.2.4\")\n",
    "            sys.path.insert(0, \"/sdf/data/rubin/shared/scheduler/packages/schedview-0.18.1.dev8+ge8cae92\")\n",
    "    case 'devel':\n",
    "        if os.path.exists('/sdf/data/rubin/user/neilsen/devel'):\n",
    "            sys.path.insert(0, \"/sdf/data/rubin/user/neilsen/devel/rubin_scheduler\")\n",
    "            sys.path.insert(0, \"/sdf/data/rubin/user/neilsen/devel/rubin_sim\")\n",
    "            sys.path.insert(0, \"/sdf/data/rubin/user/neilsen/devel/schedview\")\n",
    "    case _:\n",
    "        # Use whatever is in the kernel python environment\n",
    "        pass"
   ]
  },
  {
   "cell_type": "code",
   "execution_count": null,
   "id": "538318d6-4ac3-411e-b5f8-3edde2839d8f",
   "metadata": {},
   "outputs": [],
   "source": [
    "from schedview.util import config_logging_for_reports\n",
    "import logging\n",
    "config_logging_for_reports(logging.ERROR)"
   ]
  },
  {
   "cell_type": "code",
   "execution_count": null,
   "id": "010ee49e-8be4-4484-8940-fd4b433d8cf5",
   "metadata": {},
   "outputs": [],
   "source": [
    "from schedview.reports import find_reports, make_report_link_table, make_report_rss_feed"
   ]
  },
  {
   "cell_type": "code",
   "execution_count": null,
   "id": "f2f05fc9",
   "metadata": {},
   "outputs": [],
   "source": [
    "reports = find_reports(\"/sdf/group/rubin/web_data/sim-data/schedview/reports\", url_base=\"https://s3df.slac.stanford.edu/data/rubin/sim-data/schedview/reports\")\n",
    "report_link_table =  make_report_link_table(reports)\n",
    "display(HTML(report_link_table))\n"
   ]
  },
  {
   "cell_type": "code",
   "execution_count": null,
   "id": "6649c5f2-33d0-4e2c-a277-3d0dfc156df6",
   "metadata": {},
   "outputs": [],
   "source": []
  }
 ],
 "metadata": {
  "kernelspec": {
   "display_name": "LSST",
   "language": "python",
   "name": "lsst"
  },
  "language_info": {
   "codemirror_mode": {
    "name": "ipython",
    "version": 3
   },
   "file_extension": ".py",
   "mimetype": "text/x-python",
   "name": "python",
   "nbconvert_exporter": "python",
   "pygments_lexer": "ipython3",
   "version": "3.12.11"
  }
 },
 "nbformat": 4,
 "nbformat_minor": 5
}
