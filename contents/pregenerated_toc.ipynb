{
 "cells": [
  {
   "cell_type": "markdown",
   "id": "63015603",
   "metadata": {},
   "source": [
    "# Vera C. Rubin Observatory Scheduler Reports"
   ]
  },
  {
   "cell_type": "code",
   "execution_count": null,
   "id": "ea8d991a",
   "metadata": {},
   "outputs": [],
   "source": [
    "from IPython.display import HTML"
   ]
  },
  {
   "cell_type": "code",
   "execution_count": null,
   "id": "83e57c95-e0d4-499e-b6f0-2976e7858424",
   "metadata": {},
   "outputs": [],
   "source": [
    "#sched_source = 'env'\n",
    "sched_source = 'shared'\n",
    "#sched_source = 'devel'\n",
    "match sched_source:\n",
    "    case 'shared':\n",
    "        if os.path.exists('/sdf/data/rubin/shared/scheduler/packages'):\n",
    "            sys.path.insert(0, \"/sdf/data/rubin/shared/scheduler/packages/rubin_scheduler-3.8.0\")\n",
    "            sys.path.insert(0, \"/sdf/data/rubin/shared/scheduler/packages/rubin_sim-2.2.4\")\n",
    "            sys.path.insert(0, \"/sdf/data/rubin/shared/scheduler/packages/schedview-0.18.1.dev1+g88f9d0d\")\n",
    "    case 'devel':\n",
    "        if os.path.exists('/sdf/data/rubin/user/neilsen/devel'):\n",
    "            sys.path.insert(0, \"/sdf/data/rubin/user/neilsen/devel/rubin_scheduler\")\n",
    "            sys.path.insert(0, \"/sdf/data/rubin/user/neilsen/devel/rubin_sim\")\n",
    "            sys.path.insert(0, \"/sdf/data/rubin/user/neilsen/devel/schedview\")\n",
    "    case _:\n",
    "        # Use whatever is in the kernel python environment\n",
    "        pass"
   ]
  },
  {
   "cell_type": "code",
   "execution_count": null,
   "id": "010ee49e-8be4-4484-8940-fd4b433d8cf5",
   "metadata": {},
   "outputs": [],
   "source": [
    "from schedview.reports import find_reports, make_report_link_table, make_report_rss_feed"
   ]
  },
  {
   "cell_type": "code",
   "execution_count": null,
   "id": "f2f05fc9",
   "metadata": {},
   "outputs": [],
   "source": [
    "reports = find_reports(\"/sdf/data/rubin/shared/scheduler/reports\")\n",
    "report_link_table =  make_report_link_table(reports)\n",
    "display(HTML(report_link_table))\n"
   ]
  },
  {
   "cell_type": "code",
   "execution_count": null,
   "id": "455c1e3f",
   "metadata": {},
   "outputs": [],
   "source": [
    "# Writes the rss feed to a publicly readable USDF site.\n",
    "# It has no actual information about activities, just links to the protected stuff.\n",
    "# Once it stops being secret, we can update it to include high-level\n",
    "# summary stats for each night.\n",
    "rss_feed_fname = '/sdf/group/rubin/web_data/sim-data/schedview/schedview_reports.rss'\n",
    "_ = make_report_rss_feed(reports, fname=rss_feed_fname)"
   ]
  },
  {
   "cell_type": "code",
   "execution_count": null,
   "id": "f7a02fd6",
   "metadata": {},
   "outputs": [],
   "source": []
  }
 ],
 "metadata": {
  "kernelspec": {
   "display_name": "LSST",
   "language": "python",
   "name": "lsst"
  },
  "language_info": {
   "codemirror_mode": {
    "name": "ipython",
    "version": 3
   },
   "file_extension": ".py",
   "mimetype": "text/x-python",
   "name": "python",
   "nbconvert_exporter": "python",
   "pygments_lexer": "ipython3",
   "version": "3.12.11"
  }
 },
 "nbformat": 4,
 "nbformat_minor": 5
}
