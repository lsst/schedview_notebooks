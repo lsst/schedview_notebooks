{
 "cells": [
  {
   "cell_type": "markdown",
   "id": "63015603",
   "metadata": {},
   "source": [
    "# Vera C. Rubin Observatory Scheduler Reports"
   ]
  },
  {
   "cell_type": "code",
   "execution_count": null,
   "id": "129542cf",
   "metadata": {},
   "outputs": [],
   "source": [
    "report_dir = \"/sdf/data/rubin/shared/scheduler/reports\"\n",
    "url_base = \"https://usdf-rsp-int.slac.stanford.edu/schedview-static-pages\""
   ]
  },
  {
   "cell_type": "code",
   "execution_count": null,
   "id": "06b360b2",
   "metadata": {},
   "outputs": [],
   "source": [
    "import os\n",
    "from pathlib import Path\n",
    "import datetime\n",
    "from IPython.display import HTML, Markdown\n",
    "\n",
    "import pandas as pd"
   ]
  },
  {
   "cell_type": "code",
   "execution_count": null,
   "id": "329feb44",
   "metadata": {},
   "outputs": [],
   "source": [
    "report_list = []\n",
    "for dir_path, dir_names, file_names in os.walk(report_dir):\n",
    "    this_path = Path(dir_path)\n",
    "    for file_name in file_names:\n",
    "        if file_name.endswith(\".html\"):\n",
    "            file_path = str(this_path.joinpath(file_name))\n",
    "            relative_path = file_path[len(report_dir) + 1 :]\n",
    "            file_parts = relative_path.split(\"/\")\n",
    "            if len(file_parts) == 6:\n",
    "                report, instrument, year_str, month_str, day_str, _ = file_parts\n",
    "                dayobs = year_str + month_str + day_str\n",
    "                night_iso = \"-\".join([year_str, month_str, day_str])\n",
    "                night_date = datetime.date.fromisoformat(night_iso)\n",
    "                url = \"/\".join([url_base, relative_path])\n",
    "                link = f'<a href=\"{url}\" target=\"_blank\" rel=\"noopener noreferrer\">{report}</a>'\n",
    "                report_list.append(\n",
    "                    pd.Series(\n",
    "                        dict(\n",
    "                            night=night_date,\n",
    "                            dayobs=dayobs,\n",
    "                            report=report,\n",
    "                            instrument=instrument,\n",
    "                            url=url,\n",
    "                            link=link\n",
    "                        )\n",
    "                    )\n",
    "                )\n",
    "\n",
    "reports = pd.DataFrame(report_list).set_index(['instrument', 'dayobs'])"
   ]
  },
  {
   "cell_type": "code",
   "execution_count": null,
   "id": "49152bc7",
   "metadata": {},
   "outputs": [],
   "source": [
    "report_links = (\n",
    "    reports\n",
    "    .reset_index()\n",
    "    .pivot(\n",
    "        index=('night', 'instrument'),\n",
    "        columns='report',\n",
    "        values='link'\n",
    "    )\n",
    "    .sort_values('night', ascending=False)\n",
    "    .fillna(\"\")\n",
    "    .reindex(columns=['prenight', 'multiprenight', 'nightsum', 'compareprenight'])\n",
    ")\n",
    "display(HTML(report_links.to_html(escape=False)))"
   ]
  },
  {
   "cell_type": "code",
   "execution_count": null,
   "id": "e9a8eb3c",
   "metadata": {},
   "outputs": [],
   "source": []
  }
 ],
 "metadata": {
  "kernelspec": {
   "display_name": "ehn312",
   "language": "python",
   "name": "python3"
  },
  "language_info": {
   "codemirror_mode": {
    "name": "ipython",
    "version": 3
   },
   "file_extension": ".py",
   "mimetype": "text/x-python",
   "name": "python",
   "nbconvert_exporter": "python",
   "pygments_lexer": "ipython3",
   "version": "3.12.7"
  }
 },
 "nbformat": 4,
 "nbformat_minor": 5
}
