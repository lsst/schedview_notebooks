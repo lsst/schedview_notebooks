{
 "cells": [
  {
   "cell_type": "code",
   "execution_count": null,
   "id": "689b6ab4",
   "metadata": {},
   "outputs": [],
   "source": [
    "# This cell does not get executed when run with Times Square\n",
    "import os\n",
    "import datetime\n",
    "\n",
    "visit_origin = os.environ.get(\"SCHEDVIEW_VISIT_ORIGIN\", \"lsstcam\")\n",
    "day_obs = int(os.environ.get(\"SCHEDVIEW_DAY_OBS\", (datetime.date.today() - datetime.timedelta(days=1)).strftime(\"%Y%m%d\")))\n",
    "sim_date = datetime.date.fromisoformat(os.environ.get(\"SCHEDVIEW_SIM_DATE\", datetime.date(day_obs//10000, (day_obs%10000)//100, day_obs%100).isoformat()))"
   ]
  },
  {
   "cell_type": "code",
   "execution_count": null,
   "id": "2ab46da6-0edd-4db1-a169-5d944b794349",
   "metadata": {},
   "outputs": [],
   "source": [
    "# Validate the inputs\n",
    "import re\n",
    "sim_date = sim_date.isoformat()"
   ]
  },
  {
   "cell_type": "code",
   "execution_count": null,
   "id": "c0f9c11a-ca91-46d7-8d08-96e3d242c325",
   "metadata": {},
   "outputs": [],
   "source": [
    "from IPython.display import display, HTML, Markdown\n",
    "import datetime\n",
    "import math\n",
    "import sys\n",
    "import os\n",
    "import yaml\n",
    "from urllib.parse import urlparse\n",
    "import warnings\n",
    "import itertools\n",
    "import healpy as hp\n",
    "import pandas as pd\n",
    "import numpy as np\n",
    "import astropy\n",
    "import bokeh\n",
    "import bokeh.io\n",
    "import boto3\n",
    "import colorcet\n",
    "from erfa import ErfaWarning\n",
    "from astropy.time import Time"
   ]
  },
  {
   "cell_type": "code",
   "execution_count": null,
   "id": "ac504651-4898-411c-9245-10f7b6860a96",
   "metadata": {},
   "outputs": [],
   "source": [
    "from sklearn.neighbors import KernelDensity"
   ]
  },
  {
   "cell_type": "code",
   "execution_count": null,
   "id": "2d99932c-1c03-4630-9b0b-b47840cdf588",
   "metadata": {},
   "outputs": [],
   "source": [
    "usdf_sim_data_dir = \"/sdf/data/rubin/shared/rubin_sim_data\"\n",
    "if os.path.exists(usdf_sim_data_dir):\n",
    "    os.environ[\"RUBIN_SIM_DATA_DIR\"] = \"/sdf/data/rubin/shared/rubin_sim_data\""
   ]
  },
  {
   "cell_type": "code",
   "execution_count": null,
   "id": "8670af58-91f2-4dba-91d4-e6b4f5c2d8fb",
   "metadata": {},
   "outputs": [],
   "source": [
    "#sched_source = 'env'\n",
    "sched_source = 'shared'\n",
    "#sched_source = 'devel'\n",
    "match sched_source:\n",
    "    case 'shared':\n",
    "        if os.path.exists('/sdf/data/rubin/shared/scheduler/packages'):\n",
    "            sys.path.insert(0, \"/sdf/data/rubin/shared/scheduler/packages/rubin_scheduler-3.8.0\")\n",
    "            sys.path.insert(0, \"/sdf/data/rubin/shared/scheduler/packages/rubin_sim-2.2.4\")\n",
    "            sys.path.insert(0, \"/sdf/data/rubin/shared/scheduler/packages/schedview-0.17.0\")\n",
    "    case 'devel':\n",
    "        if os.path.exists('/sdf/data/rubin/user/neilsen/devel'):\n",
    "            sys.path.insert(0, \"/sdf/data/rubin/user/neilsen/devel/uranography\")\n",
    "            sys.path.insert(0, \"/sdf/data/rubin/user/neilsen/devel/rubin_scheduler\")\n",
    "            sys.path.insert(0, \"/sdf/data/rubin/user/neilsen/devel/rubin_sim\")\n",
    "            sys.path.insert(0, \"/sdf/data/rubin/user/neilsen/devel/schedview\")\n",
    "    case _:\n",
    "        # Use whatever is in the kernel python environment\n",
    "        pass\n"
   ]
  },
  {
   "cell_type": "code",
   "execution_count": null,
   "id": "34e7a7d2-3cab-433f-882d-17577e1a6079",
   "metadata": {},
   "outputs": [],
   "source": [
    "import rubin_scheduler\n",
    "import rubin_scheduler.utils\n",
    "import rubin_sim.sim_archive\n",
    "from rubin_scheduler.scheduler.model_observatory import ModelObservatory\n",
    "from rubin_sim import maf\n",
    "from lsst.resources import ResourcePath"
   ]
  },
  {
   "cell_type": "code",
   "execution_count": null,
   "id": "18cebc19-1e5d-4e40-9645-bec9da7d712e",
   "metadata": {},
   "outputs": [],
   "source": [
    "import schedview.compute\n",
    "import schedview.compute.visits\n",
    "import schedview.collect\n",
    "import schedview.collect.rewards\n",
    "import schedview.collect.visits\n",
    "import schedview.plot\n",
    "import schedview.plot.rewards\n",
    "from schedview import DayObs"
   ]
  },
  {
   "cell_type": "code",
   "execution_count": null,
   "id": "f0c5570c",
   "metadata": {},
   "outputs": [],
   "source": [
    "display(Markdown(f\"# Comparison of completed visits from dayobs {day_obs} and the nominal simulations completed on {sim_date}\"))"
   ]
  },
  {
   "cell_type": "markdown",
   "id": "e62944f7-3180-4018-bd4f-1ced0b25f117",
   "metadata": {},
   "source": [
    "This report compares completed visits (as queried from the consdb) for a night to the pre-night simulated visits for that night.\n",
    "\n",
    "It is similar to the report that displays multiple pre-night simulations for one night, but includes the completed visits as well."
   ]
  },
  {
   "cell_type": "code",
   "execution_count": null,
   "id": "8b63f7b3-e3c1-44f6-999a-0a43c48f32b9",
   "metadata": {},
   "outputs": [],
   "source": [
    "# Degraded IERS accuracy is never going to be important for these figures.\n",
    "\n",
    "# If IERS degraded accuracy encountered, don't fail, just keep going.\n",
    "astropy.utils.iers.conf.iers_degraded_accuracy = \"ignore\"\n",
    "\n",
    "# Don't even complain.\n",
    "warnings.filterwarnings(\n",
    "    \"ignore\",\n",
    "    category=astropy.utils.exceptions.AstropyWarning,\n",
    "    message=\"Tried to get polar motions for times after IERS data is valid. Defaulting to polar motion from the 50-yr mean for those. This may affect precision at the arcsec level. Please check your astropy.utils.iers.conf.iers_auto_url and point it to a newer version if necessary.\",\n",
    ")"
   ]
  },
  {
   "cell_type": "code",
   "execution_count": null,
   "id": "0a0c0657-9b51-4406-ac8a-ee70baff7e87",
   "metadata": {},
   "outputs": [],
   "source": [
    "# In simulations, we go far enough into the future that the erfa module finds it \"dubious\".\n",
    "# Keep the complaints quiet.\n",
    "warnings.filterwarnings(\n",
    "    \"ignore\",\n",
    "    category=ErfaWarning,\n",
    "    message=r\".*dubious year.*\",\n",
    ")"
   ]
  },
  {
   "cell_type": "code",
   "execution_count": null,
   "id": "b631463b-75f1-4865-9979-746986e5887d",
   "metadata": {},
   "outputs": [],
   "source": [
    "# Don't complain about working with daytime MJDs either.\n",
    "warnings.filterwarnings(\n",
    "    \"ignore\",\n",
    "    module=\"rubin_scheduler.skybrightness_pre.sky_model_pre\",\n",
    "    category=UserWarning,\n",
    "    message=\"Requested MJD between sunrise and sunset, returning closest maps\",\n",
    ")"
   ]
  },
  {
   "cell_type": "code",
   "execution_count": null,
   "id": "7ade4793-1c95-42f2-91ff-0870f3b5f154",
   "metadata": {},
   "outputs": [],
   "source": [
    "warnings.filterwarnings(\n",
    "    \"ignore\",\n",
    "    module=r\"schedview.collect.opsim.*\",\n",
    "    category=UserWarning,\n",
    "    message=r\"Column .* not found in .*, skipping.\",\n",
    ")"
   ]
  },
  {
   "cell_type": "code",
   "execution_count": null,
   "id": "fb978c52-c0f5-41a2-bdf2-34dedee68d3d",
   "metadata": {},
   "outputs": [],
   "source": [
    "warnings.filterwarnings(\n",
    "    \"ignore\",\n",
    "    module=r\"rubin_sim.maf.stackers.*\",\n",
    "    category=UserWarning,\n",
    "    message=r\".*column day_obs_mjd already present in sim_data, may be overwritten.*\",\n",
    ")"
   ]
  },
  {
   "cell_type": "code",
   "execution_count": null,
   "id": "5a565a1b-92d3-4c97-9191-7eb3365c0f82",
   "metadata": {},
   "outputs": [],
   "source": [
    "# Quiet unimportant chatter from healpy.\n",
    "healpy_logger = logging.getLogger(\"healpy\")\n",
    "healpy_logger.setLevel(logging.WARNING)"
   ]
  },
  {
   "cell_type": "code",
   "execution_count": null,
   "id": "ce34bced-b5c5-42fd-8469-082eb8a3614f",
   "metadata": {},
   "outputs": [],
   "source": [
    "bokeh.io.output_notebook()"
   ]
  },
  {
   "cell_type": "code",
   "execution_count": null,
   "id": "d4d515c3-97fa-4bcc-96c1-19ca678f65bb",
   "metadata": {},
   "outputs": [],
   "source": [
    "%matplotlib inline"
   ]
  },
  {
   "cell_type": "code",
   "execution_count": null,
   "id": "6be09ede-0402-4f74-82c5-adfffde18605",
   "metadata": {},
   "outputs": [],
   "source": [
    "archive_uri = \"s3://rubin:rubin-scheduler-prenight/opsim/\"\n",
    "\n",
    "if urlparse(archive_uri).scheme.upper() == 'S3':\n",
    "    os.environ[\"LSST_DISABLE_BUCKET_VALIDATION\"] = \"1\"\n",
    "    os.environ[\"S3_ENDPOINT_URL\"] = \"https://s3dfrgw.slac.stanford.edu/\""
   ]
  },
  {
   "cell_type": "code",
   "execution_count": null,
   "id": "216820a9-c69c-45d7-a933-bd8209db67d6",
   "metadata": {},
   "outputs": [],
   "source": [
    "day_obs = DayObs.from_date(day_obs)\n",
    "day_obs_mjd = day_obs.mjd\n",
    "observatory = ModelObservatory(init_load_length=1)\n",
    "timezone = \"Chile/Continental\"\n",
    "telescope = \"auxtel\" if visit_origin.lower()==\"latiss\" else \"simonyi\""
   ]
  },
  {
   "cell_type": "markdown",
   "id": "7b332e10-8383-4ee2-b281-cc9cbee6be1a",
   "metadata": {},
   "source": [
    "## Astronomical events during the night"
   ]
  },
  {
   "cell_type": "code",
   "execution_count": null,
   "id": "0bb041ed-0ff0-4de3-a229-0cb0c3589af5",
   "metadata": {},
   "outputs": [],
   "source": [
    "day_obs_datetime = Time(day_obs_mjd, format='mjd').datetime\n",
    "day_obs_date = datetime.date(day_obs_datetime.year, day_obs_datetime.month, day_obs_datetime.day)\n",
    "night_events = schedview.compute.astro.night_events(day_obs_date)\n",
    "night_events"
   ]
  },
  {
   "cell_type": "markdown",
   "id": "7bed58c5-4084-4acf-bc1d-0f17895b8c70",
   "metadata": {},
   "source": [
    "## Sun and moon positions in the middle of the night"
   ]
  },
  {
   "cell_type": "code",
   "execution_count": null,
   "id": "13cc2f97-4d8e-43b5-98d9-3d93fcdd0f75",
   "metadata": {},
   "outputs": [],
   "source": [
    "model_observatory = ModelObservatory(init_load_length=1)\n",
    "model_observatory.mjd = night_events.loc['night_middle', 'MJD']"
   ]
  },
  {
   "cell_type": "code",
   "execution_count": null,
   "id": "0b8882f8-3e69-4b4c-b0af-23d760414b23",
   "metadata": {},
   "outputs": [],
   "source": [
    "body_positions_wide = pd.DataFrame(model_observatory.almanac.get_sun_moon_positions(night_events.loc['night_middle', 'MJD']))\n",
    "body_positions_wide.index.name = 'r'\n",
    "body_positions_wide.reset_index(inplace=True)\n",
    "\n",
    "angle_columns = ['RA', 'dec', 'alt', 'az']\n",
    "all_columns = angle_columns + ['phase']\n",
    "body_positions = (\n",
    "    pd.wide_to_long(body_positions_wide, stubnames=('sun', 'moon'), suffix=r'.*', sep='_', i='r', j='')\n",
    "    .droplevel('r')\n",
    "    .T[all_columns]\n",
    ")\n",
    "body_positions[angle_columns] = np.degrees(body_positions[angle_columns])\n",
    "body_positions"
   ]
  },
  {
   "cell_type": "markdown",
   "id": "3c8b0d6c-f050-44e9-8227-9cf90d47387a",
   "metadata": {},
   "source": [
    "All angles are in degrees."
   ]
  },
  {
   "cell_type": "code",
   "execution_count": null,
   "id": "264b3f5f-5f7b-4f1d-ae81-ab6153e574f9",
   "metadata": {},
   "outputs": [],
   "source": [
    "completed_visits = schedview.collect.visits.read_visits(day_obs, visit_origin, stackers = schedview.collect.visits.NIGHT_STACKERS)\n",
    "no_visits = len(completed_visits) == 0"
   ]
  },
  {
   "cell_type": "code",
   "execution_count": null,
   "id": "7b36ddde-3072-4639-a7b7-0cdf7ce01ed6",
   "metadata": {},
   "outputs": [],
   "source": [
    "if no_visits:\n",
    "    display(HTML(\"<b>No completed visits found on this night.</b>\"))"
   ]
  },
  {
   "cell_type": "code",
   "execution_count": null,
   "id": "5ddc269f-c6b9-4cf6-8e1e-007abf3d099e",
   "metadata": {},
   "outputs": [],
   "source": [
    "start_time = DayObs.from_date(day_obs).sun_n12_setting if no_visits else Time(completed_visits.observationStartMJD.min(), format='mjd') "
   ]
  },
  {
   "cell_type": "code",
   "execution_count": null,
   "id": "fedef219",
   "metadata": {},
   "outputs": [],
   "source": [
    "simulated_visits = schedview.collect.read_multiple_opsims(archive_uri, sim_date, day_obs_mjd, telescope=telescope).query(f'sim_date == \"{sim_date}\"')"
   ]
  },
  {
   "cell_type": "code",
   "execution_count": null,
   "id": "0cd1b5d0-97d0-484b-891a-91979c188ac2",
   "metadata": {},
   "outputs": [],
   "source": [
    "if no_visits:\n",
    "    visits = simulated_visits\n",
    "else:\n",
    "    ts_config_ocs_version = schedview.collect.get_version_at_time(\"ts_config_ocs\", start_time)\n",
    "    sal_indexes = schedview.collect.SAL_INDEX_GUESSES[visit_origin]\n",
    "    opsim_config_script = await schedview.collect.get_scheduler_config(ts_config_ocs_version, telescope.lower(), start_time)\n",
    "    completed_visits['start_date'] = pd.to_datetime(completed_visits['start_date'], format='ISO8601').dt.tz_localize('UTC')\n",
    "    completed_visits['filter'] = completed_visits['band']\n",
    "    completed_visits['sim_date'] = None\n",
    "    completed_visits['sim_index'] = 0\n",
    "    completed_visits['label'] = 'Completed'\n",
    "    completed_visits['opsim_config_branch'] = ts_config_ocs_version\n",
    "    completed_visits['opsim_config_repository'] = None\n",
    "    completed_visits['opsim_config_script'] = opsim_config_script\n",
    "    completed_visits['scheduler_version'] = schedview.collect.get_version_at_time('rubin_scheduler', start_time)\n",
    "    completed_visits['sim_runner_kwargs'] = {}\n",
    "    completed_visits.loc[:, 'tags'] = len(completed_visits) * [['completed']]\n",
    "\n",
    "    visits = pd.concat([completed_visits, simulated_visits])\n",
    "    "
   ]
  },
  {
   "cell_type": "code",
   "execution_count": null,
   "id": "5374e3b1-db51-4a2a-a4ad-2fc4d1320241",
   "metadata": {},
   "outputs": [],
   "source": [
    "visits_ds = bokeh.models.ColumnDataSource(visits)"
   ]
  },
  {
   "cell_type": "code",
   "execution_count": null,
   "id": "0d925b97-6845-47c1-a82b-1c5f72597dd9",
   "metadata": {},
   "outputs": [],
   "source": [
    "sim_labels = visits['label'].unique()\n",
    "sim_color_mapper, sim_color_dict, sim_marker_mapper, sim_hatch_dict = schedview.plot.generate_sim_indicators(sim_labels)"
   ]
  },
  {
   "cell_type": "markdown",
   "id": "20fa1967-9229-4b77-ba32-9b34e8ead37c",
   "metadata": {},
   "source": [
    "## Visit parameter vs. time\n",
    "\n",
    "The scalar visit parameter to plot can be chosen with the dropdown in the upper left.\n",
    "\n",
    "By default, all simulations for the night are shown as well. This is often too busy, so the dropdown on the upper right can be used to specify individual simulations insteaod."
   ]
  },
  {
   "cell_type": "code",
   "execution_count": null,
   "id": "e3187392-7520-403f-9fc5-8fbac242ba7d",
   "metadata": {},
   "outputs": [],
   "source": [
    "default_column = \"nest_healpix\"\n",
    "# Create the insntance of bokeh.plotting.figure ourselves so\n",
    "# we can set the width and height.\n",
    "plot = bokeh.plotting.figure(y_axis_label=default_column, x_axis_label=\"Time (UTC)\", frame_width=1024, frame_height=512)\n",
    "fig = schedview.plot.visits.plot_visit_param_vs_time(visits, default_column, plot=plot, show_column_selector=True, show_sim_selector=True, size=10, marker_transform=sim_marker_mapper)\n",
    "bokeh.io.show(fig)"
   ]
  },
  {
   "cell_type": "markdown",
   "id": "ae61ce9d-e1ff-4504-997c-2fefba94c42e",
   "metadata": {},
   "source": [
    "## Often repeated fields"
   ]
  },
  {
   "cell_type": "markdown",
   "id": "18bfba53-85a6-48a7-9da0-715da4eb6feb",
   "metadata": {},
   "source": [
    "An often repeated field is a field repeated at least four times in at least one simulation, where a \"field\" is a unique combination field coordinates and filter."
   ]
  },
  {
   "cell_type": "code",
   "execution_count": null,
   "id": "19d15a93-73d3-4d33-b921-72f3625e8104",
   "metadata": {},
   "outputs": [],
   "source": [
    "often_repeated_fields, often_repeated_field_stats = schedview.compute.often_repeated_fields(visits)\n",
    "often_repeated_field_stats.style.format({\n",
    "    'first_time': lambda t: t.strftime(\"%H:%M:%S\"),\n",
    "    'last_time': lambda t: t.strftime(\"%H:%M:%S\")}) "
   ]
  },
  {
   "cell_type": "markdown",
   "id": "9885f9f2-f1e2-40b3-ac8c-876c73016cd5",
   "metadata": {},
   "source": [
    "At present, field coordinates must be exactly matched to be recognized as the \"same\" field.\n",
    "A more robust approach would be to find clusters of nearby pointings (maybe with kmeans or a similar algorithm), and group by the identified clusters."
   ]
  },
  {
   "cell_type": "markdown",
   "id": "167b6082-c2b1-45a6-910d-3bc6c05906e0",
   "metadata": {},
   "source": [
    "## Distribution comparisons"
   ]
  },
  {
   "cell_type": "markdown",
   "id": "5fec1aad-4e75-4424-88a2-fb8a56aa31a3",
   "metadata": {},
   "source": [
    "Overplotting distributions using kernel density estimates (similar to histograms, but continuous estimates of the underlying PDF).\n",
    "\n",
    "KDEs are show here instead of histograms because they can be easier to intrepret for multiple overplotting distributions, if those distributions are actually different."
   ]
  },
  {
   "cell_type": "code",
   "execution_count": null,
   "id": "ca6c0ee2-e459-4a53-9df4-accd22cf5856",
   "metadata": {},
   "outputs": [],
   "source": [
    "fig = schedview.plot.overplot_kernel_density_estimates(visits, column='fieldRA', x_points=np.arange(0, 360), colors=sim_color_dict, hatches=sim_hatch_dict, bandwidth=1)\n",
    "bokeh.io.show(fig)"
   ]
  },
  {
   "cell_type": "code",
   "execution_count": null,
   "id": "5b6ed786-2fb4-4af4-b6b7-c7770d8286d9",
   "metadata": {},
   "outputs": [],
   "source": [
    "fig = schedview.plot.overplot_kernel_density_estimates(visits, column='fieldDec', x_points=np.arange(-90, 30), colors=sim_color_dict, hatches=sim_hatch_dict, bandwidth=1)\n",
    "bokeh.io.show(fig)"
   ]
  },
  {
   "cell_type": "code",
   "execution_count": null,
   "id": "27c94d99-4b82-466a-9c2e-707f1cb79c90",
   "metadata": {},
   "outputs": [],
   "source": [
    "fig = schedview.plot.overplot_kernel_density_estimates(visits[~ np.isnan(visits.airmass)], column='airmass', bandwidth=0.001, x_points=np.arange(1.0, 2.5, 0.005), colors=sim_color_dict, hatches=sim_hatch_dict)\n",
    "bokeh.io.show(fig)"
   ]
  },
  {
   "cell_type": "markdown",
   "id": "6952089b-07e5-48b8-82f8-058b5ac80957",
   "metadata": {},
   "source": [
    "## Common visits"
   ]
  },
  {
   "cell_type": "markdown",
   "id": "359cf258-0b17-441e-8b99-4cdc3107c063",
   "metadata": {},
   "source": [
    "`sim_index` columns in the tables that follow refer to simulations with the following labels:"
   ]
  },
  {
   "cell_type": "code",
   "execution_count": null,
   "id": "0ca4fdeb-fb39-42bc-bc49-89264acd02b2",
   "metadata": {},
   "outputs": [],
   "source": [
    "with pd.option_context('display.max_colwidth', 512):\n",
    "    display(visits.groupby('sim_index')['label'].first().to_frame())"
   ]
  },
  {
   "cell_type": "code",
   "execution_count": null,
   "id": "665611c8-ac9c-4bfc-8cf6-373c58e6bed8",
   "metadata": {},
   "outputs": [],
   "source": [
    "# nside=2**18 is about 1 arcsec resolution\n",
    "\n",
    "visit_counts = schedview.compute.multisim.count_visits_by_sim(visits, visit_spec_columns=(\"fieldHpid\", \"band\"), nside=2**18)"
   ]
  },
  {
   "cell_type": "markdown",
   "id": "b3dd595c-a984-441d-9781-aacabae18951",
   "metadata": {},
   "source": [
    "Coordinate/filter/exposure time combinations repeated more that four times in any simulation:"
   ]
  },
  {
   "cell_type": "code",
   "execution_count": null,
   "id": "90843dc1-75a5-4684-af28-abdd8084dcde",
   "metadata": {},
   "outputs": [],
   "source": [
    "visit_counts.loc[visit_counts.max(axis='columns')>4, :]"
   ]
  },
  {
   "cell_type": "markdown",
   "id": "2ac064f9-9c86-4ee2-a38c-b55e3b114a51",
   "metadata": {},
   "source": [
    "Coordinate/filter/exposure time combinations all simulations have in common, statics on how often they occur:"
   ]
  },
  {
   "cell_type": "code",
   "execution_count": null,
   "id": "6cfae0d2-1918-4a64-a8b1-ba21c9ec2535",
   "metadata": {},
   "outputs": [],
   "source": [
    "(visit_counts\n",
    " .T.describe().T\n",
    " .rename(columns={'min': 'min_visits'})\n",
    " .query('min_visits>0')\n",
    " .rename(columns={'min_visits': 'min'})\n",
    " .loc[:, ['min', '25%', '50%', 'mean', '75%', 'max']]\n",
    " .sort_values('min', ascending=False)\n",
    ")"
   ]
  },
  {
   "cell_type": "markdown",
   "id": "625fad93-f730-4c77-a442-68b394eee3d4",
   "metadata": {},
   "source": [
    "Matrix of fraction of coordinate/filter/exposure time combinations present in one simulation that are alse present in another.\n",
    "\n",
    "For example, column 0, row 1 has the fraction of such combinations present in completed visits that are also present is simulation 1."
   ]
  },
  {
   "cell_type": "code",
   "execution_count": null,
   "id": "1238a18f",
   "metadata": {},
   "outputs": [],
   "source": [
    "visit_counts"
   ]
  },
  {
   "cell_type": "code",
   "execution_count": null,
   "id": "24f71d81-94b8-4f28-a209-a977d481c779",
   "metadata": {},
   "outputs": [],
   "source": [
    "try:\n",
    "    print(schedview.compute.multisim.fraction_common(visit_counts, visit_counts.columns[0], visit_counts.columns[1]).item())\n",
    "except IndexError:\n",
    "    print(\"Too few simulations.\")"
   ]
  },
  {
   "cell_type": "code",
   "execution_count": null,
   "id": "58525d57-a3ec-454f-a12b-54fb6e2fd826",
   "metadata": {},
   "outputs": [],
   "source": [
    "schedview.compute.multisim.make_fraction_common_matrix(visit_counts, match_count=False)"
   ]
  },
  {
   "cell_type": "markdown",
   "id": "267f31f8-2bd7-4f62-822f-a3a58c2f4686",
   "metadata": {},
   "source": [
    "Matrix of fraction of coordinate/filter/exposure time combinations present in one simulation that are alse present in another, where repeats in both are considered additional matches and differences in number of repeats of a given combination are counted as occurrences in one but not the other."
   ]
  },
  {
   "cell_type": "code",
   "execution_count": null,
   "id": "2db9bff9-563e-4f72-8232-445894d04cdf",
   "metadata": {},
   "outputs": [],
   "source": [
    "schedview.compute.multisim.make_fraction_common_matrix(visit_counts)    "
   ]
  },
  {
   "cell_type": "markdown",
   "id": "e3f52a39-8f45-4b82-b0f4-0a984cfb64c4",
   "metadata": {},
   "source": [
    "## Timing offsets"
   ]
  },
  {
   "cell_type": "markdown",
   "id": "afe84b33-a54d-46f0-9ee2-ec99c544404f",
   "metadata": {},
   "source": [
    "The following table shows the stistics for differences in timing (in seconds) in corresponding visits between the completed visits (sim_index=0) and each other simulation.\n",
    "\n",
    "In matching visits to find which ones in different simulations correspond to each other, each visit is counted only once.\n",
    "When there are different total numbers of visits to the same field, the required number of visits of the simulation with more are dropped before matches are made.\n",
    "When the total combinations to be checked is small, visits to be dropped are selected to be optimal to make the remainder of the visits match.\n",
    "When there are too many total combinations to check in reasonable time, visits are dropped from the beginning or end."
   ]
  },
  {
   "cell_type": "code",
   "execution_count": null,
   "id": "79f97541",
   "metadata": {},
   "outputs": [],
   "source": [
    "visits.sim_index.nunique()"
   ]
  },
  {
   "cell_type": "code",
   "execution_count": null,
   "id": "5bca5e09-6f93-4b40-9a6e-2fbf674b7008",
   "metadata": {},
   "outputs": [],
   "source": [
    "if visits.sim_index.nunique() > 1:\n",
    "    matched_visit_dt_stats = schedview.compute.compute_matched_visit_delta_statistics(visits, sim_identifier_reference_value=0, visit_spec_columns=(\"fieldHpid\", \"band\"), nside=2**18)\n",
    "    print(matched_visit_dt_stats)\n",
    "else:\n",
    "    print(\"Too few simulations\")"
   ]
  },
  {
   "cell_type": "code",
   "execution_count": null,
   "id": "ce220822-8671-4547-9098-6d8d635605d8",
   "metadata": {},
   "outputs": [],
   "source": []
  }
 ],
 "metadata": {
  "kernelspec": {
   "display_name": "ehn312",
   "language": "python",
   "name": "python3"
  },
  "language_info": {
   "codemirror_mode": {
    "name": "ipython",
    "version": 3
   },
   "file_extension": ".py",
   "mimetype": "text/x-python",
   "name": "python",
   "nbconvert_exporter": "python",
   "pygments_lexer": "ipython3",
   "version": "3.12.7"
  }
 },
 "nbformat": 4,
 "nbformat_minor": 5
}
