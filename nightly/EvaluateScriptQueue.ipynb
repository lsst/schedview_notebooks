{
 "cells": [
  {
   "cell_type": "code",
   "execution_count": null,
   "id": "e4d21c3a-158c-4713-b704-b974d1f80644",
   "metadata": {},
   "outputs": [],
   "source": [
    "import numpy as np\n",
    "import pandas as pd\n",
    "from pandas import option_context\n",
    "from IPython.display import display, Markdown, HTML\n",
    "from astropy.time import Time, TimeDelta\n",
    "\n",
    "from lsst_efd_client import EfdClient"
   ]
  },
  {
   "cell_type": "code",
   "execution_count": null,
   "id": "1f3ed625-59a6-432a-b8b4-55d190c2509a",
   "metadata": {},
   "outputs": [],
   "source": [
    "# Connect to the EFD \n",
    "\n",
    "# efd_client = EfdClient('summit_efd') \n",
    "efd_client = EfdClient('usdf_efd')"
   ]
  },
  {
   "cell_type": "code",
   "execution_count": null,
   "id": "7fff5dbc-0967-4de3-baed-b67be6be5632",
   "metadata": {},
   "outputs": [],
   "source": [
    "# Set a range of dayobs values to search - \n",
    "day_obs_min = \"2024-11-04\"\n",
    "t_start = Time(f\"{day_obs_min}T12:00:00\", format='isot', scale='utc')\n",
    "day_obs_max = \"2024-11-04\"\n",
    "t_end = Time(f\"{day_obs_max}T12:00:00\", format='isot', scale='utc') + TimeDelta(0.8, format='jd')\n",
    "print(f\"Querying the EFD from {t_start.iso} to {t_end.iso}\")"
   ]
  },
  {
   "cell_type": "code",
   "execution_count": null,
   "id": "39c9f44b-5c40-49f0-834b-8b78ce785c8c",
   "metadata": {},
   "outputs": [],
   "source": [
    "# Query any EFD topic for the timespan day_obs_min to day_obs_max, when you don't already know the fields\n",
    "# topic = lsst.sal.ScriptQueue.command_add\n",
    "# fields = await efd_client.get_fields(topic)\n",
    "# fields = [f for f in fields if 'private' not in f and f != 'name' and f!= \"duration\"]\n",
    "# dd = await efd_client.select_time_series(topic, fields, tstart, tend)\n",
    "# or top 5 .. \n",
    "# dd = await efd_client.select_top_n(topic, fields, 5)"
   ]
  },
  {
   "cell_type": "code",
   "execution_count": null,
   "id": "4d72ea7f-889c-40bb-8278-6720fbb80f61",
   "metadata": {},
   "outputs": [],
   "source": [
    "# from https://github.com/lsst-ts/ts_xml/blob/develop/python/lsst/ts/xml/enums -- import would be better \n",
    "# Informational reference point .. \n",
    "import enum\n",
    "\n",
    "class ScriptProcessState(enum.IntEnum):\n",
    "    \"\"\"ScriptQueue script.processState event constants.\"\"\"\n",
    "\n",
    "    UNKNOWN = 0\n",
    "    LOADING = 1\n",
    "    CONFIGURED = 2\n",
    "    RUNNING = 3\n",
    "    DONE = 4\n",
    "    LOADFAILED = 5\n",
    "    CONFIGURE_FAILED = 6\n",
    "    TERMINATED = 7\n",
    "    CONFIGUREFAILED = 6  # deprecated alias for CONFIGURE_FAILED\n",
    "\n",
    "class ScriptState(enum.IntEnum):\n",
    "    \"\"\"ScriptState constants.\"\"\"\n",
    "\n",
    "    UNKNOWN = 0\n",
    "    UNCONFIGURED = 1\n",
    "    CONFIGURED = 2\n",
    "    RUNNING = 3\n",
    "    PAUSED = 4\n",
    "    ENDING = 5\n",
    "    STOPPING = 6\n",
    "    FAILING = 7\n",
    "    DONE = 8\n",
    "    STOPPED = 9\n",
    "    FAILED = 10\n",
    "    CONFIGURE_FAILED = 11"
   ]
  },
  {
   "cell_type": "code",
   "execution_count": null,
   "id": "b37e1a46-fd1b-42d5-9710-d1ab9be43905",
   "metadata": {},
   "outputs": [],
   "source": [
    "# find when this block was executed - should be in salindex 1 (although some daytime calibration happens in 3)\n",
    "\n",
    "# # This will find JSON BLOCKS added to the queue, but not scripts executed that did not use a JSON BLOCK\n",
    "topic = 'lsst.sal.Scheduler.command_addBlock'\n",
    "fields = ['executionId', 'id', 'salIndex']\n",
    "json_blocks = await efd_client.select_time_series(topic, fields, t_start, t_end)\n",
    "\n",
    "# And it turns out this is true for the ScriptQueue too\n",
    "topic = 'lsst.sal.ScriptQueue.command_add'\n",
    "fields = ['config', 'descr', 'salIndex', 'path', 'block', 'startBlock']\n",
    "scriptqueue_added = await efd_client.select_time_series(topic, fields, t_start, t_end)\n",
    "\n",
    "# It's larger, much more data, but search the script configure instead because that will find both JSON BLOCKs and scripts\n",
    "# This gets us more information about the script parameters \n",
    "topic = 'lsst.sal.Script.command_configure'\n",
    "fields = ['blockId', 'config',' executionId', 'salIndex']\n",
    "scriptconfig = await efd_client.select_time_series(topic, fields, t_start, t_end)\n",
    "scriptconfig[\"efd_config_time\"] = scriptconfig.index.copy()"
   ]
  },
  {
   "cell_type": "code",
   "execution_count": null,
   "id": "117d1129-5baf-4a0d-a23b-519ccfc2c1a4",
   "metadata": {},
   "outputs": [],
   "source": [
    "# To see what actual was configured or ran, we could look at the script queue 'queue' itself .. but it's pretty opaque \n",
    "# this is probably mostly useful for seeing - at a given time, what was running now and what was running just before\n",
    "# but you'll still have to trace the salindex values into the scriptSalIndex in the scriptqueue.logevent_script \n",
    "topic = 'lsst.sal.ScriptQueue.logevent_queue'\n",
    "fields = ['ScriptQueueID', 'currentSalIndex', 'enabled', 'priority', 'running', 'length', 'pastLength', 'pastSalIndices0', 'salIndices0',  'salIndex']\n",
    "scriptqueue = await efd_client.select_time_series(topic, fields, t_start, t_end)\n",
    "\n",
    "# So the best way to see all of the scripts that have been configured or run is here\n",
    "topic = 'lsst.sal.ScriptQueue.logevent_script'\n",
    "fields = await efd_client.get_fields(topic)\n",
    "fields = ['blockId', 'path', 'processState', 'scriptState', 'salIndex', 'scriptSalIndex', \n",
    "         'timestampProcessStart', 'timestampConfigureStart', 'timestampConfigureEnd', 'timestampRunStart', 'timestampProcessEnd' ]\n",
    "scripts = await efd_client.select_time_series(topic, fields, t_start, t_end)"
   ]
  },
  {
   "cell_type": "code",
   "execution_count": null,
   "id": "91f78894-8e9c-4d62-b36c-ae0e6c3df0c1",
   "metadata": {},
   "outputs": [],
   "source": [
    "display(scriptqueue.head())"
   ]
  },
  {
   "cell_type": "code",
   "execution_count": null,
   "id": "f611a971-4107-4d7d-a962-267cb4537d2e",
   "metadata": {},
   "outputs": [],
   "source": [
    "script_status = scripts.query('scriptState > 2').groupby('scriptSalIndex').agg({'path': 'first', 'salIndex': 'max', 'scriptState': 'unique', 'processState': 'unique', \n",
    "                                                                      'timestampProcessStart': 'max', 'timestampConfigureStart': 'max', 'timestampConfigureEnd': 'max', \n",
    "                                                                      'timestampRunStart': 'max', 'timestampProcessEnd': 'max'}).sort_values(by='timestampRunStart')\n",
    "script_status['timestamp_run'] = Time(run['timestampRunStart'], format='unix').iso\n",
    "cols = ['path', 'config', 'salIndex', 'salIndex_r', 'scriptState', 'processState', 'timestampProcessStart', 'timestampRunStart', 'timestampProcessEnd', 'timestamp_run', 'efd_config_time']\n",
    "script_info = pd.merge(script_status, scriptconfig, left_on='scriptSalIndex', right_on='salIndex', suffixes=['_r', ''])[cols]"
   ]
  },
  {
   "cell_type": "code",
   "execution_count": null,
   "id": "44708f76-7180-468d-bffd-0eacf8cd0001",
   "metadata": {},
   "outputs": [],
   "source": [
    "# But this is still ALL of the scripts that ran in the night, which include scripts to slew or recover from fault\n",
    "# This might work to pull out only \"do this kind of program\" ... \n",
    "ignore_scripts = ['set_summary_state.py', 'run_command.py', 'maintel/laser_tracker', \n",
    "                  'maintel/mtrotator', 'maintel/mtdome', 'maintel/home', 'maintel/m1m3/', 'auxtel']\n",
    "#script_info.query('path.str.contains(\"run_command.py\")')['config'].unique()\n",
    "sub = script_info\n",
    "for ig in ignore_scripts:\n",
    "    sub = sub.query('~path.str.contains(@ig)')\n",
    "sub.path.unique()"
   ]
  },
  {
   "cell_type": "code",
   "execution_count": null,
   "id": "62bbbecd-d7f6-4d72-a22b-e213adf11946",
   "metadata": {},
   "outputs": [],
   "source": [
    "with option_context('display.max_colwidth', None):\n",
    "    display(HTML(sub[cols].to_html()))"
   ]
  },
  {
   "cell_type": "code",
   "execution_count": null,
   "id": "d004ffd5-3126-4829-9068-7d9c8ef29bb6",
   "metadata": {},
   "outputs": [],
   "source": []
  }
 ],
 "metadata": {
  "kernelspec": {
   "display_name": "LSST",
   "language": "python",
   "name": "lsst"
  },
  "language_info": {
   "codemirror_mode": {
    "name": "ipython",
    "version": 3
   },
   "file_extension": ".py",
   "mimetype": "text/x-python",
   "name": "python",
   "nbconvert_exporter": "python",
   "pygments_lexer": "ipython3",
   "version": "3.11.9"
  }
 },
 "nbformat": 4,
 "nbformat_minor": 5
}
