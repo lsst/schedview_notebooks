{
 "cells": [
  {
   "cell_type": "code",
   "execution_count": null,
   "id": "9cc4ea27-e501-418a-b9c1-e1cbc38c0ea4",
   "metadata": {},
   "outputs": [],
   "source": [
    "# This cell is only for setting example parameter defaults - gets replaced by sidecar.\n",
    "day_obs_min = \"20250620\"\n",
    "day_obs_min = \"yesterday\"\n",
    "day_obs_max = \"today\"\n",
    "#day_obs_max = \"2024-12-10\"\n",
    "#instrument = \"latiss\"  \n",
    "#instrument = \"lsstcomcam\"\n",
    "instrument = \"lsstcam\""
   ]
  },
  {
   "cell_type": "markdown",
   "id": "5800adbd-9649-4b4c-89c4-def70a427330",
   "metadata": {},
   "source": [
    "# ConsDB Visit Metadata from {{ params.day_obs_min }} to {{ params.day_obs_max }}"
   ]
  },
  {
   "cell_type": "code",
   "execution_count": null,
   "id": "eb6e2bb6-eb19-4680-92d7-c7a5f51eb3eb",
   "metadata": {},
   "outputs": [],
   "source": [
    "import os\n",
    "import copy\n",
    "from math import floor\n",
    "import numpy as np\n",
    "import healpy as hp\n",
    "import matplotlib.pylab as plt\n",
    "from cycler import cycler\n",
    "import colorcet as cc\n",
    "\n",
    "import pandas as pd\n",
    "from pandas import option_context\n",
    "from IPython.display import display, Markdown, HTML\n",
    "\n",
    "import datetime\n",
    "from astropy.time import Time, TimeDelta\n",
    "import astropy.units as u\n",
    "import astropy\n",
    "astropy.utils.iers.conf.iers_degraded_accuracy = 'ignore'\n",
    "\n",
    "import logging\n",
    "\n",
    "from rubin_scheduler.site_models import Almanac\n",
    "from rubin_scheduler.utils import Site"
   ]
  },
  {
   "cell_type": "code",
   "execution_count": null,
   "id": "8cd2e2a1-6e76-4c99-ac95-4238cfd369f8",
   "metadata": {},
   "outputs": [],
   "source": [
    "import os\n",
    "if os.getenv(\"EXTERNAL_INSTANCE_URL\") is not None:\n",
    "    print(\"updating rubin_nights\")\n",
    "    !pip install --user --upgrade git+https://github.com/lsst-sims/rubin_nights.git  --no-deps  > /dev/null 2>&1\n",
    "\n",
    "from rubin_nights import connections\n",
    "import rubin_nights.dayobs_utils as rn_dayobs"
   ]
  },
  {
   "cell_type": "code",
   "execution_count": null,
   "id": "6432a534-57e5-4c18-8397-2628efb29acd",
   "metadata": {},
   "outputs": [],
   "source": [
    "if isinstance(day_obs_min, str):\n",
    "    if day_obs_min.lower() == \"today\":\n",
    "        day_obs_min = rn_dayobs.day_obs_str_to_int(rn_dayobs.today_day_obs())\n",
    "    elif day_obs_min.lower() == \"yesterday\":\n",
    "        day_obs_min = rn_dayobs.day_obs_str_to_int(rn_dayobs.yesterday_day_obs())\n",
    "if isinstance(day_obs_max, str):\n",
    "    if day_obs_max.lower() == \"today\":\n",
    "        day_obs_max = rn_dayobs.day_obs_str_to_int(rn_dayobs.today_day_obs())\n",
    "    elif day_obs_max.lower() == \"yesterday\":\n",
    "        day_obs_max = rn_dayobs.day_obs_str_to_int(rn_dayobs.yesterday_day_obs())\n",
    "\n",
    "try:\n",
    "    t_start = Time(f\"{rn_dayobs.day_obs_int_to_str(day_obs_min)}T12:00:00\", format='isot', scale='utc')\n",
    "except ValueError:\n",
    "    print(f\"Is day_obs_min the right format? {day_obs_min} should be YYYYMMDD\")\n",
    "    t_start = None\n",
    "try:\n",
    "    t_end = Time(f\"{rn_dayobs.day_obs_int_to_str(day_obs_max)}T12:00:00\", format='isot', scale='utc') + TimeDelta(1, format='jd')\n",
    "except ValueError:\n",
    "    print(f\"Is day_obs_max the right format? {day_obs_max} should be YYYYMMDD\")\n",
    "    t_start = None\n",
    "\n",
    "if t_start is None or t_end is None:\n",
    "    print(\"Did not get valid inputs for time period.\")"
   ]
  },
  {
   "cell_type": "code",
   "execution_count": null,
   "id": "246eb966-98c0-416b-bfa0-dd0fbb7e9b58",
   "metadata": {},
   "outputs": [],
   "source": [
    "day_min = Time(f\"{rn_dayobs.day_obs_int_to_str(day_obs_min)}T12:00:00\", format='isot', scale='utc')\n",
    "day_max = Time(f\"{rn_dayobs.day_obs_int_to_str(day_obs_max)}T12:00:00\", format='isot', scale='utc')\n",
    "one_day = TimeDelta(1, format='jd')\n",
    "days = day_min + one_day * np.arange(0, (day_max - day_min).jd + 1)\n",
    "day_obs_list = [d.iso[0:10] for d in days]"
   ]
  },
  {
   "cell_type": "markdown",
   "id": "d2a7d61a-7bd8-4c01-970f-477590e767f4",
   "metadata": {},
   "source": [
    "## Accessing visits from ConsDB (USDF)"
   ]
  },
  {
   "cell_type": "code",
   "execution_count": null,
   "id": "f265b6b5-e9be-40e2-ac14-9a1f47cb0d5a",
   "metadata": {},
   "outputs": [],
   "source": [
    "if 'usdf' in os.getenv(\"EXTERNAL_INSTANCE_URL\", \"\"):\n",
    "    os.environ[\"RUBIN_SIM_DATA_DIR\"] = \"/sdf/data/rubin/shared/rubin_sim_data\"\n",
    "\n",
    "# Hack for Lynne - but you can use your own token (outside of RSP)\n",
    "if os.getenv(\"EXTERNAL_INSTANCE_URL\") is None:\n",
    "    tokenfile = '/Users/lynnej/.lsst/usdf_rsp'\n",
    "    site = 'usdf'\n",
    "\n",
    "else:\n",
    "    tokenfile = None\n",
    "    site = None\n",
    "\n",
    "endpoints = connections.get_clients(tokenfile, site)\n",
    "consdb = endpoints['consdb']"
   ]
  },
  {
   "cell_type": "code",
   "execution_count": null,
   "id": "07f2aa2e-74b4-406c-8e0e-56fa377bc4ce",
   "metadata": {},
   "outputs": [],
   "source": [
    "visits = consdb.get_visits(instrument, day_min, day_max + one_day)\n",
    "\n",
    "if len(visits) > 0:\n",
    "    display(Markdown(f\"Retrieved {len(visits)} visits from consdb from {day_min.iso} to {(day_max + one_day).iso}\"))\n",
    "if len(visits) == 0:\n",
    "    display(Markdown(f\"No visits for {instrument} between {day_obs_min} to {day_obs_max} retrieved from consdb\"))"
   ]
  },
  {
   "cell_type": "code",
   "execution_count": null,
   "id": "8c2c560e-93fc-4325-aa7e-4fb6b7f5df46",
   "metadata": {},
   "outputs": [],
   "source": [
    "## Almanac ## \n",
    "display(Markdown(f\"## Daily information for {day_obs_min} to {day_obs_max}\"))\n",
    "site = Site('LSST')\n",
    "almanac = Almanac()\n",
    "alm = {}\n",
    "if len(visits) > 0:\n",
    "    for day_obs in day_obs_list:\n",
    "        alm[day_obs] = {}\n",
    "        night_events = almanac.get_sunset_info(evening_date=day_obs, longitude=site.longitude_rad)\n",
    "        horizon_sunset = Time(night_events['sunset'], format='mjd', scale='utc') \n",
    "        horizon_sunrise = Time(night_events['sunrise'], format='mjd', scale='utc')\n",
    "        sunset = Time(night_events['sun_n12_setting'], format='mjd', scale='utc') \n",
    "        sunrise = Time(night_events['sun_n12_rising'], format='mjd', scale='utc')\n",
    "        night_length = (sunrise.mjd - sunset.mjd) * 24\n",
    "        alm[day_obs]['horizon sunset'] = horizon_sunset.iso\n",
    "        alm[day_obs]['sunset'] = sunset.iso\n",
    "        alm[day_obs]['sunrise'] = sunrise.iso\n",
    "        close = horizon_sunrise - TimeDelta(2*60*60, format='sec')\n",
    "        alm[day_obs]['close'] = close\n",
    "        night_hours = (close.mjd - sunset.mjd)*24\n",
    "        if np.isnan(night_events['moonrise']):\n",
    "            alm[day_obs]['moon rise'] = np.nan\n",
    "        else:\n",
    "            alm[day_obs]['moon rise'] = Time(night_events['moonrise'], format='mjd', scale='utc').iso\n",
    "        if np.isnan(night_events['moonset']):\n",
    "            alm[day_obs]['moon set'] = np.nan\n",
    "        else:\n",
    "            alm[day_obs]['moon set'] = Time(night_events['moonset'], format='mjd', scale='utc').iso\n",
    "        moon_phase = almanac.get_sun_moon_positions(sunset.mjd)['moon_phase']\n",
    "        alm[day_obs]['moon phase'] = moon_phase.round(2)\n",
    "        dayobsint = int(day_obs.replace('-', ''))\n",
    "        vv = visits.query('day_obs == @dayobsint')\n",
    "        alm[day_obs]['programs'] = vv.science_program.unique()\n",
    "        alm[day_obs]['nvisits dayobs'] = len(vv)\n",
    "        visit_times = visits['exp_midpt']\n",
    "        vv = visits.query(\"day_obs == @dayobsint and exp_midpt_mjd >= @sunset.mjd and (img_type.str.contains('science') or img_type.str.contains('acq')) and can_see_sky == True\")\n",
    "        alm[day_obs]['nvisits night'] = len(vv)\n",
    "        alm[day_obs]['sunset to night visits'] = ((vv.exp_midpt_mjd.min() - sunset.mjd) * 24).round(3)\n",
    "        alm[day_obs]['night visits to close'] = ((close.mjd - vv.exp_midpt_mjd.max()) * 24).round(3)\n",
    "        alm[day_obs]['first to last visit @ night'] = round((vv.exp_midpt_mjd.max() - vv.exp_midpt_mjd.min()) * 24, 3)\n",
    "        alm[day_obs]['night length'] =  night_hours.round(3) # night_length.round(3)\n",
    "        alm[day_obs]['sci_frac'] = (vv.exp_time.sum() / (night_hours * 60 * 60)).round(3)\n",
    "    alm = pd.DataFrame(alm)\n",
    "    print(\"Night visits are after -12 deg sunset and type 'science'\")\n",
    "    print(\"Time durations are in hours\")\n",
    "    print(\"Sunset or rise without qualifier is 12 degree sunset or sunrise\")\n",
    "    print(\"Night length is -12 degree sunset to administrative close at 2 hours for 0-deg sunrise.\")\n",
    "    print(\"sci_frac is science exposure time / night length.\")\n",
    "    with option_context('display.max_colwidth', None):\n",
    "        display(HTML(alm.T.to_html()))"
   ]
  },
  {
   "cell_type": "code",
   "execution_count": null,
   "id": "5c07e1bb-7e78-440d-b13a-2d11431c5d89",
   "metadata": {},
   "outputs": [],
   "source": [
    "# plt.plot(alm.columns.values, alm.loc['sci eff'], 'k.')\n",
    "# _ = plt.xticks(rotation=45)\n",
    "# _ = plt.ylabel(\"OpenShutterFraction\", fontsize='large')"
   ]
  },
  {
   "cell_type": "code",
   "execution_count": null,
   "id": "df8a7023-0340-49e9-9fce-03d619daeada",
   "metadata": {},
   "outputs": [],
   "source": [
    "c = None\n",
    "if len(visits) > 0:\n",
    "    groupcols = ['science_program', 'img_type', 'target_name', 'observation_reason', 'day_obs', 'visit_id'] \n",
    "    c = visits[groupcols].groupby(['science_program', 'img_type'], dropna=False).agg({'science_program' : ['first'],\n",
    "                                                                        'target_name' : ['unique'], \n",
    "                                                                        'observation_reason' : ['unique'],\n",
    "                                                                        'day_obs' : ['nunique'],\n",
    "                                                                        'visit_id' : ['first', 'last', 'count']})"
   ]
  },
  {
   "cell_type": "code",
   "execution_count": null,
   "id": "a2507cca-d87a-4221-a264-84f538c038fb",
   "metadata": {},
   "outputs": [],
   "source": [
    "# This might work .. to help translate test block numbers above into more meaningful programs\n",
    "testcase_base_url = \"https://rubinobs.atlassian.net/projects/BLOCK?selectedItem=com.atlassian.plugins.atlassian-connect-plugin:com.kanoah.test-manager__main-project-page#!/v2/testCase/\"\n",
    "jiraticket_base_url = \"https://rubinobs.atlassian.net/browse/\"\n",
    "\n",
    "if len(visits) > 0:\n",
    "    jira_urls = {}\n",
    "    for science_program in c.sort_values(by=('visit_id', 'first'))[('science_program', 'first')].values: # visits.science_program.unique():\n",
    "        if science_program is not None and science_program.startswith(\"BLOCK-T\"):\n",
    "            jira_urls[science_program] = testcase_base_url + science_program\n",
    "        elif science_program is not None and science_program.startswith(\"BLOCK-\"):\n",
    "            jira_urls[science_program] = jiraticket_base_url + science_program\n",
    "        else:\n",
    "            jira_urls[science_program] = ''\n",
    "            #display(Markdown(f\"[{science_program}]({jira_url}) - {test_name} ({len(visits.query('science_program == @science_program'))} visits)\"))"
   ]
  },
  {
   "cell_type": "code",
   "execution_count": null,
   "id": "12796f3b-0c9c-420e-90df-d638d67af1a0",
   "metadata": {},
   "outputs": [],
   "source": [
    "if len(visits) > 0:\n",
    "    jira_url_col = np.array([\"X\" *  (max([len(v) for v in jira_urls.values()])+100)] * len(c))\n",
    "    for i, (ri, row) in enumerate(c.iterrows()):\n",
    "        sp = row[('science_program', 'first')]\n",
    "        if sp in jira_urls.keys():\n",
    "            jira_url_col[i] = f'<a href=\"{jira_urls[sp]}\" target=\"_blank\" rel=\"noreferrer noopener\">{sp}</a>'\n",
    "        else:\n",
    "            jira_url_col[i] = ''\n",
    "    c['JIRA'] = jira_url_col"
   ]
  },
  {
   "cell_type": "code",
   "execution_count": null,
   "id": "bc927b11-00f0-449d-a6eb-0997f6c96583",
   "metadata": {},
   "outputs": [],
   "source": [
    "if len(visits) > 0:\n",
    "    display(Markdown(f\"ConsDB Visits\"))\n",
    "    with option_context('display.max_colwidth', None):\n",
    "        cols = [('JIRA', ''), ('target_name', 'unique'), ('observation_reason', 'unique'), ('day_obs', 'nunique'),\n",
    "                ('visit_id', 'first'), ('visit_id', 'last'), ('visit_id', 'count')]\n",
    "        display(HTML(c[cols].sort_values(by=('visit_id', 'first')).to_html(escape=False)))"
   ]
  },
  {
   "cell_type": "markdown",
   "id": "571cdb55-1bb4-406c-88a9-ddee73cca7f5",
   "metadata": {},
   "source": [
    "## Visits vs Time properties\n",
    "\n",
    "This is a visits vs time example from schedview, using better Rubin color mapping for the various filters.  Due to memory and size, this runs on the last three nights only. (download notebook and run yourself for more). "
   ]
  },
  {
   "cell_type": "code",
   "execution_count": null,
   "id": "423c39e3-b18a-4324-8583-5793bcfe0475",
   "metadata": {},
   "outputs": [],
   "source": [
    "if os.getenv(\"EXTERNAL_INSTANCE_URL\") is None:\n",
    "    os.environ[\"SCHEDVIEW_DATASOURCE_URL\"] = endpoints['api_base']\n",
    "    os.environ[\"SCHEDVIEW_EFD_NAME\"] = 'usdf_efd'\n",
    "\n",
    "import warnings\n",
    "import bokeh.io\n",
    "\n",
    "bokeh.io.output_notebook()\n",
    "\n",
    "logging.getLogger('rubin_sim').setLevel(logging.ERROR)\n",
    "logging.getLogger('schedview').setLevel(logging.ERROR)\n",
    "\n",
    "with warnings.catch_warnings():\n",
    "    warnings.simplefilter(\"ignore\")\n",
    "    import schedview.plot\n",
    "\n",
    "from rubin_sim.maf import ObservationStartTimestampStacker\n",
    "\n",
    "print(\"Shows only the last 3 nights of the timespan\")\n",
    "\n",
    "# Hack the tooltip - Eric will fix this a different way soon.\n",
    "def visits_tooltips() -> list:\n",
    "    deg = \"\\u00b0\"\n",
    "    tooltips = [\n",
    "        (\n",
    "            \"Start time\",\n",
    "            \"@start_timestamp{%F %T} UTC\"\n",
    "        ),\n",
    "        (\"VisitId\", \"@visit_id\"),\n",
    "        (\"Band\", \"@band\"),\n",
    "        (\n",
    "            \"Field coordinates\",\n",
    "            \"RA=@s_ra\" + deg + \", Decl=@s_dec\" + deg + \", Az=@azimuth\" + deg + \", Alt=@altitude\" + deg,\n",
    "        ),\n",
    "        (\"Target name\", \"@target_name\"),\n",
    "        (\"Observation reason\", \"@observation_reason\"),\n",
    "        (\"Science program\", \"@science_program\"),\n",
    "        (\"Scheduler note\", \"@scheduler_note\"),\n",
    "    ]\n",
    "    return tooltips\n",
    "\n",
    "schedview.plot.visits.visits_tooltips = visits_tooltips\n",
    "\n",
    "if len(visits):\n",
    "    timestamp_stacker = ObservationStartTimestampStacker(mjd_col=\"obs_start_mjd\",)\n",
    "    dayobs_cutoff = int((day_max - TimeDelta(3, format='jd')).iso[0:10].replace('-', ''))\n",
    "    vv = visits.query('day_obs > @dayobs_cutoff').copy()\n",
    "    vv = timestamp_stacker.run(vv, override=True)\n",
    "    if len(vv):\n",
    "        col = 'fwhm_eff'\n",
    "        if col not in vv.columns:\n",
    "            col = 'airmass'\n",
    "        plot = bokeh.plotting.figure(y_axis_label=col, x_axis_label=\"Time (UTC)\", height=600, width=1200)\n",
    "        fig = schedview.plot.plot_visit_param_vs_time(vv, col, show_column_selector=True, hovertool=True, plot=plot)\n",
    "        bokeh.io.show(fig)\n",
    "else:\n",
    "    print(\"No visits\")"
   ]
  },
  {
   "cell_type": "code",
   "execution_count": null,
   "id": "78a7e7cb-ec13-4aa1-9854-6c5294b439c1",
   "metadata": {},
   "outputs": [],
   "source": []
  }
 ],
 "metadata": {
  "kernelspec": {
   "display_name": "Python 3 (ipykernel)",
   "language": "python",
   "name": "python3"
  },
  "language_info": {
   "codemirror_mode": {
    "name": "ipython",
    "version": 3
   },
   "file_extension": ".py",
   "mimetype": "text/x-python",
   "name": "python",
   "nbconvert_exporter": "python",
   "pygments_lexer": "ipython3",
   "version": "3.13.1"
  }
 },
 "nbformat": 4,
 "nbformat_minor": 5
}
