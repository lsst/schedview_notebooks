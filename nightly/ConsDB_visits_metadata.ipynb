{
 "cells": [
  {
   "cell_type": "code",
   "execution_count": 1,
   "id": "9cc4ea27-e501-418a-b9c1-e1cbc38c0ea4",
   "metadata": {},
   "outputs": [],
   "source": [
    "# This cell is only for setting example parameter defaults - gets replaced by sidecar.\n",
    "day_obs_min = \"20250620\"\n",
    "#day_obs_min = \"Yesterday\"\n",
    "day_obs_max = \"today\"\n",
    "#day_obs_max = \"2024-12-10\"\n",
    "#instrument = \"latiss\"  \n",
    "#instrument = \"lsstcomcam\"\n",
    "instrument = \"lsstcam\""
   ]
  },
  {
   "cell_type": "markdown",
   "id": "5800adbd-9649-4b4c-89c4-def70a427330",
   "metadata": {},
   "source": [
    "# ConsDB Visit Metadata from {{ params.day_obs_min }} to {{ params.day_obs_max }}"
   ]
  },
  {
   "cell_type": "code",
   "execution_count": 2,
   "id": "eb6e2bb6-eb19-4680-92d7-c7a5f51eb3eb",
   "metadata": {},
   "outputs": [],
   "source": [
    "import os\n",
    "import copy\n",
    "from math import floor\n",
    "import numpy as np\n",
    "import healpy as hp\n",
    "import matplotlib.pylab as plt\n",
    "from cycler import cycler\n",
    "import colorcet as cc\n",
    "\n",
    "import pandas as pd\n",
    "from pandas import option_context\n",
    "from IPython.display import display, Markdown, HTML\n",
    "\n",
    "import datetime\n",
    "from astropy.time import Time, TimeDelta\n",
    "import astropy.units as u\n",
    "import astropy\n",
    "astropy.utils.iers.conf.iers_degraded_accuracy = 'ignore'\n",
    "\n",
    "\n",
    "from rubin_scheduler.site_models import Almanac\n",
    "from rubin_scheduler.utils import Site"
   ]
  },
  {
   "cell_type": "code",
   "execution_count": 3,
   "id": "8cd2e2a1-6e76-4c99-ac95-4238cfd369f8",
   "metadata": {},
   "outputs": [],
   "source": [
    "import os\n",
    "if os.getenv(\"EXTERNAL_INSTANCE_URL\") is not None:\n",
    "    print(\"updating rubin_nights\")\n",
    "    !pip install --user --upgrade git+https://github.com/lsst-sims/rubin_nights.git  --no-deps  > /dev/null 2>&1\n",
    "\n",
    "from rubin_nights import connections\n",
    "import rubin_nights.dayobs_utils as rn_dayobs"
   ]
  },
  {
   "cell_type": "code",
   "execution_count": 4,
   "id": "6432a534-57e5-4c18-8397-2628efb29acd",
   "metadata": {},
   "outputs": [],
   "source": [
    "if isinstance(day_obs_min, str):\n",
    "    if day_obs_min.lower() == \"today\":\n",
    "        day_obs_min = rn_dayobs.day_obs_str_to_int(rn_dayobs.today_day_obs())\n",
    "    elif day_obs_min.lower() == \"yesterday\":\n",
    "        day_obs_min = rn_dayobs.day_obs_str_to_int(rn_dayobs.yesterday_day_obs())\n",
    "if isinstance(day_obs_max, str):\n",
    "    if day_obs_max.lower() == \"today\":\n",
    "        day_obs_max = rn_dayobs.day_obs_str_to_int(rn_dayobs.today_day_obs())\n",
    "    elif day_obs_max.lower() == \"yesterday\":\n",
    "        day_obs_max = rn_dayobs.day_obs_str_to_int(rn_dayobs.yesterday_day_obs())\n",
    "\n",
    "try:\n",
    "    t_start = Time(f\"{rn_dayobs.day_obs_int_to_str(day_obs_min)}T12:00:00\", format='isot', scale='utc')\n",
    "except ValueError:\n",
    "    print(f\"Is day_obs_min the right format? {day_obs_min} should be YYYYMMDD\")\n",
    "    t_start = None\n",
    "try:\n",
    "    t_end = Time(f\"{rn_dayobs.day_obs_int_to_str(day_obs_max)}T12:00:00\", format='isot', scale='utc') + TimeDelta(1, format='jd')\n",
    "except ValueError:\n",
    "    print(f\"Is day_obs_max the right format? {day_obs_max} should be YYYYMMDD\")\n",
    "    t_start = None\n",
    "\n",
    "if t_start is None or t_end is None:\n",
    "    print(\"Did not get valid inputs for time period.\")"
   ]
  },
  {
   "cell_type": "code",
   "execution_count": 5,
   "id": "246eb966-98c0-416b-bfa0-dd0fbb7e9b58",
   "metadata": {},
   "outputs": [
    {
     "ename": "ValueError",
     "evalue": "Input values did not match the format class isot:\nValueError: Time 20250620T12:00:00 does not match isot format",
     "output_type": "error",
     "traceback": [
      "\u001b[31m---------------------------------------------------------------------------\u001b[39m",
      "\u001b[31mValueError\u001b[39m                                Traceback (most recent call last)",
      "\u001b[36mFile \u001b[39m\u001b[32m~/miniconda3/envs/rubin-sim/lib/python3.13/site-packages/astropy/time/formats.py:1583\u001b[39m, in \u001b[36mTimeString.set_jds\u001b[39m\u001b[34m(self, val1, val2)\u001b[39m\n\u001b[32m   1582\u001b[39m \u001b[38;5;28;01mtry\u001b[39;00m:\n\u001b[32m-> \u001b[39m\u001b[32m1583\u001b[39m     jd1, jd2 = \u001b[38;5;28;43mself\u001b[39;49m\u001b[43m.\u001b[49m\u001b[43mget_jds_fast\u001b[49m\u001b[43m(\u001b[49m\u001b[43mval1\u001b[49m\u001b[43m,\u001b[49m\u001b[43m \u001b[49m\u001b[43mval2\u001b[49m\u001b[43m)\u001b[49m\n\u001b[32m   1584\u001b[39m \u001b[38;5;28;01mexcept\u001b[39;00m \u001b[38;5;167;01mException\u001b[39;00m:\n\u001b[32m   1585\u001b[39m     \u001b[38;5;66;03m# Fall through to the Python parser unless fast is forced.\u001b[39;00m\n",
      "\u001b[36mFile \u001b[39m\u001b[32m~/miniconda3/envs/rubin-sim/lib/python3.13/site-packages/astropy/time/formats.py:1651\u001b[39m, in \u001b[36mTimeString.get_jds_fast\u001b[39m\u001b[34m(self, val1, val2)\u001b[39m\n\u001b[32m   1650\u001b[39m \u001b[38;5;66;03m# Call the fast parsing ufunc.\u001b[39;00m\n\u001b[32m-> \u001b[39m\u001b[32m1651\u001b[39m time_struct = \u001b[38;5;28;43mself\u001b[39;49m\u001b[43m.\u001b[49m\u001b[43m_fast_parser\u001b[49m\u001b[43m(\u001b[49m\u001b[43mchars\u001b[49m\u001b[43m)\u001b[49m\n\u001b[32m   1652\u001b[39m jd1, jd2 = erfa.dtf2d(\n\u001b[32m   1653\u001b[39m     \u001b[38;5;28mself\u001b[39m.scale.upper().encode(\u001b[33m\"\u001b[39m\u001b[33mascii\u001b[39m\u001b[33m\"\u001b[39m),\n\u001b[32m   1654\u001b[39m     time_struct[\u001b[33m\"\u001b[39m\u001b[33myear\u001b[39m\u001b[33m\"\u001b[39m],\n\u001b[32m   (...)\u001b[39m\u001b[32m   1659\u001b[39m     time_struct[\u001b[33m\"\u001b[39m\u001b[33msecond\u001b[39m\u001b[33m\"\u001b[39m],\n\u001b[32m   1660\u001b[39m )\n",
      "\u001b[31mValueError\u001b[39m: fast C time string parser failed: required delimiter character not found",
      "\nDuring handling of the above exception, another exception occurred:\n",
      "\u001b[31mValueError\u001b[39m                                Traceback (most recent call last)",
      "\u001b[36mFile \u001b[39m\u001b[32m~/miniconda3/envs/rubin-sim/lib/python3.13/site-packages/astropy/time/core.py:636\u001b[39m, in \u001b[36mTimeBase._get_time_fmt\u001b[39m\u001b[34m(self, val, val2, format, scale, precision, in_subfmt, out_subfmt, mask)\u001b[39m\n\u001b[32m    635\u001b[39m         val, val2 = \u001b[38;5;28mcls\u001b[39m._fill_masked_values(oval, oval2, mask, in_subfmt)\n\u001b[32m--> \u001b[39m\u001b[32m636\u001b[39m     \u001b[38;5;28;01mreturn\u001b[39;00m \u001b[38;5;28;43mcls\u001b[39;49m\u001b[43m(\u001b[49m\u001b[43mval\u001b[49m\u001b[43m,\u001b[49m\u001b[43m \u001b[49m\u001b[43mval2\u001b[49m\u001b[43m,\u001b[49m\u001b[43m \u001b[49m\u001b[43mscale\u001b[49m\u001b[43m,\u001b[49m\u001b[43m \u001b[49m\u001b[43mprecision\u001b[49m\u001b[43m,\u001b[49m\u001b[43m \u001b[49m\u001b[43min_subfmt\u001b[49m\u001b[43m,\u001b[49m\u001b[43m \u001b[49m\u001b[43mout_subfmt\u001b[49m\u001b[43m)\u001b[49m\n\u001b[32m    637\u001b[39m \u001b[38;5;28;01mexcept\u001b[39;00m UnitConversionError:\n",
      "\u001b[36mFile \u001b[39m\u001b[32m~/miniconda3/envs/rubin-sim/lib/python3.13/site-packages/astropy/time/formats.py:171\u001b[39m, in \u001b[36mTimeFormat.__init__\u001b[39m\u001b[34m(self, val1, val2, scale, precision, in_subfmt, out_subfmt, from_jd)\u001b[39m\n\u001b[32m    170\u001b[39m val1, val2 = \u001b[38;5;28mself\u001b[39m._check_val_type(val1, val2)\n\u001b[32m--> \u001b[39m\u001b[32m171\u001b[39m \u001b[38;5;28;43mself\u001b[39;49m\u001b[43m.\u001b[49m\u001b[43mset_jds\u001b[49m\u001b[43m(\u001b[49m\u001b[43mval1\u001b[49m\u001b[43m,\u001b[49m\u001b[43m \u001b[49m\u001b[43mval2\u001b[49m\u001b[43m)\u001b[49m\n",
      "\u001b[36mFile \u001b[39m\u001b[32m~/miniconda3/envs/rubin-sim/lib/python3.13/site-packages/astropy/time/formats.py:1589\u001b[39m, in \u001b[36mTimeString.set_jds\u001b[39m\u001b[34m(self, val1, val2)\u001b[39m\n\u001b[32m   1588\u001b[39m         \u001b[38;5;28;01melse\u001b[39;00m:\n\u001b[32m-> \u001b[39m\u001b[32m1589\u001b[39m             jd1, jd2 = \u001b[38;5;28;43mself\u001b[39;49m\u001b[43m.\u001b[49m\u001b[43mget_jds_python\u001b[49m\u001b[43m(\u001b[49m\u001b[43mval1\u001b[49m\u001b[43m,\u001b[49m\u001b[43m \u001b[49m\u001b[43mval2\u001b[49m\u001b[43m)\u001b[49m\n\u001b[32m   1591\u001b[39m \u001b[38;5;28mself\u001b[39m.jd1 = jd1\n",
      "\u001b[36mFile \u001b[39m\u001b[32m~/miniconda3/envs/rubin-sim/lib/python3.13/site-packages/astropy/time/formats.py:1618\u001b[39m, in \u001b[36mTimeString.get_jds_python\u001b[39m\u001b[34m(self, val1, val2)\u001b[39m\n\u001b[32m   1610\u001b[39m     val = to_string(val)\n\u001b[32m   1611\u001b[39m     (\n\u001b[32m   1612\u001b[39m         iy[...],\n\u001b[32m   1613\u001b[39m         im[...],\n\u001b[32m   1614\u001b[39m         \u001b[38;5;28mid\u001b[39m[...],\n\u001b[32m   1615\u001b[39m         ihr[...],\n\u001b[32m   1616\u001b[39m         imin[...],\n\u001b[32m   1617\u001b[39m         dsec[...],\n\u001b[32m-> \u001b[39m\u001b[32m1618\u001b[39m     ) = \u001b[38;5;28;43mself\u001b[39;49m\u001b[43m.\u001b[49m\u001b[43mparse_string\u001b[49m\u001b[43m(\u001b[49m\u001b[43mval\u001b[49m\u001b[43m,\u001b[49m\u001b[43m \u001b[49m\u001b[43msubfmts\u001b[49m\u001b[43m)\u001b[49m\n\u001b[32m   1620\u001b[39m jd1, jd2 = erfa.dtf2d(\n\u001b[32m   1621\u001b[39m     \u001b[38;5;28mself\u001b[39m.scale.upper().encode(\u001b[33m\"\u001b[39m\u001b[33mascii\u001b[39m\u001b[33m\"\u001b[39m), *iterator.operands[\u001b[32m1\u001b[39m:]\n\u001b[32m   1622\u001b[39m )\n",
      "\u001b[36mFile \u001b[39m\u001b[32m~/miniconda3/envs/rubin-sim/lib/python3.13/site-packages/astropy/time/formats.py:1778\u001b[39m, in \u001b[36mTimeISO.parse_string\u001b[39m\u001b[34m(self, timestr, subfmts)\u001b[39m\n\u001b[32m   1777\u001b[39m     timestr = timestr[:-\u001b[32m1\u001b[39m]\n\u001b[32m-> \u001b[39m\u001b[32m1778\u001b[39m \u001b[38;5;28;01mreturn\u001b[39;00m \u001b[38;5;28;43msuper\u001b[39;49m\u001b[43m(\u001b[49m\u001b[43m)\u001b[49m\u001b[43m.\u001b[49m\u001b[43mparse_string\u001b[49m\u001b[43m(\u001b[49m\u001b[43mtimestr\u001b[49m\u001b[43m,\u001b[49m\u001b[43m \u001b[49m\u001b[43msubfmts\u001b[49m\u001b[43m)\u001b[49m\n",
      "\u001b[36mFile \u001b[39m\u001b[32m~/miniconda3/envs/rubin-sim/lib/python3.13/site-packages/astropy/time/formats.py:1567\u001b[39m, in \u001b[36mTimeString.parse_string\u001b[39m\u001b[34m(self, timestr, subfmts)\u001b[39m\n\u001b[32m   1566\u001b[39m     \u001b[38;5;28;01mreturn\u001b[39;00m vals\n\u001b[32m-> \u001b[39m\u001b[32m1567\u001b[39m \u001b[38;5;28;01mraise\u001b[39;00m \u001b[38;5;167;01mValueError\u001b[39;00m(\u001b[33mf\u001b[39m\u001b[33m\"\u001b[39m\u001b[33mTime \u001b[39m\u001b[38;5;132;01m{\u001b[39;00mtimestr\u001b[38;5;132;01m}\u001b[39;00m\u001b[33m does not match \u001b[39m\u001b[38;5;132;01m{\u001b[39;00m\u001b[38;5;28mself\u001b[39m.name\u001b[38;5;132;01m}\u001b[39;00m\u001b[33m format\u001b[39m\u001b[33m\"\u001b[39m)\n",
      "\u001b[31mValueError\u001b[39m: Time 20250620T12:00:00 does not match isot format",
      "\nThe above exception was the direct cause of the following exception:\n",
      "\u001b[31mValueError\u001b[39m                                Traceback (most recent call last)",
      "\u001b[36mCell\u001b[39m\u001b[36m \u001b[39m\u001b[32mIn[5]\u001b[39m\u001b[32m, line 4\u001b[39m\n\u001b[32m      1\u001b[39m minutes_to_days = \u001b[32m1.\u001b[39m/\u001b[32m60\u001b[39m/\u001b[32m24\u001b[39m\n\u001b[32m      2\u001b[39m seconds_to_days = \u001b[32m1.\u001b[39m/\u001b[32m60\u001b[39m/\u001b[32m60\u001b[39m/\u001b[32m24\u001b[39m\n\u001b[32m----> \u001b[39m\u001b[32m4\u001b[39m day_min = \u001b[43mTime\u001b[49m\u001b[43m(\u001b[49m\u001b[33;43mf\u001b[39;49m\u001b[33;43m\"\u001b[39;49m\u001b[38;5;132;43;01m{\u001b[39;49;00m\u001b[43mday_obs_min\u001b[49m\u001b[38;5;132;43;01m}\u001b[39;49;00m\u001b[33;43mT12:00:00\u001b[39;49m\u001b[33;43m\"\u001b[39;49m\u001b[43m,\u001b[49m\u001b[43m \u001b[49m\u001b[38;5;28;43mformat\u001b[39;49m\u001b[43m=\u001b[49m\u001b[33;43m'\u001b[39;49m\u001b[33;43misot\u001b[39;49m\u001b[33;43m'\u001b[39;49m\u001b[43m,\u001b[49m\u001b[43m \u001b[49m\u001b[43mscale\u001b[49m\u001b[43m=\u001b[49m\u001b[33;43m'\u001b[39;49m\u001b[33;43mutc\u001b[39;49m\u001b[33;43m'\u001b[39;49m\u001b[43m)\u001b[49m\n\u001b[32m      5\u001b[39m day_max = Time(\u001b[33mf\u001b[39m\u001b[33m\"\u001b[39m\u001b[38;5;132;01m{\u001b[39;00mday_obs_max\u001b[38;5;132;01m}\u001b[39;00m\u001b[33mT12:00:00\u001b[39m\u001b[33m\"\u001b[39m, \u001b[38;5;28mformat\u001b[39m=\u001b[33m'\u001b[39m\u001b[33misot\u001b[39m\u001b[33m'\u001b[39m, scale=\u001b[33m'\u001b[39m\u001b[33mutc\u001b[39m\u001b[33m'\u001b[39m)\n\u001b[32m      6\u001b[39m one_day = TimeDelta(\u001b[32m1\u001b[39m, \u001b[38;5;28mformat\u001b[39m=\u001b[33m'\u001b[39m\u001b[33mjd\u001b[39m\u001b[33m'\u001b[39m)\n",
      "\u001b[36mFile \u001b[39m\u001b[32m~/miniconda3/envs/rubin-sim/lib/python3.13/site-packages/astropy/time/core.py:1987\u001b[39m, in \u001b[36mTime.__init__\u001b[39m\u001b[34m(self, val, val2, format, scale, precision, in_subfmt, out_subfmt, location, copy)\u001b[39m\n\u001b[32m   1985\u001b[39m         \u001b[38;5;28mself\u001b[39m._set_scale(scale)\n\u001b[32m   1986\u001b[39m \u001b[38;5;28;01melse\u001b[39;00m:\n\u001b[32m-> \u001b[39m\u001b[32m1987\u001b[39m     \u001b[38;5;28;43mself\u001b[39;49m\u001b[43m.\u001b[49m\u001b[43m_init_from_vals\u001b[49m\u001b[43m(\u001b[49m\n\u001b[32m   1988\u001b[39m \u001b[43m        \u001b[49m\u001b[43mval\u001b[49m\u001b[43m,\u001b[49m\u001b[43m \u001b[49m\u001b[43mval2\u001b[49m\u001b[43m,\u001b[49m\u001b[43m \u001b[49m\u001b[38;5;28;43mformat\u001b[39;49m\u001b[43m,\u001b[49m\u001b[43m \u001b[49m\u001b[43mscale\u001b[49m\u001b[43m,\u001b[49m\u001b[43m \u001b[49m\u001b[43mcopy\u001b[49m\u001b[43m,\u001b[49m\u001b[43m \u001b[49m\u001b[43mprecision\u001b[49m\u001b[43m,\u001b[49m\u001b[43m \u001b[49m\u001b[43min_subfmt\u001b[49m\u001b[43m,\u001b[49m\u001b[43m \u001b[49m\u001b[43mout_subfmt\u001b[49m\n\u001b[32m   1989\u001b[39m \u001b[43m    \u001b[49m\u001b[43m)\u001b[49m\n\u001b[32m   1990\u001b[39m     \u001b[38;5;28mself\u001b[39m.SCALES = TIME_TYPES[\u001b[38;5;28mself\u001b[39m.scale]\n\u001b[32m   1992\u001b[39m \u001b[38;5;28;01mif\u001b[39;00m \u001b[38;5;28mself\u001b[39m.location \u001b[38;5;129;01mis\u001b[39;00m \u001b[38;5;129;01mnot\u001b[39;00m \u001b[38;5;28;01mNone\u001b[39;00m \u001b[38;5;129;01mand\u001b[39;00m (\n\u001b[32m   1993\u001b[39m     \u001b[38;5;28mself\u001b[39m.location.size > \u001b[32m1\u001b[39m \u001b[38;5;129;01mand\u001b[39;00m \u001b[38;5;28mself\u001b[39m.location.shape != \u001b[38;5;28mself\u001b[39m.shape\n\u001b[32m   1994\u001b[39m ):\n",
      "\u001b[36mFile \u001b[39m\u001b[32m~/miniconda3/envs/rubin-sim/lib/python3.13/site-packages/astropy/time/core.py:560\u001b[39m, in \u001b[36mTimeBase._init_from_vals\u001b[39m\u001b[34m(self, val, val2, format, scale, copy, precision, in_subfmt, out_subfmt)\u001b[39m\n\u001b[32m    557\u001b[39m mask = combine_masks([mask1, mask2])\n\u001b[32m    559\u001b[39m \u001b[38;5;66;03m# Parse / convert input values into internal jd1, jd2 based on format\u001b[39;00m\n\u001b[32m--> \u001b[39m\u001b[32m560\u001b[39m \u001b[38;5;28mself\u001b[39m._time = \u001b[38;5;28;43mself\u001b[39;49m\u001b[43m.\u001b[49m\u001b[43m_get_time_fmt\u001b[49m\u001b[43m(\u001b[49m\n\u001b[32m    561\u001b[39m \u001b[43m    \u001b[49m\u001b[43mdata1\u001b[49m\u001b[43m,\u001b[49m\u001b[43m \u001b[49m\u001b[43mdata2\u001b[49m\u001b[43m,\u001b[49m\u001b[43m \u001b[49m\u001b[38;5;28;43mformat\u001b[39;49m\u001b[43m,\u001b[49m\u001b[43m \u001b[49m\u001b[43mscale\u001b[49m\u001b[43m,\u001b[49m\u001b[43m \u001b[49m\u001b[43mprecision\u001b[49m\u001b[43m,\u001b[49m\u001b[43m \u001b[49m\u001b[43min_subfmt\u001b[49m\u001b[43m,\u001b[49m\u001b[43m \u001b[49m\u001b[43mout_subfmt\u001b[49m\u001b[43m,\u001b[49m\u001b[43m \u001b[49m\u001b[43mmask\u001b[49m\n\u001b[32m    562\u001b[39m \u001b[43m\u001b[49m\u001b[43m)\u001b[49m\n\u001b[32m    563\u001b[39m \u001b[38;5;28mself\u001b[39m._format = \u001b[38;5;28mself\u001b[39m._time.name\n\u001b[32m    565\u001b[39m \u001b[38;5;66;03m# Hack from #9969 to allow passing the location value that has been\u001b[39;00m\n\u001b[32m    566\u001b[39m \u001b[38;5;66;03m# collected by the TimeAstropyTime format class up to the Time level.\u001b[39;00m\n\u001b[32m    567\u001b[39m \u001b[38;5;66;03m# TODO: find a nicer way.\u001b[39;00m\n",
      "\u001b[36mFile \u001b[39m\u001b[32m~/miniconda3/envs/rubin-sim/lib/python3.13/site-packages/astropy/time/core.py:644\u001b[39m, in \u001b[36mTimeBase._get_time_fmt\u001b[39m\u001b[34m(self, val, val2, format, scale, precision, in_subfmt, out_subfmt, mask)\u001b[39m\n\u001b[32m    639\u001b[39m \u001b[38;5;28;01mexcept\u001b[39;00m (\u001b[38;5;167;01mValueError\u001b[39;00m, \u001b[38;5;167;01mTypeError\u001b[39;00m) \u001b[38;5;28;01mas\u001b[39;00m err:\n\u001b[32m    640\u001b[39m     \u001b[38;5;66;03m# If ``format`` specified then there is only one possibility, so raise\u001b[39;00m\n\u001b[32m    641\u001b[39m     \u001b[38;5;66;03m# immediately and include the upstream exception message to make it\u001b[39;00m\n\u001b[32m    642\u001b[39m     \u001b[38;5;66;03m# easier for user to see what is wrong.\u001b[39;00m\n\u001b[32m    643\u001b[39m     \u001b[38;5;28;01mif\u001b[39;00m \u001b[38;5;28mlen\u001b[39m(formats) == \u001b[32m1\u001b[39m:\n\u001b[32m--> \u001b[39m\u001b[32m644\u001b[39m         \u001b[38;5;28;01mraise\u001b[39;00m \u001b[38;5;167;01mValueError\u001b[39;00m(\n\u001b[32m    645\u001b[39m             \u001b[33mf\u001b[39m\u001b[33m\"\u001b[39m\u001b[33mInput values did not match the format class \u001b[39m\u001b[38;5;132;01m{\u001b[39;00m\u001b[38;5;28mformat\u001b[39m\u001b[38;5;132;01m}\u001b[39;00m\u001b[33m:\u001b[39m\u001b[33m\"\u001b[39m\n\u001b[32m    646\u001b[39m             + os.linesep\n\u001b[32m    647\u001b[39m             + \u001b[33mf\u001b[39m\u001b[33m\"\u001b[39m\u001b[38;5;132;01m{\u001b[39;00merr.\u001b[34m__class__\u001b[39m.\u001b[34m__name__\u001b[39m\u001b[38;5;132;01m}\u001b[39;00m\u001b[33m: \u001b[39m\u001b[38;5;132;01m{\u001b[39;00merr\u001b[38;5;132;01m}\u001b[39;00m\u001b[33m\"\u001b[39m\n\u001b[32m    648\u001b[39m         ) \u001b[38;5;28;01mfrom\u001b[39;00m\u001b[38;5;250m \u001b[39m\u001b[34;01merr\u001b[39;00m\n\u001b[32m    649\u001b[39m     \u001b[38;5;28;01melse\u001b[39;00m:\n\u001b[32m    650\u001b[39m         problems[name] = err\n",
      "\u001b[31mValueError\u001b[39m: Input values did not match the format class isot:\nValueError: Time 20250620T12:00:00 does not match isot format"
     ]
    }
   ],
   "source": [
    "minutes_to_days = 1./60/24\n",
    "seconds_to_days = 1./60/60/24\n",
    "\n",
    "day_min = Time(f\"{day_obs_min}T12:00:00\", format='isot', scale='utc')\n",
    "day_max = Time(f\"{day_obs_max}T12:00:00\", format='isot', scale='utc')\n",
    "one_day = TimeDelta(1, format='jd')\n",
    "days = day_min + one_day * np.arange(0, (day_max - day_min).jd + 1)\n",
    "day_obs_list = [d.iso[0:10] for d in days]"
   ]
  },
  {
   "cell_type": "markdown",
   "id": "d2a7d61a-7bd8-4c01-970f-477590e767f4",
   "metadata": {},
   "source": [
    "## Accessing visits from ConsDB (USDF)"
   ]
  },
  {
   "cell_type": "code",
   "execution_count": null,
   "id": "f265b6b5-e9be-40e2-ac14-9a1f47cb0d5a",
   "metadata": {},
   "outputs": [],
   "source": [
    "if 'usdf' in os.getenv(\"EXTERNAL_INSTANCE_URL\", \"\"):\n",
    "    os.environ[\"RUBIN_SIM_DATA_DIR\"] = \"/sdf/data/rubin/shared/rubin_sim_data\"\n",
    "\n",
    "# Hack for Lynne - but you can use your own token (outside of RSP)\n",
    "if os.getenv(\"EXTERNAL_INSTANCE_URL\") is None:\n",
    "    tokenfile = '/Users/lynnej/.lsst/usdf_rsp'\n",
    "    site = 'usdf'\n",
    "    #tokenfile = '/Users/lynnej/.lsst/summit_rsp'\n",
    "    #site = 'summit'\n",
    "else:\n",
    "    tokenfile = None\n",
    "    site = None\n",
    "\n",
    "endpoints = connections.get_clients(tokenfile, site)\n",
    "consdb = endpoints['consdb']"
   ]
  },
  {
   "cell_type": "code",
   "execution_count": null,
   "id": "07f2aa2e-74b4-406c-8e0e-56fa377bc4ce",
   "metadata": {},
   "outputs": [],
   "source": [
    "visits = consdb.get_visits(instrument, day_min, day_max + one_day)\n",
    "\n",
    "if len(visits) > 0:\n",
    "    display(Markdown(f\"Retrieved {len(visits)} visits from consdb from {day_min.iso} to {(day_max + one_day).iso}\"))\n",
    "if len(visits) == 0:\n",
    "    display(Markdown(f\"No visits for {instrument} between {day_obs_min} to {day_obs_max} retrieved from consdb\"))"
   ]
  },
  {
   "cell_type": "code",
   "execution_count": null,
   "id": "8c2c560e-93fc-4325-aa7e-4fb6b7f5df46",
   "metadata": {},
   "outputs": [],
   "source": [
    "## Almanac ## \n",
    "display(Markdown(f\"## Daily information for {day_obs_min} to {day_obs_max}\"))\n",
    "site = Site('LSST')\n",
    "almanac = Almanac()\n",
    "alm = {}\n",
    "for day_obs in day_obs_list:\n",
    "    alm[day_obs] = {}\n",
    "    night_events = almanac.get_sunset_info(evening_date=day_obs, longitude=site.longitude_rad)\n",
    "    horizon_sunset = Time(night_events['sunset'], format='mjd', scale='utc') \n",
    "    horizon_sunrise = Time(night_events['sunrise'], format='mjd', scale='utc')\n",
    "    sunset = Time(night_events['sun_n12_setting'], format='mjd', scale='utc') \n",
    "    sunrise = Time(night_events['sun_n12_rising'], format='mjd', scale='utc')\n",
    "    night_length = (sunrise.mjd - sunset.mjd) * 24\n",
    "    alm[day_obs]['horizon sunset'] = horizon_sunset.iso\n",
    "    alm[day_obs]['sunset'] = sunset.iso\n",
    "    alm[day_obs]['sunrise'] = sunrise.iso\n",
    "    alm[day_obs]['close'] = horizon_sunrise - TimeDelta(3*60*60, format='sec')\n",
    "    night_hours = (horizon_sunrise.mjd - sunset.mjd)*24 - 3\n",
    "    if np.isnan(night_events['moonrise']):\n",
    "        alm[day_obs]['moon rise'] = np.nan\n",
    "    else:\n",
    "        alm[day_obs]['moon rise'] = Time(night_events['moonrise'], format='mjd', scale='utc').iso\n",
    "    if np.isnan(night_events['moonset']):\n",
    "        alm[day_obs]['moon set'] = np.nan\n",
    "    else:\n",
    "        alm[day_obs]['moon set'] = Time(night_events['moonset'], format='mjd', scale='utc').iso\n",
    "    moon_phase = almanac.get_sun_moon_positions(sunset.mjd)['moon_phase']\n",
    "    alm[day_obs]['moon phase'] = moon_phase.round(2)\n",
    "    dayobsint = int(day_obs.replace('-', ''))\n",
    "    vv = visits.query('day_obs == @dayobsint')\n",
    "    alm[day_obs]['programs'] = vv.science_program.unique()\n",
    "    alm[day_obs]['nvisits dayobs'] = len(vv)\n",
    "    visit_times = visits['exp_midpt']\n",
    "    vv = visits.query(\"day_obs == @dayobsint and exp_midpt_mjd >= @horizon_sunset.mjd and img_type.str.contains('science')\")\n",
    "    alm[day_obs]['nvisits night'] = len(vv)\n",
    "    alm[day_obs]['sunset to night visits'] = ((vv.exp_midpt_mjd.min() - sunset.mjd) * 24).round(3)\n",
    "    alm[day_obs]['night visits to sunrise'] = ((sunrise.mjd - vv.exp_midpt_mjd.max()) * 24).round(3)\n",
    "    alm[day_obs]['first to last visit @ night'] = round((vv.exp_midpt_mjd.max() - vv.exp_midpt_mjd.min()) * 24, 3)\n",
    "    alm[day_obs]['night length'] =  night_hours.round(3) # night_length.round(3)\n",
    "    alm[day_obs]['sci frac'] = (vv.exp_time.sum() / (night_length * 60 * 60)).round(3)\n",
    "alm = pd.DataFrame(alm)\n",
    "print(\"Night visits are after -12 deg sunset and type 'science'\")\n",
    "print(\"Time durations are in hours\")\n",
    "print(\"Sunset without qualifier is 12 degree sunset (or sunrise)\")\n",
    "with option_context('display.max_colwidth', None):\n",
    "    display(HTML(alm.T.to_html()))"
   ]
  },
  {
   "cell_type": "code",
   "execution_count": null,
   "id": "5c07e1bb-7e78-440d-b13a-2d11431c5d89",
   "metadata": {},
   "outputs": [],
   "source": [
    "# plt.plot(alm.columns.values, alm.loc['sci eff'], 'k.')\n",
    "# _ = plt.xticks(rotation=45)\n",
    "# _ = plt.ylabel(\"OpenShutterFraction\", fontsize='large')"
   ]
  },
  {
   "cell_type": "code",
   "execution_count": null,
   "id": "df8a7023-0340-49e9-9fce-03d619daeada",
   "metadata": {},
   "outputs": [],
   "source": [
    "c = None\n",
    "if len(visits) > 0:\n",
    "    visits['visit_id'] = visits.index.copy()\n",
    "    groupcols = ['science_program', 'img_type', 'target_name', 'observation_reason', 'day_obs', 'visit_id'] \n",
    "    c = visits[groupcols].groupby(['science_program', 'img_type'], dropna=False).agg({'science_program' : ['first'],\n",
    "                                                                        'target_name' : ['unique'], \n",
    "                                                                        'observation_reason' : ['unique'],\n",
    "                                                                        'day_obs' : ['nunique'],\n",
    "                                                                        'visit_id' : ['first', 'last', 'count']})"
   ]
  },
  {
   "cell_type": "code",
   "execution_count": null,
   "id": "a2507cca-d87a-4221-a264-84f538c038fb",
   "metadata": {},
   "outputs": [],
   "source": [
    "# This might work .. to help translate test block numbers above into more meaningful programs\n",
    "testcase_base_url = \"https://rubinobs.atlassian.net/projects/BLOCK?selectedItem=com.atlassian.plugins.atlassian-connect-plugin:com.kanoah.test-manager__main-project-page#!/v2/testCase/\"\n",
    "jiraticket_base_url = \"https://rubinobs.atlassian.net/browse/\"\n",
    "\n",
    "if len(visits) > 0:\n",
    "    jira_urls = {}\n",
    "    for science_program in c.sort_values(by=('visit_id', 'first'))[('science_program', 'first')].values: # visits.science_program.unique():\n",
    "        if science_program is not None and science_program.startswith(\"BLOCK-T\"):\n",
    "            jira_urls[science_program] = testcase_base_url + science_program\n",
    "        elif science_program is not None and science_program.startswith(\"BLOCK-\"):\n",
    "            jira_urls[science_program] = jiraticket_base_url + science_program\n",
    "        else:\n",
    "            jira_urls[science_program] = ''\n",
    "            #display(Markdown(f\"[{science_program}]({jira_url}) - {test_name} ({len(visits.query('science_program == @science_program'))} visits)\"))"
   ]
  },
  {
   "cell_type": "code",
   "execution_count": null,
   "id": "12796f3b-0c9c-420e-90df-d638d67af1a0",
   "metadata": {},
   "outputs": [],
   "source": [
    "jira_url_col = np.array([\"X\" *  (max([len(v) for v in jira_urls.values()])+100)] * len(c))\n",
    "for i, (ri, row) in enumerate(c.iterrows()):\n",
    "    sp = row[('science_program', 'first')]\n",
    "    if sp in jira_urls.keys():\n",
    "        jira_url_col[i] = f'<a href=\"{jira_urls[sp]}\" target=\"_blank\" rel=\"noreferrer noopener\">{sp}</a>'\n",
    "    else:\n",
    "        jira_url_col[i] = ''\n",
    "c['JIRA'] = jira_url_col"
   ]
  },
  {
   "cell_type": "code",
   "execution_count": null,
   "id": "bc927b11-00f0-449d-a6eb-0997f6c96583",
   "metadata": {},
   "outputs": [],
   "source": [
    "if len(visits) > 0:\n",
    "    display(Markdown(f\"ConsDB Visits\"))\n",
    "    with option_context('display.max_colwidth', None):\n",
    "        cols = [('JIRA', ''), ('target_name', 'unique'), ('observation_reason', 'unique'), ('day_obs', 'nunique'),\n",
    "                ('visit_id', 'first'), ('visit_id', 'last'), ('visit_id', 'count')]\n",
    "        display(HTML(c[cols].sort_values(by=('visit_id', 'first')).to_html(escape=False)))"
   ]
  },
  {
   "cell_type": "markdown",
   "id": "571cdb55-1bb4-406c-88a9-ddee73cca7f5",
   "metadata": {},
   "source": [
    "## Visits vs Time properties\n",
    "\n",
    "This is a visits vs time example from schedview, using better Rubin color mapping for the various filters.  Due to memory and size, this runs on the last three nights only. (download notebook and run yourself for more). "
   ]
  },
  {
   "cell_type": "code",
   "execution_count": null,
   "id": "423c39e3-b18a-4324-8583-5793bcfe0475",
   "metadata": {},
   "outputs": [],
   "source": [
    "import sys\n",
    "import bokeh\n",
    "import bokeh.io\n",
    "\n",
    "bokeh.io.output_notebook()\n",
    "\n",
    "sys.path.insert(0, \"/sdf/data/rubin/user/lynnej/repos/schedview\")\n",
    "import schedview.plot\n",
    "from rubin_sim.maf import ObservationStartTimestampStacker\n",
    "\n",
    "print(\"Last 3 nights of timespan\")\n",
    "\n",
    "if len(visits):\n",
    "    timestamp_stacker = ObservationStartTimestampStacker(mjd_col=\"obs_start_mjd\",)\n",
    "    dayobs_cutoff = int((day_max - TimeDelta(3, format='jd')).iso[0:10].replace('-', ''))\n",
    "    vv = visits.query('day_obs > @dayobs_cutoff').copy()\n",
    "    vv = timestamp_stacker.run(vv, override=True)\n",
    "    if len(vv):\n",
    "        vv['filter'] = vv['band']\n",
    "        if 'visit_id' in vv.columns:\n",
    "            vv.drop('visit_id', axis=1, inplace=True)\n",
    "        if \"zero_point_median\" in vv:\n",
    "            vv['zero_point_median'] = vv['zero_point_median'].values.astype(float)\n",
    "        col = 'psf_sigma_median'\n",
    "        if 'psf_sigma_median' not in vv.columns:\n",
    "            col = 'zenith_distance'\n",
    "        plot = bokeh.plotting.figure(y_axis_label=col, x_axis_label=\"Time (UTC)\", height=600, width=1200)\n",
    "        fig = schedview.plot.plot_visit_param_vs_time(vv, col, show_column_selector=True, hovertool=False, plot=plot)\n",
    "        bokeh.io.show(fig)\n",
    "else:\n",
    "    print(\"No visits\")"
   ]
  },
  {
   "cell_type": "code",
   "execution_count": null,
   "id": "70ef68c9-22af-4e82-b6c0-3f7cfb1e6fa8",
   "metadata": {},
   "outputs": [],
   "source": [
    "# cols = ['physical_filter', 'exp_midpt', 'band', 's_ra', 's_dec', 'sky_rotation', 'exp_time', 'airmass', 'dimm_seeing', 'psf_sigma_median', 'seeing_zenith_500nm_median', 'sky_bg_median', 'zero_point_median']\n",
    "# sub = visits.query('target_name.str.contains(\"ECDFS\") and shut_time>0')\n",
    "# sub.query('shut_time < 30')[['science_program', 'observation_reason']]"
   ]
  },
  {
   "cell_type": "code",
   "execution_count": null,
   "id": "07cfce26-f3fc-47ed-b7f1-11ddfcd8257e",
   "metadata": {},
   "outputs": [],
   "source": [
    "# import hvplot.pandas\n",
    "# import panel as pn\n",
    "\n",
    "# explorer = visits.hvplot.explorer(x='start_date', y=['psf_sigma_median'], by=['band'], groupby=['science_program'], \n",
    "#                                  kind='scatter', alpha=0.4, legend='bottom_right',\n",
    "#                                  )\n",
    "# explorer"
   ]
  }
 ],
 "metadata": {
  "kernelspec": {
   "display_name": "Python 3 (ipykernel)",
   "language": "python",
   "name": "python3"
  },
  "language_info": {
   "codemirror_mode": {
    "name": "ipython",
    "version": 3
   },
   "file_extension": ".py",
   "mimetype": "text/x-python",
   "name": "python",
   "nbconvert_exporter": "python",
   "pygments_lexer": "ipython3",
   "version": "3.13.1"
  }
 },
 "nbformat": 4,
 "nbformat_minor": 5
}
