{
 "cells": [
  {
   "cell_type": "markdown",
   "id": "ca1f04f0-f28b-4964-965a-c2e12186a84b",
   "metadata": {},
   "source": [
    "# Mimic of the DES night summary, but for Rubin Observatory"
   ]
  },
  {
   "cell_type": "code",
   "execution_count": null,
   "id": "54aad269-400f-44c2-8438-1b6111ba6a9b",
   "metadata": {},
   "outputs": [],
   "source": [
    "# This cell is only for setting parameter defaults\n",
    "day_obs = \"2027-11-10\"\n",
    "sim_version = \"3.4\""
   ]
  },
  {
   "cell_type": "code",
   "execution_count": null,
   "id": "dcd4ecbc-95fe-4548-bf87-24589acecb67",
   "metadata": {},
   "outputs": [],
   "source": [
    "# Validate the input\n",
    "import re\n",
    "assert re.match(r'^\\d\\d\\d\\d-\\d\\d-\\d\\d$', day_obs) is not None\n",
    "assert re.match(r'^\\d+\\.\\d+$', sim_version) is not None"
   ]
  },
  {
   "cell_type": "code",
   "execution_count": null,
   "id": "05a3cf1b-c94f-4ba7-aaa5-7c3890e77642",
   "metadata": {},
   "outputs": [],
   "source": [
    "print(f\"Input day_obs: {day_obs}, input sim_version: {sim_version}\")"
   ]
  },
  {
   "cell_type": "code",
   "execution_count": null,
   "id": "10527395-daf0-44e5-91d5-d6e8650daca0",
   "metadata": {},
   "outputs": [],
   "source": [
    "import datetime\n",
    "import os\n",
    "import sys\n",
    "from IPython.display import display, HTML\n",
    "import pandas as pd\n",
    "import bokeh\n",
    "import bokeh.io\n",
    "import bokeh.plotting\n",
    "import bokeh.models\n",
    "import bokeh.transform\n",
    "import bokeh.layouts\n",
    "import sqlite3\n",
    "import numpy as np\n",
    "import healpy\n",
    "import astropy\n",
    "import colorcet\n",
    "import matplotlib as mpl\n",
    "import matplotlib.pyplot as plt\n",
    "import cartopy\n",
    "import healpy as hp\n",
    "import astropy.units as u\n",
    "from astropy.visualization import ZScaleInterval\n",
    "from astropy.time import Time\n",
    "from astropy.coordinates import SkyCoord, get_body\n",
    "from lsst.resources import ResourcePath"
   ]
  },
  {
   "cell_type": "code",
   "execution_count": null,
   "id": "d0b8ed4a-6835-4e82-a53d-97bb731c6bc3",
   "metadata": {},
   "outputs": [],
   "source": [
    "os.environ['RUBIN_SIM_DATA_DIR'] = '/sdf/data/rubin/user/neilsen/data/rubin_sim_data'"
   ]
  },
  {
   "cell_type": "code",
   "execution_count": null,
   "id": "ced90133-91ee-4f88-9ba6-2a0abee216cf",
   "metadata": {},
   "outputs": [],
   "source": [
    "sys.path.insert(0, '/sdf/data/rubin/user/neilsen/devel/pip_targets/lib/python3.11/site-packages')"
   ]
  },
  {
   "cell_type": "code",
   "execution_count": null,
   "id": "2087487d-5381-4aeb-9f18-73e2c47d0fd3",
   "metadata": {},
   "outputs": [],
   "source": [
    "devel_versions = True\n",
    "if devel_versions:\n",
    "    sys.path.insert(0, '/sdf/data/rubin/user/neilsen/devel/uranography')\n",
    "    sys.path.insert(0, '/sdf/data/rubin/user/neilsen/devel/rubin_scheduler')\n",
    "    sys.path.insert(0, '/sdf/data/rubin/user/neilsen/devel/rubin_sim')\n",
    "    sys.path.insert(0, '/sdf/data/rubin/user/neilsen/devel/schedview')"
   ]
  },
  {
   "cell_type": "code",
   "execution_count": null,
   "id": "1f177592-d1aa-4a4a-a608-5af46189eea4",
   "metadata": {},
   "outputs": [],
   "source": [
    "import rubin_scheduler\n",
    "import rubin_scheduler.utils\n",
    "import rubin_scheduler.site_models\n",
    "import schedview.compute.astro\n",
    "import schedview.compute.visits\n",
    "import uranography\n",
    "import schedview.plot.visitmap\n",
    "\n",
    "from rubin_sim import maf\n",
    "from rubin_scheduler.data import get_baseline\n",
    "from schedview.compute.camera import LsstCameraFootprintPerimeter\n",
    "from rubin_scheduler.scheduler.model_observatory import ModelObservatory\n",
    "from uranography.api import Planisphere, make_zscale_linear_cmap\n",
    "import schedview.plot.survey_skyproj"
   ]
  },
  {
   "cell_type": "code",
   "execution_count": null,
   "id": "40f9aca3-fdbe-4247-b860-a35288e328f7",
   "metadata": {},
   "outputs": [],
   "source": [
    "bokeh.io.output_notebook()"
   ]
  },
  {
   "cell_type": "code",
   "execution_count": null,
   "id": "3028f9f0-cee9-4f56-9353-5d788ada1c09",
   "metadata": {},
   "outputs": [],
   "source": [
    "%matplotlib inline"
   ]
  },
  {
   "cell_type": "code",
   "execution_count": null,
   "id": "7e2b4ee2-3b3a-4f83-948f-eae84aaabafa",
   "metadata": {},
   "outputs": [],
   "source": [
    "astropy.utils.iers.conf.iers_degraded_accuracy = 'ignore'"
   ]
  },
  {
   "cell_type": "code",
   "execution_count": null,
   "id": "c1ee17df-c43d-44d5-ac47-4f7e396503f7",
   "metadata": {},
   "outputs": [],
   "source": [
    "visit_db_fname = f'/sdf/group/rubin/web_data/sim-data/sims_featureScheduler_runs{sim_version}/baseline/baseline_v{sim_version}_10yrs.db'\n",
    "baseline_opsim_rp = ResourcePath(visit_db_fname)\n",
    "day_obs_mjd = int(Time(day_obs).mjd)\n",
    "observatory = ModelObservatory(init_load_length=1)\n",
    "timezone = \"Chile/Continental\"\n",
    "use_matplotlib = True"
   ]
  },
  {
   "cell_type": "code",
   "execution_count": null,
   "id": "4118a98a-505f-4339-9bfc-db7397681965",
   "metadata": {},
   "outputs": [],
   "source": [
    "stackers = [\n",
    "    maf.HourAngleStacker(),\n",
    "    maf.stackers.ObservationStartDatetime64Stacker(),\n",
    "    maf.stackers.TeffStacker(),\n",
    "    maf.stackers.OverheadStacker()\n",
    "]\n",
    "visits = schedview.collect.read_opsim(baseline_opsim_rp, constraint=f\"FLOOR(observationStartMJD-0.5)={day_obs_mjd}\", stackers=stackers)\n",
    "visits = schedview.compute.visits.add_coords_tuple(visits)\n",
    "visits['previous_filter'] = visits['filter'].shift(1)"
   ]
  },
  {
   "cell_type": "markdown",
   "id": "3a3c9d10-5989-4719-9ed7-e7ab006a85c2",
   "metadata": {},
   "source": [
    "## Introduction\n",
    "\n",
    "This report produces plots analogous to the DES `nightsum` night summaries, but using Rubin Observatory / LSST baseline simulations for its input data.\n",
    "\n",
    "In this report, the LSST DDF fields are taken to be analogous to the DES SN fields, while all other fields are taken to be analogous to the DES wide survey fields."
   ]
  },
  {
   "cell_type": "markdown",
   "id": "485d3d14-dae3-4d4e-981d-eaaf99d60929",
   "metadata": {},
   "source": [
    "## Sun and Moon"
   ]
  },
  {
   "cell_type": "code",
   "execution_count": null,
   "id": "a635adfa-0242-44d8-a919-0069b51b8cf5",
   "metadata": {},
   "outputs": [],
   "source": [
    "day_obs_datetime = Time(day_obs_mjd, format='mjd').datetime\n",
    "day_obs_date = datetime.date(day_obs_datetime.year, day_obs_datetime.month, day_obs_datetime.day)\n",
    "night_events = schedview.compute.astro.night_events(day_obs_date)\n",
    "night_events"
   ]
  },
  {
   "cell_type": "markdown",
   "id": "a3a9efcb-d56f-4a6f-8083-35d182ea6a43",
   "metadata": {},
   "source": [
    "Modified Julian Date (MJD) is in units of days (UTC).\n",
    "\n",
    "Local Sidereal Time (LST) is in units of degrees."
   ]
  },
  {
   "cell_type": "code",
   "execution_count": null,
   "id": "5db4e476-1308-4fb7-a5dc-e8e0dfde1127",
   "metadata": {},
   "outputs": [],
   "source": [
    "model_observatory = ModelObservatory(init_load_length=1)\n",
    "model_observatory.mjd = night_events.loc['night_middle', 'MJD']"
   ]
  },
  {
   "cell_type": "code",
   "execution_count": null,
   "id": "016035e9-655f-4e36-89d8-84327d193378",
   "metadata": {},
   "outputs": [],
   "source": [
    "body_positions_wide = pd.DataFrame(model_observatory.almanac.get_sun_moon_positions(night_events.loc['night_middle', 'MJD']))\n",
    "body_positions_wide.index.name = 'r'\n",
    "body_positions_wide.reset_index(inplace=True)\n",
    "\n",
    "angle_columns = ['RA', 'dec', 'alt', 'az']\n",
    "all_columns = angle_columns + ['phase']\n",
    "body_positions = (\n",
    "    pd.wide_to_long(body_positions_wide, stubnames=('sun', 'moon'), suffix=r'.*', sep='_', i='r', j='coordinate')\n",
    "    .droplevel('r')\n",
    "    .T[all_columns]\n",
    ")\n",
    "body_positions[angle_columns] = np.degrees(body_positions[angle_columns])\n",
    "body_positions"
   ]
  },
  {
   "cell_type": "markdown",
   "id": "454078c2-766e-41bf-9976-9f07f8f76184",
   "metadata": {},
   "source": [
    "RA, dec, alt, and az are all in units of degrees."
   ]
  },
  {
   "cell_type": "markdown",
   "id": "6a3134fa-10ad-403b-bce3-56858e59d6fb",
   "metadata": {},
   "source": [
    "## Conditions and statistics"
   ]
  },
  {
   "cell_type": "markdown",
   "id": "9d387553-ac08-4cb5-8a41-f1da65311699",
   "metadata": {},
   "source": [
    "### Numbers of exposures, and gaps between them"
   ]
  },
  {
   "cell_type": "code",
   "execution_count": null,
   "id": "abd67d4a-1c1f-477c-8214-54539ec35b27",
   "metadata": {},
   "outputs": [],
   "source": [
    "overhead_summary = schedview.compute.visits.compute_overhead_summary(visits, night_events.loc['sun_n12_setting','MJD'], night_events.loc['sun_n12_rising','MJD'])\n",
    "summary_table = schedview.plot.create_overhead_summary_table(overhead_summary)\n",
    "display(HTML(summary_table))"
   ]
  },
  {
   "cell_type": "markdown",
   "id": "9ad2f7a1-1df3-4b62-b0a3-e8618051d97c",
   "metadata": {},
   "source": [
    "## Histogram of gaps between exposures"
   ]
  },
  {
   "cell_type": "code",
   "execution_count": null,
   "id": "b4ca98ad-bac2-4a1f-98be-57ec99ebfeeb",
   "metadata": {},
   "outputs": [],
   "source": [
    "p1 = schedview.plot.create_overhead_histogram(visits)\n",
    "p2 = schedview.plot.plot_overhead_vs_slew_distance(visits)\n",
    "overhead_plots = bokeh.layouts.row([p1, p2])\n",
    "bokeh.io.show(overhead_plots)"
   ]
  },
  {
   "cell_type": "markdown",
   "id": "0466be61-a7d7-4ec9-b8ad-de71aa81aa31",
   "metadata": {},
   "source": [
    "\"Overhead\" is the time window (in seconds) between the end of the previous exposure and the end of the current exposure, minus the exposure time."
   ]
  },
  {
   "cell_type": "markdown",
   "id": "d6a2d6e4-720d-405b-9ed4-fd60becad920",
   "metadata": {},
   "source": [
    "## Long gaps between exposures"
   ]
  },
  {
   "cell_type": "code",
   "execution_count": null,
   "id": "1ca7e46a-0cc9-408a-a7a5-d0c16655fe08",
   "metadata": {},
   "outputs": [],
   "source": [
    "visits.head()"
   ]
  },
  {
   "cell_type": "code",
   "execution_count": null,
   "id": "86310ad8-dad2-4beb-9348-c73fbd91966d",
   "metadata": {},
   "outputs": [],
   "source": [
    "num_gaps = 10\n",
    "long_gap_visits = visits.sort_values('overhead', ascending=False).query('overhead>30').loc[:, ['start_date', 'overhead', 'slewDistance', 'filter', 'previous_filter']].sort_values('observationId')\n",
    "long_gap_visits"
   ]
  },
  {
   "cell_type": "markdown",
   "id": "e2f50bba-e449-443b-96b2-6643ccd225d7",
   "metadata": {},
   "source": [
    "These are the longest gaps between exposures that occur on the night, ordered by duration of the gaps.\n",
    "\n",
    "Slew time and previous and current filters are noted, because filter changes are the greatest expected contributions to overhead."
   ]
  },
  {
   "cell_type": "markdown",
   "id": "bda63097-941a-4e1c-85cd-84307768ff2c",
   "metadata": {},
   "source": [
    "## PSF Width"
   ]
  },
  {
   "cell_type": "code",
   "execution_count": null,
   "id": "4f0c0a03-690a-42a3-80cf-707960b0e350",
   "metadata": {},
   "outputs": [],
   "source": [
    "p = schedview.plot.plot_visit_param_vs_time(visits, 'seeingFwhmEff')\n",
    "p.yaxis.axis_label = \"Effective PSF FWHM (asec)\"\n",
    "bokeh.io.show(p)"
   ]
  },
  {
   "cell_type": "markdown",
   "id": "e570a845-f4b5-4f2a-8310-21a90c03a861",
   "metadata": {},
   "source": [
    "Here, the \"effective PSF FWHM\" serves as a proxy for the measured PSF width in the DES `nightsum`, because it includes an estimates of all modeled contributions.\n",
    "\n",
    "In an actual report using real data, the width of the PSF measured from the image should be plotted as well, so that differences can be easily noted."
   ]
  },
  {
   "cell_type": "markdown",
   "id": "a468c10f-9f50-47ea-a61d-5c16fd2fff25",
   "metadata": {},
   "source": [
    "## Instrumental contributions to the PSF"
   ]
  },
  {
   "cell_type": "code",
   "execution_count": null,
   "id": "31088267-3321-498d-8b8d-b9ab271e8241",
   "metadata": {},
   "outputs": [],
   "source": [
    "visits = schedview.compute.visits.add_instrumental_fwhm(visits)\n",
    "p = schedview.plot.plot_visit_param_vs_time(visits, 'inst_fwhm')\n",
    "p.yaxis.axis_label = \"Instrumental contribution to the FWHM (asec)\"\n",
    "bokeh.io.show(p)"
   ]
  },
  {
   "cell_type": "markdown",
   "id": "6f1eccfd-0ec4-45f9-8be4-d189f47c8ad8",
   "metadata": {},
   "source": [
    "This perplexes me; I expected the instrumental contribution in simulations to be constant."
   ]
  },
  {
   "cell_type": "markdown",
   "id": "e82c9b6d-16eb-4b1c-98cd-0265f25ea1a0",
   "metadata": {},
   "source": [
    "## PSF ellipticity"
   ]
  },
  {
   "cell_type": "markdown",
   "id": "27c2990a-6362-4111-bafd-cb0b02fed2e7",
   "metadata": {},
   "source": [
    "No ellipticity is simulated by opsim."
   ]
  },
  {
   "cell_type": "markdown",
   "id": "0671c396-23ea-40f9-8051-94643931b989",
   "metadata": {},
   "source": [
    "## Effective exposure time"
   ]
  },
  {
   "cell_type": "code",
   "execution_count": null,
   "id": "4cd62a63-58fa-459a-9afb-a250d21fb189",
   "metadata": {},
   "outputs": [],
   "source": [
    "p = schedview.plot.plot_visit_param_vs_time(visits, 't_eff')\n",
    "p.yaxis.axis_label = 'Effecive exposure time (sec.)'\n",
    "p.title = \"Effective exposure time\"\n",
    "bokeh.io.show(p)"
   ]
  },
  {
   "cell_type": "markdown",
   "id": "1332b0b8-ebab-4003-ae94-cfb828b54102",
   "metadata": {},
   "source": [
    "## Sky brightness"
   ]
  },
  {
   "cell_type": "code",
   "execution_count": null,
   "id": "fae56e6e-c645-4d70-913e-cb367625d502",
   "metadata": {},
   "outputs": [],
   "source": [
    "p = schedview.plot.plot_visit_param_vs_time(visits, 'skyBrightness')\n",
    "p.yaxis.axis_label = 'Sky brightness (mag/asec^2'\n",
    "p.title = \"Sky brightness\"\n",
    "bokeh.io.show(p)"
   ]
  },
  {
   "cell_type": "markdown",
   "id": "fba9dc4e-c197-415f-8f40-33c0fccf8d5b",
   "metadata": {},
   "source": [
    "## Cloud cover"
   ]
  },
  {
   "cell_type": "markdown",
   "id": "adb8a557-d14f-4ff6-bd32-3a56a9fb383d",
   "metadata": {},
   "source": [
    "When run with current opsim simulations, all simulations are either completely spoiled (infinite extinction) or clear (no extinction), and what is recorded is a fraction of the sky covered by clouds.\n",
    "\n",
    "So, where the DES nightsum plots the extinction, what is plotted here is the recorded fraction cloud cover."
   ]
  },
  {
   "cell_type": "code",
   "execution_count": null,
   "id": "3ce93854-91e6-4815-87e1-b3c64b464117",
   "metadata": {},
   "outputs": [],
   "source": [
    "p = schedview.plot.plot_visit_param_vs_time(visits, 'cloud')\n",
    "p.yaxis.axis_label = 'Cloud cover'\n",
    "p.title = \"Cloud cover\"\n",
    "bokeh.io.show(p)"
   ]
  },
  {
   "cell_type": "markdown",
   "id": "e5ac8114-2e48-4f05-9296-e7ea0271ae7c",
   "metadata": {},
   "source": [
    "## Visit map"
   ]
  },
  {
   "cell_type": "raw",
   "id": "10bc3e92-edcb-4139-b511-9bf5ea1fbc10",
   "metadata": {},
   "source": [
    "vmap, vmap_data = schedview.plot.visitmap.create_visit_skymaps(\n",
    "    visits=visits,\n",
    "    night_date=day_obs_date,\n",
    "    timezone=timezone,\n",
    "    observatory=observatory,\n",
    ")"
   ]
  },
  {
   "cell_type": "raw",
   "id": "92a97903-66e6-4f1b-9ded-b9ed5d74adbf",
   "metadata": {},
   "source": [
    "bokeh.io.show(vmap)"
   ]
  },
  {
   "cell_type": "markdown",
   "id": "43634b30-8c12-4416-86c3-375ee6fbabcd",
   "metadata": {},
   "source": [
    "## Survey Progress"
   ]
  },
  {
   "cell_type": "markdown",
   "id": "9340b2fb-7e03-4bfd-830b-e867fb29353f",
   "metadata": {},
   "source": [
    "### Map depth accumulated so far"
   ]
  },
  {
   "cell_type": "raw",
   "id": "a152b8b0-a8c2-4b6a-ab4a-abc1a7292154",
   "metadata": {},
   "source": [
    "observatory.mjd = night_events.loc['night_middle', 'MJD']\n",
    "conditions = observatory.return_conditions()\n",
    "previous_visits = schedview.collect.read_opsim(visit_db_fname, constraint=f\"observationStartMjd < {night_events.loc['sunset', 'MJD']}\")"
   ]
  },
  {
   "cell_type": "raw",
   "id": "484ed8e9-f3af-4e91-a17a-6308e35bd86f",
   "metadata": {},
   "source": [
    "metric = maf.TeffMetric()\n",
    "teff_hpix = schedview.compute.maf.compute_hpix_metric_in_bands(previous_visits, metric, nside=32)"
   ]
  },
  {
   "cell_type": "raw",
   "id": "a680b51e-ea31-4325-b673-89ac9b9667d4",
   "metadata": {},
   "source": [
    "if use_matplotlib:\n",
    "    fig = schedview.plot.survey_skyproj.create_hpix_visit_map_grid(visits, teff_hpix, model_observatory, night_events)\n",
    "else:\n",
    "    map_grid = schedview.plot.create_hpix_visit_map_grid(teff_hpix, visits, conditions)\n",
    "    bokeh.io.show(map_grid)"
   ]
  },
  {
   "cell_type": "markdown",
   "id": "eb98630d-4671-44c1-96a6-08684d876bb9",
   "metadata": {},
   "source": [
    "### Map the most recent visit so far"
   ]
  },
  {
   "cell_type": "raw",
   "id": "a721ad17-482b-4686-8f1d-22952d328040",
   "metadata": {},
   "source": [
    "metric = maf.MaxMetric('observationStartMJD')\n",
    "latest_mjd_hpix = schedview.compute.maf.compute_hpix_metric_in_bands(previous_visits, metric, nside=32)\n",
    "time_since_latest_hpix = {b: night_events.loc['sunset', 'MJD'] - latest_mjd_hpix[b].filled(np.nan) for b in latest_mjd_hpix}"
   ]
  },
  {
   "cell_type": "raw",
   "id": "6be5c554-0ae4-496e-b1ea-1f5110369e24",
   "metadata": {},
   "source": [
    "long_limit = 30\n",
    "for band in time_since_latest_hpix:\n",
    "    long_hpix = time_since_latest_hpix[band] > long_limit\n",
    "    time_since_latest_hpix[band][long_hpix] = np.nan"
   ]
  },
  {
   "cell_type": "raw",
   "id": "fb675524-87df-4e92-8007-1fc08ca95f99",
   "metadata": {},
   "source": [
    "if use_matplotlib:\n",
    "    cmap = colorcet.cm.blues_r\n",
    "    fig = schedview.plot.survey_skyproj.create_hpix_visit_map_grid(visits, time_since_latest_hpix, model_observatory, night_events, vmin=0, vmax=10, cmap=cmap)\n",
    "else:\n",
    "    map_grid = schedview.plot.create_hpix_visit_map_grid(\n",
    "        time_since_latest_hpix,\n",
    "        visits,\n",
    "        conditions,\n",
    "        scale_limits=[10, 0],\n",
    "    )\n",
    "    bokeh.io.show(map_grid)"
   ]
  },
  {
   "cell_type": "markdown",
   "id": "53308798-2113-4699-a784-446727d8143e",
   "metadata": {},
   "source": [
    "## DDF Cadence"
   ]
  },
  {
   "cell_type": "raw",
   "id": "b968c87a-b2e4-484c-bb15-545f9d6735c5",
   "metadata": {},
   "source": [
    "time_window_duration = 120"
   ]
  },
  {
   "cell_type": "raw",
   "id": "1fa17389-45a7-4752-b999-d3f69bfe5975",
   "metadata": {},
   "source": [
    "# offset by 0.5 to get to the right rollover for day_obs, and to make the range inclusive\n",
    "ddf_start_time = Time(day_obs_mjd - time_window_duration - 0.5, format='mjd')\n",
    "ddf_end_time = Time(day_obs_mjd + 0.5, format='mjd')\n",
    "\n",
    "stackers = [\n",
    "    maf.stackers.ObservationStartDatetime64Stacker(),\n",
    "    maf.stackers.TeffStacker(),\n",
    "    maf.stackers.DayObsISOStacker(),\n",
    "]\n",
    "\n",
    "ddf_visits = schedview.collect.opsim.read_ddf_visits(visit_db_fname, ddf_start_time, ddf_end_time, stackers=stackers)"
   ]
  },
  {
   "cell_type": "raw",
   "id": "6b72a2dc-824d-486c-9139-3f2e4f89e566",
   "metadata": {},
   "source": [
    "nightly_ddf = schedview.compute.visits.accum_teff_by_night(ddf_visits)"
   ]
  },
  {
   "cell_type": "raw",
   "id": "40bc8c76-44dd-44a7-9128-dfddad79d0fb",
   "metadata": {},
   "source": [
    "cadence_plots = schedview.plot.create_cadence_plot(nightly_ddf, day_obs_mjd - time_window_duration, day_obs_mjd)\n",
    "bokeh.io.show(cadence_plots)"
   ]
  },
  {
   "cell_type": "markdown",
   "id": "0e3605be-cd8f-4d3f-8e93-64ced652db0b",
   "metadata": {},
   "source": [
    "## Table of exposures"
   ]
  },
  {
   "cell_type": "raw",
   "id": "7a0afb5d-b94c-496b-a0d8-34cb9252d919",
   "metadata": {},
   "source": [
    "displayed_columns = ['start_date', 'fieldRA', 'fieldDec', 'filter', 'visitExposureTime', 'numExposures', 't_eff', 'skyBrightness', 'seeingFwhmEff', 'cloud', 'note']\n",
    "displayed_visits_df = visits.loc[:, displayed_columns]\n",
    "with pd.option_context('display.max_rows', 2000):\n",
    "    display(displayed_visits_df)"
   ]
  },
  {
   "cell_type": "code",
   "execution_count": null,
   "id": "83d057e7-5c3a-4ef4-852b-f1b176516c64",
   "metadata": {},
   "outputs": [],
   "source": []
  }
 ],
 "metadata": {
  "kernelspec": {
   "display_name": "LSST",
   "language": "python",
   "name": "lsst"
  },
  "language_info": {
   "codemirror_mode": {
    "name": "ipython",
    "version": 3
   },
   "file_extension": ".py",
   "mimetype": "text/x-python",
   "name": "python",
   "nbconvert_exporter": "python",
   "pygments_lexer": "ipython3",
   "version": "3.11.7"
  }
 },
 "nbformat": 4,
 "nbformat_minor": 5
}
