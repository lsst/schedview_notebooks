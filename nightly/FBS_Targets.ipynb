{
 "cells": [
  {
   "cell_type": "code",
   "execution_count": 1,
   "id": "d1433594-d951-416a-bf43-3068e46f26cc",
   "metadata": {
    "execution": {
     "iopub.execute_input": "2024-08-20T19:52:07.141963Z",
     "iopub.status.busy": "2024-08-20T19:52:07.141836Z",
     "iopub.status.idle": "2024-08-20T19:52:07.144148Z",
     "shell.execute_reply": "2024-08-20T19:52:07.143772Z",
     "shell.execute_reply.started": "2024-08-20T19:52:07.141951Z"
    }
   },
   "outputs": [],
   "source": [
    "# This cell is only for setting parameter defaults - gets replaced by sidecar.\n",
    "day_obs = \"2024-08-14\"\n",
    "tel = \"AuxTel\"  \n",
    "#tel = \"SimonyiTel\"\n",
    "instrument = \"latiss\"  \n",
    "#instrument = \"lsstcomcamsim\"\n",
    "index = 2\n",
    "#index = 3\n",
    "#timezone = \"Chile/Continental\"\n",
    "timezone = \"UTC\""
   ]
  },
  {
   "cell_type": "markdown",
   "id": "f3ac5b1f-b036-4213-ae6d-700dcad8a7a6",
   "metadata": {},
   "source": [
    "# Scheduler: Targets, Observations and ConsDB Visits for {{ param.dayobs }} - {{ param.tel }}\n",
    "\n",
    "The Feature Based Scheduler requests `Targets` and completed observation scripts result in `Observations`. Data is tracked in the EFD.\n",
    "The Consdb reports acquired `Visits`. "
   ]
  },
  {
   "cell_type": "code",
   "execution_count": 2,
   "id": "17629b1c-626e-417f-8bdc-20332107534d",
   "metadata": {
    "execution": {
     "iopub.execute_input": "2024-08-20T19:52:07.144874Z",
     "iopub.status.busy": "2024-08-20T19:52:07.144641Z",
     "iopub.status.idle": "2024-08-20T19:52:12.770365Z",
     "shell.execute_reply": "2024-08-20T19:52:12.769960Z",
     "shell.execute_reply.started": "2024-08-20T19:52:07.144861Z"
    }
   },
   "outputs": [
    {
     "name": "stderr",
     "output_type": "stream",
     "text": [
      "/opt/lsst/software/stack/conda/envs/lsst-scipipe-9.0.0/lib/python3.11/site-packages/paramiko/pkey.py:100: CryptographyDeprecationWarning: TripleDES has been moved to cryptography.hazmat.decrepit.ciphers.algorithms.TripleDES and will be removed from this module in 48.0.0.\n",
      "  \"cipher\": algorithms.TripleDES,\n",
      "/opt/lsst/software/stack/conda/envs/lsst-scipipe-9.0.0/lib/python3.11/site-packages/paramiko/transport.py:259: CryptographyDeprecationWarning: TripleDES has been moved to cryptography.hazmat.decrepit.ciphers.algorithms.TripleDES and will be removed from this module in 48.0.0.\n",
      "  \"class\": algorithms.TripleDES,\n"
     ]
    }
   ],
   "source": [
    "import os\n",
    "import copy\n",
    "import numpy as np\n",
    "import healpy as hp\n",
    "import matplotlib.pylab as plt\n",
    "from cycler import cycler\n",
    "import colorcet as cc\n",
    "\n",
    "import pandas as pd\n",
    "from IPython.display import display, Markdown\n",
    "\n",
    "import datetime\n",
    "from astropy.time import Time, TimeDelta\n",
    "import astropy.units as u\n",
    "import astropy\n",
    "astropy.utils.iers.conf.iers_degraded_accuracy = 'ignore'\n",
    "\n",
    "import datetime\n",
    "import pytz\n",
    "timezone = \"Chile/Continental\"\n",
    "tz = pytz.timezone(timezone)\n",
    "\n",
    "from rubin_scheduler.site_models import Almanac\n",
    "from rubin_scheduler.utils import Site\n",
    "\n",
    "import requests\n",
    "import sqlalchemy\n",
    "from lsst_efd_client import EfdClient\n",
    "try:\n",
    "    from lsst.summit.utils import ConsDbClient\n",
    "    have_consdb = True\n",
    "except ImportError:\n",
    "    have_consdb = False\n",
    "\n",
    "# for scheduler snapshots\n",
    "from urllib.parse import urlparse\n",
    "from lsst.resources import ResourcePath\n",
    "\n",
    "\n",
    "# at USDF or at summit?\n",
    "if os.getenv(\"EXTERNAL_INSTANCE_URL\", \"\") == \"https://summit-lsp.lsst.codes\":\n",
    "    efd = 'summit_efd'\n",
    "else:\n",
    "    efd = 'usdf_efd'  \n",
    "    os.environ[\"RUBIN_SIM_DATA_DIR\"] = \"/sdf/data/rubin/shared/rubin_sim_data\"\n",
    "# Not sure of summit consdb access, just use USDF for now\n",
    "os.environ[\"LSST_CONSDB_PQ_URL\"] = \"http://consdb-pq.consdb:8080/consdb\"\n",
    "os.environ[\"no_proxy\"] += \",.consdb\"\n",
    "\n",
    "%matplotlib inline"
   ]
  },
  {
   "cell_type": "code",
   "execution_count": null,
   "id": "a0eda54a-f5fa-4f1a-9068-af721e185471",
   "metadata": {},
   "outputs": [],
   "source": []
  },
  {
   "cell_type": "code",
   "execution_count": 3,
   "id": "918e9430-0899-4218-896b-d6083667d108",
   "metadata": {
    "execution": {
     "iopub.execute_input": "2024-08-20T19:52:12.771366Z",
     "iopub.status.busy": "2024-08-20T19:52:12.770910Z",
     "iopub.status.idle": "2024-08-20T19:52:12.773509Z",
     "shell.execute_reply": "2024-08-20T19:52:12.773177Z",
     "shell.execute_reply.started": "2024-08-20T19:52:12.771352Z"
    }
   },
   "outputs": [],
   "source": [
    "minutes_to_days = 1./60/24\n",
    "seconds_to_days = 1./60/60/24"
   ]
  },
  {
   "cell_type": "code",
   "execution_count": 4,
   "id": "02e75664-53f5-4748-83d4-479c1697db0d",
   "metadata": {
    "execution": {
     "iopub.execute_input": "2024-08-20T19:52:12.774888Z",
     "iopub.status.busy": "2024-08-20T19:52:12.774763Z",
     "iopub.status.idle": "2024-08-20T19:52:13.648396Z",
     "shell.execute_reply": "2024-08-20T19:52:13.647961Z",
     "shell.execute_reply.started": "2024-08-20T19:52:12.774876Z"
    }
   },
   "outputs": [
    {
     "data": {
      "text/markdown": [
       "<strong>On 2024-08-14:</strong>"
      ],
      "text/plain": [
       "<IPython.core.display.Markdown object>"
      ]
     },
     "metadata": {},
     "output_type": "display_data"
    },
    {
     "name": "stdout",
     "output_type": "stream",
     "text": [
      "12-deg sunset at 2024-08-14 22:14:06.497 12-deg sunrise at 2024-08-15 10:23:27.282, for a 12.155773635953665 hour night\n",
      "Moonrise is at 2024-08-15 17:55:58.086, moonset at 2024-08-15 07:49:01.139,with a phase of 65.0.\n"
     ]
    }
   ],
   "source": [
    "site = Site('LSST')\n",
    "almanac = Almanac()\n",
    "night_events = almanac.get_sunset_info(evening_date=day_obs, longitude=site.longitude_rad)\n",
    "sunset = Time(night_events['sunset'], format='mjd', scale='utc') \n",
    "sunrise = Time(night_events['sun_n12_rising'], format='mjd', scale='utc')\n",
    "survey_length = sunrise.mjd - sunset.mjd\n",
    "display(Markdown(f\"<strong>On {day_obs}:</strong>\"))\n",
    "print(f\"12-deg sunset at {sunset.iso} 12-deg sunrise at {sunrise.iso}, for a {survey_length * 24} hour night\")\n",
    "moon_phase = almanac.get_sun_moon_positions(sunset.mjd)['moon_phase']\n",
    "print(f\"Moonrise is at {Time(night_events['moonrise'], format='mjd', scale='utc').iso}, moonset at {Time(night_events['moonset'], format='mjd', scale='utc').iso},\"\n",
    "      f\"with a phase of {moon_phase :.1f}.\")"
   ]
  },
  {
   "cell_type": "code",
   "execution_count": 5,
   "id": "3b6e60d9-302e-4f41-8f32-f5f9b4511c41",
   "metadata": {
    "execution": {
     "iopub.execute_input": "2024-08-20T19:52:13.649139Z",
     "iopub.status.busy": "2024-08-20T19:52:13.649002Z",
     "iopub.status.idle": "2024-08-20T19:52:14.043461Z",
     "shell.execute_reply": "2024-08-20T19:52:14.043049Z",
     "shell.execute_reply.started": "2024-08-20T19:52:13.649126Z"
    }
   },
   "outputs": [],
   "source": [
    "efd_client = EfdClient(efd)"
   ]
  },
  {
   "cell_type": "code",
   "execution_count": 6,
   "id": "ae43f4a7-b2fb-41fa-8f33-b9d760d7dfe5",
   "metadata": {
    "execution": {
     "iopub.execute_input": "2024-08-20T19:52:14.044149Z",
     "iopub.status.busy": "2024-08-20T19:52:14.044021Z",
     "iopub.status.idle": "2024-08-20T19:52:14.653119Z",
     "shell.execute_reply": "2024-08-20T19:52:14.652732Z",
     "shell.execute_reply.started": "2024-08-20T19:52:14.044137Z"
    }
   },
   "outputs": [
    {
     "data": {
      "text/markdown": [
       "<strong>Versions</strong>"
      ],
      "text/plain": [
       "<IPython.core.display.Markdown object>"
      ]
     },
     "metadata": {},
     "output_type": "display_data"
    },
    {
     "data": {
      "text/html": [
       "<div>\n",
       "<style scoped>\n",
       "    .dataframe tbody tr th:only-of-type {\n",
       "        vertical-align: middle;\n",
       "    }\n",
       "\n",
       "    .dataframe tbody tr th {\n",
       "        vertical-align: top;\n",
       "    }\n",
       "\n",
       "    .dataframe thead th {\n",
       "        text-align: right;\n",
       "    }\n",
       "</style>\n",
       "<table border=\"1\" class=\"dataframe\">\n",
       "  <thead>\n",
       "    <tr style=\"text-align: right;\">\n",
       "      <th></th>\n",
       "      <th>SchedulerID</th>\n",
       "      <th>cloudModel</th>\n",
       "      <th>downtimeModel</th>\n",
       "      <th>observatoryLocation</th>\n",
       "      <th>observatoryModel</th>\n",
       "      <th>priority</th>\n",
       "      <th>salIndex</th>\n",
       "      <th>scheduler</th>\n",
       "      <th>seeingModel</th>\n",
       "      <th>skybrightnessModel</th>\n",
       "      <th>version</th>\n",
       "    </tr>\n",
       "  </thead>\n",
       "  <tbody>\n",
       "    <tr>\n",
       "      <th>2024-08-14 20:21:58.505373+00:00</th>\n",
       "      <td>None</td>\n",
       "      <td>1.1.0</td>\n",
       "      <td>1.1.0</td>\n",
       "      <td>1.3.0</td>\n",
       "      <td>1.2.0</td>\n",
       "      <td>None</td>\n",
       "      <td>2</td>\n",
       "      <td>feature_scheduler</td>\n",
       "      <td>1.1.0</td>\n",
       "      <td>1.5.2</td>\n",
       "      <td></td>\n",
       "    </tr>\n",
       "    <tr>\n",
       "      <th>2024-08-14 23:19:20.537274+00:00</th>\n",
       "      <td>None</td>\n",
       "      <td>1.1.0</td>\n",
       "      <td>1.1.0</td>\n",
       "      <td>1.3.0</td>\n",
       "      <td>1.2.0</td>\n",
       "      <td>None</td>\n",
       "      <td>2</td>\n",
       "      <td>feature_scheduler</td>\n",
       "      <td>1.1.0</td>\n",
       "      <td>1.5.2</td>\n",
       "      <td></td>\n",
       "    </tr>\n",
       "  </tbody>\n",
       "</table>\n",
       "</div>"
      ],
      "text/plain": [
       "                                 SchedulerID cloudModel downtimeModel  \\\n",
       "2024-08-14 20:21:58.505373+00:00        None      1.1.0         1.1.0   \n",
       "2024-08-14 23:19:20.537274+00:00        None      1.1.0         1.1.0   \n",
       "\n",
       "                                 observatoryLocation observatoryModel  \\\n",
       "2024-08-14 20:21:58.505373+00:00               1.3.0            1.2.0   \n",
       "2024-08-14 23:19:20.537274+00:00               1.3.0            1.2.0   \n",
       "\n",
       "                                 priority  salIndex          scheduler  \\\n",
       "2024-08-14 20:21:58.505373+00:00     None         2  feature_scheduler   \n",
       "2024-08-14 23:19:20.537274+00:00     None         2  feature_scheduler   \n",
       "\n",
       "                                 seeingModel skybrightnessModel version  \n",
       "2024-08-14 20:21:58.505373+00:00       1.1.0              1.5.2          \n",
       "2024-08-14 23:19:20.537274+00:00       1.1.0              1.5.2          "
      ]
     },
     "metadata": {},
     "output_type": "display_data"
    },
    {
     "data": {
      "text/markdown": [
       "<strong>Configurations applied</strong>"
      ],
      "text/plain": [
       "<IPython.core.display.Markdown object>"
      ]
     },
     "metadata": {},
     "output_type": "display_data"
    },
    {
     "name": "stdout",
     "output_type": "stream",
     "text": [
      "2024-08-14 20:21:58.506112+00:00 _init.yaml,_summit.yaml,auxtel_fbs_image_photocal.yaml\n",
      "2024-08-14 20:21:58.506112+00:00 v6 file:///net/obs-env/auto_base_packages/ts_config_ocs/Scheduler/v6\n",
      "2024-08-14 23:19:20.538025+00:00 _init.yaml,_summit.yaml,auxtel_fbs_image_photocal.yaml\n",
      "2024-08-14 23:19:20.538025+00:00 v6 file:///net/obs-env/auto_base_packages/ts_config_ocs/Scheduler/v6\n",
      "\n"
     ]
    },
    {
     "data": {
      "text/markdown": [
       "<strong>JSON BLOCKS</strong>"
      ],
      "text/plain": [
       "<IPython.core.display.Markdown object>"
      ]
     },
     "metadata": {},
     "output_type": "display_data"
    },
    {
     "data": {
      "text/html": [
       "<div>\n",
       "<style scoped>\n",
       "    .dataframe tbody tr th:only-of-type {\n",
       "        vertical-align: middle;\n",
       "    }\n",
       "\n",
       "    .dataframe tbody tr th {\n",
       "        vertical-align: top;\n",
       "    }\n",
       "\n",
       "    .dataframe thead th {\n",
       "        text-align: right;\n",
       "    }\n",
       "</style>\n",
       "<table border=\"1\" class=\"dataframe\">\n",
       "  <thead>\n",
       "    <tr style=\"text-align: right;\">\n",
       "      <th></th>\n",
       "      <th>id</th>\n",
       "      <th>override</th>\n",
       "      <th>salIndex</th>\n",
       "    </tr>\n",
       "  </thead>\n",
       "  <tbody>\n",
       "    <tr>\n",
       "      <th>2024-08-14 21:42:00.665856+00:00</th>\n",
       "      <td>setup_latiss_calibrations</td>\n",
       "      <td></td>\n",
       "      <td>2</td>\n",
       "    </tr>\n",
       "    <tr>\n",
       "      <th>2024-08-14 21:44:54.684848+00:00</th>\n",
       "      <td>latiss_daily_calibrations</td>\n",
       "      <td></td>\n",
       "      <td>2</td>\n",
       "    </tr>\n",
       "    <tr>\n",
       "      <th>2024-08-14 22:54:53.167808+00:00</th>\n",
       "      <td>shutdown_latiss_calibrations</td>\n",
       "      <td></td>\n",
       "      <td>2</td>\n",
       "    </tr>\n",
       "  </tbody>\n",
       "</table>\n",
       "</div>"
      ],
      "text/plain": [
       "                                                            id override  \\\n",
       "2024-08-14 21:42:00.665856+00:00     setup_latiss_calibrations            \n",
       "2024-08-14 21:44:54.684848+00:00     latiss_daily_calibrations            \n",
       "2024-08-14 22:54:53.167808+00:00  shutdown_latiss_calibrations            \n",
       "\n",
       "                                  salIndex  \n",
       "2024-08-14 21:42:00.665856+00:00         2  \n",
       "2024-08-14 21:44:54.684848+00:00         2  \n",
       "2024-08-14 22:54:53.167808+00:00         2  "
      ]
     },
     "metadata": {},
     "output_type": "display_data"
    }
   ],
   "source": [
    "# The scheduler could be set up before sunset.\n",
    "early_setup = sunset - TimeDelta(5*60*60, format='sec')\n",
    "# And the blocks could be added before sunset, but let's avoid some afternoon calibs\n",
    "early_block = sunset - TimeDelta(1*60*60, format='sec')\n",
    "\n",
    "# What versions of the Scheduler modules are being used\n",
    "display(Markdown(\"<strong>Versions</strong>\"))\n",
    "topic = 'lsst.sal.Scheduler.logevent_dependenciesVersions'\n",
    "fields = await efd_client.get_fields(topic)\n",
    "fields = [f for f in fields if \"private\" not in f]\n",
    "dd = await efd_client.select_time_series(topic, fields, early_setup, sunrise, index=index)\n",
    "display(dd)\n",
    "\n",
    "# How is the FBS and Scheduler configured \n",
    "display(Markdown(\"<strong>Configurations applied</strong>\"))\n",
    "topic = 'lsst.sal.Scheduler.logevent_configurationApplied'\n",
    "fields = await efd_client.get_fields(topic)\n",
    "dd = await efd_client.select_time_series(topic, fields, early_setup, sunrise, index=index)\n",
    "if len(dd) == 0:\n",
    "    print(f\"No scheduler configurations applied between {sunset.iso} and {sunrise.iso}\")\n",
    "else:\n",
    "    for i, row in dd[['configurations', 'schemaVersion', 'url']].iterrows():\n",
    "        print(i, row.configurations)\n",
    "        print(i, row.schemaVersion, row.url)\n",
    "print()\n",
    "\n",
    "# What other BLOCKS have been requested in this night (outside the FBS)\n",
    "display(Markdown(\"<strong>JSON BLOCKS</strong>\"))\n",
    "topic = 'lsst.sal.Scheduler.command_addBlock'\n",
    "fields = await efd_client.get_fields(topic)\n",
    "fields = [f for f in fields if 'private' not in f]\n",
    "dd = await efd_client.select_time_series(topic, fields, early_block, sunrise, index=index)\n",
    "if len(dd) == 0:\n",
    "    print(f\"No JSON BLOCKS added between {sunset.iso} and {sunrise.iso}\")\n",
    "else:\n",
    "    display(dd)"
   ]
  },
  {
   "cell_type": "code",
   "execution_count": 7,
   "id": "ebfb48b5-6645-447c-a714-ead55c6ba536",
   "metadata": {
    "execution": {
     "iopub.execute_input": "2024-08-20T19:52:14.653802Z",
     "iopub.status.busy": "2024-08-20T19:52:14.653673Z",
     "iopub.status.idle": "2024-08-20T19:52:14.866437Z",
     "shell.execute_reply": "2024-08-20T19:52:14.865949Z",
     "shell.execute_reply.started": "2024-08-20T19:52:14.653791Z"
    }
   },
   "outputs": [
    {
     "name": "stdout",
     "output_type": "stream",
     "text": [
      "On night 2024-08-14 AuxTel recorded 42 targets for \n",
      "['cwfs' 'HD185975' 'HD202025' 'HD146233' 'HD205905' 'HD177517' 'HD2811']\n"
     ]
    }
   ],
   "source": [
    "# Fetch requested targets\n",
    "topic = 'lsst.sal.Scheduler.logevent_target'\n",
    "all_fields = await efd_client.get_fields(topic)\n",
    "#print(all_fields)\n",
    "targets = await efd_client.select_time_series(topic, all_fields, sunset, sunrise, index=index)\n",
    "\n",
    "# When estimating obsmjd expected from target -- include the previous\n",
    "# exposure time or not? (in theory, should. in practice, queue is busy so not including it can be helpful).\n",
    "include_prev_exptime = False\n",
    "\n",
    "def demangle_note(x):    \n",
    "    # remove _expnum\n",
    "    x.target = copy.deepcopy(x.note)\n",
    "    if \"IM\" in x.note:\n",
    "        x.note = x.note.split(\":\")[1].split(\"_\")[0]\n",
    "    if 'spec' in x.note:\n",
    "        x.note = 'HD' + x.note.split('HD')[-1]\n",
    "    return x\n",
    "\n",
    "if len(targets) == 0:\n",
    "    print(f\"On night {day_obs} {tel} recorded {len(targets)} targets\")\n",
    "    print(f\"This was for times between {sunset.iso}, {sunrise.iso}\")\n",
    "\n",
    "    # debug help -- \n",
    "    targets = await efd_client.select_top_n(topic, all_fields, 2, index=index)\n",
    "    print(\"The most recent targets were recorded were:\")\n",
    "    display(targets[['SchedulerID', 'airmass', 'ra', 'decl', 'skyAngle', 'exposureTimes0', 'skyBrightness', 'slewTime', 'note', 'salIndex']])\n",
    "\n",
    "else:\n",
    "\n",
    "    # target timestamp in EFD = time that the target is pushed to scriptqueue\n",
    "    # this should be at the start of the previous observation\n",
    "    targets[\"target_time\"] = targets.index.copy()\n",
    "    targets[\"target_mjd\"] = Time(targets.index).mjd\n",
    "    # estimate what time this target should be observed (start of observation)\n",
    "    # == target_time + previous exposure time (?) + slew time\n",
    "    cols = [c for c in targets if 'exposureTimes' in c]\n",
    "    targets['total_exptime'] = targets[cols].sum(axis=1)\n",
    "    \n",
    "    # Try to fix the exposure times, to match JSON values\n",
    "    total_exptime = targets['total_exptime'].values\n",
    "    for i, (idx, row) in enumerate(targets.iterrows()):\n",
    "        if 'spec' in row.note:\n",
    "            total_exptime[i] = 495\n",
    "        if 'bright' in row.note:\n",
    "            total_exptime[i] = 152\n",
    "        if 'cwfs' in row.note:\n",
    "            # Honestly, we can't really tell with cwfs because\n",
    "            # there seem to be highly variable sequences\n",
    "            total_exptime[i] = 8 * 30            \n",
    "    #targets['total_exptime'] = total_exptime\n",
    "\n",
    "    previous_exposure_time = np.concatenate([np.array([0]), targets['total_exptime'][:-1]])\n",
    "    # The target is supposed to be issued to the EFD when it hits the top of the scriptqueue \n",
    "    # which is supposed to be when the previous observation starts ... however\n",
    "    # an observation having many scripts may mean it doesn't hit the top of the scriptqueue then.\n",
    "    # (so this is probably more like a range of target.mjd + slewtime --- target + slewtime + previous exposure\n",
    "    targets[\"previous_exptime\"] = previous_exposure_time\n",
    "    targets[\"target_obsmjd\"] = Time(targets.index).mjd  + (targets['slewTime'])*seconds_to_days \n",
    "    if include_prev_exptime:\n",
    "        targets[\"target_obsmjd\"] += (targets[\"previous_exptime\"])*seconds_to_days\n",
    "    \n",
    "    # mangle the note again \n",
    "    targets['orig_note'] = targets.note.copy()\n",
    "    targets = targets.apply(demangle_note, axis=1)\n",
    "    \n",
    "    targets = targets.sort_values(by='target_obsmjd')\n",
    "    targets['target_id'] = np.arange(0, len(targets), 1)\n",
    "    targets = targets.reset_index(drop=True)\n",
    "    \n",
    "    print(f\"On night {day_obs} {tel} recorded {len(targets)} targets for \\n{targets.note.unique()}\") "
   ]
  },
  {
   "cell_type": "code",
   "execution_count": 8,
   "id": "866dc7ca-4e42-4a70-bb92-b5c875634fb5",
   "metadata": {
    "execution": {
     "iopub.execute_input": "2024-08-20T19:52:14.867109Z",
     "iopub.status.busy": "2024-08-20T19:52:14.866978Z",
     "iopub.status.idle": "2024-08-20T19:52:15.061937Z",
     "shell.execute_reply": "2024-08-20T19:52:15.061539Z",
     "shell.execute_reply.started": "2024-08-20T19:52:14.867097Z"
    }
   },
   "outputs": [
    {
     "name": "stdout",
     "output_type": "stream",
     "text": [
      "On night 2024-08-14 AuxTel recorded 31 observations\n"
     ]
    }
   ],
   "source": [
    "# Observations are the completed observation script .. to be compared with visits from the consdb\n",
    "\n",
    "topic = 'lsst.sal.Scheduler.logevent_observation'\n",
    "all_fields = await efd_client.get_fields(topic)\n",
    "obs = await efd_client.select_time_series(topic, all_fields, sunset, sunrise, index=index)\n",
    "\n",
    "if len(obs) == 0:\n",
    "    print(f\"On night {day_obs} aux tel recorded {len(obs)} observations\")\n",
    "\n",
    "else:\n",
    "    # timestamp is the time of successful end of observation/JSON block\n",
    "    obs['obs_time'] = obs.index.copy()\n",
    "    # Try to fix incorrect exposure times\n",
    "    #exptimes = obs['exptime'].values\n",
    "    #exptimes = np.where(exptimes == 360, 152, exptimes)\n",
    "    #exptimes = np.where(exptimes == 420, 495, exptimes)\n",
    "    #obs['exptime'] = exptimes\n",
    "\n",
    "    # obs time - exposure time should be start of observation (if exposure time is correct)\n",
    "    obs['obs_obsmjd'] = Time(obs.index).mjd - (obs['exptime'] * seconds_to_days)\n",
    "    \n",
    "    obs = obs.sort_values(by='obs_obsmjd')\n",
    "    obs['obs_id'] = np.arange(0, len(obs), 1)\n",
    "    obs = obs.reset_index(drop=True)\n",
    "    \n",
    "    print(f\"On night {day_obs} {tel} recorded {len(obs)} observations\") "
   ]
  },
  {
   "cell_type": "code",
   "execution_count": 9,
   "id": "56ea280c-c029-4689-8f2f-70c26f503a27",
   "metadata": {
    "execution": {
     "iopub.execute_input": "2024-08-20T19:52:15.062967Z",
     "iopub.status.busy": "2024-08-20T19:52:15.062555Z",
     "iopub.status.idle": "2024-08-20T19:52:15.067306Z",
     "shell.execute_reply": "2024-08-20T19:52:15.066938Z",
     "shell.execute_reply.started": "2024-08-20T19:52:15.062952Z"
    }
   },
   "outputs": [],
   "source": [
    "def match_obs_and_targets(obs, targets):\n",
    "    # Check targets -> observations\n",
    "    target_to_obs_match = np.zeros(len(targets), int)\n",
    "    obs_to_target_match = np.zeros(len(obs), int)\n",
    "\n",
    "    count = 0\n",
    "    for i, (ri, t) in enumerate(targets.iterrows()):\n",
    "        # Match obs_mjd, ra/dec/filter from target+observation\n",
    "        # the target.obs_mjd may overestimate actual mjd by ~ previous exposure\n",
    "        # if slewtime is inaccurate, target_obs.mjd may be inaccurate\n",
    "        # if visit includes JSON BLOCK with many steps, could be delays \n",
    "        # so that obs_obsmjd is later than reality\n",
    "        # some targets may never get completed observations\n",
    "        slew_error = 2.0 * minutes_to_days\n",
    "        target_error = t.previous_exptime\n",
    "        # prevents matching to \"wrong version\" of target\n",
    "        X = 28 * minutes_to_days\n",
    "        match = np.where((np.abs(t.target_obsmjd - obs.obs_obsmjd) < target_error + slew_error) # close in time\n",
    "                         & ((obs.obs_obsmjd - t.target_obsmjd) <= X) # not more than X\n",
    "                         & (t.ra == obs.ra) \n",
    "                         & (t.decl == obs.decl) \n",
    "                         & (t['filter'] == obs['filter'])\n",
    "                         & (obs_to_target_match == 0))[0]\n",
    "        if len(match) == 0:\n",
    "            print(f'no obs match for target {t.target_id}')\n",
    "            count += 1\n",
    "            target_to_obs_match[i] = -1\n",
    "        else:\n",
    "            # Consider target to have found the best match \n",
    "            # in the first (soonest) of 'match'\n",
    "            idx = match[0]\n",
    "            target_to_obs_match[i] = obs.iloc[idx]['obs_id']\n",
    "            # And consider observation to have found a match\n",
    "            obs_to_target_match[idx] = t['target_id']\n",
    "\n",
    "    obs['target_id'] = np.array(obs_to_target_match)\n",
    "    targets['obs_id'] = np.array(target_to_obs_match)\n",
    "    \n",
    "    print(f'failed to match {count} targets to observations')\n",
    "    print(f'compare to {len(targets) - len(obs)} expected difference')\n",
    "    return obs, targets"
   ]
  },
  {
   "cell_type": "code",
   "execution_count": 10,
   "id": "2f8df77e-41bc-4eca-beb3-d3b6acab871d",
   "metadata": {
    "execution": {
     "iopub.execute_input": "2024-08-20T19:52:15.068078Z",
     "iopub.status.busy": "2024-08-20T19:52:15.067952Z",
     "iopub.status.idle": "2024-08-20T19:52:15.100181Z",
     "shell.execute_reply": "2024-08-20T19:52:15.099811Z",
     "shell.execute_reply.started": "2024-08-20T19:52:15.068067Z"
    }
   },
   "outputs": [
    {
     "name": "stdout",
     "output_type": "stream",
     "text": [
      "no obs match for target 5\n",
      "no obs match for target 9\n",
      "no obs match for target 18\n",
      "no obs match for target 20\n",
      "no obs match for target 21\n",
      "no obs match for target 24\n",
      "no obs match for target 25\n",
      "no obs match for target 28\n",
      "no obs match for target 38\n",
      "no obs match for target 39\n",
      "no obs match for target 41\n",
      "failed to match 11 targets to observations\n",
      "compare to 11 expected difference\n"
     ]
    }
   ],
   "source": [
    "if len(obs) > 0:\n",
    "    obs, targets = match_obs_and_targets(obs, targets)"
   ]
  },
  {
   "cell_type": "code",
   "execution_count": 11,
   "id": "c1665de7-1903-4c50-867d-540b03b6a985",
   "metadata": {
    "execution": {
     "iopub.execute_input": "2024-08-20T19:52:15.100754Z",
     "iopub.status.busy": "2024-08-20T19:52:15.100635Z",
     "iopub.status.idle": "2024-08-20T19:52:15.106660Z",
     "shell.execute_reply": "2024-08-20T19:52:15.106305Z",
     "shell.execute_reply.started": "2024-08-20T19:52:15.100744Z"
    }
   },
   "outputs": [],
   "source": [
    "if len(obs) > 0:\n",
    "    # Join targets + obs\n",
    "    jj = obs.join(targets, on='target_id', lsuffix='_o', rsuffix='_t')\n",
    "    jj = jj.sort_values(by='obs_obsmjd')\n",
    "    \n",
    "    jj['delta_obs'] = np.concatenate([np.array([0]), np.diff(jj['obs_obsmjd'])/minutes_to_days]) # minutes -- should be close to expected overhead\n",
    "    jj['delta_request'] = (jj['obs_obsmjd'] - jj['target_obsmjd']) / minutes_to_days # minutes  -- should be close to 0\n",
    "    jj['expected_overhead'] = (jj['previous_exptime']+ jj['slewTime'])/60 # minutes\n",
    "else:\n",
    "    jj = []"
   ]
  },
  {
   "cell_type": "code",
   "execution_count": 12,
   "id": "6d2e407e-08c6-4264-838b-18fa19901b0f",
   "metadata": {
    "execution": {
     "iopub.execute_input": "2024-08-20T19:52:15.107253Z",
     "iopub.status.busy": "2024-08-20T19:52:15.107131Z",
     "iopub.status.idle": "2024-08-20T19:52:15.284389Z",
     "shell.execute_reply": "2024-08-20T19:52:15.284021Z",
     "shell.execute_reply.started": "2024-08-20T19:52:15.107241Z"
    }
   },
   "outputs": [
    {
     "data": {
      "image/png": "[encoded data removed]",
      "text/plain": [
       "<Figure size 640x480 with 1 Axes>"
      ]
     },
     "metadata": {},
     "output_type": "display_data"
    }
   ],
   "source": [
    "if len(jj) > 0:\n",
    "    _ = plt.hist(jj['delta_obs'], bins=np.arange(-2, 25, 0.5), alpha=0.4, histtype='bar', label='actual delta obs')\n",
    "    _ = plt.hist(jj['expected_overhead'], bins=np.arange(-2, 25, 0.5), alpha=0.3, histtype='bar', label='calc overhead between obs')\n",
    "    #_ = plt.hist(jj['delta_request'], bins=np.arange(-2, 25, 0.5), alpha=0.3, histtype='bar', label='delta expected obs time')\n",
    "    plt.legend()"
   ]
  },
  {
   "cell_type": "code",
   "execution_count": 13,
   "id": "917c3fd5-2621-400a-a148-938bf6fa2985",
   "metadata": {
    "execution": {
     "iopub.execute_input": "2024-08-20T19:52:15.285066Z",
     "iopub.status.busy": "2024-08-20T19:52:15.284939Z",
     "iopub.status.idle": "2024-08-20T19:52:15.305123Z",
     "shell.execute_reply": "2024-08-20T19:52:15.304740Z",
     "shell.execute_reply.started": "2024-08-20T19:52:15.285055Z"
    }
   },
   "outputs": [
    {
     "name": "stdout",
     "output_type": "stream",
     "text": [
      "14 17\n"
     ]
    }
   ],
   "source": [
    "# Where did the time between observations just take longer than expected \n",
    "# delta obs compared to (slewTime + exptime) BUT sheduler target estimate was correct\n",
    "\n",
    "overhead_error = 6\n",
    "\n",
    "if len(jj)>0: \n",
    "    overheads = np.where(np.abs(jj.delta_obs - jj.expected_overhead) > overhead_error)\n",
    "    \n",
    "    breaks = []\n",
    "    for b in overheads[0]:\n",
    "        b_start = jj.iloc[b-1]['obs_obsmjd'] # + jj.iloc[b-1]['exptime']/60/60/24\n",
    "        b_end = jj.iloc[b]['obs_obsmjd'] #- jj.iloc[b]['slewTime']/60/60/24\n",
    "        if (jj.iloc[b-1]['note'] == 'cwfs') | (jj.iloc[b]['note'] == 'cwfs') | (jj.iloc[b+1]['note'] == 'cwfs'):\n",
    "            # We can probably disregard many of these, for now, as cwfs sweeps \n",
    "            # seem to mess with queue order and have variable length\n",
    "            # but also, when we come out of \"break\", a real fault will tend to have a cwfs sequence.\n",
    "            # So try to distinguish these. \n",
    "            if b_end - b_start >= 10:\n",
    "                breaks.append([b_start, b_end])\n",
    "            else:\n",
    "                continue\n",
    "        else:\n",
    "            breaks.append([b_start, b_end])\n",
    "\n",
    "    # should also highlight anywhere there are more than one failed target in a row\n",
    "    t = targets.query('obs_id == -1')\n",
    "    i = 1\n",
    "    break_start = t['target_obsmjd'].iloc[0]\n",
    "    while i < len(t):\n",
    "        if (t['target_id'].iloc[i] - t['target_id'].iloc[i-1] > 1) | (i == len(t) - 1):\n",
    "            # We skipped more than one target id, so passed the end of the break\n",
    "            break_end = t['target_obsmjd'].iloc[i-1]\n",
    "            breaks.append([break_start, break_end])\n",
    "            break_start = t['target_obsmjd'].iloc[i]\n",
    "        i += 1\n",
    "    \n",
    "    \n",
    "print(len(overheads[0]), len(breaks))"
   ]
  },
  {
   "cell_type": "code",
   "execution_count": 14,
   "id": "89e70331-15e8-4583-8926-d5b2fb9c5aad",
   "metadata": {
    "execution": {
     "iopub.execute_input": "2024-08-20T19:52:15.305760Z",
     "iopub.status.busy": "2024-08-20T19:52:15.305637Z",
     "iopub.status.idle": "2024-08-20T19:52:15.509176Z",
     "shell.execute_reply": "2024-08-20T19:52:15.508769Z",
     "shell.execute_reply.started": "2024-08-20T19:52:15.305749Z"
    }
   },
   "outputs": [
    {
     "data": {
      "image/png": "[encoded data removed]",
      "text/plain": [
       "<Figure size 640x480 with 1 Axes>"
      ]
     },
     "metadata": {},
     "output_type": "display_data"
    }
   ],
   "source": [
    "if len(jj) > 0:\n",
    "    plt.figure()\n",
    "    \n",
    "    eps = 1\n",
    "    for note in jj.note.unique():\n",
    "        j = jj.query('note == @note')\n",
    "        plt.plot(j.delta_obs, j.expected_overhead, '.', label=note)\n",
    "    j = jj.iloc[overheads]\n",
    "    plt.plot(j.delta_obs, j.expected_overhead, 'o',\n",
    "             markersize=10, color='k', markerfacecolor='none', label='Big Overhead')\n",
    "    plt.legend(loc=(1.01, 0.5))\n",
    "    for exptime in jj.exptime.unique():\n",
    "        plt.axhline(exptime/60, color='gray', linestyle=':', alpha=0.6)\n",
    "    \n",
    "    x = np.arange(0, 60)\n",
    "    plt.plot(x, x, 'r:')\n",
    "    plt.fill_between(x, x-overhead_error, x+overhead_error,  color='r', alpha=0.1)\n",
    "    plt.grid(True, alpha=0.3)\n",
    "    \n",
    "    plt.xlim(0, np.max(jj.delta_obs) + eps)\n",
    "    plt.ylim(0, np.max(jj.expected_overhead) + eps/2)\n",
    "    \n",
    "    plt.xlabel(\"DeltaT between start of observations (minutes)\")\n",
    "    plt.ylabel(\"Expected overhead (exptime + slew) (minutes)\")"
   ]
  },
  {
   "cell_type": "code",
   "execution_count": 15,
   "id": "f610d121-b75a-456c-b642-23aa29dd0d57",
   "metadata": {
    "execution": {
     "iopub.execute_input": "2024-08-20T19:52:15.509814Z",
     "iopub.status.busy": "2024-08-20T19:52:15.509691Z",
     "iopub.status.idle": "2024-08-20T19:52:15.591045Z",
     "shell.execute_reply": "2024-08-20T19:52:15.590675Z",
     "shell.execute_reply.started": "2024-08-20T19:52:15.509803Z"
    }
   },
   "outputs": [
    {
     "name": "stdout",
     "output_type": "stream",
     "text": [
      "Retrieved 618 visits from consdb\n",
      "About 146 of these are object images\n"
     ]
    }
   ],
   "source": [
    "# Add consdb\n",
    "\n",
    "day_obs_int = int(day_obs.replace('-', ''))\n",
    "\n",
    "visit_query = f'''\n",
    "    SELECT * FROM cdb_{instrument}.visit1\n",
    "     where day_obs = {day_obs_int}\n",
    "'''\n",
    "\n",
    "quicklook_query = f'''\n",
    "    SELECT q.*  FROM cdb_{instrument}.visit1_quicklook as q,\n",
    "    cdb_{instrument}.visit1 as v\n",
    "     WHERE v.day_obs = {day_obs_int} and q.visit_id = v.visit_id\n",
    "'''\n",
    "\n",
    "if have_consdb:\n",
    "    # Use the ConsDB Client, and add a couple of tries \n",
    "    consdb = ConsDbClient()\n",
    "    \n",
    "    try:\n",
    "        visits = consdb.query(visit_query).to_pandas()\n",
    "    except requests.HTTPError or requests.JSONDecodeError:\n",
    "        # Try twice\n",
    "        visits = consdb.query(visit_query).to_pandas()\n",
    "\n",
    "    quicklook = consdb.query(quicklook_query).to_pandas()\n",
    "\n",
    "else:\n",
    "    # Assumes at the USDF\n",
    "    connect = sqlalchemy.create_engine('postgresql://usdf@usdf-summitdb.slac.stanford.edu/exposurelog')\n",
    "    visits = pd.read_sql(visit_query, connection)\n",
    "    quicklook = pd.read_sql(quicklook_query, connection)\n",
    "\n",
    "if len(visits) > 0:\n",
    "    print(f\"Retrieved {len(visits)} visits from consdb\")\n",
    "    obj_vis = len(visits.query('img_type == \"OBJECT\"'))\n",
    "    print(f\"About {obj_vis} of these are object images\")\n",
    "\n",
    "if len(quicklook) > 0:\n",
    "    visits = visits.join(quicklook, on='visit_id', lsuffix='', rsuffix='_q')\n",
    "    print(f\"And added quicklook stats\")\n",
    "\n",
    "if len(visits) == 0:\n",
    "    print(f\"No visits for {tel} on {day_obs} retrieved from consdb\")"
   ]
  },
  {
   "cell_type": "code",
   "execution_count": 16,
   "id": "ec0f668a-ec1b-4fc1-9b5a-4ca76845c430",
   "metadata": {
    "execution": {
     "iopub.execute_input": "2024-08-20T19:52:15.591660Z",
     "iopub.status.busy": "2024-08-20T19:52:15.591533Z",
     "iopub.status.idle": "2024-08-20T19:52:15.593999Z",
     "shell.execute_reply": "2024-08-20T19:52:15.593636Z",
     "shell.execute_reply.started": "2024-08-20T19:52:15.591649Z"
    }
   },
   "outputs": [],
   "source": [
    "verbose = False\n",
    "short_cols = ['seq_num', 'obs_start_mjd', 'obs_end_mjd', 'exp_time', 'shut_time', 'dark_time', 's_ra', 's_dec', 'band', 'airmass', \n",
    "              'img_type', 'target_name', 'science_program', 'observation_reason', 'dimm_seeing']\n",
    "if len(visits)>0 and verbose:\n",
    "    display(visits[short_cols])"
   ]
  },
  {
   "cell_type": "code",
   "execution_count": 17,
   "id": "b286ec95-7e77-4deb-a7d3-036c3324da39",
   "metadata": {
    "execution": {
     "iopub.execute_input": "2024-08-20T19:52:15.594585Z",
     "iopub.status.busy": "2024-08-20T19:52:15.594451Z",
     "iopub.status.idle": "2024-08-20T19:52:15.609898Z",
     "shell.execute_reply": "2024-08-20T19:52:15.609606Z",
     "shell.execute_reply.started": "2024-08-20T19:52:15.594573Z"
    }
   },
   "outputs": [],
   "source": [
    "# construct a 'note' to match visits with the target/observation colors\n",
    "def construct_note(x):\n",
    "    if x.science_program == 'cwfs' or x.science_program == 'cwfs-focus-sweep':\n",
    "        note = 'cwfs'\n",
    "    elif x.science_program == \"BLOCK-295\":\n",
    "        note = 'calibrations'\n",
    "    elif x.target_name == 'FlatField position':\n",
    "        note = 'calibrations'\n",
    "    elif x.science_program == 'AUXTEL_PHOTO_IMAGING':\n",
    "        note = x.target_name.split('_')[0]\n",
    "    elif x.science_program == 'spec-survey':\n",
    "        note = x.target_name\n",
    "    else:\n",
    "        note = 'unknown'\n",
    "    return note\n",
    "\n",
    "if len(visits)>0:\n",
    "    note = visits.apply(construct_note, axis=1)\n",
    "    visits['note'] = note"
   ]
  },
  {
   "cell_type": "code",
   "execution_count": 18,
   "id": "2e89bf7e-ba97-4167-8f48-2999702d6323",
   "metadata": {
    "execution": {
     "iopub.execute_input": "2024-08-20T19:52:15.610442Z",
     "iopub.status.busy": "2024-08-20T19:52:15.610319Z",
     "iopub.status.idle": "2024-08-20T19:52:15.612385Z",
     "shell.execute_reply": "2024-08-20T19:52:15.612105Z",
     "shell.execute_reply.started": "2024-08-20T19:52:15.610427Z"
    }
   },
   "outputs": [],
   "source": [
    "def mjd_to_datetime(mjd):\n",
    "    return Time(mjd, format='mjd', scale='utc').to_datetime(timezone=tz)"
   ]
  },
  {
   "cell_type": "code",
   "execution_count": 19,
   "id": "8a9cdb65-a38c-49f3-a86c-68427d475110",
   "metadata": {
    "execution": {
     "iopub.execute_input": "2024-08-20T19:52:15.612953Z",
     "iopub.status.busy": "2024-08-20T19:52:15.612834Z",
     "iopub.status.idle": "2024-08-20T19:52:16.284699Z",
     "shell.execute_reply": "2024-08-20T19:52:16.284346Z",
     "shell.execute_reply.started": "2024-08-20T19:52:15.612943Z"
    }
   },
   "outputs": [
    {
     "data": {
      "text/plain": [
       "Text(0, 0.5, 'Airmass')"
      ]
     },
     "execution_count": 19,
     "metadata": {},
     "output_type": "execute_result"
    },
    {
     "data": {
      "image/png": "[encoded data removed]",
      "text/plain": [
       "<Figure size 1100x700 with 1 Axes>"
      ]
     },
     "metadata": {},
     "output_type": "display_data"
    }
   ],
   "source": [
    "eps = 1\n",
    "plt.figure(figsize=(11, 7))\n",
    "plt.title(f\"{tel} DAYOBS {day_obs}\")\n",
    "\n",
    "\n",
    "plt.fill_between([mjd_to_datetime(night_events['sun_n12_setting']), \n",
    "                  mjd_to_datetime(night_events['sun_n18_setting'])],\n",
    "                 2.5, 0.0, color='lightgray', alpha=0.3)\n",
    "plt.fill_between([mjd_to_datetime(night_events['sunset']), \n",
    "                 mjd_to_datetime(night_events['sun_n12_setting'])], \n",
    "                  2.5, 0.0, color='gray', alpha=0.3)\n",
    "plt.fill_between([mjd_to_datetime(night_events['sun_n18_rising']), \n",
    "                 mjd_to_datetime(night_events['sun_n12_rising'])],\n",
    "                 2.5, 0.0, color='lightgray', alpha=0.3)\n",
    "plt.fill_between([mjd_to_datetime(night_events['sun_n12_rising']), \n",
    "                 mjd_to_datetime(night_events['sunrise'])],\n",
    "                 2.5, 0.0, color='gray', alpha=0.3)\n",
    "\n",
    "plt.axvline(mjd_to_datetime(night_events['moonrise']), linestyle=':', color='blue', alpha=0.3)\n",
    "\n",
    "plot_fbs = True\n",
    "if len(jj) == 0:\n",
    "    plot_fbs = False\n",
    "plot_visits = True\n",
    "if len(visits) == 0:\n",
    "    plot_visits = False\n",
    "\n",
    "# Assign distinct target sets with different colors\n",
    "if len(jj) > 0:\n",
    "    notes = jj.note.unique()\n",
    "    note_colors = {}\n",
    "    for i, n in enumerate(notes):\n",
    "        note_colors[n] = cc.glasbey[i]\n",
    "elif len(visits) > 0:\n",
    "    notes = visits.note.unique()\n",
    "    note_colors = {}\n",
    "    for i, n in enumerate(notes):\n",
    "        note_colors[n] = cc.glasbey[i]\n",
    "else:\n",
    "    plot_fbs = False\n",
    "    plot_visits = False\n",
    "\n",
    "\n",
    "if plot_fbs:\n",
    "    # Plot the successfully recorded 'observation' scripts\n",
    "    for note in jj.note.unique():\n",
    "        j = jj.query('note == @note')\n",
    "        plt.plot(mjd_to_datetime(j.obs_obsmjd), j.airmass, '.', \n",
    "                 color=note_colors[note], label=f\"Target/Obs {note}\")\n",
    "    \n",
    "    if len(breaks) > 0:\n",
    "        for break_count, b in enumerate(breaks):\n",
    "            plt.fill_between(mjd_to_datetime(b), 2.5, 0.0, color='pink', alpha=0.3)\n",
    "            plt.text(mjd_to_datetime(b[0]), 0.97, break_count)\n",
    "\n",
    "    # Plot the observations that come after what looks like big overheads\n",
    "    #j = jj.iloc[overheads]\n",
    "    #plt.plot(j.obs_obsmjd, j.airmass, 'o', \n",
    "    #         markersize=10, color='k', markerfacecolor='none', label='Big Overheads')\n",
    "\n",
    "i = len(cc.glasbey) - 1\n",
    "if plot_visits:\n",
    "    # Plot the visits recorded in the consdb \n",
    "    for note in visits.note.unique():\n",
    "        try:\n",
    "            color = note_colors[note]\n",
    "        except KeyError:\n",
    "            color = cc.glasbey[i]\n",
    "            i -= 1\n",
    "        v = visits.query('note == @note')\n",
    "        plt.plot(mjd_to_datetime(v.obs_start_mjd), v.airmass, '.', \n",
    "                 markersize=9, markerfacecolor='none', alpha=0.6,\n",
    "                 label=f'Visits {note}', color=color, zorder=3)\n",
    "\n",
    "if plot_fbs:\n",
    "    # Plot the targets which did not get 'observations' recorded\n",
    "    for note in targets.note.unique():\n",
    "        try:\n",
    "            color = note_colors[note]\n",
    "        except KeyError:\n",
    "            color = cc.glasbey[i]\n",
    "            i -= 1\n",
    "        t = targets.query('note == @note and obs_id == -1')\n",
    "        plt.plot(mjd_to_datetime(t.target_obsmjd), \n",
    "                 t.airmass, '+', markersize=9, \n",
    "                 label=f'Failed {note}', color=color, zorder=1)\n",
    "\n",
    "\n",
    "plt.legend(loc=(1.01, 0.0))\n",
    "\n",
    "plt.xlim(mjd_to_datetime(night_events['sunset']+30/60/24), \n",
    "         mjd_to_datetime(night_events['sunrise']-30/60/24))\n",
    "#plt.xlim(mjd_to_datetime(60516.057851-30/60/24), mjd_to_datetime(60516.076206+30/60/24))\n",
    "plt.ylim(2.3, 0.9)\n",
    "\n",
    "plt.xlabel(f\"Time ({tz})\", fontsize=\"large\")\n",
    "plt.ylabel(\"Airmass\", fontsize=\"large\")"
   ]
  },
  {
   "cell_type": "code",
   "execution_count": 20,
   "id": "8f27120f-ab2b-4e2a-ae54-d11015fdab9e",
   "metadata": {
    "execution": {
     "iopub.execute_input": "2024-08-20T19:52:16.285354Z",
     "iopub.status.busy": "2024-08-20T19:52:16.285222Z",
     "iopub.status.idle": "2024-08-20T19:52:17.527272Z",
     "shell.execute_reply": "2024-08-20T19:52:17.526947Z",
     "shell.execute_reply.started": "2024-08-20T19:52:16.285342Z"
    }
   },
   "outputs": [
    {
     "name": "stdout",
     "output_type": "stream",
     "text": [
      "During break 0 (17 minutes)- 2024-08-14 19:48:43.127960-04:00 to 2024-08-14 20:05:34.268959-04:00 : \n",
      "  Scripts: ['auxtel/latiss_acquire_and_take_sequence.py'\n",
      " 'auxtel/latiss_take_sequence.py' 'auxtel/offset_atcs.py'\n",
      " 'auxtel/correct_pointing.py']\n",
      "\n",
      "During break 1 (9 minutes)- 2024-08-14 20:18:53.681766-04:00 to 2024-08-14 20:27:36.157868-04:00 : \n",
      "  Scripts: ['auxtel/latiss_acquire_and_take_sequence.py'\n",
      " 'auxtel/latiss_take_sequence.py' 'auxtel/offset_atcs.py']\n",
      "\n",
      "During break 2 (14 minutes)- 2024-08-14 20:33:53.389667-04:00 to 2024-08-14 20:47:30.164945-04:00 : \n",
      "  Scripts: ['auxtel/latiss_take_sequence.py' 'auxtel/offset_atcs.py'\n",
      " 'auxtel/latiss_acquire_and_take_sequence.py']\n",
      "\n",
      "During break 3 (11 minutes)- 2024-08-14 21:02:33.999611-04:00 to 2024-08-14 21:13:39.477928-04:00 : \n",
      "  Scripts: ['auxtel/latiss_take_sequence.py' 'auxtel/offset_atcs.py'\n",
      " 'auxtel/latiss_acquire_and_take_sequence.py']\n",
      "\n",
      "During break 4 (42 minutes)- 2024-08-14 21:24:00.998580-04:00 to 2024-08-14 22:05:55.356366-04:00 : \n",
      "  lsst.sal.ATPtg.logevent_errorCode\n",
      "   2024-08-14 21:43:52.238236-04:00 rotator out of range\n",
      "   2024-08-14 21:44:24.361342-04:00 \n",
      "  Scripts: ['auxtel/correct_pointing.py' 'auxtel/latiss_wep_align.py'\n",
      " 'auxtel/offset_atcs.py' 'auxtel/offset_ataos.py'\n",
      " 'auxtel/take_image_latiss.py'\n",
      " 'auxtel/latiss_acquire_and_take_sequence.py'\n",
      " 'auxtel/latiss_take_sequence.py' 'auxtel/track_target.py']\n",
      "\n",
      "During break 5 (25 minutes)- 2024-08-14 22:35:55.182986-04:00 to 2024-08-14 23:00:35.788294-04:00 : \n",
      "  lsst.sal.ATPtg.logevent_errorCode\n",
      "   2024-08-14 22:47:31.696481-04:00 Error ATMCS replied error for stopTracking command (1722591600) Error no:0 message:ERROR command rejected on current state.\n",
      "   2024-08-14 22:48:47.953071-04:00 \n",
      "  Scripts: ['auxtel/latiss_acquire_and_take_sequence.py'\n",
      " 'auxtel/latiss_take_sequence.py' 'auxtel/offset_atcs.py' 'run_command.py']\n",
      "\n",
      "During break 6 (21 minutes)- 2024-08-14 23:26:32.357258-04:00 to 2024-08-14 23:47:09.097593-04:00 : \n",
      "  lsst.sal.ATPtg.logevent_errorCode\n",
      "   2024-08-14 23:39:22.081990-04:00 rotator out of range\n",
      "   2024-08-14 23:39:59.028440-04:00 \n",
      "  Scripts: ['auxtel/latiss_acquire_and_take_sequence.py'\n",
      " 'auxtel/latiss_take_sequence.py' 'auxtel/offset_atcs.py'\n",
      " 'auxtel/correct_pointing.py' 'auxtel/track_target.py']\n",
      "\n",
      "During break 7 (10 minutes)- 2024-08-15 00:29:10.453994-04:00 to 2024-08-15 00:38:57.293800-04:00 : \n",
      "  Scripts: ['auxtel/latiss_acquire_and_take_sequence.py'\n",
      " 'auxtel/latiss_take_sequence.py' 'auxtel/offset_atcs.py']\n",
      "\n",
      "During break 8 (19 minutes)- 2024-08-15 00:46:21.669534-04:00 to 2024-08-15 01:05:20.623861-04:00 : \n",
      "  lsst.sal.ATPtg.logevent_errorCode\n",
      "   2024-08-15 00:54:20.121505-04:00 rotator out of range\n",
      "   2024-08-15 00:54:45.318166-04:00 \n",
      "  Scripts: ['auxtel/latiss_acquire_and_take_sequence.py'\n",
      " 'auxtel/latiss_take_sequence.py' 'auxtel/offset_atcs.py'\n",
      " 'auxtel/track_target.py' 'auxtel/correct_pointing.py']\n",
      "\n",
      "During break 9 (16 minutes)- 2024-08-15 01:05:20.623861-04:00 to 2024-08-15 01:21:13.099084-04:00 : \n",
      "  Scripts: ['auxtel/latiss_acquire_and_take_sequence.py'\n",
      " 'auxtel/latiss_take_sequence.py' 'auxtel/offset_atcs.py'\n",
      " 'auxtel/track_target.py' 'auxtel/correct_pointing.py']\n",
      "\n",
      "During break 10 (0 minutes)- 2024-08-14 20:14:07.835462-04:00 to 2024-08-14 20:14:07.835462-04:00 : \n",
      "\n",
      "During break 11 (0 minutes)- 2024-08-14 20:42:38.719844-04:00 to 2024-08-14 20:42:38.719844-04:00 : \n",
      "\n",
      "During break 12 (0 minutes)- 2024-08-14 22:30:36.635233-04:00 to 2024-08-14 22:30:36.635233-04:00 : \n",
      "\n",
      "During break 13 (6 minutes)- 2024-08-14 22:43:11.665113-04:00 to 2024-08-14 22:49:18.218792-04:00 : \n",
      "  lsst.sal.ATPtg.logevent_errorCode\n",
      "   2024-08-14 22:47:31.696481-04:00 Error ATMCS replied error for stopTracking command (1722591600) Error no:0 message:ERROR command rejected on current state.\n",
      "   2024-08-14 22:48:47.953071-04:00 \n",
      "  Scripts: ['auxtel/latiss_acquire_and_take_sequence.py'\n",
      " 'auxtel/latiss_take_sequence.py' 'auxtel/offset_atcs.py']\n",
      "\n",
      "During break 14 (7 minutes)- 2024-08-14 23:11:08.382990-04:00 to 2024-08-14 23:17:43.318019-04:00 : \n",
      "  Scripts: ['auxtel/latiss_acquire_and_take_sequence.py'\n",
      " 'auxtel/latiss_take_sequence.py' 'auxtel/offset_atcs.py']\n",
      "\n",
      "During break 15 (0 minutes)- 2024-08-14 23:35:06.882239-04:00 to 2024-08-14 23:35:06.882239-04:00 : \n",
      "\n",
      "During break 16 (2 minutes)- 2024-08-15 01:12:50.878446-04:00 to 2024-08-15 01:14:30.883757-04:00 : \n",
      "  Scripts: ['auxtel/track_target.py' 'auxtel/correct_pointing.py'\n",
      " 'auxtel/latiss_acquire_and_take_sequence.py'\n",
      " 'auxtel/latiss_take_sequence.py' 'auxtel/offset_atcs.py']\n",
      "\n"
     ]
    }
   ],
   "source": [
    "topics = await efd_client.get_topics()\n",
    "if tel.lower().startswith('aux'):\n",
    "    err_topics = [t for t in topics if 'err' in t and 'MT' not in t]\n",
    "else:\n",
    "    err_topics = [t for t in topics if 'err' in t and 'AT' not in t]\n",
    "\n",
    "try: \n",
    "    breaks\n",
    "except NameError:\n",
    "    breaks = [[sunset, sunrise]]\n",
    "\n",
    "for i, b in enumerate(breaks):\n",
    "    t1 = Time(b[0], format='mjd', scale='utc')\n",
    "    t2 = Time(b[1], format='mjd', scale='utc')\n",
    "    print(f\"During break {i} ({round((t2-t1).sec/60)} minutes)- {mjd_to_datetime(t1.mjd)} to {mjd_to_datetime(t2.mjd)} : \")\n",
    "    # Poll error topics\n",
    "    for topic in err_topics:\n",
    "        df = await efd_client.select_time_series(topic, ['errorCode', 'errorReport'], t1, t2)\n",
    "        if len(df) > 0:\n",
    "            print(' ', topic)\n",
    "            for ij, row in df.iterrows():\n",
    "                print(f\"   {mjd_to_datetime(Time(ij).mjd)} {row.errorReport}\")\n",
    "    # Also check what was going on in scriptqueue\n",
    "    df = await efd_client.select_time_series('lsst.sal.ScriptQueue.logevent_script', ['path'], t1, t2, index=index)\n",
    "    if len(df) > 0:\n",
    "        print(f'  Scripts: {df.path.unique()}') \n",
    "    print('')"
   ]
  },
  {
   "cell_type": "code",
   "execution_count": 21,
   "id": "03708105-c784-48c7-ac28-8ba4fbc90a52",
   "metadata": {
    "execution": {
     "iopub.execute_input": "2024-08-20T19:52:17.527995Z",
     "iopub.status.busy": "2024-08-20T19:52:17.527764Z",
     "iopub.status.idle": "2024-08-20T19:52:17.559539Z",
     "shell.execute_reply": "2024-08-20T19:52:17.559195Z",
     "shell.execute_reply.started": "2024-08-20T19:52:17.527982Z"
    }
   },
   "outputs": [],
   "source": [
    "# Grab information from the narrative log -- \n",
    "# How to tell what is auxtel and what is simonyi or other system? do we care or is this for the reader? \n",
    "connection = sqlalchemy.create_engine('postgresql://usdf@usdf-summitdb.slac.stanford.edu/narrativelog')\n",
    "\n",
    "narrative_query = f\"select site_id, message_text, time_lost, date_begin, date_invalidated, systems, \\\n",
    "    subsystems, cscs, date_end, time_lost_type from message where date_begin between '{sunset.iso}' and '{sunrise.iso}'\"\n",
    "\n",
    "narrative_log = pd.read_sql(narrative_query, connection)"
   ]
  },
  {
   "cell_type": "code",
   "execution_count": 22,
   "id": "29ca2a5e-7f72-4f8c-b993-efdb326cbf39",
   "metadata": {
    "execution": {
     "iopub.execute_input": "2024-08-20T19:52:17.560311Z",
     "iopub.status.busy": "2024-08-20T19:52:17.560139Z",
     "iopub.status.idle": "2024-08-20T19:52:17.562251Z",
     "shell.execute_reply": "2024-08-20T19:52:17.561890Z",
     "shell.execute_reply.started": "2024-08-20T19:52:17.560292Z"
    }
   },
   "outputs": [],
   "source": [
    "# Host usdf-summitdb.slac.stanford.edu, database narrativelog, schema public, table message\n",
    "# Host usdf-summitdb.slac.stanford.edu, database exposurelog, schema public, table message (consdb is in exposurelog too)"
   ]
  },
  {
   "cell_type": "code",
   "execution_count": 23,
   "id": "e076d076-9f43-4f8a-81e8-e5b79b3a2b76",
   "metadata": {
    "execution": {
     "iopub.execute_input": "2024-08-20T19:52:17.562853Z",
     "iopub.status.busy": "2024-08-20T19:52:17.562727Z",
     "iopub.status.idle": "2024-08-20T19:52:17.565926Z",
     "shell.execute_reply": "2024-08-20T19:52:17.565614Z",
     "shell.execute_reply.started": "2024-08-20T19:52:17.562841Z"
    }
   },
   "outputs": [],
   "source": [
    "#narrative_log"
   ]
  },
  {
   "cell_type": "code",
   "execution_count": 24,
   "id": "853481c0-8c98-4a99-98cd-aa692da6445d",
   "metadata": {
    "execution": {
     "iopub.execute_input": "2024-08-20T19:52:17.566696Z",
     "iopub.status.busy": "2024-08-20T19:52:17.566431Z",
     "iopub.status.idle": "2024-08-20T19:52:17.584448Z",
     "shell.execute_reply": "2024-08-20T19:52:17.584122Z",
     "shell.execute_reply.started": "2024-08-20T19:52:17.566683Z"
    }
   },
   "outputs": [
    {
     "name": "stdout",
     "output_type": "stream",
     "text": [
      "Log message at: 2024-08-15 03:20:43.992000 to 2024-08-15 03:20:43.992000 (60537.13939805556 60537.13939805556)\n",
      "time lost 0 days 00:00:00 time lost type fault systems None subsystems None CSCS None\n",
      "At   03:19:17 TAI  - SALindex: 202324\n",
      "Timeout waiting for the data to be ingested.\n",
      "\n",
      "Date invalidated NaT\n",
      "\n",
      "\n",
      "Log message at: 2024-08-15 00:46:24.774000 to 2024-08-15 00:46:24.774000 (60537.03223118056 60537.03223118056)\n",
      "time lost 0 days 00:00:00 time lost type fault systems None subsystems None CSCS None\n",
      "At 0:44:03 TAI   --  SALindex 202140\n",
      " \n",
      "Timed out waiting for the data to be ingested. \n",
      "People are working on this issue, the file system is having problems.\n",
      "\n",
      "Date invalidated NaT\n",
      "\n",
      "\n",
      "Log message at: 2024-08-15 01:24:22.718000 to 2024-08-15 01:24:22.718000 (60537.05859627315 60537.05859627315)\n",
      "time lost 0 days 00:00:00 time lost type fault systems None subsystems None CSCS None\n",
      "At 01:22:38 TAI   SALindex 202175\n",
      "Timeout waiting for the data to be ingested.\n",
      "\n",
      "Date invalidated NaT\n",
      "\n",
      "\n",
      "Log message at: 2024-08-15 01:44:09.586000 to 2024-08-15 01:44:09.586000 (60537.072333171294 60537.072333171294)\n",
      "time lost 0 days 00:00:00 time lost type fault systems None subsystems None CSCS None\n",
      "ATPtg went to fault\n",
      "\n",
      "Date invalidated 2024-08-15 01:53:59.060863\n",
      "\n",
      "\n",
      "Log message at: 2024-08-15 02:34:17.798000 to 2024-08-15 02:34:17.798000 (60537.10715043981 60537.10715043981)\n",
      "time lost 0 days 00:00:00 time lost type fault systems None subsystems None CSCS None\n",
      "At 02:32:56 TAI -  SALindex: 202273  \n",
      " Timeout waiting for the data to be ingested.\n",
      "\n",
      "Date invalidated NaT\n",
      "\n",
      "\n",
      "Log message at: 2024-08-15 02:51:25.765000 to 2024-08-15 02:51:25.765000 (60537.11904820602 60537.11904820602)\n",
      "time lost 0 days 00:00:00 time lost type fault systems None subsystems None CSCS None\n",
      "At 02:48:08 TAI  - SALindex: 202288\n",
      "ATDomeTrajectory disabled and ATPtg went to fault. \n",
      "\n",
      "Date invalidated NaT\n",
      "\n",
      "\n",
      "Log message at: 2024-08-15 02:58:52.519000 to 2024-08-15 02:58:52.519000 (60537.124218969904 60537.124218969904)\n",
      "time lost 0 days 00:00:00 time lost type fault systems None subsystems None CSCS None\n",
      "Due to the faults caused by Timeout waiting for the data ingestion, OBS-569 was created\n",
      "\n",
      "Date invalidated NaT\n",
      "\n",
      "\n",
      "Log message at: 2024-08-15 03:11:34.299000 to 2024-08-15 03:11:34.299000 (60537.13303586806 60537.13303586806)\n",
      "time lost 0 days 00:00:00 time lost type fault systems None subsystems None CSCS None\n",
      "At  03:09:42 TAI  -- SALindex 202310\n",
      "Timeout waiting for the data to be ingested.\n",
      "\n",
      "Date invalidated NaT\n",
      "\n",
      "\n",
      "Log message at: 2024-08-14 23:44:40.146000 to 2024-08-14 23:44:40.146000 (60536.98935354166 60536.98935354166)\n",
      "time lost 0 days 00:00:00 time lost type fault systems None subsystems None CSCS None\n",
      "Observations are running \n",
      "\n",
      "Date invalidated NaT\n",
      "\n",
      "\n",
      "Log message at: 2024-08-14 23:16:38.967000 to 2024-08-14 23:16:38.967000 (60536.96989545139 60536.96989545139)\n",
      "time lost 0 days 00:00:00 time lost type fault systems None subsystems None CSCS None\n",
      "Preparing to go on sky\n",
      "\n",
      "Date invalidated NaT\n",
      "\n",
      "\n",
      "Log message at: 2024-08-15 00:08:24.211000 to 2024-08-15 00:08:24.211000 (60537.00583577546 60537.00583577546)\n",
      "time lost 0 days 00:00:00 time lost type fault systems None subsystems None CSCS None\n",
      "Timeout error at 00:01:43 TAI    -   SALindex: 202098 during correct_pointing.\n",
      "Tiago told us it was a timed out waiting for the data to be ingested.\n",
      "      Seen in \"await self.latiss.rem.atoods.evt_imageInOODS.next\" in the traceback\n",
      "\n",
      "Date invalidated NaT\n",
      "\n",
      "\n",
      "Log message at: 2024-08-15 00:08:24.211000 to 2024-08-15 00:08:24.211000 (60537.00583577546 60537.00583577546)\n",
      "time lost 0 days 00:00:00 time lost type fault systems None subsystems None CSCS None\n",
      "Timeout error at 00:01:43 TAI    -   SALindex: 202098 during correct_pointing.\n",
      "Tiago told us it was a timed out waiting for the data to be ingested.\n",
      "\n",
      "Date invalidated 2024-08-15 00:34:15.190799\n",
      "\n",
      "\n",
      "Log message at: 2024-08-15 00:46:24.774000 to 2024-08-15 00:46:24.774000 (60537.03223118056 60537.03223118056)\n",
      "time lost 0 days 00:00:00 time lost type fault systems None subsystems None CSCS None\n",
      "At 0:44:03 TAI   --  SALindex 202140\n",
      " \n",
      "Timed out waiting for the data to be ingested.\n",
      "\n",
      "Date invalidated 2024-08-15 01:14:28.800176\n",
      "\n",
      "\n",
      "Log message at: 2024-08-15 00:46:24.774000 to 2024-08-15 00:46:24.774000 (60537.03223118056 60537.03223118056)\n",
      "time lost 0 days 00:00:00 time lost type fault systems None subsystems None CSCS None\n",
      "At 0:44:03 TAI   --  SALindex 202140\n",
      " \n",
      "Timed out waiting for the data to be ingested. \n",
      "People are working on this issue\n",
      "\n",
      "Date invalidated 2024-08-15 01:16:53.397294\n",
      "\n",
      "\n",
      "Log message at: 2024-08-15 01:25:53.302000 to 2024-08-15 01:25:53.302000 (60537.059644699075 60537.059644699075)\n",
      "time lost 0 days 00:00:00 time lost type fault systems None subsystems None CSCS None\n",
      "At 01:24:42 TAI   --   SALindex: 202185 \n",
      "Timeout waiting for the data to be ingested.\n",
      "\n",
      "Date invalidated NaT\n",
      "\n",
      "\n",
      "Log message at: 2024-08-15 01:25:53.302000 to 2024-08-15 01:25:53.302000 (60537.059644699075 60537.059644699075)\n",
      "time lost 0 days 00:00:00 time lost type fault systems None subsystems None CSCS None\n",
      " SALindex: 202185 01:24:42 TAI \n",
      "Timeout waiting for the data to be ingested.\n",
      "\n",
      "Date invalidated 2024-08-15 01:34:03.348167\n",
      "\n",
      "\n",
      "Log message at: 2024-08-15 01:44:09.586000 to 2024-08-15 01:44:09.586000 (60537.072333171294 60537.072333171294)\n",
      "time lost 0 days 00:00:00 time lost type fault systems None subsystems None CSCS None\n",
      "ATPtg went to fault at  01:44:30 TAI    -   SALindex: 202213\n",
      "\n",
      "Date invalidated NaT\n",
      "\n",
      "\n",
      "Log message at: 2024-08-15 05:20:08.330000 to 2024-08-15 05:20:08.330000 (60537.22231863426 60537.22231863426)\n",
      "time lost 0 days 00:00:00 time lost type fault systems None subsystems None CSCS None\n",
      "LOVE, not behaving.\n",
      "LOVE has been presenting problems with its cadence. It is displaying old messages even after a refresh, losing some errors or information that have to be traced back. There is hidden information for some computers connected to the network. For example, one Summary state view session is displaying new information, but at the same time, LOVE on another connected computer is nothing displayed. \n",
      "All the ATTCS hard bits have been freezing intermittently.\n",
      "\n",
      "Date invalidated NaT\n",
      "\n",
      "\n",
      "Log message at: 2024-08-15 00:00:36.079000 to 2024-08-15 00:00:36.079000 (60537.00041758102 60537.00041758102)\n",
      "time lost 0 days 00:00:00 time lost type fault systems None subsystems None CSCS None\n",
      "Fault at  23:58:28 TAI  SALindex: 202088\n",
      "Error \"Centroid finding algorithm was unsuccessful.\"\n",
      "\n",
      "Date invalidated NaT\n",
      "\n",
      "\n",
      "Log message at: 2024-08-15 00:08:24.211000 to 2024-08-15 00:08:24.211000 (60537.00583577546 60537.00583577546)\n",
      "time lost 0 days 00:00:00 time lost type fault systems None subsystems None CSCS None\n",
      "Timeout error at 00:01:43 TAI    -   SALindex: 202098\n",
      "\n",
      "Date invalidated 2024-08-15 00:10:33.308311\n",
      "\n",
      "\n",
      "Log message at: 2024-08-15 00:08:24.211000 to 2024-08-15 00:08:24.211000 (60537.00583577546 60537.00583577546)\n",
      "time lost 0 days 00:00:00 time lost type fault systems None subsystems None CSCS None\n",
      "Timeout error at 00:01:43 TAI    -   SALindex: 202098 during correct_pointing\n",
      "\n",
      "Date invalidated 2024-08-15 00:24:18.924494\n",
      "\n",
      "\n",
      "Log message at: 2024-08-15 01:58:42.128000 to 2024-08-15 01:58:42.128000 (60537.08243203704 60537.08243203704)\n",
      "time lost 0 days 00:00:00 time lost type fault systems None subsystems None CSCS None\n",
      "Error \" Rotator out of range. Target out of rotator limit (low limit:-170 high limit:170 degs)\" \n",
      "At 01:46:16 TAI  --  SALindex: 202223\n",
      "At  01:47:15 TAI   -   SALindex:  202224\n",
      "\n",
      "Date invalidated NaT\n",
      "\n",
      "\n",
      "Log message at: 2024-08-15 03:43:23.243000 to 2024-08-15 03:43:23.243000 (60537.155130127314 60537.155130127314)\n",
      "time lost 0 days 00:00:00 time lost type fault systems None subsystems None CSCS None\n",
      "salIndex: 202346\n",
      " \n",
      "/08/15 03:39:59 TAI\n",
      "* Rotator out of range.\n",
      "* ATptg not in &lt;State.ENABLED: 2&gt;: &lt;State.FAULT: 3&gt;\n",
      "\n",
      "Date invalidated NaT\n",
      "\n",
      "\n",
      "Log message at: 2024-08-15 03:46:50.874000 to 2024-08-15 03:46:50.874000 (60537.15753326389 60537.15753326389)\n",
      "time lost 0 days 00:00:00 time lost type fault systems None subsystems None CSCS None\n",
      "salIndex: 202346\n",
      " \n",
      "/08/15 03:39:59 TAI\n",
      "* Rotator out of range.\n",
      "* ATptg not in &lt;State.ENABLED: 2&gt;: &lt;State.FAULT: 3&gt;\n",
      "Linked to ticket OBS-52  \" Rotator out of range \n",
      "\n",
      "Date invalidated NaT\n",
      "\n",
      "\n",
      "Log message at: 2024-08-15 04:56:06.556000 to 2024-08-15 04:56:06.556000 (60537.20563143519 60537.20563143519)\n",
      "time lost 0 days 00:00:00 time lost type fault systems None subsystems None CSCS None\n",
      "salIndex: 202419\n",
      "Started at: 2024-08-15T04:54:08.092\n",
      " in run\n",
      "Traceback (most recent call last):\n",
      "  File \"/opt/lsst/software/stack/conda/envs/lsst-scipipe-8.0.0/lib/python3.11/site-packages/lsst/ts/salobj/base_script.py\", line 603, in do_run\n",
      "    await self._run_task\n",
      "  File \"/net/obs-env/auto_base_packages/ts_externalscripts/python/lsst/ts/externalscripts/auxtel/latiss_acquire_and_take_sequence.py\", line 748, in run\n",
      "    await self.arun(checkpoint=True)\n",
      "  File \"/net/obs-env/auto_base_packages/ts_externalscripts/python/lsst/ts/externalscripts/auxtel/latiss_acquire_and_take_sequence.py\", line 732, in arun\n",
      "    await self.latiss_acquire()\n",
      "  File \"/net/obs-env/auto_base_packages/ts_externalscripts/python/lsst/ts/externalscripts/auxtel/latiss_acquire_and_take_sequence.py\", line 487, in latiss_acquire\n",
      "    tmp, data = await asyncio.gather(\n",
      "                ^^^^^^^^^^^^^^^^^^^^^\n",
      "  File \"/net/obs-env/auto_base_packages/ts_observatory_control/python/lsst/ts/observatory/control/base_tcs.py\", line 662, in slew_icrs\n",
      "    raise ack_error\n",
      "  File \"/net/obs-env/auto_base_packages/ts_observatory_control/python/lsst/ts/observatory/control/base_tcs.py\", line 625, in slew_icrs\n",
      "    await self.slew(\n",
      "  File \"/net/obs-env/auto_base_packages/ts_observatory_control/python/lsst/ts/observatory/control/base_tcs.py\", line 855, in slew\n",
      "    raise ack_err\n",
      "  File \"/net/obs-env/auto_base_packages/ts_observatory_control/python/lsst/ts/observatory/control/base_tcs.py\", line 844, in slew\n",
      "    await self._slew_to(\n",
      "  File \"/net/obs-env/auto_base_packages/ts_observatory_control/python/lsst/ts/observatory/control/auxtel/atcs.py\", line 1555, in _slew_to\n",
      "    await slew_cmd.start(timeout=slew_timeout)\n",
      "  File \"/opt/lsst/software/stack/conda/envs/lsst-scipipe-8.0.0/lib/python3.11/site-packages/lsst/ts/salobj/topics/remote_command.py\", line 487, in start\n",
      "    return await cmd_info.next_ackcmd(timeout=timeout)\n",
      "           ^^^^^^^^^^^^^^^^^^^^^^^^^^^^^^^^^^^^^^^^^^^\n",
      "  File \"/opt/lsst/software/stack/conda/envs/lsst-scipipe-8.0.0/lib/python3.11/site-packages/lsst/ts/salobj/topics/remote_command.py\", line 191, in next_ackcmd\n",
      "    raise base.AckError(msg=\"Command failed\", ackcmd=ackcmd)\n",
      "lsst.ts.salobj.base.AckError: msg='Command failed', ackcmd=(ackcmd private_seqNum=1650232683, ack=&lt;SalRetCode.CMD_FAILED: -302&gt;, error=6612, result='Rejected : command not allowed in current state')\n",
      "2024/08/15 04:55:06 TAI\n",
      "Command to track target HD202025 rejected: Rejected : command not allowed in current state\n",
      "\n",
      "Date invalidated NaT\n",
      "\n",
      "\n",
      "Log message at: 2024-08-15 05:41:03.034000 to 2024-08-15 05:41:03.034000 (60537.2368406713 60537.2368406713)\n",
      "time lost 0 days 00:00:00 time lost type fault systems None subsystems None CSCS None\n",
      "Preparing for AuxTel Shutdown. \n",
      "\n",
      "Date invalidated NaT\n",
      "\n",
      "\n",
      "Log message at: 2024-08-15 05:43:27.441000 to 2024-08-15 05:43:27.441000 (60537.238512048614 60537.238512048614)\n",
      "time lost 0 days 00:00:00 time lost type fault systems None subsystems None CSCS None\n",
      "LOVE-358\n",
      "LOVE has been presenting problems with its cadence. It is displaying old messages even after a refresh, losing some errors or information that have to be traced back. There is hidden information for some computers connected to the network. For example, one Summary state view session is displaying new information, but at the same time, LOVE on another connected computer is nothing displayed. \n",
      "All the ATTCS hard bits have been freezing intermittently.\n",
      "\n",
      "Date invalidated NaT\n",
      "\n",
      "\n"
     ]
    }
   ],
   "source": [
    "for i, row in narrative_log.iterrows():\n",
    "    t_start = Time(row[\"date_begin\"])\n",
    "    t_end = Time(row[\"date_end\"])\n",
    "    print(f\"Log message at: {t_start} to {t_end} ({t_start.mjd} {t_end.mjd})\")\n",
    "    print('time lost', row['time_lost'], 'time lost type', row['time_lost_type'], 'systems', row['systems'], 'subsystems', row['subsystems'], 'CSCS', row['cscs'])\n",
    "    print(row[\"message_text\"].replace(\"\\r\\n\\r\\n\", \"\"))\n",
    "    if row['date_invalidated'] is not None:\n",
    "        print(f\"Date invalidated {row['date_invalidated']}\")\n",
    "    print('\\n')"
   ]
  },
  {
   "cell_type": "code",
   "execution_count": null,
   "id": "c05c5137-f748-4687-ac5a-a66c239e2b1d",
   "metadata": {},
   "outputs": [],
   "source": []
  }
 ],
 "metadata": {
  "kernelspec": {
   "display_name": "LSST",
   "language": "python",
   "name": "lsst"
  },
  "language_info": {
   "codemirror_mode": {
    "name": "ipython",
    "version": 3
   },
   "file_extension": ".py",
   "mimetype": "text/x-python",
   "name": "python",
   "nbconvert_exporter": "python",
   "pygments_lexer": "ipython3",
   "version": "3.11.9"
  }
 },
 "nbformat": 4,
 "nbformat_minor": 5
}
