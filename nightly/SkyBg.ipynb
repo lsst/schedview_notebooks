{
 "cells": [
  {
   "cell_type": "code",
   "execution_count": null,
   "id": "0a191e6e-6911-4165-a162-bea9ce9adc66",
   "metadata": {},
   "outputs": [],
   "source": [
    "# This cell is only for setting example parameter defaults - gets replaced by sidecar.\n",
    "ra = 'all'\n",
    "dec = 'all'\n",
    "ra = '225.347166'\n",
    "dec = '-39.272637'\n",
    "time = 'now'\n",
    "bands = 'all'"
   ]
  },
  {
   "cell_type": "markdown",
   "id": "23efe2ff-80db-48dd-b912-9a02e189cae3",
   "metadata": {},
   "source": [
    "# What's the predicted skybrightness?"
   ]
  },
  {
   "cell_type": "code",
   "execution_count": null,
   "id": "939badb5-ee01-4542-a211-904bb4756e30",
   "metadata": {},
   "outputs": [],
   "source": [
    "import os\n",
    "import numpy as np\n",
    "import pandas as pd\n",
    "from astropy.coordinates import SkyCoord, AltAz, get_body\n",
    "from astropy.time import Time\n",
    "import astropy.units as u\n",
    "\n",
    "from rubin_scheduler.scheduler.utils import generate_all_sky\n",
    "from rubin_scheduler.utils import Site\n",
    "from rubin_sim.skybrightness import SkyModel\n",
    "import rubin_sim.phot_utils as phot_utils\n",
    "\n",
    "import healpy as hp\n",
    "import matplotlib.pyplot as plt"
   ]
  },
  {
   "cell_type": "code",
   "execution_count": null,
   "id": "58d87b6e-ea54-4966-9588-f92b85c996cb",
   "metadata": {},
   "outputs": [],
   "source": [
    "if 'usdf' in os.getenv(\"EXTERNAL_INSTANCE_URL\", \"\"):\n",
    "    os.environ[\"RUBIN_SIM_DATA_DIR\"] = \"/sdf/data/rubin/shared/rubin_sim_data\""
   ]
  },
  {
   "cell_type": "code",
   "execution_count": null,
   "id": "4d91582c-a2d5-458f-ad0e-812679e61547",
   "metadata": {},
   "outputs": [],
   "source": [
    "if time == 'now':\n",
    "    obs_time = Time.now()\n",
    "else:\n",
    "    obs_time = Time(time, format='iso', scale='utc')\n",
    "\n",
    "if ra == 'all' or dec == 'all':\n",
    "    nside = 64\n",
    "    sky = generate_all_sky(nside=nside, elevation_limit=20)\n",
    "    ra_val = sky['ra']\n",
    "    dec_val = sky['dec']\n",
    "    all_sky = True\n",
    "else:\n",
    "    ra_val = float(ra)\n",
    "    dec_val = float(dec)\n",
    "    all_sky = False\n",
    "\n",
    "if bands == 'all':\n",
    "    bands = \"ugrizy\"\n",
    "else:\n",
    "    if isinstance(bands, str):\n",
    "        if len(bands) == 1:\n",
    "            bands = [bands]"
   ]
  },
  {
   "cell_type": "code",
   "execution_count": null,
   "id": "f1be89a6-0ea4-4a0c-8eb5-ef834f44757a",
   "metadata": {},
   "outputs": [],
   "source": [
    "lsst_site = Site(\"LSST\")\n",
    "lsst_loc = lsst_site.to_earth_location()\n",
    "skybg_model = SkyModel(mags=True)\n",
    "\n",
    "lst = obs_time.sidereal_time('apparent', lsst_loc)\n",
    "\n",
    "aa = AltAz(location = lsst_loc, obstime=obs_time)\n",
    "skycoords = SkyCoord(ra=ra_val * u.deg, dec=dec_val * u.deg, frame=\"icrs\")\n",
    "altaz = skycoords.transform_to(aa)\n",
    "\n",
    "sun_coords = get_body('sun', obs_time, lsst_loc)\n",
    "moon_coords = get_body('moon', obs_time, lsst_loc)\n",
    "\n",
    "print(f\"Checking @ obs_time = {obs_time.iso}, LST {lst :.3f}\")\n",
    "if all_sky: \n",
    "    print(f\"For the whole sky.\")\n",
    "else:\n",
    "    print(f\"For RA {ra_val} and Dec {dec_val}\")\n",
    "    \n",
    "    print(f\"This point is at an airmass of {altaz.secz :.2f}\")"
   ]
  },
  {
   "cell_type": "code",
   "execution_count": null,
   "id": "10d69e8e-09be-4c31-a2f4-6ecd88193a9c",
   "metadata": {},
   "outputs": [],
   "source": [
    "# Calculate sky background.\n",
    "#skybg_model.set_ra_dec_mjd(ra_val, dec_val, obs_time.mjd, degrees=True)\n",
    "\n",
    "from rubin_scheduler.site_models import Almanac\n",
    "almanac = Almanac()\n",
    "\n",
    "\n",
    "skycoords = SkyCoord(ra=ra_val * u.deg, dec=dec_val * u.deg, frame=\"icrs\")\n",
    "times = np.arange(Time(\"2025-05-25T12:00:00\", format='isot', scale='tai').mjd, Time(\"2025-06-10T12:00:00\", format='isot', scale='tai').mjd, 0.5/24)\n",
    "moon_illum = almanac.get_sun_moon_positions(times)['moon_phase']\n",
    "sun_alt = almanac.get_sun_moon_positions(times)['sun_alt']\n",
    "sky_mags = {}\n",
    "for b in bands:\n",
    "    sky_mags[b] = []\n",
    "airmass = []\n",
    "for t in times:\n",
    "    tt = Time(t, format='mjd', scale='tai')\n",
    "    lst = tt.sidereal_time('apparent', lsst_loc)\n",
    "    aa = AltAz(location = lsst_loc, obstime=tt)\n",
    "    altaz = skycoords.transform_to(aa)\n",
    "    x = altaz.secz\n",
    "    airmass.append(x)\n",
    "    if x < 2.9 and x >= 1.0:\n",
    "        skybg_model.set_ra_dec_mjd(ra_val, dec_val, t, degrees=True)\n",
    "        vals = skybg_model.return_mags()\n",
    "        for b in bands:\n",
    "            sky_mags[b].append(vals[b][0])\n",
    "    else:\n",
    "        for b in bands:\n",
    "            sky_mags[b].append(np.nan)\n",
    "\n",
    "airmass = np.array(airmass)\n",
    "for b in bands:\n",
    "    sky_mags[b] = np.array(sky_mags[b])"
   ]
  },
  {
   "cell_type": "code",
   "execution_count": null,
   "id": "737ce26d-80b1-4aa4-9c28-af6a1dcce0cb",
   "metadata": {},
   "outputs": [],
   "source": [
    "b = 'i'\n",
    "new_moon = np.where((moon_illum < 3) & (sun_alt < np.radians(-12)))[0]\n",
    "now = np.where((times - Time(\"2025-06-04T12:00:00\", format='isot', scale='tai').mjd < 1) & (times - Time(\"2025-06-04T12:00:00\", format='isot', scale='tai').mjd > 0) & (sun_alt < np.radians(-12)))[0]\n",
    "\n",
    "plt.scatter((times[new_moon] - 0.5) % 1, sky_mags[b][new_moon], c=airmass[new_moon])\n",
    "plt.plot((times[new_moon] - 0.5) % 1, sky_mags[b][new_moon], zorder=0)\n",
    "plt.scatter((times[now]- 0.5) % 1, sky_mags[b][now], c=airmass[now], marker='s')\n",
    "plt.plot((times[now]- 0.5) % 1, sky_mags[b][now], zorder=0)\n",
    "plt.colorbar(label='airmass')\n",
    "plt.gca().invert_yaxis()\n",
    "plt.ylabel(f\"{b} skybrightness (mag/arcsecond^2)\")\n",
    "plt.xlabel(\"Fractional dayobs\")"
   ]
  },
  {
   "cell_type": "code",
   "execution_count": null,
   "id": "11b990e9-cb56-4c09-b35f-75298be59854",
   "metadata": {},
   "outputs": [],
   "source": [
    "platescale = 0.2\n",
    "exptimes = np.arange(14, 40, 2)\n",
    "idx = np.where(exptimes == 30)[0]\n",
    "sky_counts = {}\n",
    "for b in 'ugrizy':\n",
    "    sky_counts[b] = np.zeros((len(exptimes), len(sky_mags[b])))\n",
    "    for i, exptime in enumerate(exptimes):\n",
    "        zp_sky = phot_utils.predicted_zeropoint_hardware(b, exptime) \n",
    "        sky_counts[b][i, :] = np.power(10, (sky_mags[b] - zp_sky)/-2.5) * platescale**2"
   ]
  },
  {
   "cell_type": "code",
   "execution_count": null,
   "id": "8acec9b8-d64c-4f76-86fd-c2b4cc307de1",
   "metadata": {},
   "outputs": [],
   "source": [
    "if all_sky:\n",
    "    rot = (lst.deg, lsst_site.latitude, 0)\n",
    "    for b in bands:  \n",
    "        hp.mollview(sky_mags[b], rot=rot, title=f\"Sky Mags {b}\")\n",
    "        hp.graticule(dpar=30, dmer=60, alpha=0.3)\n",
    "        hp.projscatter(moon_coords.ra, moon_coords.dec, color='b', label='Moon', lonlat=True)\n",
    "        hp.projscatter(sun_coords.ra, sun_coords.dec, color='y', label='Sun', lonlat=True)\n",
    "        _  = plt.legend(loc=(1.01, 0.5))\n",
    "    print(\"Plot of background sky brightness in mag/arcsecond^2, RA/Dec grid, centered on location of Rubin\")"
   ]
  },
  {
   "cell_type": "code",
   "execution_count": null,
   "id": "b8f1b1d4-3c48-4d0c-b4f5-d659a9447518",
   "metadata": {},
   "outputs": [],
   "source": [
    "if all_sky:\n",
    "    print(\"Describe sky_mags\")\n",
    "    sky_df = pd.DataFrame(sky_mags)\n",
    "    display(sky_df.describe())\n",
    "    print(\"Describe sky counts (30s exposure)\")\n",
    "    sky_df = pd.DataFrame(dict([(b, sky_counts[b][idx, :][0]) for b in 'ugrizy']))\n",
    "    display(sky_df.describe())\n",
    "else:\n",
    "    sky_df = pd.concat([pd.DataFrame(sky_mags, index=[\"Mags\"]), pd.DataFrame(dict([(b,sky_counts[b][idx, 0]) for b in 'ugrizy']), index=[\"Counts\"])])\n",
    "    display(sky_df.round(2))"
   ]
  },
  {
   "cell_type": "code",
   "execution_count": null,
   "id": "c8014fe6-ad41-4478-acd6-12dbdec9d63f",
   "metadata": {},
   "outputs": [],
   "source": []
  }
 ],
 "metadata": {
  "kernelspec": {
   "display_name": "LSST",
   "language": "python",
   "name": "lsst"
  },
  "language_info": {
   "codemirror_mode": {
    "name": "ipython",
    "version": 3
   },
   "file_extension": ".py",
   "mimetype": "text/x-python",
   "name": "python",
   "nbconvert_exporter": "python",
   "pygments_lexer": "ipython3",
   "version": "3.12.11"
  }
 },
 "nbformat": 4,
 "nbformat_minor": 5
}
