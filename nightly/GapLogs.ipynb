{
 "cells": [
  {
   "cell_type": "code",
   "execution_count": null,
   "id": "091c44ac-3d4d-498c-8024-bf151aa052c0",
   "metadata": {},
   "outputs": [],
   "source": [
    "day_obs = \"2025-04-18\"\n",
    "time_gap = 40"
   ]
  },
  {
   "cell_type": "markdown",
   "id": "d0913a57-3fe4-4cbf-83ec-32d5b3ee7dce",
   "metadata": {},
   "source": [
    "# SQMiner Logs for LSSTCam (consdb) visit gaps {{ params.day_obs }} (gap > {{ params.time_gap }})"
   ]
  },
  {
   "cell_type": "code",
   "execution_count": null,
   "id": "776c9fa6-2708-47a9-ad8e-8b91b6720c1c",
   "metadata": {},
   "outputs": [],
   "source": [
    "%%capture\n",
    "pip install --user git+https://github.com/lsst-sims/rubin_nights --no-deps --quiet"
   ]
  },
  {
   "cell_type": "code",
   "execution_count": null,
   "id": "c9ce83aa-2bf7-4a24-ac30-71b45bcb5f21",
   "metadata": {},
   "outputs": [],
   "source": [
    "import numpy as np\n",
    "import pandas as pd\n",
    "from astropy.time import Time, TimeDelta\n",
    "import astropy.units as u\n",
    "from zoneinfo import ZoneInfo\n",
    "from IPython.display import display, HTML\n",
    "from rubin_scheduler.utils import Site\n",
    "from astroplan import Observer\n",
    "\n",
    "from rubin_nights import scriptqueue\n",
    "from rubin_nights import scriptqueue_formatting\n",
    "from rubin_nights import connections\n",
    "\n",
    "tz_utc = ZoneInfo(\"UTC\")"
   ]
  },
  {
   "cell_type": "code",
   "execution_count": null,
   "id": "a7ee6117-4d3d-4e9c-a726-1c1824c21adc",
   "metadata": {},
   "outputs": [],
   "source": [
    "if day_obs.lower() == \"today\":\n",
    "    # Shift the 12hour offset following the definition of day_obs in https://sitcomtn-032.lsst.io/    \n",
    "    # Drop the hours, minutes, seconds to get the ISO formatted day_obs\n",
    "    day_obs = Time(np.floor(Time.now().mjd - 0.5), format='mjd', scale='utc').iso[0:10]\n",
    " \n",
    "elif day_obs.lower() == \"yesterday\":\n",
    "    # Shift the 12hour offset following the definition of day_obs in https://sitcomtn-032.lsst.io/\n",
    "    # Drop the hours, minutes, seconds to get the ISO fromatted day_obs\n",
    "    day_obs = (Time(np.floor(Time.now().mjd - 0.5), format='mjd', scale='utc') - TimeDelta(1, format='jd')).iso[0:10]\n",
    "\n",
    "else:\n",
    "    # test that day_obs is a proper day_obs\n",
    "    try:\n",
    "        test_day_obs = Time(f\"{day_obs}T12:00:00\", format='isot', scale='utc')\n",
    "    except ValueError:\n",
    "        msg = \"day_obs should be a date formatted as YYYY-MM-DD\"\n",
    "        raise ValueError(msg)"
   ]
  },
  {
   "cell_type": "code",
   "execution_count": null,
   "id": "67f2177c-263f-481a-9fa1-7f9ab2259da8",
   "metadata": {},
   "outputs": [],
   "source": [
    "endpoints = connections.get_clients()\n",
    "\n",
    "observer = Observer(location=Site('LSST').to_earth_location())\n",
    "day_obs_time = Time(f\"{day_obs}T12:00:00\", format='isot', scale='tai')\n",
    "sunset = Time(observer.sun_set_time(day_obs_time, which='next', horizon=-12*u.deg), format='jd')\n",
    "sunrise = Time(observer.sun_rise_time(day_obs_time, which='next', horizon=-12*u.deg), format='jd')\n",
    "print(day_obs, 'sunset', sunset.iso,  'sunrise', sunrise.iso)\n",
    "\n",
    "visits = endpoints['consdb'].get_visits('lsstcam', day_obs, day_obs)\n",
    "print(f\"Found {len(visits)} visits from the ConsDB\")\n",
    "efd_and_messages, log_cols = scriptqueue.get_consolidated_messages(Time(sunset, format='iso'), sunrise)"
   ]
  },
  {
   "cell_type": "code",
   "execution_count": null,
   "id": "c74925d4-793b-434c-9d35-bd3555cac98f",
   "metadata": {},
   "outputs": [],
   "source": [
    "display(HTML(\"<em>Show visits before large gap, the visit with the large gap, and then the next visit after that which is not a BIAS frame</em>\"))\n",
    "print(\"\")\n",
    "\n",
    "cols = ['exposure_name', 'day_obs', 'seq_num', 'obs_start', 'band', 's_ra', 's_dec', 'sky_rotation', 'visit_gap', 'img_type', 'target_name', 'observation_reason', 'science_program']\n",
    "vv = visits.query('obs_start_mjd >= @sunset.mjd').iloc[1:]\n",
    "long_gaps = np.where(vv.visit_gap > time_gap*60)[0]\n",
    "# Remove first bias after long gap\n",
    "long_gaps = long_gaps\n",
    "for i, gap in enumerate(long_gaps):\n",
    "    gap_interval = vv.iloc[gap].visit_gap / 60\n",
    "    night_hour = (vv.iloc[gap].obs_start_mjd - sunset.mjd) * 24\n",
    "    display(HTML(f\"<p> <em> Gap {i} ({gap_interval :.1f} minutes) in the {night_hour :.1f} hour after sunset </em>\"))\n",
    "    visit_context = vv.iloc[gap-1:gap+1]\n",
    "    visit_context = pd.concat([visit_context, visits.query('seq_num > @visit_context.seq_num.max() and img_type != \"BIAS\"')[0:1]])\n",
    "    display(visit_context[cols])"
   ]
  },
  {
   "cell_type": "code",
   "execution_count": null,
   "id": "d833578d-1871-4a0a-8b6b-4fcb37d43ea0",
   "metadata": {},
   "outputs": [],
   "source": [
    "gap_sum = 0\n",
    "for i, gap in enumerate(long_gaps):\n",
    "    v1 = vv.iloc[gap-1]\n",
    "    v2 = vv.iloc[gap]\n",
    "    t_start = (Time(v1.obs_start, scale='tai') - TimeDelta(10, format='sec')).utc.to_datetime(timezone=tz_utc)\n",
    "    t_end = (Time(v2.obs_end, scale='tai') + TimeDelta(5, format='sec')).utc.to_datetime(timezone=tz_utc)\n",
    "    html = scriptqueue_formatting.format_html(efd_and_messages.query('time >= @t_start and time <= @t_end'), log_cols, time_order='oldest first')\n",
    "    print(\" \\n \")\n",
    "    gap_interval = vv.iloc[gap].visit_gap / 60\n",
    "    gap_sum += gap_interval\n",
    "    display(HTML(f\"<strong> Gap {i} ({gap_interval :.1f} minutes) </strong>\"))\n",
    "    print(f\"From visit {v1.exposure_name} at {v1.obs_start} to {v2.exposure_name} at {v2.obs_end}\")\n",
    "    print(\" \")\n",
    "    display(HTML(html))\n",
    "display(HTML(f\"<strong> Sum of gap time {gap_sum/60 :.3f}</strong>\"))"
   ]
  },
  {
   "cell_type": "code",
   "execution_count": null,
   "id": "06a09d78-9540-4bf1-9808-261560661693",
   "metadata": {},
   "outputs": [],
   "source": []
  }
 ],
 "metadata": {
  "kernelspec": {
   "display_name": "LSST",
   "language": "python",
   "name": "lsst"
  },
  "language_info": {
   "codemirror_mode": {
    "name": "ipython",
    "version": 3
   },
   "file_extension": ".py",
   "mimetype": "text/x-python",
   "name": "python",
   "nbconvert_exporter": "python",
   "pygments_lexer": "ipython3",
   "version": "3.12.10"
  }
 },
 "nbformat": 4,
 "nbformat_minor": 5
}
