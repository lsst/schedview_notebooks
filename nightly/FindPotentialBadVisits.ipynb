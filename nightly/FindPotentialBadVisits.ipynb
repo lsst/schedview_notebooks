{
 "cells": [
  {
   "cell_type": "code",
   "execution_count": null,
   "id": "9d0fcb11-61d9-49a1-8367-c415c18f5c70",
   "metadata": {},
   "outputs": [],
   "source": [
    "day_obs = \"yesterday\"\n",
    "show_joined = False"
   ]
  },
  {
   "cell_type": "markdown",
   "id": "298c5885-3665-4f74-b537-e9a74e9ed6e0",
   "metadata": {},
   "source": [
    "# Identify potential bad images for {{ params.day_obs }}\n",
    "\n",
    "This notebook uses information from the ConsDb and the EFD to try to identify potential bad visits.\n",
    "\n",
    "Visits acquired from the FeatureBasedScheduler are tracked in the observatory system through several stages:\n",
    "* a target event is issued when the visit is requested\n",
    "* when this requested target is next to be observed, a nextvisit event is issued\n",
    "* an observation event is issued when the script to acquire the event is registered as successful by the Scheduler\n",
    "* as the visit is processed and metadata lands in the ConsDb, visit information including zeropoints measured by Rapid Analysis (RA) become available\n",
    "\n",
    "These can be linked: target + observation are linked by `target_id`, target + nextvisit are linked by the `script sal index`, and nextvisit + consdb visit can be linked by `group_id`.\n",
    "\n",
    "If the target is requested and visits are acquired, but the observation is never registered, then the script may have been interrupted  by a fault which would also cause problems for the visit.\n",
    "\n",
    "If the zeropoint reported by RA is significantly far from the predicted zeropoint (currently using an ad-hoc per-visit magnitude cutoff), then it is likely that there were problems with the visit.\n",
    "\n",
    "In each of these cases, we can identify the potentially troublesome visits and then check by eye in RubinTV -- links are provided to the full mosaic and the witness detector (at USDF).\n",
    "\n",
    "---------"
   ]
  },
  {
   "cell_type": "code",
   "execution_count": null,
   "id": "5715adab-58f4-442d-a73d-cb049ac0865c",
   "metadata": {},
   "outputs": [],
   "source": [
    "!pip install --user --upgrade git+https://github.com/lsst-sims/rubin_nights.git  --no-deps  > /dev/null 2>&1"
   ]
  },
  {
   "cell_type": "code",
   "execution_count": null,
   "id": "e078f2ff-9b8c-45eb-ac2a-50e46c518e9f",
   "metadata": {},
   "outputs": [],
   "source": [
    "import rubin_nights\n",
    "print('rubin_nights version', rubin_nights.__version__)"
   ]
  },
  {
   "cell_type": "code",
   "execution_count": null,
   "id": "70193639-10c6-4dee-a0c9-2d656cf9245a",
   "metadata": {},
   "outputs": [],
   "source": [
    "import os\n",
    "import numpy as np\n",
    "import pandas as pd\n",
    "from astropy.time import Time, TimeDelta\n",
    "#from astroplan import Observer\n",
    "\n",
    "from rubin_nights import connections, scriptqueue\n",
    "    \n",
    "import matplotlib.pyplot as plt\n",
    "from IPython.display import display, Markdown, HTML\n",
    "\n",
    "import logging\n",
    "logging.getLogger('rubin_nights').setLevel(logging.INFO)"
   ]
  },
  {
   "cell_type": "markdown",
   "id": "aa7ef65d-0e81-4814-99ff-7b5e213cdd17",
   "metadata": {},
   "source": [
    "----------"
   ]
  },
  {
   "cell_type": "code",
   "execution_count": null,
   "id": "c7cccddb-fc07-41db-91ce-f3feaf8e9f23",
   "metadata": {},
   "outputs": [],
   "source": [
    "if os.getenv(\"EXTERNAL_INSTANCE_URL\") is None:\n",
    "    tokenfile = '/Users/lynnej/.lsst/usdf_rsp'\n",
    "    site = 'usdf'\n",
    "    endpoints = connections.get_clients(tokenfile=tokenfile, site=site)\n",
    "else:\n",
    "    tokenfile = None\n",
    "    site = None\n",
    "    endpoints = connections.get_clients()"
   ]
  },
  {
   "cell_type": "code",
   "execution_count": null,
   "id": "3958e210-e977-4769-84d4-f05f535cb46a",
   "metadata": {},
   "outputs": [],
   "source": [
    "if day_obs.lower() == \"today\":\n",
    "    day_obs = Time(Time.now().mjd - 0.5, format='mjd', scale='tai').iso[0:10]\n",
    "elif day_obs.lower() == \"yesterday\":\n",
    "    day_obs = Time(Time.now().mjd - 1.5, format='mjd', scale='tai').iso[0:10]\n",
    "else:\n",
    "     day_obs = day_obs\n",
    "    \n",
    "day_obs_time = Time(f\"{day_obs}T12:00:00\", format='isot', scale='tai')\n",
    "#observer = Observer.at_site('lsst')\n",
    "#sunset = Time(observer.sun_set_time(day_obs_time, which='next', horizon=-10*u.deg), format='jd')\n",
    "#sunrise = Time(observer.sun_rise_time(day_obs_time, which='next', horizon=-10*u.deg), format='jd')\n",
    "sunset = Time(f\"{day_obs}T12:00:00\", format='isot', scale='tai')\n",
    "sunrise = Time(f\"{day_obs}T12:00:00\", format='isot', scale='tai') + TimeDelta(1, format='jd')\n",
    "print(f\"Checking night time on {day_obs}, from {sunset.iso} to {sunrise.iso}\")\n",
    "print(f\"Time of notebook execution {Time.now().iso}\")\n",
    "\n",
    "topic = \"lsst.sal.Scheduler.logevent_target\"\n",
    "fields = ['targetId', 'airmass', 'alt', 'az', 'blockId', 'cloud', 'decl',\n",
    "       'exposureTimes0', 'exposureTimes1', 'exposureTimes2', 'exposureTimes3',\n",
    "       'exposureTimes4', 'exposureTimes5', 'exposureTimes6', 'exposureTimes7',\n",
    "       'exposureTimes8', 'exposureTimes9', 'filter', 'isSequence', 'moonAlt',          \n",
    "       'moonAz', 'moonDec', 'moonDistance', 'moonPhase', 'moonRa', 'note',\n",
    "       'numExposures', 'numProposals', 'offsetX', 'offsetY',\n",
    "       'ra', 'requestMjd',\n",
    "       'requestTime', 'rotAngle', 'salIndex', 'schedulerNote', 'seeing',\n",
    "       'sequenceDuration', 'sequenceNVisits', 'sequenceVisits', 'skyAngle',\n",
    "       'skyBrightness', 'slewTime', 'snapshotUri', 'solarElong', 'sunAlt',\n",
    "       'sunAz', 'sunDec', 'sunRa', 'targetName']\n",
    "#topic = \"lsst.sal.Scheduler.logevent_largeFileObjectAvailable\"\n",
    "targets = endpoints['efd'].select_time_series(topic, fields, sunset, sunrise, index=1)\n",
    "print(f\"{len(targets)} targets events\")\n",
    "\n",
    "topic = \"lsst.sal.Scheduler.logevent_observation\"\n",
    "fields = ['additionalInformation', 'blockId', 'decl', 'exptime', 'filter', 'mjd', 'nexp', 'ra', 'rotSkyPos', 'salIndex', 'targetId']\n",
    "observations = endpoints['efd'].select_time_series(topic, fields, sunset, sunrise, index=1)\n",
    "if len(observations) == 0:\n",
    "    observations = pd.DataFrame([], columns=fields + ['time'])\n",
    "print(f\"{len(observations)} observation events\")\n",
    "\n",
    "topic = \"lsst.sal.ScriptQueue.logevent_nextVisit\"\n",
    "nextvisits = endpoints['efd'].select_time_series(topic, '*', sunset, sunrise, index=1)\n",
    "nextvisits = nextvisits.query(\"survey in 'BLOCK-365'\")\n",
    "print(f\"{len(nextvisits)} next visit events\")\n",
    "\n",
    "#visits = endpoints['consdb_tap'].get_visits('lsstcam', sunset, sunrise)\n",
    "visits = endpoints['consdb'].get_visits('lsstcam', sunset, sunrise)\n",
    "visits = visits.query(\"science_program == 'BLOCK-365'\")\n",
    "print(f\"{len(visits)} visits for science_program BLOCK-365\")"
   ]
  },
  {
   "cell_type": "code",
   "execution_count": null,
   "id": "fd3b5f60-6e20-4948-ad33-a4c24a0e8fd1",
   "metadata": {},
   "outputs": [],
   "source": [
    "# In theory, targets and observations could be merged directly on targetId\n",
    "# However, targetId is not yet unique across FBS re-enable times \n",
    "# (the observations will have unique targetId, but targets which were not actually attempted may be duplicate targetIds)\n",
    "if len(targets) == 0:\n",
    "    joint = pd.DataFrame([], columns=['targetId', 'blockId', 'skyAngle'])\n",
    "    joint = joint.astype({'targetId': int, 'blockId': int, 'skyAngle': float})\n",
    "elif len(observations) == 0:\n",
    "    new_df = pd.DataFrame(np.zeros((len(targets.index.values), len(observations.columns.values))),\n",
    "                           columns=observations.columns.values, index=targets.index)\n",
    "    new_df.rename({'time': 'time_o'}, axis=1, inplace=True)\n",
    "    new_df.time_o = np.nan\n",
    "    joint = pd.merge(targets, \n",
    "                     new_df, \n",
    "                     left_index=True, right_index=True, suffixes=('', '_o'))\n",
    "    joint.reset_index('time', inplace=True)\n",
    "    print(f\"Added empty observations to {len(joint)} joined targets+empty observations\")\n",
    "else:\n",
    "    joint = pd.merge_asof(targets.sort_values('targetId').reset_index('time'), \n",
    "                       observations.sort_values('targetId').reset_index('time'),\n",
    "                       on='targetId', \n",
    "                       left_by=['ra', 'decl', 'skyAngle'], right_by=['ra', 'decl', 'rotSkyPos'],\n",
    "                       suffixes=('', '_o'), allow_exact_matches=True, direction='forward')\n",
    "    joint.sort_values(by='time', inplace=True)\n",
    "    print(f\"Joined targets and observations for {len(joint)} events\")"
   ]
  },
  {
   "cell_type": "code",
   "execution_count": null,
   "id": "64b07018-f020-409e-b52c-c9eb2cbb323c",
   "metadata": {},
   "outputs": [],
   "source": [
    "# jcols = ['time', 'time_o', 'targetId', 'blockId', 'ra', 'decl', 'skyAngle', 'rotSkyPos', 'filter', 'exptime', 'note', 'mjd','requestTime', 'snapshotUri']\n",
    "# joint[jcols]"
   ]
  },
  {
   "cell_type": "code",
   "execution_count": null,
   "id": "1ab10b1b-4650-47bd-8250-e95c8695ca41",
   "metadata": {},
   "outputs": [],
   "source": [
    "# And nextVisit to visits groupId should be unique \n",
    "nv = pd.merge(visits, nextvisits.reset_index('time'), \n",
    "              how='outer', left_on='group_id', right_on='groupId', suffixes=['', '_nv'])\n",
    "visit_id = np.where(np.isnan(nv['visit_id'].values), 0, nv['visit_id'].values)\n",
    "nv['visit_id'] = visit_id\n",
    "scriptSalIndex = np.where(np.isnan(nv['scriptSalIndex'].values), 0, nv['scriptSalIndex'].values)\n",
    "nv['scriptSalIndex'] = scriptSalIndex\n",
    "nv = nv.astype({'visit_id': int, 'scriptSalIndex': int, 'cameraAngle': float})\n",
    "print(f\"Joined nextvisit and visits for {len(nv)} records\")\n",
    "\n",
    "nvcols = ['visit_id', 'time', 'obs_start', 'position0', 'position1', 'cameraAngle', 's_ra', 's_dec', 'sky_rotation', 'band', 'science_program', 'target_name', 'scriptSalIndex']\n",
    "# nv.query('visit_id > 0')[nvcols]\n",
    "# nv[nvcols]"
   ]
  },
  {
   "cell_type": "code",
   "execution_count": null,
   "id": "8ddb9ecb-5f2a-4c0d-822b-c745ddb29c0b",
   "metadata": {},
   "outputs": [],
   "source": [
    "# But targets blockId (== salScriptId) to nextVisits salScriptId is only unique within times of scriptqueue restarts\n",
    "# We can narrow down the links using the positions of the fields maybe? \n",
    "\n",
    "vt = pd.merge_asof(joint.sort_values('blockId'), nv.sort_values('scriptSalIndex'), \n",
    "                   left_on='blockId', right_on='scriptSalIndex', suffixes=['', '_nv'], \n",
    "                  left_by=['skyAngle'], right_by=['cameraAngle'], \n",
    "                   allow_exact_matches=True, direction='forward')\n",
    "int_cols = ['visit_id', 'day_obs', 'seq_num', 'scriptSalIndex']\n",
    "for col in int_cols:\n",
    "    tt = np.where(np.isnan(vt[col].values), 0, vt[col].values)\n",
    "    vt[col] = tt\n",
    "vt = vt.astype(dict([(col, int) for col in int_cols]))\n",
    "vt.sort_values('time', inplace=True)\n",
    "print(f\"Joined targets+observations with nextvisit+visit for {len(vt)} records\")\n",
    "\n",
    "vt.rename({'time': 'time_target', \n",
    "           'time_o': 'time_observation',\n",
    "           'time_nv': 'time_nextvisit'},\n",
    "          axis=1, inplace=True)\n",
    "cols = ['visit_id', 'day_obs', 'seq_num', 'time_target', 'time_observation', 'time_nextvisit', 'obs_start', 'group_id', \n",
    "        'ra', 'decl', 'skyAngle', 's_ra', 's_dec', 'sky_rotation', 'band', 'scriptSalIndex', \n",
    "        'note', 'observation_reason', 'target_name']\n",
    "if show_joined:\n",
    "    display(HTML(vt[cols].to_html()))"
   ]
  },
  {
   "cell_type": "code",
   "execution_count": null,
   "id": "aaf78208-a5ee-4d88-ada8-7f3e50b8e550",
   "metadata": {},
   "outputs": [],
   "source": [
    "# Were there visits where the rotation angle was changed after the request/next visit?\n",
    "changed_rot = vt[abs(vt.skyAngle - vt.sky_rotation) > 1]\n",
    "if len(changed_rot) > 0:\n",
    "    display(changed_rot[cols])\n",
    "else:\n",
    "    print(\"No visits with mismatch in sky_rotation compared to skyAngle in target request.\")"
   ]
  },
  {
   "cell_type": "code",
   "execution_count": null,
   "id": "866b79e0-06da-4d21-b326-bcb760fd4eae",
   "metadata": {},
   "outputs": [],
   "source": [
    "rubintv_base = \"https://usdf-rsp.slac.stanford.edu/rubintv/summit-usdf/lsstcam/event?key=lsstcam/\"\n",
    "def rubintv_links(day_obs, seq_num):\n",
    "    witness_link = f\"{rubintv_base}{day_obs}/witness_detector/{seq_num :06d}/lsstcam_witness_detector_{day_obs}_{seq_num :06d}.jpg\"\n",
    "    witness_html = f'<a href=\"{witness_link}\" target=\"_blank\" rel=\"noreferrer noopener\">{witness_link}</a>'\n",
    "    mosaic_link = f\"{rubintv_base}{day_obs}/calexp_mosaic/{seq_num :06d}/lsstcam_calexp_mosaic_{day_obs}_{seq_num :06d}.jpg\"\n",
    "    mosaic_html = f'<a href=\"{mosaic_link}\" target=\"_blank\" rel=\"noreferrer noopener\">{mosaic_link}</a>'\n",
    "    return mosaic_html, witness_html"
   ]
  },
  {
   "cell_type": "code",
   "execution_count": null,
   "id": "25be00d2-3c98-4567-9da7-26a5da99e321",
   "metadata": {},
   "outputs": [],
   "source": [
    "pcols = ['visit_id', 'day_obs', 'seq_num', 'time_target', 'time_observation', 'obs_start', 'scriptSalIndex', \n",
    "          'target_name', 's_ra', 's_dec', 'sky_rotation', 'band', \n",
    "         'zero_point_1s', 'zero_point_1s_pred',]\n",
    "\n",
    "if len(vt) == 0:\n",
    "    print(\"No observations.\")\n",
    "\n",
    "else:\n",
    "    quicklook_missing = np.where(np.isnan(vt.zero_point_median) & (vt.visit_id > 0))[0]\n",
    "    big_zp_offset = np.where((vt.zero_point_1s_pred.values - vt.zero_point_1s.values) > 1)[0]\n",
    "    failed_obs = np.where(np.isnan(vt.time_observation.values) & vt.visit_id > 0)[0]\n",
    "    issues = np.concatenate([quicklook_missing, big_zp_offset, failed_obs])\n",
    "    issues = np.sort(issues)\n",
    "    issues = np.unique(issues)\n",
    "\n",
    "    if len(issues) == 0:\n",
    "        print(\"No obvious issues found.\")\n",
    "    else:\n",
    "        display(HTML(\"<hr>\"))\n",
    "        display(HTML(\"Potential problems.\"))\n",
    "        display(HTML(\"<br>\"))\n",
    "        for idx in issues:\n",
    "            problem_string = []\n",
    "            if idx in failed_obs:\n",
    "                problem_string.append(\"no observation event\")\n",
    "            if idx in quicklook_missing:\n",
    "                problem_string.append(\"no quicklook\")\n",
    "            if idx in big_zp_offset:\n",
    "                problem_string.append(\"big zeropoint offset\")\n",
    "            problem_string = \", \".join(problem_string)\n",
    "            display(pd.DataFrame(vt.iloc[idx][pcols]).T)\n",
    "            print(problem_string)\n",
    "            mosaic_html, witness_html = rubintv_links(day_obs, vt.iloc[idx].seq_num)\n",
    "            display(HTML(mosaic_html))\n",
    "            display(HTML(witness_html))\n",
    "            display(HTML(\"<br>\"))\n",
    "        display(HTML(\"<hr>\"))"
   ]
  },
  {
   "cell_type": "code",
   "execution_count": null,
   "id": "94455ea5-91bb-44eb-8262-9358777bd9c9",
   "metadata": {},
   "outputs": [],
   "source": [
    "if len(failed_obs) > 0:\n",
    "    efd_and_messages, ecols = scriptqueue.get_consolidated_messages(sunset, sunrise, tokenfile=tokenfile, site=site)\n",
    "    scols = ['visit_id', 'day_obs', 'seq_num', 'time', 'time_o', 'time_nv', 'groupId', 'obs_start', \n",
    "        'ra', 'decl', 'skyAngle', 'sky_rotation', 'band', 'scriptSalIndex', \n",
    "        'note', 'target_name']\n",
    "    mtimes = pd.to_datetime(efd_and_messages.time)\n",
    "    for idx in failed_obs:\n",
    "        display(HTML(\"<hr>\"))\n",
    "        display(HTML(\"ScriptQueue info on visits missing observations (cause of failure?)\"))\n",
    "        display(HTML(\"<br>\"))\n",
    "        display(pd.DataFrame(vt.iloc[idx][pcols]).T)\n",
    "        display(HTML(\"ScriptQueue Information with same scriptSalIndex\"))\n",
    "        fo = vt.iloc[idx]\n",
    "        fo_time = pd.to_datetime(fo.time_target)\n",
    "        mm = efd_and_messages.iloc[np.where(abs(mtimes - fo_time) < pd.Timedelta(1, unit='hr'))[0]]\n",
    "        mm = mm.query('script_salIndex == @fo.scriptSalIndex')\n",
    "        display(HTML(mm[ecols].to_html()))\n",
    "        display(Markdown(\"--\"))"
   ]
  },
  {
   "cell_type": "code",
   "execution_count": null,
   "id": "4b08493a-4391-4a44-ba23-17f2cc914772",
   "metadata": {},
   "outputs": [],
   "source": [
    "# Targets which did not result in a visit\n",
    "if len(vt) > 0:\n",
    "    incomplete_target = vt.query('visit_id == 0')[cols]\n",
    "    if len(incomplete_target) == 0:\n",
    "        print(\"All requested targets resulted in visits.\")\n",
    "    else:\n",
    "        print(\"Targets requested by not observed.\")\n",
    "        display(HTML(incomplete_target.to_html()))"
   ]
  }
 ],
 "metadata": {
  "kernelspec": {
   "display_name": "LSST",
   "language": "python",
   "name": "lsst"
  },
  "language_info": {
   "codemirror_mode": {
    "name": "ipython",
    "version": 3
   },
   "file_extension": ".py",
   "mimetype": "text/x-python",
   "name": "python",
   "nbconvert_exporter": "python",
   "pygments_lexer": "ipython3",
   "version": "3.12.10"
  }
 },
 "nbformat": 4,
 "nbformat_minor": 5
}
