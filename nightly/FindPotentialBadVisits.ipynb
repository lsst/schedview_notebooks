{
 "cells": [
  {
   "cell_type": "code",
   "execution_count": null,
   "id": "9d0fcb11-61d9-49a1-8367-c415c18f5c70",
   "metadata": {},
   "outputs": [],
   "source": [
    "day_obs = \"2025-06-29\"\n",
    "#day_obs = \"yesterday\"\n",
    "show_joined = False"
   ]
  },
  {
   "cell_type": "markdown",
   "id": "298c5885-3665-4f74-b537-e9a74e9ed6e0",
   "metadata": {},
   "source": [
    "# Identify potential bad images for {{ params.day_obs }}\n",
    "\n",
    "This notebook uses information from the ConsDb and the EFD to try to identify potential bad visits.\n",
    "\n",
    "Visits acquired from the FeatureBasedScheduler are tracked in the observatory system through several stages:\n",
    "* a target event is issued when the visit is requested\n",
    "* when this requested target is next to be observed, a nextvisit event is issued\n",
    "* an observation event is issued when the script to acquire the event is registered as successful by the Scheduler\n",
    "* as the visit is processed and metadata lands in the ConsDb, visit information including zeropoints measured by Rapid Analysis (RA) become available\n",
    "\n",
    "These can be linked: target + observation are linked by `target_id`, target + nextvisit are linked by the `script sal index`, and nextvisit + consdb visit can be linked by `group_id`.\n",
    "\n",
    "If the target is requested and visits are acquired, but the observation is never registered, then the script may have been interrupted  by a fault which would also cause problems for the visit.\n",
    "\n",
    "If the zeropoint reported by RA is significantly far from the predicted zeropoint (currently using an ad-hoc per-visit magnitude cutoff), then it is likely that there were problems with the visit.\n",
    "\n",
    "In each of these cases, we can identify the potentially troublesome visits and then check by eye in RubinTV -- links are provided to the full mosaic and the witness detector (at USDF).\n",
    "\n",
    "---------"
   ]
  },
  {
   "cell_type": "code",
   "execution_count": null,
   "id": "5715adab-58f4-442d-a73d-cb049ac0865c",
   "metadata": {},
   "outputs": [],
   "source": [
    "!pip install --user --upgrade git+https://github.com/lsst-sims/rubin_nights.git --no-deps  > /dev/null 2>&1"
   ]
  },
  {
   "cell_type": "code",
   "execution_count": null,
   "id": "e078f2ff-9b8c-45eb-ac2a-50e46c518e9f",
   "metadata": {},
   "outputs": [],
   "source": [
    "import rubin_nights\n",
    "print('rubin_nights version', rubin_nights.__version__)"
   ]
  },
  {
   "cell_type": "code",
   "execution_count": null,
   "id": "70193639-10c6-4dee-a0c9-2d656cf9245a",
   "metadata": {},
   "outputs": [],
   "source": [
    "import os\n",
    "import numpy as np\n",
    "import pandas as pd\n",
    "from astropy.time import Time, TimeDelta\n",
    "#from astroplan import Observer\n",
    "\n",
    "from rubin_nights import connections, scriptqueue\n",
    "import rubin_nights.dayobs_utils as rn_dayobs\n",
    "from rubin_nights.targets_and_visits import targets_and_visits\n",
    "    \n",
    "import matplotlib.pyplot as plt\n",
    "from IPython.display import display, Markdown, HTML\n",
    "\n",
    "import logging\n",
    "logging.getLogger('rubin_nights').setLevel(logging.INFO)"
   ]
  },
  {
   "cell_type": "markdown",
   "id": "aa7ef65d-0e81-4814-99ff-7b5e213cdd17",
   "metadata": {},
   "source": [
    "----------"
   ]
  },
  {
   "cell_type": "code",
   "execution_count": null,
   "id": "c7cccddb-fc07-41db-91ce-f3feaf8e9f23",
   "metadata": {},
   "outputs": [],
   "source": [
    "if os.getenv(\"EXTERNAL_INSTANCE_URL\") is None:\n",
    "    tokenfile = '/Users/lynnej/.lsst/usdf_rsp'\n",
    "    site = 'usdf'\n",
    "else:\n",
    "    tokenfile = None\n",
    "    site = None\n",
    "endpoints = connections.get_clients(tokenfile=tokenfile, site=site)"
   ]
  },
  {
   "cell_type": "code",
   "execution_count": null,
   "id": "645d1d92-f23d-46fa-b417-aa449680eaae",
   "metadata": {},
   "outputs": [],
   "source": [
    "if day_obs.lower() == \"today\":\n",
    "    day_obs = rn_dayobs.today_day_obs()\n",
    "elif day_obs.lower() == \"yesterday\":\n",
    "    day_obs = rn_dayobs.yesterday_day_obs()\n",
    "else:\n",
    "    try:\n",
    "        int(day_obs)\n",
    "        day_obs = rn_dayobs.day_obs_int_to_str(day_obs)\n",
    "    except ValueError:\n",
    "        pass\n",
    "    \n",
    "day_obs_time = Time(f\"{day_obs}T12:00:00\", format='isot', scale='tai')\n",
    "#observer = Observer.at_site('Rubin')\n",
    "#sunset = Time(observer.sun_set_time(day_obs_time, which='next', horizon=-10*u.deg), format='jd')\n",
    "#sunrise = Time(observer.sun_rise_time(day_obs_time, which='next', horizon=-10*u.deg), format='jd')\n",
    "sunset = Time(f\"{day_obs}T12:00:00\", format='isot', scale='tai')\n",
    "sunrise = Time(f\"{day_obs}T12:00:00\", format='isot', scale='tai') + TimeDelta(1, format='jd')\n",
    "print(f\"Checking visits on {day_obs}, from {sunset.iso} to {sunrise.iso}\")\n",
    "print(f\"Time of notebook execution {Time.now().iso}\")\n",
    "\n",
    "endpoints = connections.get_clients(tokenfile, site)\n",
    "vt, cols, to, nv, visits = targets_and_visits(sunset, sunrise, endpoints)\n",
    "print(f\"Found {len(vt)} targets->visits.\")\n",
    "print(f\"Visit metadata included {visits.scheduler_note.unique()}, {visits.target_name.unique()}\")"
   ]
  },
  {
   "cell_type": "code",
   "execution_count": null,
   "id": "a64a6300-bfa2-4245-9380-0a0c96caa659",
   "metadata": {},
   "outputs": [],
   "source": [
    "uri = \"https://raw.githubusercontent.com/lsst-dm/excluded_visits/\" \"refs/heads/main/LSSTCam/bad.ecsv\"\n",
    "bad_visits = pd.read_csv(uri, comment=\"#\")\n",
    "bad_visit_list = bad_visits.exposure.to_list()\n",
    "bad_visit_dayobs  = [v for v in bad_visit_list if str(v)[0:8] == day_obs.replace('-', '')]"
   ]
  },
  {
   "cell_type": "code",
   "execution_count": null,
   "id": "aaf78208-a5ee-4d88-ada8-7f3e50b8e550",
   "metadata": {},
   "outputs": [],
   "source": [
    "# Were there visits where the rotation angle was changed after the request/next visit?\n",
    "changed_rot = vt[abs(vt.skyAngle - vt.sky_rotation) > 1]\n",
    "if len(changed_rot) > 0:\n",
    "    print(f\"Visits with mismatch in sky_rotation (acquired rotation) compared to skyAngle in target request (+ nextvisit). - {len(changed_rot)}\")\n",
    "    display(changed_rot[cols])\n",
    "else:\n",
    "    print(\"No visits with mismatch in sky_rotation (acquired rotation) compared to skyAngle in target request (+ nextvisit).\")"
   ]
  },
  {
   "cell_type": "code",
   "execution_count": null,
   "id": "866b79e0-06da-4d21-b326-bcb760fd4eae",
   "metadata": {},
   "outputs": [],
   "source": [
    "rubintv_base = \"https://usdf-rsp.slac.stanford.edu/rubintv/summit-usdf/lsstcam/event?key=lsstcam/\"\n",
    "def rubintv_links(day_obs, seq_num):\n",
    "    witness_link = f\"{rubintv_base}{day_obs}/witness_detector/{seq_num :06d}/lsstcam_witness_detector_{day_obs}_{seq_num :06d}.jpg\"\n",
    "    witness_html = f'<a href=\"{witness_link}\" target=\"_blank\" rel=\"noreferrer noopener\">{witness_link}</a>'\n",
    "    mosaic_link = f\"{rubintv_base}{day_obs}/calexp_mosaic/{seq_num :06d}/lsstcam_calexp_mosaic_{day_obs}_{seq_num :06d}.jpg\"\n",
    "    mosaic_html = f'<a href=\"{mosaic_link}\" target=\"_blank\" rel=\"noreferrer noopener\">{mosaic_link}</a>'\n",
    "    return mosaic_html, witness_html"
   ]
  },
  {
   "cell_type": "code",
   "execution_count": null,
   "id": "25be00d2-3c98-4567-9da7-26a5da99e321",
   "metadata": {},
   "outputs": [],
   "source": [
    "pcols = ['visit_id', 'day_obs', 'seq_num', 'time_target', 'time_observation', 'obs_start', 'scriptSalIndex', \n",
    "          'target_name', 's_ra', 's_dec', 'sky_rotation', 'band', 'psf_sigma_median',\n",
    "         'zero_point_1s', 'zero_point_1s_pred', 'science_program', 'target_name']\n",
    "\n",
    "if len(vt) == 0:\n",
    "    print(\"No observations.\")\n",
    "\n",
    "else:\n",
    "    quicklook_missing = np.where(np.isnan(vt.zero_point_median) & (vt.visit_id > 0))[0]\n",
    "    big_zp_offset = np.where((vt.zero_point_1s_pred.values - vt.zero_point_1s.values) > 1.5)[0]\n",
    "    failed_obs = np.where(np.isnan(vt.time_observation.values) & (vt.visit_id > 0))[0]\n",
    "    issues = np.concatenate([quicklook_missing, big_zp_offset, failed_obs])\n",
    "    issues = np.sort(issues)\n",
    "    issues = np.unique(issues)\n",
    "    print(f\"Found {len(issues)} images with potential issues out of {len(vt)} visits {(len(issues)/len(vt))*100 :.1f}%\")\n",
    "    \n",
    "    print(\"From the bad visit list: bad visits from the list which are not flagged here: \")\n",
    "    print(set(bad_visit_dayobs).difference(set(vt.iloc[issues]['visit_id'].values)))\n",
    "    \n",
    "    if len(issues) == 0:\n",
    "        print(\"No obvious issues found.\")\n",
    "    else:\n",
    "        display(HTML(\"<hr>\"))\n",
    "        display(HTML(\"Potential problems (please only report OBJECT img_types)\"))\n",
    "        display(HTML(\"<br>\"))\n",
    "        for idx in issues:\n",
    "            problem_string = f\"IMG_TYPE {vt.iloc[idx].img_type}. Flags:\"\n",
    "            if idx in failed_obs:\n",
    "                problem_string += \" no observation event,\"\n",
    "            if idx in quicklook_missing:\n",
    "                problem_string += \" no quicklook,\"\n",
    "            if idx in big_zp_offset:\n",
    "                problem_string += \" big zeropoint offset,\"\n",
    "            problem_string = problem_string[0:-1] + '.'\n",
    "            if vt.iloc[idx].visit_id in bad_visit_list:\n",
    "                problem_string += \" Already in bad visit list.\"\n",
    "            #problem_string = \", \".join(problem_string)\n",
    "            display(pd.DataFrame(vt.iloc[idx][pcols]).T)\n",
    "            print(problem_string)\n",
    "            mosaic_html, witness_html = rubintv_links(day_obs, vt.iloc[idx].seq_num)\n",
    "            display(HTML(mosaic_html))\n",
    "            display(HTML(witness_html))\n",
    "            display(HTML(\"<br>\"))\n",
    "        display(HTML(\"<hr>\"))"
   ]
  },
  {
   "cell_type": "code",
   "execution_count": null,
   "id": "94455ea5-91bb-44eb-8262-9358777bd9c9",
   "metadata": {},
   "outputs": [],
   "source": [
    "if len(failed_obs) > 0:\n",
    "    efd_and_messages, ecols = scriptqueue.get_consolidated_messages(sunset, sunrise, endpoints)\n",
    "    mtimes = pd.to_datetime(efd_and_messages.time)\n",
    "    for idx in failed_obs:\n",
    "        display(HTML(\"<hr>\"))\n",
    "        display(HTML(\"ScriptQueue info on visits missing observations (cause of failure?)\"))\n",
    "        display(HTML(\"<br>\"))\n",
    "        display(pd.DataFrame(vt.iloc[idx][pcols]).T)\n",
    "        display(HTML(\"ScriptQueue Information with same scriptSalIndex\"))\n",
    "        fo = vt.iloc[idx]\n",
    "        fo_time = pd.to_datetime(fo.time_target)\n",
    "        mm = efd_and_messages.iloc[np.where(abs(mtimes - fo_time) < pd.Timedelta(1, unit='hr'))[0]]\n",
    "        mm = mm.query('script_salIndex == @fo.scriptSalIndex')        \n",
    "        display(HTML(mm[ecols].to_html()))\n",
    "        display(Markdown(\"--\"))"
   ]
  },
  {
   "cell_type": "code",
   "execution_count": null,
   "id": "4b08493a-4391-4a44-ba23-17f2cc914772",
   "metadata": {},
   "outputs": [],
   "source": [
    "# Targets which did not result in a visit\n",
    "cols = ['visit_id', 'day_obs', 'seq_num', 'time_target', 'time_observation', 'time_nextvisit', 'groupId', \n",
    "        'ra', 'decl', 'skyAngle', 'filter', 'scriptSalIndex', 'note']\n",
    "if len(vt) > 0:\n",
    "    incomplete_target = vt.query('visit_id == 0')[cols]\n",
    "    if len(incomplete_target) == 0:\n",
    "        print(\"All requested targets resulted in visits.\")\n",
    "    else:\n",
    "        print(\"Targets requested by not observed.\")\n",
    "        display(HTML(incomplete_target.to_html()))"
   ]
  },
  {
   "cell_type": "code",
   "execution_count": null,
   "id": "fd9f01f9-3857-40cc-82f6-e9eb1d4137ec",
   "metadata": {},
   "outputs": [],
   "source": []
  }
 ],
 "metadata": {
  "kernelspec": {
   "display_name": "Python 3 (ipykernel)",
   "language": "python",
   "name": "python3"
  },
  "language_info": {
   "codemirror_mode": {
    "name": "ipython",
    "version": 3
   },
   "file_extension": ".py",
   "mimetype": "text/x-python",
   "name": "python",
   "nbconvert_exporter": "python",
   "pygments_lexer": "ipython3",
   "version": "3.13.1"
  }
 },
 "nbformat": 4,
 "nbformat_minor": 5
}
