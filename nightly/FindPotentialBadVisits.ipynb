{
 "cells": [
  {
   "cell_type": "code",
   "execution_count": 1,
   "id": "9d0fcb11-61d9-49a1-8367-c415c18f5c70",
   "metadata": {},
   "outputs": [],
   "source": [
    "day_obs = \"2025-07-01\"\n",
    "#day_obs = \"yesterday\"\n",
    "show_joined = False"
   ]
  },
  {
   "cell_type": "markdown",
   "id": "298c5885-3665-4f74-b537-e9a74e9ed6e0",
   "metadata": {},
   "source": [
    "# Identify potential bad images for {{ params.day_obs }}\n",
    "\n",
    "This notebook uses information from the ConsDb and the EFD to try to identify potential bad visits.\n",
    "\n",
    "Visits acquired from the FeatureBasedScheduler are tracked in the observatory system through several stages:\n",
    "* a target event is issued when the visit is requested\n",
    "* when this requested target is next to be observed, a nextvisit event is issued\n",
    "* an observation event is issued when the script to acquire the event is registered as successful by the Scheduler\n",
    "* as the visit is processed and metadata lands in the ConsDb, visit information including zeropoints measured by Rapid Analysis (RA) become available\n",
    "\n",
    "These can be linked: target + observation are linked by `target_id`, target + nextvisit are linked by the `script sal index`, and nextvisit + consdb visit can be linked by `group_id`.\n",
    "\n",
    "If the target is requested and visits are acquired, but the observation is never registered, then the script may have been interrupted  by a fault which would also cause problems for the visit.\n",
    "\n",
    "If the zeropoint reported by RA is significantly far from the predicted zeropoint (currently using an ad-hoc per-visit magnitude cutoff), then it is likely that there were problems with the visit.\n",
    "\n",
    "In each of these cases, we can identify the potentially troublesome visits and then check by eye in RubinTV -- links are provided to the full mosaic and the witness detector (at USDF).\n",
    "\n",
    "---------"
   ]
  },
  {
   "cell_type": "code",
   "execution_count": 2,
   "id": "5715adab-58f4-442d-a73d-cb049ac0865c",
   "metadata": {},
   "outputs": [],
   "source": [
    "!pip install --user --upgrade git+https://github.com/lsst-sims/rubin_nights.git --no-deps  > /dev/null 2>&1"
   ]
  },
  {
   "cell_type": "code",
   "execution_count": 3,
   "id": "e078f2ff-9b8c-45eb-ac2a-50e46c518e9f",
   "metadata": {},
   "outputs": [
    {
     "name": "stdout",
     "output_type": "stream",
     "text": [
      "rubin_nights version 0.1.dev67+g8996b81.d20250702\n"
     ]
    }
   ],
   "source": [
    "import rubin_nights\n",
    "print('rubin_nights version', rubin_nights.__version__)"
   ]
  },
  {
   "cell_type": "code",
   "execution_count": 4,
   "id": "70193639-10c6-4dee-a0c9-2d656cf9245a",
   "metadata": {},
   "outputs": [],
   "source": [
    "import os\n",
    "import numpy as np\n",
    "import pandas as pd\n",
    "from astropy.time import Time, TimeDelta\n",
    "#from astroplan import Observer\n",
    "\n",
    "from rubin_nights import connections, scriptqueue\n",
    "import rubin_nights.dayobs_utils as rn_dayobs\n",
    "from rubin_nights.targets_and_visits import targets_and_visits\n",
    "    \n",
    "import matplotlib.pyplot as plt\n",
    "from IPython.display import display, Markdown, HTML\n",
    "\n",
    "import logging\n",
    "logging.getLogger('rubin_nights').setLevel(logging.INFO)"
   ]
  },
  {
   "cell_type": "markdown",
   "id": "aa7ef65d-0e81-4814-99ff-7b5e213cdd17",
   "metadata": {},
   "source": [
    "----------"
   ]
  },
  {
   "cell_type": "code",
   "execution_count": 5,
   "id": "c7cccddb-fc07-41db-91ce-f3feaf8e9f23",
   "metadata": {},
   "outputs": [],
   "source": [
    "if os.getenv(\"EXTERNAL_INSTANCE_URL\") is None:\n",
    "    tokenfile = '/Users/lynnej/.lsst/usdf_rsp'\n",
    "    site = 'usdf'\n",
    "else:\n",
    "    tokenfile = None\n",
    "    site = None\n",
    "endpoints = connections.get_clients(tokenfile=tokenfile, site=site)"
   ]
  },
  {
   "cell_type": "code",
   "execution_count": 6,
   "id": "645d1d92-f23d-46fa-b417-aa449680eaae",
   "metadata": {},
   "outputs": [
    {
     "name": "stdout",
     "output_type": "stream",
     "text": [
      "Checking visits on 2025-07-01, from 2025-07-01 12:00:00.000 to 2025-07-02 12:00:00.000\n",
      "Time of notebook execution 2025-07-02 09:32:49.774\n",
      "Found 604 targets->visits.\n",
      "Visit metadata included ['All_day_clear' '' 'closed_loop_hexapods' 'closed_loop_alldofs'\n",
      " 'Rubin_SV_225_-40' 'blob_long, iz, a' 'blob_long, iz, b' 'templates, z'\n",
      " 'pair_33, iz, a' 'pair_33, iz, b' 'templates, r' 'templates, i'\n",
      " 'pair_15, ri, a' 'pair_15, ri, b'], ['AzEl' 'on-sky flat' 'Rubin_SV_225_-40' 'bulgy' 'bulgy, lowdust'\n",
      " 'lowdust' 'dusty_plane, bulgy' 'dusty_plane' 'dusty_plane, lowdust' 'nes']\n"
     ]
    }
   ],
   "source": [
    "if isinstance(day_obs, str):\n",
    "    if day_obs.lower() == \"today\":\n",
    "        day_obs = rn_dayobs.today_day_obs()\n",
    "    elif day_obs.lower() == \"yesterday\":\n",
    "        day_obs = rn_dayobs.yesterday_day_obs()\n",
    "\n",
    "try:\n",
    "    int(day_obs)\n",
    "    day_obs = rn_dayobs.day_obs_int_to_str(day_obs)\n",
    "except ValueError:\n",
    "    pass\n",
    "    \n",
    "day_obs_time = Time(f\"{day_obs}T12:00:00\", format='isot', scale='tai')\n",
    "#observer = Observer.at_site('Rubin')\n",
    "#sunset = Time(observer.sun_set_time(day_obs_time, which='next', horizon=-10*u.deg), format='jd')\n",
    "#sunrise = Time(observer.sun_rise_time(day_obs_time, which='next', horizon=-10*u.deg), format='jd')\n",
    "sunset = Time(f\"{day_obs}T12:00:00\", format='isot', scale='tai')\n",
    "sunrise = Time(f\"{day_obs}T12:00:00\", format='isot', scale='tai') + TimeDelta(1, format='jd')\n",
    "print(f\"Checking visits on {day_obs}, from {sunset.iso} to {sunrise.iso}\")\n",
    "print(f\"Time of notebook execution {Time.now().iso}\")\n",
    "\n",
    "endpoints = connections.get_clients(tokenfile, site)\n",
    "vt, cols, to, nv, visits = targets_and_visits(sunset, sunrise, endpoints)\n",
    "print(f\"Found {len(vt)} targets->visits.\")\n",
    "print(f\"Visit metadata included {visits.scheduler_note.unique()}, {visits.target_name.unique()}\")"
   ]
  },
  {
   "cell_type": "code",
   "execution_count": 7,
   "id": "a64a6300-bfa2-4245-9380-0a0c96caa659",
   "metadata": {},
   "outputs": [],
   "source": [
    "uri = \"https://raw.githubusercontent.com/lsst-dm/excluded_visits/\" \"refs/heads/main/LSSTCam/bad.ecsv\"\n",
    "bad_visits = pd.read_csv(uri, comment=\"#\")\n",
    "bad_visit_list = bad_visits.exposure.to_list()\n",
    "bad_visit_dayobs  = [v for v in bad_visit_list if str(v)[0:8] == day_obs.replace('-', '')]"
   ]
  },
  {
   "cell_type": "code",
   "execution_count": 8,
   "id": "aaf78208-a5ee-4d88-ada8-7f3e50b8e550",
   "metadata": {},
   "outputs": [
    {
     "name": "stdout",
     "output_type": "stream",
     "text": [
      "No visits with mismatch in sky_rotation (acquired rotation) compared to skyAngle in target request (+ nextvisit).\n"
     ]
    }
   ],
   "source": [
    "# Were there visits where the rotation angle was changed after the request/next visit?\n",
    "changed_rot = vt[abs(vt.skyAngle - vt.sky_rotation) > 1]\n",
    "if len(changed_rot) > 0:\n",
    "    print(f\"Visits with mismatch in sky_rotation (acquired rotation) compared to skyAngle in target request (+ nextvisit). - {len(changed_rot)}\")\n",
    "    display(changed_rot[cols])\n",
    "else:\n",
    "    print(\"No visits with mismatch in sky_rotation (acquired rotation) compared to skyAngle in target request (+ nextvisit).\")"
   ]
  },
  {
   "cell_type": "code",
   "execution_count": 9,
   "id": "866b79e0-06da-4d21-b326-bcb760fd4eae",
   "metadata": {},
   "outputs": [],
   "source": [
    "rubintv_base = \"https://usdf-rsp.slac.stanford.edu/rubintv/summit-usdf/lsstcam/event?key=lsstcam/\"\n",
    "def rubintv_links(day_obs, seq_num):\n",
    "    witness_link = f\"{rubintv_base}{day_obs}/witness_detector/{seq_num :06d}/lsstcam_witness_detector_{day_obs}_{seq_num :06d}.jpg\"\n",
    "    witness_html = f'<a href=\"{witness_link}\" target=\"_blank\" rel=\"noreferrer noopener\">{witness_link}</a>'\n",
    "    mosaic_link = f\"{rubintv_base}{day_obs}/calexp_mosaic/{seq_num :06d}/lsstcam_calexp_mosaic_{day_obs}_{seq_num :06d}.jpg\"\n",
    "    mosaic_html = f'<a href=\"{mosaic_link}\" target=\"_blank\" rel=\"noreferrer noopener\">{mosaic_link}</a>'\n",
    "    return mosaic_html, witness_html"
   ]
  },
  {
   "cell_type": "code",
   "execution_count": 11,
   "id": "25be00d2-3c98-4567-9da7-26a5da99e321",
   "metadata": {},
   "outputs": [
    {
     "name": "stdout",
     "output_type": "stream",
     "text": [
      "Found 119 images with potential issues out of 604 visits 19.7%\n",
      "From the bad visit list: bad visits from the list which are not flagged here: \n",
      "set()\n"
     ]
    },
    {
     "data": {
      "text/html": [
       "<hr>"
      ],
      "text/plain": [
       "<IPython.core.display.HTML object>"
      ]
     },
     "metadata": {},
     "output_type": "display_data"
    },
    {
     "data": {
      "text/html": [
       "Potential problems (please only report OBJECT img_types)"
      ],
      "text/plain": [
       "<IPython.core.display.HTML object>"
      ]
     },
     "metadata": {},
     "output_type": "display_data"
    },
    {
     "data": {
      "text/html": [
       "<br>"
      ],
      "text/plain": [
       "<IPython.core.display.HTML object>"
      ]
     },
     "metadata": {},
     "output_type": "display_data"
    },
    {
     "data": {
      "text/html": [
       "<div>\n",
       "<style scoped>\n",
       "    .dataframe tbody tr th:only-of-type {\n",
       "        vertical-align: middle;\n",
       "    }\n",
       "\n",
       "    .dataframe tbody tr th {\n",
       "        vertical-align: top;\n",
       "    }\n",
       "\n",
       "    .dataframe thead th {\n",
       "        text-align: right;\n",
       "    }\n",
       "</style>\n",
       "<table border=\"1\" class=\"dataframe\">\n",
       "  <thead>\n",
       "    <tr style=\"text-align: right;\">\n",
       "      <th></th>\n",
       "      <th>visit_id</th>\n",
       "      <th>day_obs</th>\n",
       "      <th>seq_num</th>\n",
       "      <th>time_target</th>\n",
       "      <th>time_observation</th>\n",
       "      <th>obs_start</th>\n",
       "      <th>scriptSalIndex</th>\n",
       "      <th>target_name</th>\n",
       "      <th>s_ra</th>\n",
       "      <th>s_dec</th>\n",
       "      <th>sky_rotation</th>\n",
       "      <th>band</th>\n",
       "      <th>psf_sigma_median</th>\n",
       "      <th>zero_point_1s</th>\n",
       "      <th>zero_point_1s_pred</th>\n",
       "      <th>clouds</th>\n",
       "      <th>science_program</th>\n",
       "      <th>target_name</th>\n",
       "    </tr>\n",
       "  </thead>\n",
       "  <tbody>\n",
       "    <tr>\n",
       "      <th>53</th>\n",
       "      <td>2025070100176</td>\n",
       "      <td>20250701</td>\n",
       "      <td>176</td>\n",
       "      <td>2025-07-02 00:18:00.359432+00:00</td>\n",
       "      <td>2025-07-02 00:22:18.957480+00:00</td>\n",
       "      <td>2025-07-02T00:22:24.909000</td>\n",
       "      <td>110232</td>\n",
       "      <td>bulgy</td>\n",
       "      <td>269.954634</td>\n",
       "      <td>-32.997725</td>\n",
       "      <td>128.011129</td>\n",
       "      <td>i</td>\n",
       "      <td>2.851961</td>\n",
       "      <td>NaN</td>\n",
       "      <td>28.228636</td>\n",
       "      <td>NaN</td>\n",
       "      <td>BLOCK-365</td>\n",
       "      <td>bulgy</td>\n",
       "    </tr>\n",
       "  </tbody>\n",
       "</table>\n",
       "</div>"
      ],
      "text/plain": [
       "         visit_id   day_obs seq_num                       time_target  \\\n",
       "53  2025070100176  20250701     176  2025-07-02 00:18:00.359432+00:00   \n",
       "\n",
       "                    time_observation                   obs_start  \\\n",
       "53  2025-07-02 00:22:18.957480+00:00  2025-07-02T00:22:24.909000   \n",
       "\n",
       "   scriptSalIndex target_name        s_ra      s_dec sky_rotation band  \\\n",
       "53         110232       bulgy  269.954634 -32.997725   128.011129    i   \n",
       "\n",
       "   psf_sigma_median zero_point_1s zero_point_1s_pred clouds science_program  \\\n",
       "53         2.851961           NaN          28.228636    NaN       BLOCK-365   \n",
       "\n",
       "   target_name  \n",
       "53       bulgy  "
      ]
     },
     "metadata": {},
     "output_type": "display_data"
    },
    {
     "name": "stdout",
     "output_type": "stream",
     "text": [
      "IMG_TYPE science. Flags: no quicklook.\n"
     ]
    },
    {
     "data": {
      "text/html": [
       "<a href=\"https://usdf-rsp.slac.stanford.edu/rubintv/summit-usdf/lsstcam/event?key=lsstcam/2025-07-01/calexp_mosaic/000176/lsstcam_calexp_mosaic_2025-07-01_000176.jpg\" target=\"_blank\" rel=\"noreferrer noopener\">https://usdf-rsp.slac.stanford.edu/rubintv/summit-usdf/lsstcam/event?key=lsstcam/2025-07-01/calexp_mosaic/000176/lsstcam_calexp_mosaic_2025-07-01_000176.jpg</a>"
      ],
      "text/plain": [
       "<IPython.core.display.HTML object>"
      ]
     },
     "metadata": {},
     "output_type": "display_data"
    },
    {
     "data": {
      "text/html": [
       "<a href=\"https://usdf-rsp.slac.stanford.edu/rubintv/summit-usdf/lsstcam/event?key=lsstcam/2025-07-01/witness_detector/000176/lsstcam_witness_detector_2025-07-01_000176.jpg\" target=\"_blank\" rel=\"noreferrer noopener\">https://usdf-rsp.slac.stanford.edu/rubintv/summit-usdf/lsstcam/event?key=lsstcam/2025-07-01/witness_detector/000176/lsstcam_witness_detector_2025-07-01_000176.jpg</a>"
      ],
      "text/plain": [
       "<IPython.core.display.HTML object>"
      ]
     },
     "metadata": {},
     "output_type": "display_data"
    },
    {
     "data": {
      "text/html": [
       "<br>"
      ],
      "text/plain": [
       "<IPython.core.display.HTML object>"
      ]
     },
     "metadata": {},
     "output_type": "display_data"
    },
    {
     "data": {
      "text/html": [
       "<div>\n",
       "<style scoped>\n",
       "    .dataframe tbody tr th:only-of-type {\n",
       "        vertical-align: middle;\n",
       "    }\n",
       "\n",
       "    .dataframe tbody tr th {\n",
       "        vertical-align: top;\n",
       "    }\n",
       "\n",
       "    .dataframe thead th {\n",
       "        text-align: right;\n",
       "    }\n",
       "</style>\n",
       "<table border=\"1\" class=\"dataframe\">\n",
       "  <thead>\n",
       "    <tr style=\"text-align: right;\">\n",
       "      <th></th>\n",
       "      <th>visit_id</th>\n",
       "      <th>day_obs</th>\n",
       "      <th>seq_num</th>\n",
       "      <th>time_target</th>\n",
       "      <th>time_observation</th>\n",
       "      <th>obs_start</th>\n",
       "      <th>scriptSalIndex</th>\n",
       "      <th>target_name</th>\n",
       "      <th>s_ra</th>\n",
       "      <th>s_dec</th>\n",
       "      <th>sky_rotation</th>\n",
       "      <th>band</th>\n",
       "      <th>psf_sigma_median</th>\n",
       "      <th>zero_point_1s</th>\n",
       "      <th>zero_point_1s_pred</th>\n",
       "      <th>clouds</th>\n",
       "      <th>science_program</th>\n",
       "      <th>target_name</th>\n",
       "    </tr>\n",
       "  </thead>\n",
       "  <tbody>\n",
       "    <tr>\n",
       "      <th>116</th>\n",
       "      <td>2025070100238</td>\n",
       "      <td>20250701</td>\n",
       "      <td>238</td>\n",
       "      <td>2025-07-02 01:12:27.015357+00:00</td>\n",
       "      <td>2025-07-02 01:13:43.289890+00:00</td>\n",
       "      <td>2025-07-02T01:13:48.928000</td>\n",
       "      <td>110295</td>\n",
       "      <td>bulgy</td>\n",
       "      <td>281.806677</td>\n",
       "      <td>-22.238534</td>\n",
       "      <td>117.308075</td>\n",
       "      <td>z</td>\n",
       "      <td>2.561881</td>\n",
       "      <td>26.346785</td>\n",
       "      <td>27.847514</td>\n",
       "      <td>-1.500729</td>\n",
       "      <td>BLOCK-365</td>\n",
       "      <td>bulgy</td>\n",
       "    </tr>\n",
       "  </tbody>\n",
       "</table>\n",
       "</div>"
      ],
      "text/plain": [
       "          visit_id   day_obs seq_num                       time_target  \\\n",
       "116  2025070100238  20250701     238  2025-07-02 01:12:27.015357+00:00   \n",
       "\n",
       "                     time_observation                   obs_start  \\\n",
       "116  2025-07-02 01:13:43.289890+00:00  2025-07-02T01:13:48.928000   \n",
       "\n",
       "    scriptSalIndex target_name        s_ra      s_dec sky_rotation band  \\\n",
       "116         110295       bulgy  281.806677 -22.238534   117.308075    z   \n",
       "\n",
       "    psf_sigma_median zero_point_1s zero_point_1s_pred    clouds  \\\n",
       "116         2.561881     26.346785          27.847514 -1.500729   \n",
       "\n",
       "    science_program target_name  \n",
       "116       BLOCK-365       bulgy  "
      ]
     },
     "metadata": {},
     "output_type": "display_data"
    },
    {
     "name": "stdout",
     "output_type": "stream",
     "text": [
      "IMG_TYPE science. Flags: big zeropoint offset.\n"
     ]
    },
    {
     "data": {
      "text/html": [
       "<a href=\"https://usdf-rsp.slac.stanford.edu/rubintv/summit-usdf/lsstcam/event?key=lsstcam/2025-07-01/calexp_mosaic/000238/lsstcam_calexp_mosaic_2025-07-01_000238.jpg\" target=\"_blank\" rel=\"noreferrer noopener\">https://usdf-rsp.slac.stanford.edu/rubintv/summit-usdf/lsstcam/event?key=lsstcam/2025-07-01/calexp_mosaic/000238/lsstcam_calexp_mosaic_2025-07-01_000238.jpg</a>"
      ],
      "text/plain": [
       "<IPython.core.display.HTML object>"
      ]
     },
     "metadata": {},
     "output_type": "display_data"
    },
    {
     "data": {
      "text/html": [
       "<a href=\"https://usdf-rsp.slac.stanford.edu/rubintv/summit-usdf/lsstcam/event?key=lsstcam/2025-07-01/witness_detector/000238/lsstcam_witness_detector_2025-07-01_000238.jpg\" target=\"_blank\" rel=\"noreferrer noopener\">https://usdf-rsp.slac.stanford.edu/rubintv/summit-usdf/lsstcam/event?key=lsstcam/2025-07-01/witness_detector/000238/lsstcam_witness_detector_2025-07-01_000238.jpg</a>"
      ],
      "text/plain": [
       "<IPython.core.display.HTML object>"
      ]
     },
     "metadata": {},
     "output_type": "display_data"
    },
    {
     "data": {
      "text/html": [
       "<br>"
      ],
      "text/plain": [
       "<IPython.core.display.HTML object>"
      ]
     },
     "metadata": {},
     "output_type": "display_data"
    },
    {
     "data": {
      "text/html": [
       "<div>\n",
       "<style scoped>\n",
       "    .dataframe tbody tr th:only-of-type {\n",
       "        vertical-align: middle;\n",
       "    }\n",
       "\n",
       "    .dataframe tbody tr th {\n",
       "        vertical-align: top;\n",
       "    }\n",
       "\n",
       "    .dataframe thead th {\n",
       "        text-align: right;\n",
       "    }\n",
       "</style>\n",
       "<table border=\"1\" class=\"dataframe\">\n",
       "  <thead>\n",
       "    <tr style=\"text-align: right;\">\n",
       "      <th></th>\n",
       "      <th>visit_id</th>\n",
       "      <th>day_obs</th>\n",
       "      <th>seq_num</th>\n",
       "      <th>time_target</th>\n",
       "      <th>time_observation</th>\n",
       "      <th>obs_start</th>\n",
       "      <th>scriptSalIndex</th>\n",
       "      <th>target_name</th>\n",
       "      <th>s_ra</th>\n",
       "      <th>s_dec</th>\n",
       "      <th>sky_rotation</th>\n",
       "      <th>band</th>\n",
       "      <th>psf_sigma_median</th>\n",
       "      <th>zero_point_1s</th>\n",
       "      <th>zero_point_1s_pred</th>\n",
       "      <th>clouds</th>\n",
       "      <th>science_program</th>\n",
       "      <th>target_name</th>\n",
       "    </tr>\n",
       "  </thead>\n",
       "  <tbody>\n",
       "    <tr>\n",
       "      <th>117</th>\n",
       "      <td>2025070100239</td>\n",
       "      <td>20250701</td>\n",
       "      <td>239</td>\n",
       "      <td>2025-07-02 01:13:06.194342+00:00</td>\n",
       "      <td>2025-07-02 01:14:22.468798+00:00</td>\n",
       "      <td>2025-07-02T01:14:27.870000</td>\n",
       "      <td>110296</td>\n",
       "      <td>bulgy</td>\n",
       "      <td>279.144285</td>\n",
       "      <td>-20.310267</td>\n",
       "      <td>116.65374</td>\n",
       "      <td>z</td>\n",
       "      <td>2.287073</td>\n",
       "      <td>25.792951</td>\n",
       "      <td>27.850355</td>\n",
       "      <td>-2.057405</td>\n",
       "      <td>BLOCK-365</td>\n",
       "      <td>bulgy</td>\n",
       "    </tr>\n",
       "  </tbody>\n",
       "</table>\n",
       "</div>"
      ],
      "text/plain": [
       "          visit_id   day_obs seq_num                       time_target  \\\n",
       "117  2025070100239  20250701     239  2025-07-02 01:13:06.194342+00:00   \n",
       "\n",
       "                     time_observation                   obs_start  \\\n",
       "117  2025-07-02 01:14:22.468798+00:00  2025-07-02T01:14:27.870000   \n",
       "\n",
       "    scriptSalIndex target_name        s_ra      s_dec sky_rotation band  \\\n",
       "117         110296       bulgy  279.144285 -20.310267    116.65374    z   \n",
       "\n",
       "    psf_sigma_median zero_point_1s zero_point_1s_pred    clouds  \\\n",
       "117         2.287073     25.792951          27.850355 -2.057405   \n",
       "\n",
       "    science_program target_name  \n",
       "117       BLOCK-365       bulgy  "
      ]
     },
     "metadata": {},
     "output_type": "display_data"
    },
    {
     "name": "stdout",
     "output_type": "stream",
     "text": [
      "IMG_TYPE science. Flags: big zeropoint offset.\n"
     ]
    },
    {
     "data": {
      "text/html": [
       "<a href=\"https://usdf-rsp.slac.stanford.edu/rubintv/summit-usdf/lsstcam/event?key=lsstcam/2025-07-01/calexp_mosaic/000239/lsstcam_calexp_mosaic_2025-07-01_000239.jpg\" target=\"_blank\" rel=\"noreferrer noopener\">https://usdf-rsp.slac.stanford.edu/rubintv/summit-usdf/lsstcam/event?key=lsstcam/2025-07-01/calexp_mosaic/000239/lsstcam_calexp_mosaic_2025-07-01_000239.jpg</a>"
      ],
      "text/plain": [
       "<IPython.core.display.HTML object>"
      ]
     },
     "metadata": {},
     "output_type": "display_data"
    },
    {
     "data": {
      "text/html": [
       "<a href=\"https://usdf-rsp.slac.stanford.edu/rubintv/summit-usdf/lsstcam/event?key=lsstcam/2025-07-01/witness_detector/000239/lsstcam_witness_detector_2025-07-01_000239.jpg\" target=\"_blank\" rel=\"noreferrer noopener\">https://usdf-rsp.slac.stanford.edu/rubintv/summit-usdf/lsstcam/event?key=lsstcam/2025-07-01/witness_detector/000239/lsstcam_witness_detector_2025-07-01_000239.jpg</a>"
      ],
      "text/plain": [
       "<IPython.core.display.HTML object>"
      ]
     },
     "metadata": {},
     "output_type": "display_data"
    },
    {
     "data": {
      "text/html": [
       "<br>"
      ],
      "text/plain": [
       "<IPython.core.display.HTML object>"
      ]
     },
     "metadata": {},
     "output_type": "display_data"
    },
    {
     "data": {
      "text/html": [
       "<div>\n",
       "<style scoped>\n",
       "    .dataframe tbody tr th:only-of-type {\n",
       "        vertical-align: middle;\n",
       "    }\n",
       "\n",
       "    .dataframe tbody tr th {\n",
       "        vertical-align: top;\n",
       "    }\n",
       "\n",
       "    .dataframe thead th {\n",
       "        text-align: right;\n",
       "    }\n",
       "</style>\n",
       "<table border=\"1\" class=\"dataframe\">\n",
       "  <thead>\n",
       "    <tr style=\"text-align: right;\">\n",
       "      <th></th>\n",
       "      <th>visit_id</th>\n",
       "      <th>day_obs</th>\n",
       "      <th>seq_num</th>\n",
       "      <th>time_target</th>\n",
       "      <th>time_observation</th>\n",
       "      <th>obs_start</th>\n",
       "      <th>scriptSalIndex</th>\n",
       "      <th>target_name</th>\n",
       "      <th>s_ra</th>\n",
       "      <th>s_dec</th>\n",
       "      <th>sky_rotation</th>\n",
       "      <th>band</th>\n",
       "      <th>psf_sigma_median</th>\n",
       "      <th>zero_point_1s</th>\n",
       "      <th>zero_point_1s_pred</th>\n",
       "      <th>clouds</th>\n",
       "      <th>science_program</th>\n",
       "      <th>target_name</th>\n",
       "    </tr>\n",
       "  </thead>\n",
       "  <tbody>\n",
       "    <tr>\n",
       "      <th>118</th>\n",
       "      <td>2025070100240</td>\n",
       "      <td>20250701</td>\n",
       "      <td>240</td>\n",
       "      <td>2025-07-02 01:13:44.370859+00:00</td>\n",
       "      <td>2025-07-02 01:15:00.734143+00:00</td>\n",
       "      <td>2025-07-02T01:15:06.236000</td>\n",
       "      <td>110297</td>\n",
       "      <td>bulgy</td>\n",
       "      <td>281.804232</td>\n",
       "      <td>-19.105714</td>\n",
       "      <td>115.719154</td>\n",
       "      <td>z</td>\n",
       "      <td>2.271415</td>\n",
       "      <td>25.912394</td>\n",
       "      <td>27.845878</td>\n",
       "      <td>-1.933484</td>\n",
       "      <td>BLOCK-365</td>\n",
       "      <td>bulgy</td>\n",
       "    </tr>\n",
       "  </tbody>\n",
       "</table>\n",
       "</div>"
      ],
      "text/plain": [
       "          visit_id   day_obs seq_num                       time_target  \\\n",
       "118  2025070100240  20250701     240  2025-07-02 01:13:44.370859+00:00   \n",
       "\n",
       "                     time_observation                   obs_start  \\\n",
       "118  2025-07-02 01:15:00.734143+00:00  2025-07-02T01:15:06.236000   \n",
       "\n",
       "    scriptSalIndex target_name        s_ra      s_dec sky_rotation band  \\\n",
       "118         110297       bulgy  281.804232 -19.105714   115.719154    z   \n",
       "\n",
       "    psf_sigma_median zero_point_1s zero_point_1s_pred    clouds  \\\n",
       "118         2.271415     25.912394          27.845878 -1.933484   \n",
       "\n",
       "    science_program target_name  \n",
       "118       BLOCK-365       bulgy  "
      ]
     },
     "metadata": {},
     "output_type": "display_data"
    },
    {
     "name": "stdout",
     "output_type": "stream",
     "text": [
      "IMG_TYPE science. Flags: big zeropoint offset.\n"
     ]
    },
    {
     "data": {
      "text/html": [
       "<a href=\"https://usdf-rsp.slac.stanford.edu/rubintv/summit-usdf/lsstcam/event?key=lsstcam/2025-07-01/calexp_mosaic/000240/lsstcam_calexp_mosaic_2025-07-01_000240.jpg\" target=\"_blank\" rel=\"noreferrer noopener\">https://usdf-rsp.slac.stanford.edu/rubintv/summit-usdf/lsstcam/event?key=lsstcam/2025-07-01/calexp_mosaic/000240/lsstcam_calexp_mosaic_2025-07-01_000240.jpg</a>"
      ],
      "text/plain": [
       "<IPython.core.display.HTML object>"
      ]
     },
     "metadata": {},
     "output_type": "display_data"
    },
    {
     "data": {
      "text/html": [
       "<a href=\"https://usdf-rsp.slac.stanford.edu/rubintv/summit-usdf/lsstcam/event?key=lsstcam/2025-07-01/witness_detector/000240/lsstcam_witness_detector_2025-07-01_000240.jpg\" target=\"_blank\" rel=\"noreferrer noopener\">https://usdf-rsp.slac.stanford.edu/rubintv/summit-usdf/lsstcam/event?key=lsstcam/2025-07-01/witness_detector/000240/lsstcam_witness_detector_2025-07-01_000240.jpg</a>"
      ],
      "text/plain": [
       "<IPython.core.display.HTML object>"
      ]
     },
     "metadata": {},
     "output_type": "display_data"
    },
    {
     "data": {
      "text/html": [
       "<br>"
      ],
      "text/plain": [
       "<IPython.core.display.HTML object>"
      ]
     },
     "metadata": {},
     "output_type": "display_data"
    },
    {
     "data": {
      "text/html": [
       "<div>\n",
       "<style scoped>\n",
       "    .dataframe tbody tr th:only-of-type {\n",
       "        vertical-align: middle;\n",
       "    }\n",
       "\n",
       "    .dataframe tbody tr th {\n",
       "        vertical-align: top;\n",
       "    }\n",
       "\n",
       "    .dataframe thead th {\n",
       "        text-align: right;\n",
       "    }\n",
       "</style>\n",
       "<table border=\"1\" class=\"dataframe\">\n",
       "  <thead>\n",
       "    <tr style=\"text-align: right;\">\n",
       "      <th></th>\n",
       "      <th>visit_id</th>\n",
       "      <th>day_obs</th>\n",
       "      <th>seq_num</th>\n",
       "      <th>time_target</th>\n",
       "      <th>time_observation</th>\n",
       "      <th>obs_start</th>\n",
       "      <th>scriptSalIndex</th>\n",
       "      <th>target_name</th>\n",
       "      <th>s_ra</th>\n",
       "      <th>s_dec</th>\n",
       "      <th>sky_rotation</th>\n",
       "      <th>band</th>\n",
       "      <th>psf_sigma_median</th>\n",
       "      <th>zero_point_1s</th>\n",
       "      <th>zero_point_1s_pred</th>\n",
       "      <th>clouds</th>\n",
       "      <th>science_program</th>\n",
       "      <th>target_name</th>\n",
       "    </tr>\n",
       "  </thead>\n",
       "  <tbody>\n",
       "    <tr>\n",
       "      <th>137</th>\n",
       "      <td>2025070100259</td>\n",
       "      <td>20250701</td>\n",
       "      <td>259</td>\n",
       "      <td>2025-07-02 01:26:11.707322+00:00</td>\n",
       "      <td>2025-07-02 01:27:27.979792+00:00</td>\n",
       "      <td>2025-07-02T01:27:33.398000</td>\n",
       "      <td>110316</td>\n",
       "      <td>bulgy</td>\n",
       "      <td>267.968877</td>\n",
       "      <td>-24.726179</td>\n",
       "      <td>121.169172</td>\n",
       "      <td>z</td>\n",
       "      <td>1.836856</td>\n",
       "      <td>26.000367</td>\n",
       "      <td>27.866158</td>\n",
       "      <td>-1.865791</td>\n",
       "      <td>BLOCK-365</td>\n",
       "      <td>bulgy</td>\n",
       "    </tr>\n",
       "  </tbody>\n",
       "</table>\n",
       "</div>"
      ],
      "text/plain": [
       "          visit_id   day_obs seq_num                       time_target  \\\n",
       "137  2025070100259  20250701     259  2025-07-02 01:26:11.707322+00:00   \n",
       "\n",
       "                     time_observation                   obs_start  \\\n",
       "137  2025-07-02 01:27:27.979792+00:00  2025-07-02T01:27:33.398000   \n",
       "\n",
       "    scriptSalIndex target_name        s_ra      s_dec sky_rotation band  \\\n",
       "137         110316       bulgy  267.968877 -24.726179   121.169172    z   \n",
       "\n",
       "    psf_sigma_median zero_point_1s zero_point_1s_pred    clouds  \\\n",
       "137         1.836856     26.000367          27.866158 -1.865791   \n",
       "\n",
       "    science_program target_name  \n",
       "137       BLOCK-365       bulgy  "
      ]
     },
     "metadata": {},
     "output_type": "display_data"
    },
    {
     "name": "stdout",
     "output_type": "stream",
     "text": [
      "IMG_TYPE science. Flags: big zeropoint offset.\n"
     ]
    },
    {
     "data": {
      "text/html": [
       "<a href=\"https://usdf-rsp.slac.stanford.edu/rubintv/summit-usdf/lsstcam/event?key=lsstcam/2025-07-01/calexp_mosaic/000259/lsstcam_calexp_mosaic_2025-07-01_000259.jpg\" target=\"_blank\" rel=\"noreferrer noopener\">https://usdf-rsp.slac.stanford.edu/rubintv/summit-usdf/lsstcam/event?key=lsstcam/2025-07-01/calexp_mosaic/000259/lsstcam_calexp_mosaic_2025-07-01_000259.jpg</a>"
      ],
      "text/plain": [
       "<IPython.core.display.HTML object>"
      ]
     },
     "metadata": {},
     "output_type": "display_data"
    },
    {
     "data": {
      "text/html": [
       "<a href=\"https://usdf-rsp.slac.stanford.edu/rubintv/summit-usdf/lsstcam/event?key=lsstcam/2025-07-01/witness_detector/000259/lsstcam_witness_detector_2025-07-01_000259.jpg\" target=\"_blank\" rel=\"noreferrer noopener\">https://usdf-rsp.slac.stanford.edu/rubintv/summit-usdf/lsstcam/event?key=lsstcam/2025-07-01/witness_detector/000259/lsstcam_witness_detector_2025-07-01_000259.jpg</a>"
      ],
      "text/plain": [
       "<IPython.core.display.HTML object>"
      ]
     },
     "metadata": {},
     "output_type": "display_data"
    },
    {
     "data": {
      "text/html": [
       "<br>"
      ],
      "text/plain": [
       "<IPython.core.display.HTML object>"
      ]
     },
     "metadata": {},
     "output_type": "display_data"
    },
    {
     "data": {
      "text/html": [
       "<div>\n",
       "<style scoped>\n",
       "    .dataframe tbody tr th:only-of-type {\n",
       "        vertical-align: middle;\n",
       "    }\n",
       "\n",
       "    .dataframe tbody tr th {\n",
       "        vertical-align: top;\n",
       "    }\n",
       "\n",
       "    .dataframe thead th {\n",
       "        text-align: right;\n",
       "    }\n",
       "</style>\n",
       "<table border=\"1\" class=\"dataframe\">\n",
       "  <thead>\n",
       "    <tr style=\"text-align: right;\">\n",
       "      <th></th>\n",
       "      <th>visit_id</th>\n",
       "      <th>day_obs</th>\n",
       "      <th>seq_num</th>\n",
       "      <th>time_target</th>\n",
       "      <th>time_observation</th>\n",
       "      <th>obs_start</th>\n",
       "      <th>scriptSalIndex</th>\n",
       "      <th>target_name</th>\n",
       "      <th>s_ra</th>\n",
       "      <th>s_dec</th>\n",
       "      <th>sky_rotation</th>\n",
       "      <th>band</th>\n",
       "      <th>psf_sigma_median</th>\n",
       "      <th>zero_point_1s</th>\n",
       "      <th>zero_point_1s_pred</th>\n",
       "      <th>clouds</th>\n",
       "      <th>science_program</th>\n",
       "      <th>target_name</th>\n",
       "    </tr>\n",
       "  </thead>\n",
       "  <tbody>\n",
       "    <tr>\n",
       "      <th>138</th>\n",
       "      <td>2025070100260</td>\n",
       "      <td>20250701</td>\n",
       "      <td>260</td>\n",
       "      <td>2025-07-02 01:26:50.875743+00:00</td>\n",
       "      <td>2025-07-02 01:28:08.196555+00:00</td>\n",
       "      <td>2025-07-02T01:28:13.941000</td>\n",
       "      <td>110317</td>\n",
       "      <td>bulgy</td>\n",
       "      <td>267.606852</td>\n",
       "      <td>-27.831239</td>\n",
       "      <td>123.995844</td>\n",
       "      <td>z</td>\n",
       "      <td>1.879841</td>\n",
       "      <td>25.854354</td>\n",
       "      <td>27.867128</td>\n",
       "      <td>-2.012775</td>\n",
       "      <td>BLOCK-365</td>\n",
       "      <td>bulgy</td>\n",
       "    </tr>\n",
       "  </tbody>\n",
       "</table>\n",
       "</div>"
      ],
      "text/plain": [
       "          visit_id   day_obs seq_num                       time_target  \\\n",
       "138  2025070100260  20250701     260  2025-07-02 01:26:50.875743+00:00   \n",
       "\n",
       "                     time_observation                   obs_start  \\\n",
       "138  2025-07-02 01:28:08.196555+00:00  2025-07-02T01:28:13.941000   \n",
       "\n",
       "    scriptSalIndex target_name        s_ra      s_dec sky_rotation band  \\\n",
       "138         110317       bulgy  267.606852 -27.831239   123.995844    z   \n",
       "\n",
       "    psf_sigma_median zero_point_1s zero_point_1s_pred    clouds  \\\n",
       "138         1.879841     25.854354          27.867128 -2.012775   \n",
       "\n",
       "    science_program target_name  \n",
       "138       BLOCK-365       bulgy  "
      ]
     },
     "metadata": {},
     "output_type": "display_data"
    },
    {
     "name": "stdout",
     "output_type": "stream",
     "text": [
      "IMG_TYPE science. Flags: big zeropoint offset.\n"
     ]
    },
    {
     "data": {
      "text/html": [
       "<a href=\"https://usdf-rsp.slac.stanford.edu/rubintv/summit-usdf/lsstcam/event?key=lsstcam/2025-07-01/calexp_mosaic/000260/lsstcam_calexp_mosaic_2025-07-01_000260.jpg\" target=\"_blank\" rel=\"noreferrer noopener\">https://usdf-rsp.slac.stanford.edu/rubintv/summit-usdf/lsstcam/event?key=lsstcam/2025-07-01/calexp_mosaic/000260/lsstcam_calexp_mosaic_2025-07-01_000260.jpg</a>"
      ],
      "text/plain": [
       "<IPython.core.display.HTML object>"
      ]
     },
     "metadata": {},
     "output_type": "display_data"
    },
    {
     "data": {
      "text/html": [
       "<a href=\"https://usdf-rsp.slac.stanford.edu/rubintv/summit-usdf/lsstcam/event?key=lsstcam/2025-07-01/witness_detector/000260/lsstcam_witness_detector_2025-07-01_000260.jpg\" target=\"_blank\" rel=\"noreferrer noopener\">https://usdf-rsp.slac.stanford.edu/rubintv/summit-usdf/lsstcam/event?key=lsstcam/2025-07-01/witness_detector/000260/lsstcam_witness_detector_2025-07-01_000260.jpg</a>"
      ],
      "text/plain": [
       "<IPython.core.display.HTML object>"
      ]
     },
     "metadata": {},
     "output_type": "display_data"
    },
    {
     "data": {
      "text/html": [
       "<br>"
      ],
      "text/plain": [
       "<IPython.core.display.HTML object>"
      ]
     },
     "metadata": {},
     "output_type": "display_data"
    },
    {
     "data": {
      "text/html": [
       "<div>\n",
       "<style scoped>\n",
       "    .dataframe tbody tr th:only-of-type {\n",
       "        vertical-align: middle;\n",
       "    }\n",
       "\n",
       "    .dataframe tbody tr th {\n",
       "        vertical-align: top;\n",
       "    }\n",
       "\n",
       "    .dataframe thead th {\n",
       "        text-align: right;\n",
       "    }\n",
       "</style>\n",
       "<table border=\"1\" class=\"dataframe\">\n",
       "  <thead>\n",
       "    <tr style=\"text-align: right;\">\n",
       "      <th></th>\n",
       "      <th>visit_id</th>\n",
       "      <th>day_obs</th>\n",
       "      <th>seq_num</th>\n",
       "      <th>time_target</th>\n",
       "      <th>time_observation</th>\n",
       "      <th>obs_start</th>\n",
       "      <th>scriptSalIndex</th>\n",
       "      <th>target_name</th>\n",
       "      <th>s_ra</th>\n",
       "      <th>s_dec</th>\n",
       "      <th>sky_rotation</th>\n",
       "      <th>band</th>\n",
       "      <th>psf_sigma_median</th>\n",
       "      <th>zero_point_1s</th>\n",
       "      <th>zero_point_1s_pred</th>\n",
       "      <th>clouds</th>\n",
       "      <th>science_program</th>\n",
       "      <th>target_name</th>\n",
       "    </tr>\n",
       "  </thead>\n",
       "  <tbody>\n",
       "    <tr>\n",
       "      <th>139</th>\n",
       "      <td>2025070100261</td>\n",
       "      <td>20250701</td>\n",
       "      <td>261</td>\n",
       "      <td>2025-07-02 01:27:29.082376+00:00</td>\n",
       "      <td>2025-07-02 01:28:49.349847+00:00</td>\n",
       "      <td>2025-07-02T01:28:54.348000</td>\n",
       "      <td>110318</td>\n",
       "      <td>bulgy</td>\n",
       "      <td>270.559802</td>\n",
       "      <td>-26.803116</td>\n",
       "      <td>122.455383</td>\n",
       "      <td>z</td>\n",
       "      <td>1.975916</td>\n",
       "      <td>25.751908</td>\n",
       "      <td>27.865064</td>\n",
       "      <td>-2.113157</td>\n",
       "      <td>BLOCK-365</td>\n",
       "      <td>bulgy</td>\n",
       "    </tr>\n",
       "  </tbody>\n",
       "</table>\n",
       "</div>"
      ],
      "text/plain": [
       "          visit_id   day_obs seq_num                       time_target  \\\n",
       "139  2025070100261  20250701     261  2025-07-02 01:27:29.082376+00:00   \n",
       "\n",
       "                     time_observation                   obs_start  \\\n",
       "139  2025-07-02 01:28:49.349847+00:00  2025-07-02T01:28:54.348000   \n",
       "\n",
       "    scriptSalIndex target_name        s_ra      s_dec sky_rotation band  \\\n",
       "139         110318       bulgy  270.559802 -26.803116   122.455383    z   \n",
       "\n",
       "    psf_sigma_median zero_point_1s zero_point_1s_pred    clouds  \\\n",
       "139         1.975916     25.751908          27.865064 -2.113157   \n",
       "\n",
       "    science_program target_name  \n",
       "139       BLOCK-365       bulgy  "
      ]
     },
     "metadata": {},
     "output_type": "display_data"
    },
    {
     "name": "stdout",
     "output_type": "stream",
     "text": [
      "IMG_TYPE science. Flags: big zeropoint offset.\n"
     ]
    },
    {
     "data": {
      "text/html": [
       "<a href=\"https://usdf-rsp.slac.stanford.edu/rubintv/summit-usdf/lsstcam/event?key=lsstcam/2025-07-01/calexp_mosaic/000261/lsstcam_calexp_mosaic_2025-07-01_000261.jpg\" target=\"_blank\" rel=\"noreferrer noopener\">https://usdf-rsp.slac.stanford.edu/rubintv/summit-usdf/lsstcam/event?key=lsstcam/2025-07-01/calexp_mosaic/000261/lsstcam_calexp_mosaic_2025-07-01_000261.jpg</a>"
      ],
      "text/plain": [
       "<IPython.core.display.HTML object>"
      ]
     },
     "metadata": {},
     "output_type": "display_data"
    },
    {
     "data": {
      "text/html": [
       "<a href=\"https://usdf-rsp.slac.stanford.edu/rubintv/summit-usdf/lsstcam/event?key=lsstcam/2025-07-01/witness_detector/000261/lsstcam_witness_detector_2025-07-01_000261.jpg\" target=\"_blank\" rel=\"noreferrer noopener\">https://usdf-rsp.slac.stanford.edu/rubintv/summit-usdf/lsstcam/event?key=lsstcam/2025-07-01/witness_detector/000261/lsstcam_witness_detector_2025-07-01_000261.jpg</a>"
      ],
      "text/plain": [
       "<IPython.core.display.HTML object>"
      ]
     },
     "metadata": {},
     "output_type": "display_data"
    },
    {
     "data": {
      "text/html": [
       "<br>"
      ],
      "text/plain": [
       "<IPython.core.display.HTML object>"
      ]
     },
     "metadata": {},
     "output_type": "display_data"
    },
    {
     "data": {
      "text/html": [
       "<div>\n",
       "<style scoped>\n",
       "    .dataframe tbody tr th:only-of-type {\n",
       "        vertical-align: middle;\n",
       "    }\n",
       "\n",
       "    .dataframe tbody tr th {\n",
       "        vertical-align: top;\n",
       "    }\n",
       "\n",
       "    .dataframe thead th {\n",
       "        text-align: right;\n",
       "    }\n",
       "</style>\n",
       "<table border=\"1\" class=\"dataframe\">\n",
       "  <thead>\n",
       "    <tr style=\"text-align: right;\">\n",
       "      <th></th>\n",
       "      <th>visit_id</th>\n",
       "      <th>day_obs</th>\n",
       "      <th>seq_num</th>\n",
       "      <th>time_target</th>\n",
       "      <th>time_observation</th>\n",
       "      <th>obs_start</th>\n",
       "      <th>scriptSalIndex</th>\n",
       "      <th>target_name</th>\n",
       "      <th>s_ra</th>\n",
       "      <th>s_dec</th>\n",
       "      <th>sky_rotation</th>\n",
       "      <th>band</th>\n",
       "      <th>psf_sigma_median</th>\n",
       "      <th>zero_point_1s</th>\n",
       "      <th>zero_point_1s_pred</th>\n",
       "      <th>clouds</th>\n",
       "      <th>science_program</th>\n",
       "      <th>target_name</th>\n",
       "    </tr>\n",
       "  </thead>\n",
       "  <tbody>\n",
       "    <tr>\n",
       "      <th>140</th>\n",
       "      <td>2025070100262</td>\n",
       "      <td>20250701</td>\n",
       "      <td>262</td>\n",
       "      <td>2025-07-02 01:28:09.251978+00:00</td>\n",
       "      <td>2025-07-02 01:29:27.573052+00:00</td>\n",
       "      <td>2025-07-02T01:29:32.900000</td>\n",
       "      <td>110319</td>\n",
       "      <td>bulgy</td>\n",
       "      <td>273.458123</td>\n",
       "      <td>-25.725308</td>\n",
       "      <td>121.020109</td>\n",
       "      <td>z</td>\n",
       "      <td>1.971657</td>\n",
       "      <td>25.869005</td>\n",
       "      <td>27.862707</td>\n",
       "      <td>-1.993701</td>\n",
       "      <td>BLOCK-365</td>\n",
       "      <td>bulgy</td>\n",
       "    </tr>\n",
       "  </tbody>\n",
       "</table>\n",
       "</div>"
      ],
      "text/plain": [
       "          visit_id   day_obs seq_num                       time_target  \\\n",
       "140  2025070100262  20250701     262  2025-07-02 01:28:09.251978+00:00   \n",
       "\n",
       "                     time_observation                   obs_start  \\\n",
       "140  2025-07-02 01:29:27.573052+00:00  2025-07-02T01:29:32.900000   \n",
       "\n",
       "    scriptSalIndex target_name        s_ra      s_dec sky_rotation band  \\\n",
       "140         110319       bulgy  273.458123 -25.725308   121.020109    z   \n",
       "\n",
       "    psf_sigma_median zero_point_1s zero_point_1s_pred    clouds  \\\n",
       "140         1.971657     25.869005          27.862707 -1.993701   \n",
       "\n",
       "    science_program target_name  \n",
       "140       BLOCK-365       bulgy  "
      ]
     },
     "metadata": {},
     "output_type": "display_data"
    },
    {
     "name": "stdout",
     "output_type": "stream",
     "text": [
      "IMG_TYPE science. Flags: big zeropoint offset.\n"
     ]
    },
    {
     "data": {
      "text/html": [
       "<a href=\"https://usdf-rsp.slac.stanford.edu/rubintv/summit-usdf/lsstcam/event?key=lsstcam/2025-07-01/calexp_mosaic/000262/lsstcam_calexp_mosaic_2025-07-01_000262.jpg\" target=\"_blank\" rel=\"noreferrer noopener\">https://usdf-rsp.slac.stanford.edu/rubintv/summit-usdf/lsstcam/event?key=lsstcam/2025-07-01/calexp_mosaic/000262/lsstcam_calexp_mosaic_2025-07-01_000262.jpg</a>"
      ],
      "text/plain": [
       "<IPython.core.display.HTML object>"
      ]
     },
     "metadata": {},
     "output_type": "display_data"
    },
    {
     "data": {
      "text/html": [
       "<a href=\"https://usdf-rsp.slac.stanford.edu/rubintv/summit-usdf/lsstcam/event?key=lsstcam/2025-07-01/witness_detector/000262/lsstcam_witness_detector_2025-07-01_000262.jpg\" target=\"_blank\" rel=\"noreferrer noopener\">https://usdf-rsp.slac.stanford.edu/rubintv/summit-usdf/lsstcam/event?key=lsstcam/2025-07-01/witness_detector/000262/lsstcam_witness_detector_2025-07-01_000262.jpg</a>"
      ],
      "text/plain": [
       "<IPython.core.display.HTML object>"
      ]
     },
     "metadata": {},
     "output_type": "display_data"
    },
    {
     "data": {
      "text/html": [
       "<br>"
      ],
      "text/plain": [
       "<IPython.core.display.HTML object>"
      ]
     },
     "metadata": {},
     "output_type": "display_data"
    },
    {
     "data": {
      "text/html": [
       "<div>\n",
       "<style scoped>\n",
       "    .dataframe tbody tr th:only-of-type {\n",
       "        vertical-align: middle;\n",
       "    }\n",
       "\n",
       "    .dataframe tbody tr th {\n",
       "        vertical-align: top;\n",
       "    }\n",
       "\n",
       "    .dataframe thead th {\n",
       "        text-align: right;\n",
       "    }\n",
       "</style>\n",
       "<table border=\"1\" class=\"dataframe\">\n",
       "  <thead>\n",
       "    <tr style=\"text-align: right;\">\n",
       "      <th></th>\n",
       "      <th>visit_id</th>\n",
       "      <th>day_obs</th>\n",
       "      <th>seq_num</th>\n",
       "      <th>time_target</th>\n",
       "      <th>time_observation</th>\n",
       "      <th>obs_start</th>\n",
       "      <th>scriptSalIndex</th>\n",
       "      <th>target_name</th>\n",
       "      <th>s_ra</th>\n",
       "      <th>s_dec</th>\n",
       "      <th>sky_rotation</th>\n",
       "      <th>band</th>\n",
       "      <th>psf_sigma_median</th>\n",
       "      <th>zero_point_1s</th>\n",
       "      <th>zero_point_1s_pred</th>\n",
       "      <th>clouds</th>\n",
       "      <th>science_program</th>\n",
       "      <th>target_name</th>\n",
       "    </tr>\n",
       "  </thead>\n",
       "  <tbody>\n",
       "    <tr>\n",
       "      <th>141</th>\n",
       "      <td>2025070100263</td>\n",
       "      <td>20250701</td>\n",
       "      <td>263</td>\n",
       "      <td>2025-07-02 01:28:50.459299+00:00</td>\n",
       "      <td>2025-07-02 01:30:05.756636+00:00</td>\n",
       "      <td>2025-07-02T01:30:11.458000</td>\n",
       "      <td>110320</td>\n",
       "      <td>bulgy</td>\n",
       "      <td>276.29927</td>\n",
       "      <td>-24.602538</td>\n",
       "      <td>119.68618</td>\n",
       "      <td>z</td>\n",
       "      <td>1.94873</td>\n",
       "      <td>25.749922</td>\n",
       "      <td>27.860023</td>\n",
       "      <td>-2.110101</td>\n",
       "      <td>BLOCK-365</td>\n",
       "      <td>bulgy</td>\n",
       "    </tr>\n",
       "  </tbody>\n",
       "</table>\n",
       "</div>"
      ],
      "text/plain": [
       "          visit_id   day_obs seq_num                       time_target  \\\n",
       "141  2025070100263  20250701     263  2025-07-02 01:28:50.459299+00:00   \n",
       "\n",
       "                     time_observation                   obs_start  \\\n",
       "141  2025-07-02 01:30:05.756636+00:00  2025-07-02T01:30:11.458000   \n",
       "\n",
       "    scriptSalIndex target_name       s_ra      s_dec sky_rotation band  \\\n",
       "141         110320       bulgy  276.29927 -24.602538    119.68618    z   \n",
       "\n",
       "    psf_sigma_median zero_point_1s zero_point_1s_pred    clouds  \\\n",
       "141          1.94873     25.749922          27.860023 -2.110101   \n",
       "\n",
       "    science_program target_name  \n",
       "141       BLOCK-365       bulgy  "
      ]
     },
     "metadata": {},
     "output_type": "display_data"
    },
    {
     "name": "stdout",
     "output_type": "stream",
     "text": [
      "IMG_TYPE science. Flags: big zeropoint offset.\n"
     ]
    },
    {
     "data": {
      "text/html": [
       "<a href=\"https://usdf-rsp.slac.stanford.edu/rubintv/summit-usdf/lsstcam/event?key=lsstcam/2025-07-01/calexp_mosaic/000263/lsstcam_calexp_mosaic_2025-07-01_000263.jpg\" target=\"_blank\" rel=\"noreferrer noopener\">https://usdf-rsp.slac.stanford.edu/rubintv/summit-usdf/lsstcam/event?key=lsstcam/2025-07-01/calexp_mosaic/000263/lsstcam_calexp_mosaic_2025-07-01_000263.jpg</a>"
      ],
      "text/plain": [
       "<IPython.core.display.HTML object>"
      ]
     },
     "metadata": {},
     "output_type": "display_data"
    },
    {
     "data": {
      "text/html": [
       "<a href=\"https://usdf-rsp.slac.stanford.edu/rubintv/summit-usdf/lsstcam/event?key=lsstcam/2025-07-01/witness_detector/000263/lsstcam_witness_detector_2025-07-01_000263.jpg\" target=\"_blank\" rel=\"noreferrer noopener\">https://usdf-rsp.slac.stanford.edu/rubintv/summit-usdf/lsstcam/event?key=lsstcam/2025-07-01/witness_detector/000263/lsstcam_witness_detector_2025-07-01_000263.jpg</a>"
      ],
      "text/plain": [
       "<IPython.core.display.HTML object>"
      ]
     },
     "metadata": {},
     "output_type": "display_data"
    },
    {
     "data": {
      "text/html": [
       "<br>"
      ],
      "text/plain": [
       "<IPython.core.display.HTML object>"
      ]
     },
     "metadata": {},
     "output_type": "display_data"
    },
    {
     "data": {
      "text/html": [
       "<div>\n",
       "<style scoped>\n",
       "    .dataframe tbody tr th:only-of-type {\n",
       "        vertical-align: middle;\n",
       "    }\n",
       "\n",
       "    .dataframe tbody tr th {\n",
       "        vertical-align: top;\n",
       "    }\n",
       "\n",
       "    .dataframe thead th {\n",
       "        text-align: right;\n",
       "    }\n",
       "</style>\n",
       "<table border=\"1\" class=\"dataframe\">\n",
       "  <thead>\n",
       "    <tr style=\"text-align: right;\">\n",
       "      <th></th>\n",
       "      <th>visit_id</th>\n",
       "      <th>day_obs</th>\n",
       "      <th>seq_num</th>\n",
       "      <th>time_target</th>\n",
       "      <th>time_observation</th>\n",
       "      <th>obs_start</th>\n",
       "      <th>scriptSalIndex</th>\n",
       "      <th>target_name</th>\n",
       "      <th>s_ra</th>\n",
       "      <th>s_dec</th>\n",
       "      <th>sky_rotation</th>\n",
       "      <th>band</th>\n",
       "      <th>psf_sigma_median</th>\n",
       "      <th>zero_point_1s</th>\n",
       "      <th>zero_point_1s_pred</th>\n",
       "      <th>clouds</th>\n",
       "      <th>science_program</th>\n",
       "      <th>target_name</th>\n",
       "    </tr>\n",
       "  </thead>\n",
       "  <tbody>\n",
       "    <tr>\n",
       "      <th>142</th>\n",
       "      <td>2025070100264</td>\n",
       "      <td>20250701</td>\n",
       "      <td>264</td>\n",
       "      <td>2025-07-02 01:29:28.654012+00:00</td>\n",
       "      <td>2025-07-02 01:30:44.138832+00:00</td>\n",
       "      <td>2025-07-02T01:30:50.082000</td>\n",
       "      <td>110321</td>\n",
       "      <td>bulgy</td>\n",
       "      <td>279.081684</td>\n",
       "      <td>-23.439044</td>\n",
       "      <td>118.449633</td>\n",
       "      <td>z</td>\n",
       "      <td>1.899326</td>\n",
       "      <td>25.586023</td>\n",
       "      <td>27.856971</td>\n",
       "      <td>-2.270948</td>\n",
       "      <td>BLOCK-365</td>\n",
       "      <td>bulgy</td>\n",
       "    </tr>\n",
       "  </tbody>\n",
       "</table>\n",
       "</div>"
      ],
      "text/plain": [
       "          visit_id   day_obs seq_num                       time_target  \\\n",
       "142  2025070100264  20250701     264  2025-07-02 01:29:28.654012+00:00   \n",
       "\n",
       "                     time_observation                   obs_start  \\\n",
       "142  2025-07-02 01:30:44.138832+00:00  2025-07-02T01:30:50.082000   \n",
       "\n",
       "    scriptSalIndex target_name        s_ra      s_dec sky_rotation band  \\\n",
       "142         110321       bulgy  279.081684 -23.439044   118.449633    z   \n",
       "\n",
       "    psf_sigma_median zero_point_1s zero_point_1s_pred    clouds  \\\n",
       "142         1.899326     25.586023          27.856971 -2.270948   \n",
       "\n",
       "    science_program target_name  \n",
       "142       BLOCK-365       bulgy  "
      ]
     },
     "metadata": {},
     "output_type": "display_data"
    },
    {
     "name": "stdout",
     "output_type": "stream",
     "text": [
      "IMG_TYPE science. Flags: big zeropoint offset.\n"
     ]
    },
    {
     "data": {
      "text/html": [
       "<a href=\"https://usdf-rsp.slac.stanford.edu/rubintv/summit-usdf/lsstcam/event?key=lsstcam/2025-07-01/calexp_mosaic/000264/lsstcam_calexp_mosaic_2025-07-01_000264.jpg\" target=\"_blank\" rel=\"noreferrer noopener\">https://usdf-rsp.slac.stanford.edu/rubintv/summit-usdf/lsstcam/event?key=lsstcam/2025-07-01/calexp_mosaic/000264/lsstcam_calexp_mosaic_2025-07-01_000264.jpg</a>"
      ],
      "text/plain": [
       "<IPython.core.display.HTML object>"
      ]
     },
     "metadata": {},
     "output_type": "display_data"
    },
    {
     "data": {
      "text/html": [
       "<a href=\"https://usdf-rsp.slac.stanford.edu/rubintv/summit-usdf/lsstcam/event?key=lsstcam/2025-07-01/witness_detector/000264/lsstcam_witness_detector_2025-07-01_000264.jpg\" target=\"_blank\" rel=\"noreferrer noopener\">https://usdf-rsp.slac.stanford.edu/rubintv/summit-usdf/lsstcam/event?key=lsstcam/2025-07-01/witness_detector/000264/lsstcam_witness_detector_2025-07-01_000264.jpg</a>"
      ],
      "text/plain": [
       "<IPython.core.display.HTML object>"
      ]
     },
     "metadata": {},
     "output_type": "display_data"
    },
    {
     "data": {
      "text/html": [
       "<br>"
      ],
      "text/plain": [
       "<IPython.core.display.HTML object>"
      ]
     },
     "metadata": {},
     "output_type": "display_data"
    },
    {
     "data": {
      "text/html": [
       "<div>\n",
       "<style scoped>\n",
       "    .dataframe tbody tr th:only-of-type {\n",
       "        vertical-align: middle;\n",
       "    }\n",
       "\n",
       "    .dataframe tbody tr th {\n",
       "        vertical-align: top;\n",
       "    }\n",
       "\n",
       "    .dataframe thead th {\n",
       "        text-align: right;\n",
       "    }\n",
       "</style>\n",
       "<table border=\"1\" class=\"dataframe\">\n",
       "  <thead>\n",
       "    <tr style=\"text-align: right;\">\n",
       "      <th></th>\n",
       "      <th>visit_id</th>\n",
       "      <th>day_obs</th>\n",
       "      <th>seq_num</th>\n",
       "      <th>time_target</th>\n",
       "      <th>time_observation</th>\n",
       "      <th>obs_start</th>\n",
       "      <th>scriptSalIndex</th>\n",
       "      <th>target_name</th>\n",
       "      <th>s_ra</th>\n",
       "      <th>s_dec</th>\n",
       "      <th>sky_rotation</th>\n",
       "      <th>band</th>\n",
       "      <th>psf_sigma_median</th>\n",
       "      <th>zero_point_1s</th>\n",
       "      <th>zero_point_1s_pred</th>\n",
       "      <th>clouds</th>\n",
       "      <th>science_program</th>\n",
       "      <th>target_name</th>\n",
       "    </tr>\n",
       "  </thead>\n",
       "  <tbody>\n",
       "    <tr>\n",
       "      <th>143</th>\n",
       "      <td>2025070100265</td>\n",
       "      <td>20250701</td>\n",
       "      <td>265</td>\n",
       "      <td>2025-07-02 01:30:07.039797+00:00</td>\n",
       "      <td>2025-07-02 01:31:24.567714+00:00</td>\n",
       "      <td>2025-07-02T01:31:29.778000</td>\n",
       "      <td>110322</td>\n",
       "      <td>bulgy</td>\n",
       "      <td>279.066855</td>\n",
       "      <td>-26.529068</td>\n",
       "      <td>120.326422</td>\n",
       "      <td>z</td>\n",
       "      <td>1.868209</td>\n",
       "      <td>26.114051</td>\n",
       "      <td>27.858308</td>\n",
       "      <td>-1.744258</td>\n",
       "      <td>BLOCK-365</td>\n",
       "      <td>bulgy</td>\n",
       "    </tr>\n",
       "  </tbody>\n",
       "</table>\n",
       "</div>"
      ],
      "text/plain": [
       "          visit_id   day_obs seq_num                       time_target  \\\n",
       "143  2025070100265  20250701     265  2025-07-02 01:30:07.039797+00:00   \n",
       "\n",
       "                     time_observation                   obs_start  \\\n",
       "143  2025-07-02 01:31:24.567714+00:00  2025-07-02T01:31:29.778000   \n",
       "\n",
       "    scriptSalIndex target_name        s_ra      s_dec sky_rotation band  \\\n",
       "143         110322       bulgy  279.066855 -26.529068   120.326422    z   \n",
       "\n",
       "    psf_sigma_median zero_point_1s zero_point_1s_pred    clouds  \\\n",
       "143         1.868209     26.114051          27.858308 -1.744258   \n",
       "\n",
       "    science_program target_name  \n",
       "143       BLOCK-365       bulgy  "
      ]
     },
     "metadata": {},
     "output_type": "display_data"
    },
    {
     "name": "stdout",
     "output_type": "stream",
     "text": [
      "IMG_TYPE science. Flags: big zeropoint offset.\n"
     ]
    },
    {
     "data": {
      "text/html": [
       "<a href=\"https://usdf-rsp.slac.stanford.edu/rubintv/summit-usdf/lsstcam/event?key=lsstcam/2025-07-01/calexp_mosaic/000265/lsstcam_calexp_mosaic_2025-07-01_000265.jpg\" target=\"_blank\" rel=\"noreferrer noopener\">https://usdf-rsp.slac.stanford.edu/rubintv/summit-usdf/lsstcam/event?key=lsstcam/2025-07-01/calexp_mosaic/000265/lsstcam_calexp_mosaic_2025-07-01_000265.jpg</a>"
      ],
      "text/plain": [
       "<IPython.core.display.HTML object>"
      ]
     },
     "metadata": {},
     "output_type": "display_data"
    },
    {
     "data": {
      "text/html": [
       "<a href=\"https://usdf-rsp.slac.stanford.edu/rubintv/summit-usdf/lsstcam/event?key=lsstcam/2025-07-01/witness_detector/000265/lsstcam_witness_detector_2025-07-01_000265.jpg\" target=\"_blank\" rel=\"noreferrer noopener\">https://usdf-rsp.slac.stanford.edu/rubintv/summit-usdf/lsstcam/event?key=lsstcam/2025-07-01/witness_detector/000265/lsstcam_witness_detector_2025-07-01_000265.jpg</a>"
      ],
      "text/plain": [
       "<IPython.core.display.HTML object>"
      ]
     },
     "metadata": {},
     "output_type": "display_data"
    },
    {
     "data": {
      "text/html": [
       "<br>"
      ],
      "text/plain": [
       "<IPython.core.display.HTML object>"
      ]
     },
     "metadata": {},
     "output_type": "display_data"
    },
    {
     "data": {
      "text/html": [
       "<div>\n",
       "<style scoped>\n",
       "    .dataframe tbody tr th:only-of-type {\n",
       "        vertical-align: middle;\n",
       "    }\n",
       "\n",
       "    .dataframe tbody tr th {\n",
       "        vertical-align: top;\n",
       "    }\n",
       "\n",
       "    .dataframe thead th {\n",
       "        text-align: right;\n",
       "    }\n",
       "</style>\n",
       "<table border=\"1\" class=\"dataframe\">\n",
       "  <thead>\n",
       "    <tr style=\"text-align: right;\">\n",
       "      <th></th>\n",
       "      <th>visit_id</th>\n",
       "      <th>day_obs</th>\n",
       "      <th>seq_num</th>\n",
       "      <th>time_target</th>\n",
       "      <th>time_observation</th>\n",
       "      <th>obs_start</th>\n",
       "      <th>scriptSalIndex</th>\n",
       "      <th>target_name</th>\n",
       "      <th>s_ra</th>\n",
       "      <th>s_dec</th>\n",
       "      <th>sky_rotation</th>\n",
       "      <th>band</th>\n",
       "      <th>psf_sigma_median</th>\n",
       "      <th>zero_point_1s</th>\n",
       "      <th>zero_point_1s_pred</th>\n",
       "      <th>clouds</th>\n",
       "      <th>science_program</th>\n",
       "      <th>target_name</th>\n",
       "    </tr>\n",
       "  </thead>\n",
       "  <tbody>\n",
       "    <tr>\n",
       "      <th>144</th>\n",
       "      <td>2025070100266</td>\n",
       "      <td>20250701</td>\n",
       "      <td>266</td>\n",
       "      <td>2025-07-02 01:30:45.455561+00:00</td>\n",
       "      <td>2025-07-02 01:32:02.954953+00:00</td>\n",
       "      <td>2025-07-02T01:32:07.951000</td>\n",
       "      <td>110323</td>\n",
       "      <td>bulgy</td>\n",
       "      <td>276.195464</td>\n",
       "      <td>-27.698205</td>\n",
       "      <td>121.811991</td>\n",
       "      <td>z</td>\n",
       "      <td>2.079445</td>\n",
       "      <td>26.048401</td>\n",
       "      <td>27.861468</td>\n",
       "      <td>-1.813066</td>\n",
       "      <td>BLOCK-365</td>\n",
       "      <td>bulgy</td>\n",
       "    </tr>\n",
       "  </tbody>\n",
       "</table>\n",
       "</div>"
      ],
      "text/plain": [
       "          visit_id   day_obs seq_num                       time_target  \\\n",
       "144  2025070100266  20250701     266  2025-07-02 01:30:45.455561+00:00   \n",
       "\n",
       "                     time_observation                   obs_start  \\\n",
       "144  2025-07-02 01:32:02.954953+00:00  2025-07-02T01:32:07.951000   \n",
       "\n",
       "    scriptSalIndex target_name        s_ra      s_dec sky_rotation band  \\\n",
       "144         110323       bulgy  276.195464 -27.698205   121.811991    z   \n",
       "\n",
       "    psf_sigma_median zero_point_1s zero_point_1s_pred    clouds  \\\n",
       "144         2.079445     26.048401          27.861468 -1.813066   \n",
       "\n",
       "    science_program target_name  \n",
       "144       BLOCK-365       bulgy  "
      ]
     },
     "metadata": {},
     "output_type": "display_data"
    },
    {
     "name": "stdout",
     "output_type": "stream",
     "text": [
      "IMG_TYPE science. Flags: big zeropoint offset.\n"
     ]
    },
    {
     "data": {
      "text/html": [
       "<a href=\"https://usdf-rsp.slac.stanford.edu/rubintv/summit-usdf/lsstcam/event?key=lsstcam/2025-07-01/calexp_mosaic/000266/lsstcam_calexp_mosaic_2025-07-01_000266.jpg\" target=\"_blank\" rel=\"noreferrer noopener\">https://usdf-rsp.slac.stanford.edu/rubintv/summit-usdf/lsstcam/event?key=lsstcam/2025-07-01/calexp_mosaic/000266/lsstcam_calexp_mosaic_2025-07-01_000266.jpg</a>"
      ],
      "text/plain": [
       "<IPython.core.display.HTML object>"
      ]
     },
     "metadata": {},
     "output_type": "display_data"
    },
    {
     "data": {
      "text/html": [
       "<a href=\"https://usdf-rsp.slac.stanford.edu/rubintv/summit-usdf/lsstcam/event?key=lsstcam/2025-07-01/witness_detector/000266/lsstcam_witness_detector_2025-07-01_000266.jpg\" target=\"_blank\" rel=\"noreferrer noopener\">https://usdf-rsp.slac.stanford.edu/rubintv/summit-usdf/lsstcam/event?key=lsstcam/2025-07-01/witness_detector/000266/lsstcam_witness_detector_2025-07-01_000266.jpg</a>"
      ],
      "text/plain": [
       "<IPython.core.display.HTML object>"
      ]
     },
     "metadata": {},
     "output_type": "display_data"
    },
    {
     "data": {
      "text/html": [
       "<br>"
      ],
      "text/plain": [
       "<IPython.core.display.HTML object>"
      ]
     },
     "metadata": {},
     "output_type": "display_data"
    },
    {
     "data": {
      "text/html": [
       "<div>\n",
       "<style scoped>\n",
       "    .dataframe tbody tr th:only-of-type {\n",
       "        vertical-align: middle;\n",
       "    }\n",
       "\n",
       "    .dataframe tbody tr th {\n",
       "        vertical-align: top;\n",
       "    }\n",
       "\n",
       "    .dataframe thead th {\n",
       "        text-align: right;\n",
       "    }\n",
       "</style>\n",
       "<table border=\"1\" class=\"dataframe\">\n",
       "  <thead>\n",
       "    <tr style=\"text-align: right;\">\n",
       "      <th></th>\n",
       "      <th>visit_id</th>\n",
       "      <th>day_obs</th>\n",
       "      <th>seq_num</th>\n",
       "      <th>time_target</th>\n",
       "      <th>time_observation</th>\n",
       "      <th>obs_start</th>\n",
       "      <th>scriptSalIndex</th>\n",
       "      <th>target_name</th>\n",
       "      <th>s_ra</th>\n",
       "      <th>s_dec</th>\n",
       "      <th>sky_rotation</th>\n",
       "      <th>band</th>\n",
       "      <th>psf_sigma_median</th>\n",
       "      <th>zero_point_1s</th>\n",
       "      <th>zero_point_1s_pred</th>\n",
       "      <th>clouds</th>\n",
       "      <th>science_program</th>\n",
       "      <th>target_name</th>\n",
       "    </tr>\n",
       "  </thead>\n",
       "  <tbody>\n",
       "    <tr>\n",
       "      <th>145</th>\n",
       "      <td>2025070100267</td>\n",
       "      <td>20250701</td>\n",
       "      <td>267</td>\n",
       "      <td>2025-07-02 01:31:25.860992+00:00</td>\n",
       "      <td>2025-07-02 01:32:41.136179+00:00</td>\n",
       "      <td>2025-07-02T01:32:46.129000</td>\n",
       "      <td>110324</td>\n",
       "      <td>bulgy</td>\n",
       "      <td>273.263045</td>\n",
       "      <td>-28.824319</td>\n",
       "      <td>123.417015</td>\n",
       "      <td>z</td>\n",
       "      <td>2.138852</td>\n",
       "      <td>25.959661</td>\n",
       "      <td>27.864202</td>\n",
       "      <td>-1.904541</td>\n",
       "      <td>BLOCK-365</td>\n",
       "      <td>bulgy</td>\n",
       "    </tr>\n",
       "  </tbody>\n",
       "</table>\n",
       "</div>"
      ],
      "text/plain": [
       "          visit_id   day_obs seq_num                       time_target  \\\n",
       "145  2025070100267  20250701     267  2025-07-02 01:31:25.860992+00:00   \n",
       "\n",
       "                     time_observation                   obs_start  \\\n",
       "145  2025-07-02 01:32:41.136179+00:00  2025-07-02T01:32:46.129000   \n",
       "\n",
       "    scriptSalIndex target_name        s_ra      s_dec sky_rotation band  \\\n",
       "145         110324       bulgy  273.263045 -28.824319   123.417015    z   \n",
       "\n",
       "    psf_sigma_median zero_point_1s zero_point_1s_pred    clouds  \\\n",
       "145         2.138852     25.959661          27.864202 -1.904541   \n",
       "\n",
       "    science_program target_name  \n",
       "145       BLOCK-365       bulgy  "
      ]
     },
     "metadata": {},
     "output_type": "display_data"
    },
    {
     "name": "stdout",
     "output_type": "stream",
     "text": [
      "IMG_TYPE science. Flags: big zeropoint offset.\n"
     ]
    },
    {
     "data": {
      "text/html": [
       "<a href=\"https://usdf-rsp.slac.stanford.edu/rubintv/summit-usdf/lsstcam/event?key=lsstcam/2025-07-01/calexp_mosaic/000267/lsstcam_calexp_mosaic_2025-07-01_000267.jpg\" target=\"_blank\" rel=\"noreferrer noopener\">https://usdf-rsp.slac.stanford.edu/rubintv/summit-usdf/lsstcam/event?key=lsstcam/2025-07-01/calexp_mosaic/000267/lsstcam_calexp_mosaic_2025-07-01_000267.jpg</a>"
      ],
      "text/plain": [
       "<IPython.core.display.HTML object>"
      ]
     },
     "metadata": {},
     "output_type": "display_data"
    },
    {
     "data": {
      "text/html": [
       "<a href=\"https://usdf-rsp.slac.stanford.edu/rubintv/summit-usdf/lsstcam/event?key=lsstcam/2025-07-01/witness_detector/000267/lsstcam_witness_detector_2025-07-01_000267.jpg\" target=\"_blank\" rel=\"noreferrer noopener\">https://usdf-rsp.slac.stanford.edu/rubintv/summit-usdf/lsstcam/event?key=lsstcam/2025-07-01/witness_detector/000267/lsstcam_witness_detector_2025-07-01_000267.jpg</a>"
      ],
      "text/plain": [
       "<IPython.core.display.HTML object>"
      ]
     },
     "metadata": {},
     "output_type": "display_data"
    },
    {
     "data": {
      "text/html": [
       "<br>"
      ],
      "text/plain": [
       "<IPython.core.display.HTML object>"
      ]
     },
     "metadata": {},
     "output_type": "display_data"
    },
    {
     "data": {
      "text/html": [
       "<div>\n",
       "<style scoped>\n",
       "    .dataframe tbody tr th:only-of-type {\n",
       "        vertical-align: middle;\n",
       "    }\n",
       "\n",
       "    .dataframe tbody tr th {\n",
       "        vertical-align: top;\n",
       "    }\n",
       "\n",
       "    .dataframe thead th {\n",
       "        text-align: right;\n",
       "    }\n",
       "</style>\n",
       "<table border=\"1\" class=\"dataframe\">\n",
       "  <thead>\n",
       "    <tr style=\"text-align: right;\">\n",
       "      <th></th>\n",
       "      <th>visit_id</th>\n",
       "      <th>day_obs</th>\n",
       "      <th>seq_num</th>\n",
       "      <th>time_target</th>\n",
       "      <th>time_observation</th>\n",
       "      <th>obs_start</th>\n",
       "      <th>scriptSalIndex</th>\n",
       "      <th>target_name</th>\n",
       "      <th>s_ra</th>\n",
       "      <th>s_dec</th>\n",
       "      <th>sky_rotation</th>\n",
       "      <th>band</th>\n",
       "      <th>psf_sigma_median</th>\n",
       "      <th>zero_point_1s</th>\n",
       "      <th>zero_point_1s_pred</th>\n",
       "      <th>clouds</th>\n",
       "      <th>science_program</th>\n",
       "      <th>target_name</th>\n",
       "    </tr>\n",
       "  </thead>\n",
       "  <tbody>\n",
       "    <tr>\n",
       "      <th>148</th>\n",
       "      <td>2025070100270</td>\n",
       "      <td>20250701</td>\n",
       "      <td>270</td>\n",
       "      <td>2025-07-02 01:33:20.597947+00:00</td>\n",
       "      <td>2025-07-02 01:34:49.072816+00:00</td>\n",
       "      <td>2025-07-02T01:34:54.937000</td>\n",
       "      <td>110327</td>\n",
       "      <td>bulgy</td>\n",
       "      <td>264.602643</td>\n",
       "      <td>-28.804569</td>\n",
       "      <td>129.565313</td>\n",
       "      <td>z</td>\n",
       "      <td>2.354723</td>\n",
       "      <td>26.290783</td>\n",
       "      <td>27.869908</td>\n",
       "      <td>-1.579124</td>\n",
       "      <td>BLOCK-365</td>\n",
       "      <td>bulgy</td>\n",
       "    </tr>\n",
       "  </tbody>\n",
       "</table>\n",
       "</div>"
      ],
      "text/plain": [
       "          visit_id   day_obs seq_num                       time_target  \\\n",
       "148  2025070100270  20250701     270  2025-07-02 01:33:20.597947+00:00   \n",
       "\n",
       "                     time_observation                   obs_start  \\\n",
       "148  2025-07-02 01:34:49.072816+00:00  2025-07-02T01:34:54.937000   \n",
       "\n",
       "    scriptSalIndex target_name        s_ra      s_dec sky_rotation band  \\\n",
       "148         110327       bulgy  264.602643 -28.804569   129.565313    z   \n",
       "\n",
       "    psf_sigma_median zero_point_1s zero_point_1s_pred    clouds  \\\n",
       "148         2.354723     26.290783          27.869908 -1.579124   \n",
       "\n",
       "    science_program target_name  \n",
       "148       BLOCK-365       bulgy  "
      ]
     },
     "metadata": {},
     "output_type": "display_data"
    },
    {
     "name": "stdout",
     "output_type": "stream",
     "text": [
      "IMG_TYPE science. Flags: big zeropoint offset.\n"
     ]
    },
    {
     "data": {
      "text/html": [
       "<a href=\"https://usdf-rsp.slac.stanford.edu/rubintv/summit-usdf/lsstcam/event?key=lsstcam/2025-07-01/calexp_mosaic/000270/lsstcam_calexp_mosaic_2025-07-01_000270.jpg\" target=\"_blank\" rel=\"noreferrer noopener\">https://usdf-rsp.slac.stanford.edu/rubintv/summit-usdf/lsstcam/event?key=lsstcam/2025-07-01/calexp_mosaic/000270/lsstcam_calexp_mosaic_2025-07-01_000270.jpg</a>"
      ],
      "text/plain": [
       "<IPython.core.display.HTML object>"
      ]
     },
     "metadata": {},
     "output_type": "display_data"
    },
    {
     "data": {
      "text/html": [
       "<a href=\"https://usdf-rsp.slac.stanford.edu/rubintv/summit-usdf/lsstcam/event?key=lsstcam/2025-07-01/witness_detector/000270/lsstcam_witness_detector_2025-07-01_000270.jpg\" target=\"_blank\" rel=\"noreferrer noopener\">https://usdf-rsp.slac.stanford.edu/rubintv/summit-usdf/lsstcam/event?key=lsstcam/2025-07-01/witness_detector/000270/lsstcam_witness_detector_2025-07-01_000270.jpg</a>"
      ],
      "text/plain": [
       "<IPython.core.display.HTML object>"
      ]
     },
     "metadata": {},
     "output_type": "display_data"
    },
    {
     "data": {
      "text/html": [
       "<br>"
      ],
      "text/plain": [
       "<IPython.core.display.HTML object>"
      ]
     },
     "metadata": {},
     "output_type": "display_data"
    },
    {
     "data": {
      "text/html": [
       "<div>\n",
       "<style scoped>\n",
       "    .dataframe tbody tr th:only-of-type {\n",
       "        vertical-align: middle;\n",
       "    }\n",
       "\n",
       "    .dataframe tbody tr th {\n",
       "        vertical-align: top;\n",
       "    }\n",
       "\n",
       "    .dataframe thead th {\n",
       "        text-align: right;\n",
       "    }\n",
       "</style>\n",
       "<table border=\"1\" class=\"dataframe\">\n",
       "  <thead>\n",
       "    <tr style=\"text-align: right;\">\n",
       "      <th></th>\n",
       "      <th>visit_id</th>\n",
       "      <th>day_obs</th>\n",
       "      <th>seq_num</th>\n",
       "      <th>time_target</th>\n",
       "      <th>time_observation</th>\n",
       "      <th>obs_start</th>\n",
       "      <th>scriptSalIndex</th>\n",
       "      <th>target_name</th>\n",
       "      <th>s_ra</th>\n",
       "      <th>s_dec</th>\n",
       "      <th>sky_rotation</th>\n",
       "      <th>band</th>\n",
       "      <th>psf_sigma_median</th>\n",
       "      <th>zero_point_1s</th>\n",
       "      <th>zero_point_1s_pred</th>\n",
       "      <th>clouds</th>\n",
       "      <th>science_program</th>\n",
       "      <th>target_name</th>\n",
       "    </tr>\n",
       "  </thead>\n",
       "  <tbody>\n",
       "    <tr>\n",
       "      <th>153</th>\n",
       "      <td>2025070100275</td>\n",
       "      <td>20250701</td>\n",
       "      <td>275</td>\n",
       "      <td>2025-07-02 01:36:51.858720+00:00</td>\n",
       "      <td>2025-07-02 01:38:13.255628+00:00</td>\n",
       "      <td>2025-07-02T01:38:19.088000</td>\n",
       "      <td>110332</td>\n",
       "      <td>bulgy</td>\n",
       "      <td>260.65953</td>\n",
       "      <td>-18.280676</td>\n",
       "      <td>109.884867</td>\n",
       "      <td>z</td>\n",
       "      <td>2.051214</td>\n",
       "      <td>26.340223</td>\n",
       "      <td>27.870132</td>\n",
       "      <td>-1.529909</td>\n",
       "      <td>BLOCK-365</td>\n",
       "      <td>bulgy</td>\n",
       "    </tr>\n",
       "  </tbody>\n",
       "</table>\n",
       "</div>"
      ],
      "text/plain": [
       "          visit_id   day_obs seq_num                       time_target  \\\n",
       "153  2025070100275  20250701     275  2025-07-02 01:36:51.858720+00:00   \n",
       "\n",
       "                     time_observation                   obs_start  \\\n",
       "153  2025-07-02 01:38:13.255628+00:00  2025-07-02T01:38:19.088000   \n",
       "\n",
       "    scriptSalIndex target_name       s_ra      s_dec sky_rotation band  \\\n",
       "153         110332       bulgy  260.65953 -18.280676   109.884867    z   \n",
       "\n",
       "    psf_sigma_median zero_point_1s zero_point_1s_pred    clouds  \\\n",
       "153         2.051214     26.340223          27.870132 -1.529909   \n",
       "\n",
       "    science_program target_name  \n",
       "153       BLOCK-365       bulgy  "
      ]
     },
     "metadata": {},
     "output_type": "display_data"
    },
    {
     "name": "stdout",
     "output_type": "stream",
     "text": [
      "IMG_TYPE science. Flags: big zeropoint offset.\n"
     ]
    },
    {
     "data": {
      "text/html": [
       "<a href=\"https://usdf-rsp.slac.stanford.edu/rubintv/summit-usdf/lsstcam/event?key=lsstcam/2025-07-01/calexp_mosaic/000275/lsstcam_calexp_mosaic_2025-07-01_000275.jpg\" target=\"_blank\" rel=\"noreferrer noopener\">https://usdf-rsp.slac.stanford.edu/rubintv/summit-usdf/lsstcam/event?key=lsstcam/2025-07-01/calexp_mosaic/000275/lsstcam_calexp_mosaic_2025-07-01_000275.jpg</a>"
      ],
      "text/plain": [
       "<IPython.core.display.HTML object>"
      ]
     },
     "metadata": {},
     "output_type": "display_data"
    },
    {
     "data": {
      "text/html": [
       "<a href=\"https://usdf-rsp.slac.stanford.edu/rubintv/summit-usdf/lsstcam/event?key=lsstcam/2025-07-01/witness_detector/000275/lsstcam_witness_detector_2025-07-01_000275.jpg\" target=\"_blank\" rel=\"noreferrer noopener\">https://usdf-rsp.slac.stanford.edu/rubintv/summit-usdf/lsstcam/event?key=lsstcam/2025-07-01/witness_detector/000275/lsstcam_witness_detector_2025-07-01_000275.jpg</a>"
      ],
      "text/plain": [
       "<IPython.core.display.HTML object>"
      ]
     },
     "metadata": {},
     "output_type": "display_data"
    },
    {
     "data": {
      "text/html": [
       "<br>"
      ],
      "text/plain": [
       "<IPython.core.display.HTML object>"
      ]
     },
     "metadata": {},
     "output_type": "display_data"
    },
    {
     "data": {
      "text/html": [
       "<div>\n",
       "<style scoped>\n",
       "    .dataframe tbody tr th:only-of-type {\n",
       "        vertical-align: middle;\n",
       "    }\n",
       "\n",
       "    .dataframe tbody tr th {\n",
       "        vertical-align: top;\n",
       "    }\n",
       "\n",
       "    .dataframe thead th {\n",
       "        text-align: right;\n",
       "    }\n",
       "</style>\n",
       "<table border=\"1\" class=\"dataframe\">\n",
       "  <thead>\n",
       "    <tr style=\"text-align: right;\">\n",
       "      <th></th>\n",
       "      <th>visit_id</th>\n",
       "      <th>day_obs</th>\n",
       "      <th>seq_num</th>\n",
       "      <th>time_target</th>\n",
       "      <th>time_observation</th>\n",
       "      <th>obs_start</th>\n",
       "      <th>scriptSalIndex</th>\n",
       "      <th>target_name</th>\n",
       "      <th>s_ra</th>\n",
       "      <th>s_dec</th>\n",
       "      <th>sky_rotation</th>\n",
       "      <th>band</th>\n",
       "      <th>psf_sigma_median</th>\n",
       "      <th>zero_point_1s</th>\n",
       "      <th>zero_point_1s_pred</th>\n",
       "      <th>clouds</th>\n",
       "      <th>science_program</th>\n",
       "      <th>target_name</th>\n",
       "    </tr>\n",
       "  </thead>\n",
       "  <tbody>\n",
       "    <tr>\n",
       "      <th>154</th>\n",
       "      <td>2025070100276</td>\n",
       "      <td>20250701</td>\n",
       "      <td>276</td>\n",
       "      <td>2025-07-02 01:37:33.141465+00:00</td>\n",
       "      <td>2025-07-02 01:38:52.628380+00:00</td>\n",
       "      <td>2025-07-02T01:38:58.574000</td>\n",
       "      <td>110333</td>\n",
       "      <td>bulgy</td>\n",
       "      <td>263.488903</td>\n",
       "      <td>-17.378495</td>\n",
       "      <td>110.065656</td>\n",
       "      <td>z</td>\n",
       "      <td>2.050284</td>\n",
       "      <td>26.301699</td>\n",
       "      <td>27.8685</td>\n",
       "      <td>-1.566801</td>\n",
       "      <td>BLOCK-365</td>\n",
       "      <td>bulgy</td>\n",
       "    </tr>\n",
       "  </tbody>\n",
       "</table>\n",
       "</div>"
      ],
      "text/plain": [
       "          visit_id   day_obs seq_num                       time_target  \\\n",
       "154  2025070100276  20250701     276  2025-07-02 01:37:33.141465+00:00   \n",
       "\n",
       "                     time_observation                   obs_start  \\\n",
       "154  2025-07-02 01:38:52.628380+00:00  2025-07-02T01:38:58.574000   \n",
       "\n",
       "    scriptSalIndex target_name        s_ra      s_dec sky_rotation band  \\\n",
       "154         110333       bulgy  263.488903 -17.378495   110.065656    z   \n",
       "\n",
       "    psf_sigma_median zero_point_1s zero_point_1s_pred    clouds  \\\n",
       "154         2.050284     26.301699            27.8685 -1.566801   \n",
       "\n",
       "    science_program target_name  \n",
       "154       BLOCK-365       bulgy  "
      ]
     },
     "metadata": {},
     "output_type": "display_data"
    },
    {
     "name": "stdout",
     "output_type": "stream",
     "text": [
      "IMG_TYPE science. Flags: big zeropoint offset.\n"
     ]
    },
    {
     "data": {
      "text/html": [
       "<a href=\"https://usdf-rsp.slac.stanford.edu/rubintv/summit-usdf/lsstcam/event?key=lsstcam/2025-07-01/calexp_mosaic/000276/lsstcam_calexp_mosaic_2025-07-01_000276.jpg\" target=\"_blank\" rel=\"noreferrer noopener\">https://usdf-rsp.slac.stanford.edu/rubintv/summit-usdf/lsstcam/event?key=lsstcam/2025-07-01/calexp_mosaic/000276/lsstcam_calexp_mosaic_2025-07-01_000276.jpg</a>"
      ],
      "text/plain": [
       "<IPython.core.display.HTML object>"
      ]
     },
     "metadata": {},
     "output_type": "display_data"
    },
    {
     "data": {
      "text/html": [
       "<a href=\"https://usdf-rsp.slac.stanford.edu/rubintv/summit-usdf/lsstcam/event?key=lsstcam/2025-07-01/witness_detector/000276/lsstcam_witness_detector_2025-07-01_000276.jpg\" target=\"_blank\" rel=\"noreferrer noopener\">https://usdf-rsp.slac.stanford.edu/rubintv/summit-usdf/lsstcam/event?key=lsstcam/2025-07-01/witness_detector/000276/lsstcam_witness_detector_2025-07-01_000276.jpg</a>"
      ],
      "text/plain": [
       "<IPython.core.display.HTML object>"
      ]
     },
     "metadata": {},
     "output_type": "display_data"
    },
    {
     "data": {
      "text/html": [
       "<br>"
      ],
      "text/plain": [
       "<IPython.core.display.HTML object>"
      ]
     },
     "metadata": {},
     "output_type": "display_data"
    },
    {
     "data": {
      "text/html": [
       "<div>\n",
       "<style scoped>\n",
       "    .dataframe tbody tr th:only-of-type {\n",
       "        vertical-align: middle;\n",
       "    }\n",
       "\n",
       "    .dataframe tbody tr th {\n",
       "        vertical-align: top;\n",
       "    }\n",
       "\n",
       "    .dataframe thead th {\n",
       "        text-align: right;\n",
       "    }\n",
       "</style>\n",
       "<table border=\"1\" class=\"dataframe\">\n",
       "  <thead>\n",
       "    <tr style=\"text-align: right;\">\n",
       "      <th></th>\n",
       "      <th>visit_id</th>\n",
       "      <th>day_obs</th>\n",
       "      <th>seq_num</th>\n",
       "      <th>time_target</th>\n",
       "      <th>time_observation</th>\n",
       "      <th>obs_start</th>\n",
       "      <th>scriptSalIndex</th>\n",
       "      <th>target_name</th>\n",
       "      <th>s_ra</th>\n",
       "      <th>s_dec</th>\n",
       "      <th>sky_rotation</th>\n",
       "      <th>band</th>\n",
       "      <th>psf_sigma_median</th>\n",
       "      <th>zero_point_1s</th>\n",
       "      <th>zero_point_1s_pred</th>\n",
       "      <th>clouds</th>\n",
       "      <th>science_program</th>\n",
       "      <th>target_name</th>\n",
       "    </tr>\n",
       "  </thead>\n",
       "  <tbody>\n",
       "    <tr>\n",
       "      <th>155</th>\n",
       "      <td>2025070100277</td>\n",
       "      <td>20250701</td>\n",
       "      <td>277</td>\n",
       "      <td>2025-07-02 01:38:14.529095+00:00</td>\n",
       "      <td>2025-07-02 01:39:32.825541+00:00</td>\n",
       "      <td>2025-07-02T01:39:38.648000</td>\n",
       "      <td>110334</td>\n",
       "      <td>bulgy</td>\n",
       "      <td>266.717839</td>\n",
       "      <td>-13.310922</td>\n",
       "      <td>106.482887</td>\n",
       "      <td>z</td>\n",
       "      <td>2.146302</td>\n",
       "      <td>26.230278</td>\n",
       "      <td>27.865017</td>\n",
       "      <td>-1.634739</td>\n",
       "      <td>BLOCK-365</td>\n",
       "      <td>bulgy</td>\n",
       "    </tr>\n",
       "  </tbody>\n",
       "</table>\n",
       "</div>"
      ],
      "text/plain": [
       "          visit_id   day_obs seq_num                       time_target  \\\n",
       "155  2025070100277  20250701     277  2025-07-02 01:38:14.529095+00:00   \n",
       "\n",
       "                     time_observation                   obs_start  \\\n",
       "155  2025-07-02 01:39:32.825541+00:00  2025-07-02T01:39:38.648000   \n",
       "\n",
       "    scriptSalIndex target_name        s_ra      s_dec sky_rotation band  \\\n",
       "155         110334       bulgy  266.717839 -13.310922   106.482887    z   \n",
       "\n",
       "    psf_sigma_median zero_point_1s zero_point_1s_pred    clouds  \\\n",
       "155         2.146302     26.230278          27.865017 -1.634739   \n",
       "\n",
       "    science_program target_name  \n",
       "155       BLOCK-365       bulgy  "
      ]
     },
     "metadata": {},
     "output_type": "display_data"
    },
    {
     "name": "stdout",
     "output_type": "stream",
     "text": [
      "IMG_TYPE science. Flags: big zeropoint offset.\n"
     ]
    },
    {
     "data": {
      "text/html": [
       "<a href=\"https://usdf-rsp.slac.stanford.edu/rubintv/summit-usdf/lsstcam/event?key=lsstcam/2025-07-01/calexp_mosaic/000277/lsstcam_calexp_mosaic_2025-07-01_000277.jpg\" target=\"_blank\" rel=\"noreferrer noopener\">https://usdf-rsp.slac.stanford.edu/rubintv/summit-usdf/lsstcam/event?key=lsstcam/2025-07-01/calexp_mosaic/000277/lsstcam_calexp_mosaic_2025-07-01_000277.jpg</a>"
      ],
      "text/plain": [
       "<IPython.core.display.HTML object>"
      ]
     },
     "metadata": {},
     "output_type": "display_data"
    },
    {
     "data": {
      "text/html": [
       "<a href=\"https://usdf-rsp.slac.stanford.edu/rubintv/summit-usdf/lsstcam/event?key=lsstcam/2025-07-01/witness_detector/000277/lsstcam_witness_detector_2025-07-01_000277.jpg\" target=\"_blank\" rel=\"noreferrer noopener\">https://usdf-rsp.slac.stanford.edu/rubintv/summit-usdf/lsstcam/event?key=lsstcam/2025-07-01/witness_detector/000277/lsstcam_witness_detector_2025-07-01_000277.jpg</a>"
      ],
      "text/plain": [
       "<IPython.core.display.HTML object>"
      ]
     },
     "metadata": {},
     "output_type": "display_data"
    },
    {
     "data": {
      "text/html": [
       "<br>"
      ],
      "text/plain": [
       "<IPython.core.display.HTML object>"
      ]
     },
     "metadata": {},
     "output_type": "display_data"
    },
    {
     "data": {
      "text/html": [
       "<div>\n",
       "<style scoped>\n",
       "    .dataframe tbody tr th:only-of-type {\n",
       "        vertical-align: middle;\n",
       "    }\n",
       "\n",
       "    .dataframe tbody tr th {\n",
       "        vertical-align: top;\n",
       "    }\n",
       "\n",
       "    .dataframe thead th {\n",
       "        text-align: right;\n",
       "    }\n",
       "</style>\n",
       "<table border=\"1\" class=\"dataframe\">\n",
       "  <thead>\n",
       "    <tr style=\"text-align: right;\">\n",
       "      <th></th>\n",
       "      <th>visit_id</th>\n",
       "      <th>day_obs</th>\n",
       "      <th>seq_num</th>\n",
       "      <th>time_target</th>\n",
       "      <th>time_observation</th>\n",
       "      <th>obs_start</th>\n",
       "      <th>scriptSalIndex</th>\n",
       "      <th>target_name</th>\n",
       "      <th>s_ra</th>\n",
       "      <th>s_dec</th>\n",
       "      <th>sky_rotation</th>\n",
       "      <th>band</th>\n",
       "      <th>psf_sigma_median</th>\n",
       "      <th>zero_point_1s</th>\n",
       "      <th>zero_point_1s_pred</th>\n",
       "      <th>clouds</th>\n",
       "      <th>science_program</th>\n",
       "      <th>target_name</th>\n",
       "    </tr>\n",
       "  </thead>\n",
       "  <tbody>\n",
       "    <tr>\n",
       "      <th>156</th>\n",
       "      <td>2025070100278</td>\n",
       "      <td>20250701</td>\n",
       "      <td>278</td>\n",
       "      <td>2025-07-02 01:38:53.730300+00:00</td>\n",
       "      <td>2025-07-02 01:40:12.010150+00:00</td>\n",
       "      <td>2025-07-02T01:40:17.209000</td>\n",
       "      <td>110335</td>\n",
       "      <td>bulgy</td>\n",
       "      <td>263.950316</td>\n",
       "      <td>-14.30646</td>\n",
       "      <td>106.133697</td>\n",
       "      <td>z</td>\n",
       "      <td>2.034101</td>\n",
       "      <td>26.181177</td>\n",
       "      <td>27.867271</td>\n",
       "      <td>-1.686095</td>\n",
       "      <td>BLOCK-365</td>\n",
       "      <td>bulgy</td>\n",
       "    </tr>\n",
       "  </tbody>\n",
       "</table>\n",
       "</div>"
      ],
      "text/plain": [
       "          visit_id   day_obs seq_num                       time_target  \\\n",
       "156  2025070100278  20250701     278  2025-07-02 01:38:53.730300+00:00   \n",
       "\n",
       "                     time_observation                   obs_start  \\\n",
       "156  2025-07-02 01:40:12.010150+00:00  2025-07-02T01:40:17.209000   \n",
       "\n",
       "    scriptSalIndex target_name        s_ra     s_dec sky_rotation band  \\\n",
       "156         110335       bulgy  263.950316 -14.30646   106.133697    z   \n",
       "\n",
       "    psf_sigma_median zero_point_1s zero_point_1s_pred    clouds  \\\n",
       "156         2.034101     26.181177          27.867271 -1.686095   \n",
       "\n",
       "    science_program target_name  \n",
       "156       BLOCK-365       bulgy  "
      ]
     },
     "metadata": {},
     "output_type": "display_data"
    },
    {
     "name": "stdout",
     "output_type": "stream",
     "text": [
      "IMG_TYPE science. Flags: big zeropoint offset.\n"
     ]
    },
    {
     "data": {
      "text/html": [
       "<a href=\"https://usdf-rsp.slac.stanford.edu/rubintv/summit-usdf/lsstcam/event?key=lsstcam/2025-07-01/calexp_mosaic/000278/lsstcam_calexp_mosaic_2025-07-01_000278.jpg\" target=\"_blank\" rel=\"noreferrer noopener\">https://usdf-rsp.slac.stanford.edu/rubintv/summit-usdf/lsstcam/event?key=lsstcam/2025-07-01/calexp_mosaic/000278/lsstcam_calexp_mosaic_2025-07-01_000278.jpg</a>"
      ],
      "text/plain": [
       "<IPython.core.display.HTML object>"
      ]
     },
     "metadata": {},
     "output_type": "display_data"
    },
    {
     "data": {
      "text/html": [
       "<a href=\"https://usdf-rsp.slac.stanford.edu/rubintv/summit-usdf/lsstcam/event?key=lsstcam/2025-07-01/witness_detector/000278/lsstcam_witness_detector_2025-07-01_000278.jpg\" target=\"_blank\" rel=\"noreferrer noopener\">https://usdf-rsp.slac.stanford.edu/rubintv/summit-usdf/lsstcam/event?key=lsstcam/2025-07-01/witness_detector/000278/lsstcam_witness_detector_2025-07-01_000278.jpg</a>"
      ],
      "text/plain": [
       "<IPython.core.display.HTML object>"
      ]
     },
     "metadata": {},
     "output_type": "display_data"
    },
    {
     "data": {
      "text/html": [
       "<br>"
      ],
      "text/plain": [
       "<IPython.core.display.HTML object>"
      ]
     },
     "metadata": {},
     "output_type": "display_data"
    },
    {
     "data": {
      "text/html": [
       "<div>\n",
       "<style scoped>\n",
       "    .dataframe tbody tr th:only-of-type {\n",
       "        vertical-align: middle;\n",
       "    }\n",
       "\n",
       "    .dataframe tbody tr th {\n",
       "        vertical-align: top;\n",
       "    }\n",
       "\n",
       "    .dataframe thead th {\n",
       "        text-align: right;\n",
       "    }\n",
       "</style>\n",
       "<table border=\"1\" class=\"dataframe\">\n",
       "  <thead>\n",
       "    <tr style=\"text-align: right;\">\n",
       "      <th></th>\n",
       "      <th>visit_id</th>\n",
       "      <th>day_obs</th>\n",
       "      <th>seq_num</th>\n",
       "      <th>time_target</th>\n",
       "      <th>time_observation</th>\n",
       "      <th>obs_start</th>\n",
       "      <th>scriptSalIndex</th>\n",
       "      <th>target_name</th>\n",
       "      <th>s_ra</th>\n",
       "      <th>s_dec</th>\n",
       "      <th>sky_rotation</th>\n",
       "      <th>band</th>\n",
       "      <th>psf_sigma_median</th>\n",
       "      <th>zero_point_1s</th>\n",
       "      <th>zero_point_1s_pred</th>\n",
       "      <th>clouds</th>\n",
       "      <th>science_program</th>\n",
       "      <th>target_name</th>\n",
       "    </tr>\n",
       "  </thead>\n",
       "  <tbody>\n",
       "    <tr>\n",
       "      <th>157</th>\n",
       "      <td>2025070100279</td>\n",
       "      <td>20250701</td>\n",
       "      <td>279</td>\n",
       "      <td>2025-07-02 01:39:33.910474+00:00</td>\n",
       "      <td>2025-07-02 01:40:49.376625+00:00</td>\n",
       "      <td>2025-07-02T01:40:55.351000</td>\n",
       "      <td>110336</td>\n",
       "      <td>bulgy</td>\n",
       "      <td>261.146772</td>\n",
       "      <td>-15.237889</td>\n",
       "      <td>105.581808</td>\n",
       "      <td>z</td>\n",
       "      <td>2.214671</td>\n",
       "      <td>26.295929</td>\n",
       "      <td>27.869205</td>\n",
       "      <td>-1.573276</td>\n",
       "      <td>BLOCK-365</td>\n",
       "      <td>bulgy</td>\n",
       "    </tr>\n",
       "  </tbody>\n",
       "</table>\n",
       "</div>"
      ],
      "text/plain": [
       "          visit_id   day_obs seq_num                       time_target  \\\n",
       "157  2025070100279  20250701     279  2025-07-02 01:39:33.910474+00:00   \n",
       "\n",
       "                     time_observation                   obs_start  \\\n",
       "157  2025-07-02 01:40:49.376625+00:00  2025-07-02T01:40:55.351000   \n",
       "\n",
       "    scriptSalIndex target_name        s_ra      s_dec sky_rotation band  \\\n",
       "157         110336       bulgy  261.146772 -15.237889   105.581808    z   \n",
       "\n",
       "    psf_sigma_median zero_point_1s zero_point_1s_pred    clouds  \\\n",
       "157         2.214671     26.295929          27.869205 -1.573276   \n",
       "\n",
       "    science_program target_name  \n",
       "157       BLOCK-365       bulgy  "
      ]
     },
     "metadata": {},
     "output_type": "display_data"
    },
    {
     "name": "stdout",
     "output_type": "stream",
     "text": [
      "IMG_TYPE science. Flags: big zeropoint offset.\n"
     ]
    },
    {
     "data": {
      "text/html": [
       "<a href=\"https://usdf-rsp.slac.stanford.edu/rubintv/summit-usdf/lsstcam/event?key=lsstcam/2025-07-01/calexp_mosaic/000279/lsstcam_calexp_mosaic_2025-07-01_000279.jpg\" target=\"_blank\" rel=\"noreferrer noopener\">https://usdf-rsp.slac.stanford.edu/rubintv/summit-usdf/lsstcam/event?key=lsstcam/2025-07-01/calexp_mosaic/000279/lsstcam_calexp_mosaic_2025-07-01_000279.jpg</a>"
      ],
      "text/plain": [
       "<IPython.core.display.HTML object>"
      ]
     },
     "metadata": {},
     "output_type": "display_data"
    },
    {
     "data": {
      "text/html": [
       "<a href=\"https://usdf-rsp.slac.stanford.edu/rubintv/summit-usdf/lsstcam/event?key=lsstcam/2025-07-01/witness_detector/000279/lsstcam_witness_detector_2025-07-01_000279.jpg\" target=\"_blank\" rel=\"noreferrer noopener\">https://usdf-rsp.slac.stanford.edu/rubintv/summit-usdf/lsstcam/event?key=lsstcam/2025-07-01/witness_detector/000279/lsstcam_witness_detector_2025-07-01_000279.jpg</a>"
      ],
      "text/plain": [
       "<IPython.core.display.HTML object>"
      ]
     },
     "metadata": {},
     "output_type": "display_data"
    },
    {
     "data": {
      "text/html": [
       "<br>"
      ],
      "text/plain": [
       "<IPython.core.display.HTML object>"
      ]
     },
     "metadata": {},
     "output_type": "display_data"
    },
    {
     "data": {
      "text/html": [
       "<div>\n",
       "<style scoped>\n",
       "    .dataframe tbody tr th:only-of-type {\n",
       "        vertical-align: middle;\n",
       "    }\n",
       "\n",
       "    .dataframe tbody tr th {\n",
       "        vertical-align: top;\n",
       "    }\n",
       "\n",
       "    .dataframe thead th {\n",
       "        text-align: right;\n",
       "    }\n",
       "</style>\n",
       "<table border=\"1\" class=\"dataframe\">\n",
       "  <thead>\n",
       "    <tr style=\"text-align: right;\">\n",
       "      <th></th>\n",
       "      <th>visit_id</th>\n",
       "      <th>day_obs</th>\n",
       "      <th>seq_num</th>\n",
       "      <th>time_target</th>\n",
       "      <th>time_observation</th>\n",
       "      <th>obs_start</th>\n",
       "      <th>scriptSalIndex</th>\n",
       "      <th>target_name</th>\n",
       "      <th>s_ra</th>\n",
       "      <th>s_dec</th>\n",
       "      <th>sky_rotation</th>\n",
       "      <th>band</th>\n",
       "      <th>psf_sigma_median</th>\n",
       "      <th>zero_point_1s</th>\n",
       "      <th>zero_point_1s_pred</th>\n",
       "      <th>clouds</th>\n",
       "      <th>science_program</th>\n",
       "      <th>target_name</th>\n",
       "    </tr>\n",
       "  </thead>\n",
       "  <tbody>\n",
       "    <tr>\n",
       "      <th>158</th>\n",
       "      <td>2025070100280</td>\n",
       "      <td>20250701</td>\n",
       "      <td>280</td>\n",
       "      <td>2025-07-02 01:40:13.288251+00:00</td>\n",
       "      <td>2025-07-02 01:41:29.756612+00:00</td>\n",
       "      <td>2025-07-02T01:41:34.955000</td>\n",
       "      <td>110337</td>\n",
       "      <td>dusty_plane, bulgy</td>\n",
       "      <td>261.647627</td>\n",
       "      <td>-12.203012</td>\n",
       "      <td>101.915983</td>\n",
       "      <td>z</td>\n",
       "      <td>2.209572</td>\n",
       "      <td>26.251186</td>\n",
       "      <td>27.867807</td>\n",
       "      <td>-1.616621</td>\n",
       "      <td>BLOCK-365</td>\n",
       "      <td>dusty_plane, bulgy</td>\n",
       "    </tr>\n",
       "  </tbody>\n",
       "</table>\n",
       "</div>"
      ],
      "text/plain": [
       "          visit_id   day_obs seq_num                       time_target  \\\n",
       "158  2025070100280  20250701     280  2025-07-02 01:40:13.288251+00:00   \n",
       "\n",
       "                     time_observation                   obs_start  \\\n",
       "158  2025-07-02 01:41:29.756612+00:00  2025-07-02T01:41:34.955000   \n",
       "\n",
       "    scriptSalIndex         target_name        s_ra      s_dec sky_rotation  \\\n",
       "158         110337  dusty_plane, bulgy  261.647627 -12.203012   101.915983   \n",
       "\n",
       "    band psf_sigma_median zero_point_1s zero_point_1s_pred    clouds  \\\n",
       "158    z         2.209572     26.251186          27.867807 -1.616621   \n",
       "\n",
       "    science_program         target_name  \n",
       "158       BLOCK-365  dusty_plane, bulgy  "
      ]
     },
     "metadata": {},
     "output_type": "display_data"
    },
    {
     "name": "stdout",
     "output_type": "stream",
     "text": [
      "IMG_TYPE science. Flags: big zeropoint offset.\n"
     ]
    },
    {
     "data": {
      "text/html": [
       "<a href=\"https://usdf-rsp.slac.stanford.edu/rubintv/summit-usdf/lsstcam/event?key=lsstcam/2025-07-01/calexp_mosaic/000280/lsstcam_calexp_mosaic_2025-07-01_000280.jpg\" target=\"_blank\" rel=\"noreferrer noopener\">https://usdf-rsp.slac.stanford.edu/rubintv/summit-usdf/lsstcam/event?key=lsstcam/2025-07-01/calexp_mosaic/000280/lsstcam_calexp_mosaic_2025-07-01_000280.jpg</a>"
      ],
      "text/plain": [
       "<IPython.core.display.HTML object>"
      ]
     },
     "metadata": {},
     "output_type": "display_data"
    },
    {
     "data": {
      "text/html": [
       "<a href=\"https://usdf-rsp.slac.stanford.edu/rubintv/summit-usdf/lsstcam/event?key=lsstcam/2025-07-01/witness_detector/000280/lsstcam_witness_detector_2025-07-01_000280.jpg\" target=\"_blank\" rel=\"noreferrer noopener\">https://usdf-rsp.slac.stanford.edu/rubintv/summit-usdf/lsstcam/event?key=lsstcam/2025-07-01/witness_detector/000280/lsstcam_witness_detector_2025-07-01_000280.jpg</a>"
      ],
      "text/plain": [
       "<IPython.core.display.HTML object>"
      ]
     },
     "metadata": {},
     "output_type": "display_data"
    },
    {
     "data": {
      "text/html": [
       "<br>"
      ],
      "text/plain": [
       "<IPython.core.display.HTML object>"
      ]
     },
     "metadata": {},
     "output_type": "display_data"
    },
    {
     "data": {
      "text/html": [
       "<div>\n",
       "<style scoped>\n",
       "    .dataframe tbody tr th:only-of-type {\n",
       "        vertical-align: middle;\n",
       "    }\n",
       "\n",
       "    .dataframe tbody tr th {\n",
       "        vertical-align: top;\n",
       "    }\n",
       "\n",
       "    .dataframe thead th {\n",
       "        text-align: right;\n",
       "    }\n",
       "</style>\n",
       "<table border=\"1\" class=\"dataframe\">\n",
       "  <thead>\n",
       "    <tr style=\"text-align: right;\">\n",
       "      <th></th>\n",
       "      <th>visit_id</th>\n",
       "      <th>day_obs</th>\n",
       "      <th>seq_num</th>\n",
       "      <th>time_target</th>\n",
       "      <th>time_observation</th>\n",
       "      <th>obs_start</th>\n",
       "      <th>scriptSalIndex</th>\n",
       "      <th>target_name</th>\n",
       "      <th>s_ra</th>\n",
       "      <th>s_dec</th>\n",
       "      <th>sky_rotation</th>\n",
       "      <th>band</th>\n",
       "      <th>psf_sigma_median</th>\n",
       "      <th>zero_point_1s</th>\n",
       "      <th>zero_point_1s_pred</th>\n",
       "      <th>clouds</th>\n",
       "      <th>science_program</th>\n",
       "      <th>target_name</th>\n",
       "    </tr>\n",
       "  </thead>\n",
       "  <tbody>\n",
       "    <tr>\n",
       "      <th>167</th>\n",
       "      <td>2025070100289</td>\n",
       "      <td>20250701</td>\n",
       "      <td>289</td>\n",
       "      <td>2025-07-02 01:46:19.541111+00:00</td>\n",
       "      <td>2025-07-02 01:47:47.135545+00:00</td>\n",
       "      <td>2025-07-02T01:47:52.430000</td>\n",
       "      <td>110346</td>\n",
       "      <td>dusty_plane</td>\n",
       "      <td>244.722078</td>\n",
       "      <td>-13.952308</td>\n",
       "      <td>82.571489</td>\n",
       "      <td>z</td>\n",
       "      <td>2.182843</td>\n",
       "      <td>26.369007</td>\n",
       "      <td>27.8743</td>\n",
       "      <td>-1.505293</td>\n",
       "      <td>BLOCK-365</td>\n",
       "      <td>dusty_plane</td>\n",
       "    </tr>\n",
       "  </tbody>\n",
       "</table>\n",
       "</div>"
      ],
      "text/plain": [
       "          visit_id   day_obs seq_num                       time_target  \\\n",
       "167  2025070100289  20250701     289  2025-07-02 01:46:19.541111+00:00   \n",
       "\n",
       "                     time_observation                   obs_start  \\\n",
       "167  2025-07-02 01:47:47.135545+00:00  2025-07-02T01:47:52.430000   \n",
       "\n",
       "    scriptSalIndex  target_name        s_ra      s_dec sky_rotation band  \\\n",
       "167         110346  dusty_plane  244.722078 -13.952308    82.571489    z   \n",
       "\n",
       "    psf_sigma_median zero_point_1s zero_point_1s_pred    clouds  \\\n",
       "167         2.182843     26.369007            27.8743 -1.505293   \n",
       "\n",
       "    science_program  target_name  \n",
       "167       BLOCK-365  dusty_plane  "
      ]
     },
     "metadata": {},
     "output_type": "display_data"
    },
    {
     "name": "stdout",
     "output_type": "stream",
     "text": [
      "IMG_TYPE science. Flags: big zeropoint offset.\n"
     ]
    },
    {
     "data": {
      "text/html": [
       "<a href=\"https://usdf-rsp.slac.stanford.edu/rubintv/summit-usdf/lsstcam/event?key=lsstcam/2025-07-01/calexp_mosaic/000289/lsstcam_calexp_mosaic_2025-07-01_000289.jpg\" target=\"_blank\" rel=\"noreferrer noopener\">https://usdf-rsp.slac.stanford.edu/rubintv/summit-usdf/lsstcam/event?key=lsstcam/2025-07-01/calexp_mosaic/000289/lsstcam_calexp_mosaic_2025-07-01_000289.jpg</a>"
      ],
      "text/plain": [
       "<IPython.core.display.HTML object>"
      ]
     },
     "metadata": {},
     "output_type": "display_data"
    },
    {
     "data": {
      "text/html": [
       "<a href=\"https://usdf-rsp.slac.stanford.edu/rubintv/summit-usdf/lsstcam/event?key=lsstcam/2025-07-01/witness_detector/000289/lsstcam_witness_detector_2025-07-01_000289.jpg\" target=\"_blank\" rel=\"noreferrer noopener\">https://usdf-rsp.slac.stanford.edu/rubintv/summit-usdf/lsstcam/event?key=lsstcam/2025-07-01/witness_detector/000289/lsstcam_witness_detector_2025-07-01_000289.jpg</a>"
      ],
      "text/plain": [
       "<IPython.core.display.HTML object>"
      ]
     },
     "metadata": {},
     "output_type": "display_data"
    },
    {
     "data": {
      "text/html": [
       "<br>"
      ],
      "text/plain": [
       "<IPython.core.display.HTML object>"
      ]
     },
     "metadata": {},
     "output_type": "display_data"
    },
    {
     "data": {
      "text/html": [
       "<div>\n",
       "<style scoped>\n",
       "    .dataframe tbody tr th:only-of-type {\n",
       "        vertical-align: middle;\n",
       "    }\n",
       "\n",
       "    .dataframe tbody tr th {\n",
       "        vertical-align: top;\n",
       "    }\n",
       "\n",
       "    .dataframe thead th {\n",
       "        text-align: right;\n",
       "    }\n",
       "</style>\n",
       "<table border=\"1\" class=\"dataframe\">\n",
       "  <thead>\n",
       "    <tr style=\"text-align: right;\">\n",
       "      <th></th>\n",
       "      <th>visit_id</th>\n",
       "      <th>day_obs</th>\n",
       "      <th>seq_num</th>\n",
       "      <th>time_target</th>\n",
       "      <th>time_observation</th>\n",
       "      <th>obs_start</th>\n",
       "      <th>scriptSalIndex</th>\n",
       "      <th>target_name</th>\n",
       "      <th>s_ra</th>\n",
       "      <th>s_dec</th>\n",
       "      <th>sky_rotation</th>\n",
       "      <th>band</th>\n",
       "      <th>psf_sigma_median</th>\n",
       "      <th>zero_point_1s</th>\n",
       "      <th>zero_point_1s_pred</th>\n",
       "      <th>clouds</th>\n",
       "      <th>science_program</th>\n",
       "      <th>target_name</th>\n",
       "    </tr>\n",
       "  </thead>\n",
       "  <tbody>\n",
       "    <tr>\n",
       "      <th>168</th>\n",
       "      <td>2025070100290</td>\n",
       "      <td>20250701</td>\n",
       "      <td>290</td>\n",
       "      <td>2025-07-02 01:47:04.048145+00:00</td>\n",
       "      <td>2025-07-02 01:48:29.559423+00:00</td>\n",
       "      <td>2025-07-02T01:48:34.600000</td>\n",
       "      <td>110347</td>\n",
       "      <td>dusty_plane</td>\n",
       "      <td>247.723227</td>\n",
       "      <td>-13.266242</td>\n",
       "      <td>87.189349</td>\n",
       "      <td>z</td>\n",
       "      <td>1.821024</td>\n",
       "      <td>26.326068</td>\n",
       "      <td>27.873614</td>\n",
       "      <td>-1.547546</td>\n",
       "      <td>BLOCK-365</td>\n",
       "      <td>dusty_plane</td>\n",
       "    </tr>\n",
       "  </tbody>\n",
       "</table>\n",
       "</div>"
      ],
      "text/plain": [
       "          visit_id   day_obs seq_num                       time_target  \\\n",
       "168  2025070100290  20250701     290  2025-07-02 01:47:04.048145+00:00   \n",
       "\n",
       "                     time_observation                   obs_start  \\\n",
       "168  2025-07-02 01:48:29.559423+00:00  2025-07-02T01:48:34.600000   \n",
       "\n",
       "    scriptSalIndex  target_name        s_ra      s_dec sky_rotation band  \\\n",
       "168         110347  dusty_plane  247.723227 -13.266242    87.189349    z   \n",
       "\n",
       "    psf_sigma_median zero_point_1s zero_point_1s_pred    clouds  \\\n",
       "168         1.821024     26.326068          27.873614 -1.547546   \n",
       "\n",
       "    science_program  target_name  \n",
       "168       BLOCK-365  dusty_plane  "
      ]
     },
     "metadata": {},
     "output_type": "display_data"
    },
    {
     "name": "stdout",
     "output_type": "stream",
     "text": [
      "IMG_TYPE science. Flags: big zeropoint offset.\n"
     ]
    },
    {
     "data": {
      "text/html": [
       "<a href=\"https://usdf-rsp.slac.stanford.edu/rubintv/summit-usdf/lsstcam/event?key=lsstcam/2025-07-01/calexp_mosaic/000290/lsstcam_calexp_mosaic_2025-07-01_000290.jpg\" target=\"_blank\" rel=\"noreferrer noopener\">https://usdf-rsp.slac.stanford.edu/rubintv/summit-usdf/lsstcam/event?key=lsstcam/2025-07-01/calexp_mosaic/000290/lsstcam_calexp_mosaic_2025-07-01_000290.jpg</a>"
      ],
      "text/plain": [
       "<IPython.core.display.HTML object>"
      ]
     },
     "metadata": {},
     "output_type": "display_data"
    },
    {
     "data": {
      "text/html": [
       "<a href=\"https://usdf-rsp.slac.stanford.edu/rubintv/summit-usdf/lsstcam/event?key=lsstcam/2025-07-01/witness_detector/000290/lsstcam_witness_detector_2025-07-01_000290.jpg\" target=\"_blank\" rel=\"noreferrer noopener\">https://usdf-rsp.slac.stanford.edu/rubintv/summit-usdf/lsstcam/event?key=lsstcam/2025-07-01/witness_detector/000290/lsstcam_witness_detector_2025-07-01_000290.jpg</a>"
      ],
      "text/plain": [
       "<IPython.core.display.HTML object>"
      ]
     },
     "metadata": {},
     "output_type": "display_data"
    },
    {
     "data": {
      "text/html": [
       "<br>"
      ],
      "text/plain": [
       "<IPython.core.display.HTML object>"
      ]
     },
     "metadata": {},
     "output_type": "display_data"
    },
    {
     "data": {
      "text/html": [
       "<div>\n",
       "<style scoped>\n",
       "    .dataframe tbody tr th:only-of-type {\n",
       "        vertical-align: middle;\n",
       "    }\n",
       "\n",
       "    .dataframe tbody tr th {\n",
       "        vertical-align: top;\n",
       "    }\n",
       "\n",
       "    .dataframe thead th {\n",
       "        text-align: right;\n",
       "    }\n",
       "</style>\n",
       "<table border=\"1\" class=\"dataframe\">\n",
       "  <thead>\n",
       "    <tr style=\"text-align: right;\">\n",
       "      <th></th>\n",
       "      <th>visit_id</th>\n",
       "      <th>day_obs</th>\n",
       "      <th>seq_num</th>\n",
       "      <th>time_target</th>\n",
       "      <th>time_observation</th>\n",
       "      <th>obs_start</th>\n",
       "      <th>scriptSalIndex</th>\n",
       "      <th>target_name</th>\n",
       "      <th>s_ra</th>\n",
       "      <th>s_dec</th>\n",
       "      <th>sky_rotation</th>\n",
       "      <th>band</th>\n",
       "      <th>psf_sigma_median</th>\n",
       "      <th>zero_point_1s</th>\n",
       "      <th>zero_point_1s_pred</th>\n",
       "      <th>clouds</th>\n",
       "      <th>science_program</th>\n",
       "      <th>target_name</th>\n",
       "    </tr>\n",
       "  </thead>\n",
       "  <tbody>\n",
       "    <tr>\n",
       "      <th>170</th>\n",
       "      <td>2025070100292</td>\n",
       "      <td>20250701</td>\n",
       "      <td>292</td>\n",
       "      <td>2025-07-02 01:48:30.867322+00:00</td>\n",
       "      <td>2025-07-02 01:49:55.093845+00:00</td>\n",
       "      <td>2025-07-02T01:50:00.370000</td>\n",
       "      <td>110349</td>\n",
       "      <td>dusty_plane</td>\n",
       "      <td>253.070384</td>\n",
       "      <td>-14.704966</td>\n",
       "      <td>97.253085</td>\n",
       "      <td>z</td>\n",
       "      <td>1.64508</td>\n",
       "      <td>26.325272</td>\n",
       "      <td>27.872926</td>\n",
       "      <td>-1.547653</td>\n",
       "      <td>BLOCK-365</td>\n",
       "      <td>dusty_plane</td>\n",
       "    </tr>\n",
       "  </tbody>\n",
       "</table>\n",
       "</div>"
      ],
      "text/plain": [
       "          visit_id   day_obs seq_num                       time_target  \\\n",
       "170  2025070100292  20250701     292  2025-07-02 01:48:30.867322+00:00   \n",
       "\n",
       "                     time_observation                   obs_start  \\\n",
       "170  2025-07-02 01:49:55.093845+00:00  2025-07-02T01:50:00.370000   \n",
       "\n",
       "    scriptSalIndex  target_name        s_ra      s_dec sky_rotation band  \\\n",
       "170         110349  dusty_plane  253.070384 -14.704966    97.253085    z   \n",
       "\n",
       "    psf_sigma_median zero_point_1s zero_point_1s_pred    clouds  \\\n",
       "170          1.64508     26.325272          27.872926 -1.547653   \n",
       "\n",
       "    science_program  target_name  \n",
       "170       BLOCK-365  dusty_plane  "
      ]
     },
     "metadata": {},
     "output_type": "display_data"
    },
    {
     "name": "stdout",
     "output_type": "stream",
     "text": [
      "IMG_TYPE science. Flags: big zeropoint offset.\n"
     ]
    },
    {
     "data": {
      "text/html": [
       "<a href=\"https://usdf-rsp.slac.stanford.edu/rubintv/summit-usdf/lsstcam/event?key=lsstcam/2025-07-01/calexp_mosaic/000292/lsstcam_calexp_mosaic_2025-07-01_000292.jpg\" target=\"_blank\" rel=\"noreferrer noopener\">https://usdf-rsp.slac.stanford.edu/rubintv/summit-usdf/lsstcam/event?key=lsstcam/2025-07-01/calexp_mosaic/000292/lsstcam_calexp_mosaic_2025-07-01_000292.jpg</a>"
      ],
      "text/plain": [
       "<IPython.core.display.HTML object>"
      ]
     },
     "metadata": {},
     "output_type": "display_data"
    },
    {
     "data": {
      "text/html": [
       "<a href=\"https://usdf-rsp.slac.stanford.edu/rubintv/summit-usdf/lsstcam/event?key=lsstcam/2025-07-01/witness_detector/000292/lsstcam_witness_detector_2025-07-01_000292.jpg\" target=\"_blank\" rel=\"noreferrer noopener\">https://usdf-rsp.slac.stanford.edu/rubintv/summit-usdf/lsstcam/event?key=lsstcam/2025-07-01/witness_detector/000292/lsstcam_witness_detector_2025-07-01_000292.jpg</a>"
      ],
      "text/plain": [
       "<IPython.core.display.HTML object>"
      ]
     },
     "metadata": {},
     "output_type": "display_data"
    },
    {
     "data": {
      "text/html": [
       "<br>"
      ],
      "text/plain": [
       "<IPython.core.display.HTML object>"
      ]
     },
     "metadata": {},
     "output_type": "display_data"
    },
    {
     "data": {
      "text/html": [
       "<div>\n",
       "<style scoped>\n",
       "    .dataframe tbody tr th:only-of-type {\n",
       "        vertical-align: middle;\n",
       "    }\n",
       "\n",
       "    .dataframe tbody tr th {\n",
       "        vertical-align: top;\n",
       "    }\n",
       "\n",
       "    .dataframe thead th {\n",
       "        text-align: right;\n",
       "    }\n",
       "</style>\n",
       "<table border=\"1\" class=\"dataframe\">\n",
       "  <thead>\n",
       "    <tr style=\"text-align: right;\">\n",
       "      <th></th>\n",
       "      <th>visit_id</th>\n",
       "      <th>day_obs</th>\n",
       "      <th>seq_num</th>\n",
       "      <th>time_target</th>\n",
       "      <th>time_observation</th>\n",
       "      <th>obs_start</th>\n",
       "      <th>scriptSalIndex</th>\n",
       "      <th>target_name</th>\n",
       "      <th>s_ra</th>\n",
       "      <th>s_dec</th>\n",
       "      <th>sky_rotation</th>\n",
       "      <th>band</th>\n",
       "      <th>psf_sigma_median</th>\n",
       "      <th>zero_point_1s</th>\n",
       "      <th>zero_point_1s_pred</th>\n",
       "      <th>clouds</th>\n",
       "      <th>science_program</th>\n",
       "      <th>target_name</th>\n",
       "    </tr>\n",
       "  </thead>\n",
       "  <tbody>\n",
       "    <tr>\n",
       "      <th>171</th>\n",
       "      <td>2025070100293</td>\n",
       "      <td>20250701</td>\n",
       "      <td>293</td>\n",
       "      <td>2025-07-02 01:49:15.005842+00:00</td>\n",
       "      <td>2025-07-02 01:50:38.279921+00:00</td>\n",
       "      <td>2025-07-02T01:50:44.116000</td>\n",
       "      <td>110350</td>\n",
       "      <td>dusty_plane, bulgy</td>\n",
       "      <td>252.534798</td>\n",
       "      <td>-17.630966</td>\n",
       "      <td>101.790329</td>\n",
       "      <td>z</td>\n",
       "      <td>1.720173</td>\n",
       "      <td>26.360577</td>\n",
       "      <td>27.873948</td>\n",
       "      <td>-1.513371</td>\n",
       "      <td>BLOCK-365</td>\n",
       "      <td>dusty_plane, bulgy</td>\n",
       "    </tr>\n",
       "  </tbody>\n",
       "</table>\n",
       "</div>"
      ],
      "text/plain": [
       "          visit_id   day_obs seq_num                       time_target  \\\n",
       "171  2025070100293  20250701     293  2025-07-02 01:49:15.005842+00:00   \n",
       "\n",
       "                     time_observation                   obs_start  \\\n",
       "171  2025-07-02 01:50:38.279921+00:00  2025-07-02T01:50:44.116000   \n",
       "\n",
       "    scriptSalIndex         target_name        s_ra      s_dec sky_rotation  \\\n",
       "171         110350  dusty_plane, bulgy  252.534798 -17.630966   101.790329   \n",
       "\n",
       "    band psf_sigma_median zero_point_1s zero_point_1s_pred    clouds  \\\n",
       "171    z         1.720173     26.360577          27.873948 -1.513371   \n",
       "\n",
       "    science_program         target_name  \n",
       "171       BLOCK-365  dusty_plane, bulgy  "
      ]
     },
     "metadata": {},
     "output_type": "display_data"
    },
    {
     "name": "stdout",
     "output_type": "stream",
     "text": [
      "IMG_TYPE science. Flags: big zeropoint offset.\n"
     ]
    },
    {
     "data": {
      "text/html": [
       "<a href=\"https://usdf-rsp.slac.stanford.edu/rubintv/summit-usdf/lsstcam/event?key=lsstcam/2025-07-01/calexp_mosaic/000293/lsstcam_calexp_mosaic_2025-07-01_000293.jpg\" target=\"_blank\" rel=\"noreferrer noopener\">https://usdf-rsp.slac.stanford.edu/rubintv/summit-usdf/lsstcam/event?key=lsstcam/2025-07-01/calexp_mosaic/000293/lsstcam_calexp_mosaic_2025-07-01_000293.jpg</a>"
      ],
      "text/plain": [
       "<IPython.core.display.HTML object>"
      ]
     },
     "metadata": {},
     "output_type": "display_data"
    },
    {
     "data": {
      "text/html": [
       "<a href=\"https://usdf-rsp.slac.stanford.edu/rubintv/summit-usdf/lsstcam/event?key=lsstcam/2025-07-01/witness_detector/000293/lsstcam_witness_detector_2025-07-01_000293.jpg\" target=\"_blank\" rel=\"noreferrer noopener\">https://usdf-rsp.slac.stanford.edu/rubintv/summit-usdf/lsstcam/event?key=lsstcam/2025-07-01/witness_detector/000293/lsstcam_witness_detector_2025-07-01_000293.jpg</a>"
      ],
      "text/plain": [
       "<IPython.core.display.HTML object>"
      ]
     },
     "metadata": {},
     "output_type": "display_data"
    },
    {
     "data": {
      "text/html": [
       "<br>"
      ],
      "text/plain": [
       "<IPython.core.display.HTML object>"
      ]
     },
     "metadata": {},
     "output_type": "display_data"
    },
    {
     "data": {
      "text/html": [
       "<div>\n",
       "<style scoped>\n",
       "    .dataframe tbody tr th:only-of-type {\n",
       "        vertical-align: middle;\n",
       "    }\n",
       "\n",
       "    .dataframe tbody tr th {\n",
       "        vertical-align: top;\n",
       "    }\n",
       "\n",
       "    .dataframe thead th {\n",
       "        text-align: right;\n",
       "    }\n",
       "</style>\n",
       "<table border=\"1\" class=\"dataframe\">\n",
       "  <thead>\n",
       "    <tr style=\"text-align: right;\">\n",
       "      <th></th>\n",
       "      <th>visit_id</th>\n",
       "      <th>day_obs</th>\n",
       "      <th>seq_num</th>\n",
       "      <th>time_target</th>\n",
       "      <th>time_observation</th>\n",
       "      <th>obs_start</th>\n",
       "      <th>scriptSalIndex</th>\n",
       "      <th>target_name</th>\n",
       "      <th>s_ra</th>\n",
       "      <th>s_dec</th>\n",
       "      <th>sky_rotation</th>\n",
       "      <th>band</th>\n",
       "      <th>psf_sigma_median</th>\n",
       "      <th>zero_point_1s</th>\n",
       "      <th>zero_point_1s_pred</th>\n",
       "      <th>clouds</th>\n",
       "      <th>science_program</th>\n",
       "      <th>target_name</th>\n",
       "    </tr>\n",
       "  </thead>\n",
       "  <tbody>\n",
       "    <tr>\n",
       "      <th>172</th>\n",
       "      <td>2025070100294</td>\n",
       "      <td>20250701</td>\n",
       "      <td>294</td>\n",
       "      <td>2025-07-02 01:49:56.189359+00:00</td>\n",
       "      <td>2025-07-02 01:51:19.414435+00:00</td>\n",
       "      <td>2025-07-02T01:51:24.999000</td>\n",
       "      <td>110351</td>\n",
       "      <td>bulgy</td>\n",
       "      <td>255.43764</td>\n",
       "      <td>-16.898532</td>\n",
       "      <td>103.532548</td>\n",
       "      <td>z</td>\n",
       "      <td>1.736269</td>\n",
       "      <td>26.368156</td>\n",
       "      <td>27.872999</td>\n",
       "      <td>-1.504842</td>\n",
       "      <td>BLOCK-365</td>\n",
       "      <td>bulgy</td>\n",
       "    </tr>\n",
       "  </tbody>\n",
       "</table>\n",
       "</div>"
      ],
      "text/plain": [
       "          visit_id   day_obs seq_num                       time_target  \\\n",
       "172  2025070100294  20250701     294  2025-07-02 01:49:56.189359+00:00   \n",
       "\n",
       "                     time_observation                   obs_start  \\\n",
       "172  2025-07-02 01:51:19.414435+00:00  2025-07-02T01:51:24.999000   \n",
       "\n",
       "    scriptSalIndex target_name       s_ra      s_dec sky_rotation band  \\\n",
       "172         110351       bulgy  255.43764 -16.898532   103.532548    z   \n",
       "\n",
       "    psf_sigma_median zero_point_1s zero_point_1s_pred    clouds  \\\n",
       "172         1.736269     26.368156          27.872999 -1.504842   \n",
       "\n",
       "    science_program target_name  \n",
       "172       BLOCK-365       bulgy  "
      ]
     },
     "metadata": {},
     "output_type": "display_data"
    },
    {
     "name": "stdout",
     "output_type": "stream",
     "text": [
      "IMG_TYPE science. Flags: big zeropoint offset.\n"
     ]
    },
    {
     "data": {
      "text/html": [
       "<a href=\"https://usdf-rsp.slac.stanford.edu/rubintv/summit-usdf/lsstcam/event?key=lsstcam/2025-07-01/calexp_mosaic/000294/lsstcam_calexp_mosaic_2025-07-01_000294.jpg\" target=\"_blank\" rel=\"noreferrer noopener\">https://usdf-rsp.slac.stanford.edu/rubintv/summit-usdf/lsstcam/event?key=lsstcam/2025-07-01/calexp_mosaic/000294/lsstcam_calexp_mosaic_2025-07-01_000294.jpg</a>"
      ],
      "text/plain": [
       "<IPython.core.display.HTML object>"
      ]
     },
     "metadata": {},
     "output_type": "display_data"
    },
    {
     "data": {
      "text/html": [
       "<a href=\"https://usdf-rsp.slac.stanford.edu/rubintv/summit-usdf/lsstcam/event?key=lsstcam/2025-07-01/witness_detector/000294/lsstcam_witness_detector_2025-07-01_000294.jpg\" target=\"_blank\" rel=\"noreferrer noopener\">https://usdf-rsp.slac.stanford.edu/rubintv/summit-usdf/lsstcam/event?key=lsstcam/2025-07-01/witness_detector/000294/lsstcam_witness_detector_2025-07-01_000294.jpg</a>"
      ],
      "text/plain": [
       "<IPython.core.display.HTML object>"
      ]
     },
     "metadata": {},
     "output_type": "display_data"
    },
    {
     "data": {
      "text/html": [
       "<br>"
      ],
      "text/plain": [
       "<IPython.core.display.HTML object>"
      ]
     },
     "metadata": {},
     "output_type": "display_data"
    },
    {
     "data": {
      "text/html": [
       "<div>\n",
       "<style scoped>\n",
       "    .dataframe tbody tr th:only-of-type {\n",
       "        vertical-align: middle;\n",
       "    }\n",
       "\n",
       "    .dataframe tbody tr th {\n",
       "        vertical-align: top;\n",
       "    }\n",
       "\n",
       "    .dataframe thead th {\n",
       "        text-align: right;\n",
       "    }\n",
       "</style>\n",
       "<table border=\"1\" class=\"dataframe\">\n",
       "  <thead>\n",
       "    <tr style=\"text-align: right;\">\n",
       "      <th></th>\n",
       "      <th>visit_id</th>\n",
       "      <th>day_obs</th>\n",
       "      <th>seq_num</th>\n",
       "      <th>time_target</th>\n",
       "      <th>time_observation</th>\n",
       "      <th>obs_start</th>\n",
       "      <th>scriptSalIndex</th>\n",
       "      <th>target_name</th>\n",
       "      <th>s_ra</th>\n",
       "      <th>s_dec</th>\n",
       "      <th>sky_rotation</th>\n",
       "      <th>band</th>\n",
       "      <th>psf_sigma_median</th>\n",
       "      <th>zero_point_1s</th>\n",
       "      <th>zero_point_1s_pred</th>\n",
       "      <th>clouds</th>\n",
       "      <th>science_program</th>\n",
       "      <th>target_name</th>\n",
       "    </tr>\n",
       "  </thead>\n",
       "  <tbody>\n",
       "    <tr>\n",
       "      <th>173</th>\n",
       "      <td>2025070100295</td>\n",
       "      <td>20250701</td>\n",
       "      <td>295</td>\n",
       "      <td>2025-07-02 01:50:39.330197+00:00</td>\n",
       "      <td>2025-07-02 01:52:03.565481+00:00</td>\n",
       "      <td>2025-07-02T01:52:08.762000</td>\n",
       "      <td>110352</td>\n",
       "      <td>bulgy</td>\n",
       "      <td>254.900641</td>\n",
       "      <td>-19.88098</td>\n",
       "      <td>108.692292</td>\n",
       "      <td>z</td>\n",
       "      <td>1.950041</td>\n",
       "      <td>26.335314</td>\n",
       "      <td>27.873943</td>\n",
       "      <td>-1.538629</td>\n",
       "      <td>BLOCK-365</td>\n",
       "      <td>bulgy</td>\n",
       "    </tr>\n",
       "  </tbody>\n",
       "</table>\n",
       "</div>"
      ],
      "text/plain": [
       "          visit_id   day_obs seq_num                       time_target  \\\n",
       "173  2025070100295  20250701     295  2025-07-02 01:50:39.330197+00:00   \n",
       "\n",
       "                     time_observation                   obs_start  \\\n",
       "173  2025-07-02 01:52:03.565481+00:00  2025-07-02T01:52:08.762000   \n",
       "\n",
       "    scriptSalIndex target_name        s_ra     s_dec sky_rotation band  \\\n",
       "173         110352       bulgy  254.900641 -19.88098   108.692292    z   \n",
       "\n",
       "    psf_sigma_median zero_point_1s zero_point_1s_pred    clouds  \\\n",
       "173         1.950041     26.335314          27.873943 -1.538629   \n",
       "\n",
       "    science_program target_name  \n",
       "173       BLOCK-365       bulgy  "
      ]
     },
     "metadata": {},
     "output_type": "display_data"
    },
    {
     "name": "stdout",
     "output_type": "stream",
     "text": [
      "IMG_TYPE science. Flags: big zeropoint offset.\n"
     ]
    },
    {
     "data": {
      "text/html": [
       "<a href=\"https://usdf-rsp.slac.stanford.edu/rubintv/summit-usdf/lsstcam/event?key=lsstcam/2025-07-01/calexp_mosaic/000295/lsstcam_calexp_mosaic_2025-07-01_000295.jpg\" target=\"_blank\" rel=\"noreferrer noopener\">https://usdf-rsp.slac.stanford.edu/rubintv/summit-usdf/lsstcam/event?key=lsstcam/2025-07-01/calexp_mosaic/000295/lsstcam_calexp_mosaic_2025-07-01_000295.jpg</a>"
      ],
      "text/plain": [
       "<IPython.core.display.HTML object>"
      ]
     },
     "metadata": {},
     "output_type": "display_data"
    },
    {
     "data": {
      "text/html": [
       "<a href=\"https://usdf-rsp.slac.stanford.edu/rubintv/summit-usdf/lsstcam/event?key=lsstcam/2025-07-01/witness_detector/000295/lsstcam_witness_detector_2025-07-01_000295.jpg\" target=\"_blank\" rel=\"noreferrer noopener\">https://usdf-rsp.slac.stanford.edu/rubintv/summit-usdf/lsstcam/event?key=lsstcam/2025-07-01/witness_detector/000295/lsstcam_witness_detector_2025-07-01_000295.jpg</a>"
      ],
      "text/plain": [
       "<IPython.core.display.HTML object>"
      ]
     },
     "metadata": {},
     "output_type": "display_data"
    },
    {
     "data": {
      "text/html": [
       "<br>"
      ],
      "text/plain": [
       "<IPython.core.display.HTML object>"
      ]
     },
     "metadata": {},
     "output_type": "display_data"
    },
    {
     "data": {
      "text/html": [
       "<div>\n",
       "<style scoped>\n",
       "    .dataframe tbody tr th:only-of-type {\n",
       "        vertical-align: middle;\n",
       "    }\n",
       "\n",
       "    .dataframe tbody tr th {\n",
       "        vertical-align: top;\n",
       "    }\n",
       "\n",
       "    .dataframe thead th {\n",
       "        text-align: right;\n",
       "    }\n",
       "</style>\n",
       "<table border=\"1\" class=\"dataframe\">\n",
       "  <thead>\n",
       "    <tr style=\"text-align: right;\">\n",
       "      <th></th>\n",
       "      <th>visit_id</th>\n",
       "      <th>day_obs</th>\n",
       "      <th>seq_num</th>\n",
       "      <th>time_target</th>\n",
       "      <th>time_observation</th>\n",
       "      <th>obs_start</th>\n",
       "      <th>scriptSalIndex</th>\n",
       "      <th>target_name</th>\n",
       "      <th>s_ra</th>\n",
       "      <th>s_dec</th>\n",
       "      <th>sky_rotation</th>\n",
       "      <th>band</th>\n",
       "      <th>psf_sigma_median</th>\n",
       "      <th>zero_point_1s</th>\n",
       "      <th>zero_point_1s_pred</th>\n",
       "      <th>clouds</th>\n",
       "      <th>science_program</th>\n",
       "      <th>target_name</th>\n",
       "    </tr>\n",
       "  </thead>\n",
       "  <tbody>\n",
       "    <tr>\n",
       "      <th>174</th>\n",
       "      <td>2025070100296</td>\n",
       "      <td>20250701</td>\n",
       "      <td>296</td>\n",
       "      <td>2025-07-02 01:51:20.476136+00:00</td>\n",
       "      <td>2025-07-02 01:52:43.731575+00:00</td>\n",
       "      <td>2025-07-02T01:52:49.392000</td>\n",
       "      <td>110353</td>\n",
       "      <td>bulgy</td>\n",
       "      <td>257.79577</td>\n",
       "      <td>-19.115082</td>\n",
       "      <td>109.461248</td>\n",
       "      <td>z</td>\n",
       "      <td>1.974365</td>\n",
       "      <td>26.302449</td>\n",
       "      <td>27.87294</td>\n",
       "      <td>-1.570492</td>\n",
       "      <td>BLOCK-365</td>\n",
       "      <td>bulgy</td>\n",
       "    </tr>\n",
       "  </tbody>\n",
       "</table>\n",
       "</div>"
      ],
      "text/plain": [
       "          visit_id   day_obs seq_num                       time_target  \\\n",
       "174  2025070100296  20250701     296  2025-07-02 01:51:20.476136+00:00   \n",
       "\n",
       "                     time_observation                   obs_start  \\\n",
       "174  2025-07-02 01:52:43.731575+00:00  2025-07-02T01:52:49.392000   \n",
       "\n",
       "    scriptSalIndex target_name       s_ra      s_dec sky_rotation band  \\\n",
       "174         110353       bulgy  257.79577 -19.115082   109.461248    z   \n",
       "\n",
       "    psf_sigma_median zero_point_1s zero_point_1s_pred    clouds  \\\n",
       "174         1.974365     26.302449           27.87294 -1.570492   \n",
       "\n",
       "    science_program target_name  \n",
       "174       BLOCK-365       bulgy  "
      ]
     },
     "metadata": {},
     "output_type": "display_data"
    },
    {
     "name": "stdout",
     "output_type": "stream",
     "text": [
      "IMG_TYPE science. Flags: big zeropoint offset.\n"
     ]
    },
    {
     "data": {
      "text/html": [
       "<a href=\"https://usdf-rsp.slac.stanford.edu/rubintv/summit-usdf/lsstcam/event?key=lsstcam/2025-07-01/calexp_mosaic/000296/lsstcam_calexp_mosaic_2025-07-01_000296.jpg\" target=\"_blank\" rel=\"noreferrer noopener\">https://usdf-rsp.slac.stanford.edu/rubintv/summit-usdf/lsstcam/event?key=lsstcam/2025-07-01/calexp_mosaic/000296/lsstcam_calexp_mosaic_2025-07-01_000296.jpg</a>"
      ],
      "text/plain": [
       "<IPython.core.display.HTML object>"
      ]
     },
     "metadata": {},
     "output_type": "display_data"
    },
    {
     "data": {
      "text/html": [
       "<a href=\"https://usdf-rsp.slac.stanford.edu/rubintv/summit-usdf/lsstcam/event?key=lsstcam/2025-07-01/witness_detector/000296/lsstcam_witness_detector_2025-07-01_000296.jpg\" target=\"_blank\" rel=\"noreferrer noopener\">https://usdf-rsp.slac.stanford.edu/rubintv/summit-usdf/lsstcam/event?key=lsstcam/2025-07-01/witness_detector/000296/lsstcam_witness_detector_2025-07-01_000296.jpg</a>"
      ],
      "text/plain": [
       "<IPython.core.display.HTML object>"
      ]
     },
     "metadata": {},
     "output_type": "display_data"
    },
    {
     "data": {
      "text/html": [
       "<br>"
      ],
      "text/plain": [
       "<IPython.core.display.HTML object>"
      ]
     },
     "metadata": {},
     "output_type": "display_data"
    },
    {
     "data": {
      "text/html": [
       "<div>\n",
       "<style scoped>\n",
       "    .dataframe tbody tr th:only-of-type {\n",
       "        vertical-align: middle;\n",
       "    }\n",
       "\n",
       "    .dataframe tbody tr th {\n",
       "        vertical-align: top;\n",
       "    }\n",
       "\n",
       "    .dataframe thead th {\n",
       "        text-align: right;\n",
       "    }\n",
       "</style>\n",
       "<table border=\"1\" class=\"dataframe\">\n",
       "  <thead>\n",
       "    <tr style=\"text-align: right;\">\n",
       "      <th></th>\n",
       "      <th>visit_id</th>\n",
       "      <th>day_obs</th>\n",
       "      <th>seq_num</th>\n",
       "      <th>time_target</th>\n",
       "      <th>time_observation</th>\n",
       "      <th>obs_start</th>\n",
       "      <th>scriptSalIndex</th>\n",
       "      <th>target_name</th>\n",
       "      <th>s_ra</th>\n",
       "      <th>s_dec</th>\n",
       "      <th>sky_rotation</th>\n",
       "      <th>band</th>\n",
       "      <th>psf_sigma_median</th>\n",
       "      <th>zero_point_1s</th>\n",
       "      <th>zero_point_1s_pred</th>\n",
       "      <th>clouds</th>\n",
       "      <th>science_program</th>\n",
       "      <th>target_name</th>\n",
       "    </tr>\n",
       "  </thead>\n",
       "  <tbody>\n",
       "    <tr>\n",
       "      <th>177</th>\n",
       "      <td>2025070100299</td>\n",
       "      <td>20250701</td>\n",
       "      <td>299</td>\n",
       "      <td>2025-07-02 01:53:28.953363+00:00</td>\n",
       "      <td>2025-07-02 01:54:53.209592+00:00</td>\n",
       "      <td>2025-07-02T01:54:58.210000</td>\n",
       "      <td>110356</td>\n",
       "      <td>bulgy</td>\n",
       "      <td>259.642857</td>\n",
       "      <td>-24.399843</td>\n",
       "      <td>120.690219</td>\n",
       "      <td>z</td>\n",
       "      <td>1.778574</td>\n",
       "      <td>26.327663</td>\n",
       "      <td>27.87352</td>\n",
       "      <td>-1.545857</td>\n",
       "      <td>BLOCK-365</td>\n",
       "      <td>bulgy</td>\n",
       "    </tr>\n",
       "  </tbody>\n",
       "</table>\n",
       "</div>"
      ],
      "text/plain": [
       "          visit_id   day_obs seq_num                       time_target  \\\n",
       "177  2025070100299  20250701     299  2025-07-02 01:53:28.953363+00:00   \n",
       "\n",
       "                     time_observation                   obs_start  \\\n",
       "177  2025-07-02 01:54:53.209592+00:00  2025-07-02T01:54:58.210000   \n",
       "\n",
       "    scriptSalIndex target_name        s_ra      s_dec sky_rotation band  \\\n",
       "177         110356       bulgy  259.642857 -24.399843   120.690219    z   \n",
       "\n",
       "    psf_sigma_median zero_point_1s zero_point_1s_pred    clouds  \\\n",
       "177         1.778574     26.327663           27.87352 -1.545857   \n",
       "\n",
       "    science_program target_name  \n",
       "177       BLOCK-365       bulgy  "
      ]
     },
     "metadata": {},
     "output_type": "display_data"
    },
    {
     "name": "stdout",
     "output_type": "stream",
     "text": [
      "IMG_TYPE science. Flags: big zeropoint offset.\n"
     ]
    },
    {
     "data": {
      "text/html": [
       "<a href=\"https://usdf-rsp.slac.stanford.edu/rubintv/summit-usdf/lsstcam/event?key=lsstcam/2025-07-01/calexp_mosaic/000299/lsstcam_calexp_mosaic_2025-07-01_000299.jpg\" target=\"_blank\" rel=\"noreferrer noopener\">https://usdf-rsp.slac.stanford.edu/rubintv/summit-usdf/lsstcam/event?key=lsstcam/2025-07-01/calexp_mosaic/000299/lsstcam_calexp_mosaic_2025-07-01_000299.jpg</a>"
      ],
      "text/plain": [
       "<IPython.core.display.HTML object>"
      ]
     },
     "metadata": {},
     "output_type": "display_data"
    },
    {
     "data": {
      "text/html": [
       "<a href=\"https://usdf-rsp.slac.stanford.edu/rubintv/summit-usdf/lsstcam/event?key=lsstcam/2025-07-01/witness_detector/000299/lsstcam_witness_detector_2025-07-01_000299.jpg\" target=\"_blank\" rel=\"noreferrer noopener\">https://usdf-rsp.slac.stanford.edu/rubintv/summit-usdf/lsstcam/event?key=lsstcam/2025-07-01/witness_detector/000299/lsstcam_witness_detector_2025-07-01_000299.jpg</a>"
      ],
      "text/plain": [
       "<IPython.core.display.HTML object>"
      ]
     },
     "metadata": {},
     "output_type": "display_data"
    },
    {
     "data": {
      "text/html": [
       "<br>"
      ],
      "text/plain": [
       "<IPython.core.display.HTML object>"
      ]
     },
     "metadata": {},
     "output_type": "display_data"
    },
    {
     "data": {
      "text/html": [
       "<div>\n",
       "<style scoped>\n",
       "    .dataframe tbody tr th:only-of-type {\n",
       "        vertical-align: middle;\n",
       "    }\n",
       "\n",
       "    .dataframe tbody tr th {\n",
       "        vertical-align: top;\n",
       "    }\n",
       "\n",
       "    .dataframe thead th {\n",
       "        text-align: right;\n",
       "    }\n",
       "</style>\n",
       "<table border=\"1\" class=\"dataframe\">\n",
       "  <thead>\n",
       "    <tr style=\"text-align: right;\">\n",
       "      <th></th>\n",
       "      <th>visit_id</th>\n",
       "      <th>day_obs</th>\n",
       "      <th>seq_num</th>\n",
       "      <th>time_target</th>\n",
       "      <th>time_observation</th>\n",
       "      <th>obs_start</th>\n",
       "      <th>scriptSalIndex</th>\n",
       "      <th>target_name</th>\n",
       "      <th>s_ra</th>\n",
       "      <th>s_dec</th>\n",
       "      <th>sky_rotation</th>\n",
       "      <th>band</th>\n",
       "      <th>psf_sigma_median</th>\n",
       "      <th>zero_point_1s</th>\n",
       "      <th>zero_point_1s_pred</th>\n",
       "      <th>clouds</th>\n",
       "      <th>science_program</th>\n",
       "      <th>target_name</th>\n",
       "    </tr>\n",
       "  </thead>\n",
       "  <tbody>\n",
       "    <tr>\n",
       "      <th>178</th>\n",
       "      <td>2025070100300</td>\n",
       "      <td>20250701</td>\n",
       "      <td>300</td>\n",
       "      <td>2025-07-02 01:54:10.106487+00:00</td>\n",
       "      <td>2025-07-02 01:55:37.402250+00:00</td>\n",
       "      <td>2025-07-02T01:55:42.439000</td>\n",
       "      <td>110357</td>\n",
       "      <td>bulgy</td>\n",
       "      <td>259.069647</td>\n",
       "      <td>-27.480437</td>\n",
       "      <td>127.303823</td>\n",
       "      <td>z</td>\n",
       "      <td>1.965879</td>\n",
       "      <td>26.162908</td>\n",
       "      <td>27.874106</td>\n",
       "      <td>-1.711199</td>\n",
       "      <td>BLOCK-365</td>\n",
       "      <td>bulgy</td>\n",
       "    </tr>\n",
       "  </tbody>\n",
       "</table>\n",
       "</div>"
      ],
      "text/plain": [
       "          visit_id   day_obs seq_num                       time_target  \\\n",
       "178  2025070100300  20250701     300  2025-07-02 01:54:10.106487+00:00   \n",
       "\n",
       "                     time_observation                   obs_start  \\\n",
       "178  2025-07-02 01:55:37.402250+00:00  2025-07-02T01:55:42.439000   \n",
       "\n",
       "    scriptSalIndex target_name        s_ra      s_dec sky_rotation band  \\\n",
       "178         110357       bulgy  259.069647 -27.480437   127.303823    z   \n",
       "\n",
       "    psf_sigma_median zero_point_1s zero_point_1s_pred    clouds  \\\n",
       "178         1.965879     26.162908          27.874106 -1.711199   \n",
       "\n",
       "    science_program target_name  \n",
       "178       BLOCK-365       bulgy  "
      ]
     },
     "metadata": {},
     "output_type": "display_data"
    },
    {
     "name": "stdout",
     "output_type": "stream",
     "text": [
      "IMG_TYPE science. Flags: big zeropoint offset.\n"
     ]
    },
    {
     "data": {
      "text/html": [
       "<a href=\"https://usdf-rsp.slac.stanford.edu/rubintv/summit-usdf/lsstcam/event?key=lsstcam/2025-07-01/calexp_mosaic/000300/lsstcam_calexp_mosaic_2025-07-01_000300.jpg\" target=\"_blank\" rel=\"noreferrer noopener\">https://usdf-rsp.slac.stanford.edu/rubintv/summit-usdf/lsstcam/event?key=lsstcam/2025-07-01/calexp_mosaic/000300/lsstcam_calexp_mosaic_2025-07-01_000300.jpg</a>"
      ],
      "text/plain": [
       "<IPython.core.display.HTML object>"
      ]
     },
     "metadata": {},
     "output_type": "display_data"
    },
    {
     "data": {
      "text/html": [
       "<a href=\"https://usdf-rsp.slac.stanford.edu/rubintv/summit-usdf/lsstcam/event?key=lsstcam/2025-07-01/witness_detector/000300/lsstcam_witness_detector_2025-07-01_000300.jpg\" target=\"_blank\" rel=\"noreferrer noopener\">https://usdf-rsp.slac.stanford.edu/rubintv/summit-usdf/lsstcam/event?key=lsstcam/2025-07-01/witness_detector/000300/lsstcam_witness_detector_2025-07-01_000300.jpg</a>"
      ],
      "text/plain": [
       "<IPython.core.display.HTML object>"
      ]
     },
     "metadata": {},
     "output_type": "display_data"
    },
    {
     "data": {
      "text/html": [
       "<br>"
      ],
      "text/plain": [
       "<IPython.core.display.HTML object>"
      ]
     },
     "metadata": {},
     "output_type": "display_data"
    },
    {
     "data": {
      "text/html": [
       "<div>\n",
       "<style scoped>\n",
       "    .dataframe tbody tr th:only-of-type {\n",
       "        vertical-align: middle;\n",
       "    }\n",
       "\n",
       "    .dataframe tbody tr th {\n",
       "        vertical-align: top;\n",
       "    }\n",
       "\n",
       "    .dataframe thead th {\n",
       "        text-align: right;\n",
       "    }\n",
       "</style>\n",
       "<table border=\"1\" class=\"dataframe\">\n",
       "  <thead>\n",
       "    <tr style=\"text-align: right;\">\n",
       "      <th></th>\n",
       "      <th>visit_id</th>\n",
       "      <th>day_obs</th>\n",
       "      <th>seq_num</th>\n",
       "      <th>time_target</th>\n",
       "      <th>time_observation</th>\n",
       "      <th>obs_start</th>\n",
       "      <th>scriptSalIndex</th>\n",
       "      <th>target_name</th>\n",
       "      <th>s_ra</th>\n",
       "      <th>s_dec</th>\n",
       "      <th>sky_rotation</th>\n",
       "      <th>band</th>\n",
       "      <th>psf_sigma_median</th>\n",
       "      <th>zero_point_1s</th>\n",
       "      <th>zero_point_1s_pred</th>\n",
       "      <th>clouds</th>\n",
       "      <th>science_program</th>\n",
       "      <th>target_name</th>\n",
       "    </tr>\n",
       "  </thead>\n",
       "  <tbody>\n",
       "    <tr>\n",
       "      <th>181</th>\n",
       "      <td>2025070100303</td>\n",
       "      <td>20250701</td>\n",
       "      <td>303</td>\n",
       "      <td>2025-07-02 01:56:17.164444+00:00</td>\n",
       "      <td>2025-07-02 01:57:44.461982+00:00</td>\n",
       "      <td>2025-07-02T01:57:49.602000</td>\n",
       "      <td>110360</td>\n",
       "      <td>bulgy</td>\n",
       "      <td>260.958643</td>\n",
       "      <td>-32.818312</td>\n",
       "      <td>138.972753</td>\n",
       "      <td>z</td>\n",
       "      <td>1.914122</td>\n",
       "      <td>26.280275</td>\n",
       "      <td>27.873874</td>\n",
       "      <td>-1.593599</td>\n",
       "      <td>BLOCK-365</td>\n",
       "      <td>bulgy</td>\n",
       "    </tr>\n",
       "  </tbody>\n",
       "</table>\n",
       "</div>"
      ],
      "text/plain": [
       "          visit_id   day_obs seq_num                       time_target  \\\n",
       "181  2025070100303  20250701     303  2025-07-02 01:56:17.164444+00:00   \n",
       "\n",
       "                     time_observation                   obs_start  \\\n",
       "181  2025-07-02 01:57:44.461982+00:00  2025-07-02T01:57:49.602000   \n",
       "\n",
       "    scriptSalIndex target_name        s_ra      s_dec sky_rotation band  \\\n",
       "181         110360       bulgy  260.958643 -32.818312   138.972753    z   \n",
       "\n",
       "    psf_sigma_median zero_point_1s zero_point_1s_pred    clouds  \\\n",
       "181         1.914122     26.280275          27.873874 -1.593599   \n",
       "\n",
       "    science_program target_name  \n",
       "181       BLOCK-365       bulgy  "
      ]
     },
     "metadata": {},
     "output_type": "display_data"
    },
    {
     "name": "stdout",
     "output_type": "stream",
     "text": [
      "IMG_TYPE science. Flags: big zeropoint offset.\n"
     ]
    },
    {
     "data": {
      "text/html": [
       "<a href=\"https://usdf-rsp.slac.stanford.edu/rubintv/summit-usdf/lsstcam/event?key=lsstcam/2025-07-01/calexp_mosaic/000303/lsstcam_calexp_mosaic_2025-07-01_000303.jpg\" target=\"_blank\" rel=\"noreferrer noopener\">https://usdf-rsp.slac.stanford.edu/rubintv/summit-usdf/lsstcam/event?key=lsstcam/2025-07-01/calexp_mosaic/000303/lsstcam_calexp_mosaic_2025-07-01_000303.jpg</a>"
      ],
      "text/plain": [
       "<IPython.core.display.HTML object>"
      ]
     },
     "metadata": {},
     "output_type": "display_data"
    },
    {
     "data": {
      "text/html": [
       "<a href=\"https://usdf-rsp.slac.stanford.edu/rubintv/summit-usdf/lsstcam/event?key=lsstcam/2025-07-01/witness_detector/000303/lsstcam_witness_detector_2025-07-01_000303.jpg\" target=\"_blank\" rel=\"noreferrer noopener\">https://usdf-rsp.slac.stanford.edu/rubintv/summit-usdf/lsstcam/event?key=lsstcam/2025-07-01/witness_detector/000303/lsstcam_witness_detector_2025-07-01_000303.jpg</a>"
      ],
      "text/plain": [
       "<IPython.core.display.HTML object>"
      ]
     },
     "metadata": {},
     "output_type": "display_data"
    },
    {
     "data": {
      "text/html": [
       "<br>"
      ],
      "text/plain": [
       "<IPython.core.display.HTML object>"
      ]
     },
     "metadata": {},
     "output_type": "display_data"
    },
    {
     "data": {
      "text/html": [
       "<div>\n",
       "<style scoped>\n",
       "    .dataframe tbody tr th:only-of-type {\n",
       "        vertical-align: middle;\n",
       "    }\n",
       "\n",
       "    .dataframe tbody tr th {\n",
       "        vertical-align: top;\n",
       "    }\n",
       "\n",
       "    .dataframe thead th {\n",
       "        text-align: right;\n",
       "    }\n",
       "</style>\n",
       "<table border=\"1\" class=\"dataframe\">\n",
       "  <thead>\n",
       "    <tr style=\"text-align: right;\">\n",
       "      <th></th>\n",
       "      <th>visit_id</th>\n",
       "      <th>day_obs</th>\n",
       "      <th>seq_num</th>\n",
       "      <th>time_target</th>\n",
       "      <th>time_observation</th>\n",
       "      <th>obs_start</th>\n",
       "      <th>scriptSalIndex</th>\n",
       "      <th>target_name</th>\n",
       "      <th>s_ra</th>\n",
       "      <th>s_dec</th>\n",
       "      <th>sky_rotation</th>\n",
       "      <th>band</th>\n",
       "      <th>psf_sigma_median</th>\n",
       "      <th>zero_point_1s</th>\n",
       "      <th>zero_point_1s_pred</th>\n",
       "      <th>clouds</th>\n",
       "      <th>science_program</th>\n",
       "      <th>target_name</th>\n",
       "    </tr>\n",
       "  </thead>\n",
       "  <tbody>\n",
       "    <tr>\n",
       "      <th>182</th>\n",
       "      <td>2025070100304</td>\n",
       "      <td>20250701</td>\n",
       "      <td>304</td>\n",
       "      <td>2025-07-02 01:57:01.763969+00:00</td>\n",
       "      <td>2025-07-02 01:58:24.643984+00:00</td>\n",
       "      <td>2025-07-02T01:58:30.424000</td>\n",
       "      <td>110361</td>\n",
       "      <td>bulgy</td>\n",
       "      <td>264.114936</td>\n",
       "      <td>-31.906644</td>\n",
       "      <td>135.677015</td>\n",
       "      <td>z</td>\n",
       "      <td>1.933855</td>\n",
       "      <td>26.211931</td>\n",
       "      <td>27.872866</td>\n",
       "      <td>-1.660935</td>\n",
       "      <td>BLOCK-365</td>\n",
       "      <td>bulgy</td>\n",
       "    </tr>\n",
       "  </tbody>\n",
       "</table>\n",
       "</div>"
      ],
      "text/plain": [
       "          visit_id   day_obs seq_num                       time_target  \\\n",
       "182  2025070100304  20250701     304  2025-07-02 01:57:01.763969+00:00   \n",
       "\n",
       "                     time_observation                   obs_start  \\\n",
       "182  2025-07-02 01:58:24.643984+00:00  2025-07-02T01:58:30.424000   \n",
       "\n",
       "    scriptSalIndex target_name        s_ra      s_dec sky_rotation band  \\\n",
       "182         110361       bulgy  264.114936 -31.906644   135.677015    z   \n",
       "\n",
       "    psf_sigma_median zero_point_1s zero_point_1s_pred    clouds  \\\n",
       "182         1.933855     26.211931          27.872866 -1.660935   \n",
       "\n",
       "    science_program target_name  \n",
       "182       BLOCK-365       bulgy  "
      ]
     },
     "metadata": {},
     "output_type": "display_data"
    },
    {
     "name": "stdout",
     "output_type": "stream",
     "text": [
      "IMG_TYPE science. Flags: big zeropoint offset.\n"
     ]
    },
    {
     "data": {
      "text/html": [
       "<a href=\"https://usdf-rsp.slac.stanford.edu/rubintv/summit-usdf/lsstcam/event?key=lsstcam/2025-07-01/calexp_mosaic/000304/lsstcam_calexp_mosaic_2025-07-01_000304.jpg\" target=\"_blank\" rel=\"noreferrer noopener\">https://usdf-rsp.slac.stanford.edu/rubintv/summit-usdf/lsstcam/event?key=lsstcam/2025-07-01/calexp_mosaic/000304/lsstcam_calexp_mosaic_2025-07-01_000304.jpg</a>"
      ],
      "text/plain": [
       "<IPython.core.display.HTML object>"
      ]
     },
     "metadata": {},
     "output_type": "display_data"
    },
    {
     "data": {
      "text/html": [
       "<a href=\"https://usdf-rsp.slac.stanford.edu/rubintv/summit-usdf/lsstcam/event?key=lsstcam/2025-07-01/witness_detector/000304/lsstcam_witness_detector_2025-07-01_000304.jpg\" target=\"_blank\" rel=\"noreferrer noopener\">https://usdf-rsp.slac.stanford.edu/rubintv/summit-usdf/lsstcam/event?key=lsstcam/2025-07-01/witness_detector/000304/lsstcam_witness_detector_2025-07-01_000304.jpg</a>"
      ],
      "text/plain": [
       "<IPython.core.display.HTML object>"
      ]
     },
     "metadata": {},
     "output_type": "display_data"
    },
    {
     "data": {
      "text/html": [
       "<br>"
      ],
      "text/plain": [
       "<IPython.core.display.HTML object>"
      ]
     },
     "metadata": {},
     "output_type": "display_data"
    },
    {
     "data": {
      "text/html": [
       "<div>\n",
       "<style scoped>\n",
       "    .dataframe tbody tr th:only-of-type {\n",
       "        vertical-align: middle;\n",
       "    }\n",
       "\n",
       "    .dataframe tbody tr th {\n",
       "        vertical-align: top;\n",
       "    }\n",
       "\n",
       "    .dataframe thead th {\n",
       "        text-align: right;\n",
       "    }\n",
       "</style>\n",
       "<table border=\"1\" class=\"dataframe\">\n",
       "  <thead>\n",
       "    <tr style=\"text-align: right;\">\n",
       "      <th></th>\n",
       "      <th>visit_id</th>\n",
       "      <th>day_obs</th>\n",
       "      <th>seq_num</th>\n",
       "      <th>time_target</th>\n",
       "      <th>time_observation</th>\n",
       "      <th>obs_start</th>\n",
       "      <th>scriptSalIndex</th>\n",
       "      <th>target_name</th>\n",
       "      <th>s_ra</th>\n",
       "      <th>s_dec</th>\n",
       "      <th>sky_rotation</th>\n",
       "      <th>band</th>\n",
       "      <th>psf_sigma_median</th>\n",
       "      <th>zero_point_1s</th>\n",
       "      <th>zero_point_1s_pred</th>\n",
       "      <th>clouds</th>\n",
       "      <th>science_program</th>\n",
       "      <th>target_name</th>\n",
       "    </tr>\n",
       "  </thead>\n",
       "  <tbody>\n",
       "    <tr>\n",
       "      <th>183</th>\n",
       "      <td>2025070100305</td>\n",
       "      <td>20250701</td>\n",
       "      <td>305</td>\n",
       "      <td>2025-07-02 01:57:45.548184+00:00</td>\n",
       "      <td>2025-07-02 01:59:34.012737+00:00</td>\n",
       "      <td>2025-07-02T01:59:39.310000</td>\n",
       "      <td>110362</td>\n",
       "      <td>bulgy</td>\n",
       "      <td>266.27991</td>\n",
       "      <td>-16.411227</td>\n",
       "      <td>106.524343</td>\n",
       "      <td>z</td>\n",
       "      <td>2.600621</td>\n",
       "      <td>26.012242</td>\n",
       "      <td>27.869401</td>\n",
       "      <td>-1.857159</td>\n",
       "      <td>BLOCK-365</td>\n",
       "      <td>bulgy</td>\n",
       "    </tr>\n",
       "  </tbody>\n",
       "</table>\n",
       "</div>"
      ],
      "text/plain": [
       "          visit_id   day_obs seq_num                       time_target  \\\n",
       "183  2025070100305  20250701     305  2025-07-02 01:57:45.548184+00:00   \n",
       "\n",
       "                     time_observation                   obs_start  \\\n",
       "183  2025-07-02 01:59:34.012737+00:00  2025-07-02T01:59:39.310000   \n",
       "\n",
       "    scriptSalIndex target_name       s_ra      s_dec sky_rotation band  \\\n",
       "183         110362       bulgy  266.27991 -16.411227   106.524343    z   \n",
       "\n",
       "    psf_sigma_median zero_point_1s zero_point_1s_pred    clouds  \\\n",
       "183         2.600621     26.012242          27.869401 -1.857159   \n",
       "\n",
       "    science_program target_name  \n",
       "183       BLOCK-365       bulgy  "
      ]
     },
     "metadata": {},
     "output_type": "display_data"
    },
    {
     "name": "stdout",
     "output_type": "stream",
     "text": [
      "IMG_TYPE science. Flags: big zeropoint offset.\n"
     ]
    },
    {
     "data": {
      "text/html": [
       "<a href=\"https://usdf-rsp.slac.stanford.edu/rubintv/summit-usdf/lsstcam/event?key=lsstcam/2025-07-01/calexp_mosaic/000305/lsstcam_calexp_mosaic_2025-07-01_000305.jpg\" target=\"_blank\" rel=\"noreferrer noopener\">https://usdf-rsp.slac.stanford.edu/rubintv/summit-usdf/lsstcam/event?key=lsstcam/2025-07-01/calexp_mosaic/000305/lsstcam_calexp_mosaic_2025-07-01_000305.jpg</a>"
      ],
      "text/plain": [
       "<IPython.core.display.HTML object>"
      ]
     },
     "metadata": {},
     "output_type": "display_data"
    },
    {
     "data": {
      "text/html": [
       "<a href=\"https://usdf-rsp.slac.stanford.edu/rubintv/summit-usdf/lsstcam/event?key=lsstcam/2025-07-01/witness_detector/000305/lsstcam_witness_detector_2025-07-01_000305.jpg\" target=\"_blank\" rel=\"noreferrer noopener\">https://usdf-rsp.slac.stanford.edu/rubintv/summit-usdf/lsstcam/event?key=lsstcam/2025-07-01/witness_detector/000305/lsstcam_witness_detector_2025-07-01_000305.jpg</a>"
      ],
      "text/plain": [
       "<IPython.core.display.HTML object>"
      ]
     },
     "metadata": {},
     "output_type": "display_data"
    },
    {
     "data": {
      "text/html": [
       "<br>"
      ],
      "text/plain": [
       "<IPython.core.display.HTML object>"
      ]
     },
     "metadata": {},
     "output_type": "display_data"
    },
    {
     "data": {
      "text/html": [
       "<div>\n",
       "<style scoped>\n",
       "    .dataframe tbody tr th:only-of-type {\n",
       "        vertical-align: middle;\n",
       "    }\n",
       "\n",
       "    .dataframe tbody tr th {\n",
       "        vertical-align: top;\n",
       "    }\n",
       "\n",
       "    .dataframe thead th {\n",
       "        text-align: right;\n",
       "    }\n",
       "</style>\n",
       "<table border=\"1\" class=\"dataframe\">\n",
       "  <thead>\n",
       "    <tr style=\"text-align: right;\">\n",
       "      <th></th>\n",
       "      <th>visit_id</th>\n",
       "      <th>day_obs</th>\n",
       "      <th>seq_num</th>\n",
       "      <th>time_target</th>\n",
       "      <th>time_observation</th>\n",
       "      <th>obs_start</th>\n",
       "      <th>scriptSalIndex</th>\n",
       "      <th>target_name</th>\n",
       "      <th>s_ra</th>\n",
       "      <th>s_dec</th>\n",
       "      <th>sky_rotation</th>\n",
       "      <th>band</th>\n",
       "      <th>psf_sigma_median</th>\n",
       "      <th>zero_point_1s</th>\n",
       "      <th>zero_point_1s_pred</th>\n",
       "      <th>clouds</th>\n",
       "      <th>science_program</th>\n",
       "      <th>target_name</th>\n",
       "    </tr>\n",
       "  </thead>\n",
       "  <tbody>\n",
       "    <tr>\n",
       "      <th>184</th>\n",
       "      <td>2025070100306</td>\n",
       "      <td>20250701</td>\n",
       "      <td>306</td>\n",
       "      <td>2025-07-02 01:58:25.880110+00:00</td>\n",
       "      <td>2025-07-02 02:00:13.444769+00:00</td>\n",
       "      <td>2025-07-02T02:00:19.199000</td>\n",
       "      <td>110363</td>\n",
       "      <td>bulgy</td>\n",
       "      <td>266.717761</td>\n",
       "      <td>-13.310922</td>\n",
       "      <td>102.425658</td>\n",
       "      <td>z</td>\n",
       "      <td>2.490254</td>\n",
       "      <td>25.989311</td>\n",
       "      <td>27.868085</td>\n",
       "      <td>-1.878775</td>\n",
       "      <td>BLOCK-365</td>\n",
       "      <td>bulgy</td>\n",
       "    </tr>\n",
       "  </tbody>\n",
       "</table>\n",
       "</div>"
      ],
      "text/plain": [
       "          visit_id   day_obs seq_num                       time_target  \\\n",
       "184  2025070100306  20250701     306  2025-07-02 01:58:25.880110+00:00   \n",
       "\n",
       "                     time_observation                   obs_start  \\\n",
       "184  2025-07-02 02:00:13.444769+00:00  2025-07-02T02:00:19.199000   \n",
       "\n",
       "    scriptSalIndex target_name        s_ra      s_dec sky_rotation band  \\\n",
       "184         110363       bulgy  266.717761 -13.310922   102.425658    z   \n",
       "\n",
       "    psf_sigma_median zero_point_1s zero_point_1s_pred    clouds  \\\n",
       "184         2.490254     25.989311          27.868085 -1.878775   \n",
       "\n",
       "    science_program target_name  \n",
       "184       BLOCK-365       bulgy  "
      ]
     },
     "metadata": {},
     "output_type": "display_data"
    },
    {
     "name": "stdout",
     "output_type": "stream",
     "text": [
      "IMG_TYPE science. Flags: big zeropoint offset.\n"
     ]
    },
    {
     "data": {
      "text/html": [
       "<a href=\"https://usdf-rsp.slac.stanford.edu/rubintv/summit-usdf/lsstcam/event?key=lsstcam/2025-07-01/calexp_mosaic/000306/lsstcam_calexp_mosaic_2025-07-01_000306.jpg\" target=\"_blank\" rel=\"noreferrer noopener\">https://usdf-rsp.slac.stanford.edu/rubintv/summit-usdf/lsstcam/event?key=lsstcam/2025-07-01/calexp_mosaic/000306/lsstcam_calexp_mosaic_2025-07-01_000306.jpg</a>"
      ],
      "text/plain": [
       "<IPython.core.display.HTML object>"
      ]
     },
     "metadata": {},
     "output_type": "display_data"
    },
    {
     "data": {
      "text/html": [
       "<a href=\"https://usdf-rsp.slac.stanford.edu/rubintv/summit-usdf/lsstcam/event?key=lsstcam/2025-07-01/witness_detector/000306/lsstcam_witness_detector_2025-07-01_000306.jpg\" target=\"_blank\" rel=\"noreferrer noopener\">https://usdf-rsp.slac.stanford.edu/rubintv/summit-usdf/lsstcam/event?key=lsstcam/2025-07-01/witness_detector/000306/lsstcam_witness_detector_2025-07-01_000306.jpg</a>"
      ],
      "text/plain": [
       "<IPython.core.display.HTML object>"
      ]
     },
     "metadata": {},
     "output_type": "display_data"
    },
    {
     "data": {
      "text/html": [
       "<br>"
      ],
      "text/plain": [
       "<IPython.core.display.HTML object>"
      ]
     },
     "metadata": {},
     "output_type": "display_data"
    },
    {
     "data": {
      "text/html": [
       "<div>\n",
       "<style scoped>\n",
       "    .dataframe tbody tr th:only-of-type {\n",
       "        vertical-align: middle;\n",
       "    }\n",
       "\n",
       "    .dataframe tbody tr th {\n",
       "        vertical-align: top;\n",
       "    }\n",
       "\n",
       "    .dataframe thead th {\n",
       "        text-align: right;\n",
       "    }\n",
       "</style>\n",
       "<table border=\"1\" class=\"dataframe\">\n",
       "  <thead>\n",
       "    <tr style=\"text-align: right;\">\n",
       "      <th></th>\n",
       "      <th>visit_id</th>\n",
       "      <th>day_obs</th>\n",
       "      <th>seq_num</th>\n",
       "      <th>time_target</th>\n",
       "      <th>time_observation</th>\n",
       "      <th>obs_start</th>\n",
       "      <th>scriptSalIndex</th>\n",
       "      <th>target_name</th>\n",
       "      <th>s_ra</th>\n",
       "      <th>s_dec</th>\n",
       "      <th>sky_rotation</th>\n",
       "      <th>band</th>\n",
       "      <th>psf_sigma_median</th>\n",
       "      <th>zero_point_1s</th>\n",
       "      <th>zero_point_1s_pred</th>\n",
       "      <th>clouds</th>\n",
       "      <th>science_program</th>\n",
       "      <th>target_name</th>\n",
       "    </tr>\n",
       "  </thead>\n",
       "  <tbody>\n",
       "    <tr>\n",
       "      <th>185</th>\n",
       "      <td>2025070100307</td>\n",
       "      <td>20250701</td>\n",
       "      <td>307</td>\n",
       "      <td>2025-07-02 01:59:35.349904+00:00</td>\n",
       "      <td>2025-07-02 02:00:51.801165+00:00</td>\n",
       "      <td>2025-07-02T02:00:57.184000</td>\n",
       "      <td>110364</td>\n",
       "      <td>bulgy</td>\n",
       "      <td>263.950241</td>\n",
       "      <td>-14.306458</td>\n",
       "      <td>101.490308</td>\n",
       "      <td>z</td>\n",
       "      <td>2.228608</td>\n",
       "      <td>26.297267</td>\n",
       "      <td>27.86989</td>\n",
       "      <td>-1.572623</td>\n",
       "      <td>BLOCK-365</td>\n",
       "      <td>bulgy</td>\n",
       "    </tr>\n",
       "  </tbody>\n",
       "</table>\n",
       "</div>"
      ],
      "text/plain": [
       "          visit_id   day_obs seq_num                       time_target  \\\n",
       "185  2025070100307  20250701     307  2025-07-02 01:59:35.349904+00:00   \n",
       "\n",
       "                     time_observation                   obs_start  \\\n",
       "185  2025-07-02 02:00:51.801165+00:00  2025-07-02T02:00:57.184000   \n",
       "\n",
       "    scriptSalIndex target_name        s_ra      s_dec sky_rotation band  \\\n",
       "185         110364       bulgy  263.950241 -14.306458   101.490308    z   \n",
       "\n",
       "    psf_sigma_median zero_point_1s zero_point_1s_pred    clouds  \\\n",
       "185         2.228608     26.297267           27.86989 -1.572623   \n",
       "\n",
       "    science_program target_name  \n",
       "185       BLOCK-365       bulgy  "
      ]
     },
     "metadata": {},
     "output_type": "display_data"
    },
    {
     "name": "stdout",
     "output_type": "stream",
     "text": [
      "IMG_TYPE science. Flags: big zeropoint offset.\n"
     ]
    },
    {
     "data": {
      "text/html": [
       "<a href=\"https://usdf-rsp.slac.stanford.edu/rubintv/summit-usdf/lsstcam/event?key=lsstcam/2025-07-01/calexp_mosaic/000307/lsstcam_calexp_mosaic_2025-07-01_000307.jpg\" target=\"_blank\" rel=\"noreferrer noopener\">https://usdf-rsp.slac.stanford.edu/rubintv/summit-usdf/lsstcam/event?key=lsstcam/2025-07-01/calexp_mosaic/000307/lsstcam_calexp_mosaic_2025-07-01_000307.jpg</a>"
      ],
      "text/plain": [
       "<IPython.core.display.HTML object>"
      ]
     },
     "metadata": {},
     "output_type": "display_data"
    },
    {
     "data": {
      "text/html": [
       "<a href=\"https://usdf-rsp.slac.stanford.edu/rubintv/summit-usdf/lsstcam/event?key=lsstcam/2025-07-01/witness_detector/000307/lsstcam_witness_detector_2025-07-01_000307.jpg\" target=\"_blank\" rel=\"noreferrer noopener\">https://usdf-rsp.slac.stanford.edu/rubintv/summit-usdf/lsstcam/event?key=lsstcam/2025-07-01/witness_detector/000307/lsstcam_witness_detector_2025-07-01_000307.jpg</a>"
      ],
      "text/plain": [
       "<IPython.core.display.HTML object>"
      ]
     },
     "metadata": {},
     "output_type": "display_data"
    },
    {
     "data": {
      "text/html": [
       "<br>"
      ],
      "text/plain": [
       "<IPython.core.display.HTML object>"
      ]
     },
     "metadata": {},
     "output_type": "display_data"
    },
    {
     "data": {
      "text/html": [
       "<div>\n",
       "<style scoped>\n",
       "    .dataframe tbody tr th:only-of-type {\n",
       "        vertical-align: middle;\n",
       "    }\n",
       "\n",
       "    .dataframe tbody tr th {\n",
       "        vertical-align: top;\n",
       "    }\n",
       "\n",
       "    .dataframe thead th {\n",
       "        text-align: right;\n",
       "    }\n",
       "</style>\n",
       "<table border=\"1\" class=\"dataframe\">\n",
       "  <thead>\n",
       "    <tr style=\"text-align: right;\">\n",
       "      <th></th>\n",
       "      <th>visit_id</th>\n",
       "      <th>day_obs</th>\n",
       "      <th>seq_num</th>\n",
       "      <th>time_target</th>\n",
       "      <th>time_observation</th>\n",
       "      <th>obs_start</th>\n",
       "      <th>scriptSalIndex</th>\n",
       "      <th>target_name</th>\n",
       "      <th>s_ra</th>\n",
       "      <th>s_dec</th>\n",
       "      <th>sky_rotation</th>\n",
       "      <th>band</th>\n",
       "      <th>psf_sigma_median</th>\n",
       "      <th>zero_point_1s</th>\n",
       "      <th>zero_point_1s_pred</th>\n",
       "      <th>clouds</th>\n",
       "      <th>science_program</th>\n",
       "      <th>target_name</th>\n",
       "    </tr>\n",
       "  </thead>\n",
       "  <tbody>\n",
       "    <tr>\n",
       "      <th>186</th>\n",
       "      <td>2025070100308</td>\n",
       "      <td>20250701</td>\n",
       "      <td>308</td>\n",
       "      <td>2025-07-02 02:00:14.697182+00:00</td>\n",
       "      <td>2025-07-02 02:01:36.001878+00:00</td>\n",
       "      <td>2025-07-02T02:01:41.921000</td>\n",
       "      <td>110365</td>\n",
       "      <td>dusty_plane, bulgy</td>\n",
       "      <td>261.647582</td>\n",
       "      <td>-12.203011</td>\n",
       "      <td>96.2032</td>\n",
       "      <td>z</td>\n",
       "      <td>1.844874</td>\n",
       "      <td>26.075767</td>\n",
       "      <td>27.870125</td>\n",
       "      <td>-1.794359</td>\n",
       "      <td>BLOCK-365</td>\n",
       "      <td>dusty_plane, bulgy</td>\n",
       "    </tr>\n",
       "  </tbody>\n",
       "</table>\n",
       "</div>"
      ],
      "text/plain": [
       "          visit_id   day_obs seq_num                       time_target  \\\n",
       "186  2025070100308  20250701     308  2025-07-02 02:00:14.697182+00:00   \n",
       "\n",
       "                     time_observation                   obs_start  \\\n",
       "186  2025-07-02 02:01:36.001878+00:00  2025-07-02T02:01:41.921000   \n",
       "\n",
       "    scriptSalIndex         target_name        s_ra      s_dec sky_rotation  \\\n",
       "186         110365  dusty_plane, bulgy  261.647582 -12.203011      96.2032   \n",
       "\n",
       "    band psf_sigma_median zero_point_1s zero_point_1s_pred    clouds  \\\n",
       "186    z         1.844874     26.075767          27.870125 -1.794359   \n",
       "\n",
       "    science_program         target_name  \n",
       "186       BLOCK-365  dusty_plane, bulgy  "
      ]
     },
     "metadata": {},
     "output_type": "display_data"
    },
    {
     "name": "stdout",
     "output_type": "stream",
     "text": [
      "IMG_TYPE science. Flags: big zeropoint offset.\n"
     ]
    },
    {
     "data": {
      "text/html": [
       "<a href=\"https://usdf-rsp.slac.stanford.edu/rubintv/summit-usdf/lsstcam/event?key=lsstcam/2025-07-01/calexp_mosaic/000308/lsstcam_calexp_mosaic_2025-07-01_000308.jpg\" target=\"_blank\" rel=\"noreferrer noopener\">https://usdf-rsp.slac.stanford.edu/rubintv/summit-usdf/lsstcam/event?key=lsstcam/2025-07-01/calexp_mosaic/000308/lsstcam_calexp_mosaic_2025-07-01_000308.jpg</a>"
      ],
      "text/plain": [
       "<IPython.core.display.HTML object>"
      ]
     },
     "metadata": {},
     "output_type": "display_data"
    },
    {
     "data": {
      "text/html": [
       "<a href=\"https://usdf-rsp.slac.stanford.edu/rubintv/summit-usdf/lsstcam/event?key=lsstcam/2025-07-01/witness_detector/000308/lsstcam_witness_detector_2025-07-01_000308.jpg\" target=\"_blank\" rel=\"noreferrer noopener\">https://usdf-rsp.slac.stanford.edu/rubintv/summit-usdf/lsstcam/event?key=lsstcam/2025-07-01/witness_detector/000308/lsstcam_witness_detector_2025-07-01_000308.jpg</a>"
      ],
      "text/plain": [
       "<IPython.core.display.HTML object>"
      ]
     },
     "metadata": {},
     "output_type": "display_data"
    },
    {
     "data": {
      "text/html": [
       "<br>"
      ],
      "text/plain": [
       "<IPython.core.display.HTML object>"
      ]
     },
     "metadata": {},
     "output_type": "display_data"
    },
    {
     "data": {
      "text/html": [
       "<div>\n",
       "<style scoped>\n",
       "    .dataframe tbody tr th:only-of-type {\n",
       "        vertical-align: middle;\n",
       "    }\n",
       "\n",
       "    .dataframe tbody tr th {\n",
       "        vertical-align: top;\n",
       "    }\n",
       "\n",
       "    .dataframe thead th {\n",
       "        text-align: right;\n",
       "    }\n",
       "</style>\n",
       "<table border=\"1\" class=\"dataframe\">\n",
       "  <thead>\n",
       "    <tr style=\"text-align: right;\">\n",
       "      <th></th>\n",
       "      <th>visit_id</th>\n",
       "      <th>day_obs</th>\n",
       "      <th>seq_num</th>\n",
       "      <th>time_target</th>\n",
       "      <th>time_observation</th>\n",
       "      <th>obs_start</th>\n",
       "      <th>scriptSalIndex</th>\n",
       "      <th>target_name</th>\n",
       "      <th>s_ra</th>\n",
       "      <th>s_dec</th>\n",
       "      <th>sky_rotation</th>\n",
       "      <th>band</th>\n",
       "      <th>psf_sigma_median</th>\n",
       "      <th>zero_point_1s</th>\n",
       "      <th>zero_point_1s_pred</th>\n",
       "      <th>clouds</th>\n",
       "      <th>science_program</th>\n",
       "      <th>target_name</th>\n",
       "    </tr>\n",
       "  </thead>\n",
       "  <tbody>\n",
       "    <tr>\n",
       "      <th>187</th>\n",
       "      <td>2025070100309</td>\n",
       "      <td>20250701</td>\n",
       "      <td>309</td>\n",
       "      <td>2025-07-02 02:00:52.904669+00:00</td>\n",
       "      <td>2025-07-02 02:02:14.523414+00:00</td>\n",
       "      <td>2025-07-02T02:02:20.399000</td>\n",
       "      <td>110366</td>\n",
       "      <td>dusty_plane</td>\n",
       "      <td>258.82106</td>\n",
       "      <td>-13.102182</td>\n",
       "      <td>94.140638</td>\n",
       "      <td>z</td>\n",
       "      <td>1.749089</td>\n",
       "      <td>25.997445</td>\n",
       "      <td>27.871568</td>\n",
       "      <td>-1.874123</td>\n",
       "      <td>BLOCK-365</td>\n",
       "      <td>dusty_plane</td>\n",
       "    </tr>\n",
       "  </tbody>\n",
       "</table>\n",
       "</div>"
      ],
      "text/plain": [
       "          visit_id   day_obs seq_num                       time_target  \\\n",
       "187  2025070100309  20250701     309  2025-07-02 02:00:52.904669+00:00   \n",
       "\n",
       "                     time_observation                   obs_start  \\\n",
       "187  2025-07-02 02:02:14.523414+00:00  2025-07-02T02:02:20.399000   \n",
       "\n",
       "    scriptSalIndex  target_name       s_ra      s_dec sky_rotation band  \\\n",
       "187         110366  dusty_plane  258.82106 -13.102182    94.140638    z   \n",
       "\n",
       "    psf_sigma_median zero_point_1s zero_point_1s_pred    clouds  \\\n",
       "187         1.749089     25.997445          27.871568 -1.874123   \n",
       "\n",
       "    science_program  target_name  \n",
       "187       BLOCK-365  dusty_plane  "
      ]
     },
     "metadata": {},
     "output_type": "display_data"
    },
    {
     "name": "stdout",
     "output_type": "stream",
     "text": [
      "IMG_TYPE science. Flags: big zeropoint offset.\n"
     ]
    },
    {
     "data": {
      "text/html": [
       "<a href=\"https://usdf-rsp.slac.stanford.edu/rubintv/summit-usdf/lsstcam/event?key=lsstcam/2025-07-01/calexp_mosaic/000309/lsstcam_calexp_mosaic_2025-07-01_000309.jpg\" target=\"_blank\" rel=\"noreferrer noopener\">https://usdf-rsp.slac.stanford.edu/rubintv/summit-usdf/lsstcam/event?key=lsstcam/2025-07-01/calexp_mosaic/000309/lsstcam_calexp_mosaic_2025-07-01_000309.jpg</a>"
      ],
      "text/plain": [
       "<IPython.core.display.HTML object>"
      ]
     },
     "metadata": {},
     "output_type": "display_data"
    },
    {
     "data": {
      "text/html": [
       "<a href=\"https://usdf-rsp.slac.stanford.edu/rubintv/summit-usdf/lsstcam/event?key=lsstcam/2025-07-01/witness_detector/000309/lsstcam_witness_detector_2025-07-01_000309.jpg\" target=\"_blank\" rel=\"noreferrer noopener\">https://usdf-rsp.slac.stanford.edu/rubintv/summit-usdf/lsstcam/event?key=lsstcam/2025-07-01/witness_detector/000309/lsstcam_witness_detector_2025-07-01_000309.jpg</a>"
      ],
      "text/plain": [
       "<IPython.core.display.HTML object>"
      ]
     },
     "metadata": {},
     "output_type": "display_data"
    },
    {
     "data": {
      "text/html": [
       "<br>"
      ],
      "text/plain": [
       "<IPython.core.display.HTML object>"
      ]
     },
     "metadata": {},
     "output_type": "display_data"
    },
    {
     "data": {
      "text/html": [
       "<div>\n",
       "<style scoped>\n",
       "    .dataframe tbody tr th:only-of-type {\n",
       "        vertical-align: middle;\n",
       "    }\n",
       "\n",
       "    .dataframe tbody tr th {\n",
       "        vertical-align: top;\n",
       "    }\n",
       "\n",
       "    .dataframe thead th {\n",
       "        text-align: right;\n",
       "    }\n",
       "</style>\n",
       "<table border=\"1\" class=\"dataframe\">\n",
       "  <thead>\n",
       "    <tr style=\"text-align: right;\">\n",
       "      <th></th>\n",
       "      <th>visit_id</th>\n",
       "      <th>day_obs</th>\n",
       "      <th>seq_num</th>\n",
       "      <th>time_target</th>\n",
       "      <th>time_observation</th>\n",
       "      <th>obs_start</th>\n",
       "      <th>scriptSalIndex</th>\n",
       "      <th>target_name</th>\n",
       "      <th>s_ra</th>\n",
       "      <th>s_dec</th>\n",
       "      <th>sky_rotation</th>\n",
       "      <th>band</th>\n",
       "      <th>psf_sigma_median</th>\n",
       "      <th>zero_point_1s</th>\n",
       "      <th>zero_point_1s_pred</th>\n",
       "      <th>clouds</th>\n",
       "      <th>science_program</th>\n",
       "      <th>target_name</th>\n",
       "    </tr>\n",
       "  </thead>\n",
       "  <tbody>\n",
       "    <tr>\n",
       "      <th>188</th>\n",
       "      <td>2025070100310</td>\n",
       "      <td>20250701</td>\n",
       "      <td>310</td>\n",
       "      <td>2025-07-02 02:01:37.417663+00:00</td>\n",
       "      <td>2025-07-02 02:02:58.710562+00:00</td>\n",
       "      <td>2025-07-02T02:03:03.784000</td>\n",
       "      <td>110367</td>\n",
       "      <td>dusty_plane, bulgy</td>\n",
       "      <td>255.962169</td>\n",
       "      <td>-13.934924</td>\n",
       "      <td>91.420473</td>\n",
       "      <td>z</td>\n",
       "      <td>2.14813</td>\n",
       "      <td>26.150599</td>\n",
       "      <td>27.872776</td>\n",
       "      <td>-1.722177</td>\n",
       "      <td>BLOCK-365</td>\n",
       "      <td>dusty_plane, bulgy</td>\n",
       "    </tr>\n",
       "  </tbody>\n",
       "</table>\n",
       "</div>"
      ],
      "text/plain": [
       "          visit_id   day_obs seq_num                       time_target  \\\n",
       "188  2025070100310  20250701     310  2025-07-02 02:01:37.417663+00:00   \n",
       "\n",
       "                     time_observation                   obs_start  \\\n",
       "188  2025-07-02 02:02:58.710562+00:00  2025-07-02T02:03:03.784000   \n",
       "\n",
       "    scriptSalIndex         target_name        s_ra      s_dec sky_rotation  \\\n",
       "188         110367  dusty_plane, bulgy  255.962169 -13.934924    91.420473   \n",
       "\n",
       "    band psf_sigma_median zero_point_1s zero_point_1s_pred    clouds  \\\n",
       "188    z          2.14813     26.150599          27.872776 -1.722177   \n",
       "\n",
       "    science_program         target_name  \n",
       "188       BLOCK-365  dusty_plane, bulgy  "
      ]
     },
     "metadata": {},
     "output_type": "display_data"
    },
    {
     "name": "stdout",
     "output_type": "stream",
     "text": [
      "IMG_TYPE science. Flags: big zeropoint offset.\n"
     ]
    },
    {
     "data": {
      "text/html": [
       "<a href=\"https://usdf-rsp.slac.stanford.edu/rubintv/summit-usdf/lsstcam/event?key=lsstcam/2025-07-01/calexp_mosaic/000310/lsstcam_calexp_mosaic_2025-07-01_000310.jpg\" target=\"_blank\" rel=\"noreferrer noopener\">https://usdf-rsp.slac.stanford.edu/rubintv/summit-usdf/lsstcam/event?key=lsstcam/2025-07-01/calexp_mosaic/000310/lsstcam_calexp_mosaic_2025-07-01_000310.jpg</a>"
      ],
      "text/plain": [
       "<IPython.core.display.HTML object>"
      ]
     },
     "metadata": {},
     "output_type": "display_data"
    },
    {
     "data": {
      "text/html": [
       "<a href=\"https://usdf-rsp.slac.stanford.edu/rubintv/summit-usdf/lsstcam/event?key=lsstcam/2025-07-01/witness_detector/000310/lsstcam_witness_detector_2025-07-01_000310.jpg\" target=\"_blank\" rel=\"noreferrer noopener\">https://usdf-rsp.slac.stanford.edu/rubintv/summit-usdf/lsstcam/event?key=lsstcam/2025-07-01/witness_detector/000310/lsstcam_witness_detector_2025-07-01_000310.jpg</a>"
      ],
      "text/plain": [
       "<IPython.core.display.HTML object>"
      ]
     },
     "metadata": {},
     "output_type": "display_data"
    },
    {
     "data": {
      "text/html": [
       "<br>"
      ],
      "text/plain": [
       "<IPython.core.display.HTML object>"
      ]
     },
     "metadata": {},
     "output_type": "display_data"
    },
    {
     "data": {
      "text/html": [
       "<div>\n",
       "<style scoped>\n",
       "    .dataframe tbody tr th:only-of-type {\n",
       "        vertical-align: middle;\n",
       "    }\n",
       "\n",
       "    .dataframe tbody tr th {\n",
       "        vertical-align: top;\n",
       "    }\n",
       "\n",
       "    .dataframe thead th {\n",
       "        text-align: right;\n",
       "    }\n",
       "</style>\n",
       "<table border=\"1\" class=\"dataframe\">\n",
       "  <thead>\n",
       "    <tr style=\"text-align: right;\">\n",
       "      <th></th>\n",
       "      <th>visit_id</th>\n",
       "      <th>day_obs</th>\n",
       "      <th>seq_num</th>\n",
       "      <th>time_target</th>\n",
       "      <th>time_observation</th>\n",
       "      <th>obs_start</th>\n",
       "      <th>scriptSalIndex</th>\n",
       "      <th>target_name</th>\n",
       "      <th>s_ra</th>\n",
       "      <th>s_dec</th>\n",
       "      <th>sky_rotation</th>\n",
       "      <th>band</th>\n",
       "      <th>psf_sigma_median</th>\n",
       "      <th>zero_point_1s</th>\n",
       "      <th>zero_point_1s_pred</th>\n",
       "      <th>clouds</th>\n",
       "      <th>science_program</th>\n",
       "      <th>target_name</th>\n",
       "    </tr>\n",
       "  </thead>\n",
       "  <tbody>\n",
       "    <tr>\n",
       "      <th>189</th>\n",
       "      <td>2025070100311</td>\n",
       "      <td>20250701</td>\n",
       "      <td>311</td>\n",
       "      <td>2025-07-02 02:02:15.616827+00:00</td>\n",
       "      <td>2025-07-02 02:03:42.877111+00:00</td>\n",
       "      <td>2025-07-02T02:03:48.208000</td>\n",
       "      <td>110368</td>\n",
       "      <td>dusty_plane</td>\n",
       "      <td>253.604067</td>\n",
       "      <td>-11.796072</td>\n",
       "      <td>84.473231</td>\n",
       "      <td>z</td>\n",
       "      <td>1.909021</td>\n",
       "      <td>25.925104</td>\n",
       "      <td>27.872659</td>\n",
       "      <td>-1.947555</td>\n",
       "      <td>BLOCK-365</td>\n",
       "      <td>dusty_plane</td>\n",
       "    </tr>\n",
       "  </tbody>\n",
       "</table>\n",
       "</div>"
      ],
      "text/plain": [
       "          visit_id   day_obs seq_num                       time_target  \\\n",
       "189  2025070100311  20250701     311  2025-07-02 02:02:15.616827+00:00   \n",
       "\n",
       "                     time_observation                   obs_start  \\\n",
       "189  2025-07-02 02:03:42.877111+00:00  2025-07-02T02:03:48.208000   \n",
       "\n",
       "    scriptSalIndex  target_name        s_ra      s_dec sky_rotation band  \\\n",
       "189         110368  dusty_plane  253.604067 -11.796072    84.473231    z   \n",
       "\n",
       "    psf_sigma_median zero_point_1s zero_point_1s_pred    clouds  \\\n",
       "189         1.909021     25.925104          27.872659 -1.947555   \n",
       "\n",
       "    science_program  target_name  \n",
       "189       BLOCK-365  dusty_plane  "
      ]
     },
     "metadata": {},
     "output_type": "display_data"
    },
    {
     "name": "stdout",
     "output_type": "stream",
     "text": [
      "IMG_TYPE science. Flags: big zeropoint offset.\n"
     ]
    },
    {
     "data": {
      "text/html": [
       "<a href=\"https://usdf-rsp.slac.stanford.edu/rubintv/summit-usdf/lsstcam/event?key=lsstcam/2025-07-01/calexp_mosaic/000311/lsstcam_calexp_mosaic_2025-07-01_000311.jpg\" target=\"_blank\" rel=\"noreferrer noopener\">https://usdf-rsp.slac.stanford.edu/rubintv/summit-usdf/lsstcam/event?key=lsstcam/2025-07-01/calexp_mosaic/000311/lsstcam_calexp_mosaic_2025-07-01_000311.jpg</a>"
      ],
      "text/plain": [
       "<IPython.core.display.HTML object>"
      ]
     },
     "metadata": {},
     "output_type": "display_data"
    },
    {
     "data": {
      "text/html": [
       "<a href=\"https://usdf-rsp.slac.stanford.edu/rubintv/summit-usdf/lsstcam/event?key=lsstcam/2025-07-01/witness_detector/000311/lsstcam_witness_detector_2025-07-01_000311.jpg\" target=\"_blank\" rel=\"noreferrer noopener\">https://usdf-rsp.slac.stanford.edu/rubintv/summit-usdf/lsstcam/event?key=lsstcam/2025-07-01/witness_detector/000311/lsstcam_witness_detector_2025-07-01_000311.jpg</a>"
      ],
      "text/plain": [
       "<IPython.core.display.HTML object>"
      ]
     },
     "metadata": {},
     "output_type": "display_data"
    },
    {
     "data": {
      "text/html": [
       "<br>"
      ],
      "text/plain": [
       "<IPython.core.display.HTML object>"
      ]
     },
     "metadata": {},
     "output_type": "display_data"
    },
    {
     "data": {
      "text/html": [
       "<div>\n",
       "<style scoped>\n",
       "    .dataframe tbody tr th:only-of-type {\n",
       "        vertical-align: middle;\n",
       "    }\n",
       "\n",
       "    .dataframe tbody tr th {\n",
       "        vertical-align: top;\n",
       "    }\n",
       "\n",
       "    .dataframe thead th {\n",
       "        text-align: right;\n",
       "    }\n",
       "</style>\n",
       "<table border=\"1\" class=\"dataframe\">\n",
       "  <thead>\n",
       "    <tr style=\"text-align: right;\">\n",
       "      <th></th>\n",
       "      <th>visit_id</th>\n",
       "      <th>day_obs</th>\n",
       "      <th>seq_num</th>\n",
       "      <th>time_target</th>\n",
       "      <th>time_observation</th>\n",
       "      <th>obs_start</th>\n",
       "      <th>scriptSalIndex</th>\n",
       "      <th>target_name</th>\n",
       "      <th>s_ra</th>\n",
       "      <th>s_dec</th>\n",
       "      <th>sky_rotation</th>\n",
       "      <th>band</th>\n",
       "      <th>psf_sigma_median</th>\n",
       "      <th>zero_point_1s</th>\n",
       "      <th>zero_point_1s_pred</th>\n",
       "      <th>clouds</th>\n",
       "      <th>science_program</th>\n",
       "      <th>target_name</th>\n",
       "    </tr>\n",
       "  </thead>\n",
       "  <tbody>\n",
       "    <tr>\n",
       "      <th>190</th>\n",
       "      <td>2025070100312</td>\n",
       "      <td>20250701</td>\n",
       "      <td>312</td>\n",
       "      <td>2025-07-02 02:02:59.780948+00:00</td>\n",
       "      <td>2025-07-02 02:04:24.241912+00:00</td>\n",
       "      <td>2025-07-02T02:04:29.418000</td>\n",
       "      <td>110369</td>\n",
       "      <td>dusty_plane</td>\n",
       "      <td>250.681845</td>\n",
       "      <td>-12.552411</td>\n",
       "      <td>80.009287</td>\n",
       "      <td>z</td>\n",
       "      <td>2.118577</td>\n",
       "      <td>26.005179</td>\n",
       "      <td>27.873556</td>\n",
       "      <td>-1.868378</td>\n",
       "      <td>BLOCK-365</td>\n",
       "      <td>dusty_plane</td>\n",
       "    </tr>\n",
       "  </tbody>\n",
       "</table>\n",
       "</div>"
      ],
      "text/plain": [
       "          visit_id   day_obs seq_num                       time_target  \\\n",
       "190  2025070100312  20250701     312  2025-07-02 02:02:59.780948+00:00   \n",
       "\n",
       "                     time_observation                   obs_start  \\\n",
       "190  2025-07-02 02:04:24.241912+00:00  2025-07-02T02:04:29.418000   \n",
       "\n",
       "    scriptSalIndex  target_name        s_ra      s_dec sky_rotation band  \\\n",
       "190         110369  dusty_plane  250.681845 -12.552411    80.009287    z   \n",
       "\n",
       "    psf_sigma_median zero_point_1s zero_point_1s_pred    clouds  \\\n",
       "190         2.118577     26.005179          27.873556 -1.868378   \n",
       "\n",
       "    science_program  target_name  \n",
       "190       BLOCK-365  dusty_plane  "
      ]
     },
     "metadata": {},
     "output_type": "display_data"
    },
    {
     "name": "stdout",
     "output_type": "stream",
     "text": [
      "IMG_TYPE science. Flags: big zeropoint offset.\n"
     ]
    },
    {
     "data": {
      "text/html": [
       "<a href=\"https://usdf-rsp.slac.stanford.edu/rubintv/summit-usdf/lsstcam/event?key=lsstcam/2025-07-01/calexp_mosaic/000312/lsstcam_calexp_mosaic_2025-07-01_000312.jpg\" target=\"_blank\" rel=\"noreferrer noopener\">https://usdf-rsp.slac.stanford.edu/rubintv/summit-usdf/lsstcam/event?key=lsstcam/2025-07-01/calexp_mosaic/000312/lsstcam_calexp_mosaic_2025-07-01_000312.jpg</a>"
      ],
      "text/plain": [
       "<IPython.core.display.HTML object>"
      ]
     },
     "metadata": {},
     "output_type": "display_data"
    },
    {
     "data": {
      "text/html": [
       "<a href=\"https://usdf-rsp.slac.stanford.edu/rubintv/summit-usdf/lsstcam/event?key=lsstcam/2025-07-01/witness_detector/000312/lsstcam_witness_detector_2025-07-01_000312.jpg\" target=\"_blank\" rel=\"noreferrer noopener\">https://usdf-rsp.slac.stanford.edu/rubintv/summit-usdf/lsstcam/event?key=lsstcam/2025-07-01/witness_detector/000312/lsstcam_witness_detector_2025-07-01_000312.jpg</a>"
      ],
      "text/plain": [
       "<IPython.core.display.HTML object>"
      ]
     },
     "metadata": {},
     "output_type": "display_data"
    },
    {
     "data": {
      "text/html": [
       "<br>"
      ],
      "text/plain": [
       "<IPython.core.display.HTML object>"
      ]
     },
     "metadata": {},
     "output_type": "display_data"
    },
    {
     "data": {
      "text/html": [
       "<div>\n",
       "<style scoped>\n",
       "    .dataframe tbody tr th:only-of-type {\n",
       "        vertical-align: middle;\n",
       "    }\n",
       "\n",
       "    .dataframe tbody tr th {\n",
       "        vertical-align: top;\n",
       "    }\n",
       "\n",
       "    .dataframe thead th {\n",
       "        text-align: right;\n",
       "    }\n",
       "</style>\n",
       "<table border=\"1\" class=\"dataframe\">\n",
       "  <thead>\n",
       "    <tr style=\"text-align: right;\">\n",
       "      <th></th>\n",
       "      <th>visit_id</th>\n",
       "      <th>day_obs</th>\n",
       "      <th>seq_num</th>\n",
       "      <th>time_target</th>\n",
       "      <th>time_observation</th>\n",
       "      <th>obs_start</th>\n",
       "      <th>scriptSalIndex</th>\n",
       "      <th>target_name</th>\n",
       "      <th>s_ra</th>\n",
       "      <th>s_dec</th>\n",
       "      <th>sky_rotation</th>\n",
       "      <th>band</th>\n",
       "      <th>psf_sigma_median</th>\n",
       "      <th>zero_point_1s</th>\n",
       "      <th>zero_point_1s_pred</th>\n",
       "      <th>clouds</th>\n",
       "      <th>science_program</th>\n",
       "      <th>target_name</th>\n",
       "    </tr>\n",
       "  </thead>\n",
       "  <tbody>\n",
       "    <tr>\n",
       "      <th>191</th>\n",
       "      <td>2025070100313</td>\n",
       "      <td>20250701</td>\n",
       "      <td>313</td>\n",
       "      <td>2025-07-02 02:03:44.154097+00:00</td>\n",
       "      <td>2025-07-02 02:05:06.436559+00:00</td>\n",
       "      <td>2025-07-02T02:05:11.927000</td>\n",
       "      <td>110370</td>\n",
       "      <td>dusty_plane</td>\n",
       "      <td>247.723343</td>\n",
       "      <td>-13.266238</td>\n",
       "      <td>74.386734</td>\n",
       "      <td>z</td>\n",
       "      <td>2.222298</td>\n",
       "      <td>26.173189</td>\n",
       "      <td>27.874253</td>\n",
       "      <td>-1.701064</td>\n",
       "      <td>BLOCK-365</td>\n",
       "      <td>dusty_plane</td>\n",
       "    </tr>\n",
       "  </tbody>\n",
       "</table>\n",
       "</div>"
      ],
      "text/plain": [
       "          visit_id   day_obs seq_num                       time_target  \\\n",
       "191  2025070100313  20250701     313  2025-07-02 02:03:44.154097+00:00   \n",
       "\n",
       "                     time_observation                   obs_start  \\\n",
       "191  2025-07-02 02:05:06.436559+00:00  2025-07-02T02:05:11.927000   \n",
       "\n",
       "    scriptSalIndex  target_name        s_ra      s_dec sky_rotation band  \\\n",
       "191         110370  dusty_plane  247.723343 -13.266238    74.386734    z   \n",
       "\n",
       "    psf_sigma_median zero_point_1s zero_point_1s_pred    clouds  \\\n",
       "191         2.222298     26.173189          27.874253 -1.701064   \n",
       "\n",
       "    science_program  target_name  \n",
       "191       BLOCK-365  dusty_plane  "
      ]
     },
     "metadata": {},
     "output_type": "display_data"
    },
    {
     "name": "stdout",
     "output_type": "stream",
     "text": [
      "IMG_TYPE science. Flags: big zeropoint offset.\n"
     ]
    },
    {
     "data": {
      "text/html": [
       "<a href=\"https://usdf-rsp.slac.stanford.edu/rubintv/summit-usdf/lsstcam/event?key=lsstcam/2025-07-01/calexp_mosaic/000313/lsstcam_calexp_mosaic_2025-07-01_000313.jpg\" target=\"_blank\" rel=\"noreferrer noopener\">https://usdf-rsp.slac.stanford.edu/rubintv/summit-usdf/lsstcam/event?key=lsstcam/2025-07-01/calexp_mosaic/000313/lsstcam_calexp_mosaic_2025-07-01_000313.jpg</a>"
      ],
      "text/plain": [
       "<IPython.core.display.HTML object>"
      ]
     },
     "metadata": {},
     "output_type": "display_data"
    },
    {
     "data": {
      "text/html": [
       "<a href=\"https://usdf-rsp.slac.stanford.edu/rubintv/summit-usdf/lsstcam/event?key=lsstcam/2025-07-01/witness_detector/000313/lsstcam_witness_detector_2025-07-01_000313.jpg\" target=\"_blank\" rel=\"noreferrer noopener\">https://usdf-rsp.slac.stanford.edu/rubintv/summit-usdf/lsstcam/event?key=lsstcam/2025-07-01/witness_detector/000313/lsstcam_witness_detector_2025-07-01_000313.jpg</a>"
      ],
      "text/plain": [
       "<IPython.core.display.HTML object>"
      ]
     },
     "metadata": {},
     "output_type": "display_data"
    },
    {
     "data": {
      "text/html": [
       "<br>"
      ],
      "text/plain": [
       "<IPython.core.display.HTML object>"
      ]
     },
     "metadata": {},
     "output_type": "display_data"
    },
    {
     "data": {
      "text/html": [
       "<div>\n",
       "<style scoped>\n",
       "    .dataframe tbody tr th:only-of-type {\n",
       "        vertical-align: middle;\n",
       "    }\n",
       "\n",
       "    .dataframe tbody tr th {\n",
       "        vertical-align: top;\n",
       "    }\n",
       "\n",
       "    .dataframe thead th {\n",
       "        text-align: right;\n",
       "    }\n",
       "</style>\n",
       "<table border=\"1\" class=\"dataframe\">\n",
       "  <thead>\n",
       "    <tr style=\"text-align: right;\">\n",
       "      <th></th>\n",
       "      <th>visit_id</th>\n",
       "      <th>day_obs</th>\n",
       "      <th>seq_num</th>\n",
       "      <th>time_target</th>\n",
       "      <th>time_observation</th>\n",
       "      <th>obs_start</th>\n",
       "      <th>scriptSalIndex</th>\n",
       "      <th>target_name</th>\n",
       "      <th>s_ra</th>\n",
       "      <th>s_dec</th>\n",
       "      <th>sky_rotation</th>\n",
       "      <th>band</th>\n",
       "      <th>psf_sigma_median</th>\n",
       "      <th>zero_point_1s</th>\n",
       "      <th>zero_point_1s_pred</th>\n",
       "      <th>clouds</th>\n",
       "      <th>science_program</th>\n",
       "      <th>target_name</th>\n",
       "    </tr>\n",
       "  </thead>\n",
       "  <tbody>\n",
       "    <tr>\n",
       "      <th>192</th>\n",
       "      <td>2025070100314</td>\n",
       "      <td>20250701</td>\n",
       "      <td>314</td>\n",
       "      <td>2025-07-02 02:04:25.331010+00:00</td>\n",
       "      <td>2025-07-02 02:05:46.584059+00:00</td>\n",
       "      <td>2025-07-02T02:05:52.071000</td>\n",
       "      <td>110371</td>\n",
       "      <td>dusty_plane</td>\n",
       "      <td>248.271339</td>\n",
       "      <td>-10.449759</td>\n",
       "      <td>72.61798</td>\n",
       "      <td>z</td>\n",
       "      <td>1.697984</td>\n",
       "      <td>25.809417</td>\n",
       "      <td>27.873206</td>\n",
       "      <td>-2.063789</td>\n",
       "      <td>BLOCK-365</td>\n",
       "      <td>dusty_plane</td>\n",
       "    </tr>\n",
       "  </tbody>\n",
       "</table>\n",
       "</div>"
      ],
      "text/plain": [
       "          visit_id   day_obs seq_num                       time_target  \\\n",
       "192  2025070100314  20250701     314  2025-07-02 02:04:25.331010+00:00   \n",
       "\n",
       "                     time_observation                   obs_start  \\\n",
       "192  2025-07-02 02:05:46.584059+00:00  2025-07-02T02:05:52.071000   \n",
       "\n",
       "    scriptSalIndex  target_name        s_ra      s_dec sky_rotation band  \\\n",
       "192         110371  dusty_plane  248.271339 -10.449759     72.61798    z   \n",
       "\n",
       "    psf_sigma_median zero_point_1s zero_point_1s_pred    clouds  \\\n",
       "192         1.697984     25.809417          27.873206 -2.063789   \n",
       "\n",
       "    science_program  target_name  \n",
       "192       BLOCK-365  dusty_plane  "
      ]
     },
     "metadata": {},
     "output_type": "display_data"
    },
    {
     "name": "stdout",
     "output_type": "stream",
     "text": [
      "IMG_TYPE science. Flags: big zeropoint offset.\n"
     ]
    },
    {
     "data": {
      "text/html": [
       "<a href=\"https://usdf-rsp.slac.stanford.edu/rubintv/summit-usdf/lsstcam/event?key=lsstcam/2025-07-01/calexp_mosaic/000314/lsstcam_calexp_mosaic_2025-07-01_000314.jpg\" target=\"_blank\" rel=\"noreferrer noopener\">https://usdf-rsp.slac.stanford.edu/rubintv/summit-usdf/lsstcam/event?key=lsstcam/2025-07-01/calexp_mosaic/000314/lsstcam_calexp_mosaic_2025-07-01_000314.jpg</a>"
      ],
      "text/plain": [
       "<IPython.core.display.HTML object>"
      ]
     },
     "metadata": {},
     "output_type": "display_data"
    },
    {
     "data": {
      "text/html": [
       "<a href=\"https://usdf-rsp.slac.stanford.edu/rubintv/summit-usdf/lsstcam/event?key=lsstcam/2025-07-01/witness_detector/000314/lsstcam_witness_detector_2025-07-01_000314.jpg\" target=\"_blank\" rel=\"noreferrer noopener\">https://usdf-rsp.slac.stanford.edu/rubintv/summit-usdf/lsstcam/event?key=lsstcam/2025-07-01/witness_detector/000314/lsstcam_witness_detector_2025-07-01_000314.jpg</a>"
      ],
      "text/plain": [
       "<IPython.core.display.HTML object>"
      ]
     },
     "metadata": {},
     "output_type": "display_data"
    },
    {
     "data": {
      "text/html": [
       "<br>"
      ],
      "text/plain": [
       "<IPython.core.display.HTML object>"
      ]
     },
     "metadata": {},
     "output_type": "display_data"
    },
    {
     "data": {
      "text/html": [
       "<div>\n",
       "<style scoped>\n",
       "    .dataframe tbody tr th:only-of-type {\n",
       "        vertical-align: middle;\n",
       "    }\n",
       "\n",
       "    .dataframe tbody tr th {\n",
       "        vertical-align: top;\n",
       "    }\n",
       "\n",
       "    .dataframe thead th {\n",
       "        text-align: right;\n",
       "    }\n",
       "</style>\n",
       "<table border=\"1\" class=\"dataframe\">\n",
       "  <thead>\n",
       "    <tr style=\"text-align: right;\">\n",
       "      <th></th>\n",
       "      <th>visit_id</th>\n",
       "      <th>day_obs</th>\n",
       "      <th>seq_num</th>\n",
       "      <th>time_target</th>\n",
       "      <th>time_observation</th>\n",
       "      <th>obs_start</th>\n",
       "      <th>scriptSalIndex</th>\n",
       "      <th>target_name</th>\n",
       "      <th>s_ra</th>\n",
       "      <th>s_dec</th>\n",
       "      <th>sky_rotation</th>\n",
       "      <th>band</th>\n",
       "      <th>psf_sigma_median</th>\n",
       "      <th>zero_point_1s</th>\n",
       "      <th>zero_point_1s_pred</th>\n",
       "      <th>clouds</th>\n",
       "      <th>science_program</th>\n",
       "      <th>target_name</th>\n",
       "    </tr>\n",
       "  </thead>\n",
       "  <tbody>\n",
       "    <tr>\n",
       "      <th>193</th>\n",
       "      <td>2025070100315</td>\n",
       "      <td>20250701</td>\n",
       "      <td>315</td>\n",
       "      <td>2025-07-02 02:05:07.489571+00:00</td>\n",
       "      <td>2025-07-02 02:06:30.969097+00:00</td>\n",
       "      <td>2025-07-02T02:06:36.326000</td>\n",
       "      <td>110372</td>\n",
       "      <td>dusty_plane</td>\n",
       "      <td>245.28041</td>\n",
       "      <td>-11.173253</td>\n",
       "      <td>66.472565</td>\n",
       "      <td>z</td>\n",
       "      <td>1.665424</td>\n",
       "      <td>26.106366</td>\n",
       "      <td>27.873806</td>\n",
       "      <td>-1.76744</td>\n",
       "      <td>BLOCK-365</td>\n",
       "      <td>dusty_plane</td>\n",
       "    </tr>\n",
       "  </tbody>\n",
       "</table>\n",
       "</div>"
      ],
      "text/plain": [
       "          visit_id   day_obs seq_num                       time_target  \\\n",
       "193  2025070100315  20250701     315  2025-07-02 02:05:07.489571+00:00   \n",
       "\n",
       "                     time_observation                   obs_start  \\\n",
       "193  2025-07-02 02:06:30.969097+00:00  2025-07-02T02:06:36.326000   \n",
       "\n",
       "    scriptSalIndex  target_name       s_ra      s_dec sky_rotation band  \\\n",
       "193         110372  dusty_plane  245.28041 -11.173253    66.472565    z   \n",
       "\n",
       "    psf_sigma_median zero_point_1s zero_point_1s_pred   clouds  \\\n",
       "193         1.665424     26.106366          27.873806 -1.76744   \n",
       "\n",
       "    science_program  target_name  \n",
       "193       BLOCK-365  dusty_plane  "
      ]
     },
     "metadata": {},
     "output_type": "display_data"
    },
    {
     "name": "stdout",
     "output_type": "stream",
     "text": [
      "IMG_TYPE science. Flags: big zeropoint offset.\n"
     ]
    },
    {
     "data": {
      "text/html": [
       "<a href=\"https://usdf-rsp.slac.stanford.edu/rubintv/summit-usdf/lsstcam/event?key=lsstcam/2025-07-01/calexp_mosaic/000315/lsstcam_calexp_mosaic_2025-07-01_000315.jpg\" target=\"_blank\" rel=\"noreferrer noopener\">https://usdf-rsp.slac.stanford.edu/rubintv/summit-usdf/lsstcam/event?key=lsstcam/2025-07-01/calexp_mosaic/000315/lsstcam_calexp_mosaic_2025-07-01_000315.jpg</a>"
      ],
      "text/plain": [
       "<IPython.core.display.HTML object>"
      ]
     },
     "metadata": {},
     "output_type": "display_data"
    },
    {
     "data": {
      "text/html": [
       "<a href=\"https://usdf-rsp.slac.stanford.edu/rubintv/summit-usdf/lsstcam/event?key=lsstcam/2025-07-01/witness_detector/000315/lsstcam_witness_detector_2025-07-01_000315.jpg\" target=\"_blank\" rel=\"noreferrer noopener\">https://usdf-rsp.slac.stanford.edu/rubintv/summit-usdf/lsstcam/event?key=lsstcam/2025-07-01/witness_detector/000315/lsstcam_witness_detector_2025-07-01_000315.jpg</a>"
      ],
      "text/plain": [
       "<IPython.core.display.HTML object>"
      ]
     },
     "metadata": {},
     "output_type": "display_data"
    },
    {
     "data": {
      "text/html": [
       "<br>"
      ],
      "text/plain": [
       "<IPython.core.display.HTML object>"
      ]
     },
     "metadata": {},
     "output_type": "display_data"
    },
    {
     "data": {
      "text/html": [
       "<div>\n",
       "<style scoped>\n",
       "    .dataframe tbody tr th:only-of-type {\n",
       "        vertical-align: middle;\n",
       "    }\n",
       "\n",
       "    .dataframe tbody tr th {\n",
       "        vertical-align: top;\n",
       "    }\n",
       "\n",
       "    .dataframe thead th {\n",
       "        text-align: right;\n",
       "    }\n",
       "</style>\n",
       "<table border=\"1\" class=\"dataframe\">\n",
       "  <thead>\n",
       "    <tr style=\"text-align: right;\">\n",
       "      <th></th>\n",
       "      <th>visit_id</th>\n",
       "      <th>day_obs</th>\n",
       "      <th>seq_num</th>\n",
       "      <th>time_target</th>\n",
       "      <th>time_observation</th>\n",
       "      <th>obs_start</th>\n",
       "      <th>scriptSalIndex</th>\n",
       "      <th>target_name</th>\n",
       "      <th>s_ra</th>\n",
       "      <th>s_dec</th>\n",
       "      <th>sky_rotation</th>\n",
       "      <th>band</th>\n",
       "      <th>psf_sigma_median</th>\n",
       "      <th>zero_point_1s</th>\n",
       "      <th>zero_point_1s_pred</th>\n",
       "      <th>clouds</th>\n",
       "      <th>science_program</th>\n",
       "      <th>target_name</th>\n",
       "    </tr>\n",
       "  </thead>\n",
       "  <tbody>\n",
       "    <tr>\n",
       "      <th>202</th>\n",
       "      <td>2025070100324</td>\n",
       "      <td>20250701</td>\n",
       "      <td>324</td>\n",
       "      <td>2025-07-02 02:12:08.944967+00:00</td>\n",
       "      <td>2025-07-02 02:13:27.439559+00:00</td>\n",
       "      <td>2025-07-02T02:13:32.466000</td>\n",
       "      <td>110381</td>\n",
       "      <td>bulgy</td>\n",
       "      <td>273.458131</td>\n",
       "      <td>-25.725358</td>\n",
       "      <td>123.985505</td>\n",
       "      <td>z</td>\n",
       "      <td>2.651205</td>\n",
       "      <td>25.857498</td>\n",
       "      <td>27.8699</td>\n",
       "      <td>-2.012401</td>\n",
       "      <td>BLOCK-365</td>\n",
       "      <td>bulgy</td>\n",
       "    </tr>\n",
       "  </tbody>\n",
       "</table>\n",
       "</div>"
      ],
      "text/plain": [
       "          visit_id   day_obs seq_num                       time_target  \\\n",
       "202  2025070100324  20250701     324  2025-07-02 02:12:08.944967+00:00   \n",
       "\n",
       "                     time_observation                   obs_start  \\\n",
       "202  2025-07-02 02:13:27.439559+00:00  2025-07-02T02:13:32.466000   \n",
       "\n",
       "    scriptSalIndex target_name        s_ra      s_dec sky_rotation band  \\\n",
       "202         110381       bulgy  273.458131 -25.725358   123.985505    z   \n",
       "\n",
       "    psf_sigma_median zero_point_1s zero_point_1s_pred    clouds  \\\n",
       "202         2.651205     25.857498            27.8699 -2.012401   \n",
       "\n",
       "    science_program target_name  \n",
       "202       BLOCK-365       bulgy  "
      ]
     },
     "metadata": {},
     "output_type": "display_data"
    },
    {
     "name": "stdout",
     "output_type": "stream",
     "text": [
      "IMG_TYPE science. Flags: big zeropoint offset.\n"
     ]
    },
    {
     "data": {
      "text/html": [
       "<a href=\"https://usdf-rsp.slac.stanford.edu/rubintv/summit-usdf/lsstcam/event?key=lsstcam/2025-07-01/calexp_mosaic/000324/lsstcam_calexp_mosaic_2025-07-01_000324.jpg\" target=\"_blank\" rel=\"noreferrer noopener\">https://usdf-rsp.slac.stanford.edu/rubintv/summit-usdf/lsstcam/event?key=lsstcam/2025-07-01/calexp_mosaic/000324/lsstcam_calexp_mosaic_2025-07-01_000324.jpg</a>"
      ],
      "text/plain": [
       "<IPython.core.display.HTML object>"
      ]
     },
     "metadata": {},
     "output_type": "display_data"
    },
    {
     "data": {
      "text/html": [
       "<a href=\"https://usdf-rsp.slac.stanford.edu/rubintv/summit-usdf/lsstcam/event?key=lsstcam/2025-07-01/witness_detector/000324/lsstcam_witness_detector_2025-07-01_000324.jpg\" target=\"_blank\" rel=\"noreferrer noopener\">https://usdf-rsp.slac.stanford.edu/rubintv/summit-usdf/lsstcam/event?key=lsstcam/2025-07-01/witness_detector/000324/lsstcam_witness_detector_2025-07-01_000324.jpg</a>"
      ],
      "text/plain": [
       "<IPython.core.display.HTML object>"
      ]
     },
     "metadata": {},
     "output_type": "display_data"
    },
    {
     "data": {
      "text/html": [
       "<br>"
      ],
      "text/plain": [
       "<IPython.core.display.HTML object>"
      ]
     },
     "metadata": {},
     "output_type": "display_data"
    },
    {
     "data": {
      "text/html": [
       "<div>\n",
       "<style scoped>\n",
       "    .dataframe tbody tr th:only-of-type {\n",
       "        vertical-align: middle;\n",
       "    }\n",
       "\n",
       "    .dataframe tbody tr th {\n",
       "        vertical-align: top;\n",
       "    }\n",
       "\n",
       "    .dataframe thead th {\n",
       "        text-align: right;\n",
       "    }\n",
       "</style>\n",
       "<table border=\"1\" class=\"dataframe\">\n",
       "  <thead>\n",
       "    <tr style=\"text-align: right;\">\n",
       "      <th></th>\n",
       "      <th>visit_id</th>\n",
       "      <th>day_obs</th>\n",
       "      <th>seq_num</th>\n",
       "      <th>time_target</th>\n",
       "      <th>time_observation</th>\n",
       "      <th>obs_start</th>\n",
       "      <th>scriptSalIndex</th>\n",
       "      <th>target_name</th>\n",
       "      <th>s_ra</th>\n",
       "      <th>s_dec</th>\n",
       "      <th>sky_rotation</th>\n",
       "      <th>band</th>\n",
       "      <th>psf_sigma_median</th>\n",
       "      <th>zero_point_1s</th>\n",
       "      <th>zero_point_1s_pred</th>\n",
       "      <th>clouds</th>\n",
       "      <th>science_program</th>\n",
       "      <th>target_name</th>\n",
       "    </tr>\n",
       "  </thead>\n",
       "  <tbody>\n",
       "    <tr>\n",
       "      <th>203</th>\n",
       "      <td>2025070100325</td>\n",
       "      <td>20250701</td>\n",
       "      <td>325</td>\n",
       "      <td>2025-07-02 02:12:49.343714+00:00</td>\n",
       "      <td>2025-07-02 02:14:13.629627+00:00</td>\n",
       "      <td>2025-07-02T02:14:19.348000</td>\n",
       "      <td>110382</td>\n",
       "      <td>bulgy</td>\n",
       "      <td>276.106789</td>\n",
       "      <td>-30.768424</td>\n",
       "      <td>131.710021</td>\n",
       "      <td>z</td>\n",
       "      <td>2.422596</td>\n",
       "      <td>25.338324</td>\n",
       "      <td>27.869249</td>\n",
       "      <td>-2.530925</td>\n",
       "      <td>BLOCK-365</td>\n",
       "      <td>bulgy</td>\n",
       "    </tr>\n",
       "  </tbody>\n",
       "</table>\n",
       "</div>"
      ],
      "text/plain": [
       "          visit_id   day_obs seq_num                       time_target  \\\n",
       "203  2025070100325  20250701     325  2025-07-02 02:12:49.343714+00:00   \n",
       "\n",
       "                     time_observation                   obs_start  \\\n",
       "203  2025-07-02 02:14:13.629627+00:00  2025-07-02T02:14:19.348000   \n",
       "\n",
       "    scriptSalIndex target_name        s_ra      s_dec sky_rotation band  \\\n",
       "203         110382       bulgy  276.106789 -30.768424   131.710021    z   \n",
       "\n",
       "    psf_sigma_median zero_point_1s zero_point_1s_pred    clouds  \\\n",
       "203         2.422596     25.338324          27.869249 -2.530925   \n",
       "\n",
       "    science_program target_name  \n",
       "203       BLOCK-365       bulgy  "
      ]
     },
     "metadata": {},
     "output_type": "display_data"
    },
    {
     "name": "stdout",
     "output_type": "stream",
     "text": [
      "IMG_TYPE science. Flags: big zeropoint offset.\n"
     ]
    },
    {
     "data": {
      "text/html": [
       "<a href=\"https://usdf-rsp.slac.stanford.edu/rubintv/summit-usdf/lsstcam/event?key=lsstcam/2025-07-01/calexp_mosaic/000325/lsstcam_calexp_mosaic_2025-07-01_000325.jpg\" target=\"_blank\" rel=\"noreferrer noopener\">https://usdf-rsp.slac.stanford.edu/rubintv/summit-usdf/lsstcam/event?key=lsstcam/2025-07-01/calexp_mosaic/000325/lsstcam_calexp_mosaic_2025-07-01_000325.jpg</a>"
      ],
      "text/plain": [
       "<IPython.core.display.HTML object>"
      ]
     },
     "metadata": {},
     "output_type": "display_data"
    },
    {
     "data": {
      "text/html": [
       "<a href=\"https://usdf-rsp.slac.stanford.edu/rubintv/summit-usdf/lsstcam/event?key=lsstcam/2025-07-01/witness_detector/000325/lsstcam_witness_detector_2025-07-01_000325.jpg\" target=\"_blank\" rel=\"noreferrer noopener\">https://usdf-rsp.slac.stanford.edu/rubintv/summit-usdf/lsstcam/event?key=lsstcam/2025-07-01/witness_detector/000325/lsstcam_witness_detector_2025-07-01_000325.jpg</a>"
      ],
      "text/plain": [
       "<IPython.core.display.HTML object>"
      ]
     },
     "metadata": {},
     "output_type": "display_data"
    },
    {
     "data": {
      "text/html": [
       "<br>"
      ],
      "text/plain": [
       "<IPython.core.display.HTML object>"
      ]
     },
     "metadata": {},
     "output_type": "display_data"
    },
    {
     "data": {
      "text/html": [
       "<div>\n",
       "<style scoped>\n",
       "    .dataframe tbody tr th:only-of-type {\n",
       "        vertical-align: middle;\n",
       "    }\n",
       "\n",
       "    .dataframe tbody tr th {\n",
       "        vertical-align: top;\n",
       "    }\n",
       "\n",
       "    .dataframe thead th {\n",
       "        text-align: right;\n",
       "    }\n",
       "</style>\n",
       "<table border=\"1\" class=\"dataframe\">\n",
       "  <thead>\n",
       "    <tr style=\"text-align: right;\">\n",
       "      <th></th>\n",
       "      <th>visit_id</th>\n",
       "      <th>day_obs</th>\n",
       "      <th>seq_num</th>\n",
       "      <th>time_target</th>\n",
       "      <th>time_observation</th>\n",
       "      <th>obs_start</th>\n",
       "      <th>scriptSalIndex</th>\n",
       "      <th>target_name</th>\n",
       "      <th>s_ra</th>\n",
       "      <th>s_dec</th>\n",
       "      <th>sky_rotation</th>\n",
       "      <th>band</th>\n",
       "      <th>psf_sigma_median</th>\n",
       "      <th>zero_point_1s</th>\n",
       "      <th>zero_point_1s_pred</th>\n",
       "      <th>clouds</th>\n",
       "      <th>science_program</th>\n",
       "      <th>target_name</th>\n",
       "    </tr>\n",
       "  </thead>\n",
       "  <tbody>\n",
       "    <tr>\n",
       "      <th>204</th>\n",
       "      <td>2025070100326</td>\n",
       "      <td>20250701</td>\n",
       "      <td>326</td>\n",
       "      <td>2025-07-02 02:13:28.513332+00:00</td>\n",
       "      <td>2025-07-02 02:14:56.025870+00:00</td>\n",
       "      <td>2025-07-02T02:15:00.997000</td>\n",
       "      <td>110383</td>\n",
       "      <td>lowdust</td>\n",
       "      <td>276.012053</td>\n",
       "      <td>-33.819809</td>\n",
       "      <td>136.680711</td>\n",
       "      <td>z</td>\n",
       "      <td>2.550913</td>\n",
       "      <td>25.168473</td>\n",
       "      <td>27.869542</td>\n",
       "      <td>-2.701069</td>\n",
       "      <td>BLOCK-365</td>\n",
       "      <td>lowdust</td>\n",
       "    </tr>\n",
       "  </tbody>\n",
       "</table>\n",
       "</div>"
      ],
      "text/plain": [
       "          visit_id   day_obs seq_num                       time_target  \\\n",
       "204  2025070100326  20250701     326  2025-07-02 02:13:28.513332+00:00   \n",
       "\n",
       "                     time_observation                   obs_start  \\\n",
       "204  2025-07-02 02:14:56.025870+00:00  2025-07-02T02:15:00.997000   \n",
       "\n",
       "    scriptSalIndex target_name        s_ra      s_dec sky_rotation band  \\\n",
       "204         110383     lowdust  276.012053 -33.819809   136.680711    z   \n",
       "\n",
       "    psf_sigma_median zero_point_1s zero_point_1s_pred    clouds  \\\n",
       "204         2.550913     25.168473          27.869542 -2.701069   \n",
       "\n",
       "    science_program target_name  \n",
       "204       BLOCK-365     lowdust  "
      ]
     },
     "metadata": {},
     "output_type": "display_data"
    },
    {
     "name": "stdout",
     "output_type": "stream",
     "text": [
      "IMG_TYPE science. Flags: big zeropoint offset.\n"
     ]
    },
    {
     "data": {
      "text/html": [
       "<a href=\"https://usdf-rsp.slac.stanford.edu/rubintv/summit-usdf/lsstcam/event?key=lsstcam/2025-07-01/calexp_mosaic/000326/lsstcam_calexp_mosaic_2025-07-01_000326.jpg\" target=\"_blank\" rel=\"noreferrer noopener\">https://usdf-rsp.slac.stanford.edu/rubintv/summit-usdf/lsstcam/event?key=lsstcam/2025-07-01/calexp_mosaic/000326/lsstcam_calexp_mosaic_2025-07-01_000326.jpg</a>"
      ],
      "text/plain": [
       "<IPython.core.display.HTML object>"
      ]
     },
     "metadata": {},
     "output_type": "display_data"
    },
    {
     "data": {
      "text/html": [
       "<a href=\"https://usdf-rsp.slac.stanford.edu/rubintv/summit-usdf/lsstcam/event?key=lsstcam/2025-07-01/witness_detector/000326/lsstcam_witness_detector_2025-07-01_000326.jpg\" target=\"_blank\" rel=\"noreferrer noopener\">https://usdf-rsp.slac.stanford.edu/rubintv/summit-usdf/lsstcam/event?key=lsstcam/2025-07-01/witness_detector/000326/lsstcam_witness_detector_2025-07-01_000326.jpg</a>"
      ],
      "text/plain": [
       "<IPython.core.display.HTML object>"
      ]
     },
     "metadata": {},
     "output_type": "display_data"
    },
    {
     "data": {
      "text/html": [
       "<br>"
      ],
      "text/plain": [
       "<IPython.core.display.HTML object>"
      ]
     },
     "metadata": {},
     "output_type": "display_data"
    },
    {
     "data": {
      "text/html": [
       "<div>\n",
       "<style scoped>\n",
       "    .dataframe tbody tr th:only-of-type {\n",
       "        vertical-align: middle;\n",
       "    }\n",
       "\n",
       "    .dataframe tbody tr th {\n",
       "        vertical-align: top;\n",
       "    }\n",
       "\n",
       "    .dataframe thead th {\n",
       "        text-align: right;\n",
       "    }\n",
       "</style>\n",
       "<table border=\"1\" class=\"dataframe\">\n",
       "  <thead>\n",
       "    <tr style=\"text-align: right;\">\n",
       "      <th></th>\n",
       "      <th>visit_id</th>\n",
       "      <th>day_obs</th>\n",
       "      <th>seq_num</th>\n",
       "      <th>time_target</th>\n",
       "      <th>time_observation</th>\n",
       "      <th>obs_start</th>\n",
       "      <th>scriptSalIndex</th>\n",
       "      <th>target_name</th>\n",
       "      <th>s_ra</th>\n",
       "      <th>s_dec</th>\n",
       "      <th>sky_rotation</th>\n",
       "      <th>band</th>\n",
       "      <th>psf_sigma_median</th>\n",
       "      <th>zero_point_1s</th>\n",
       "      <th>zero_point_1s_pred</th>\n",
       "      <th>clouds</th>\n",
       "      <th>science_program</th>\n",
       "      <th>target_name</th>\n",
       "    </tr>\n",
       "  </thead>\n",
       "  <tbody>\n",
       "    <tr>\n",
       "      <th>205</th>\n",
       "      <td>2025070100327</td>\n",
       "      <td>20250701</td>\n",
       "      <td>327</td>\n",
       "      <td>2025-07-02 02:14:14.914676+00:00</td>\n",
       "      <td>2025-07-02 02:15:36.191166+00:00</td>\n",
       "      <td>2025-07-02T02:15:41.429000</td>\n",
       "      <td>110384</td>\n",
       "      <td>lowdust</td>\n",
       "      <td>279.11643</td>\n",
       "      <td>-32.608172</td>\n",
       "      <td>133.482978</td>\n",
       "      <td>z</td>\n",
       "      <td>2.700543</td>\n",
       "      <td>24.934944</td>\n",
       "      <td>27.867903</td>\n",
       "      <td>-2.932959</td>\n",
       "      <td>BLOCK-365</td>\n",
       "      <td>lowdust</td>\n",
       "    </tr>\n",
       "  </tbody>\n",
       "</table>\n",
       "</div>"
      ],
      "text/plain": [
       "          visit_id   day_obs seq_num                       time_target  \\\n",
       "205  2025070100327  20250701     327  2025-07-02 02:14:14.914676+00:00   \n",
       "\n",
       "                     time_observation                   obs_start  \\\n",
       "205  2025-07-02 02:15:36.191166+00:00  2025-07-02T02:15:41.429000   \n",
       "\n",
       "    scriptSalIndex target_name       s_ra      s_dec sky_rotation band  \\\n",
       "205         110384     lowdust  279.11643 -32.608172   133.482978    z   \n",
       "\n",
       "    psf_sigma_median zero_point_1s zero_point_1s_pred    clouds  \\\n",
       "205         2.700543     24.934944          27.867903 -2.932959   \n",
       "\n",
       "    science_program target_name  \n",
       "205       BLOCK-365     lowdust  "
      ]
     },
     "metadata": {},
     "output_type": "display_data"
    },
    {
     "name": "stdout",
     "output_type": "stream",
     "text": [
      "IMG_TYPE science. Flags: big zeropoint offset.\n"
     ]
    },
    {
     "data": {
      "text/html": [
       "<a href=\"https://usdf-rsp.slac.stanford.edu/rubintv/summit-usdf/lsstcam/event?key=lsstcam/2025-07-01/calexp_mosaic/000327/lsstcam_calexp_mosaic_2025-07-01_000327.jpg\" target=\"_blank\" rel=\"noreferrer noopener\">https://usdf-rsp.slac.stanford.edu/rubintv/summit-usdf/lsstcam/event?key=lsstcam/2025-07-01/calexp_mosaic/000327/lsstcam_calexp_mosaic_2025-07-01_000327.jpg</a>"
      ],
      "text/plain": [
       "<IPython.core.display.HTML object>"
      ]
     },
     "metadata": {},
     "output_type": "display_data"
    },
    {
     "data": {
      "text/html": [
       "<a href=\"https://usdf-rsp.slac.stanford.edu/rubintv/summit-usdf/lsstcam/event?key=lsstcam/2025-07-01/witness_detector/000327/lsstcam_witness_detector_2025-07-01_000327.jpg\" target=\"_blank\" rel=\"noreferrer noopener\">https://usdf-rsp.slac.stanford.edu/rubintv/summit-usdf/lsstcam/event?key=lsstcam/2025-07-01/witness_detector/000327/lsstcam_witness_detector_2025-07-01_000327.jpg</a>"
      ],
      "text/plain": [
       "<IPython.core.display.HTML object>"
      ]
     },
     "metadata": {},
     "output_type": "display_data"
    },
    {
     "data": {
      "text/html": [
       "<br>"
      ],
      "text/plain": [
       "<IPython.core.display.HTML object>"
      ]
     },
     "metadata": {},
     "output_type": "display_data"
    },
    {
     "data": {
      "text/html": [
       "<div>\n",
       "<style scoped>\n",
       "    .dataframe tbody tr th:only-of-type {\n",
       "        vertical-align: middle;\n",
       "    }\n",
       "\n",
       "    .dataframe tbody tr th {\n",
       "        vertical-align: top;\n",
       "    }\n",
       "\n",
       "    .dataframe thead th {\n",
       "        text-align: right;\n",
       "    }\n",
       "</style>\n",
       "<table border=\"1\" class=\"dataframe\">\n",
       "  <thead>\n",
       "    <tr style=\"text-align: right;\">\n",
       "      <th></th>\n",
       "      <th>visit_id</th>\n",
       "      <th>day_obs</th>\n",
       "      <th>seq_num</th>\n",
       "      <th>time_target</th>\n",
       "      <th>time_observation</th>\n",
       "      <th>obs_start</th>\n",
       "      <th>scriptSalIndex</th>\n",
       "      <th>target_name</th>\n",
       "      <th>s_ra</th>\n",
       "      <th>s_dec</th>\n",
       "      <th>sky_rotation</th>\n",
       "      <th>band</th>\n",
       "      <th>psf_sigma_median</th>\n",
       "      <th>zero_point_1s</th>\n",
       "      <th>zero_point_1s_pred</th>\n",
       "      <th>clouds</th>\n",
       "      <th>science_program</th>\n",
       "      <th>target_name</th>\n",
       "    </tr>\n",
       "  </thead>\n",
       "  <tbody>\n",
       "    <tr>\n",
       "      <th>206</th>\n",
       "      <td>2025070100328</td>\n",
       "      <td>20250701</td>\n",
       "      <td>328</td>\n",
       "      <td>2025-07-02 02:14:57.093575+00:00</td>\n",
       "      <td>2025-07-02 02:16:20.408615+00:00</td>\n",
       "      <td>2025-07-02T02:16:25.520000</td>\n",
       "      <td>110385</td>\n",
       "      <td>bulgy, lowdust</td>\n",
       "      <td>279.085144</td>\n",
       "      <td>-29.582619</td>\n",
       "      <td>129.114426</td>\n",
       "      <td>z</td>\n",
       "      <td>2.458467</td>\n",
       "      <td>25.871212</td>\n",
       "      <td>27.867747</td>\n",
       "      <td>-1.996535</td>\n",
       "      <td>BLOCK-365</td>\n",
       "      <td>bulgy, lowdust</td>\n",
       "    </tr>\n",
       "  </tbody>\n",
       "</table>\n",
       "</div>"
      ],
      "text/plain": [
       "          visit_id   day_obs seq_num                       time_target  \\\n",
       "206  2025070100328  20250701     328  2025-07-02 02:14:57.093575+00:00   \n",
       "\n",
       "                     time_observation                   obs_start  \\\n",
       "206  2025-07-02 02:16:20.408615+00:00  2025-07-02T02:16:25.520000   \n",
       "\n",
       "    scriptSalIndex     target_name        s_ra      s_dec sky_rotation band  \\\n",
       "206         110385  bulgy, lowdust  279.085144 -29.582619   129.114426    z   \n",
       "\n",
       "    psf_sigma_median zero_point_1s zero_point_1s_pred    clouds  \\\n",
       "206         2.458467     25.871212          27.867747 -1.996535   \n",
       "\n",
       "    science_program     target_name  \n",
       "206       BLOCK-365  bulgy, lowdust  "
      ]
     },
     "metadata": {},
     "output_type": "display_data"
    },
    {
     "name": "stdout",
     "output_type": "stream",
     "text": [
      "IMG_TYPE science. Flags: big zeropoint offset.\n"
     ]
    },
    {
     "data": {
      "text/html": [
       "<a href=\"https://usdf-rsp.slac.stanford.edu/rubintv/summit-usdf/lsstcam/event?key=lsstcam/2025-07-01/calexp_mosaic/000328/lsstcam_calexp_mosaic_2025-07-01_000328.jpg\" target=\"_blank\" rel=\"noreferrer noopener\">https://usdf-rsp.slac.stanford.edu/rubintv/summit-usdf/lsstcam/event?key=lsstcam/2025-07-01/calexp_mosaic/000328/lsstcam_calexp_mosaic_2025-07-01_000328.jpg</a>"
      ],
      "text/plain": [
       "<IPython.core.display.HTML object>"
      ]
     },
     "metadata": {},
     "output_type": "display_data"
    },
    {
     "data": {
      "text/html": [
       "<a href=\"https://usdf-rsp.slac.stanford.edu/rubintv/summit-usdf/lsstcam/event?key=lsstcam/2025-07-01/witness_detector/000328/lsstcam_witness_detector_2025-07-01_000328.jpg\" target=\"_blank\" rel=\"noreferrer noopener\">https://usdf-rsp.slac.stanford.edu/rubintv/summit-usdf/lsstcam/event?key=lsstcam/2025-07-01/witness_detector/000328/lsstcam_witness_detector_2025-07-01_000328.jpg</a>"
      ],
      "text/plain": [
       "<IPython.core.display.HTML object>"
      ]
     },
     "metadata": {},
     "output_type": "display_data"
    },
    {
     "data": {
      "text/html": [
       "<br>"
      ],
      "text/plain": [
       "<IPython.core.display.HTML object>"
      ]
     },
     "metadata": {},
     "output_type": "display_data"
    },
    {
     "data": {
      "text/html": [
       "<div>\n",
       "<style scoped>\n",
       "    .dataframe tbody tr th:only-of-type {\n",
       "        vertical-align: middle;\n",
       "    }\n",
       "\n",
       "    .dataframe tbody tr th {\n",
       "        vertical-align: top;\n",
       "    }\n",
       "\n",
       "    .dataframe thead th {\n",
       "        text-align: right;\n",
       "    }\n",
       "</style>\n",
       "<table border=\"1\" class=\"dataframe\">\n",
       "  <thead>\n",
       "    <tr style=\"text-align: right;\">\n",
       "      <th></th>\n",
       "      <th>visit_id</th>\n",
       "      <th>day_obs</th>\n",
       "      <th>seq_num</th>\n",
       "      <th>time_target</th>\n",
       "      <th>time_observation</th>\n",
       "      <th>obs_start</th>\n",
       "      <th>scriptSalIndex</th>\n",
       "      <th>target_name</th>\n",
       "      <th>s_ra</th>\n",
       "      <th>s_dec</th>\n",
       "      <th>sky_rotation</th>\n",
       "      <th>band</th>\n",
       "      <th>psf_sigma_median</th>\n",
       "      <th>zero_point_1s</th>\n",
       "      <th>zero_point_1s_pred</th>\n",
       "      <th>clouds</th>\n",
       "      <th>science_program</th>\n",
       "      <th>target_name</th>\n",
       "    </tr>\n",
       "  </thead>\n",
       "  <tbody>\n",
       "    <tr>\n",
       "      <th>207</th>\n",
       "      <td>2025070100329</td>\n",
       "      <td>20250701</td>\n",
       "      <td>329</td>\n",
       "      <td>2025-07-02 02:15:37.290579+00:00</td>\n",
       "      <td>2025-07-02 02:17:00.791018+00:00</td>\n",
       "      <td>2025-07-02T02:17:06.594000</td>\n",
       "      <td>110386</td>\n",
       "      <td>bulgy</td>\n",
       "      <td>279.066958</td>\n",
       "      <td>-26.529066</td>\n",
       "      <td>124.857516</td>\n",
       "      <td>z</td>\n",
       "      <td>2.02458</td>\n",
       "      <td>26.286476</td>\n",
       "      <td>27.867388</td>\n",
       "      <td>-1.580913</td>\n",
       "      <td>BLOCK-365</td>\n",
       "      <td>bulgy</td>\n",
       "    </tr>\n",
       "  </tbody>\n",
       "</table>\n",
       "</div>"
      ],
      "text/plain": [
       "          visit_id   day_obs seq_num                       time_target  \\\n",
       "207  2025070100329  20250701     329  2025-07-02 02:15:37.290579+00:00   \n",
       "\n",
       "                     time_observation                   obs_start  \\\n",
       "207  2025-07-02 02:17:00.791018+00:00  2025-07-02T02:17:06.594000   \n",
       "\n",
       "    scriptSalIndex target_name        s_ra      s_dec sky_rotation band  \\\n",
       "207         110386       bulgy  279.066958 -26.529066   124.857516    z   \n",
       "\n",
       "    psf_sigma_median zero_point_1s zero_point_1s_pred    clouds  \\\n",
       "207          2.02458     26.286476          27.867388 -1.580913   \n",
       "\n",
       "    science_program target_name  \n",
       "207       BLOCK-365       bulgy  "
      ]
     },
     "metadata": {},
     "output_type": "display_data"
    },
    {
     "name": "stdout",
     "output_type": "stream",
     "text": [
      "IMG_TYPE science. Flags: big zeropoint offset.\n"
     ]
    },
    {
     "data": {
      "text/html": [
       "<a href=\"https://usdf-rsp.slac.stanford.edu/rubintv/summit-usdf/lsstcam/event?key=lsstcam/2025-07-01/calexp_mosaic/000329/lsstcam_calexp_mosaic_2025-07-01_000329.jpg\" target=\"_blank\" rel=\"noreferrer noopener\">https://usdf-rsp.slac.stanford.edu/rubintv/summit-usdf/lsstcam/event?key=lsstcam/2025-07-01/calexp_mosaic/000329/lsstcam_calexp_mosaic_2025-07-01_000329.jpg</a>"
      ],
      "text/plain": [
       "<IPython.core.display.HTML object>"
      ]
     },
     "metadata": {},
     "output_type": "display_data"
    },
    {
     "data": {
      "text/html": [
       "<a href=\"https://usdf-rsp.slac.stanford.edu/rubintv/summit-usdf/lsstcam/event?key=lsstcam/2025-07-01/witness_detector/000329/lsstcam_witness_detector_2025-07-01_000329.jpg\" target=\"_blank\" rel=\"noreferrer noopener\">https://usdf-rsp.slac.stanford.edu/rubintv/summit-usdf/lsstcam/event?key=lsstcam/2025-07-01/witness_detector/000329/lsstcam_witness_detector_2025-07-01_000329.jpg</a>"
      ],
      "text/plain": [
       "<IPython.core.display.HTML object>"
      ]
     },
     "metadata": {},
     "output_type": "display_data"
    },
    {
     "data": {
      "text/html": [
       "<br>"
      ],
      "text/plain": [
       "<IPython.core.display.HTML object>"
      ]
     },
     "metadata": {},
     "output_type": "display_data"
    },
    {
     "data": {
      "text/html": [
       "<div>\n",
       "<style scoped>\n",
       "    .dataframe tbody tr th:only-of-type {\n",
       "        vertical-align: middle;\n",
       "    }\n",
       "\n",
       "    .dataframe tbody tr th {\n",
       "        vertical-align: top;\n",
       "    }\n",
       "\n",
       "    .dataframe thead th {\n",
       "        text-align: right;\n",
       "    }\n",
       "</style>\n",
       "<table border=\"1\" class=\"dataframe\">\n",
       "  <thead>\n",
       "    <tr style=\"text-align: right;\">\n",
       "      <th></th>\n",
       "      <th>visit_id</th>\n",
       "      <th>day_obs</th>\n",
       "      <th>seq_num</th>\n",
       "      <th>time_target</th>\n",
       "      <th>time_observation</th>\n",
       "      <th>obs_start</th>\n",
       "      <th>scriptSalIndex</th>\n",
       "      <th>target_name</th>\n",
       "      <th>s_ra</th>\n",
       "      <th>s_dec</th>\n",
       "      <th>sky_rotation</th>\n",
       "      <th>band</th>\n",
       "      <th>psf_sigma_median</th>\n",
       "      <th>zero_point_1s</th>\n",
       "      <th>zero_point_1s_pred</th>\n",
       "      <th>clouds</th>\n",
       "      <th>science_program</th>\n",
       "      <th>target_name</th>\n",
       "    </tr>\n",
       "  </thead>\n",
       "  <tbody>\n",
       "    <tr>\n",
       "      <th>209</th>\n",
       "      <td>2025070100331</td>\n",
       "      <td>20250701</td>\n",
       "      <td>331</td>\n",
       "      <td>2025-07-02 02:17:01.870407+00:00</td>\n",
       "      <td>2025-07-02 02:18:20.487809+00:00</td>\n",
       "      <td>2025-07-02T02:18:25.702000</td>\n",
       "      <td>110388</td>\n",
       "      <td>lowdust</td>\n",
       "      <td>281.999829</td>\n",
       "      <td>-28.350403</td>\n",
       "      <td>126.804723</td>\n",
       "      <td>z</td>\n",
       "      <td>2.189176</td>\n",
       "      <td>25.912904</td>\n",
       "      <td>27.866034</td>\n",
       "      <td>-1.95313</td>\n",
       "      <td>BLOCK-365</td>\n",
       "      <td>lowdust</td>\n",
       "    </tr>\n",
       "  </tbody>\n",
       "</table>\n",
       "</div>"
      ],
      "text/plain": [
       "          visit_id   day_obs seq_num                       time_target  \\\n",
       "209  2025070100331  20250701     331  2025-07-02 02:17:01.870407+00:00   \n",
       "\n",
       "                     time_observation                   obs_start  \\\n",
       "209  2025-07-02 02:18:20.487809+00:00  2025-07-02T02:18:25.702000   \n",
       "\n",
       "    scriptSalIndex target_name        s_ra      s_dec sky_rotation band  \\\n",
       "209         110388     lowdust  281.999829 -28.350403   126.804723    z   \n",
       "\n",
       "    psf_sigma_median zero_point_1s zero_point_1s_pred   clouds  \\\n",
       "209         2.189176     25.912904          27.866034 -1.95313   \n",
       "\n",
       "    science_program target_name  \n",
       "209       BLOCK-365     lowdust  "
      ]
     },
     "metadata": {},
     "output_type": "display_data"
    },
    {
     "name": "stdout",
     "output_type": "stream",
     "text": [
      "IMG_TYPE science. Flags: big zeropoint offset.\n"
     ]
    },
    {
     "data": {
      "text/html": [
       "<a href=\"https://usdf-rsp.slac.stanford.edu/rubintv/summit-usdf/lsstcam/event?key=lsstcam/2025-07-01/calexp_mosaic/000331/lsstcam_calexp_mosaic_2025-07-01_000331.jpg\" target=\"_blank\" rel=\"noreferrer noopener\">https://usdf-rsp.slac.stanford.edu/rubintv/summit-usdf/lsstcam/event?key=lsstcam/2025-07-01/calexp_mosaic/000331/lsstcam_calexp_mosaic_2025-07-01_000331.jpg</a>"
      ],
      "text/plain": [
       "<IPython.core.display.HTML object>"
      ]
     },
     "metadata": {},
     "output_type": "display_data"
    },
    {
     "data": {
      "text/html": [
       "<a href=\"https://usdf-rsp.slac.stanford.edu/rubintv/summit-usdf/lsstcam/event?key=lsstcam/2025-07-01/witness_detector/000331/lsstcam_witness_detector_2025-07-01_000331.jpg\" target=\"_blank\" rel=\"noreferrer noopener\">https://usdf-rsp.slac.stanford.edu/rubintv/summit-usdf/lsstcam/event?key=lsstcam/2025-07-01/witness_detector/000331/lsstcam_witness_detector_2025-07-01_000331.jpg</a>"
      ],
      "text/plain": [
       "<IPython.core.display.HTML object>"
      ]
     },
     "metadata": {},
     "output_type": "display_data"
    },
    {
     "data": {
      "text/html": [
       "<br>"
      ],
      "text/plain": [
       "<IPython.core.display.HTML object>"
      ]
     },
     "metadata": {},
     "output_type": "display_data"
    },
    {
     "data": {
      "text/html": [
       "<div>\n",
       "<style scoped>\n",
       "    .dataframe tbody tr th:only-of-type {\n",
       "        vertical-align: middle;\n",
       "    }\n",
       "\n",
       "    .dataframe tbody tr th {\n",
       "        vertical-align: top;\n",
       "    }\n",
       "\n",
       "    .dataframe thead th {\n",
       "        text-align: right;\n",
       "    }\n",
       "</style>\n",
       "<table border=\"1\" class=\"dataframe\">\n",
       "  <thead>\n",
       "    <tr style=\"text-align: right;\">\n",
       "      <th></th>\n",
       "      <th>visit_id</th>\n",
       "      <th>day_obs</th>\n",
       "      <th>seq_num</th>\n",
       "      <th>time_target</th>\n",
       "      <th>time_observation</th>\n",
       "      <th>obs_start</th>\n",
       "      <th>scriptSalIndex</th>\n",
       "      <th>target_name</th>\n",
       "      <th>s_ra</th>\n",
       "      <th>s_dec</th>\n",
       "      <th>sky_rotation</th>\n",
       "      <th>band</th>\n",
       "      <th>psf_sigma_median</th>\n",
       "      <th>zero_point_1s</th>\n",
       "      <th>zero_point_1s_pred</th>\n",
       "      <th>clouds</th>\n",
       "      <th>science_program</th>\n",
       "      <th>target_name</th>\n",
       "    </tr>\n",
       "  </thead>\n",
       "  <tbody>\n",
       "    <tr>\n",
       "      <th>212</th>\n",
       "      <td>2025070100334</td>\n",
       "      <td>20250701</td>\n",
       "      <td>334</td>\n",
       "      <td>2025-07-02 02:18:59.990246+00:00</td>\n",
       "      <td>2025-07-02 02:20:20.492925+00:00</td>\n",
       "      <td>2025-07-02T02:20:25.804000</td>\n",
       "      <td>110391</td>\n",
       "      <td>lowdust</td>\n",
       "      <td>291.369727</td>\n",
       "      <td>-29.97103</td>\n",
       "      <td>126.297715</td>\n",
       "      <td>z</td>\n",
       "      <td>2.93367</td>\n",
       "      <td>26.179815</td>\n",
       "      <td>27.859255</td>\n",
       "      <td>-1.67944</td>\n",
       "      <td>BLOCK-365</td>\n",
       "      <td>lowdust</td>\n",
       "    </tr>\n",
       "  </tbody>\n",
       "</table>\n",
       "</div>"
      ],
      "text/plain": [
       "          visit_id   day_obs seq_num                       time_target  \\\n",
       "212  2025070100334  20250701     334  2025-07-02 02:18:59.990246+00:00   \n",
       "\n",
       "                     time_observation                   obs_start  \\\n",
       "212  2025-07-02 02:20:20.492925+00:00  2025-07-02T02:20:25.804000   \n",
       "\n",
       "    scriptSalIndex target_name        s_ra     s_dec sky_rotation band  \\\n",
       "212         110391     lowdust  291.369727 -29.97103   126.297715    z   \n",
       "\n",
       "    psf_sigma_median zero_point_1s zero_point_1s_pred   clouds  \\\n",
       "212          2.93367     26.179815          27.859255 -1.67944   \n",
       "\n",
       "    science_program target_name  \n",
       "212       BLOCK-365     lowdust  "
      ]
     },
     "metadata": {},
     "output_type": "display_data"
    },
    {
     "name": "stdout",
     "output_type": "stream",
     "text": [
      "IMG_TYPE science. Flags: big zeropoint offset.\n"
     ]
    },
    {
     "data": {
      "text/html": [
       "<a href=\"https://usdf-rsp.slac.stanford.edu/rubintv/summit-usdf/lsstcam/event?key=lsstcam/2025-07-01/calexp_mosaic/000334/lsstcam_calexp_mosaic_2025-07-01_000334.jpg\" target=\"_blank\" rel=\"noreferrer noopener\">https://usdf-rsp.slac.stanford.edu/rubintv/summit-usdf/lsstcam/event?key=lsstcam/2025-07-01/calexp_mosaic/000334/lsstcam_calexp_mosaic_2025-07-01_000334.jpg</a>"
      ],
      "text/plain": [
       "<IPython.core.display.HTML object>"
      ]
     },
     "metadata": {},
     "output_type": "display_data"
    },
    {
     "data": {
      "text/html": [
       "<a href=\"https://usdf-rsp.slac.stanford.edu/rubintv/summit-usdf/lsstcam/event?key=lsstcam/2025-07-01/witness_detector/000334/lsstcam_witness_detector_2025-07-01_000334.jpg\" target=\"_blank\" rel=\"noreferrer noopener\">https://usdf-rsp.slac.stanford.edu/rubintv/summit-usdf/lsstcam/event?key=lsstcam/2025-07-01/witness_detector/000334/lsstcam_witness_detector_2025-07-01_000334.jpg</a>"
      ],
      "text/plain": [
       "<IPython.core.display.HTML object>"
      ]
     },
     "metadata": {},
     "output_type": "display_data"
    },
    {
     "data": {
      "text/html": [
       "<br>"
      ],
      "text/plain": [
       "<IPython.core.display.HTML object>"
      ]
     },
     "metadata": {},
     "output_type": "display_data"
    },
    {
     "data": {
      "text/html": [
       "<div>\n",
       "<style scoped>\n",
       "    .dataframe tbody tr th:only-of-type {\n",
       "        vertical-align: middle;\n",
       "    }\n",
       "\n",
       "    .dataframe tbody tr th {\n",
       "        vertical-align: top;\n",
       "    }\n",
       "\n",
       "    .dataframe thead th {\n",
       "        text-align: right;\n",
       "    }\n",
       "</style>\n",
       "<table border=\"1\" class=\"dataframe\">\n",
       "  <thead>\n",
       "    <tr style=\"text-align: right;\">\n",
       "      <th></th>\n",
       "      <th>visit_id</th>\n",
       "      <th>day_obs</th>\n",
       "      <th>seq_num</th>\n",
       "      <th>time_target</th>\n",
       "      <th>time_observation</th>\n",
       "      <th>obs_start</th>\n",
       "      <th>scriptSalIndex</th>\n",
       "      <th>target_name</th>\n",
       "      <th>s_ra</th>\n",
       "      <th>s_dec</th>\n",
       "      <th>sky_rotation</th>\n",
       "      <th>band</th>\n",
       "      <th>psf_sigma_median</th>\n",
       "      <th>zero_point_1s</th>\n",
       "      <th>zero_point_1s_pred</th>\n",
       "      <th>clouds</th>\n",
       "      <th>science_program</th>\n",
       "      <th>target_name</th>\n",
       "    </tr>\n",
       "  </thead>\n",
       "  <tbody>\n",
       "    <tr>\n",
       "      <th>214</th>\n",
       "      <td>2025070100336</td>\n",
       "      <td>20250701</td>\n",
       "      <td>336</td>\n",
       "      <td>2025-07-02 02:20:21.559674+00:00</td>\n",
       "      <td>2025-07-02 02:21:40.825681+00:00</td>\n",
       "      <td>2025-07-02T02:21:46.093000</td>\n",
       "      <td>110393</td>\n",
       "      <td>lowdust</td>\n",
       "      <td>290.41169</td>\n",
       "      <td>-24.325784</td>\n",
       "      <td>121.128963</td>\n",
       "      <td>z</td>\n",
       "      <td>2.719265</td>\n",
       "      <td>25.94737</td>\n",
       "      <td>27.858784</td>\n",
       "      <td>-1.911413</td>\n",
       "      <td>BLOCK-365</td>\n",
       "      <td>lowdust</td>\n",
       "    </tr>\n",
       "  </tbody>\n",
       "</table>\n",
       "</div>"
      ],
      "text/plain": [
       "          visit_id   day_obs seq_num                       time_target  \\\n",
       "214  2025070100336  20250701     336  2025-07-02 02:20:21.559674+00:00   \n",
       "\n",
       "                     time_observation                   obs_start  \\\n",
       "214  2025-07-02 02:21:40.825681+00:00  2025-07-02T02:21:46.093000   \n",
       "\n",
       "    scriptSalIndex target_name       s_ra      s_dec sky_rotation band  \\\n",
       "214         110393     lowdust  290.41169 -24.325784   121.128963    z   \n",
       "\n",
       "    psf_sigma_median zero_point_1s zero_point_1s_pred    clouds  \\\n",
       "214         2.719265      25.94737          27.858784 -1.911413   \n",
       "\n",
       "    science_program target_name  \n",
       "214       BLOCK-365     lowdust  "
      ]
     },
     "metadata": {},
     "output_type": "display_data"
    },
    {
     "name": "stdout",
     "output_type": "stream",
     "text": [
      "IMG_TYPE science. Flags: big zeropoint offset.\n"
     ]
    },
    {
     "data": {
      "text/html": [
       "<a href=\"https://usdf-rsp.slac.stanford.edu/rubintv/summit-usdf/lsstcam/event?key=lsstcam/2025-07-01/calexp_mosaic/000336/lsstcam_calexp_mosaic_2025-07-01_000336.jpg\" target=\"_blank\" rel=\"noreferrer noopener\">https://usdf-rsp.slac.stanford.edu/rubintv/summit-usdf/lsstcam/event?key=lsstcam/2025-07-01/calexp_mosaic/000336/lsstcam_calexp_mosaic_2025-07-01_000336.jpg</a>"
      ],
      "text/plain": [
       "<IPython.core.display.HTML object>"
      ]
     },
     "metadata": {},
     "output_type": "display_data"
    },
    {
     "data": {
      "text/html": [
       "<a href=\"https://usdf-rsp.slac.stanford.edu/rubintv/summit-usdf/lsstcam/event?key=lsstcam/2025-07-01/witness_detector/000336/lsstcam_witness_detector_2025-07-01_000336.jpg\" target=\"_blank\" rel=\"noreferrer noopener\">https://usdf-rsp.slac.stanford.edu/rubintv/summit-usdf/lsstcam/event?key=lsstcam/2025-07-01/witness_detector/000336/lsstcam_witness_detector_2025-07-01_000336.jpg</a>"
      ],
      "text/plain": [
       "<IPython.core.display.HTML object>"
      ]
     },
     "metadata": {},
     "output_type": "display_data"
    },
    {
     "data": {
      "text/html": [
       "<br>"
      ],
      "text/plain": [
       "<IPython.core.display.HTML object>"
      ]
     },
     "metadata": {},
     "output_type": "display_data"
    },
    {
     "data": {
      "text/html": [
       "<div>\n",
       "<style scoped>\n",
       "    .dataframe tbody tr th:only-of-type {\n",
       "        vertical-align: middle;\n",
       "    }\n",
       "\n",
       "    .dataframe tbody tr th {\n",
       "        vertical-align: top;\n",
       "    }\n",
       "\n",
       "    .dataframe thead th {\n",
       "        text-align: right;\n",
       "    }\n",
       "</style>\n",
       "<table border=\"1\" class=\"dataframe\">\n",
       "  <thead>\n",
       "    <tr style=\"text-align: right;\">\n",
       "      <th></th>\n",
       "      <th>visit_id</th>\n",
       "      <th>day_obs</th>\n",
       "      <th>seq_num</th>\n",
       "      <th>time_target</th>\n",
       "      <th>time_observation</th>\n",
       "      <th>obs_start</th>\n",
       "      <th>scriptSalIndex</th>\n",
       "      <th>target_name</th>\n",
       "      <th>s_ra</th>\n",
       "      <th>s_dec</th>\n",
       "      <th>sky_rotation</th>\n",
       "      <th>band</th>\n",
       "      <th>psf_sigma_median</th>\n",
       "      <th>zero_point_1s</th>\n",
       "      <th>zero_point_1s_pred</th>\n",
       "      <th>clouds</th>\n",
       "      <th>science_program</th>\n",
       "      <th>target_name</th>\n",
       "    </tr>\n",
       "  </thead>\n",
       "  <tbody>\n",
       "    <tr>\n",
       "      <th>215</th>\n",
       "      <td>2025070100337</td>\n",
       "      <td>20250701</td>\n",
       "      <td>337</td>\n",
       "      <td>2025-07-02 02:21:01.740280+00:00</td>\n",
       "      <td>2025-07-02 02:22:18.984870+00:00</td>\n",
       "      <td>2025-07-02T02:22:24.553000</td>\n",
       "      <td>110394</td>\n",
       "      <td>lowdust</td>\n",
       "      <td>293.135583</td>\n",
       "      <td>-22.816373</td>\n",
       "      <td>119.522568</td>\n",
       "      <td>z</td>\n",
       "      <td>2.726172</td>\n",
       "      <td>25.621729</td>\n",
       "      <td>27.855454</td>\n",
       "      <td>-2.233725</td>\n",
       "      <td>BLOCK-365</td>\n",
       "      <td>lowdust</td>\n",
       "    </tr>\n",
       "  </tbody>\n",
       "</table>\n",
       "</div>"
      ],
      "text/plain": [
       "          visit_id   day_obs seq_num                       time_target  \\\n",
       "215  2025070100337  20250701     337  2025-07-02 02:21:01.740280+00:00   \n",
       "\n",
       "                     time_observation                   obs_start  \\\n",
       "215  2025-07-02 02:22:18.984870+00:00  2025-07-02T02:22:24.553000   \n",
       "\n",
       "    scriptSalIndex target_name        s_ra      s_dec sky_rotation band  \\\n",
       "215         110394     lowdust  293.135583 -22.816373   119.522568    z   \n",
       "\n",
       "    psf_sigma_median zero_point_1s zero_point_1s_pred    clouds  \\\n",
       "215         2.726172     25.621729          27.855454 -2.233725   \n",
       "\n",
       "    science_program target_name  \n",
       "215       BLOCK-365     lowdust  "
      ]
     },
     "metadata": {},
     "output_type": "display_data"
    },
    {
     "name": "stdout",
     "output_type": "stream",
     "text": [
      "IMG_TYPE science. Flags: big zeropoint offset.\n"
     ]
    },
    {
     "data": {
      "text/html": [
       "<a href=\"https://usdf-rsp.slac.stanford.edu/rubintv/summit-usdf/lsstcam/event?key=lsstcam/2025-07-01/calexp_mosaic/000337/lsstcam_calexp_mosaic_2025-07-01_000337.jpg\" target=\"_blank\" rel=\"noreferrer noopener\">https://usdf-rsp.slac.stanford.edu/rubintv/summit-usdf/lsstcam/event?key=lsstcam/2025-07-01/calexp_mosaic/000337/lsstcam_calexp_mosaic_2025-07-01_000337.jpg</a>"
      ],
      "text/plain": [
       "<IPython.core.display.HTML object>"
      ]
     },
     "metadata": {},
     "output_type": "display_data"
    },
    {
     "data": {
      "text/html": [
       "<a href=\"https://usdf-rsp.slac.stanford.edu/rubintv/summit-usdf/lsstcam/event?key=lsstcam/2025-07-01/witness_detector/000337/lsstcam_witness_detector_2025-07-01_000337.jpg\" target=\"_blank\" rel=\"noreferrer noopener\">https://usdf-rsp.slac.stanford.edu/rubintv/summit-usdf/lsstcam/event?key=lsstcam/2025-07-01/witness_detector/000337/lsstcam_witness_detector_2025-07-01_000337.jpg</a>"
      ],
      "text/plain": [
       "<IPython.core.display.HTML object>"
      ]
     },
     "metadata": {},
     "output_type": "display_data"
    },
    {
     "data": {
      "text/html": [
       "<br>"
      ],
      "text/plain": [
       "<IPython.core.display.HTML object>"
      ]
     },
     "metadata": {},
     "output_type": "display_data"
    },
    {
     "data": {
      "text/html": [
       "<div>\n",
       "<style scoped>\n",
       "    .dataframe tbody tr th:only-of-type {\n",
       "        vertical-align: middle;\n",
       "    }\n",
       "\n",
       "    .dataframe tbody tr th {\n",
       "        vertical-align: top;\n",
       "    }\n",
       "\n",
       "    .dataframe thead th {\n",
       "        text-align: right;\n",
       "    }\n",
       "</style>\n",
       "<table border=\"1\" class=\"dataframe\">\n",
       "  <thead>\n",
       "    <tr style=\"text-align: right;\">\n",
       "      <th></th>\n",
       "      <th>visit_id</th>\n",
       "      <th>day_obs</th>\n",
       "      <th>seq_num</th>\n",
       "      <th>time_target</th>\n",
       "      <th>time_observation</th>\n",
       "      <th>obs_start</th>\n",
       "      <th>scriptSalIndex</th>\n",
       "      <th>target_name</th>\n",
       "      <th>s_ra</th>\n",
       "      <th>s_dec</th>\n",
       "      <th>sky_rotation</th>\n",
       "      <th>band</th>\n",
       "      <th>psf_sigma_median</th>\n",
       "      <th>zero_point_1s</th>\n",
       "      <th>zero_point_1s_pred</th>\n",
       "      <th>clouds</th>\n",
       "      <th>science_program</th>\n",
       "      <th>target_name</th>\n",
       "    </tr>\n",
       "  </thead>\n",
       "  <tbody>\n",
       "    <tr>\n",
       "      <th>217</th>\n",
       "      <td>2025070100339</td>\n",
       "      <td>20250701</td>\n",
       "      <td>339</td>\n",
       "      <td>2025-07-02 02:22:20.273421+00:00</td>\n",
       "      <td>2025-07-02 02:23:37.548138+00:00</td>\n",
       "      <td>2025-07-02T02:23:43.082000</td>\n",
       "      <td>110396</td>\n",
       "      <td>lowdust</td>\n",
       "      <td>292.199857</td>\n",
       "      <td>-17.10775</td>\n",
       "      <td>115.018261</td>\n",
       "      <td>z</td>\n",
       "      <td>2.796112</td>\n",
       "      <td>25.481632</td>\n",
       "      <td>27.853893</td>\n",
       "      <td>-2.372261</td>\n",
       "      <td>BLOCK-365</td>\n",
       "      <td>lowdust</td>\n",
       "    </tr>\n",
       "  </tbody>\n",
       "</table>\n",
       "</div>"
      ],
      "text/plain": [
       "          visit_id   day_obs seq_num                       time_target  \\\n",
       "217  2025070100339  20250701     339  2025-07-02 02:22:20.273421+00:00   \n",
       "\n",
       "                     time_observation                   obs_start  \\\n",
       "217  2025-07-02 02:23:37.548138+00:00  2025-07-02T02:23:43.082000   \n",
       "\n",
       "    scriptSalIndex target_name        s_ra     s_dec sky_rotation band  \\\n",
       "217         110396     lowdust  292.199857 -17.10775   115.018261    z   \n",
       "\n",
       "    psf_sigma_median zero_point_1s zero_point_1s_pred    clouds  \\\n",
       "217         2.796112     25.481632          27.853893 -2.372261   \n",
       "\n",
       "    science_program target_name  \n",
       "217       BLOCK-365     lowdust  "
      ]
     },
     "metadata": {},
     "output_type": "display_data"
    },
    {
     "name": "stdout",
     "output_type": "stream",
     "text": [
      "IMG_TYPE science. Flags: big zeropoint offset.\n"
     ]
    },
    {
     "data": {
      "text/html": [
       "<a href=\"https://usdf-rsp.slac.stanford.edu/rubintv/summit-usdf/lsstcam/event?key=lsstcam/2025-07-01/calexp_mosaic/000339/lsstcam_calexp_mosaic_2025-07-01_000339.jpg\" target=\"_blank\" rel=\"noreferrer noopener\">https://usdf-rsp.slac.stanford.edu/rubintv/summit-usdf/lsstcam/event?key=lsstcam/2025-07-01/calexp_mosaic/000339/lsstcam_calexp_mosaic_2025-07-01_000339.jpg</a>"
      ],
      "text/plain": [
       "<IPython.core.display.HTML object>"
      ]
     },
     "metadata": {},
     "output_type": "display_data"
    },
    {
     "data": {
      "text/html": [
       "<a href=\"https://usdf-rsp.slac.stanford.edu/rubintv/summit-usdf/lsstcam/event?key=lsstcam/2025-07-01/witness_detector/000339/lsstcam_witness_detector_2025-07-01_000339.jpg\" target=\"_blank\" rel=\"noreferrer noopener\">https://usdf-rsp.slac.stanford.edu/rubintv/summit-usdf/lsstcam/event?key=lsstcam/2025-07-01/witness_detector/000339/lsstcam_witness_detector_2025-07-01_000339.jpg</a>"
      ],
      "text/plain": [
       "<IPython.core.display.HTML object>"
      ]
     },
     "metadata": {},
     "output_type": "display_data"
    },
    {
     "data": {
      "text/html": [
       "<br>"
      ],
      "text/plain": [
       "<IPython.core.display.HTML object>"
      ]
     },
     "metadata": {},
     "output_type": "display_data"
    },
    {
     "data": {
      "text/html": [
       "<div>\n",
       "<style scoped>\n",
       "    .dataframe tbody tr th:only-of-type {\n",
       "        vertical-align: middle;\n",
       "    }\n",
       "\n",
       "    .dataframe tbody tr th {\n",
       "        vertical-align: top;\n",
       "    }\n",
       "\n",
       "    .dataframe thead th {\n",
       "        text-align: right;\n",
       "    }\n",
       "</style>\n",
       "<table border=\"1\" class=\"dataframe\">\n",
       "  <thead>\n",
       "    <tr style=\"text-align: right;\">\n",
       "      <th></th>\n",
       "      <th>visit_id</th>\n",
       "      <th>day_obs</th>\n",
       "      <th>seq_num</th>\n",
       "      <th>time_target</th>\n",
       "      <th>time_observation</th>\n",
       "      <th>obs_start</th>\n",
       "      <th>scriptSalIndex</th>\n",
       "      <th>target_name</th>\n",
       "      <th>s_ra</th>\n",
       "      <th>s_dec</th>\n",
       "      <th>sky_rotation</th>\n",
       "      <th>band</th>\n",
       "      <th>psf_sigma_median</th>\n",
       "      <th>zero_point_1s</th>\n",
       "      <th>zero_point_1s_pred</th>\n",
       "      <th>clouds</th>\n",
       "      <th>science_program</th>\n",
       "      <th>target_name</th>\n",
       "    </tr>\n",
       "  </thead>\n",
       "  <tbody>\n",
       "    <tr>\n",
       "      <th>221</th>\n",
       "      <td>2025070100343</td>\n",
       "      <td>20250701</td>\n",
       "      <td>343</td>\n",
       "      <td>2025-07-02 02:24:56.152455+00:00</td>\n",
       "      <td>2025-07-02 02:26:15.420666+00:00</td>\n",
       "      <td>2025-07-02T02:26:21.225000</td>\n",
       "      <td>110400</td>\n",
       "      <td>bulgy</td>\n",
       "      <td>284.41459</td>\n",
       "      <td>-17.868708</td>\n",
       "      <td>114.9724</td>\n",
       "      <td>z</td>\n",
       "      <td>2.842547</td>\n",
       "      <td>26.160141</td>\n",
       "      <td>27.862632</td>\n",
       "      <td>-1.702491</td>\n",
       "      <td>BLOCK-365</td>\n",
       "      <td>bulgy</td>\n",
       "    </tr>\n",
       "  </tbody>\n",
       "</table>\n",
       "</div>"
      ],
      "text/plain": [
       "          visit_id   day_obs seq_num                       time_target  \\\n",
       "221  2025070100343  20250701     343  2025-07-02 02:24:56.152455+00:00   \n",
       "\n",
       "                     time_observation                   obs_start  \\\n",
       "221  2025-07-02 02:26:15.420666+00:00  2025-07-02T02:26:21.225000   \n",
       "\n",
       "    scriptSalIndex target_name       s_ra      s_dec sky_rotation band  \\\n",
       "221         110400       bulgy  284.41459 -17.868708     114.9724    z   \n",
       "\n",
       "    psf_sigma_median zero_point_1s zero_point_1s_pred    clouds  \\\n",
       "221         2.842547     26.160141          27.862632 -1.702491   \n",
       "\n",
       "    science_program target_name  \n",
       "221       BLOCK-365       bulgy  "
      ]
     },
     "metadata": {},
     "output_type": "display_data"
    },
    {
     "name": "stdout",
     "output_type": "stream",
     "text": [
      "IMG_TYPE science. Flags: big zeropoint offset.\n"
     ]
    },
    {
     "data": {
      "text/html": [
       "<a href=\"https://usdf-rsp.slac.stanford.edu/rubintv/summit-usdf/lsstcam/event?key=lsstcam/2025-07-01/calexp_mosaic/000343/lsstcam_calexp_mosaic_2025-07-01_000343.jpg\" target=\"_blank\" rel=\"noreferrer noopener\">https://usdf-rsp.slac.stanford.edu/rubintv/summit-usdf/lsstcam/event?key=lsstcam/2025-07-01/calexp_mosaic/000343/lsstcam_calexp_mosaic_2025-07-01_000343.jpg</a>"
      ],
      "text/plain": [
       "<IPython.core.display.HTML object>"
      ]
     },
     "metadata": {},
     "output_type": "display_data"
    },
    {
     "data": {
      "text/html": [
       "<a href=\"https://usdf-rsp.slac.stanford.edu/rubintv/summit-usdf/lsstcam/event?key=lsstcam/2025-07-01/witness_detector/000343/lsstcam_witness_detector_2025-07-01_000343.jpg\" target=\"_blank\" rel=\"noreferrer noopener\">https://usdf-rsp.slac.stanford.edu/rubintv/summit-usdf/lsstcam/event?key=lsstcam/2025-07-01/witness_detector/000343/lsstcam_witness_detector_2025-07-01_000343.jpg</a>"
      ],
      "text/plain": [
       "<IPython.core.display.HTML object>"
      ]
     },
     "metadata": {},
     "output_type": "display_data"
    },
    {
     "data": {
      "text/html": [
       "<br>"
      ],
      "text/plain": [
       "<IPython.core.display.HTML object>"
      ]
     },
     "metadata": {},
     "output_type": "display_data"
    },
    {
     "data": {
      "text/html": [
       "<div>\n",
       "<style scoped>\n",
       "    .dataframe tbody tr th:only-of-type {\n",
       "        vertical-align: middle;\n",
       "    }\n",
       "\n",
       "    .dataframe tbody tr th {\n",
       "        vertical-align: top;\n",
       "    }\n",
       "\n",
       "    .dataframe thead th {\n",
       "        text-align: right;\n",
       "    }\n",
       "</style>\n",
       "<table border=\"1\" class=\"dataframe\">\n",
       "  <thead>\n",
       "    <tr style=\"text-align: right;\">\n",
       "      <th></th>\n",
       "      <th>visit_id</th>\n",
       "      <th>day_obs</th>\n",
       "      <th>seq_num</th>\n",
       "      <th>time_target</th>\n",
       "      <th>time_observation</th>\n",
       "      <th>obs_start</th>\n",
       "      <th>scriptSalIndex</th>\n",
       "      <th>target_name</th>\n",
       "      <th>s_ra</th>\n",
       "      <th>s_dec</th>\n",
       "      <th>sky_rotation</th>\n",
       "      <th>band</th>\n",
       "      <th>psf_sigma_median</th>\n",
       "      <th>zero_point_1s</th>\n",
       "      <th>zero_point_1s_pred</th>\n",
       "      <th>clouds</th>\n",
       "      <th>science_program</th>\n",
       "      <th>target_name</th>\n",
       "    </tr>\n",
       "  </thead>\n",
       "  <tbody>\n",
       "    <tr>\n",
       "      <th>223</th>\n",
       "      <td>2025070100345</td>\n",
       "      <td>20250701</td>\n",
       "      <td>345</td>\n",
       "      <td>2025-07-02 02:26:16.715616+00:00</td>\n",
       "      <td>2025-07-02 02:27:34.987078+00:00</td>\n",
       "      <td>2025-07-02T02:27:40.769000</td>\n",
       "      <td>110402</td>\n",
       "      <td>bulgy</td>\n",
       "      <td>279.081796</td>\n",
       "      <td>-23.439048</td>\n",
       "      <td>120.759249</td>\n",
       "      <td>z</td>\n",
       "      <td>2.420805</td>\n",
       "      <td>25.448499</td>\n",
       "      <td>27.868317</td>\n",
       "      <td>-2.419818</td>\n",
       "      <td>BLOCK-365</td>\n",
       "      <td>bulgy</td>\n",
       "    </tr>\n",
       "  </tbody>\n",
       "</table>\n",
       "</div>"
      ],
      "text/plain": [
       "          visit_id   day_obs seq_num                       time_target  \\\n",
       "223  2025070100345  20250701     345  2025-07-02 02:26:16.715616+00:00   \n",
       "\n",
       "                     time_observation                   obs_start  \\\n",
       "223  2025-07-02 02:27:34.987078+00:00  2025-07-02T02:27:40.769000   \n",
       "\n",
       "    scriptSalIndex target_name        s_ra      s_dec sky_rotation band  \\\n",
       "223         110402       bulgy  279.081796 -23.439048   120.759249    z   \n",
       "\n",
       "    psf_sigma_median zero_point_1s zero_point_1s_pred    clouds  \\\n",
       "223         2.420805     25.448499          27.868317 -2.419818   \n",
       "\n",
       "    science_program target_name  \n",
       "223       BLOCK-365       bulgy  "
      ]
     },
     "metadata": {},
     "output_type": "display_data"
    },
    {
     "name": "stdout",
     "output_type": "stream",
     "text": [
      "IMG_TYPE science. Flags: big zeropoint offset.\n"
     ]
    },
    {
     "data": {
      "text/html": [
       "<a href=\"https://usdf-rsp.slac.stanford.edu/rubintv/summit-usdf/lsstcam/event?key=lsstcam/2025-07-01/calexp_mosaic/000345/lsstcam_calexp_mosaic_2025-07-01_000345.jpg\" target=\"_blank\" rel=\"noreferrer noopener\">https://usdf-rsp.slac.stanford.edu/rubintv/summit-usdf/lsstcam/event?key=lsstcam/2025-07-01/calexp_mosaic/000345/lsstcam_calexp_mosaic_2025-07-01_000345.jpg</a>"
      ],
      "text/plain": [
       "<IPython.core.display.HTML object>"
      ]
     },
     "metadata": {},
     "output_type": "display_data"
    },
    {
     "data": {
      "text/html": [
       "<a href=\"https://usdf-rsp.slac.stanford.edu/rubintv/summit-usdf/lsstcam/event?key=lsstcam/2025-07-01/witness_detector/000345/lsstcam_witness_detector_2025-07-01_000345.jpg\" target=\"_blank\" rel=\"noreferrer noopener\">https://usdf-rsp.slac.stanford.edu/rubintv/summit-usdf/lsstcam/event?key=lsstcam/2025-07-01/witness_detector/000345/lsstcam_witness_detector_2025-07-01_000345.jpg</a>"
      ],
      "text/plain": [
       "<IPython.core.display.HTML object>"
      ]
     },
     "metadata": {},
     "output_type": "display_data"
    },
    {
     "data": {
      "text/html": [
       "<br>"
      ],
      "text/plain": [
       "<IPython.core.display.HTML object>"
      ]
     },
     "metadata": {},
     "output_type": "display_data"
    },
    {
     "data": {
      "text/html": [
       "<div>\n",
       "<style scoped>\n",
       "    .dataframe tbody tr th:only-of-type {\n",
       "        vertical-align: middle;\n",
       "    }\n",
       "\n",
       "    .dataframe tbody tr th {\n",
       "        vertical-align: top;\n",
       "    }\n",
       "\n",
       "    .dataframe thead th {\n",
       "        text-align: right;\n",
       "    }\n",
       "</style>\n",
       "<table border=\"1\" class=\"dataframe\">\n",
       "  <thead>\n",
       "    <tr style=\"text-align: right;\">\n",
       "      <th></th>\n",
       "      <th>visit_id</th>\n",
       "      <th>day_obs</th>\n",
       "      <th>seq_num</th>\n",
       "      <th>time_target</th>\n",
       "      <th>time_observation</th>\n",
       "      <th>obs_start</th>\n",
       "      <th>scriptSalIndex</th>\n",
       "      <th>target_name</th>\n",
       "      <th>s_ra</th>\n",
       "      <th>s_dec</th>\n",
       "      <th>sky_rotation</th>\n",
       "      <th>band</th>\n",
       "      <th>psf_sigma_median</th>\n",
       "      <th>zero_point_1s</th>\n",
       "      <th>zero_point_1s_pred</th>\n",
       "      <th>clouds</th>\n",
       "      <th>science_program</th>\n",
       "      <th>target_name</th>\n",
       "    </tr>\n",
       "  </thead>\n",
       "  <tbody>\n",
       "    <tr>\n",
       "      <th>226</th>\n",
       "      <td>2025070100348</td>\n",
       "      <td>20250701</td>\n",
       "      <td>348</td>\n",
       "      <td>2025-07-02 02:28:17.237754+00:00</td>\n",
       "      <td>2025-07-02 02:29:34.947200+00:00</td>\n",
       "      <td>2025-07-02T02:29:40.617000</td>\n",
       "      <td>110405</td>\n",
       "      <td>bulgy</td>\n",
       "      <td>276.56387</td>\n",
       "      <td>-18.344601</td>\n",
       "      <td>113.956935</td>\n",
       "      <td>z</td>\n",
       "      <td>2.779426</td>\n",
       "      <td>25.853588</td>\n",
       "      <td>27.868609</td>\n",
       "      <td>-2.01502</td>\n",
       "      <td>BLOCK-365</td>\n",
       "      <td>bulgy</td>\n",
       "    </tr>\n",
       "  </tbody>\n",
       "</table>\n",
       "</div>"
      ],
      "text/plain": [
       "          visit_id   day_obs seq_num                       time_target  \\\n",
       "226  2025070100348  20250701     348  2025-07-02 02:28:17.237754+00:00   \n",
       "\n",
       "                     time_observation                   obs_start  \\\n",
       "226  2025-07-02 02:29:34.947200+00:00  2025-07-02T02:29:40.617000   \n",
       "\n",
       "    scriptSalIndex target_name       s_ra      s_dec sky_rotation band  \\\n",
       "226         110405       bulgy  276.56387 -18.344601   113.956935    z   \n",
       "\n",
       "    psf_sigma_median zero_point_1s zero_point_1s_pred   clouds  \\\n",
       "226         2.779426     25.853588          27.868609 -2.01502   \n",
       "\n",
       "    science_program target_name  \n",
       "226       BLOCK-365       bulgy  "
      ]
     },
     "metadata": {},
     "output_type": "display_data"
    },
    {
     "name": "stdout",
     "output_type": "stream",
     "text": [
      "IMG_TYPE science. Flags: big zeropoint offset.\n"
     ]
    },
    {
     "data": {
      "text/html": [
       "<a href=\"https://usdf-rsp.slac.stanford.edu/rubintv/summit-usdf/lsstcam/event?key=lsstcam/2025-07-01/calexp_mosaic/000348/lsstcam_calexp_mosaic_2025-07-01_000348.jpg\" target=\"_blank\" rel=\"noreferrer noopener\">https://usdf-rsp.slac.stanford.edu/rubintv/summit-usdf/lsstcam/event?key=lsstcam/2025-07-01/calexp_mosaic/000348/lsstcam_calexp_mosaic_2025-07-01_000348.jpg</a>"
      ],
      "text/plain": [
       "<IPython.core.display.HTML object>"
      ]
     },
     "metadata": {},
     "output_type": "display_data"
    },
    {
     "data": {
      "text/html": [
       "<a href=\"https://usdf-rsp.slac.stanford.edu/rubintv/summit-usdf/lsstcam/event?key=lsstcam/2025-07-01/witness_detector/000348/lsstcam_witness_detector_2025-07-01_000348.jpg\" target=\"_blank\" rel=\"noreferrer noopener\">https://usdf-rsp.slac.stanford.edu/rubintv/summit-usdf/lsstcam/event?key=lsstcam/2025-07-01/witness_detector/000348/lsstcam_witness_detector_2025-07-01_000348.jpg</a>"
      ],
      "text/plain": [
       "<IPython.core.display.HTML object>"
      ]
     },
     "metadata": {},
     "output_type": "display_data"
    },
    {
     "data": {
      "text/html": [
       "<br>"
      ],
      "text/plain": [
       "<IPython.core.display.HTML object>"
      ]
     },
     "metadata": {},
     "output_type": "display_data"
    },
    {
     "data": {
      "text/html": [
       "<div>\n",
       "<style scoped>\n",
       "    .dataframe tbody tr th:only-of-type {\n",
       "        vertical-align: middle;\n",
       "    }\n",
       "\n",
       "    .dataframe tbody tr th {\n",
       "        vertical-align: top;\n",
       "    }\n",
       "\n",
       "    .dataframe thead th {\n",
       "        text-align: right;\n",
       "    }\n",
       "</style>\n",
       "<table border=\"1\" class=\"dataframe\">\n",
       "  <thead>\n",
       "    <tr style=\"text-align: right;\">\n",
       "      <th></th>\n",
       "      <th>visit_id</th>\n",
       "      <th>day_obs</th>\n",
       "      <th>seq_num</th>\n",
       "      <th>time_target</th>\n",
       "      <th>time_observation</th>\n",
       "      <th>obs_start</th>\n",
       "      <th>scriptSalIndex</th>\n",
       "      <th>target_name</th>\n",
       "      <th>s_ra</th>\n",
       "      <th>s_dec</th>\n",
       "      <th>sky_rotation</th>\n",
       "      <th>band</th>\n",
       "      <th>psf_sigma_median</th>\n",
       "      <th>zero_point_1s</th>\n",
       "      <th>zero_point_1s_pred</th>\n",
       "      <th>clouds</th>\n",
       "      <th>science_program</th>\n",
       "      <th>target_name</th>\n",
       "    </tr>\n",
       "  </thead>\n",
       "  <tbody>\n",
       "    <tr>\n",
       "      <th>232</th>\n",
       "      <td>2025070100354</td>\n",
       "      <td>20250701</td>\n",
       "      <td>354</td>\n",
       "      <td>2025-07-02 02:32:15.440784+00:00</td>\n",
       "      <td>2025-07-02 02:37:26.185791+00:00</td>\n",
       "      <td>2025-07-02T02:37:31.392000</td>\n",
       "      <td>110411</td>\n",
       "      <td>bulgy</td>\n",
       "      <td>266.717807</td>\n",
       "      <td>-13.31094</td>\n",
       "      <td>102.425049</td>\n",
       "      <td>i</td>\n",
       "      <td>2.634722</td>\n",
       "      <td>26.520447</td>\n",
       "      <td>28.255399</td>\n",
       "      <td>-1.734951</td>\n",
       "      <td>BLOCK-365</td>\n",
       "      <td>bulgy</td>\n",
       "    </tr>\n",
       "  </tbody>\n",
       "</table>\n",
       "</div>"
      ],
      "text/plain": [
       "          visit_id   day_obs seq_num                       time_target  \\\n",
       "232  2025070100354  20250701     354  2025-07-02 02:32:15.440784+00:00   \n",
       "\n",
       "                     time_observation                   obs_start  \\\n",
       "232  2025-07-02 02:37:26.185791+00:00  2025-07-02T02:37:31.392000   \n",
       "\n",
       "    scriptSalIndex target_name        s_ra     s_dec sky_rotation band  \\\n",
       "232         110411       bulgy  266.717807 -13.31094   102.425049    i   \n",
       "\n",
       "    psf_sigma_median zero_point_1s zero_point_1s_pred    clouds  \\\n",
       "232         2.634722     26.520447          28.255399 -1.734951   \n",
       "\n",
       "    science_program target_name  \n",
       "232       BLOCK-365       bulgy  "
      ]
     },
     "metadata": {},
     "output_type": "display_data"
    },
    {
     "name": "stdout",
     "output_type": "stream",
     "text": [
      "IMG_TYPE science. Flags: big zeropoint offset.\n"
     ]
    },
    {
     "data": {
      "text/html": [
       "<a href=\"https://usdf-rsp.slac.stanford.edu/rubintv/summit-usdf/lsstcam/event?key=lsstcam/2025-07-01/calexp_mosaic/000354/lsstcam_calexp_mosaic_2025-07-01_000354.jpg\" target=\"_blank\" rel=\"noreferrer noopener\">https://usdf-rsp.slac.stanford.edu/rubintv/summit-usdf/lsstcam/event?key=lsstcam/2025-07-01/calexp_mosaic/000354/lsstcam_calexp_mosaic_2025-07-01_000354.jpg</a>"
      ],
      "text/plain": [
       "<IPython.core.display.HTML object>"
      ]
     },
     "metadata": {},
     "output_type": "display_data"
    },
    {
     "data": {
      "text/html": [
       "<a href=\"https://usdf-rsp.slac.stanford.edu/rubintv/summit-usdf/lsstcam/event?key=lsstcam/2025-07-01/witness_detector/000354/lsstcam_witness_detector_2025-07-01_000354.jpg\" target=\"_blank\" rel=\"noreferrer noopener\">https://usdf-rsp.slac.stanford.edu/rubintv/summit-usdf/lsstcam/event?key=lsstcam/2025-07-01/witness_detector/000354/lsstcam_witness_detector_2025-07-01_000354.jpg</a>"
      ],
      "text/plain": [
       "<IPython.core.display.HTML object>"
      ]
     },
     "metadata": {},
     "output_type": "display_data"
    },
    {
     "data": {
      "text/html": [
       "<br>"
      ],
      "text/plain": [
       "<IPython.core.display.HTML object>"
      ]
     },
     "metadata": {},
     "output_type": "display_data"
    },
    {
     "data": {
      "text/html": [
       "<div>\n",
       "<style scoped>\n",
       "    .dataframe tbody tr th:only-of-type {\n",
       "        vertical-align: middle;\n",
       "    }\n",
       "\n",
       "    .dataframe tbody tr th {\n",
       "        vertical-align: top;\n",
       "    }\n",
       "\n",
       "    .dataframe thead th {\n",
       "        text-align: right;\n",
       "    }\n",
       "</style>\n",
       "<table border=\"1\" class=\"dataframe\">\n",
       "  <thead>\n",
       "    <tr style=\"text-align: right;\">\n",
       "      <th></th>\n",
       "      <th>visit_id</th>\n",
       "      <th>day_obs</th>\n",
       "      <th>seq_num</th>\n",
       "      <th>time_target</th>\n",
       "      <th>time_observation</th>\n",
       "      <th>obs_start</th>\n",
       "      <th>scriptSalIndex</th>\n",
       "      <th>target_name</th>\n",
       "      <th>s_ra</th>\n",
       "      <th>s_dec</th>\n",
       "      <th>sky_rotation</th>\n",
       "      <th>band</th>\n",
       "      <th>psf_sigma_median</th>\n",
       "      <th>zero_point_1s</th>\n",
       "      <th>zero_point_1s_pred</th>\n",
       "      <th>clouds</th>\n",
       "      <th>science_program</th>\n",
       "      <th>target_name</th>\n",
       "    </tr>\n",
       "  </thead>\n",
       "  <tbody>\n",
       "    <tr>\n",
       "      <th>239</th>\n",
       "      <td>2025070100361</td>\n",
       "      <td>20250701</td>\n",
       "      <td>361</td>\n",
       "      <td>2025-07-02 02:40:58.085948+00:00</td>\n",
       "      <td>2025-07-02 02:42:27.580429+00:00</td>\n",
       "      <td>2025-07-02T02:42:32.863000</td>\n",
       "      <td>110418</td>\n",
       "      <td>dusty_plane</td>\n",
       "      <td>247.723378</td>\n",
       "      <td>-13.266201</td>\n",
       "      <td>74.38669</td>\n",
       "      <td>i</td>\n",
       "      <td>3.0425</td>\n",
       "      <td>25.287162</td>\n",
       "      <td>28.258899</td>\n",
       "      <td>-2.971738</td>\n",
       "      <td>BLOCK-365</td>\n",
       "      <td>dusty_plane</td>\n",
       "    </tr>\n",
       "  </tbody>\n",
       "</table>\n",
       "</div>"
      ],
      "text/plain": [
       "          visit_id   day_obs seq_num                       time_target  \\\n",
       "239  2025070100361  20250701     361  2025-07-02 02:40:58.085948+00:00   \n",
       "\n",
       "                     time_observation                   obs_start  \\\n",
       "239  2025-07-02 02:42:27.580429+00:00  2025-07-02T02:42:32.863000   \n",
       "\n",
       "    scriptSalIndex  target_name        s_ra      s_dec sky_rotation band  \\\n",
       "239         110418  dusty_plane  247.723378 -13.266201     74.38669    i   \n",
       "\n",
       "    psf_sigma_median zero_point_1s zero_point_1s_pred    clouds  \\\n",
       "239           3.0425     25.287162          28.258899 -2.971738   \n",
       "\n",
       "    science_program  target_name  \n",
       "239       BLOCK-365  dusty_plane  "
      ]
     },
     "metadata": {},
     "output_type": "display_data"
    },
    {
     "name": "stdout",
     "output_type": "stream",
     "text": [
      "IMG_TYPE science. Flags: big zeropoint offset.\n"
     ]
    },
    {
     "data": {
      "text/html": [
       "<a href=\"https://usdf-rsp.slac.stanford.edu/rubintv/summit-usdf/lsstcam/event?key=lsstcam/2025-07-01/calexp_mosaic/000361/lsstcam_calexp_mosaic_2025-07-01_000361.jpg\" target=\"_blank\" rel=\"noreferrer noopener\">https://usdf-rsp.slac.stanford.edu/rubintv/summit-usdf/lsstcam/event?key=lsstcam/2025-07-01/calexp_mosaic/000361/lsstcam_calexp_mosaic_2025-07-01_000361.jpg</a>"
      ],
      "text/plain": [
       "<IPython.core.display.HTML object>"
      ]
     },
     "metadata": {},
     "output_type": "display_data"
    },
    {
     "data": {
      "text/html": [
       "<a href=\"https://usdf-rsp.slac.stanford.edu/rubintv/summit-usdf/lsstcam/event?key=lsstcam/2025-07-01/witness_detector/000361/lsstcam_witness_detector_2025-07-01_000361.jpg\" target=\"_blank\" rel=\"noreferrer noopener\">https://usdf-rsp.slac.stanford.edu/rubintv/summit-usdf/lsstcam/event?key=lsstcam/2025-07-01/witness_detector/000361/lsstcam_witness_detector_2025-07-01_000361.jpg</a>"
      ],
      "text/plain": [
       "<IPython.core.display.HTML object>"
      ]
     },
     "metadata": {},
     "output_type": "display_data"
    },
    {
     "data": {
      "text/html": [
       "<br>"
      ],
      "text/plain": [
       "<IPython.core.display.HTML object>"
      ]
     },
     "metadata": {},
     "output_type": "display_data"
    },
    {
     "data": {
      "text/html": [
       "<div>\n",
       "<style scoped>\n",
       "    .dataframe tbody tr th:only-of-type {\n",
       "        vertical-align: middle;\n",
       "    }\n",
       "\n",
       "    .dataframe tbody tr th {\n",
       "        vertical-align: top;\n",
       "    }\n",
       "\n",
       "    .dataframe thead th {\n",
       "        text-align: right;\n",
       "    }\n",
       "</style>\n",
       "<table border=\"1\" class=\"dataframe\">\n",
       "  <thead>\n",
       "    <tr style=\"text-align: right;\">\n",
       "      <th></th>\n",
       "      <th>visit_id</th>\n",
       "      <th>day_obs</th>\n",
       "      <th>seq_num</th>\n",
       "      <th>time_target</th>\n",
       "      <th>time_observation</th>\n",
       "      <th>obs_start</th>\n",
       "      <th>scriptSalIndex</th>\n",
       "      <th>target_name</th>\n",
       "      <th>s_ra</th>\n",
       "      <th>s_dec</th>\n",
       "      <th>sky_rotation</th>\n",
       "      <th>band</th>\n",
       "      <th>psf_sigma_median</th>\n",
       "      <th>zero_point_1s</th>\n",
       "      <th>zero_point_1s_pred</th>\n",
       "      <th>clouds</th>\n",
       "      <th>science_program</th>\n",
       "      <th>target_name</th>\n",
       "    </tr>\n",
       "  </thead>\n",
       "  <tbody>\n",
       "    <tr>\n",
       "      <th>240</th>\n",
       "      <td>2025070100362</td>\n",
       "      <td>20250701</td>\n",
       "      <td>362</td>\n",
       "      <td>2025-07-02 02:41:43.481840+00:00</td>\n",
       "      <td>2025-07-02 02:43:09.948212+00:00</td>\n",
       "      <td>2025-07-02T02:43:15.581000</td>\n",
       "      <td>110419</td>\n",
       "      <td>dusty_plane</td>\n",
       "      <td>248.27161</td>\n",
       "      <td>-10.449729</td>\n",
       "      <td>72.618055</td>\n",
       "      <td>i</td>\n",
       "      <td>2.379349</td>\n",
       "      <td>26.008429</td>\n",
       "      <td>28.257648</td>\n",
       "      <td>-2.249219</td>\n",
       "      <td>BLOCK-365</td>\n",
       "      <td>dusty_plane</td>\n",
       "    </tr>\n",
       "  </tbody>\n",
       "</table>\n",
       "</div>"
      ],
      "text/plain": [
       "          visit_id   day_obs seq_num                       time_target  \\\n",
       "240  2025070100362  20250701     362  2025-07-02 02:41:43.481840+00:00   \n",
       "\n",
       "                     time_observation                   obs_start  \\\n",
       "240  2025-07-02 02:43:09.948212+00:00  2025-07-02T02:43:15.581000   \n",
       "\n",
       "    scriptSalIndex  target_name       s_ra      s_dec sky_rotation band  \\\n",
       "240         110419  dusty_plane  248.27161 -10.449729    72.618055    i   \n",
       "\n",
       "    psf_sigma_median zero_point_1s zero_point_1s_pred    clouds  \\\n",
       "240         2.379349     26.008429          28.257648 -2.249219   \n",
       "\n",
       "    science_program  target_name  \n",
       "240       BLOCK-365  dusty_plane  "
      ]
     },
     "metadata": {},
     "output_type": "display_data"
    },
    {
     "name": "stdout",
     "output_type": "stream",
     "text": [
      "IMG_TYPE science. Flags: big zeropoint offset.\n"
     ]
    },
    {
     "data": {
      "text/html": [
       "<a href=\"https://usdf-rsp.slac.stanford.edu/rubintv/summit-usdf/lsstcam/event?key=lsstcam/2025-07-01/calexp_mosaic/000362/lsstcam_calexp_mosaic_2025-07-01_000362.jpg\" target=\"_blank\" rel=\"noreferrer noopener\">https://usdf-rsp.slac.stanford.edu/rubintv/summit-usdf/lsstcam/event?key=lsstcam/2025-07-01/calexp_mosaic/000362/lsstcam_calexp_mosaic_2025-07-01_000362.jpg</a>"
      ],
      "text/plain": [
       "<IPython.core.display.HTML object>"
      ]
     },
     "metadata": {},
     "output_type": "display_data"
    },
    {
     "data": {
      "text/html": [
       "<a href=\"https://usdf-rsp.slac.stanford.edu/rubintv/summit-usdf/lsstcam/event?key=lsstcam/2025-07-01/witness_detector/000362/lsstcam_witness_detector_2025-07-01_000362.jpg\" target=\"_blank\" rel=\"noreferrer noopener\">https://usdf-rsp.slac.stanford.edu/rubintv/summit-usdf/lsstcam/event?key=lsstcam/2025-07-01/witness_detector/000362/lsstcam_witness_detector_2025-07-01_000362.jpg</a>"
      ],
      "text/plain": [
       "<IPython.core.display.HTML object>"
      ]
     },
     "metadata": {},
     "output_type": "display_data"
    },
    {
     "data": {
      "text/html": [
       "<br>"
      ],
      "text/plain": [
       "<IPython.core.display.HTML object>"
      ]
     },
     "metadata": {},
     "output_type": "display_data"
    },
    {
     "data": {
      "text/html": [
       "<div>\n",
       "<style scoped>\n",
       "    .dataframe tbody tr th:only-of-type {\n",
       "        vertical-align: middle;\n",
       "    }\n",
       "\n",
       "    .dataframe tbody tr th {\n",
       "        vertical-align: top;\n",
       "    }\n",
       "\n",
       "    .dataframe thead th {\n",
       "        text-align: right;\n",
       "    }\n",
       "</style>\n",
       "<table border=\"1\" class=\"dataframe\">\n",
       "  <thead>\n",
       "    <tr style=\"text-align: right;\">\n",
       "      <th></th>\n",
       "      <th>visit_id</th>\n",
       "      <th>day_obs</th>\n",
       "      <th>seq_num</th>\n",
       "      <th>time_target</th>\n",
       "      <th>time_observation</th>\n",
       "      <th>obs_start</th>\n",
       "      <th>scriptSalIndex</th>\n",
       "      <th>target_name</th>\n",
       "      <th>s_ra</th>\n",
       "      <th>s_dec</th>\n",
       "      <th>sky_rotation</th>\n",
       "      <th>band</th>\n",
       "      <th>psf_sigma_median</th>\n",
       "      <th>zero_point_1s</th>\n",
       "      <th>zero_point_1s_pred</th>\n",
       "      <th>clouds</th>\n",
       "      <th>science_program</th>\n",
       "      <th>target_name</th>\n",
       "    </tr>\n",
       "  </thead>\n",
       "  <tbody>\n",
       "    <tr>\n",
       "      <th>245</th>\n",
       "      <td>2025070100367</td>\n",
       "      <td>20250701</td>\n",
       "      <td>367</td>\n",
       "      <td>2025-07-02 02:47:39.379087+00:00</td>\n",
       "      <td>2025-07-02 02:49:07.607387+00:00</td>\n",
       "      <td>2025-07-02T02:49:12.785000</td>\n",
       "      <td>110426</td>\n",
       "      <td>dusty_plane</td>\n",
       "      <td>250.144435</td>\n",
       "      <td>-15.419901</td>\n",
       "      <td>83.083064</td>\n",
       "      <td>i</td>\n",
       "      <td>3.241598</td>\n",
       "      <td>26.49159</td>\n",
       "      <td>28.25974</td>\n",
       "      <td>-1.76815</td>\n",
       "      <td>BLOCK-365</td>\n",
       "      <td>dusty_plane</td>\n",
       "    </tr>\n",
       "  </tbody>\n",
       "</table>\n",
       "</div>"
      ],
      "text/plain": [
       "          visit_id   day_obs seq_num                       time_target  \\\n",
       "245  2025070100367  20250701     367  2025-07-02 02:47:39.379087+00:00   \n",
       "\n",
       "                     time_observation                   obs_start  \\\n",
       "245  2025-07-02 02:49:07.607387+00:00  2025-07-02T02:49:12.785000   \n",
       "\n",
       "    scriptSalIndex  target_name        s_ra      s_dec sky_rotation band  \\\n",
       "245         110426  dusty_plane  250.144435 -15.419901    83.083064    i   \n",
       "\n",
       "    psf_sigma_median zero_point_1s zero_point_1s_pred   clouds  \\\n",
       "245         3.241598      26.49159           28.25974 -1.76815   \n",
       "\n",
       "    science_program  target_name  \n",
       "245       BLOCK-365  dusty_plane  "
      ]
     },
     "metadata": {},
     "output_type": "display_data"
    },
    {
     "name": "stdout",
     "output_type": "stream",
     "text": [
      "IMG_TYPE science. Flags: big zeropoint offset.\n"
     ]
    },
    {
     "data": {
      "text/html": [
       "<a href=\"https://usdf-rsp.slac.stanford.edu/rubintv/summit-usdf/lsstcam/event?key=lsstcam/2025-07-01/calexp_mosaic/000367/lsstcam_calexp_mosaic_2025-07-01_000367.jpg\" target=\"_blank\" rel=\"noreferrer noopener\">https://usdf-rsp.slac.stanford.edu/rubintv/summit-usdf/lsstcam/event?key=lsstcam/2025-07-01/calexp_mosaic/000367/lsstcam_calexp_mosaic_2025-07-01_000367.jpg</a>"
      ],
      "text/plain": [
       "<IPython.core.display.HTML object>"
      ]
     },
     "metadata": {},
     "output_type": "display_data"
    },
    {
     "data": {
      "text/html": [
       "<a href=\"https://usdf-rsp.slac.stanford.edu/rubintv/summit-usdf/lsstcam/event?key=lsstcam/2025-07-01/witness_detector/000367/lsstcam_witness_detector_2025-07-01_000367.jpg\" target=\"_blank\" rel=\"noreferrer noopener\">https://usdf-rsp.slac.stanford.edu/rubintv/summit-usdf/lsstcam/event?key=lsstcam/2025-07-01/witness_detector/000367/lsstcam_witness_detector_2025-07-01_000367.jpg</a>"
      ],
      "text/plain": [
       "<IPython.core.display.HTML object>"
      ]
     },
     "metadata": {},
     "output_type": "display_data"
    },
    {
     "data": {
      "text/html": [
       "<br>"
      ],
      "text/plain": [
       "<IPython.core.display.HTML object>"
      ]
     },
     "metadata": {},
     "output_type": "display_data"
    },
    {
     "data": {
      "text/html": [
       "<div>\n",
       "<style scoped>\n",
       "    .dataframe tbody tr th:only-of-type {\n",
       "        vertical-align: middle;\n",
       "    }\n",
       "\n",
       "    .dataframe tbody tr th {\n",
       "        vertical-align: top;\n",
       "    }\n",
       "\n",
       "    .dataframe thead th {\n",
       "        text-align: right;\n",
       "    }\n",
       "</style>\n",
       "<table border=\"1\" class=\"dataframe\">\n",
       "  <thead>\n",
       "    <tr style=\"text-align: right;\">\n",
       "      <th></th>\n",
       "      <th>visit_id</th>\n",
       "      <th>day_obs</th>\n",
       "      <th>seq_num</th>\n",
       "      <th>time_target</th>\n",
       "      <th>time_observation</th>\n",
       "      <th>obs_start</th>\n",
       "      <th>scriptSalIndex</th>\n",
       "      <th>target_name</th>\n",
       "      <th>s_ra</th>\n",
       "      <th>s_dec</th>\n",
       "      <th>sky_rotation</th>\n",
       "      <th>band</th>\n",
       "      <th>psf_sigma_median</th>\n",
       "      <th>zero_point_1s</th>\n",
       "      <th>zero_point_1s_pred</th>\n",
       "      <th>clouds</th>\n",
       "      <th>science_program</th>\n",
       "      <th>target_name</th>\n",
       "    </tr>\n",
       "  </thead>\n",
       "  <tbody>\n",
       "    <tr>\n",
       "      <th>246</th>\n",
       "      <td>2025070100368</td>\n",
       "      <td>20250701</td>\n",
       "      <td>368</td>\n",
       "      <td>2025-07-02 02:48:21.515586+00:00</td>\n",
       "      <td>2025-07-02 02:49:53.761780+00:00</td>\n",
       "      <td>2025-07-02T02:49:58.778000</td>\n",
       "      <td>110427</td>\n",
       "      <td>dusty_plane</td>\n",
       "      <td>253.070692</td>\n",
       "      <td>-14.704941</td>\n",
       "      <td>87.828766</td>\n",
       "      <td>i</td>\n",
       "      <td>3.063098</td>\n",
       "      <td>26.448329</td>\n",
       "      <td>28.259476</td>\n",
       "      <td>-1.811146</td>\n",
       "      <td>BLOCK-365</td>\n",
       "      <td>dusty_plane</td>\n",
       "    </tr>\n",
       "  </tbody>\n",
       "</table>\n",
       "</div>"
      ],
      "text/plain": [
       "          visit_id   day_obs seq_num                       time_target  \\\n",
       "246  2025070100368  20250701     368  2025-07-02 02:48:21.515586+00:00   \n",
       "\n",
       "                     time_observation                   obs_start  \\\n",
       "246  2025-07-02 02:49:53.761780+00:00  2025-07-02T02:49:58.778000   \n",
       "\n",
       "    scriptSalIndex  target_name        s_ra      s_dec sky_rotation band  \\\n",
       "246         110427  dusty_plane  253.070692 -14.704941    87.828766    i   \n",
       "\n",
       "    psf_sigma_median zero_point_1s zero_point_1s_pred    clouds  \\\n",
       "246         3.063098     26.448329          28.259476 -1.811146   \n",
       "\n",
       "    science_program  target_name  \n",
       "246       BLOCK-365  dusty_plane  "
      ]
     },
     "metadata": {},
     "output_type": "display_data"
    },
    {
     "name": "stdout",
     "output_type": "stream",
     "text": [
      "IMG_TYPE science. Flags: big zeropoint offset.\n"
     ]
    },
    {
     "data": {
      "text/html": [
       "<a href=\"https://usdf-rsp.slac.stanford.edu/rubintv/summit-usdf/lsstcam/event?key=lsstcam/2025-07-01/calexp_mosaic/000368/lsstcam_calexp_mosaic_2025-07-01_000368.jpg\" target=\"_blank\" rel=\"noreferrer noopener\">https://usdf-rsp.slac.stanford.edu/rubintv/summit-usdf/lsstcam/event?key=lsstcam/2025-07-01/calexp_mosaic/000368/lsstcam_calexp_mosaic_2025-07-01_000368.jpg</a>"
      ],
      "text/plain": [
       "<IPython.core.display.HTML object>"
      ]
     },
     "metadata": {},
     "output_type": "display_data"
    },
    {
     "data": {
      "text/html": [
       "<a href=\"https://usdf-rsp.slac.stanford.edu/rubintv/summit-usdf/lsstcam/event?key=lsstcam/2025-07-01/witness_detector/000368/lsstcam_witness_detector_2025-07-01_000368.jpg\" target=\"_blank\" rel=\"noreferrer noopener\">https://usdf-rsp.slac.stanford.edu/rubintv/summit-usdf/lsstcam/event?key=lsstcam/2025-07-01/witness_detector/000368/lsstcam_witness_detector_2025-07-01_000368.jpg</a>"
      ],
      "text/plain": [
       "<IPython.core.display.HTML object>"
      ]
     },
     "metadata": {},
     "output_type": "display_data"
    },
    {
     "data": {
      "text/html": [
       "<br>"
      ],
      "text/plain": [
       "<IPython.core.display.HTML object>"
      ]
     },
     "metadata": {},
     "output_type": "display_data"
    },
    {
     "data": {
      "text/html": [
       "<div>\n",
       "<style scoped>\n",
       "    .dataframe tbody tr th:only-of-type {\n",
       "        vertical-align: middle;\n",
       "    }\n",
       "\n",
       "    .dataframe tbody tr th {\n",
       "        vertical-align: top;\n",
       "    }\n",
       "\n",
       "    .dataframe thead th {\n",
       "        text-align: right;\n",
       "    }\n",
       "</style>\n",
       "<table border=\"1\" class=\"dataframe\">\n",
       "  <thead>\n",
       "    <tr style=\"text-align: right;\">\n",
       "      <th></th>\n",
       "      <th>visit_id</th>\n",
       "      <th>day_obs</th>\n",
       "      <th>seq_num</th>\n",
       "      <th>time_target</th>\n",
       "      <th>time_observation</th>\n",
       "      <th>obs_start</th>\n",
       "      <th>scriptSalIndex</th>\n",
       "      <th>target_name</th>\n",
       "      <th>s_ra</th>\n",
       "      <th>s_dec</th>\n",
       "      <th>sky_rotation</th>\n",
       "      <th>band</th>\n",
       "      <th>psf_sigma_median</th>\n",
       "      <th>zero_point_1s</th>\n",
       "      <th>zero_point_1s_pred</th>\n",
       "      <th>clouds</th>\n",
       "      <th>science_program</th>\n",
       "      <th>target_name</th>\n",
       "    </tr>\n",
       "  </thead>\n",
       "  <tbody>\n",
       "    <tr>\n",
       "      <th>251</th>\n",
       "      <td>2025070100373</td>\n",
       "      <td>20250701</td>\n",
       "      <td>373</td>\n",
       "      <td>2025-07-02 02:52:57.357625+00:00</td>\n",
       "      <td>2025-07-02 02:54:27.641349+00:00</td>\n",
       "      <td>2025-07-02T02:54:33.127000</td>\n",
       "      <td>110432</td>\n",
       "      <td>bulgy</td>\n",
       "      <td>276.106674</td>\n",
       "      <td>-30.768424</td>\n",
       "      <td>131.709031</td>\n",
       "      <td>i</td>\n",
       "      <td>2.709453</td>\n",
       "      <td>26.091107</td>\n",
       "      <td>28.257489</td>\n",
       "      <td>-2.166382</td>\n",
       "      <td>BLOCK-365</td>\n",
       "      <td>bulgy</td>\n",
       "    </tr>\n",
       "  </tbody>\n",
       "</table>\n",
       "</div>"
      ],
      "text/plain": [
       "          visit_id   day_obs seq_num                       time_target  \\\n",
       "251  2025070100373  20250701     373  2025-07-02 02:52:57.357625+00:00   \n",
       "\n",
       "                     time_observation                   obs_start  \\\n",
       "251  2025-07-02 02:54:27.641349+00:00  2025-07-02T02:54:33.127000   \n",
       "\n",
       "    scriptSalIndex target_name        s_ra      s_dec sky_rotation band  \\\n",
       "251         110432       bulgy  276.106674 -30.768424   131.709031    i   \n",
       "\n",
       "    psf_sigma_median zero_point_1s zero_point_1s_pred    clouds  \\\n",
       "251         2.709453     26.091107          28.257489 -2.166382   \n",
       "\n",
       "    science_program target_name  \n",
       "251       BLOCK-365       bulgy  "
      ]
     },
     "metadata": {},
     "output_type": "display_data"
    },
    {
     "name": "stdout",
     "output_type": "stream",
     "text": [
      "IMG_TYPE science. Flags: big zeropoint offset.\n"
     ]
    },
    {
     "data": {
      "text/html": [
       "<a href=\"https://usdf-rsp.slac.stanford.edu/rubintv/summit-usdf/lsstcam/event?key=lsstcam/2025-07-01/calexp_mosaic/000373/lsstcam_calexp_mosaic_2025-07-01_000373.jpg\" target=\"_blank\" rel=\"noreferrer noopener\">https://usdf-rsp.slac.stanford.edu/rubintv/summit-usdf/lsstcam/event?key=lsstcam/2025-07-01/calexp_mosaic/000373/lsstcam_calexp_mosaic_2025-07-01_000373.jpg</a>"
      ],
      "text/plain": [
       "<IPython.core.display.HTML object>"
      ]
     },
     "metadata": {},
     "output_type": "display_data"
    },
    {
     "data": {
      "text/html": [
       "<a href=\"https://usdf-rsp.slac.stanford.edu/rubintv/summit-usdf/lsstcam/event?key=lsstcam/2025-07-01/witness_detector/000373/lsstcam_witness_detector_2025-07-01_000373.jpg\" target=\"_blank\" rel=\"noreferrer noopener\">https://usdf-rsp.slac.stanford.edu/rubintv/summit-usdf/lsstcam/event?key=lsstcam/2025-07-01/witness_detector/000373/lsstcam_witness_detector_2025-07-01_000373.jpg</a>"
      ],
      "text/plain": [
       "<IPython.core.display.HTML object>"
      ]
     },
     "metadata": {},
     "output_type": "display_data"
    },
    {
     "data": {
      "text/html": [
       "<br>"
      ],
      "text/plain": [
       "<IPython.core.display.HTML object>"
      ]
     },
     "metadata": {},
     "output_type": "display_data"
    },
    {
     "data": {
      "text/html": [
       "<div>\n",
       "<style scoped>\n",
       "    .dataframe tbody tr th:only-of-type {\n",
       "        vertical-align: middle;\n",
       "    }\n",
       "\n",
       "    .dataframe tbody tr th {\n",
       "        vertical-align: top;\n",
       "    }\n",
       "\n",
       "    .dataframe thead th {\n",
       "        text-align: right;\n",
       "    }\n",
       "</style>\n",
       "<table border=\"1\" class=\"dataframe\">\n",
       "  <thead>\n",
       "    <tr style=\"text-align: right;\">\n",
       "      <th></th>\n",
       "      <th>visit_id</th>\n",
       "      <th>day_obs</th>\n",
       "      <th>seq_num</th>\n",
       "      <th>time_target</th>\n",
       "      <th>time_observation</th>\n",
       "      <th>obs_start</th>\n",
       "      <th>scriptSalIndex</th>\n",
       "      <th>target_name</th>\n",
       "      <th>s_ra</th>\n",
       "      <th>s_dec</th>\n",
       "      <th>sky_rotation</th>\n",
       "      <th>band</th>\n",
       "      <th>psf_sigma_median</th>\n",
       "      <th>zero_point_1s</th>\n",
       "      <th>zero_point_1s_pred</th>\n",
       "      <th>clouds</th>\n",
       "      <th>science_program</th>\n",
       "      <th>target_name</th>\n",
       "    </tr>\n",
       "  </thead>\n",
       "  <tbody>\n",
       "    <tr>\n",
       "      <th>256</th>\n",
       "      <td>2025070100378</td>\n",
       "      <td>20250701</td>\n",
       "      <td>378</td>\n",
       "      <td>2025-07-02 02:56:38.552396+00:00</td>\n",
       "      <td>2025-07-02 03:03:57.581905+00:00</td>\n",
       "      <td>2025-07-02T03:04:03.446000</td>\n",
       "      <td>110437</td>\n",
       "      <td>bulgy</td>\n",
       "      <td>281.877915</td>\n",
       "      <td>-25.31909</td>\n",
       "      <td>123.03406</td>\n",
       "      <td>i</td>\n",
       "      <td>6.920258</td>\n",
       "      <td>NaN</td>\n",
       "      <td>28.255228</td>\n",
       "      <td>NaN</td>\n",
       "      <td>BLOCK-365</td>\n",
       "      <td>bulgy</td>\n",
       "    </tr>\n",
       "  </tbody>\n",
       "</table>\n",
       "</div>"
      ],
      "text/plain": [
       "          visit_id   day_obs seq_num                       time_target  \\\n",
       "256  2025070100378  20250701     378  2025-07-02 02:56:38.552396+00:00   \n",
       "\n",
       "                     time_observation                   obs_start  \\\n",
       "256  2025-07-02 03:03:57.581905+00:00  2025-07-02T03:04:03.446000   \n",
       "\n",
       "    scriptSalIndex target_name        s_ra     s_dec sky_rotation band  \\\n",
       "256         110437       bulgy  281.877915 -25.31909    123.03406    i   \n",
       "\n",
       "    psf_sigma_median zero_point_1s zero_point_1s_pred clouds science_program  \\\n",
       "256         6.920258           NaN          28.255228    NaN       BLOCK-365   \n",
       "\n",
       "    target_name  \n",
       "256       bulgy  "
      ]
     },
     "metadata": {},
     "output_type": "display_data"
    },
    {
     "name": "stdout",
     "output_type": "stream",
     "text": [
      "IMG_TYPE science. Flags: no quicklook.\n"
     ]
    },
    {
     "data": {
      "text/html": [
       "<a href=\"https://usdf-rsp.slac.stanford.edu/rubintv/summit-usdf/lsstcam/event?key=lsstcam/2025-07-01/calexp_mosaic/000378/lsstcam_calexp_mosaic_2025-07-01_000378.jpg\" target=\"_blank\" rel=\"noreferrer noopener\">https://usdf-rsp.slac.stanford.edu/rubintv/summit-usdf/lsstcam/event?key=lsstcam/2025-07-01/calexp_mosaic/000378/lsstcam_calexp_mosaic_2025-07-01_000378.jpg</a>"
      ],
      "text/plain": [
       "<IPython.core.display.HTML object>"
      ]
     },
     "metadata": {},
     "output_type": "display_data"
    },
    {
     "data": {
      "text/html": [
       "<a href=\"https://usdf-rsp.slac.stanford.edu/rubintv/summit-usdf/lsstcam/event?key=lsstcam/2025-07-01/witness_detector/000378/lsstcam_witness_detector_2025-07-01_000378.jpg\" target=\"_blank\" rel=\"noreferrer noopener\">https://usdf-rsp.slac.stanford.edu/rubintv/summit-usdf/lsstcam/event?key=lsstcam/2025-07-01/witness_detector/000378/lsstcam_witness_detector_2025-07-01_000378.jpg</a>"
      ],
      "text/plain": [
       "<IPython.core.display.HTML object>"
      ]
     },
     "metadata": {},
     "output_type": "display_data"
    },
    {
     "data": {
      "text/html": [
       "<br>"
      ],
      "text/plain": [
       "<IPython.core.display.HTML object>"
      ]
     },
     "metadata": {},
     "output_type": "display_data"
    },
    {
     "data": {
      "text/html": [
       "<div>\n",
       "<style scoped>\n",
       "    .dataframe tbody tr th:only-of-type {\n",
       "        vertical-align: middle;\n",
       "    }\n",
       "\n",
       "    .dataframe tbody tr th {\n",
       "        vertical-align: top;\n",
       "    }\n",
       "\n",
       "    .dataframe thead th {\n",
       "        text-align: right;\n",
       "    }\n",
       "</style>\n",
       "<table border=\"1\" class=\"dataframe\">\n",
       "  <thead>\n",
       "    <tr style=\"text-align: right;\">\n",
       "      <th></th>\n",
       "      <th>visit_id</th>\n",
       "      <th>day_obs</th>\n",
       "      <th>seq_num</th>\n",
       "      <th>time_target</th>\n",
       "      <th>time_observation</th>\n",
       "      <th>obs_start</th>\n",
       "      <th>scriptSalIndex</th>\n",
       "      <th>target_name</th>\n",
       "      <th>s_ra</th>\n",
       "      <th>s_dec</th>\n",
       "      <th>sky_rotation</th>\n",
       "      <th>band</th>\n",
       "      <th>psf_sigma_median</th>\n",
       "      <th>zero_point_1s</th>\n",
       "      <th>zero_point_1s_pred</th>\n",
       "      <th>clouds</th>\n",
       "      <th>science_program</th>\n",
       "      <th>target_name</th>\n",
       "    </tr>\n",
       "  </thead>\n",
       "  <tbody>\n",
       "    <tr>\n",
       "      <th>258</th>\n",
       "      <td>2025070100381</td>\n",
       "      <td>20250701</td>\n",
       "      <td>381</td>\n",
       "      <td>2025-07-02 03:18:53.939729+00:00</td>\n",
       "      <td>2025-07-02 03:20:15.393945+00:00</td>\n",
       "      <td>2025-07-02T03:20:20.734000</td>\n",
       "      <td>110439</td>\n",
       "      <td>lowdust</td>\n",
       "      <td>284.854282</td>\n",
       "      <td>-27.06936</td>\n",
       "      <td>124.72905</td>\n",
       "      <td>i</td>\n",
       "      <td>2.419401</td>\n",
       "      <td>25.308225</td>\n",
       "      <td>28.256096</td>\n",
       "      <td>-2.947872</td>\n",
       "      <td>BLOCK-365</td>\n",
       "      <td>lowdust</td>\n",
       "    </tr>\n",
       "  </tbody>\n",
       "</table>\n",
       "</div>"
      ],
      "text/plain": [
       "          visit_id   day_obs seq_num                       time_target  \\\n",
       "258  2025070100381  20250701     381  2025-07-02 03:18:53.939729+00:00   \n",
       "\n",
       "                     time_observation                   obs_start  \\\n",
       "258  2025-07-02 03:20:15.393945+00:00  2025-07-02T03:20:20.734000   \n",
       "\n",
       "    scriptSalIndex target_name        s_ra     s_dec sky_rotation band  \\\n",
       "258         110439     lowdust  284.854282 -27.06936    124.72905    i   \n",
       "\n",
       "    psf_sigma_median zero_point_1s zero_point_1s_pred    clouds  \\\n",
       "258         2.419401     25.308225          28.256096 -2.947872   \n",
       "\n",
       "    science_program target_name  \n",
       "258       BLOCK-365     lowdust  "
      ]
     },
     "metadata": {},
     "output_type": "display_data"
    },
    {
     "name": "stdout",
     "output_type": "stream",
     "text": [
      "IMG_TYPE science. Flags: big zeropoint offset.\n"
     ]
    },
    {
     "data": {
      "text/html": [
       "<a href=\"https://usdf-rsp.slac.stanford.edu/rubintv/summit-usdf/lsstcam/event?key=lsstcam/2025-07-01/calexp_mosaic/000381/lsstcam_calexp_mosaic_2025-07-01_000381.jpg\" target=\"_blank\" rel=\"noreferrer noopener\">https://usdf-rsp.slac.stanford.edu/rubintv/summit-usdf/lsstcam/event?key=lsstcam/2025-07-01/calexp_mosaic/000381/lsstcam_calexp_mosaic_2025-07-01_000381.jpg</a>"
      ],
      "text/plain": [
       "<IPython.core.display.HTML object>"
      ]
     },
     "metadata": {},
     "output_type": "display_data"
    },
    {
     "data": {
      "text/html": [
       "<a href=\"https://usdf-rsp.slac.stanford.edu/rubintv/summit-usdf/lsstcam/event?key=lsstcam/2025-07-01/witness_detector/000381/lsstcam_witness_detector_2025-07-01_000381.jpg\" target=\"_blank\" rel=\"noreferrer noopener\">https://usdf-rsp.slac.stanford.edu/rubintv/summit-usdf/lsstcam/event?key=lsstcam/2025-07-01/witness_detector/000381/lsstcam_witness_detector_2025-07-01_000381.jpg</a>"
      ],
      "text/plain": [
       "<IPython.core.display.HTML object>"
      ]
     },
     "metadata": {},
     "output_type": "display_data"
    },
    {
     "data": {
      "text/html": [
       "<br>"
      ],
      "text/plain": [
       "<IPython.core.display.HTML object>"
      ]
     },
     "metadata": {},
     "output_type": "display_data"
    },
    {
     "data": {
      "text/html": [
       "<div>\n",
       "<style scoped>\n",
       "    .dataframe tbody tr th:only-of-type {\n",
       "        vertical-align: middle;\n",
       "    }\n",
       "\n",
       "    .dataframe tbody tr th {\n",
       "        vertical-align: top;\n",
       "    }\n",
       "\n",
       "    .dataframe thead th {\n",
       "        text-align: right;\n",
       "    }\n",
       "</style>\n",
       "<table border=\"1\" class=\"dataframe\">\n",
       "  <thead>\n",
       "    <tr style=\"text-align: right;\">\n",
       "      <th></th>\n",
       "      <th>visit_id</th>\n",
       "      <th>day_obs</th>\n",
       "      <th>seq_num</th>\n",
       "      <th>time_target</th>\n",
       "      <th>time_observation</th>\n",
       "      <th>obs_start</th>\n",
       "      <th>scriptSalIndex</th>\n",
       "      <th>target_name</th>\n",
       "      <th>s_ra</th>\n",
       "      <th>s_dec</th>\n",
       "      <th>sky_rotation</th>\n",
       "      <th>band</th>\n",
       "      <th>psf_sigma_median</th>\n",
       "      <th>zero_point_1s</th>\n",
       "      <th>zero_point_1s_pred</th>\n",
       "      <th>clouds</th>\n",
       "      <th>science_program</th>\n",
       "      <th>target_name</th>\n",
       "    </tr>\n",
       "  </thead>\n",
       "  <tbody>\n",
       "    <tr>\n",
       "      <th>259</th>\n",
       "      <td>2025070100382</td>\n",
       "      <td>20250701</td>\n",
       "      <td>382</td>\n",
       "      <td>2025-07-02 03:19:38.305632+00:00</td>\n",
       "      <td>2025-07-02 03:20:53.558202+00:00</td>\n",
       "      <td>2025-07-02T03:20:58.840000</td>\n",
       "      <td>110440</td>\n",
       "      <td>lowdust</td>\n",
       "      <td>287.65517</td>\n",
       "      <td>-25.732902</td>\n",
       "      <td>122.849596</td>\n",
       "      <td>i</td>\n",
       "      <td>2.600189</td>\n",
       "      <td>25.157873</td>\n",
       "      <td>28.254445</td>\n",
       "      <td>-3.096572</td>\n",
       "      <td>BLOCK-365</td>\n",
       "      <td>lowdust</td>\n",
       "    </tr>\n",
       "  </tbody>\n",
       "</table>\n",
       "</div>"
      ],
      "text/plain": [
       "          visit_id   day_obs seq_num                       time_target  \\\n",
       "259  2025070100382  20250701     382  2025-07-02 03:19:38.305632+00:00   \n",
       "\n",
       "                     time_observation                   obs_start  \\\n",
       "259  2025-07-02 03:20:53.558202+00:00  2025-07-02T03:20:58.840000   \n",
       "\n",
       "    scriptSalIndex target_name       s_ra      s_dec sky_rotation band  \\\n",
       "259         110440     lowdust  287.65517 -25.732902   122.849596    i   \n",
       "\n",
       "    psf_sigma_median zero_point_1s zero_point_1s_pred    clouds  \\\n",
       "259         2.600189     25.157873          28.254445 -3.096572   \n",
       "\n",
       "    science_program target_name  \n",
       "259       BLOCK-365     lowdust  "
      ]
     },
     "metadata": {},
     "output_type": "display_data"
    },
    {
     "name": "stdout",
     "output_type": "stream",
     "text": [
      "IMG_TYPE science. Flags: big zeropoint offset.\n"
     ]
    },
    {
     "data": {
      "text/html": [
       "<a href=\"https://usdf-rsp.slac.stanford.edu/rubintv/summit-usdf/lsstcam/event?key=lsstcam/2025-07-01/calexp_mosaic/000382/lsstcam_calexp_mosaic_2025-07-01_000382.jpg\" target=\"_blank\" rel=\"noreferrer noopener\">https://usdf-rsp.slac.stanford.edu/rubintv/summit-usdf/lsstcam/event?key=lsstcam/2025-07-01/calexp_mosaic/000382/lsstcam_calexp_mosaic_2025-07-01_000382.jpg</a>"
      ],
      "text/plain": [
       "<IPython.core.display.HTML object>"
      ]
     },
     "metadata": {},
     "output_type": "display_data"
    },
    {
     "data": {
      "text/html": [
       "<a href=\"https://usdf-rsp.slac.stanford.edu/rubintv/summit-usdf/lsstcam/event?key=lsstcam/2025-07-01/witness_detector/000382/lsstcam_witness_detector_2025-07-01_000382.jpg\" target=\"_blank\" rel=\"noreferrer noopener\">https://usdf-rsp.slac.stanford.edu/rubintv/summit-usdf/lsstcam/event?key=lsstcam/2025-07-01/witness_detector/000382/lsstcam_witness_detector_2025-07-01_000382.jpg</a>"
      ],
      "text/plain": [
       "<IPython.core.display.HTML object>"
      ]
     },
     "metadata": {},
     "output_type": "display_data"
    },
    {
     "data": {
      "text/html": [
       "<br>"
      ],
      "text/plain": [
       "<IPython.core.display.HTML object>"
      ]
     },
     "metadata": {},
     "output_type": "display_data"
    },
    {
     "data": {
      "text/html": [
       "<div>\n",
       "<style scoped>\n",
       "    .dataframe tbody tr th:only-of-type {\n",
       "        vertical-align: middle;\n",
       "    }\n",
       "\n",
       "    .dataframe tbody tr th {\n",
       "        vertical-align: top;\n",
       "    }\n",
       "\n",
       "    .dataframe thead th {\n",
       "        text-align: right;\n",
       "    }\n",
       "</style>\n",
       "<table border=\"1\" class=\"dataframe\">\n",
       "  <thead>\n",
       "    <tr style=\"text-align: right;\">\n",
       "      <th></th>\n",
       "      <th>visit_id</th>\n",
       "      <th>day_obs</th>\n",
       "      <th>seq_num</th>\n",
       "      <th>time_target</th>\n",
       "      <th>time_observation</th>\n",
       "      <th>obs_start</th>\n",
       "      <th>scriptSalIndex</th>\n",
       "      <th>target_name</th>\n",
       "      <th>s_ra</th>\n",
       "      <th>s_dec</th>\n",
       "      <th>sky_rotation</th>\n",
       "      <th>band</th>\n",
       "      <th>psf_sigma_median</th>\n",
       "      <th>zero_point_1s</th>\n",
       "      <th>zero_point_1s_pred</th>\n",
       "      <th>clouds</th>\n",
       "      <th>science_program</th>\n",
       "      <th>target_name</th>\n",
       "    </tr>\n",
       "  </thead>\n",
       "  <tbody>\n",
       "    <tr>\n",
       "      <th>279</th>\n",
       "      <td>2025070100402</td>\n",
       "      <td>20250701</td>\n",
       "      <td>402</td>\n",
       "      <td>2025-07-02 03:33:22.293940+00:00</td>\n",
       "      <td>2025-07-02 03:37:04.968293+00:00</td>\n",
       "      <td>2025-07-02T03:37:10.777000</td>\n",
       "      <td>110460</td>\n",
       "      <td>bulgy</td>\n",
       "      <td>279.373844</td>\n",
       "      <td>-13.995271</td>\n",
       "      <td>90.61829</td>\n",
       "      <td>r</td>\n",
       "      <td>2.868118</td>\n",
       "      <td>25.957844</td>\n",
       "      <td>28.459882</td>\n",
       "      <td>-2.502037</td>\n",
       "      <td>BLOCK-365</td>\n",
       "      <td>bulgy</td>\n",
       "    </tr>\n",
       "  </tbody>\n",
       "</table>\n",
       "</div>"
      ],
      "text/plain": [
       "          visit_id   day_obs seq_num                       time_target  \\\n",
       "279  2025070100402  20250701     402  2025-07-02 03:33:22.293940+00:00   \n",
       "\n",
       "                     time_observation                   obs_start  \\\n",
       "279  2025-07-02 03:37:04.968293+00:00  2025-07-02T03:37:10.777000   \n",
       "\n",
       "    scriptSalIndex target_name        s_ra      s_dec sky_rotation band  \\\n",
       "279         110460       bulgy  279.373844 -13.995271     90.61829    r   \n",
       "\n",
       "    psf_sigma_median zero_point_1s zero_point_1s_pred    clouds  \\\n",
       "279         2.868118     25.957844          28.459882 -2.502037   \n",
       "\n",
       "    science_program target_name  \n",
       "279       BLOCK-365       bulgy  "
      ]
     },
     "metadata": {},
     "output_type": "display_data"
    },
    {
     "name": "stdout",
     "output_type": "stream",
     "text": [
      "IMG_TYPE science. Flags: big zeropoint offset.\n"
     ]
    },
    {
     "data": {
      "text/html": [
       "<a href=\"https://usdf-rsp.slac.stanford.edu/rubintv/summit-usdf/lsstcam/event?key=lsstcam/2025-07-01/calexp_mosaic/000402/lsstcam_calexp_mosaic_2025-07-01_000402.jpg\" target=\"_blank\" rel=\"noreferrer noopener\">https://usdf-rsp.slac.stanford.edu/rubintv/summit-usdf/lsstcam/event?key=lsstcam/2025-07-01/calexp_mosaic/000402/lsstcam_calexp_mosaic_2025-07-01_000402.jpg</a>"
      ],
      "text/plain": [
       "<IPython.core.display.HTML object>"
      ]
     },
     "metadata": {},
     "output_type": "display_data"
    },
    {
     "data": {
      "text/html": [
       "<a href=\"https://usdf-rsp.slac.stanford.edu/rubintv/summit-usdf/lsstcam/event?key=lsstcam/2025-07-01/witness_detector/000402/lsstcam_witness_detector_2025-07-01_000402.jpg\" target=\"_blank\" rel=\"noreferrer noopener\">https://usdf-rsp.slac.stanford.edu/rubintv/summit-usdf/lsstcam/event?key=lsstcam/2025-07-01/witness_detector/000402/lsstcam_witness_detector_2025-07-01_000402.jpg</a>"
      ],
      "text/plain": [
       "<IPython.core.display.HTML object>"
      ]
     },
     "metadata": {},
     "output_type": "display_data"
    },
    {
     "data": {
      "text/html": [
       "<br>"
      ],
      "text/plain": [
       "<IPython.core.display.HTML object>"
      ]
     },
     "metadata": {},
     "output_type": "display_data"
    },
    {
     "data": {
      "text/html": [
       "<div>\n",
       "<style scoped>\n",
       "    .dataframe tbody tr th:only-of-type {\n",
       "        vertical-align: middle;\n",
       "    }\n",
       "\n",
       "    .dataframe tbody tr th {\n",
       "        vertical-align: top;\n",
       "    }\n",
       "\n",
       "    .dataframe thead th {\n",
       "        text-align: right;\n",
       "    }\n",
       "</style>\n",
       "<table border=\"1\" class=\"dataframe\">\n",
       "  <thead>\n",
       "    <tr style=\"text-align: right;\">\n",
       "      <th></th>\n",
       "      <th>visit_id</th>\n",
       "      <th>day_obs</th>\n",
       "      <th>seq_num</th>\n",
       "      <th>time_target</th>\n",
       "      <th>time_observation</th>\n",
       "      <th>obs_start</th>\n",
       "      <th>scriptSalIndex</th>\n",
       "      <th>target_name</th>\n",
       "      <th>s_ra</th>\n",
       "      <th>s_dec</th>\n",
       "      <th>sky_rotation</th>\n",
       "      <th>band</th>\n",
       "      <th>psf_sigma_median</th>\n",
       "      <th>zero_point_1s</th>\n",
       "      <th>zero_point_1s_pred</th>\n",
       "      <th>clouds</th>\n",
       "      <th>science_program</th>\n",
       "      <th>target_name</th>\n",
       "    </tr>\n",
       "  </thead>\n",
       "  <tbody>\n",
       "    <tr>\n",
       "      <th>335</th>\n",
       "      <td>2025070100468</td>\n",
       "      <td>20250701</td>\n",
       "      <td>468</td>\n",
       "      <td>2025-07-02 04:33:22.100563+00:00</td>\n",
       "      <td>2025-07-02 04:34:50.573235+00:00</td>\n",
       "      <td>2025-07-02T04:34:56.068000</td>\n",
       "      <td>110516</td>\n",
       "      <td>bulgy</td>\n",
       "      <td>250.670515</td>\n",
       "      <td>-26.576647</td>\n",
       "      <td>337.158434</td>\n",
       "      <td>z</td>\n",
       "      <td>2.184128</td>\n",
       "      <td>26.359369</td>\n",
       "      <td>27.871789</td>\n",
       "      <td>-1.51242</td>\n",
       "      <td>BLOCK-365</td>\n",
       "      <td>bulgy</td>\n",
       "    </tr>\n",
       "  </tbody>\n",
       "</table>\n",
       "</div>"
      ],
      "text/plain": [
       "          visit_id   day_obs seq_num                       time_target  \\\n",
       "335  2025070100468  20250701     468  2025-07-02 04:33:22.100563+00:00   \n",
       "\n",
       "                     time_observation                   obs_start  \\\n",
       "335  2025-07-02 04:34:50.573235+00:00  2025-07-02T04:34:56.068000   \n",
       "\n",
       "    scriptSalIndex target_name        s_ra      s_dec sky_rotation band  \\\n",
       "335         110516       bulgy  250.670515 -26.576647   337.158434    z   \n",
       "\n",
       "    psf_sigma_median zero_point_1s zero_point_1s_pred   clouds  \\\n",
       "335         2.184128     26.359369          27.871789 -1.51242   \n",
       "\n",
       "    science_program target_name  \n",
       "335       BLOCK-365       bulgy  "
      ]
     },
     "metadata": {},
     "output_type": "display_data"
    },
    {
     "name": "stdout",
     "output_type": "stream",
     "text": [
      "IMG_TYPE science. Flags: big zeropoint offset.\n"
     ]
    },
    {
     "data": {
      "text/html": [
       "<a href=\"https://usdf-rsp.slac.stanford.edu/rubintv/summit-usdf/lsstcam/event?key=lsstcam/2025-07-01/calexp_mosaic/000468/lsstcam_calexp_mosaic_2025-07-01_000468.jpg\" target=\"_blank\" rel=\"noreferrer noopener\">https://usdf-rsp.slac.stanford.edu/rubintv/summit-usdf/lsstcam/event?key=lsstcam/2025-07-01/calexp_mosaic/000468/lsstcam_calexp_mosaic_2025-07-01_000468.jpg</a>"
      ],
      "text/plain": [
       "<IPython.core.display.HTML object>"
      ]
     },
     "metadata": {},
     "output_type": "display_data"
    },
    {
     "data": {
      "text/html": [
       "<a href=\"https://usdf-rsp.slac.stanford.edu/rubintv/summit-usdf/lsstcam/event?key=lsstcam/2025-07-01/witness_detector/000468/lsstcam_witness_detector_2025-07-01_000468.jpg\" target=\"_blank\" rel=\"noreferrer noopener\">https://usdf-rsp.slac.stanford.edu/rubintv/summit-usdf/lsstcam/event?key=lsstcam/2025-07-01/witness_detector/000468/lsstcam_witness_detector_2025-07-01_000468.jpg</a>"
      ],
      "text/plain": [
       "<IPython.core.display.HTML object>"
      ]
     },
     "metadata": {},
     "output_type": "display_data"
    },
    {
     "data": {
      "text/html": [
       "<br>"
      ],
      "text/plain": [
       "<IPython.core.display.HTML object>"
      ]
     },
     "metadata": {},
     "output_type": "display_data"
    },
    {
     "data": {
      "text/html": [
       "<div>\n",
       "<style scoped>\n",
       "    .dataframe tbody tr th:only-of-type {\n",
       "        vertical-align: middle;\n",
       "    }\n",
       "\n",
       "    .dataframe tbody tr th {\n",
       "        vertical-align: top;\n",
       "    }\n",
       "\n",
       "    .dataframe thead th {\n",
       "        text-align: right;\n",
       "    }\n",
       "</style>\n",
       "<table border=\"1\" class=\"dataframe\">\n",
       "  <thead>\n",
       "    <tr style=\"text-align: right;\">\n",
       "      <th></th>\n",
       "      <th>visit_id</th>\n",
       "      <th>day_obs</th>\n",
       "      <th>seq_num</th>\n",
       "      <th>time_target</th>\n",
       "      <th>time_observation</th>\n",
       "      <th>obs_start</th>\n",
       "      <th>scriptSalIndex</th>\n",
       "      <th>target_name</th>\n",
       "      <th>s_ra</th>\n",
       "      <th>s_dec</th>\n",
       "      <th>sky_rotation</th>\n",
       "      <th>band</th>\n",
       "      <th>psf_sigma_median</th>\n",
       "      <th>zero_point_1s</th>\n",
       "      <th>zero_point_1s_pred</th>\n",
       "      <th>clouds</th>\n",
       "      <th>science_program</th>\n",
       "      <th>target_name</th>\n",
       "    </tr>\n",
       "  </thead>\n",
       "  <tbody>\n",
       "    <tr>\n",
       "      <th>336</th>\n",
       "      <td>2025070100469</td>\n",
       "      <td>20250701</td>\n",
       "      <td>469</td>\n",
       "      <td>2025-07-02 04:34:03.475534+00:00</td>\n",
       "      <td>2025-07-02 04:35:31.726642+00:00</td>\n",
       "      <td>2025-07-02T04:35:37.276000</td>\n",
       "      <td>110517</td>\n",
       "      <td>dusty_plane, bulgy</td>\n",
       "      <td>247.632553</td>\n",
       "      <td>-27.158673</td>\n",
       "      <td>334.715332</td>\n",
       "      <td>z</td>\n",
       "      <td>2.204879</td>\n",
       "      <td>26.221876</td>\n",
       "      <td>27.870408</td>\n",
       "      <td>-1.648532</td>\n",
       "      <td>BLOCK-365</td>\n",
       "      <td>dusty_plane, bulgy</td>\n",
       "    </tr>\n",
       "  </tbody>\n",
       "</table>\n",
       "</div>"
      ],
      "text/plain": [
       "          visit_id   day_obs seq_num                       time_target  \\\n",
       "336  2025070100469  20250701     469  2025-07-02 04:34:03.475534+00:00   \n",
       "\n",
       "                     time_observation                   obs_start  \\\n",
       "336  2025-07-02 04:35:31.726642+00:00  2025-07-02T04:35:37.276000   \n",
       "\n",
       "    scriptSalIndex         target_name        s_ra      s_dec sky_rotation  \\\n",
       "336         110517  dusty_plane, bulgy  247.632553 -27.158673   334.715332   \n",
       "\n",
       "    band psf_sigma_median zero_point_1s zero_point_1s_pred    clouds  \\\n",
       "336    z         2.204879     26.221876          27.870408 -1.648532   \n",
       "\n",
       "    science_program         target_name  \n",
       "336       BLOCK-365  dusty_plane, bulgy  "
      ]
     },
     "metadata": {},
     "output_type": "display_data"
    },
    {
     "name": "stdout",
     "output_type": "stream",
     "text": [
      "IMG_TYPE science. Flags: big zeropoint offset.\n"
     ]
    },
    {
     "data": {
      "text/html": [
       "<a href=\"https://usdf-rsp.slac.stanford.edu/rubintv/summit-usdf/lsstcam/event?key=lsstcam/2025-07-01/calexp_mosaic/000469/lsstcam_calexp_mosaic_2025-07-01_000469.jpg\" target=\"_blank\" rel=\"noreferrer noopener\">https://usdf-rsp.slac.stanford.edu/rubintv/summit-usdf/lsstcam/event?key=lsstcam/2025-07-01/calexp_mosaic/000469/lsstcam_calexp_mosaic_2025-07-01_000469.jpg</a>"
      ],
      "text/plain": [
       "<IPython.core.display.HTML object>"
      ]
     },
     "metadata": {},
     "output_type": "display_data"
    },
    {
     "data": {
      "text/html": [
       "<a href=\"https://usdf-rsp.slac.stanford.edu/rubintv/summit-usdf/lsstcam/event?key=lsstcam/2025-07-01/witness_detector/000469/lsstcam_witness_detector_2025-07-01_000469.jpg\" target=\"_blank\" rel=\"noreferrer noopener\">https://usdf-rsp.slac.stanford.edu/rubintv/summit-usdf/lsstcam/event?key=lsstcam/2025-07-01/witness_detector/000469/lsstcam_witness_detector_2025-07-01_000469.jpg</a>"
      ],
      "text/plain": [
       "<IPython.core.display.HTML object>"
      ]
     },
     "metadata": {},
     "output_type": "display_data"
    },
    {
     "data": {
      "text/html": [
       "<br>"
      ],
      "text/plain": [
       "<IPython.core.display.HTML object>"
      ]
     },
     "metadata": {},
     "output_type": "display_data"
    },
    {
     "data": {
      "text/html": [
       "<div>\n",
       "<style scoped>\n",
       "    .dataframe tbody tr th:only-of-type {\n",
       "        vertical-align: middle;\n",
       "    }\n",
       "\n",
       "    .dataframe tbody tr th {\n",
       "        vertical-align: top;\n",
       "    }\n",
       "\n",
       "    .dataframe thead th {\n",
       "        text-align: right;\n",
       "    }\n",
       "</style>\n",
       "<table border=\"1\" class=\"dataframe\">\n",
       "  <thead>\n",
       "    <tr style=\"text-align: right;\">\n",
       "      <th></th>\n",
       "      <th>visit_id</th>\n",
       "      <th>day_obs</th>\n",
       "      <th>seq_num</th>\n",
       "      <th>time_target</th>\n",
       "      <th>time_observation</th>\n",
       "      <th>obs_start</th>\n",
       "      <th>scriptSalIndex</th>\n",
       "      <th>target_name</th>\n",
       "      <th>s_ra</th>\n",
       "      <th>s_dec</th>\n",
       "      <th>sky_rotation</th>\n",
       "      <th>band</th>\n",
       "      <th>psf_sigma_median</th>\n",
       "      <th>zero_point_1s</th>\n",
       "      <th>zero_point_1s_pred</th>\n",
       "      <th>clouds</th>\n",
       "      <th>science_program</th>\n",
       "      <th>target_name</th>\n",
       "    </tr>\n",
       "  </thead>\n",
       "  <tbody>\n",
       "    <tr>\n",
       "      <th>337</th>\n",
       "      <td>2025070100470</td>\n",
       "      <td>20250701</td>\n",
       "      <td>470</td>\n",
       "      <td>2025-07-02 04:34:51.641238+00:00</td>\n",
       "      <td>2025-07-02 04:36:11.298420+00:00</td>\n",
       "      <td>2025-07-02T04:36:16.326000</td>\n",
       "      <td>110518</td>\n",
       "      <td>dusty_plane</td>\n",
       "      <td>245.36681</td>\n",
       "      <td>-24.704913</td>\n",
       "      <td>340.230125</td>\n",
       "      <td>z</td>\n",
       "      <td>2.156852</td>\n",
       "      <td>26.110859</td>\n",
       "      <td>27.868725</td>\n",
       "      <td>-1.757866</td>\n",
       "      <td>BLOCK-365</td>\n",
       "      <td>dusty_plane</td>\n",
       "    </tr>\n",
       "  </tbody>\n",
       "</table>\n",
       "</div>"
      ],
      "text/plain": [
       "          visit_id   day_obs seq_num                       time_target  \\\n",
       "337  2025070100470  20250701     470  2025-07-02 04:34:51.641238+00:00   \n",
       "\n",
       "                     time_observation                   obs_start  \\\n",
       "337  2025-07-02 04:36:11.298420+00:00  2025-07-02T04:36:16.326000   \n",
       "\n",
       "    scriptSalIndex  target_name       s_ra      s_dec sky_rotation band  \\\n",
       "337         110518  dusty_plane  245.36681 -24.704913   340.230125    z   \n",
       "\n",
       "    psf_sigma_median zero_point_1s zero_point_1s_pred    clouds  \\\n",
       "337         2.156852     26.110859          27.868725 -1.757866   \n",
       "\n",
       "    science_program  target_name  \n",
       "337       BLOCK-365  dusty_plane  "
      ]
     },
     "metadata": {},
     "output_type": "display_data"
    },
    {
     "name": "stdout",
     "output_type": "stream",
     "text": [
      "IMG_TYPE science. Flags: big zeropoint offset.\n"
     ]
    },
    {
     "data": {
      "text/html": [
       "<a href=\"https://usdf-rsp.slac.stanford.edu/rubintv/summit-usdf/lsstcam/event?key=lsstcam/2025-07-01/calexp_mosaic/000470/lsstcam_calexp_mosaic_2025-07-01_000470.jpg\" target=\"_blank\" rel=\"noreferrer noopener\">https://usdf-rsp.slac.stanford.edu/rubintv/summit-usdf/lsstcam/event?key=lsstcam/2025-07-01/calexp_mosaic/000470/lsstcam_calexp_mosaic_2025-07-01_000470.jpg</a>"
      ],
      "text/plain": [
       "<IPython.core.display.HTML object>"
      ]
     },
     "metadata": {},
     "output_type": "display_data"
    },
    {
     "data": {
      "text/html": [
       "<a href=\"https://usdf-rsp.slac.stanford.edu/rubintv/summit-usdf/lsstcam/event?key=lsstcam/2025-07-01/witness_detector/000470/lsstcam_witness_detector_2025-07-01_000470.jpg\" target=\"_blank\" rel=\"noreferrer noopener\">https://usdf-rsp.slac.stanford.edu/rubintv/summit-usdf/lsstcam/event?key=lsstcam/2025-07-01/witness_detector/000470/lsstcam_witness_detector_2025-07-01_000470.jpg</a>"
      ],
      "text/plain": [
       "<IPython.core.display.HTML object>"
      ]
     },
     "metadata": {},
     "output_type": "display_data"
    },
    {
     "data": {
      "text/html": [
       "<br>"
      ],
      "text/plain": [
       "<IPython.core.display.HTML object>"
      ]
     },
     "metadata": {},
     "output_type": "display_data"
    },
    {
     "data": {
      "text/html": [
       "<div>\n",
       "<style scoped>\n",
       "    .dataframe tbody tr th:only-of-type {\n",
       "        vertical-align: middle;\n",
       "    }\n",
       "\n",
       "    .dataframe tbody tr th {\n",
       "        vertical-align: top;\n",
       "    }\n",
       "\n",
       "    .dataframe thead th {\n",
       "        text-align: right;\n",
       "    }\n",
       "</style>\n",
       "<table border=\"1\" class=\"dataframe\">\n",
       "  <thead>\n",
       "    <tr style=\"text-align: right;\">\n",
       "      <th></th>\n",
       "      <th>visit_id</th>\n",
       "      <th>day_obs</th>\n",
       "      <th>seq_num</th>\n",
       "      <th>time_target</th>\n",
       "      <th>time_observation</th>\n",
       "      <th>obs_start</th>\n",
       "      <th>scriptSalIndex</th>\n",
       "      <th>target_name</th>\n",
       "      <th>s_ra</th>\n",
       "      <th>s_dec</th>\n",
       "      <th>sky_rotation</th>\n",
       "      <th>band</th>\n",
       "      <th>psf_sigma_median</th>\n",
       "      <th>zero_point_1s</th>\n",
       "      <th>zero_point_1s_pred</th>\n",
       "      <th>clouds</th>\n",
       "      <th>science_program</th>\n",
       "      <th>target_name</th>\n",
       "    </tr>\n",
       "  </thead>\n",
       "  <tbody>\n",
       "    <tr>\n",
       "      <th>338</th>\n",
       "      <td>2025070100471</td>\n",
       "      <td>20250701</td>\n",
       "      <td>471</td>\n",
       "      <td>2025-07-02 04:35:33.207354+00:00</td>\n",
       "      <td>2025-07-02 04:36:49.723718+00:00</td>\n",
       "      <td>2025-07-02T04:36:55.451000</td>\n",
       "      <td>110519</td>\n",
       "      <td>dusty_plane, bulgy</td>\n",
       "      <td>248.380074</td>\n",
       "      <td>-24.165328</td>\n",
       "      <td>342.801119</td>\n",
       "      <td>z</td>\n",
       "      <td>2.108449</td>\n",
       "      <td>26.173025</td>\n",
       "      <td>27.870123</td>\n",
       "      <td>-1.697097</td>\n",
       "      <td>BLOCK-365</td>\n",
       "      <td>dusty_plane, bulgy</td>\n",
       "    </tr>\n",
       "  </tbody>\n",
       "</table>\n",
       "</div>"
      ],
      "text/plain": [
       "          visit_id   day_obs seq_num                       time_target  \\\n",
       "338  2025070100471  20250701     471  2025-07-02 04:35:33.207354+00:00   \n",
       "\n",
       "                     time_observation                   obs_start  \\\n",
       "338  2025-07-02 04:36:49.723718+00:00  2025-07-02T04:36:55.451000   \n",
       "\n",
       "    scriptSalIndex         target_name        s_ra      s_dec sky_rotation  \\\n",
       "338         110519  dusty_plane, bulgy  248.380074 -24.165328   342.801119   \n",
       "\n",
       "    band psf_sigma_median zero_point_1s zero_point_1s_pred    clouds  \\\n",
       "338    z         2.108449     26.173025          27.870123 -1.697097   \n",
       "\n",
       "    science_program         target_name  \n",
       "338       BLOCK-365  dusty_plane, bulgy  "
      ]
     },
     "metadata": {},
     "output_type": "display_data"
    },
    {
     "name": "stdout",
     "output_type": "stream",
     "text": [
      "IMG_TYPE science. Flags: big zeropoint offset.\n"
     ]
    },
    {
     "data": {
      "text/html": [
       "<a href=\"https://usdf-rsp.slac.stanford.edu/rubintv/summit-usdf/lsstcam/event?key=lsstcam/2025-07-01/calexp_mosaic/000471/lsstcam_calexp_mosaic_2025-07-01_000471.jpg\" target=\"_blank\" rel=\"noreferrer noopener\">https://usdf-rsp.slac.stanford.edu/rubintv/summit-usdf/lsstcam/event?key=lsstcam/2025-07-01/calexp_mosaic/000471/lsstcam_calexp_mosaic_2025-07-01_000471.jpg</a>"
      ],
      "text/plain": [
       "<IPython.core.display.HTML object>"
      ]
     },
     "metadata": {},
     "output_type": "display_data"
    },
    {
     "data": {
      "text/html": [
       "<a href=\"https://usdf-rsp.slac.stanford.edu/rubintv/summit-usdf/lsstcam/event?key=lsstcam/2025-07-01/witness_detector/000471/lsstcam_witness_detector_2025-07-01_000471.jpg\" target=\"_blank\" rel=\"noreferrer noopener\">https://usdf-rsp.slac.stanford.edu/rubintv/summit-usdf/lsstcam/event?key=lsstcam/2025-07-01/witness_detector/000471/lsstcam_witness_detector_2025-07-01_000471.jpg</a>"
      ],
      "text/plain": [
       "<IPython.core.display.HTML object>"
      ]
     },
     "metadata": {},
     "output_type": "display_data"
    },
    {
     "data": {
      "text/html": [
       "<br>"
      ],
      "text/plain": [
       "<IPython.core.display.HTML object>"
      ]
     },
     "metadata": {},
     "output_type": "display_data"
    },
    {
     "data": {
      "text/html": [
       "<div>\n",
       "<style scoped>\n",
       "    .dataframe tbody tr th:only-of-type {\n",
       "        vertical-align: middle;\n",
       "    }\n",
       "\n",
       "    .dataframe tbody tr th {\n",
       "        vertical-align: top;\n",
       "    }\n",
       "\n",
       "    .dataframe thead th {\n",
       "        text-align: right;\n",
       "    }\n",
       "</style>\n",
       "<table border=\"1\" class=\"dataframe\">\n",
       "  <thead>\n",
       "    <tr style=\"text-align: right;\">\n",
       "      <th></th>\n",
       "      <th>visit_id</th>\n",
       "      <th>day_obs</th>\n",
       "      <th>seq_num</th>\n",
       "      <th>time_target</th>\n",
       "      <th>time_observation</th>\n",
       "      <th>obs_start</th>\n",
       "      <th>scriptSalIndex</th>\n",
       "      <th>target_name</th>\n",
       "      <th>s_ra</th>\n",
       "      <th>s_dec</th>\n",
       "      <th>sky_rotation</th>\n",
       "      <th>band</th>\n",
       "      <th>psf_sigma_median</th>\n",
       "      <th>zero_point_1s</th>\n",
       "      <th>zero_point_1s_pred</th>\n",
       "      <th>clouds</th>\n",
       "      <th>science_program</th>\n",
       "      <th>target_name</th>\n",
       "    </tr>\n",
       "  </thead>\n",
       "  <tbody>\n",
       "    <tr>\n",
       "      <th>339</th>\n",
       "      <td>2025070100472</td>\n",
       "      <td>20250701</td>\n",
       "      <td>472</td>\n",
       "      <td>2025-07-02 04:36:12.360205+00:00</td>\n",
       "      <td>2025-07-02 04:37:28.907227+00:00</td>\n",
       "      <td>2025-07-02T04:37:34.294000</td>\n",
       "      <td>110520</td>\n",
       "      <td>bulgy</td>\n",
       "      <td>251.366063</td>\n",
       "      <td>-23.560463</td>\n",
       "      <td>346.441811</td>\n",
       "      <td>z</td>\n",
       "      <td>2.223788</td>\n",
       "      <td>26.286252</td>\n",
       "      <td>27.871328</td>\n",
       "      <td>-1.585075</td>\n",
       "      <td>BLOCK-365</td>\n",
       "      <td>bulgy</td>\n",
       "    </tr>\n",
       "  </tbody>\n",
       "</table>\n",
       "</div>"
      ],
      "text/plain": [
       "          visit_id   day_obs seq_num                       time_target  \\\n",
       "339  2025070100472  20250701     472  2025-07-02 04:36:12.360205+00:00   \n",
       "\n",
       "                     time_observation                   obs_start  \\\n",
       "339  2025-07-02 04:37:28.907227+00:00  2025-07-02T04:37:34.294000   \n",
       "\n",
       "    scriptSalIndex target_name        s_ra      s_dec sky_rotation band  \\\n",
       "339         110520       bulgy  251.366063 -23.560463   346.441811    z   \n",
       "\n",
       "    psf_sigma_median zero_point_1s zero_point_1s_pred    clouds  \\\n",
       "339         2.223788     26.286252          27.871328 -1.585075   \n",
       "\n",
       "    science_program target_name  \n",
       "339       BLOCK-365       bulgy  "
      ]
     },
     "metadata": {},
     "output_type": "display_data"
    },
    {
     "name": "stdout",
     "output_type": "stream",
     "text": [
      "IMG_TYPE science. Flags: big zeropoint offset.\n"
     ]
    },
    {
     "data": {
      "text/html": [
       "<a href=\"https://usdf-rsp.slac.stanford.edu/rubintv/summit-usdf/lsstcam/event?key=lsstcam/2025-07-01/calexp_mosaic/000472/lsstcam_calexp_mosaic_2025-07-01_000472.jpg\" target=\"_blank\" rel=\"noreferrer noopener\">https://usdf-rsp.slac.stanford.edu/rubintv/summit-usdf/lsstcam/event?key=lsstcam/2025-07-01/calexp_mosaic/000472/lsstcam_calexp_mosaic_2025-07-01_000472.jpg</a>"
      ],
      "text/plain": [
       "<IPython.core.display.HTML object>"
      ]
     },
     "metadata": {},
     "output_type": "display_data"
    },
    {
     "data": {
      "text/html": [
       "<a href=\"https://usdf-rsp.slac.stanford.edu/rubintv/summit-usdf/lsstcam/event?key=lsstcam/2025-07-01/witness_detector/000472/lsstcam_witness_detector_2025-07-01_000472.jpg\" target=\"_blank\" rel=\"noreferrer noopener\">https://usdf-rsp.slac.stanford.edu/rubintv/summit-usdf/lsstcam/event?key=lsstcam/2025-07-01/witness_detector/000472/lsstcam_witness_detector_2025-07-01_000472.jpg</a>"
      ],
      "text/plain": [
       "<IPython.core.display.HTML object>"
      ]
     },
     "metadata": {},
     "output_type": "display_data"
    },
    {
     "data": {
      "text/html": [
       "<br>"
      ],
      "text/plain": [
       "<IPython.core.display.HTML object>"
      ]
     },
     "metadata": {},
     "output_type": "display_data"
    },
    {
     "data": {
      "text/html": [
       "<div>\n",
       "<style scoped>\n",
       "    .dataframe tbody tr th:only-of-type {\n",
       "        vertical-align: middle;\n",
       "    }\n",
       "\n",
       "    .dataframe tbody tr th {\n",
       "        vertical-align: top;\n",
       "    }\n",
       "\n",
       "    .dataframe thead th {\n",
       "        text-align: right;\n",
       "    }\n",
       "</style>\n",
       "<table border=\"1\" class=\"dataframe\">\n",
       "  <thead>\n",
       "    <tr style=\"text-align: right;\">\n",
       "      <th></th>\n",
       "      <th>visit_id</th>\n",
       "      <th>day_obs</th>\n",
       "      <th>seq_num</th>\n",
       "      <th>time_target</th>\n",
       "      <th>time_observation</th>\n",
       "      <th>obs_start</th>\n",
       "      <th>scriptSalIndex</th>\n",
       "      <th>target_name</th>\n",
       "      <th>s_ra</th>\n",
       "      <th>s_dec</th>\n",
       "      <th>sky_rotation</th>\n",
       "      <th>band</th>\n",
       "      <th>psf_sigma_median</th>\n",
       "      <th>zero_point_1s</th>\n",
       "      <th>zero_point_1s_pred</th>\n",
       "      <th>clouds</th>\n",
       "      <th>science_program</th>\n",
       "      <th>target_name</th>\n",
       "    </tr>\n",
       "  </thead>\n",
       "  <tbody>\n",
       "    <tr>\n",
       "      <th>342</th>\n",
       "      <td>2025070100475</td>\n",
       "      <td>20250701</td>\n",
       "      <td>475</td>\n",
       "      <td>2025-07-02 04:42:43.697241+00:00</td>\n",
       "      <td>2025-07-02 04:44:00.920790+00:00</td>\n",
       "      <td>2025-07-02T04:44:06.557000</td>\n",
       "      <td>110523</td>\n",
       "      <td>lowdust</td>\n",
       "      <td>307.996766</td>\n",
       "      <td>-20.64193</td>\n",
       "      <td>114.411334</td>\n",
       "      <td>r</td>\n",
       "      <td>2.262506</td>\n",
       "      <td>26.88295</td>\n",
       "      <td>28.454699</td>\n",
       "      <td>-1.571749</td>\n",
       "      <td>BLOCK-365</td>\n",
       "      <td>lowdust</td>\n",
       "    </tr>\n",
       "  </tbody>\n",
       "</table>\n",
       "</div>"
      ],
      "text/plain": [
       "          visit_id   day_obs seq_num                       time_target  \\\n",
       "342  2025070100475  20250701     475  2025-07-02 04:42:43.697241+00:00   \n",
       "\n",
       "                     time_observation                   obs_start  \\\n",
       "342  2025-07-02 04:44:00.920790+00:00  2025-07-02T04:44:06.557000   \n",
       "\n",
       "    scriptSalIndex target_name        s_ra     s_dec sky_rotation band  \\\n",
       "342         110523     lowdust  307.996766 -20.64193   114.411334    r   \n",
       "\n",
       "    psf_sigma_median zero_point_1s zero_point_1s_pred    clouds  \\\n",
       "342         2.262506      26.88295          28.454699 -1.571749   \n",
       "\n",
       "    science_program target_name  \n",
       "342       BLOCK-365     lowdust  "
      ]
     },
     "metadata": {},
     "output_type": "display_data"
    },
    {
     "name": "stdout",
     "output_type": "stream",
     "text": [
      "IMG_TYPE science. Flags: big zeropoint offset.\n"
     ]
    },
    {
     "data": {
      "text/html": [
       "<a href=\"https://usdf-rsp.slac.stanford.edu/rubintv/summit-usdf/lsstcam/event?key=lsstcam/2025-07-01/calexp_mosaic/000475/lsstcam_calexp_mosaic_2025-07-01_000475.jpg\" target=\"_blank\" rel=\"noreferrer noopener\">https://usdf-rsp.slac.stanford.edu/rubintv/summit-usdf/lsstcam/event?key=lsstcam/2025-07-01/calexp_mosaic/000475/lsstcam_calexp_mosaic_2025-07-01_000475.jpg</a>"
      ],
      "text/plain": [
       "<IPython.core.display.HTML object>"
      ]
     },
     "metadata": {},
     "output_type": "display_data"
    },
    {
     "data": {
      "text/html": [
       "<a href=\"https://usdf-rsp.slac.stanford.edu/rubintv/summit-usdf/lsstcam/event?key=lsstcam/2025-07-01/witness_detector/000475/lsstcam_witness_detector_2025-07-01_000475.jpg\" target=\"_blank\" rel=\"noreferrer noopener\">https://usdf-rsp.slac.stanford.edu/rubintv/summit-usdf/lsstcam/event?key=lsstcam/2025-07-01/witness_detector/000475/lsstcam_witness_detector_2025-07-01_000475.jpg</a>"
      ],
      "text/plain": [
       "<IPython.core.display.HTML object>"
      ]
     },
     "metadata": {},
     "output_type": "display_data"
    },
    {
     "data": {
      "text/html": [
       "<br>"
      ],
      "text/plain": [
       "<IPython.core.display.HTML object>"
      ]
     },
     "metadata": {},
     "output_type": "display_data"
    },
    {
     "data": {
      "text/html": [
       "<div>\n",
       "<style scoped>\n",
       "    .dataframe tbody tr th:only-of-type {\n",
       "        vertical-align: middle;\n",
       "    }\n",
       "\n",
       "    .dataframe tbody tr th {\n",
       "        vertical-align: top;\n",
       "    }\n",
       "\n",
       "    .dataframe thead th {\n",
       "        text-align: right;\n",
       "    }\n",
       "</style>\n",
       "<table border=\"1\" class=\"dataframe\">\n",
       "  <thead>\n",
       "    <tr style=\"text-align: right;\">\n",
       "      <th></th>\n",
       "      <th>visit_id</th>\n",
       "      <th>day_obs</th>\n",
       "      <th>seq_num</th>\n",
       "      <th>time_target</th>\n",
       "      <th>time_observation</th>\n",
       "      <th>obs_start</th>\n",
       "      <th>scriptSalIndex</th>\n",
       "      <th>target_name</th>\n",
       "      <th>s_ra</th>\n",
       "      <th>s_dec</th>\n",
       "      <th>sky_rotation</th>\n",
       "      <th>band</th>\n",
       "      <th>psf_sigma_median</th>\n",
       "      <th>zero_point_1s</th>\n",
       "      <th>zero_point_1s_pred</th>\n",
       "      <th>clouds</th>\n",
       "      <th>science_program</th>\n",
       "      <th>target_name</th>\n",
       "    </tr>\n",
       "  </thead>\n",
       "  <tbody>\n",
       "    <tr>\n",
       "      <th>343</th>\n",
       "      <td>2025070100476</td>\n",
       "      <td>20250701</td>\n",
       "      <td>476</td>\n",
       "      <td>2025-07-02 04:43:23.834725+00:00</td>\n",
       "      <td>2025-07-02 04:44:42.542325+00:00</td>\n",
       "      <td>2025-07-02T04:44:48.280000</td>\n",
       "      <td>110524</td>\n",
       "      <td>lowdust</td>\n",
       "      <td>308.912141</td>\n",
       "      <td>-23.380246</td>\n",
       "      <td>119.500747</td>\n",
       "      <td>r</td>\n",
       "      <td>2.226376</td>\n",
       "      <td>26.925005</td>\n",
       "      <td>28.455279</td>\n",
       "      <td>-1.530274</td>\n",
       "      <td>BLOCK-365</td>\n",
       "      <td>lowdust</td>\n",
       "    </tr>\n",
       "  </tbody>\n",
       "</table>\n",
       "</div>"
      ],
      "text/plain": [
       "          visit_id   day_obs seq_num                       time_target  \\\n",
       "343  2025070100476  20250701     476  2025-07-02 04:43:23.834725+00:00   \n",
       "\n",
       "                     time_observation                   obs_start  \\\n",
       "343  2025-07-02 04:44:42.542325+00:00  2025-07-02T04:44:48.280000   \n",
       "\n",
       "    scriptSalIndex target_name        s_ra      s_dec sky_rotation band  \\\n",
       "343         110524     lowdust  308.912141 -23.380246   119.500747    r   \n",
       "\n",
       "    psf_sigma_median zero_point_1s zero_point_1s_pred    clouds  \\\n",
       "343         2.226376     26.925005          28.455279 -1.530274   \n",
       "\n",
       "    science_program target_name  \n",
       "343       BLOCK-365     lowdust  "
      ]
     },
     "metadata": {},
     "output_type": "display_data"
    },
    {
     "name": "stdout",
     "output_type": "stream",
     "text": [
      "IMG_TYPE science. Flags: big zeropoint offset.\n"
     ]
    },
    {
     "data": {
      "text/html": [
       "<a href=\"https://usdf-rsp.slac.stanford.edu/rubintv/summit-usdf/lsstcam/event?key=lsstcam/2025-07-01/calexp_mosaic/000476/lsstcam_calexp_mosaic_2025-07-01_000476.jpg\" target=\"_blank\" rel=\"noreferrer noopener\">https://usdf-rsp.slac.stanford.edu/rubintv/summit-usdf/lsstcam/event?key=lsstcam/2025-07-01/calexp_mosaic/000476/lsstcam_calexp_mosaic_2025-07-01_000476.jpg</a>"
      ],
      "text/plain": [
       "<IPython.core.display.HTML object>"
      ]
     },
     "metadata": {},
     "output_type": "display_data"
    },
    {
     "data": {
      "text/html": [
       "<a href=\"https://usdf-rsp.slac.stanford.edu/rubintv/summit-usdf/lsstcam/event?key=lsstcam/2025-07-01/witness_detector/000476/lsstcam_witness_detector_2025-07-01_000476.jpg\" target=\"_blank\" rel=\"noreferrer noopener\">https://usdf-rsp.slac.stanford.edu/rubintv/summit-usdf/lsstcam/event?key=lsstcam/2025-07-01/witness_detector/000476/lsstcam_witness_detector_2025-07-01_000476.jpg</a>"
      ],
      "text/plain": [
       "<IPython.core.display.HTML object>"
      ]
     },
     "metadata": {},
     "output_type": "display_data"
    },
    {
     "data": {
      "text/html": [
       "<br>"
      ],
      "text/plain": [
       "<IPython.core.display.HTML object>"
      ]
     },
     "metadata": {},
     "output_type": "display_data"
    },
    {
     "data": {
      "text/html": [
       "<div>\n",
       "<style scoped>\n",
       "    .dataframe tbody tr th:only-of-type {\n",
       "        vertical-align: middle;\n",
       "    }\n",
       "\n",
       "    .dataframe tbody tr th {\n",
       "        vertical-align: top;\n",
       "    }\n",
       "\n",
       "    .dataframe thead th {\n",
       "        text-align: right;\n",
       "    }\n",
       "</style>\n",
       "<table border=\"1\" class=\"dataframe\">\n",
       "  <thead>\n",
       "    <tr style=\"text-align: right;\">\n",
       "      <th></th>\n",
       "      <th>visit_id</th>\n",
       "      <th>day_obs</th>\n",
       "      <th>seq_num</th>\n",
       "      <th>time_target</th>\n",
       "      <th>time_observation</th>\n",
       "      <th>obs_start</th>\n",
       "      <th>scriptSalIndex</th>\n",
       "      <th>target_name</th>\n",
       "      <th>s_ra</th>\n",
       "      <th>s_dec</th>\n",
       "      <th>sky_rotation</th>\n",
       "      <th>band</th>\n",
       "      <th>psf_sigma_median</th>\n",
       "      <th>zero_point_1s</th>\n",
       "      <th>zero_point_1s_pred</th>\n",
       "      <th>clouds</th>\n",
       "      <th>science_program</th>\n",
       "      <th>target_name</th>\n",
       "    </tr>\n",
       "  </thead>\n",
       "  <tbody>\n",
       "    <tr>\n",
       "      <th>344</th>\n",
       "      <td>2025070100477</td>\n",
       "      <td>20250701</td>\n",
       "      <td>477</td>\n",
       "      <td>2025-07-02 04:44:02.454625+00:00</td>\n",
       "      <td>2025-07-02 04:45:22.782991+00:00</td>\n",
       "      <td>2025-07-02T04:45:28.646000</td>\n",
       "      <td>110525</td>\n",
       "      <td>lowdust</td>\n",
       "      <td>306.529166</td>\n",
       "      <td>-25.74491</td>\n",
       "      <td>123.621556</td>\n",
       "      <td>r</td>\n",
       "      <td>2.168208</td>\n",
       "      <td>26.881875</td>\n",
       "      <td>28.458502</td>\n",
       "      <td>-1.576628</td>\n",
       "      <td>BLOCK-365</td>\n",
       "      <td>lowdust</td>\n",
       "    </tr>\n",
       "  </tbody>\n",
       "</table>\n",
       "</div>"
      ],
      "text/plain": [
       "          visit_id   day_obs seq_num                       time_target  \\\n",
       "344  2025070100477  20250701     477  2025-07-02 04:44:02.454625+00:00   \n",
       "\n",
       "                     time_observation                   obs_start  \\\n",
       "344  2025-07-02 04:45:22.782991+00:00  2025-07-02T04:45:28.646000   \n",
       "\n",
       "    scriptSalIndex target_name        s_ra     s_dec sky_rotation band  \\\n",
       "344         110525     lowdust  306.529166 -25.74491   123.621556    r   \n",
       "\n",
       "    psf_sigma_median zero_point_1s zero_point_1s_pred    clouds  \\\n",
       "344         2.168208     26.881875          28.458502 -1.576628   \n",
       "\n",
       "    science_program target_name  \n",
       "344       BLOCK-365     lowdust  "
      ]
     },
     "metadata": {},
     "output_type": "display_data"
    },
    {
     "name": "stdout",
     "output_type": "stream",
     "text": [
      "IMG_TYPE science. Flags: big zeropoint offset.\n"
     ]
    },
    {
     "data": {
      "text/html": [
       "<a href=\"https://usdf-rsp.slac.stanford.edu/rubintv/summit-usdf/lsstcam/event?key=lsstcam/2025-07-01/calexp_mosaic/000477/lsstcam_calexp_mosaic_2025-07-01_000477.jpg\" target=\"_blank\" rel=\"noreferrer noopener\">https://usdf-rsp.slac.stanford.edu/rubintv/summit-usdf/lsstcam/event?key=lsstcam/2025-07-01/calexp_mosaic/000477/lsstcam_calexp_mosaic_2025-07-01_000477.jpg</a>"
      ],
      "text/plain": [
       "<IPython.core.display.HTML object>"
      ]
     },
     "metadata": {},
     "output_type": "display_data"
    },
    {
     "data": {
      "text/html": [
       "<a href=\"https://usdf-rsp.slac.stanford.edu/rubintv/summit-usdf/lsstcam/event?key=lsstcam/2025-07-01/witness_detector/000477/lsstcam_witness_detector_2025-07-01_000477.jpg\" target=\"_blank\" rel=\"noreferrer noopener\">https://usdf-rsp.slac.stanford.edu/rubintv/summit-usdf/lsstcam/event?key=lsstcam/2025-07-01/witness_detector/000477/lsstcam_witness_detector_2025-07-01_000477.jpg</a>"
      ],
      "text/plain": [
       "<IPython.core.display.HTML object>"
      ]
     },
     "metadata": {},
     "output_type": "display_data"
    },
    {
     "data": {
      "text/html": [
       "<br>"
      ],
      "text/plain": [
       "<IPython.core.display.HTML object>"
      ]
     },
     "metadata": {},
     "output_type": "display_data"
    },
    {
     "data": {
      "text/html": [
       "<div>\n",
       "<style scoped>\n",
       "    .dataframe tbody tr th:only-of-type {\n",
       "        vertical-align: middle;\n",
       "    }\n",
       "\n",
       "    .dataframe tbody tr th {\n",
       "        vertical-align: top;\n",
       "    }\n",
       "\n",
       "    .dataframe thead th {\n",
       "        text-align: right;\n",
       "    }\n",
       "</style>\n",
       "<table border=\"1\" class=\"dataframe\">\n",
       "  <thead>\n",
       "    <tr style=\"text-align: right;\">\n",
       "      <th></th>\n",
       "      <th>visit_id</th>\n",
       "      <th>day_obs</th>\n",
       "      <th>seq_num</th>\n",
       "      <th>time_target</th>\n",
       "      <th>time_observation</th>\n",
       "      <th>obs_start</th>\n",
       "      <th>scriptSalIndex</th>\n",
       "      <th>target_name</th>\n",
       "      <th>s_ra</th>\n",
       "      <th>s_dec</th>\n",
       "      <th>sky_rotation</th>\n",
       "      <th>band</th>\n",
       "      <th>psf_sigma_median</th>\n",
       "      <th>zero_point_1s</th>\n",
       "      <th>zero_point_1s_pred</th>\n",
       "      <th>clouds</th>\n",
       "      <th>science_program</th>\n",
       "      <th>target_name</th>\n",
       "    </tr>\n",
       "  </thead>\n",
       "  <tbody>\n",
       "    <tr>\n",
       "      <th>345</th>\n",
       "      <td>2025070100478</td>\n",
       "      <td>20250701</td>\n",
       "      <td>478</td>\n",
       "      <td>2025-07-02 04:44:43.688647+00:00</td>\n",
       "      <td>2025-07-02 04:46:07.367149+00:00</td>\n",
       "      <td>2025-07-02T04:46:12.630000</td>\n",
       "      <td>110526</td>\n",
       "      <td>lowdust</td>\n",
       "      <td>307.404864</td>\n",
       "      <td>-28.430854</td>\n",
       "      <td>129.283459</td>\n",
       "      <td>r</td>\n",
       "      <td>2.285211</td>\n",
       "      <td>26.697554</td>\n",
       "      <td>28.45856</td>\n",
       "      <td>-1.761005</td>\n",
       "      <td>BLOCK-365</td>\n",
       "      <td>lowdust</td>\n",
       "    </tr>\n",
       "  </tbody>\n",
       "</table>\n",
       "</div>"
      ],
      "text/plain": [
       "          visit_id   day_obs seq_num                       time_target  \\\n",
       "345  2025070100478  20250701     478  2025-07-02 04:44:43.688647+00:00   \n",
       "\n",
       "                     time_observation                   obs_start  \\\n",
       "345  2025-07-02 04:46:07.367149+00:00  2025-07-02T04:46:12.630000   \n",
       "\n",
       "    scriptSalIndex target_name        s_ra      s_dec sky_rotation band  \\\n",
       "345         110526     lowdust  307.404864 -28.430854   129.283459    r   \n",
       "\n",
       "    psf_sigma_median zero_point_1s zero_point_1s_pred    clouds  \\\n",
       "345         2.285211     26.697554           28.45856 -1.761005   \n",
       "\n",
       "    science_program target_name  \n",
       "345       BLOCK-365     lowdust  "
      ]
     },
     "metadata": {},
     "output_type": "display_data"
    },
    {
     "name": "stdout",
     "output_type": "stream",
     "text": [
      "IMG_TYPE science. Flags: big zeropoint offset.\n"
     ]
    },
    {
     "data": {
      "text/html": [
       "<a href=\"https://usdf-rsp.slac.stanford.edu/rubintv/summit-usdf/lsstcam/event?key=lsstcam/2025-07-01/calexp_mosaic/000478/lsstcam_calexp_mosaic_2025-07-01_000478.jpg\" target=\"_blank\" rel=\"noreferrer noopener\">https://usdf-rsp.slac.stanford.edu/rubintv/summit-usdf/lsstcam/event?key=lsstcam/2025-07-01/calexp_mosaic/000478/lsstcam_calexp_mosaic_2025-07-01_000478.jpg</a>"
      ],
      "text/plain": [
       "<IPython.core.display.HTML object>"
      ]
     },
     "metadata": {},
     "output_type": "display_data"
    },
    {
     "data": {
      "text/html": [
       "<a href=\"https://usdf-rsp.slac.stanford.edu/rubintv/summit-usdf/lsstcam/event?key=lsstcam/2025-07-01/witness_detector/000478/lsstcam_witness_detector_2025-07-01_000478.jpg\" target=\"_blank\" rel=\"noreferrer noopener\">https://usdf-rsp.slac.stanford.edu/rubintv/summit-usdf/lsstcam/event?key=lsstcam/2025-07-01/witness_detector/000478/lsstcam_witness_detector_2025-07-01_000478.jpg</a>"
      ],
      "text/plain": [
       "<IPython.core.display.HTML object>"
      ]
     },
     "metadata": {},
     "output_type": "display_data"
    },
    {
     "data": {
      "text/html": [
       "<br>"
      ],
      "text/plain": [
       "<IPython.core.display.HTML object>"
      ]
     },
     "metadata": {},
     "output_type": "display_data"
    },
    {
     "data": {
      "text/html": [
       "<div>\n",
       "<style scoped>\n",
       "    .dataframe tbody tr th:only-of-type {\n",
       "        vertical-align: middle;\n",
       "    }\n",
       "\n",
       "    .dataframe tbody tr th {\n",
       "        vertical-align: top;\n",
       "    }\n",
       "\n",
       "    .dataframe thead th {\n",
       "        text-align: right;\n",
       "    }\n",
       "</style>\n",
       "<table border=\"1\" class=\"dataframe\">\n",
       "  <thead>\n",
       "    <tr style=\"text-align: right;\">\n",
       "      <th></th>\n",
       "      <th>visit_id</th>\n",
       "      <th>day_obs</th>\n",
       "      <th>seq_num</th>\n",
       "      <th>time_target</th>\n",
       "      <th>time_observation</th>\n",
       "      <th>obs_start</th>\n",
       "      <th>scriptSalIndex</th>\n",
       "      <th>target_name</th>\n",
       "      <th>s_ra</th>\n",
       "      <th>s_dec</th>\n",
       "      <th>sky_rotation</th>\n",
       "      <th>band</th>\n",
       "      <th>psf_sigma_median</th>\n",
       "      <th>zero_point_1s</th>\n",
       "      <th>zero_point_1s_pred</th>\n",
       "      <th>clouds</th>\n",
       "      <th>science_program</th>\n",
       "      <th>target_name</th>\n",
       "    </tr>\n",
       "  </thead>\n",
       "  <tbody>\n",
       "    <tr>\n",
       "      <th>346</th>\n",
       "      <td>2025070100479</td>\n",
       "      <td>20250701</td>\n",
       "      <td>479</td>\n",
       "      <td>2025-07-02 04:45:24.270298+00:00</td>\n",
       "      <td>2025-07-02 04:46:46.504116+00:00</td>\n",
       "      <td>2025-07-02T04:46:52.126000</td>\n",
       "      <td>110527</td>\n",
       "      <td>lowdust</td>\n",
       "      <td>309.850233</td>\n",
       "      <td>-26.091916</td>\n",
       "      <td>124.568178</td>\n",
       "      <td>r</td>\n",
       "      <td>2.351438</td>\n",
       "      <td>26.930486</td>\n",
       "      <td>28.455868</td>\n",
       "      <td>-1.525382</td>\n",
       "      <td>BLOCK-365</td>\n",
       "      <td>lowdust</td>\n",
       "    </tr>\n",
       "  </tbody>\n",
       "</table>\n",
       "</div>"
      ],
      "text/plain": [
       "          visit_id   day_obs seq_num                       time_target  \\\n",
       "346  2025070100479  20250701     479  2025-07-02 04:45:24.270298+00:00   \n",
       "\n",
       "                     time_observation                   obs_start  \\\n",
       "346  2025-07-02 04:46:46.504116+00:00  2025-07-02T04:46:52.126000   \n",
       "\n",
       "    scriptSalIndex target_name        s_ra      s_dec sky_rotation band  \\\n",
       "346         110527     lowdust  309.850233 -26.091916   124.568178    r   \n",
       "\n",
       "    psf_sigma_median zero_point_1s zero_point_1s_pred    clouds  \\\n",
       "346         2.351438     26.930486          28.455868 -1.525382   \n",
       "\n",
       "    science_program target_name  \n",
       "346       BLOCK-365     lowdust  "
      ]
     },
     "metadata": {},
     "output_type": "display_data"
    },
    {
     "name": "stdout",
     "output_type": "stream",
     "text": [
      "IMG_TYPE science. Flags: big zeropoint offset.\n"
     ]
    },
    {
     "data": {
      "text/html": [
       "<a href=\"https://usdf-rsp.slac.stanford.edu/rubintv/summit-usdf/lsstcam/event?key=lsstcam/2025-07-01/calexp_mosaic/000479/lsstcam_calexp_mosaic_2025-07-01_000479.jpg\" target=\"_blank\" rel=\"noreferrer noopener\">https://usdf-rsp.slac.stanford.edu/rubintv/summit-usdf/lsstcam/event?key=lsstcam/2025-07-01/calexp_mosaic/000479/lsstcam_calexp_mosaic_2025-07-01_000479.jpg</a>"
      ],
      "text/plain": [
       "<IPython.core.display.HTML object>"
      ]
     },
     "metadata": {},
     "output_type": "display_data"
    },
    {
     "data": {
      "text/html": [
       "<a href=\"https://usdf-rsp.slac.stanford.edu/rubintv/summit-usdf/lsstcam/event?key=lsstcam/2025-07-01/witness_detector/000479/lsstcam_witness_detector_2025-07-01_000479.jpg\" target=\"_blank\" rel=\"noreferrer noopener\">https://usdf-rsp.slac.stanford.edu/rubintv/summit-usdf/lsstcam/event?key=lsstcam/2025-07-01/witness_detector/000479/lsstcam_witness_detector_2025-07-01_000479.jpg</a>"
      ],
      "text/plain": [
       "<IPython.core.display.HTML object>"
      ]
     },
     "metadata": {},
     "output_type": "display_data"
    },
    {
     "data": {
      "text/html": [
       "<br>"
      ],
      "text/plain": [
       "<IPython.core.display.HTML object>"
      ]
     },
     "metadata": {},
     "output_type": "display_data"
    },
    {
     "data": {
      "text/html": [
       "<div>\n",
       "<style scoped>\n",
       "    .dataframe tbody tr th:only-of-type {\n",
       "        vertical-align: middle;\n",
       "    }\n",
       "\n",
       "    .dataframe tbody tr th {\n",
       "        vertical-align: top;\n",
       "    }\n",
       "\n",
       "    .dataframe thead th {\n",
       "        text-align: right;\n",
       "    }\n",
       "</style>\n",
       "<table border=\"1\" class=\"dataframe\">\n",
       "  <thead>\n",
       "    <tr style=\"text-align: right;\">\n",
       "      <th></th>\n",
       "      <th>visit_id</th>\n",
       "      <th>day_obs</th>\n",
       "      <th>seq_num</th>\n",
       "      <th>time_target</th>\n",
       "      <th>time_observation</th>\n",
       "      <th>obs_start</th>\n",
       "      <th>scriptSalIndex</th>\n",
       "      <th>target_name</th>\n",
       "      <th>s_ra</th>\n",
       "      <th>s_dec</th>\n",
       "      <th>sky_rotation</th>\n",
       "      <th>band</th>\n",
       "      <th>psf_sigma_median</th>\n",
       "      <th>zero_point_1s</th>\n",
       "      <th>zero_point_1s_pred</th>\n",
       "      <th>clouds</th>\n",
       "      <th>science_program</th>\n",
       "      <th>target_name</th>\n",
       "    </tr>\n",
       "  </thead>\n",
       "  <tbody>\n",
       "    <tr>\n",
       "      <th>353</th>\n",
       "      <td>2025070100486</td>\n",
       "      <td>20250701</td>\n",
       "      <td>486</td>\n",
       "      <td>2025-07-02 04:50:10.932698+00:00</td>\n",
       "      <td>2025-07-02 04:51:34.515266+00:00</td>\n",
       "      <td>2025-07-02T04:51:39.629000</td>\n",
       "      <td>110534</td>\n",
       "      <td>lowdust</td>\n",
       "      <td>314.093642</td>\n",
       "      <td>-20.987444</td>\n",
       "      <td>116.867034</td>\n",
       "      <td>r</td>\n",
       "      <td>2.301764</td>\n",
       "      <td>26.741433</td>\n",
       "      <td>28.450234</td>\n",
       "      <td>-1.7088</td>\n",
       "      <td>BLOCK-365</td>\n",
       "      <td>lowdust</td>\n",
       "    </tr>\n",
       "  </tbody>\n",
       "</table>\n",
       "</div>"
      ],
      "text/plain": [
       "          visit_id   day_obs seq_num                       time_target  \\\n",
       "353  2025070100486  20250701     486  2025-07-02 04:50:10.932698+00:00   \n",
       "\n",
       "                     time_observation                   obs_start  \\\n",
       "353  2025-07-02 04:51:34.515266+00:00  2025-07-02T04:51:39.629000   \n",
       "\n",
       "    scriptSalIndex target_name        s_ra      s_dec sky_rotation band  \\\n",
       "353         110534     lowdust  314.093642 -20.987444   116.867034    r   \n",
       "\n",
       "    psf_sigma_median zero_point_1s zero_point_1s_pred  clouds science_program  \\\n",
       "353         2.301764     26.741433          28.450234 -1.7088       BLOCK-365   \n",
       "\n",
       "    target_name  \n",
       "353     lowdust  "
      ]
     },
     "metadata": {},
     "output_type": "display_data"
    },
    {
     "name": "stdout",
     "output_type": "stream",
     "text": [
      "IMG_TYPE science. Flags: big zeropoint offset.\n"
     ]
    },
    {
     "data": {
      "text/html": [
       "<a href=\"https://usdf-rsp.slac.stanford.edu/rubintv/summit-usdf/lsstcam/event?key=lsstcam/2025-07-01/calexp_mosaic/000486/lsstcam_calexp_mosaic_2025-07-01_000486.jpg\" target=\"_blank\" rel=\"noreferrer noopener\">https://usdf-rsp.slac.stanford.edu/rubintv/summit-usdf/lsstcam/event?key=lsstcam/2025-07-01/calexp_mosaic/000486/lsstcam_calexp_mosaic_2025-07-01_000486.jpg</a>"
      ],
      "text/plain": [
       "<IPython.core.display.HTML object>"
      ]
     },
     "metadata": {},
     "output_type": "display_data"
    },
    {
     "data": {
      "text/html": [
       "<a href=\"https://usdf-rsp.slac.stanford.edu/rubintv/summit-usdf/lsstcam/event?key=lsstcam/2025-07-01/witness_detector/000486/lsstcam_witness_detector_2025-07-01_000486.jpg\" target=\"_blank\" rel=\"noreferrer noopener\">https://usdf-rsp.slac.stanford.edu/rubintv/summit-usdf/lsstcam/event?key=lsstcam/2025-07-01/witness_detector/000486/lsstcam_witness_detector_2025-07-01_000486.jpg</a>"
      ],
      "text/plain": [
       "<IPython.core.display.HTML object>"
      ]
     },
     "metadata": {},
     "output_type": "display_data"
    },
    {
     "data": {
      "text/html": [
       "<br>"
      ],
      "text/plain": [
       "<IPython.core.display.HTML object>"
      ]
     },
     "metadata": {},
     "output_type": "display_data"
    },
    {
     "data": {
      "text/html": [
       "<div>\n",
       "<style scoped>\n",
       "    .dataframe tbody tr th:only-of-type {\n",
       "        vertical-align: middle;\n",
       "    }\n",
       "\n",
       "    .dataframe tbody tr th {\n",
       "        vertical-align: top;\n",
       "    }\n",
       "\n",
       "    .dataframe thead th {\n",
       "        text-align: right;\n",
       "    }\n",
       "</style>\n",
       "<table border=\"1\" class=\"dataframe\">\n",
       "  <thead>\n",
       "    <tr style=\"text-align: right;\">\n",
       "      <th></th>\n",
       "      <th>visit_id</th>\n",
       "      <th>day_obs</th>\n",
       "      <th>seq_num</th>\n",
       "      <th>time_target</th>\n",
       "      <th>time_observation</th>\n",
       "      <th>obs_start</th>\n",
       "      <th>scriptSalIndex</th>\n",
       "      <th>target_name</th>\n",
       "      <th>s_ra</th>\n",
       "      <th>s_dec</th>\n",
       "      <th>sky_rotation</th>\n",
       "      <th>band</th>\n",
       "      <th>psf_sigma_median</th>\n",
       "      <th>zero_point_1s</th>\n",
       "      <th>zero_point_1s_pred</th>\n",
       "      <th>clouds</th>\n",
       "      <th>science_program</th>\n",
       "      <th>target_name</th>\n",
       "    </tr>\n",
       "  </thead>\n",
       "  <tbody>\n",
       "    <tr>\n",
       "      <th>354</th>\n",
       "      <td>2025070100487</td>\n",
       "      <td>20250701</td>\n",
       "      <td>487</td>\n",
       "      <td>2025-07-02 04:50:55.432467+00:00</td>\n",
       "      <td>2025-07-02 04:52:13.994209+00:00</td>\n",
       "      <td>2025-07-02T04:52:19.705000</td>\n",
       "      <td>110535</td>\n",
       "      <td>lowdust</td>\n",
       "      <td>317.127405</td>\n",
       "      <td>-21.080895</td>\n",
       "      <td>117.552566</td>\n",
       "      <td>r</td>\n",
       "      <td>2.301743</td>\n",
       "      <td>26.834916</td>\n",
       "      <td>28.446576</td>\n",
       "      <td>-1.61166</td>\n",
       "      <td>BLOCK-365</td>\n",
       "      <td>lowdust</td>\n",
       "    </tr>\n",
       "  </tbody>\n",
       "</table>\n",
       "</div>"
      ],
      "text/plain": [
       "          visit_id   day_obs seq_num                       time_target  \\\n",
       "354  2025070100487  20250701     487  2025-07-02 04:50:55.432467+00:00   \n",
       "\n",
       "                     time_observation                   obs_start  \\\n",
       "354  2025-07-02 04:52:13.994209+00:00  2025-07-02T04:52:19.705000   \n",
       "\n",
       "    scriptSalIndex target_name        s_ra      s_dec sky_rotation band  \\\n",
       "354         110535     lowdust  317.127405 -21.080895   117.552566    r   \n",
       "\n",
       "    psf_sigma_median zero_point_1s zero_point_1s_pred   clouds  \\\n",
       "354         2.301743     26.834916          28.446576 -1.61166   \n",
       "\n",
       "    science_program target_name  \n",
       "354       BLOCK-365     lowdust  "
      ]
     },
     "metadata": {},
     "output_type": "display_data"
    },
    {
     "name": "stdout",
     "output_type": "stream",
     "text": [
      "IMG_TYPE science. Flags: big zeropoint offset.\n"
     ]
    },
    {
     "data": {
      "text/html": [
       "<a href=\"https://usdf-rsp.slac.stanford.edu/rubintv/summit-usdf/lsstcam/event?key=lsstcam/2025-07-01/calexp_mosaic/000487/lsstcam_calexp_mosaic_2025-07-01_000487.jpg\" target=\"_blank\" rel=\"noreferrer noopener\">https://usdf-rsp.slac.stanford.edu/rubintv/summit-usdf/lsstcam/event?key=lsstcam/2025-07-01/calexp_mosaic/000487/lsstcam_calexp_mosaic_2025-07-01_000487.jpg</a>"
      ],
      "text/plain": [
       "<IPython.core.display.HTML object>"
      ]
     },
     "metadata": {},
     "output_type": "display_data"
    },
    {
     "data": {
      "text/html": [
       "<a href=\"https://usdf-rsp.slac.stanford.edu/rubintv/summit-usdf/lsstcam/event?key=lsstcam/2025-07-01/witness_detector/000487/lsstcam_witness_detector_2025-07-01_000487.jpg\" target=\"_blank\" rel=\"noreferrer noopener\">https://usdf-rsp.slac.stanford.edu/rubintv/summit-usdf/lsstcam/event?key=lsstcam/2025-07-01/witness_detector/000487/lsstcam_witness_detector_2025-07-01_000487.jpg</a>"
      ],
      "text/plain": [
       "<IPython.core.display.HTML object>"
      ]
     },
     "metadata": {},
     "output_type": "display_data"
    },
    {
     "data": {
      "text/html": [
       "<br>"
      ],
      "text/plain": [
       "<IPython.core.display.HTML object>"
      ]
     },
     "metadata": {},
     "output_type": "display_data"
    },
    {
     "data": {
      "text/html": [
       "<div>\n",
       "<style scoped>\n",
       "    .dataframe tbody tr th:only-of-type {\n",
       "        vertical-align: middle;\n",
       "    }\n",
       "\n",
       "    .dataframe tbody tr th {\n",
       "        vertical-align: top;\n",
       "    }\n",
       "\n",
       "    .dataframe thead th {\n",
       "        text-align: right;\n",
       "    }\n",
       "</style>\n",
       "<table border=\"1\" class=\"dataframe\">\n",
       "  <thead>\n",
       "    <tr style=\"text-align: right;\">\n",
       "      <th></th>\n",
       "      <th>visit_id</th>\n",
       "      <th>day_obs</th>\n",
       "      <th>seq_num</th>\n",
       "      <th>time_target</th>\n",
       "      <th>time_observation</th>\n",
       "      <th>obs_start</th>\n",
       "      <th>scriptSalIndex</th>\n",
       "      <th>target_name</th>\n",
       "      <th>s_ra</th>\n",
       "      <th>s_dec</th>\n",
       "      <th>sky_rotation</th>\n",
       "      <th>band</th>\n",
       "      <th>psf_sigma_median</th>\n",
       "      <th>zero_point_1s</th>\n",
       "      <th>zero_point_1s_pred</th>\n",
       "      <th>clouds</th>\n",
       "      <th>science_program</th>\n",
       "      <th>target_name</th>\n",
       "    </tr>\n",
       "  </thead>\n",
       "  <tbody>\n",
       "    <tr>\n",
       "      <th>355</th>\n",
       "      <td>2025070100488</td>\n",
       "      <td>20250701</td>\n",
       "      <td>488</td>\n",
       "      <td>2025-07-02 04:51:35.908242+00:00</td>\n",
       "      <td>2025-07-02 04:52:55.412961+00:00</td>\n",
       "      <td>2025-07-02T04:53:00.612000</td>\n",
       "      <td>110536</td>\n",
       "      <td>lowdust</td>\n",
       "      <td>315.890834</td>\n",
       "      <td>-18.279974</td>\n",
       "      <td>113.718958</td>\n",
       "      <td>r</td>\n",
       "      <td>2.344074</td>\n",
       "      <td>26.850431</td>\n",
       "      <td>28.446538</td>\n",
       "      <td>-1.596107</td>\n",
       "      <td>BLOCK-365</td>\n",
       "      <td>lowdust</td>\n",
       "    </tr>\n",
       "  </tbody>\n",
       "</table>\n",
       "</div>"
      ],
      "text/plain": [
       "          visit_id   day_obs seq_num                       time_target  \\\n",
       "355  2025070100488  20250701     488  2025-07-02 04:51:35.908242+00:00   \n",
       "\n",
       "                     time_observation                   obs_start  \\\n",
       "355  2025-07-02 04:52:55.412961+00:00  2025-07-02T04:53:00.612000   \n",
       "\n",
       "    scriptSalIndex target_name        s_ra      s_dec sky_rotation band  \\\n",
       "355         110536     lowdust  315.890834 -18.279974   113.718958    r   \n",
       "\n",
       "    psf_sigma_median zero_point_1s zero_point_1s_pred    clouds  \\\n",
       "355         2.344074     26.850431          28.446538 -1.596107   \n",
       "\n",
       "    science_program target_name  \n",
       "355       BLOCK-365     lowdust  "
      ]
     },
     "metadata": {},
     "output_type": "display_data"
    },
    {
     "name": "stdout",
     "output_type": "stream",
     "text": [
      "IMG_TYPE science. Flags: big zeropoint offset.\n"
     ]
    },
    {
     "data": {
      "text/html": [
       "<a href=\"https://usdf-rsp.slac.stanford.edu/rubintv/summit-usdf/lsstcam/event?key=lsstcam/2025-07-01/calexp_mosaic/000488/lsstcam_calexp_mosaic_2025-07-01_000488.jpg\" target=\"_blank\" rel=\"noreferrer noopener\">https://usdf-rsp.slac.stanford.edu/rubintv/summit-usdf/lsstcam/event?key=lsstcam/2025-07-01/calexp_mosaic/000488/lsstcam_calexp_mosaic_2025-07-01_000488.jpg</a>"
      ],
      "text/plain": [
       "<IPython.core.display.HTML object>"
      ]
     },
     "metadata": {},
     "output_type": "display_data"
    },
    {
     "data": {
      "text/html": [
       "<a href=\"https://usdf-rsp.slac.stanford.edu/rubintv/summit-usdf/lsstcam/event?key=lsstcam/2025-07-01/witness_detector/000488/lsstcam_witness_detector_2025-07-01_000488.jpg\" target=\"_blank\" rel=\"noreferrer noopener\">https://usdf-rsp.slac.stanford.edu/rubintv/summit-usdf/lsstcam/event?key=lsstcam/2025-07-01/witness_detector/000488/lsstcam_witness_detector_2025-07-01_000488.jpg</a>"
      ],
      "text/plain": [
       "<IPython.core.display.HTML object>"
      ]
     },
     "metadata": {},
     "output_type": "display_data"
    },
    {
     "data": {
      "text/html": [
       "<br>"
      ],
      "text/plain": [
       "<IPython.core.display.HTML object>"
      ]
     },
     "metadata": {},
     "output_type": "display_data"
    },
    {
     "data": {
      "text/html": [
       "<div>\n",
       "<style scoped>\n",
       "    .dataframe tbody tr th:only-of-type {\n",
       "        vertical-align: middle;\n",
       "    }\n",
       "\n",
       "    .dataframe tbody tr th {\n",
       "        vertical-align: top;\n",
       "    }\n",
       "\n",
       "    .dataframe thead th {\n",
       "        text-align: right;\n",
       "    }\n",
       "</style>\n",
       "<table border=\"1\" class=\"dataframe\">\n",
       "  <thead>\n",
       "    <tr style=\"text-align: right;\">\n",
       "      <th></th>\n",
       "      <th>visit_id</th>\n",
       "      <th>day_obs</th>\n",
       "      <th>seq_num</th>\n",
       "      <th>time_target</th>\n",
       "      <th>time_observation</th>\n",
       "      <th>obs_start</th>\n",
       "      <th>scriptSalIndex</th>\n",
       "      <th>target_name</th>\n",
       "      <th>s_ra</th>\n",
       "      <th>s_dec</th>\n",
       "      <th>sky_rotation</th>\n",
       "      <th>band</th>\n",
       "      <th>psf_sigma_median</th>\n",
       "      <th>zero_point_1s</th>\n",
       "      <th>zero_point_1s_pred</th>\n",
       "      <th>clouds</th>\n",
       "      <th>science_program</th>\n",
       "      <th>target_name</th>\n",
       "    </tr>\n",
       "  </thead>\n",
       "  <tbody>\n",
       "    <tr>\n",
       "      <th>356</th>\n",
       "      <td>2025070100489</td>\n",
       "      <td>20250701</td>\n",
       "      <td>489</td>\n",
       "      <td>2025-07-02 04:52:15.321867+00:00</td>\n",
       "      <td>2025-07-02 04:53:33.583051+00:00</td>\n",
       "      <td>2025-07-02T04:53:38.595000</td>\n",
       "      <td>110537</td>\n",
       "      <td>lowdust</td>\n",
       "      <td>312.947849</td>\n",
       "      <td>-18.180737</td>\n",
       "      <td>112.634413</td>\n",
       "      <td>r</td>\n",
       "      <td>2.126956</td>\n",
       "      <td>26.609681</td>\n",
       "      <td>28.450386</td>\n",
       "      <td>-1.840705</td>\n",
       "      <td>BLOCK-365</td>\n",
       "      <td>lowdust</td>\n",
       "    </tr>\n",
       "  </tbody>\n",
       "</table>\n",
       "</div>"
      ],
      "text/plain": [
       "          visit_id   day_obs seq_num                       time_target  \\\n",
       "356  2025070100489  20250701     489  2025-07-02 04:52:15.321867+00:00   \n",
       "\n",
       "                     time_observation                   obs_start  \\\n",
       "356  2025-07-02 04:53:33.583051+00:00  2025-07-02T04:53:38.595000   \n",
       "\n",
       "    scriptSalIndex target_name        s_ra      s_dec sky_rotation band  \\\n",
       "356         110537     lowdust  312.947849 -18.180737   112.634413    r   \n",
       "\n",
       "    psf_sigma_median zero_point_1s zero_point_1s_pred    clouds  \\\n",
       "356         2.126956     26.609681          28.450386 -1.840705   \n",
       "\n",
       "    science_program target_name  \n",
       "356       BLOCK-365     lowdust  "
      ]
     },
     "metadata": {},
     "output_type": "display_data"
    },
    {
     "name": "stdout",
     "output_type": "stream",
     "text": [
      "IMG_TYPE science. Flags: big zeropoint offset.\n"
     ]
    },
    {
     "data": {
      "text/html": [
       "<a href=\"https://usdf-rsp.slac.stanford.edu/rubintv/summit-usdf/lsstcam/event?key=lsstcam/2025-07-01/calexp_mosaic/000489/lsstcam_calexp_mosaic_2025-07-01_000489.jpg\" target=\"_blank\" rel=\"noreferrer noopener\">https://usdf-rsp.slac.stanford.edu/rubintv/summit-usdf/lsstcam/event?key=lsstcam/2025-07-01/calexp_mosaic/000489/lsstcam_calexp_mosaic_2025-07-01_000489.jpg</a>"
      ],
      "text/plain": [
       "<IPython.core.display.HTML object>"
      ]
     },
     "metadata": {},
     "output_type": "display_data"
    },
    {
     "data": {
      "text/html": [
       "<a href=\"https://usdf-rsp.slac.stanford.edu/rubintv/summit-usdf/lsstcam/event?key=lsstcam/2025-07-01/witness_detector/000489/lsstcam_witness_detector_2025-07-01_000489.jpg\" target=\"_blank\" rel=\"noreferrer noopener\">https://usdf-rsp.slac.stanford.edu/rubintv/summit-usdf/lsstcam/event?key=lsstcam/2025-07-01/witness_detector/000489/lsstcam_witness_detector_2025-07-01_000489.jpg</a>"
      ],
      "text/plain": [
       "<IPython.core.display.HTML object>"
      ]
     },
     "metadata": {},
     "output_type": "display_data"
    },
    {
     "data": {
      "text/html": [
       "<br>"
      ],
      "text/plain": [
       "<IPython.core.display.HTML object>"
      ]
     },
     "metadata": {},
     "output_type": "display_data"
    },
    {
     "data": {
      "text/html": [
       "<div>\n",
       "<style scoped>\n",
       "    .dataframe tbody tr th:only-of-type {\n",
       "        vertical-align: middle;\n",
       "    }\n",
       "\n",
       "    .dataframe tbody tr th {\n",
       "        vertical-align: top;\n",
       "    }\n",
       "\n",
       "    .dataframe thead th {\n",
       "        text-align: right;\n",
       "    }\n",
       "</style>\n",
       "<table border=\"1\" class=\"dataframe\">\n",
       "  <thead>\n",
       "    <tr style=\"text-align: right;\">\n",
       "      <th></th>\n",
       "      <th>visit_id</th>\n",
       "      <th>day_obs</th>\n",
       "      <th>seq_num</th>\n",
       "      <th>time_target</th>\n",
       "      <th>time_observation</th>\n",
       "      <th>obs_start</th>\n",
       "      <th>scriptSalIndex</th>\n",
       "      <th>target_name</th>\n",
       "      <th>s_ra</th>\n",
       "      <th>s_dec</th>\n",
       "      <th>sky_rotation</th>\n",
       "      <th>band</th>\n",
       "      <th>psf_sigma_median</th>\n",
       "      <th>zero_point_1s</th>\n",
       "      <th>zero_point_1s_pred</th>\n",
       "      <th>clouds</th>\n",
       "      <th>science_program</th>\n",
       "      <th>target_name</th>\n",
       "    </tr>\n",
       "  </thead>\n",
       "  <tbody>\n",
       "    <tr>\n",
       "      <th>357</th>\n",
       "      <td>2025070100490</td>\n",
       "      <td>20250701</td>\n",
       "      <td>490</td>\n",
       "      <td>2025-07-02 04:52:56.476981+00:00</td>\n",
       "      <td>2025-07-02 04:54:12.011083+00:00</td>\n",
       "      <td>2025-07-02T04:54:17.057000</td>\n",
       "      <td>110538</td>\n",
       "      <td>lowdust</td>\n",
       "      <td>310.009871</td>\n",
       "      <td>-18.043397</td>\n",
       "      <td>111.212739</td>\n",
       "      <td>r</td>\n",
       "      <td>2.231267</td>\n",
       "      <td>26.553229</td>\n",
       "      <td>28.453692</td>\n",
       "      <td>-1.900464</td>\n",
       "      <td>BLOCK-365</td>\n",
       "      <td>lowdust</td>\n",
       "    </tr>\n",
       "  </tbody>\n",
       "</table>\n",
       "</div>"
      ],
      "text/plain": [
       "          visit_id   day_obs seq_num                       time_target  \\\n",
       "357  2025070100490  20250701     490  2025-07-02 04:52:56.476981+00:00   \n",
       "\n",
       "                     time_observation                   obs_start  \\\n",
       "357  2025-07-02 04:54:12.011083+00:00  2025-07-02T04:54:17.057000   \n",
       "\n",
       "    scriptSalIndex target_name        s_ra      s_dec sky_rotation band  \\\n",
       "357         110538     lowdust  310.009871 -18.043397   111.212739    r   \n",
       "\n",
       "    psf_sigma_median zero_point_1s zero_point_1s_pred    clouds  \\\n",
       "357         2.231267     26.553229          28.453692 -1.900464   \n",
       "\n",
       "    science_program target_name  \n",
       "357       BLOCK-365     lowdust  "
      ]
     },
     "metadata": {},
     "output_type": "display_data"
    },
    {
     "name": "stdout",
     "output_type": "stream",
     "text": [
      "IMG_TYPE science. Flags: big zeropoint offset.\n"
     ]
    },
    {
     "data": {
      "text/html": [
       "<a href=\"https://usdf-rsp.slac.stanford.edu/rubintv/summit-usdf/lsstcam/event?key=lsstcam/2025-07-01/calexp_mosaic/000490/lsstcam_calexp_mosaic_2025-07-01_000490.jpg\" target=\"_blank\" rel=\"noreferrer noopener\">https://usdf-rsp.slac.stanford.edu/rubintv/summit-usdf/lsstcam/event?key=lsstcam/2025-07-01/calexp_mosaic/000490/lsstcam_calexp_mosaic_2025-07-01_000490.jpg</a>"
      ],
      "text/plain": [
       "<IPython.core.display.HTML object>"
      ]
     },
     "metadata": {},
     "output_type": "display_data"
    },
    {
     "data": {
      "text/html": [
       "<a href=\"https://usdf-rsp.slac.stanford.edu/rubintv/summit-usdf/lsstcam/event?key=lsstcam/2025-07-01/witness_detector/000490/lsstcam_witness_detector_2025-07-01_000490.jpg\" target=\"_blank\" rel=\"noreferrer noopener\">https://usdf-rsp.slac.stanford.edu/rubintv/summit-usdf/lsstcam/event?key=lsstcam/2025-07-01/witness_detector/000490/lsstcam_witness_detector_2025-07-01_000490.jpg</a>"
      ],
      "text/plain": [
       "<IPython.core.display.HTML object>"
      ]
     },
     "metadata": {},
     "output_type": "display_data"
    },
    {
     "data": {
      "text/html": [
       "<br>"
      ],
      "text/plain": [
       "<IPython.core.display.HTML object>"
      ]
     },
     "metadata": {},
     "output_type": "display_data"
    },
    {
     "data": {
      "text/html": [
       "<div>\n",
       "<style scoped>\n",
       "    .dataframe tbody tr th:only-of-type {\n",
       "        vertical-align: middle;\n",
       "    }\n",
       "\n",
       "    .dataframe tbody tr th {\n",
       "        vertical-align: top;\n",
       "    }\n",
       "\n",
       "    .dataframe thead th {\n",
       "        text-align: right;\n",
       "    }\n",
       "</style>\n",
       "<table border=\"1\" class=\"dataframe\">\n",
       "  <thead>\n",
       "    <tr style=\"text-align: right;\">\n",
       "      <th></th>\n",
       "      <th>visit_id</th>\n",
       "      <th>day_obs</th>\n",
       "      <th>seq_num</th>\n",
       "      <th>time_target</th>\n",
       "      <th>time_observation</th>\n",
       "      <th>obs_start</th>\n",
       "      <th>scriptSalIndex</th>\n",
       "      <th>target_name</th>\n",
       "      <th>s_ra</th>\n",
       "      <th>s_dec</th>\n",
       "      <th>sky_rotation</th>\n",
       "      <th>band</th>\n",
       "      <th>psf_sigma_median</th>\n",
       "      <th>zero_point_1s</th>\n",
       "      <th>zero_point_1s_pred</th>\n",
       "      <th>clouds</th>\n",
       "      <th>science_program</th>\n",
       "      <th>target_name</th>\n",
       "    </tr>\n",
       "  </thead>\n",
       "  <tbody>\n",
       "    <tr>\n",
       "      <th>359</th>\n",
       "      <td>2025070100492</td>\n",
       "      <td>20250701</td>\n",
       "      <td>492</td>\n",
       "      <td>2025-07-02 04:54:13.069877+00:00</td>\n",
       "      <td>2025-07-02 04:55:33.647062+00:00</td>\n",
       "      <td>2025-07-02T04:55:39.082000</td>\n",
       "      <td>110540</td>\n",
       "      <td>lowdust</td>\n",
       "      <td>311.760852</td>\n",
       "      <td>-15.330763</td>\n",
       "      <td>108.359582</td>\n",
       "      <td>r</td>\n",
       "      <td>2.2463</td>\n",
       "      <td>26.724135</td>\n",
       "      <td>28.450189</td>\n",
       "      <td>-1.726054</td>\n",
       "      <td>BLOCK-365</td>\n",
       "      <td>lowdust</td>\n",
       "    </tr>\n",
       "  </tbody>\n",
       "</table>\n",
       "</div>"
      ],
      "text/plain": [
       "          visit_id   day_obs seq_num                       time_target  \\\n",
       "359  2025070100492  20250701     492  2025-07-02 04:54:13.069877+00:00   \n",
       "\n",
       "                     time_observation                   obs_start  \\\n",
       "359  2025-07-02 04:55:33.647062+00:00  2025-07-02T04:55:39.082000   \n",
       "\n",
       "    scriptSalIndex target_name        s_ra      s_dec sky_rotation band  \\\n",
       "359         110540     lowdust  311.760852 -15.330763   108.359582    r   \n",
       "\n",
       "    psf_sigma_median zero_point_1s zero_point_1s_pred    clouds  \\\n",
       "359           2.2463     26.724135          28.450189 -1.726054   \n",
       "\n",
       "    science_program target_name  \n",
       "359       BLOCK-365     lowdust  "
      ]
     },
     "metadata": {},
     "output_type": "display_data"
    },
    {
     "name": "stdout",
     "output_type": "stream",
     "text": [
      "IMG_TYPE science. Flags: big zeropoint offset.\n"
     ]
    },
    {
     "data": {
      "text/html": [
       "<a href=\"https://usdf-rsp.slac.stanford.edu/rubintv/summit-usdf/lsstcam/event?key=lsstcam/2025-07-01/calexp_mosaic/000492/lsstcam_calexp_mosaic_2025-07-01_000492.jpg\" target=\"_blank\" rel=\"noreferrer noopener\">https://usdf-rsp.slac.stanford.edu/rubintv/summit-usdf/lsstcam/event?key=lsstcam/2025-07-01/calexp_mosaic/000492/lsstcam_calexp_mosaic_2025-07-01_000492.jpg</a>"
      ],
      "text/plain": [
       "<IPython.core.display.HTML object>"
      ]
     },
     "metadata": {},
     "output_type": "display_data"
    },
    {
     "data": {
      "text/html": [
       "<a href=\"https://usdf-rsp.slac.stanford.edu/rubintv/summit-usdf/lsstcam/event?key=lsstcam/2025-07-01/witness_detector/000492/lsstcam_witness_detector_2025-07-01_000492.jpg\" target=\"_blank\" rel=\"noreferrer noopener\">https://usdf-rsp.slac.stanford.edu/rubintv/summit-usdf/lsstcam/event?key=lsstcam/2025-07-01/witness_detector/000492/lsstcam_witness_detector_2025-07-01_000492.jpg</a>"
      ],
      "text/plain": [
       "<IPython.core.display.HTML object>"
      ]
     },
     "metadata": {},
     "output_type": "display_data"
    },
    {
     "data": {
      "text/html": [
       "<br>"
      ],
      "text/plain": [
       "<IPython.core.display.HTML object>"
      ]
     },
     "metadata": {},
     "output_type": "display_data"
    },
    {
     "data": {
      "text/html": [
       "<div>\n",
       "<style scoped>\n",
       "    .dataframe tbody tr th:only-of-type {\n",
       "        vertical-align: middle;\n",
       "    }\n",
       "\n",
       "    .dataframe tbody tr th {\n",
       "        vertical-align: top;\n",
       "    }\n",
       "\n",
       "    .dataframe thead th {\n",
       "        text-align: right;\n",
       "    }\n",
       "</style>\n",
       "<table border=\"1\" class=\"dataframe\">\n",
       "  <thead>\n",
       "    <tr style=\"text-align: right;\">\n",
       "      <th></th>\n",
       "      <th>visit_id</th>\n",
       "      <th>day_obs</th>\n",
       "      <th>seq_num</th>\n",
       "      <th>time_target</th>\n",
       "      <th>time_observation</th>\n",
       "      <th>obs_start</th>\n",
       "      <th>scriptSalIndex</th>\n",
       "      <th>target_name</th>\n",
       "      <th>s_ra</th>\n",
       "      <th>s_dec</th>\n",
       "      <th>sky_rotation</th>\n",
       "      <th>band</th>\n",
       "      <th>psf_sigma_median</th>\n",
       "      <th>zero_point_1s</th>\n",
       "      <th>zero_point_1s_pred</th>\n",
       "      <th>clouds</th>\n",
       "      <th>science_program</th>\n",
       "      <th>target_name</th>\n",
       "    </tr>\n",
       "  </thead>\n",
       "  <tbody>\n",
       "    <tr>\n",
       "      <th>360</th>\n",
       "      <td>2025070100493</td>\n",
       "      <td>20250701</td>\n",
       "      <td>493</td>\n",
       "      <td>2025-07-02 04:54:54.557053+00:00</td>\n",
       "      <td>2025-07-02 04:56:14.860147+00:00</td>\n",
       "      <td>2025-07-02T04:56:20.156000</td>\n",
       "      <td>110541</td>\n",
       "      <td>lowdust</td>\n",
       "      <td>314.633192</td>\n",
       "      <td>-15.443319</td>\n",
       "      <td>109.817723</td>\n",
       "      <td>r</td>\n",
       "      <td>2.241178</td>\n",
       "      <td>26.488979</td>\n",
       "      <td>28.447008</td>\n",
       "      <td>-1.958029</td>\n",
       "      <td>BLOCK-365</td>\n",
       "      <td>lowdust</td>\n",
       "    </tr>\n",
       "  </tbody>\n",
       "</table>\n",
       "</div>"
      ],
      "text/plain": [
       "          visit_id   day_obs seq_num                       time_target  \\\n",
       "360  2025070100493  20250701     493  2025-07-02 04:54:54.557053+00:00   \n",
       "\n",
       "                     time_observation                   obs_start  \\\n",
       "360  2025-07-02 04:56:14.860147+00:00  2025-07-02T04:56:20.156000   \n",
       "\n",
       "    scriptSalIndex target_name        s_ra      s_dec sky_rotation band  \\\n",
       "360         110541     lowdust  314.633192 -15.443319   109.817723    r   \n",
       "\n",
       "    psf_sigma_median zero_point_1s zero_point_1s_pred    clouds  \\\n",
       "360         2.241178     26.488979          28.447008 -1.958029   \n",
       "\n",
       "    science_program target_name  \n",
       "360       BLOCK-365     lowdust  "
      ]
     },
     "metadata": {},
     "output_type": "display_data"
    },
    {
     "name": "stdout",
     "output_type": "stream",
     "text": [
      "IMG_TYPE science. Flags: big zeropoint offset.\n"
     ]
    },
    {
     "data": {
      "text/html": [
       "<a href=\"https://usdf-rsp.slac.stanford.edu/rubintv/summit-usdf/lsstcam/event?key=lsstcam/2025-07-01/calexp_mosaic/000493/lsstcam_calexp_mosaic_2025-07-01_000493.jpg\" target=\"_blank\" rel=\"noreferrer noopener\">https://usdf-rsp.slac.stanford.edu/rubintv/summit-usdf/lsstcam/event?key=lsstcam/2025-07-01/calexp_mosaic/000493/lsstcam_calexp_mosaic_2025-07-01_000493.jpg</a>"
      ],
      "text/plain": [
       "<IPython.core.display.HTML object>"
      ]
     },
     "metadata": {},
     "output_type": "display_data"
    },
    {
     "data": {
      "text/html": [
       "<a href=\"https://usdf-rsp.slac.stanford.edu/rubintv/summit-usdf/lsstcam/event?key=lsstcam/2025-07-01/witness_detector/000493/lsstcam_witness_detector_2025-07-01_000493.jpg\" target=\"_blank\" rel=\"noreferrer noopener\">https://usdf-rsp.slac.stanford.edu/rubintv/summit-usdf/lsstcam/event?key=lsstcam/2025-07-01/witness_detector/000493/lsstcam_witness_detector_2025-07-01_000493.jpg</a>"
      ],
      "text/plain": [
       "<IPython.core.display.HTML object>"
      ]
     },
     "metadata": {},
     "output_type": "display_data"
    },
    {
     "data": {
      "text/html": [
       "<br>"
      ],
      "text/plain": [
       "<IPython.core.display.HTML object>"
      ]
     },
     "metadata": {},
     "output_type": "display_data"
    },
    {
     "data": {
      "text/html": [
       "<div>\n",
       "<style scoped>\n",
       "    .dataframe tbody tr th:only-of-type {\n",
       "        vertical-align: middle;\n",
       "    }\n",
       "\n",
       "    .dataframe tbody tr th {\n",
       "        vertical-align: top;\n",
       "    }\n",
       "\n",
       "    .dataframe thead th {\n",
       "        text-align: right;\n",
       "    }\n",
       "</style>\n",
       "<table border=\"1\" class=\"dataframe\">\n",
       "  <thead>\n",
       "    <tr style=\"text-align: right;\">\n",
       "      <th></th>\n",
       "      <th>visit_id</th>\n",
       "      <th>day_obs</th>\n",
       "      <th>seq_num</th>\n",
       "      <th>time_target</th>\n",
       "      <th>time_observation</th>\n",
       "      <th>obs_start</th>\n",
       "      <th>scriptSalIndex</th>\n",
       "      <th>target_name</th>\n",
       "      <th>s_ra</th>\n",
       "      <th>s_dec</th>\n",
       "      <th>sky_rotation</th>\n",
       "      <th>band</th>\n",
       "      <th>psf_sigma_median</th>\n",
       "      <th>zero_point_1s</th>\n",
       "      <th>zero_point_1s_pred</th>\n",
       "      <th>clouds</th>\n",
       "      <th>science_program</th>\n",
       "      <th>target_name</th>\n",
       "    </tr>\n",
       "  </thead>\n",
       "  <tbody>\n",
       "    <tr>\n",
       "      <th>362</th>\n",
       "      <td>2025070100495</td>\n",
       "      <td>20250701</td>\n",
       "      <td>495</td>\n",
       "      <td>2025-07-02 04:56:15.932056+00:00</td>\n",
       "      <td>2025-07-02 04:57:35.486709+00:00</td>\n",
       "      <td>2025-07-02T04:57:41.318000</td>\n",
       "      <td>110543</td>\n",
       "      <td>lowdust</td>\n",
       "      <td>316.176174</td>\n",
       "      <td>-12.680389</td>\n",
       "      <td>107.39484</td>\n",
       "      <td>r</td>\n",
       "      <td>2.324199</td>\n",
       "      <td>26.666648</td>\n",
       "      <td>28.442739</td>\n",
       "      <td>-1.776091</td>\n",
       "      <td>BLOCK-365</td>\n",
       "      <td>lowdust</td>\n",
       "    </tr>\n",
       "  </tbody>\n",
       "</table>\n",
       "</div>"
      ],
      "text/plain": [
       "          visit_id   day_obs seq_num                       time_target  \\\n",
       "362  2025070100495  20250701     495  2025-07-02 04:56:15.932056+00:00   \n",
       "\n",
       "                     time_observation                   obs_start  \\\n",
       "362  2025-07-02 04:57:35.486709+00:00  2025-07-02T04:57:41.318000   \n",
       "\n",
       "    scriptSalIndex target_name        s_ra      s_dec sky_rotation band  \\\n",
       "362         110543     lowdust  316.176174 -12.680389    107.39484    r   \n",
       "\n",
       "    psf_sigma_median zero_point_1s zero_point_1s_pred    clouds  \\\n",
       "362         2.324199     26.666648          28.442739 -1.776091   \n",
       "\n",
       "    science_program target_name  \n",
       "362       BLOCK-365     lowdust  "
      ]
     },
     "metadata": {},
     "output_type": "display_data"
    },
    {
     "name": "stdout",
     "output_type": "stream",
     "text": [
      "IMG_TYPE science. Flags: big zeropoint offset.\n"
     ]
    },
    {
     "data": {
      "text/html": [
       "<a href=\"https://usdf-rsp.slac.stanford.edu/rubintv/summit-usdf/lsstcam/event?key=lsstcam/2025-07-01/calexp_mosaic/000495/lsstcam_calexp_mosaic_2025-07-01_000495.jpg\" target=\"_blank\" rel=\"noreferrer noopener\">https://usdf-rsp.slac.stanford.edu/rubintv/summit-usdf/lsstcam/event?key=lsstcam/2025-07-01/calexp_mosaic/000495/lsstcam_calexp_mosaic_2025-07-01_000495.jpg</a>"
      ],
      "text/plain": [
       "<IPython.core.display.HTML object>"
      ]
     },
     "metadata": {},
     "output_type": "display_data"
    },
    {
     "data": {
      "text/html": [
       "<a href=\"https://usdf-rsp.slac.stanford.edu/rubintv/summit-usdf/lsstcam/event?key=lsstcam/2025-07-01/witness_detector/000495/lsstcam_witness_detector_2025-07-01_000495.jpg\" target=\"_blank\" rel=\"noreferrer noopener\">https://usdf-rsp.slac.stanford.edu/rubintv/summit-usdf/lsstcam/event?key=lsstcam/2025-07-01/witness_detector/000495/lsstcam_witness_detector_2025-07-01_000495.jpg</a>"
      ],
      "text/plain": [
       "<IPython.core.display.HTML object>"
      ]
     },
     "metadata": {},
     "output_type": "display_data"
    },
    {
     "data": {
      "text/html": [
       "<br>"
      ],
      "text/plain": [
       "<IPython.core.display.HTML object>"
      ]
     },
     "metadata": {},
     "output_type": "display_data"
    },
    {
     "data": {
      "text/html": [
       "<div>\n",
       "<style scoped>\n",
       "    .dataframe tbody tr th:only-of-type {\n",
       "        vertical-align: middle;\n",
       "    }\n",
       "\n",
       "    .dataframe tbody tr th {\n",
       "        vertical-align: top;\n",
       "    }\n",
       "\n",
       "    .dataframe thead th {\n",
       "        text-align: right;\n",
       "    }\n",
       "</style>\n",
       "<table border=\"1\" class=\"dataframe\">\n",
       "  <thead>\n",
       "    <tr style=\"text-align: right;\">\n",
       "      <th></th>\n",
       "      <th>visit_id</th>\n",
       "      <th>day_obs</th>\n",
       "      <th>seq_num</th>\n",
       "      <th>time_target</th>\n",
       "      <th>time_observation</th>\n",
       "      <th>obs_start</th>\n",
       "      <th>scriptSalIndex</th>\n",
       "      <th>target_name</th>\n",
       "      <th>s_ra</th>\n",
       "      <th>s_dec</th>\n",
       "      <th>sky_rotation</th>\n",
       "      <th>band</th>\n",
       "      <th>psf_sigma_median</th>\n",
       "      <th>zero_point_1s</th>\n",
       "      <th>zero_point_1s_pred</th>\n",
       "      <th>clouds</th>\n",
       "      <th>science_program</th>\n",
       "      <th>target_name</th>\n",
       "    </tr>\n",
       "  </thead>\n",
       "  <tbody>\n",
       "    <tr>\n",
       "      <th>390</th>\n",
       "      <td>2025070100523</td>\n",
       "      <td>20250701</td>\n",
       "      <td>523</td>\n",
       "      <td>2025-07-02 05:15:22.377201+00:00</td>\n",
       "      <td>2025-07-02 05:16:41.954723+00:00</td>\n",
       "      <td>2025-07-02T05:16:47.293000</td>\n",
       "      <td>110571</td>\n",
       "      <td>lowdust</td>\n",
       "      <td>323.358285</td>\n",
       "      <td>-10.015136</td>\n",
       "      <td>104.265012</td>\n",
       "      <td>r</td>\n",
       "      <td>2.263564</td>\n",
       "      <td>26.768957</td>\n",
       "      <td>28.435915</td>\n",
       "      <td>-1.666958</td>\n",
       "      <td>BLOCK-365</td>\n",
       "      <td>lowdust</td>\n",
       "    </tr>\n",
       "  </tbody>\n",
       "</table>\n",
       "</div>"
      ],
      "text/plain": [
       "          visit_id   day_obs seq_num                       time_target  \\\n",
       "390  2025070100523  20250701     523  2025-07-02 05:15:22.377201+00:00   \n",
       "\n",
       "                     time_observation                   obs_start  \\\n",
       "390  2025-07-02 05:16:41.954723+00:00  2025-07-02T05:16:47.293000   \n",
       "\n",
       "    scriptSalIndex target_name        s_ra      s_dec sky_rotation band  \\\n",
       "390         110571     lowdust  323.358285 -10.015136   104.265012    r   \n",
       "\n",
       "    psf_sigma_median zero_point_1s zero_point_1s_pred    clouds  \\\n",
       "390         2.263564     26.768957          28.435915 -1.666958   \n",
       "\n",
       "    science_program target_name  \n",
       "390       BLOCK-365     lowdust  "
      ]
     },
     "metadata": {},
     "output_type": "display_data"
    },
    {
     "name": "stdout",
     "output_type": "stream",
     "text": [
      "IMG_TYPE science. Flags: big zeropoint offset.\n"
     ]
    },
    {
     "data": {
      "text/html": [
       "<a href=\"https://usdf-rsp.slac.stanford.edu/rubintv/summit-usdf/lsstcam/event?key=lsstcam/2025-07-01/calexp_mosaic/000523/lsstcam_calexp_mosaic_2025-07-01_000523.jpg\" target=\"_blank\" rel=\"noreferrer noopener\">https://usdf-rsp.slac.stanford.edu/rubintv/summit-usdf/lsstcam/event?key=lsstcam/2025-07-01/calexp_mosaic/000523/lsstcam_calexp_mosaic_2025-07-01_000523.jpg</a>"
      ],
      "text/plain": [
       "<IPython.core.display.HTML object>"
      ]
     },
     "metadata": {},
     "output_type": "display_data"
    },
    {
     "data": {
      "text/html": [
       "<a href=\"https://usdf-rsp.slac.stanford.edu/rubintv/summit-usdf/lsstcam/event?key=lsstcam/2025-07-01/witness_detector/000523/lsstcam_witness_detector_2025-07-01_000523.jpg\" target=\"_blank\" rel=\"noreferrer noopener\">https://usdf-rsp.slac.stanford.edu/rubintv/summit-usdf/lsstcam/event?key=lsstcam/2025-07-01/witness_detector/000523/lsstcam_witness_detector_2025-07-01_000523.jpg</a>"
      ],
      "text/plain": [
       "<IPython.core.display.HTML object>"
      ]
     },
     "metadata": {},
     "output_type": "display_data"
    },
    {
     "data": {
      "text/html": [
       "<br>"
      ],
      "text/plain": [
       "<IPython.core.display.HTML object>"
      ]
     },
     "metadata": {},
     "output_type": "display_data"
    },
    {
     "data": {
      "text/html": [
       "<div>\n",
       "<style scoped>\n",
       "    .dataframe tbody tr th:only-of-type {\n",
       "        vertical-align: middle;\n",
       "    }\n",
       "\n",
       "    .dataframe tbody tr th {\n",
       "        vertical-align: top;\n",
       "    }\n",
       "\n",
       "    .dataframe thead th {\n",
       "        text-align: right;\n",
       "    }\n",
       "</style>\n",
       "<table border=\"1\" class=\"dataframe\">\n",
       "  <thead>\n",
       "    <tr style=\"text-align: right;\">\n",
       "      <th></th>\n",
       "      <th>visit_id</th>\n",
       "      <th>day_obs</th>\n",
       "      <th>seq_num</th>\n",
       "      <th>time_target</th>\n",
       "      <th>time_observation</th>\n",
       "      <th>obs_start</th>\n",
       "      <th>scriptSalIndex</th>\n",
       "      <th>target_name</th>\n",
       "      <th>s_ra</th>\n",
       "      <th>s_dec</th>\n",
       "      <th>sky_rotation</th>\n",
       "      <th>band</th>\n",
       "      <th>psf_sigma_median</th>\n",
       "      <th>zero_point_1s</th>\n",
       "      <th>zero_point_1s_pred</th>\n",
       "      <th>clouds</th>\n",
       "      <th>science_program</th>\n",
       "      <th>target_name</th>\n",
       "    </tr>\n",
       "  </thead>\n",
       "  <tbody>\n",
       "    <tr>\n",
       "      <th>392</th>\n",
       "      <td>2025070100525</td>\n",
       "      <td>20250701</td>\n",
       "      <td>525</td>\n",
       "      <td>2025-07-02 05:16:43.039780+00:00</td>\n",
       "      <td>2025-07-02 05:17:59.544450+00:00</td>\n",
       "      <td>2025-07-02T05:18:05.440000</td>\n",
       "      <td>110573</td>\n",
       "      <td>lowdust</td>\n",
       "      <td>323.281398</td>\n",
       "      <td>-4.459625</td>\n",
       "      <td>99.251655</td>\n",
       "      <td>r</td>\n",
       "      <td>2.376155</td>\n",
       "      <td>26.609289</td>\n",
       "      <td>28.428375</td>\n",
       "      <td>-1.819087</td>\n",
       "      <td>BLOCK-365</td>\n",
       "      <td>lowdust</td>\n",
       "    </tr>\n",
       "  </tbody>\n",
       "</table>\n",
       "</div>"
      ],
      "text/plain": [
       "          visit_id   day_obs seq_num                       time_target  \\\n",
       "392  2025070100525  20250701     525  2025-07-02 05:16:43.039780+00:00   \n",
       "\n",
       "                     time_observation                   obs_start  \\\n",
       "392  2025-07-02 05:17:59.544450+00:00  2025-07-02T05:18:05.440000   \n",
       "\n",
       "    scriptSalIndex target_name        s_ra     s_dec sky_rotation band  \\\n",
       "392         110573     lowdust  323.281398 -4.459625    99.251655    r   \n",
       "\n",
       "    psf_sigma_median zero_point_1s zero_point_1s_pred    clouds  \\\n",
       "392         2.376155     26.609289          28.428375 -1.819087   \n",
       "\n",
       "    science_program target_name  \n",
       "392       BLOCK-365     lowdust  "
      ]
     },
     "metadata": {},
     "output_type": "display_data"
    },
    {
     "name": "stdout",
     "output_type": "stream",
     "text": [
      "IMG_TYPE science. Flags: big zeropoint offset.\n"
     ]
    },
    {
     "data": {
      "text/html": [
       "<a href=\"https://usdf-rsp.slac.stanford.edu/rubintv/summit-usdf/lsstcam/event?key=lsstcam/2025-07-01/calexp_mosaic/000525/lsstcam_calexp_mosaic_2025-07-01_000525.jpg\" target=\"_blank\" rel=\"noreferrer noopener\">https://usdf-rsp.slac.stanford.edu/rubintv/summit-usdf/lsstcam/event?key=lsstcam/2025-07-01/calexp_mosaic/000525/lsstcam_calexp_mosaic_2025-07-01_000525.jpg</a>"
      ],
      "text/plain": [
       "<IPython.core.display.HTML object>"
      ]
     },
     "metadata": {},
     "output_type": "display_data"
    },
    {
     "data": {
      "text/html": [
       "<a href=\"https://usdf-rsp.slac.stanford.edu/rubintv/summit-usdf/lsstcam/event?key=lsstcam/2025-07-01/witness_detector/000525/lsstcam_witness_detector_2025-07-01_000525.jpg\" target=\"_blank\" rel=\"noreferrer noopener\">https://usdf-rsp.slac.stanford.edu/rubintv/summit-usdf/lsstcam/event?key=lsstcam/2025-07-01/witness_detector/000525/lsstcam_witness_detector_2025-07-01_000525.jpg</a>"
      ],
      "text/plain": [
       "<IPython.core.display.HTML object>"
      ]
     },
     "metadata": {},
     "output_type": "display_data"
    },
    {
     "data": {
      "text/html": [
       "<br>"
      ],
      "text/plain": [
       "<IPython.core.display.HTML object>"
      ]
     },
     "metadata": {},
     "output_type": "display_data"
    },
    {
     "data": {
      "text/html": [
       "<div>\n",
       "<style scoped>\n",
       "    .dataframe tbody tr th:only-of-type {\n",
       "        vertical-align: middle;\n",
       "    }\n",
       "\n",
       "    .dataframe tbody tr th {\n",
       "        vertical-align: top;\n",
       "    }\n",
       "\n",
       "    .dataframe thead th {\n",
       "        text-align: right;\n",
       "    }\n",
       "</style>\n",
       "<table border=\"1\" class=\"dataframe\">\n",
       "  <thead>\n",
       "    <tr style=\"text-align: right;\">\n",
       "      <th></th>\n",
       "      <th>visit_id</th>\n",
       "      <th>day_obs</th>\n",
       "      <th>seq_num</th>\n",
       "      <th>time_target</th>\n",
       "      <th>time_observation</th>\n",
       "      <th>obs_start</th>\n",
       "      <th>scriptSalIndex</th>\n",
       "      <th>target_name</th>\n",
       "      <th>s_ra</th>\n",
       "      <th>s_dec</th>\n",
       "      <th>sky_rotation</th>\n",
       "      <th>band</th>\n",
       "      <th>psf_sigma_median</th>\n",
       "      <th>zero_point_1s</th>\n",
       "      <th>zero_point_1s_pred</th>\n",
       "      <th>clouds</th>\n",
       "      <th>science_program</th>\n",
       "      <th>target_name</th>\n",
       "    </tr>\n",
       "  </thead>\n",
       "  <tbody>\n",
       "    <tr>\n",
       "      <th>393</th>\n",
       "      <td>2025070100526</td>\n",
       "      <td>20250701</td>\n",
       "      <td>526</td>\n",
       "      <td>2025-07-02 05:17:21.444074+00:00</td>\n",
       "      <td>2025-07-02 05:18:37.688607+00:00</td>\n",
       "      <td>2025-07-02T05:18:43.618000</td>\n",
       "      <td>110574</td>\n",
       "      <td>lowdust</td>\n",
       "      <td>321.917464</td>\n",
       "      <td>-7.214858</td>\n",
       "      <td>100.767434</td>\n",
       "      <td>r</td>\n",
       "      <td>2.34063</td>\n",
       "      <td>26.760947</td>\n",
       "      <td>28.435304</td>\n",
       "      <td>-1.674357</td>\n",
       "      <td>BLOCK-365</td>\n",
       "      <td>lowdust</td>\n",
       "    </tr>\n",
       "  </tbody>\n",
       "</table>\n",
       "</div>"
      ],
      "text/plain": [
       "          visit_id   day_obs seq_num                       time_target  \\\n",
       "393  2025070100526  20250701     526  2025-07-02 05:17:21.444074+00:00   \n",
       "\n",
       "                     time_observation                   obs_start  \\\n",
       "393  2025-07-02 05:18:37.688607+00:00  2025-07-02T05:18:43.618000   \n",
       "\n",
       "    scriptSalIndex target_name        s_ra     s_dec sky_rotation band  \\\n",
       "393         110574     lowdust  321.917464 -7.214858   100.767434    r   \n",
       "\n",
       "    psf_sigma_median zero_point_1s zero_point_1s_pred    clouds  \\\n",
       "393          2.34063     26.760947          28.435304 -1.674357   \n",
       "\n",
       "    science_program target_name  \n",
       "393       BLOCK-365     lowdust  "
      ]
     },
     "metadata": {},
     "output_type": "display_data"
    },
    {
     "name": "stdout",
     "output_type": "stream",
     "text": [
      "IMG_TYPE science. Flags: big zeropoint offset.\n"
     ]
    },
    {
     "data": {
      "text/html": [
       "<a href=\"https://usdf-rsp.slac.stanford.edu/rubintv/summit-usdf/lsstcam/event?key=lsstcam/2025-07-01/calexp_mosaic/000526/lsstcam_calexp_mosaic_2025-07-01_000526.jpg\" target=\"_blank\" rel=\"noreferrer noopener\">https://usdf-rsp.slac.stanford.edu/rubintv/summit-usdf/lsstcam/event?key=lsstcam/2025-07-01/calexp_mosaic/000526/lsstcam_calexp_mosaic_2025-07-01_000526.jpg</a>"
      ],
      "text/plain": [
       "<IPython.core.display.HTML object>"
      ]
     },
     "metadata": {},
     "output_type": "display_data"
    },
    {
     "data": {
      "text/html": [
       "<a href=\"https://usdf-rsp.slac.stanford.edu/rubintv/summit-usdf/lsstcam/event?key=lsstcam/2025-07-01/witness_detector/000526/lsstcam_witness_detector_2025-07-01_000526.jpg\" target=\"_blank\" rel=\"noreferrer noopener\">https://usdf-rsp.slac.stanford.edu/rubintv/summit-usdf/lsstcam/event?key=lsstcam/2025-07-01/witness_detector/000526/lsstcam_witness_detector_2025-07-01_000526.jpg</a>"
      ],
      "text/plain": [
       "<IPython.core.display.HTML object>"
      ]
     },
     "metadata": {},
     "output_type": "display_data"
    },
    {
     "data": {
      "text/html": [
       "<br>"
      ],
      "text/plain": [
       "<IPython.core.display.HTML object>"
      ]
     },
     "metadata": {},
     "output_type": "display_data"
    },
    {
     "data": {
      "text/html": [
       "<div>\n",
       "<style scoped>\n",
       "    .dataframe tbody tr th:only-of-type {\n",
       "        vertical-align: middle;\n",
       "    }\n",
       "\n",
       "    .dataframe tbody tr th {\n",
       "        vertical-align: top;\n",
       "    }\n",
       "\n",
       "    .dataframe thead th {\n",
       "        text-align: right;\n",
       "    }\n",
       "</style>\n",
       "<table border=\"1\" class=\"dataframe\">\n",
       "  <thead>\n",
       "    <tr style=\"text-align: right;\">\n",
       "      <th></th>\n",
       "      <th>visit_id</th>\n",
       "      <th>day_obs</th>\n",
       "      <th>seq_num</th>\n",
       "      <th>time_target</th>\n",
       "      <th>time_observation</th>\n",
       "      <th>obs_start</th>\n",
       "      <th>scriptSalIndex</th>\n",
       "      <th>target_name</th>\n",
       "      <th>s_ra</th>\n",
       "      <th>s_dec</th>\n",
       "      <th>sky_rotation</th>\n",
       "      <th>band</th>\n",
       "      <th>psf_sigma_median</th>\n",
       "      <th>zero_point_1s</th>\n",
       "      <th>zero_point_1s_pred</th>\n",
       "      <th>clouds</th>\n",
       "      <th>science_program</th>\n",
       "      <th>target_name</th>\n",
       "    </tr>\n",
       "  </thead>\n",
       "  <tbody>\n",
       "    <tr>\n",
       "      <th>406</th>\n",
       "      <td>2025070100539</td>\n",
       "      <td>20250701</td>\n",
       "      <td>539</td>\n",
       "      <td>2025-07-02 05:28:22.101875+00:00</td>\n",
       "      <td>2025-07-02 05:29:39.552369+00:00</td>\n",
       "      <td>2025-07-02T05:29:45.215000</td>\n",
       "      <td>110587</td>\n",
       "      <td>lowdust</td>\n",
       "      <td>327.681988</td>\n",
       "      <td>-12.788853</td>\n",
       "      <td>107.453165</td>\n",
       "      <td>i</td>\n",
       "      <td>2.087746</td>\n",
       "      <td>26.502641</td>\n",
       "      <td>28.243016</td>\n",
       "      <td>-1.740375</td>\n",
       "      <td>BLOCK-365</td>\n",
       "      <td>lowdust</td>\n",
       "    </tr>\n",
       "  </tbody>\n",
       "</table>\n",
       "</div>"
      ],
      "text/plain": [
       "          visit_id   day_obs seq_num                       time_target  \\\n",
       "406  2025070100539  20250701     539  2025-07-02 05:28:22.101875+00:00   \n",
       "\n",
       "                     time_observation                   obs_start  \\\n",
       "406  2025-07-02 05:29:39.552369+00:00  2025-07-02T05:29:45.215000   \n",
       "\n",
       "    scriptSalIndex target_name        s_ra      s_dec sky_rotation band  \\\n",
       "406         110587     lowdust  327.681988 -12.788853   107.453165    i   \n",
       "\n",
       "    psf_sigma_median zero_point_1s zero_point_1s_pred    clouds  \\\n",
       "406         2.087746     26.502641          28.243016 -1.740375   \n",
       "\n",
       "    science_program target_name  \n",
       "406       BLOCK-365     lowdust  "
      ]
     },
     "metadata": {},
     "output_type": "display_data"
    },
    {
     "name": "stdout",
     "output_type": "stream",
     "text": [
      "IMG_TYPE science. Flags: big zeropoint offset.\n"
     ]
    },
    {
     "data": {
      "text/html": [
       "<a href=\"https://usdf-rsp.slac.stanford.edu/rubintv/summit-usdf/lsstcam/event?key=lsstcam/2025-07-01/calexp_mosaic/000539/lsstcam_calexp_mosaic_2025-07-01_000539.jpg\" target=\"_blank\" rel=\"noreferrer noopener\">https://usdf-rsp.slac.stanford.edu/rubintv/summit-usdf/lsstcam/event?key=lsstcam/2025-07-01/calexp_mosaic/000539/lsstcam_calexp_mosaic_2025-07-01_000539.jpg</a>"
      ],
      "text/plain": [
       "<IPython.core.display.HTML object>"
      ]
     },
     "metadata": {},
     "output_type": "display_data"
    },
    {
     "data": {
      "text/html": [
       "<a href=\"https://usdf-rsp.slac.stanford.edu/rubintv/summit-usdf/lsstcam/event?key=lsstcam/2025-07-01/witness_detector/000539/lsstcam_witness_detector_2025-07-01_000539.jpg\" target=\"_blank\" rel=\"noreferrer noopener\">https://usdf-rsp.slac.stanford.edu/rubintv/summit-usdf/lsstcam/event?key=lsstcam/2025-07-01/witness_detector/000539/lsstcam_witness_detector_2025-07-01_000539.jpg</a>"
      ],
      "text/plain": [
       "<IPython.core.display.HTML object>"
      ]
     },
     "metadata": {},
     "output_type": "display_data"
    },
    {
     "data": {
      "text/html": [
       "<br>"
      ],
      "text/plain": [
       "<IPython.core.display.HTML object>"
      ]
     },
     "metadata": {},
     "output_type": "display_data"
    },
    {
     "data": {
      "text/html": [
       "<div>\n",
       "<style scoped>\n",
       "    .dataframe tbody tr th:only-of-type {\n",
       "        vertical-align: middle;\n",
       "    }\n",
       "\n",
       "    .dataframe tbody tr th {\n",
       "        vertical-align: top;\n",
       "    }\n",
       "\n",
       "    .dataframe thead th {\n",
       "        text-align: right;\n",
       "    }\n",
       "</style>\n",
       "<table border=\"1\" class=\"dataframe\">\n",
       "  <thead>\n",
       "    <tr style=\"text-align: right;\">\n",
       "      <th></th>\n",
       "      <th>visit_id</th>\n",
       "      <th>day_obs</th>\n",
       "      <th>seq_num</th>\n",
       "      <th>time_target</th>\n",
       "      <th>time_observation</th>\n",
       "      <th>obs_start</th>\n",
       "      <th>scriptSalIndex</th>\n",
       "      <th>target_name</th>\n",
       "      <th>s_ra</th>\n",
       "      <th>s_dec</th>\n",
       "      <th>sky_rotation</th>\n",
       "      <th>band</th>\n",
       "      <th>psf_sigma_median</th>\n",
       "      <th>zero_point_1s</th>\n",
       "      <th>zero_point_1s_pred</th>\n",
       "      <th>clouds</th>\n",
       "      <th>science_program</th>\n",
       "      <th>target_name</th>\n",
       "    </tr>\n",
       "  </thead>\n",
       "  <tbody>\n",
       "    <tr>\n",
       "      <th>407</th>\n",
       "      <td>2025070100540</td>\n",
       "      <td>20250701</td>\n",
       "      <td>540</td>\n",
       "      <td>2025-07-02 05:29:03.461959+00:00</td>\n",
       "      <td>2025-07-02 05:30:22.959293+00:00</td>\n",
       "      <td>2025-07-02T05:30:28.885000</td>\n",
       "      <td>110588</td>\n",
       "      <td>lowdust</td>\n",
       "      <td>326.215491</td>\n",
       "      <td>-10.015551</td>\n",
       "      <td>103.867018</td>\n",
       "      <td>i</td>\n",
       "      <td>1.977483</td>\n",
       "      <td>26.403764</td>\n",
       "      <td>28.242647</td>\n",
       "      <td>-1.838883</td>\n",
       "      <td>BLOCK-365</td>\n",
       "      <td>lowdust</td>\n",
       "    </tr>\n",
       "  </tbody>\n",
       "</table>\n",
       "</div>"
      ],
      "text/plain": [
       "          visit_id   day_obs seq_num                       time_target  \\\n",
       "407  2025070100540  20250701     540  2025-07-02 05:29:03.461959+00:00   \n",
       "\n",
       "                     time_observation                   obs_start  \\\n",
       "407  2025-07-02 05:30:22.959293+00:00  2025-07-02T05:30:28.885000   \n",
       "\n",
       "    scriptSalIndex target_name        s_ra      s_dec sky_rotation band  \\\n",
       "407         110588     lowdust  326.215491 -10.015551   103.867018    i   \n",
       "\n",
       "    psf_sigma_median zero_point_1s zero_point_1s_pred    clouds  \\\n",
       "407         1.977483     26.403764          28.242647 -1.838883   \n",
       "\n",
       "    science_program target_name  \n",
       "407       BLOCK-365     lowdust  "
      ]
     },
     "metadata": {},
     "output_type": "display_data"
    },
    {
     "name": "stdout",
     "output_type": "stream",
     "text": [
      "IMG_TYPE science. Flags: big zeropoint offset.\n"
     ]
    },
    {
     "data": {
      "text/html": [
       "<a href=\"https://usdf-rsp.slac.stanford.edu/rubintv/summit-usdf/lsstcam/event?key=lsstcam/2025-07-01/calexp_mosaic/000540/lsstcam_calexp_mosaic_2025-07-01_000540.jpg\" target=\"_blank\" rel=\"noreferrer noopener\">https://usdf-rsp.slac.stanford.edu/rubintv/summit-usdf/lsstcam/event?key=lsstcam/2025-07-01/calexp_mosaic/000540/lsstcam_calexp_mosaic_2025-07-01_000540.jpg</a>"
      ],
      "text/plain": [
       "<IPython.core.display.HTML object>"
      ]
     },
     "metadata": {},
     "output_type": "display_data"
    },
    {
     "data": {
      "text/html": [
       "<a href=\"https://usdf-rsp.slac.stanford.edu/rubintv/summit-usdf/lsstcam/event?key=lsstcam/2025-07-01/witness_detector/000540/lsstcam_witness_detector_2025-07-01_000540.jpg\" target=\"_blank\" rel=\"noreferrer noopener\">https://usdf-rsp.slac.stanford.edu/rubintv/summit-usdf/lsstcam/event?key=lsstcam/2025-07-01/witness_detector/000540/lsstcam_witness_detector_2025-07-01_000540.jpg</a>"
      ],
      "text/plain": [
       "<IPython.core.display.HTML object>"
      ]
     },
     "metadata": {},
     "output_type": "display_data"
    },
    {
     "data": {
      "text/html": [
       "<br>"
      ],
      "text/plain": [
       "<IPython.core.display.HTML object>"
      ]
     },
     "metadata": {},
     "output_type": "display_data"
    },
    {
     "data": {
      "text/html": [
       "<div>\n",
       "<style scoped>\n",
       "    .dataframe tbody tr th:only-of-type {\n",
       "        vertical-align: middle;\n",
       "    }\n",
       "\n",
       "    .dataframe tbody tr th {\n",
       "        vertical-align: top;\n",
       "    }\n",
       "\n",
       "    .dataframe thead th {\n",
       "        text-align: right;\n",
       "    }\n",
       "</style>\n",
       "<table border=\"1\" class=\"dataframe\">\n",
       "  <thead>\n",
       "    <tr style=\"text-align: right;\">\n",
       "      <th></th>\n",
       "      <th>visit_id</th>\n",
       "      <th>day_obs</th>\n",
       "      <th>seq_num</th>\n",
       "      <th>time_target</th>\n",
       "      <th>time_observation</th>\n",
       "      <th>obs_start</th>\n",
       "      <th>scriptSalIndex</th>\n",
       "      <th>target_name</th>\n",
       "      <th>s_ra</th>\n",
       "      <th>s_dec</th>\n",
       "      <th>sky_rotation</th>\n",
       "      <th>band</th>\n",
       "      <th>psf_sigma_median</th>\n",
       "      <th>zero_point_1s</th>\n",
       "      <th>zero_point_1s_pred</th>\n",
       "      <th>clouds</th>\n",
       "      <th>science_program</th>\n",
       "      <th>target_name</th>\n",
       "    </tr>\n",
       "  </thead>\n",
       "  <tbody>\n",
       "    <tr>\n",
       "      <th>408</th>\n",
       "      <td>2025070100541</td>\n",
       "      <td>20250701</td>\n",
       "      <td>541</td>\n",
       "      <td>2025-07-02 05:29:40.872477+00:00</td>\n",
       "      <td>2025-07-02 05:31:01.327980+00:00</td>\n",
       "      <td>2025-07-02T05:31:07.112000</td>\n",
       "      <td>110589</td>\n",
       "      <td>lowdust</td>\n",
       "      <td>327.60291</td>\n",
       "      <td>-7.22262</td>\n",
       "      <td>102.028882</td>\n",
       "      <td>i</td>\n",
       "      <td>2.027552</td>\n",
       "      <td>26.425323</td>\n",
       "      <td>28.239018</td>\n",
       "      <td>-1.813695</td>\n",
       "      <td>BLOCK-365</td>\n",
       "      <td>lowdust</td>\n",
       "    </tr>\n",
       "  </tbody>\n",
       "</table>\n",
       "</div>"
      ],
      "text/plain": [
       "          visit_id   day_obs seq_num                       time_target  \\\n",
       "408  2025070100541  20250701     541  2025-07-02 05:29:40.872477+00:00   \n",
       "\n",
       "                     time_observation                   obs_start  \\\n",
       "408  2025-07-02 05:31:01.327980+00:00  2025-07-02T05:31:07.112000   \n",
       "\n",
       "    scriptSalIndex target_name       s_ra    s_dec sky_rotation band  \\\n",
       "408         110589     lowdust  327.60291 -7.22262   102.028882    i   \n",
       "\n",
       "    psf_sigma_median zero_point_1s zero_point_1s_pred    clouds  \\\n",
       "408         2.027552     26.425323          28.239018 -1.813695   \n",
       "\n",
       "    science_program target_name  \n",
       "408       BLOCK-365     lowdust  "
      ]
     },
     "metadata": {},
     "output_type": "display_data"
    },
    {
     "name": "stdout",
     "output_type": "stream",
     "text": [
      "IMG_TYPE science. Flags: big zeropoint offset.\n"
     ]
    },
    {
     "data": {
      "text/html": [
       "<a href=\"https://usdf-rsp.slac.stanford.edu/rubintv/summit-usdf/lsstcam/event?key=lsstcam/2025-07-01/calexp_mosaic/000541/lsstcam_calexp_mosaic_2025-07-01_000541.jpg\" target=\"_blank\" rel=\"noreferrer noopener\">https://usdf-rsp.slac.stanford.edu/rubintv/summit-usdf/lsstcam/event?key=lsstcam/2025-07-01/calexp_mosaic/000541/lsstcam_calexp_mosaic_2025-07-01_000541.jpg</a>"
      ],
      "text/plain": [
       "<IPython.core.display.HTML object>"
      ]
     },
     "metadata": {},
     "output_type": "display_data"
    },
    {
     "data": {
      "text/html": [
       "<a href=\"https://usdf-rsp.slac.stanford.edu/rubintv/summit-usdf/lsstcam/event?key=lsstcam/2025-07-01/witness_detector/000541/lsstcam_witness_detector_2025-07-01_000541.jpg\" target=\"_blank\" rel=\"noreferrer noopener\">https://usdf-rsp.slac.stanford.edu/rubintv/summit-usdf/lsstcam/event?key=lsstcam/2025-07-01/witness_detector/000541/lsstcam_witness_detector_2025-07-01_000541.jpg</a>"
      ],
      "text/plain": [
       "<IPython.core.display.HTML object>"
      ]
     },
     "metadata": {},
     "output_type": "display_data"
    },
    {
     "data": {
      "text/html": [
       "<br>"
      ],
      "text/plain": [
       "<IPython.core.display.HTML object>"
      ]
     },
     "metadata": {},
     "output_type": "display_data"
    },
    {
     "data": {
      "text/html": [
       "<div>\n",
       "<style scoped>\n",
       "    .dataframe tbody tr th:only-of-type {\n",
       "        vertical-align: middle;\n",
       "    }\n",
       "\n",
       "    .dataframe tbody tr th {\n",
       "        vertical-align: top;\n",
       "    }\n",
       "\n",
       "    .dataframe thead th {\n",
       "        text-align: right;\n",
       "    }\n",
       "</style>\n",
       "<table border=\"1\" class=\"dataframe\">\n",
       "  <thead>\n",
       "    <tr style=\"text-align: right;\">\n",
       "      <th></th>\n",
       "      <th>visit_id</th>\n",
       "      <th>day_obs</th>\n",
       "      <th>seq_num</th>\n",
       "      <th>time_target</th>\n",
       "      <th>time_observation</th>\n",
       "      <th>obs_start</th>\n",
       "      <th>scriptSalIndex</th>\n",
       "      <th>target_name</th>\n",
       "      <th>s_ra</th>\n",
       "      <th>s_dec</th>\n",
       "      <th>sky_rotation</th>\n",
       "      <th>band</th>\n",
       "      <th>psf_sigma_median</th>\n",
       "      <th>zero_point_1s</th>\n",
       "      <th>zero_point_1s_pred</th>\n",
       "      <th>clouds</th>\n",
       "      <th>science_program</th>\n",
       "      <th>target_name</th>\n",
       "    </tr>\n",
       "  </thead>\n",
       "  <tbody>\n",
       "    <tr>\n",
       "      <th>409</th>\n",
       "      <td>2025070100542</td>\n",
       "      <td>20250701</td>\n",
       "      <td>542</td>\n",
       "      <td>2025-07-02 05:30:24.242469+00:00</td>\n",
       "      <td>2025-07-02 05:31:40.498953+00:00</td>\n",
       "      <td>2025-07-02T05:31:45.590000</td>\n",
       "      <td>110590</td>\n",
       "      <td>lowdust</td>\n",
       "      <td>328.976686</td>\n",
       "      <td>-4.434338</td>\n",
       "      <td>100.501357</td>\n",
       "      <td>i</td>\n",
       "      <td>2.12924</td>\n",
       "      <td>25.960523</td>\n",
       "      <td>28.234809</td>\n",
       "      <td>-2.274286</td>\n",
       "      <td>BLOCK-365</td>\n",
       "      <td>lowdust</td>\n",
       "    </tr>\n",
       "  </tbody>\n",
       "</table>\n",
       "</div>"
      ],
      "text/plain": [
       "          visit_id   day_obs seq_num                       time_target  \\\n",
       "409  2025070100542  20250701     542  2025-07-02 05:30:24.242469+00:00   \n",
       "\n",
       "                     time_observation                   obs_start  \\\n",
       "409  2025-07-02 05:31:40.498953+00:00  2025-07-02T05:31:45.590000   \n",
       "\n",
       "    scriptSalIndex target_name        s_ra     s_dec sky_rotation band  \\\n",
       "409         110590     lowdust  328.976686 -4.434338   100.501357    i   \n",
       "\n",
       "    psf_sigma_median zero_point_1s zero_point_1s_pred    clouds  \\\n",
       "409          2.12924     25.960523          28.234809 -2.274286   \n",
       "\n",
       "    science_program target_name  \n",
       "409       BLOCK-365     lowdust  "
      ]
     },
     "metadata": {},
     "output_type": "display_data"
    },
    {
     "name": "stdout",
     "output_type": "stream",
     "text": [
      "IMG_TYPE science. Flags: big zeropoint offset.\n"
     ]
    },
    {
     "data": {
      "text/html": [
       "<a href=\"https://usdf-rsp.slac.stanford.edu/rubintv/summit-usdf/lsstcam/event?key=lsstcam/2025-07-01/calexp_mosaic/000542/lsstcam_calexp_mosaic_2025-07-01_000542.jpg\" target=\"_blank\" rel=\"noreferrer noopener\">https://usdf-rsp.slac.stanford.edu/rubintv/summit-usdf/lsstcam/event?key=lsstcam/2025-07-01/calexp_mosaic/000542/lsstcam_calexp_mosaic_2025-07-01_000542.jpg</a>"
      ],
      "text/plain": [
       "<IPython.core.display.HTML object>"
      ]
     },
     "metadata": {},
     "output_type": "display_data"
    },
    {
     "data": {
      "text/html": [
       "<a href=\"https://usdf-rsp.slac.stanford.edu/rubintv/summit-usdf/lsstcam/event?key=lsstcam/2025-07-01/witness_detector/000542/lsstcam_witness_detector_2025-07-01_000542.jpg\" target=\"_blank\" rel=\"noreferrer noopener\">https://usdf-rsp.slac.stanford.edu/rubintv/summit-usdf/lsstcam/event?key=lsstcam/2025-07-01/witness_detector/000542/lsstcam_witness_detector_2025-07-01_000542.jpg</a>"
      ],
      "text/plain": [
       "<IPython.core.display.HTML object>"
      ]
     },
     "metadata": {},
     "output_type": "display_data"
    },
    {
     "data": {
      "text/html": [
       "<br>"
      ],
      "text/plain": [
       "<IPython.core.display.HTML object>"
      ]
     },
     "metadata": {},
     "output_type": "display_data"
    },
    {
     "data": {
      "text/html": [
       "<div>\n",
       "<style scoped>\n",
       "    .dataframe tbody tr th:only-of-type {\n",
       "        vertical-align: middle;\n",
       "    }\n",
       "\n",
       "    .dataframe tbody tr th {\n",
       "        vertical-align: top;\n",
       "    }\n",
       "\n",
       "    .dataframe thead th {\n",
       "        text-align: right;\n",
       "    }\n",
       "</style>\n",
       "<table border=\"1\" class=\"dataframe\">\n",
       "  <thead>\n",
       "    <tr style=\"text-align: right;\">\n",
       "      <th></th>\n",
       "      <th>visit_id</th>\n",
       "      <th>day_obs</th>\n",
       "      <th>seq_num</th>\n",
       "      <th>time_target</th>\n",
       "      <th>time_observation</th>\n",
       "      <th>obs_start</th>\n",
       "      <th>scriptSalIndex</th>\n",
       "      <th>target_name</th>\n",
       "      <th>s_ra</th>\n",
       "      <th>s_dec</th>\n",
       "      <th>sky_rotation</th>\n",
       "      <th>band</th>\n",
       "      <th>psf_sigma_median</th>\n",
       "      <th>zero_point_1s</th>\n",
       "      <th>zero_point_1s_pred</th>\n",
       "      <th>clouds</th>\n",
       "      <th>science_program</th>\n",
       "      <th>target_name</th>\n",
       "    </tr>\n",
       "  </thead>\n",
       "  <tbody>\n",
       "    <tr>\n",
       "      <th>410</th>\n",
       "      <td>2025070100543</td>\n",
       "      <td>20250701</td>\n",
       "      <td>543</td>\n",
       "      <td>2025-07-02 05:31:02.611500+00:00</td>\n",
       "      <td>2025-07-02 05:32:17.917141+00:00</td>\n",
       "      <td>2025-07-02T05:32:23.672000</td>\n",
       "      <td>110591</td>\n",
       "      <td>lowdust</td>\n",
       "      <td>326.127952</td>\n",
       "      <td>-4.465638</td>\n",
       "      <td>98.780703</td>\n",
       "      <td>i</td>\n",
       "      <td>2.136259</td>\n",
       "      <td>25.22553</td>\n",
       "      <td>28.238333</td>\n",
       "      <td>-3.012804</td>\n",
       "      <td>BLOCK-365</td>\n",
       "      <td>lowdust</td>\n",
       "    </tr>\n",
       "  </tbody>\n",
       "</table>\n",
       "</div>"
      ],
      "text/plain": [
       "          visit_id   day_obs seq_num                       time_target  \\\n",
       "410  2025070100543  20250701     543  2025-07-02 05:31:02.611500+00:00   \n",
       "\n",
       "                     time_observation                   obs_start  \\\n",
       "410  2025-07-02 05:32:17.917141+00:00  2025-07-02T05:32:23.672000   \n",
       "\n",
       "    scriptSalIndex target_name        s_ra     s_dec sky_rotation band  \\\n",
       "410         110591     lowdust  326.127952 -4.465638    98.780703    i   \n",
       "\n",
       "    psf_sigma_median zero_point_1s zero_point_1s_pred    clouds  \\\n",
       "410         2.136259      25.22553          28.238333 -3.012804   \n",
       "\n",
       "    science_program target_name  \n",
       "410       BLOCK-365     lowdust  "
      ]
     },
     "metadata": {},
     "output_type": "display_data"
    },
    {
     "name": "stdout",
     "output_type": "stream",
     "text": [
      "IMG_TYPE science. Flags: big zeropoint offset.\n"
     ]
    },
    {
     "data": {
      "text/html": [
       "<a href=\"https://usdf-rsp.slac.stanford.edu/rubintv/summit-usdf/lsstcam/event?key=lsstcam/2025-07-01/calexp_mosaic/000543/lsstcam_calexp_mosaic_2025-07-01_000543.jpg\" target=\"_blank\" rel=\"noreferrer noopener\">https://usdf-rsp.slac.stanford.edu/rubintv/summit-usdf/lsstcam/event?key=lsstcam/2025-07-01/calexp_mosaic/000543/lsstcam_calexp_mosaic_2025-07-01_000543.jpg</a>"
      ],
      "text/plain": [
       "<IPython.core.display.HTML object>"
      ]
     },
     "metadata": {},
     "output_type": "display_data"
    },
    {
     "data": {
      "text/html": [
       "<a href=\"https://usdf-rsp.slac.stanford.edu/rubintv/summit-usdf/lsstcam/event?key=lsstcam/2025-07-01/witness_detector/000543/lsstcam_witness_detector_2025-07-01_000543.jpg\" target=\"_blank\" rel=\"noreferrer noopener\">https://usdf-rsp.slac.stanford.edu/rubintv/summit-usdf/lsstcam/event?key=lsstcam/2025-07-01/witness_detector/000543/lsstcam_witness_detector_2025-07-01_000543.jpg</a>"
      ],
      "text/plain": [
       "<IPython.core.display.HTML object>"
      ]
     },
     "metadata": {},
     "output_type": "display_data"
    },
    {
     "data": {
      "text/html": [
       "<br>"
      ],
      "text/plain": [
       "<IPython.core.display.HTML object>"
      ]
     },
     "metadata": {},
     "output_type": "display_data"
    },
    {
     "data": {
      "text/html": [
       "<div>\n",
       "<style scoped>\n",
       "    .dataframe tbody tr th:only-of-type {\n",
       "        vertical-align: middle;\n",
       "    }\n",
       "\n",
       "    .dataframe tbody tr th {\n",
       "        vertical-align: top;\n",
       "    }\n",
       "\n",
       "    .dataframe thead th {\n",
       "        text-align: right;\n",
       "    }\n",
       "</style>\n",
       "<table border=\"1\" class=\"dataframe\">\n",
       "  <thead>\n",
       "    <tr style=\"text-align: right;\">\n",
       "      <th></th>\n",
       "      <th>visit_id</th>\n",
       "      <th>day_obs</th>\n",
       "      <th>seq_num</th>\n",
       "      <th>time_target</th>\n",
       "      <th>time_observation</th>\n",
       "      <th>obs_start</th>\n",
       "      <th>scriptSalIndex</th>\n",
       "      <th>target_name</th>\n",
       "      <th>s_ra</th>\n",
       "      <th>s_dec</th>\n",
       "      <th>sky_rotation</th>\n",
       "      <th>band</th>\n",
       "      <th>psf_sigma_median</th>\n",
       "      <th>zero_point_1s</th>\n",
       "      <th>zero_point_1s_pred</th>\n",
       "      <th>clouds</th>\n",
       "      <th>science_program</th>\n",
       "      <th>target_name</th>\n",
       "    </tr>\n",
       "  </thead>\n",
       "  <tbody>\n",
       "    <tr>\n",
       "      <th>411</th>\n",
       "      <td>2025070100544</td>\n",
       "      <td>20250701</td>\n",
       "      <td>544</td>\n",
       "      <td>2025-07-02 05:31:41.836706+00:00</td>\n",
       "      <td>2025-07-02 05:33:04.095641+00:00</td>\n",
       "      <td>2025-07-02T05:33:09.702000</td>\n",
       "      <td>110592</td>\n",
       "      <td>lowdust</td>\n",
       "      <td>319.036015</td>\n",
       "      <td>-12.753801</td>\n",
       "      <td>100.588584</td>\n",
       "      <td>i</td>\n",
       "      <td>2.236711</td>\n",
       "      <td>26.352465</td>\n",
       "      <td>28.250762</td>\n",
       "      <td>-1.898297</td>\n",
       "      <td>BLOCK-365</td>\n",
       "      <td>lowdust</td>\n",
       "    </tr>\n",
       "  </tbody>\n",
       "</table>\n",
       "</div>"
      ],
      "text/plain": [
       "          visit_id   day_obs seq_num                       time_target  \\\n",
       "411  2025070100544  20250701     544  2025-07-02 05:31:41.836706+00:00   \n",
       "\n",
       "                     time_observation                   obs_start  \\\n",
       "411  2025-07-02 05:33:04.095641+00:00  2025-07-02T05:33:09.702000   \n",
       "\n",
       "    scriptSalIndex target_name        s_ra      s_dec sky_rotation band  \\\n",
       "411         110592     lowdust  319.036015 -12.753801   100.588584    i   \n",
       "\n",
       "    psf_sigma_median zero_point_1s zero_point_1s_pred    clouds  \\\n",
       "411         2.236711     26.352465          28.250762 -1.898297   \n",
       "\n",
       "    science_program target_name  \n",
       "411       BLOCK-365     lowdust  "
      ]
     },
     "metadata": {},
     "output_type": "display_data"
    },
    {
     "name": "stdout",
     "output_type": "stream",
     "text": [
      "IMG_TYPE science. Flags: big zeropoint offset.\n"
     ]
    },
    {
     "data": {
      "text/html": [
       "<a href=\"https://usdf-rsp.slac.stanford.edu/rubintv/summit-usdf/lsstcam/event?key=lsstcam/2025-07-01/calexp_mosaic/000544/lsstcam_calexp_mosaic_2025-07-01_000544.jpg\" target=\"_blank\" rel=\"noreferrer noopener\">https://usdf-rsp.slac.stanford.edu/rubintv/summit-usdf/lsstcam/event?key=lsstcam/2025-07-01/calexp_mosaic/000544/lsstcam_calexp_mosaic_2025-07-01_000544.jpg</a>"
      ],
      "text/plain": [
       "<IPython.core.display.HTML object>"
      ]
     },
     "metadata": {},
     "output_type": "display_data"
    },
    {
     "data": {
      "text/html": [
       "<a href=\"https://usdf-rsp.slac.stanford.edu/rubintv/summit-usdf/lsstcam/event?key=lsstcam/2025-07-01/witness_detector/000544/lsstcam_witness_detector_2025-07-01_000544.jpg\" target=\"_blank\" rel=\"noreferrer noopener\">https://usdf-rsp.slac.stanford.edu/rubintv/summit-usdf/lsstcam/event?key=lsstcam/2025-07-01/witness_detector/000544/lsstcam_witness_detector_2025-07-01_000544.jpg</a>"
      ],
      "text/plain": [
       "<IPython.core.display.HTML object>"
      ]
     },
     "metadata": {},
     "output_type": "display_data"
    },
    {
     "data": {
      "text/html": [
       "<br>"
      ],
      "text/plain": [
       "<IPython.core.display.HTML object>"
      ]
     },
     "metadata": {},
     "output_type": "display_data"
    },
    {
     "data": {
      "text/html": [
       "<div>\n",
       "<style scoped>\n",
       "    .dataframe tbody tr th:only-of-type {\n",
       "        vertical-align: middle;\n",
       "    }\n",
       "\n",
       "    .dataframe tbody tr th {\n",
       "        vertical-align: top;\n",
       "    }\n",
       "\n",
       "    .dataframe thead th {\n",
       "        text-align: right;\n",
       "    }\n",
       "</style>\n",
       "<table border=\"1\" class=\"dataframe\">\n",
       "  <thead>\n",
       "    <tr style=\"text-align: right;\">\n",
       "      <th></th>\n",
       "      <th>visit_id</th>\n",
       "      <th>day_obs</th>\n",
       "      <th>seq_num</th>\n",
       "      <th>time_target</th>\n",
       "      <th>time_observation</th>\n",
       "      <th>obs_start</th>\n",
       "      <th>scriptSalIndex</th>\n",
       "      <th>target_name</th>\n",
       "      <th>s_ra</th>\n",
       "      <th>s_dec</th>\n",
       "      <th>sky_rotation</th>\n",
       "      <th>band</th>\n",
       "      <th>psf_sigma_median</th>\n",
       "      <th>zero_point_1s</th>\n",
       "      <th>zero_point_1s_pred</th>\n",
       "      <th>clouds</th>\n",
       "      <th>science_program</th>\n",
       "      <th>target_name</th>\n",
       "    </tr>\n",
       "  </thead>\n",
       "  <tbody>\n",
       "    <tr>\n",
       "      <th>416</th>\n",
       "      <td>2025070100549</td>\n",
       "      <td>20250701</td>\n",
       "      <td>549</td>\n",
       "      <td>2025-07-02 05:35:16.441013+00:00</td>\n",
       "      <td>2025-07-02 05:36:47.725461+00:00</td>\n",
       "      <td>2025-07-02T05:36:53.135000</td>\n",
       "      <td>110597</td>\n",
       "      <td>lowdust</td>\n",
       "      <td>297.702222</td>\n",
       "      <td>-9.154461</td>\n",
       "      <td>62.311405</td>\n",
       "      <td>i</td>\n",
       "      <td>2.328268</td>\n",
       "      <td>26.279516</td>\n",
       "      <td>28.256759</td>\n",
       "      <td>-1.977243</td>\n",
       "      <td>BLOCK-365</td>\n",
       "      <td>lowdust</td>\n",
       "    </tr>\n",
       "  </tbody>\n",
       "</table>\n",
       "</div>"
      ],
      "text/plain": [
       "          visit_id   day_obs seq_num                       time_target  \\\n",
       "416  2025070100549  20250701     549  2025-07-02 05:35:16.441013+00:00   \n",
       "\n",
       "                     time_observation                   obs_start  \\\n",
       "416  2025-07-02 05:36:47.725461+00:00  2025-07-02T05:36:53.135000   \n",
       "\n",
       "    scriptSalIndex target_name        s_ra     s_dec sky_rotation band  \\\n",
       "416         110597     lowdust  297.702222 -9.154461    62.311405    i   \n",
       "\n",
       "    psf_sigma_median zero_point_1s zero_point_1s_pred    clouds  \\\n",
       "416         2.328268     26.279516          28.256759 -1.977243   \n",
       "\n",
       "    science_program target_name  \n",
       "416       BLOCK-365     lowdust  "
      ]
     },
     "metadata": {},
     "output_type": "display_data"
    },
    {
     "name": "stdout",
     "output_type": "stream",
     "text": [
      "IMG_TYPE science. Flags: big zeropoint offset.\n"
     ]
    },
    {
     "data": {
      "text/html": [
       "<a href=\"https://usdf-rsp.slac.stanford.edu/rubintv/summit-usdf/lsstcam/event?key=lsstcam/2025-07-01/calexp_mosaic/000549/lsstcam_calexp_mosaic_2025-07-01_000549.jpg\" target=\"_blank\" rel=\"noreferrer noopener\">https://usdf-rsp.slac.stanford.edu/rubintv/summit-usdf/lsstcam/event?key=lsstcam/2025-07-01/calexp_mosaic/000549/lsstcam_calexp_mosaic_2025-07-01_000549.jpg</a>"
      ],
      "text/plain": [
       "<IPython.core.display.HTML object>"
      ]
     },
     "metadata": {},
     "output_type": "display_data"
    },
    {
     "data": {
      "text/html": [
       "<a href=\"https://usdf-rsp.slac.stanford.edu/rubintv/summit-usdf/lsstcam/event?key=lsstcam/2025-07-01/witness_detector/000549/lsstcam_witness_detector_2025-07-01_000549.jpg\" target=\"_blank\" rel=\"noreferrer noopener\">https://usdf-rsp.slac.stanford.edu/rubintv/summit-usdf/lsstcam/event?key=lsstcam/2025-07-01/witness_detector/000549/lsstcam_witness_detector_2025-07-01_000549.jpg</a>"
      ],
      "text/plain": [
       "<IPython.core.display.HTML object>"
      ]
     },
     "metadata": {},
     "output_type": "display_data"
    },
    {
     "data": {
      "text/html": [
       "<br>"
      ],
      "text/plain": [
       "<IPython.core.display.HTML object>"
      ]
     },
     "metadata": {},
     "output_type": "display_data"
    },
    {
     "data": {
      "text/html": [
       "<div>\n",
       "<style scoped>\n",
       "    .dataframe tbody tr th:only-of-type {\n",
       "        vertical-align: middle;\n",
       "    }\n",
       "\n",
       "    .dataframe tbody tr th {\n",
       "        vertical-align: top;\n",
       "    }\n",
       "\n",
       "    .dataframe thead th {\n",
       "        text-align: right;\n",
       "    }\n",
       "</style>\n",
       "<table border=\"1\" class=\"dataframe\">\n",
       "  <thead>\n",
       "    <tr style=\"text-align: right;\">\n",
       "      <th></th>\n",
       "      <th>visit_id</th>\n",
       "      <th>day_obs</th>\n",
       "      <th>seq_num</th>\n",
       "      <th>time_target</th>\n",
       "      <th>time_observation</th>\n",
       "      <th>obs_start</th>\n",
       "      <th>scriptSalIndex</th>\n",
       "      <th>target_name</th>\n",
       "      <th>s_ra</th>\n",
       "      <th>s_dec</th>\n",
       "      <th>sky_rotation</th>\n",
       "      <th>band</th>\n",
       "      <th>psf_sigma_median</th>\n",
       "      <th>zero_point_1s</th>\n",
       "      <th>zero_point_1s_pred</th>\n",
       "      <th>clouds</th>\n",
       "      <th>science_program</th>\n",
       "      <th>target_name</th>\n",
       "    </tr>\n",
       "  </thead>\n",
       "  <tbody>\n",
       "    <tr>\n",
       "      <th>417</th>\n",
       "      <td>2025070100550</td>\n",
       "      <td>20250701</td>\n",
       "      <td>550</td>\n",
       "      <td>2025-07-02 05:35:58.625647+00:00</td>\n",
       "      <td>2025-07-02 05:37:47.102675+00:00</td>\n",
       "      <td>2025-07-02T05:37:52.604000</td>\n",
       "      <td>110598</td>\n",
       "      <td>dusty_plane, bulgy</td>\n",
       "      <td>289.390646</td>\n",
       "      <td>-12.155943</td>\n",
       "      <td>41.395973</td>\n",
       "      <td>i</td>\n",
       "      <td>3.220482</td>\n",
       "      <td>26.526557</td>\n",
       "      <td>28.25823</td>\n",
       "      <td>-1.731673</td>\n",
       "      <td>BLOCK-365</td>\n",
       "      <td>dusty_plane, bulgy</td>\n",
       "    </tr>\n",
       "  </tbody>\n",
       "</table>\n",
       "</div>"
      ],
      "text/plain": [
       "          visit_id   day_obs seq_num                       time_target  \\\n",
       "417  2025070100550  20250701     550  2025-07-02 05:35:58.625647+00:00   \n",
       "\n",
       "                     time_observation                   obs_start  \\\n",
       "417  2025-07-02 05:37:47.102675+00:00  2025-07-02T05:37:52.604000   \n",
       "\n",
       "    scriptSalIndex         target_name        s_ra      s_dec sky_rotation  \\\n",
       "417         110598  dusty_plane, bulgy  289.390646 -12.155943    41.395973   \n",
       "\n",
       "    band psf_sigma_median zero_point_1s zero_point_1s_pred    clouds  \\\n",
       "417    i         3.220482     26.526557           28.25823 -1.731673   \n",
       "\n",
       "    science_program         target_name  \n",
       "417       BLOCK-365  dusty_plane, bulgy  "
      ]
     },
     "metadata": {},
     "output_type": "display_data"
    },
    {
     "name": "stdout",
     "output_type": "stream",
     "text": [
      "IMG_TYPE science. Flags: big zeropoint offset.\n"
     ]
    },
    {
     "data": {
      "text/html": [
       "<a href=\"https://usdf-rsp.slac.stanford.edu/rubintv/summit-usdf/lsstcam/event?key=lsstcam/2025-07-01/calexp_mosaic/000550/lsstcam_calexp_mosaic_2025-07-01_000550.jpg\" target=\"_blank\" rel=\"noreferrer noopener\">https://usdf-rsp.slac.stanford.edu/rubintv/summit-usdf/lsstcam/event?key=lsstcam/2025-07-01/calexp_mosaic/000550/lsstcam_calexp_mosaic_2025-07-01_000550.jpg</a>"
      ],
      "text/plain": [
       "<IPython.core.display.HTML object>"
      ]
     },
     "metadata": {},
     "output_type": "display_data"
    },
    {
     "data": {
      "text/html": [
       "<a href=\"https://usdf-rsp.slac.stanford.edu/rubintv/summit-usdf/lsstcam/event?key=lsstcam/2025-07-01/witness_detector/000550/lsstcam_witness_detector_2025-07-01_000550.jpg\" target=\"_blank\" rel=\"noreferrer noopener\">https://usdf-rsp.slac.stanford.edu/rubintv/summit-usdf/lsstcam/event?key=lsstcam/2025-07-01/witness_detector/000550/lsstcam_witness_detector_2025-07-01_000550.jpg</a>"
      ],
      "text/plain": [
       "<IPython.core.display.HTML object>"
      ]
     },
     "metadata": {},
     "output_type": "display_data"
    },
    {
     "data": {
      "text/html": [
       "<br>"
      ],
      "text/plain": [
       "<IPython.core.display.HTML object>"
      ]
     },
     "metadata": {},
     "output_type": "display_data"
    },
    {
     "data": {
      "text/html": [
       "<div>\n",
       "<style scoped>\n",
       "    .dataframe tbody tr th:only-of-type {\n",
       "        vertical-align: middle;\n",
       "    }\n",
       "\n",
       "    .dataframe tbody tr th {\n",
       "        vertical-align: top;\n",
       "    }\n",
       "\n",
       "    .dataframe thead th {\n",
       "        text-align: right;\n",
       "    }\n",
       "</style>\n",
       "<table border=\"1\" class=\"dataframe\">\n",
       "  <thead>\n",
       "    <tr style=\"text-align: right;\">\n",
       "      <th></th>\n",
       "      <th>visit_id</th>\n",
       "      <th>day_obs</th>\n",
       "      <th>seq_num</th>\n",
       "      <th>time_target</th>\n",
       "      <th>time_observation</th>\n",
       "      <th>obs_start</th>\n",
       "      <th>scriptSalIndex</th>\n",
       "      <th>target_name</th>\n",
       "      <th>s_ra</th>\n",
       "      <th>s_dec</th>\n",
       "      <th>sky_rotation</th>\n",
       "      <th>band</th>\n",
       "      <th>psf_sigma_median</th>\n",
       "      <th>zero_point_1s</th>\n",
       "      <th>zero_point_1s_pred</th>\n",
       "      <th>clouds</th>\n",
       "      <th>science_program</th>\n",
       "      <th>target_name</th>\n",
       "    </tr>\n",
       "  </thead>\n",
       "  <tbody>\n",
       "    <tr>\n",
       "      <th>553</th>\n",
       "      <td>2025070100694</td>\n",
       "      <td>20250701</td>\n",
       "      <td>694</td>\n",
       "      <td>2025-07-02 07:45:05.921375+00:00</td>\n",
       "      <td>2025-07-02 07:46:28.376356+00:00</td>\n",
       "      <td>2025-07-02T07:46:33.681000</td>\n",
       "      <td>110734</td>\n",
       "      <td>lowdust</td>\n",
       "      <td>359.131918</td>\n",
       "      <td>-5.540346</td>\n",
       "      <td>99.461222</td>\n",
       "      <td>i</td>\n",
       "      <td>2.385243</td>\n",
       "      <td>26.083259</td>\n",
       "      <td>28.240026</td>\n",
       "      <td>-2.156766</td>\n",
       "      <td>BLOCK-365</td>\n",
       "      <td>lowdust</td>\n",
       "    </tr>\n",
       "  </tbody>\n",
       "</table>\n",
       "</div>"
      ],
      "text/plain": [
       "          visit_id   day_obs seq_num                       time_target  \\\n",
       "553  2025070100694  20250701     694  2025-07-02 07:45:05.921375+00:00   \n",
       "\n",
       "                     time_observation                   obs_start  \\\n",
       "553  2025-07-02 07:46:28.376356+00:00  2025-07-02T07:46:33.681000   \n",
       "\n",
       "    scriptSalIndex target_name        s_ra     s_dec sky_rotation band  \\\n",
       "553         110734     lowdust  359.131918 -5.540346    99.461222    i   \n",
       "\n",
       "    psf_sigma_median zero_point_1s zero_point_1s_pred    clouds  \\\n",
       "553         2.385243     26.083259          28.240026 -2.156766   \n",
       "\n",
       "    science_program target_name  \n",
       "553       BLOCK-365     lowdust  "
      ]
     },
     "metadata": {},
     "output_type": "display_data"
    },
    {
     "name": "stdout",
     "output_type": "stream",
     "text": [
      "IMG_TYPE science. Flags: big zeropoint offset.\n"
     ]
    },
    {
     "data": {
      "text/html": [
       "<a href=\"https://usdf-rsp.slac.stanford.edu/rubintv/summit-usdf/lsstcam/event?key=lsstcam/2025-07-01/calexp_mosaic/000694/lsstcam_calexp_mosaic_2025-07-01_000694.jpg\" target=\"_blank\" rel=\"noreferrer noopener\">https://usdf-rsp.slac.stanford.edu/rubintv/summit-usdf/lsstcam/event?key=lsstcam/2025-07-01/calexp_mosaic/000694/lsstcam_calexp_mosaic_2025-07-01_000694.jpg</a>"
      ],
      "text/plain": [
       "<IPython.core.display.HTML object>"
      ]
     },
     "metadata": {},
     "output_type": "display_data"
    },
    {
     "data": {
      "text/html": [
       "<a href=\"https://usdf-rsp.slac.stanford.edu/rubintv/summit-usdf/lsstcam/event?key=lsstcam/2025-07-01/witness_detector/000694/lsstcam_witness_detector_2025-07-01_000694.jpg\" target=\"_blank\" rel=\"noreferrer noopener\">https://usdf-rsp.slac.stanford.edu/rubintv/summit-usdf/lsstcam/event?key=lsstcam/2025-07-01/witness_detector/000694/lsstcam_witness_detector_2025-07-01_000694.jpg</a>"
      ],
      "text/plain": [
       "<IPython.core.display.HTML object>"
      ]
     },
     "metadata": {},
     "output_type": "display_data"
    },
    {
     "data": {
      "text/html": [
       "<br>"
      ],
      "text/plain": [
       "<IPython.core.display.HTML object>"
      ]
     },
     "metadata": {},
     "output_type": "display_data"
    },
    {
     "data": {
      "text/html": [
       "<div>\n",
       "<style scoped>\n",
       "    .dataframe tbody tr th:only-of-type {\n",
       "        vertical-align: middle;\n",
       "    }\n",
       "\n",
       "    .dataframe tbody tr th {\n",
       "        vertical-align: top;\n",
       "    }\n",
       "\n",
       "    .dataframe thead th {\n",
       "        text-align: right;\n",
       "    }\n",
       "</style>\n",
       "<table border=\"1\" class=\"dataframe\">\n",
       "  <thead>\n",
       "    <tr style=\"text-align: right;\">\n",
       "      <th></th>\n",
       "      <th>visit_id</th>\n",
       "      <th>day_obs</th>\n",
       "      <th>seq_num</th>\n",
       "      <th>time_target</th>\n",
       "      <th>time_observation</th>\n",
       "      <th>obs_start</th>\n",
       "      <th>scriptSalIndex</th>\n",
       "      <th>target_name</th>\n",
       "      <th>s_ra</th>\n",
       "      <th>s_dec</th>\n",
       "      <th>sky_rotation</th>\n",
       "      <th>band</th>\n",
       "      <th>psf_sigma_median</th>\n",
       "      <th>zero_point_1s</th>\n",
       "      <th>zero_point_1s_pred</th>\n",
       "      <th>clouds</th>\n",
       "      <th>science_program</th>\n",
       "      <th>target_name</th>\n",
       "    </tr>\n",
       "  </thead>\n",
       "  <tbody>\n",
       "    <tr>\n",
       "      <th>554</th>\n",
       "      <td>2025070100695</td>\n",
       "      <td>20250701</td>\n",
       "      <td>695</td>\n",
       "      <td>2025-07-02 07:45:49.290760+00:00</td>\n",
       "      <td>2025-07-02 07:47:07.517097+00:00</td>\n",
       "      <td>2025-07-02T07:47:13.457000</td>\n",
       "      <td>110735</td>\n",
       "      <td>lowdust</td>\n",
       "      <td>0.356942</td>\n",
       "      <td>-8.099652</td>\n",
       "      <td>102.481415</td>\n",
       "      <td>i</td>\n",
       "      <td>2.385461</td>\n",
       "      <td>26.088848</td>\n",
       "      <td>28.241234</td>\n",
       "      <td>-2.152387</td>\n",
       "      <td>BLOCK-365</td>\n",
       "      <td>lowdust</td>\n",
       "    </tr>\n",
       "  </tbody>\n",
       "</table>\n",
       "</div>"
      ],
      "text/plain": [
       "          visit_id   day_obs seq_num                       time_target  \\\n",
       "554  2025070100695  20250701     695  2025-07-02 07:45:49.290760+00:00   \n",
       "\n",
       "                     time_observation                   obs_start  \\\n",
       "554  2025-07-02 07:47:07.517097+00:00  2025-07-02T07:47:13.457000   \n",
       "\n",
       "    scriptSalIndex target_name      s_ra     s_dec sky_rotation band  \\\n",
       "554         110735     lowdust  0.356942 -8.099652   102.481415    i   \n",
       "\n",
       "    psf_sigma_median zero_point_1s zero_point_1s_pred    clouds  \\\n",
       "554         2.385461     26.088848          28.241234 -2.152387   \n",
       "\n",
       "    science_program target_name  \n",
       "554       BLOCK-365     lowdust  "
      ]
     },
     "metadata": {},
     "output_type": "display_data"
    },
    {
     "name": "stdout",
     "output_type": "stream",
     "text": [
      "IMG_TYPE science. Flags: big zeropoint offset.\n"
     ]
    },
    {
     "data": {
      "text/html": [
       "<a href=\"https://usdf-rsp.slac.stanford.edu/rubintv/summit-usdf/lsstcam/event?key=lsstcam/2025-07-01/calexp_mosaic/000695/lsstcam_calexp_mosaic_2025-07-01_000695.jpg\" target=\"_blank\" rel=\"noreferrer noopener\">https://usdf-rsp.slac.stanford.edu/rubintv/summit-usdf/lsstcam/event?key=lsstcam/2025-07-01/calexp_mosaic/000695/lsstcam_calexp_mosaic_2025-07-01_000695.jpg</a>"
      ],
      "text/plain": [
       "<IPython.core.display.HTML object>"
      ]
     },
     "metadata": {},
     "output_type": "display_data"
    },
    {
     "data": {
      "text/html": [
       "<a href=\"https://usdf-rsp.slac.stanford.edu/rubintv/summit-usdf/lsstcam/event?key=lsstcam/2025-07-01/witness_detector/000695/lsstcam_witness_detector_2025-07-01_000695.jpg\" target=\"_blank\" rel=\"noreferrer noopener\">https://usdf-rsp.slac.stanford.edu/rubintv/summit-usdf/lsstcam/event?key=lsstcam/2025-07-01/witness_detector/000695/lsstcam_witness_detector_2025-07-01_000695.jpg</a>"
      ],
      "text/plain": [
       "<IPython.core.display.HTML object>"
      ]
     },
     "metadata": {},
     "output_type": "display_data"
    },
    {
     "data": {
      "text/html": [
       "<br>"
      ],
      "text/plain": [
       "<IPython.core.display.HTML object>"
      ]
     },
     "metadata": {},
     "output_type": "display_data"
    },
    {
     "data": {
      "text/html": [
       "<div>\n",
       "<style scoped>\n",
       "    .dataframe tbody tr th:only-of-type {\n",
       "        vertical-align: middle;\n",
       "    }\n",
       "\n",
       "    .dataframe tbody tr th {\n",
       "        vertical-align: top;\n",
       "    }\n",
       "\n",
       "    .dataframe thead th {\n",
       "        text-align: right;\n",
       "    }\n",
       "</style>\n",
       "<table border=\"1\" class=\"dataframe\">\n",
       "  <thead>\n",
       "    <tr style=\"text-align: right;\">\n",
       "      <th></th>\n",
       "      <th>visit_id</th>\n",
       "      <th>day_obs</th>\n",
       "      <th>seq_num</th>\n",
       "      <th>time_target</th>\n",
       "      <th>time_observation</th>\n",
       "      <th>obs_start</th>\n",
       "      <th>scriptSalIndex</th>\n",
       "      <th>target_name</th>\n",
       "      <th>s_ra</th>\n",
       "      <th>s_dec</th>\n",
       "      <th>sky_rotation</th>\n",
       "      <th>band</th>\n",
       "      <th>psf_sigma_median</th>\n",
       "      <th>zero_point_1s</th>\n",
       "      <th>zero_point_1s_pred</th>\n",
       "      <th>clouds</th>\n",
       "      <th>science_program</th>\n",
       "      <th>target_name</th>\n",
       "    </tr>\n",
       "  </thead>\n",
       "  <tbody>\n",
       "    <tr>\n",
       "      <th>555</th>\n",
       "      <td>2025070100696</td>\n",
       "      <td>20250701</td>\n",
       "      <td>696</td>\n",
       "      <td>2025-07-02 07:46:29.432792+00:00</td>\n",
       "      <td>2025-07-02 07:47:47.661341+00:00</td>\n",
       "      <td>2025-07-02T07:47:53.332000</td>\n",
       "      <td>110736</td>\n",
       "      <td>lowdust</td>\n",
       "      <td>1.420413</td>\n",
       "      <td>-10.292824</td>\n",
       "      <td>105.115955</td>\n",
       "      <td>i</td>\n",
       "      <td>2.370903</td>\n",
       "      <td>25.804694</td>\n",
       "      <td>28.242097</td>\n",
       "      <td>-2.437404</td>\n",
       "      <td>BLOCK-365</td>\n",
       "      <td>lowdust</td>\n",
       "    </tr>\n",
       "  </tbody>\n",
       "</table>\n",
       "</div>"
      ],
      "text/plain": [
       "          visit_id   day_obs seq_num                       time_target  \\\n",
       "555  2025070100696  20250701     696  2025-07-02 07:46:29.432792+00:00   \n",
       "\n",
       "                     time_observation                   obs_start  \\\n",
       "555  2025-07-02 07:47:47.661341+00:00  2025-07-02T07:47:53.332000   \n",
       "\n",
       "    scriptSalIndex target_name      s_ra      s_dec sky_rotation band  \\\n",
       "555         110736     lowdust  1.420413 -10.292824   105.115955    i   \n",
       "\n",
       "    psf_sigma_median zero_point_1s zero_point_1s_pred    clouds  \\\n",
       "555         2.370903     25.804694          28.242097 -2.437404   \n",
       "\n",
       "    science_program target_name  \n",
       "555       BLOCK-365     lowdust  "
      ]
     },
     "metadata": {},
     "output_type": "display_data"
    },
    {
     "name": "stdout",
     "output_type": "stream",
     "text": [
      "IMG_TYPE science. Flags: big zeropoint offset.\n"
     ]
    },
    {
     "data": {
      "text/html": [
       "<a href=\"https://usdf-rsp.slac.stanford.edu/rubintv/summit-usdf/lsstcam/event?key=lsstcam/2025-07-01/calexp_mosaic/000696/lsstcam_calexp_mosaic_2025-07-01_000696.jpg\" target=\"_blank\" rel=\"noreferrer noopener\">https://usdf-rsp.slac.stanford.edu/rubintv/summit-usdf/lsstcam/event?key=lsstcam/2025-07-01/calexp_mosaic/000696/lsstcam_calexp_mosaic_2025-07-01_000696.jpg</a>"
      ],
      "text/plain": [
       "<IPython.core.display.HTML object>"
      ]
     },
     "metadata": {},
     "output_type": "display_data"
    },
    {
     "data": {
      "text/html": [
       "<a href=\"https://usdf-rsp.slac.stanford.edu/rubintv/summit-usdf/lsstcam/event?key=lsstcam/2025-07-01/witness_detector/000696/lsstcam_witness_detector_2025-07-01_000696.jpg\" target=\"_blank\" rel=\"noreferrer noopener\">https://usdf-rsp.slac.stanford.edu/rubintv/summit-usdf/lsstcam/event?key=lsstcam/2025-07-01/witness_detector/000696/lsstcam_witness_detector_2025-07-01_000696.jpg</a>"
      ],
      "text/plain": [
       "<IPython.core.display.HTML object>"
      ]
     },
     "metadata": {},
     "output_type": "display_data"
    },
    {
     "data": {
      "text/html": [
       "<br>"
      ],
      "text/plain": [
       "<IPython.core.display.HTML object>"
      ]
     },
     "metadata": {},
     "output_type": "display_data"
    },
    {
     "data": {
      "text/html": [
       "<div>\n",
       "<style scoped>\n",
       "    .dataframe tbody tr th:only-of-type {\n",
       "        vertical-align: middle;\n",
       "    }\n",
       "\n",
       "    .dataframe tbody tr th {\n",
       "        vertical-align: top;\n",
       "    }\n",
       "\n",
       "    .dataframe thead th {\n",
       "        text-align: right;\n",
       "    }\n",
       "</style>\n",
       "<table border=\"1\" class=\"dataframe\">\n",
       "  <thead>\n",
       "    <tr style=\"text-align: right;\">\n",
       "      <th></th>\n",
       "      <th>visit_id</th>\n",
       "      <th>day_obs</th>\n",
       "      <th>seq_num</th>\n",
       "      <th>time_target</th>\n",
       "      <th>time_observation</th>\n",
       "      <th>obs_start</th>\n",
       "      <th>scriptSalIndex</th>\n",
       "      <th>target_name</th>\n",
       "      <th>s_ra</th>\n",
       "      <th>s_dec</th>\n",
       "      <th>sky_rotation</th>\n",
       "      <th>band</th>\n",
       "      <th>psf_sigma_median</th>\n",
       "      <th>zero_point_1s</th>\n",
       "      <th>zero_point_1s_pred</th>\n",
       "      <th>clouds</th>\n",
       "      <th>science_program</th>\n",
       "      <th>target_name</th>\n",
       "    </tr>\n",
       "  </thead>\n",
       "  <tbody>\n",
       "    <tr>\n",
       "      <th>556</th>\n",
       "      <td>2025070100697</td>\n",
       "      <td>20250701</td>\n",
       "      <td>697</td>\n",
       "      <td>2025-07-02 07:47:08.575684+00:00</td>\n",
       "      <td>2025-07-02 07:48:31.998949+00:00</td>\n",
       "      <td>2025-07-02T07:48:37.364000</td>\n",
       "      <td>110737</td>\n",
       "      <td>lowdust</td>\n",
       "      <td>1.1041</td>\n",
       "      <td>-3.098302</td>\n",
       "      <td>98.739246</td>\n",
       "      <td>i</td>\n",
       "      <td>2.468691</td>\n",
       "      <td>25.958872</td>\n",
       "      <td>28.235954</td>\n",
       "      <td>-2.277082</td>\n",
       "      <td>BLOCK-365</td>\n",
       "      <td>lowdust</td>\n",
       "    </tr>\n",
       "  </tbody>\n",
       "</table>\n",
       "</div>"
      ],
      "text/plain": [
       "          visit_id   day_obs seq_num                       time_target  \\\n",
       "556  2025070100697  20250701     697  2025-07-02 07:47:08.575684+00:00   \n",
       "\n",
       "                     time_observation                   obs_start  \\\n",
       "556  2025-07-02 07:48:31.998949+00:00  2025-07-02T07:48:37.364000   \n",
       "\n",
       "    scriptSalIndex target_name    s_ra     s_dec sky_rotation band  \\\n",
       "556         110737     lowdust  1.1041 -3.098302    98.739246    i   \n",
       "\n",
       "    psf_sigma_median zero_point_1s zero_point_1s_pred    clouds  \\\n",
       "556         2.468691     25.958872          28.235954 -2.277082   \n",
       "\n",
       "    science_program target_name  \n",
       "556       BLOCK-365     lowdust  "
      ]
     },
     "metadata": {},
     "output_type": "display_data"
    },
    {
     "name": "stdout",
     "output_type": "stream",
     "text": [
      "IMG_TYPE science. Flags: big zeropoint offset.\n"
     ]
    },
    {
     "data": {
      "text/html": [
       "<a href=\"https://usdf-rsp.slac.stanford.edu/rubintv/summit-usdf/lsstcam/event?key=lsstcam/2025-07-01/calexp_mosaic/000697/lsstcam_calexp_mosaic_2025-07-01_000697.jpg\" target=\"_blank\" rel=\"noreferrer noopener\">https://usdf-rsp.slac.stanford.edu/rubintv/summit-usdf/lsstcam/event?key=lsstcam/2025-07-01/calexp_mosaic/000697/lsstcam_calexp_mosaic_2025-07-01_000697.jpg</a>"
      ],
      "text/plain": [
       "<IPython.core.display.HTML object>"
      ]
     },
     "metadata": {},
     "output_type": "display_data"
    },
    {
     "data": {
      "text/html": [
       "<a href=\"https://usdf-rsp.slac.stanford.edu/rubintv/summit-usdf/lsstcam/event?key=lsstcam/2025-07-01/witness_detector/000697/lsstcam_witness_detector_2025-07-01_000697.jpg\" target=\"_blank\" rel=\"noreferrer noopener\">https://usdf-rsp.slac.stanford.edu/rubintv/summit-usdf/lsstcam/event?key=lsstcam/2025-07-01/witness_detector/000697/lsstcam_witness_detector_2025-07-01_000697.jpg</a>"
      ],
      "text/plain": [
       "<IPython.core.display.HTML object>"
      ]
     },
     "metadata": {},
     "output_type": "display_data"
    },
    {
     "data": {
      "text/html": [
       "<br>"
      ],
      "text/plain": [
       "<IPython.core.display.HTML object>"
      ]
     },
     "metadata": {},
     "output_type": "display_data"
    },
    {
     "data": {
      "text/html": [
       "<div>\n",
       "<style scoped>\n",
       "    .dataframe tbody tr th:only-of-type {\n",
       "        vertical-align: middle;\n",
       "    }\n",
       "\n",
       "    .dataframe tbody tr th {\n",
       "        vertical-align: top;\n",
       "    }\n",
       "\n",
       "    .dataframe thead th {\n",
       "        text-align: right;\n",
       "    }\n",
       "</style>\n",
       "<table border=\"1\" class=\"dataframe\">\n",
       "  <thead>\n",
       "    <tr style=\"text-align: right;\">\n",
       "      <th></th>\n",
       "      <th>visit_id</th>\n",
       "      <th>day_obs</th>\n",
       "      <th>seq_num</th>\n",
       "      <th>time_target</th>\n",
       "      <th>time_observation</th>\n",
       "      <th>obs_start</th>\n",
       "      <th>scriptSalIndex</th>\n",
       "      <th>target_name</th>\n",
       "      <th>s_ra</th>\n",
       "      <th>s_dec</th>\n",
       "      <th>sky_rotation</th>\n",
       "      <th>band</th>\n",
       "      <th>psf_sigma_median</th>\n",
       "      <th>zero_point_1s</th>\n",
       "      <th>zero_point_1s_pred</th>\n",
       "      <th>clouds</th>\n",
       "      <th>science_program</th>\n",
       "      <th>target_name</th>\n",
       "    </tr>\n",
       "  </thead>\n",
       "  <tbody>\n",
       "    <tr>\n",
       "      <th>557</th>\n",
       "      <td>2025070100698</td>\n",
       "      <td>20250701</td>\n",
       "      <td>698</td>\n",
       "      <td>2025-07-02 07:47:48.737120+00:00</td>\n",
       "      <td>2025-07-02 07:49:11.475211+00:00</td>\n",
       "      <td>2025-07-02T07:49:16.569000</td>\n",
       "      <td>110738</td>\n",
       "      <td>lowdust</td>\n",
       "      <td>1.941473</td>\n",
       "      <td>1.62909</td>\n",
       "      <td>95.980036</td>\n",
       "      <td>i</td>\n",
       "      <td>2.981729</td>\n",
       "      <td>25.731726</td>\n",
       "      <td>28.229203</td>\n",
       "      <td>-2.497476</td>\n",
       "      <td>BLOCK-365</td>\n",
       "      <td>lowdust</td>\n",
       "    </tr>\n",
       "  </tbody>\n",
       "</table>\n",
       "</div>"
      ],
      "text/plain": [
       "          visit_id   day_obs seq_num                       time_target  \\\n",
       "557  2025070100698  20250701     698  2025-07-02 07:47:48.737120+00:00   \n",
       "\n",
       "                     time_observation                   obs_start  \\\n",
       "557  2025-07-02 07:49:11.475211+00:00  2025-07-02T07:49:16.569000   \n",
       "\n",
       "    scriptSalIndex target_name      s_ra    s_dec sky_rotation band  \\\n",
       "557         110738     lowdust  1.941473  1.62909    95.980036    i   \n",
       "\n",
       "    psf_sigma_median zero_point_1s zero_point_1s_pred    clouds  \\\n",
       "557         2.981729     25.731726          28.229203 -2.497476   \n",
       "\n",
       "    science_program target_name  \n",
       "557       BLOCK-365     lowdust  "
      ]
     },
     "metadata": {},
     "output_type": "display_data"
    },
    {
     "name": "stdout",
     "output_type": "stream",
     "text": [
      "IMG_TYPE science. Flags: big zeropoint offset.\n"
     ]
    },
    {
     "data": {
      "text/html": [
       "<a href=\"https://usdf-rsp.slac.stanford.edu/rubintv/summit-usdf/lsstcam/event?key=lsstcam/2025-07-01/calexp_mosaic/000698/lsstcam_calexp_mosaic_2025-07-01_000698.jpg\" target=\"_blank\" rel=\"noreferrer noopener\">https://usdf-rsp.slac.stanford.edu/rubintv/summit-usdf/lsstcam/event?key=lsstcam/2025-07-01/calexp_mosaic/000698/lsstcam_calexp_mosaic_2025-07-01_000698.jpg</a>"
      ],
      "text/plain": [
       "<IPython.core.display.HTML object>"
      ]
     },
     "metadata": {},
     "output_type": "display_data"
    },
    {
     "data": {
      "text/html": [
       "<a href=\"https://usdf-rsp.slac.stanford.edu/rubintv/summit-usdf/lsstcam/event?key=lsstcam/2025-07-01/witness_detector/000698/lsstcam_witness_detector_2025-07-01_000698.jpg\" target=\"_blank\" rel=\"noreferrer noopener\">https://usdf-rsp.slac.stanford.edu/rubintv/summit-usdf/lsstcam/event?key=lsstcam/2025-07-01/witness_detector/000698/lsstcam_witness_detector_2025-07-01_000698.jpg</a>"
      ],
      "text/plain": [
       "<IPython.core.display.HTML object>"
      ]
     },
     "metadata": {},
     "output_type": "display_data"
    },
    {
     "data": {
      "text/html": [
       "<br>"
      ],
      "text/plain": [
       "<IPython.core.display.HTML object>"
      ]
     },
     "metadata": {},
     "output_type": "display_data"
    },
    {
     "data": {
      "text/html": [
       "<div>\n",
       "<style scoped>\n",
       "    .dataframe tbody tr th:only-of-type {\n",
       "        vertical-align: middle;\n",
       "    }\n",
       "\n",
       "    .dataframe tbody tr th {\n",
       "        vertical-align: top;\n",
       "    }\n",
       "\n",
       "    .dataframe thead th {\n",
       "        text-align: right;\n",
       "    }\n",
       "</style>\n",
       "<table border=\"1\" class=\"dataframe\">\n",
       "  <thead>\n",
       "    <tr style=\"text-align: right;\">\n",
       "      <th></th>\n",
       "      <th>visit_id</th>\n",
       "      <th>day_obs</th>\n",
       "      <th>seq_num</th>\n",
       "      <th>time_target</th>\n",
       "      <th>time_observation</th>\n",
       "      <th>obs_start</th>\n",
       "      <th>scriptSalIndex</th>\n",
       "      <th>target_name</th>\n",
       "      <th>s_ra</th>\n",
       "      <th>s_dec</th>\n",
       "      <th>sky_rotation</th>\n",
       "      <th>band</th>\n",
       "      <th>psf_sigma_median</th>\n",
       "      <th>zero_point_1s</th>\n",
       "      <th>zero_point_1s_pred</th>\n",
       "      <th>clouds</th>\n",
       "      <th>science_program</th>\n",
       "      <th>target_name</th>\n",
       "    </tr>\n",
       "  </thead>\n",
       "  <tbody>\n",
       "    <tr>\n",
       "      <th>563</th>\n",
       "      <td>2025070100704</td>\n",
       "      <td>20250701</td>\n",
       "      <td>704</td>\n",
       "      <td>2025-07-02 07:52:07.011936+00:00</td>\n",
       "      <td>2025-07-02 07:53:25.528116+00:00</td>\n",
       "      <td>2025-07-02T07:53:30.692000</td>\n",
       "      <td>110744</td>\n",
       "      <td>lowdust</td>\n",
       "      <td>336.090953</td>\n",
       "      <td>-1.443395</td>\n",
       "      <td>66.328216</td>\n",
       "      <td>i</td>\n",
       "      <td>2.493477</td>\n",
       "      <td>26.476423</td>\n",
       "      <td>28.250897</td>\n",
       "      <td>-1.774473</td>\n",
       "      <td>BLOCK-365</td>\n",
       "      <td>lowdust</td>\n",
       "    </tr>\n",
       "  </tbody>\n",
       "</table>\n",
       "</div>"
      ],
      "text/plain": [
       "          visit_id   day_obs seq_num                       time_target  \\\n",
       "563  2025070100704  20250701     704  2025-07-02 07:52:07.011936+00:00   \n",
       "\n",
       "                     time_observation                   obs_start  \\\n",
       "563  2025-07-02 07:53:25.528116+00:00  2025-07-02T07:53:30.692000   \n",
       "\n",
       "    scriptSalIndex target_name        s_ra     s_dec sky_rotation band  \\\n",
       "563         110744     lowdust  336.090953 -1.443395    66.328216    i   \n",
       "\n",
       "    psf_sigma_median zero_point_1s zero_point_1s_pred    clouds  \\\n",
       "563         2.493477     26.476423          28.250897 -1.774473   \n",
       "\n",
       "    science_program target_name  \n",
       "563       BLOCK-365     lowdust  "
      ]
     },
     "metadata": {},
     "output_type": "display_data"
    },
    {
     "name": "stdout",
     "output_type": "stream",
     "text": [
      "IMG_TYPE science. Flags: big zeropoint offset.\n"
     ]
    },
    {
     "data": {
      "text/html": [
       "<a href=\"https://usdf-rsp.slac.stanford.edu/rubintv/summit-usdf/lsstcam/event?key=lsstcam/2025-07-01/calexp_mosaic/000704/lsstcam_calexp_mosaic_2025-07-01_000704.jpg\" target=\"_blank\" rel=\"noreferrer noopener\">https://usdf-rsp.slac.stanford.edu/rubintv/summit-usdf/lsstcam/event?key=lsstcam/2025-07-01/calexp_mosaic/000704/lsstcam_calexp_mosaic_2025-07-01_000704.jpg</a>"
      ],
      "text/plain": [
       "<IPython.core.display.HTML object>"
      ]
     },
     "metadata": {},
     "output_type": "display_data"
    },
    {
     "data": {
      "text/html": [
       "<a href=\"https://usdf-rsp.slac.stanford.edu/rubintv/summit-usdf/lsstcam/event?key=lsstcam/2025-07-01/witness_detector/000704/lsstcam_witness_detector_2025-07-01_000704.jpg\" target=\"_blank\" rel=\"noreferrer noopener\">https://usdf-rsp.slac.stanford.edu/rubintv/summit-usdf/lsstcam/event?key=lsstcam/2025-07-01/witness_detector/000704/lsstcam_witness_detector_2025-07-01_000704.jpg</a>"
      ],
      "text/plain": [
       "<IPython.core.display.HTML object>"
      ]
     },
     "metadata": {},
     "output_type": "display_data"
    },
    {
     "data": {
      "text/html": [
       "<br>"
      ],
      "text/plain": [
       "<IPython.core.display.HTML object>"
      ]
     },
     "metadata": {},
     "output_type": "display_data"
    },
    {
     "data": {
      "text/html": [
       "<div>\n",
       "<style scoped>\n",
       "    .dataframe tbody tr th:only-of-type {\n",
       "        vertical-align: middle;\n",
       "    }\n",
       "\n",
       "    .dataframe tbody tr th {\n",
       "        vertical-align: top;\n",
       "    }\n",
       "\n",
       "    .dataframe thead th {\n",
       "        text-align: right;\n",
       "    }\n",
       "</style>\n",
       "<table border=\"1\" class=\"dataframe\">\n",
       "  <thead>\n",
       "    <tr style=\"text-align: right;\">\n",
       "      <th></th>\n",
       "      <th>visit_id</th>\n",
       "      <th>day_obs</th>\n",
       "      <th>seq_num</th>\n",
       "      <th>time_target</th>\n",
       "      <th>time_observation</th>\n",
       "      <th>obs_start</th>\n",
       "      <th>scriptSalIndex</th>\n",
       "      <th>target_name</th>\n",
       "      <th>s_ra</th>\n",
       "      <th>s_dec</th>\n",
       "      <th>sky_rotation</th>\n",
       "      <th>band</th>\n",
       "      <th>psf_sigma_median</th>\n",
       "      <th>zero_point_1s</th>\n",
       "      <th>zero_point_1s_pred</th>\n",
       "      <th>clouds</th>\n",
       "      <th>science_program</th>\n",
       "      <th>target_name</th>\n",
       "    </tr>\n",
       "  </thead>\n",
       "  <tbody>\n",
       "    <tr>\n",
       "      <th>578</th>\n",
       "      <td>2025070100719</td>\n",
       "      <td>20250701</td>\n",
       "      <td>719</td>\n",
       "      <td>2025-07-02 08:02:21.489084+00:00</td>\n",
       "      <td>2025-07-02 08:03:44.751944+00:00</td>\n",
       "      <td>2025-07-02T08:03:49.965000</td>\n",
       "      <td>110759</td>\n",
       "      <td>lowdust</td>\n",
       "      <td>346.554993</td>\n",
       "      <td>-14.72414</td>\n",
       "      <td>96.401429</td>\n",
       "      <td>i</td>\n",
       "      <td>2.548303</td>\n",
       "      <td>26.598669</td>\n",
       "      <td>28.256698</td>\n",
       "      <td>-1.658029</td>\n",
       "      <td>BLOCK-365</td>\n",
       "      <td>lowdust</td>\n",
       "    </tr>\n",
       "  </tbody>\n",
       "</table>\n",
       "</div>"
      ],
      "text/plain": [
       "          visit_id   day_obs seq_num                       time_target  \\\n",
       "578  2025070100719  20250701     719  2025-07-02 08:02:21.489084+00:00   \n",
       "\n",
       "                     time_observation                   obs_start  \\\n",
       "578  2025-07-02 08:03:44.751944+00:00  2025-07-02T08:03:49.965000   \n",
       "\n",
       "    scriptSalIndex target_name        s_ra     s_dec sky_rotation band  \\\n",
       "578         110759     lowdust  346.554993 -14.72414    96.401429    i   \n",
       "\n",
       "    psf_sigma_median zero_point_1s zero_point_1s_pred    clouds  \\\n",
       "578         2.548303     26.598669          28.256698 -1.658029   \n",
       "\n",
       "    science_program target_name  \n",
       "578       BLOCK-365     lowdust  "
      ]
     },
     "metadata": {},
     "output_type": "display_data"
    },
    {
     "name": "stdout",
     "output_type": "stream",
     "text": [
      "IMG_TYPE science. Flags: big zeropoint offset.\n"
     ]
    },
    {
     "data": {
      "text/html": [
       "<a href=\"https://usdf-rsp.slac.stanford.edu/rubintv/summit-usdf/lsstcam/event?key=lsstcam/2025-07-01/calexp_mosaic/000719/lsstcam_calexp_mosaic_2025-07-01_000719.jpg\" target=\"_blank\" rel=\"noreferrer noopener\">https://usdf-rsp.slac.stanford.edu/rubintv/summit-usdf/lsstcam/event?key=lsstcam/2025-07-01/calexp_mosaic/000719/lsstcam_calexp_mosaic_2025-07-01_000719.jpg</a>"
      ],
      "text/plain": [
       "<IPython.core.display.HTML object>"
      ]
     },
     "metadata": {},
     "output_type": "display_data"
    },
    {
     "data": {
      "text/html": [
       "<a href=\"https://usdf-rsp.slac.stanford.edu/rubintv/summit-usdf/lsstcam/event?key=lsstcam/2025-07-01/witness_detector/000719/lsstcam_witness_detector_2025-07-01_000719.jpg\" target=\"_blank\" rel=\"noreferrer noopener\">https://usdf-rsp.slac.stanford.edu/rubintv/summit-usdf/lsstcam/event?key=lsstcam/2025-07-01/witness_detector/000719/lsstcam_witness_detector_2025-07-01_000719.jpg</a>"
      ],
      "text/plain": [
       "<IPython.core.display.HTML object>"
      ]
     },
     "metadata": {},
     "output_type": "display_data"
    },
    {
     "data": {
      "text/html": [
       "<br>"
      ],
      "text/plain": [
       "<IPython.core.display.HTML object>"
      ]
     },
     "metadata": {},
     "output_type": "display_data"
    },
    {
     "data": {
      "text/html": [
       "<div>\n",
       "<style scoped>\n",
       "    .dataframe tbody tr th:only-of-type {\n",
       "        vertical-align: middle;\n",
       "    }\n",
       "\n",
       "    .dataframe tbody tr th {\n",
       "        vertical-align: top;\n",
       "    }\n",
       "\n",
       "    .dataframe thead th {\n",
       "        text-align: right;\n",
       "    }\n",
       "</style>\n",
       "<table border=\"1\" class=\"dataframe\">\n",
       "  <thead>\n",
       "    <tr style=\"text-align: right;\">\n",
       "      <th></th>\n",
       "      <th>visit_id</th>\n",
       "      <th>day_obs</th>\n",
       "      <th>seq_num</th>\n",
       "      <th>time_target</th>\n",
       "      <th>time_observation</th>\n",
       "      <th>obs_start</th>\n",
       "      <th>scriptSalIndex</th>\n",
       "      <th>target_name</th>\n",
       "      <th>s_ra</th>\n",
       "      <th>s_dec</th>\n",
       "      <th>sky_rotation</th>\n",
       "      <th>band</th>\n",
       "      <th>psf_sigma_median</th>\n",
       "      <th>zero_point_1s</th>\n",
       "      <th>zero_point_1s_pred</th>\n",
       "      <th>clouds</th>\n",
       "      <th>science_program</th>\n",
       "      <th>target_name</th>\n",
       "    </tr>\n",
       "  </thead>\n",
       "  <tbody>\n",
       "    <tr>\n",
       "      <th>579</th>\n",
       "      <td>2025070100720</td>\n",
       "      <td>20250701</td>\n",
       "      <td>720</td>\n",
       "      <td>2025-07-02 08:03:04.661374+00:00</td>\n",
       "      <td>2025-07-02 08:04:35.040249+00:00</td>\n",
       "      <td>2025-07-02T08:04:40.436000</td>\n",
       "      <td>110760</td>\n",
       "      <td>lowdust</td>\n",
       "      <td>344.578643</td>\n",
       "      <td>-6.417436</td>\n",
       "      <td>83.076558</td>\n",
       "      <td>i</td>\n",
       "      <td>3.118094</td>\n",
       "      <td>26.471984</td>\n",
       "      <td>28.253009</td>\n",
       "      <td>-1.781025</td>\n",
       "      <td>BLOCK-365</td>\n",
       "      <td>lowdust</td>\n",
       "    </tr>\n",
       "  </tbody>\n",
       "</table>\n",
       "</div>"
      ],
      "text/plain": [
       "          visit_id   day_obs seq_num                       time_target  \\\n",
       "579  2025070100720  20250701     720  2025-07-02 08:03:04.661374+00:00   \n",
       "\n",
       "                     time_observation                   obs_start  \\\n",
       "579  2025-07-02 08:04:35.040249+00:00  2025-07-02T08:04:40.436000   \n",
       "\n",
       "    scriptSalIndex target_name        s_ra     s_dec sky_rotation band  \\\n",
       "579         110760     lowdust  344.578643 -6.417436    83.076558    i   \n",
       "\n",
       "    psf_sigma_median zero_point_1s zero_point_1s_pred    clouds  \\\n",
       "579         3.118094     26.471984          28.253009 -1.781025   \n",
       "\n",
       "    science_program target_name  \n",
       "579       BLOCK-365     lowdust  "
      ]
     },
     "metadata": {},
     "output_type": "display_data"
    },
    {
     "name": "stdout",
     "output_type": "stream",
     "text": [
      "IMG_TYPE science. Flags: big zeropoint offset.\n"
     ]
    },
    {
     "data": {
      "text/html": [
       "<a href=\"https://usdf-rsp.slac.stanford.edu/rubintv/summit-usdf/lsstcam/event?key=lsstcam/2025-07-01/calexp_mosaic/000720/lsstcam_calexp_mosaic_2025-07-01_000720.jpg\" target=\"_blank\" rel=\"noreferrer noopener\">https://usdf-rsp.slac.stanford.edu/rubintv/summit-usdf/lsstcam/event?key=lsstcam/2025-07-01/calexp_mosaic/000720/lsstcam_calexp_mosaic_2025-07-01_000720.jpg</a>"
      ],
      "text/plain": [
       "<IPython.core.display.HTML object>"
      ]
     },
     "metadata": {},
     "output_type": "display_data"
    },
    {
     "data": {
      "text/html": [
       "<a href=\"https://usdf-rsp.slac.stanford.edu/rubintv/summit-usdf/lsstcam/event?key=lsstcam/2025-07-01/witness_detector/000720/lsstcam_witness_detector_2025-07-01_000720.jpg\" target=\"_blank\" rel=\"noreferrer noopener\">https://usdf-rsp.slac.stanford.edu/rubintv/summit-usdf/lsstcam/event?key=lsstcam/2025-07-01/witness_detector/000720/lsstcam_witness_detector_2025-07-01_000720.jpg</a>"
      ],
      "text/plain": [
       "<IPython.core.display.HTML object>"
      ]
     },
     "metadata": {},
     "output_type": "display_data"
    },
    {
     "data": {
      "text/html": [
       "<br>"
      ],
      "text/plain": [
       "<IPython.core.display.HTML object>"
      ]
     },
     "metadata": {},
     "output_type": "display_data"
    },
    {
     "data": {
      "text/html": [
       "<div>\n",
       "<style scoped>\n",
       "    .dataframe tbody tr th:only-of-type {\n",
       "        vertical-align: middle;\n",
       "    }\n",
       "\n",
       "    .dataframe tbody tr th {\n",
       "        vertical-align: top;\n",
       "    }\n",
       "\n",
       "    .dataframe thead th {\n",
       "        text-align: right;\n",
       "    }\n",
       "</style>\n",
       "<table border=\"1\" class=\"dataframe\">\n",
       "  <thead>\n",
       "    <tr style=\"text-align: right;\">\n",
       "      <th></th>\n",
       "      <th>visit_id</th>\n",
       "      <th>day_obs</th>\n",
       "      <th>seq_num</th>\n",
       "      <th>time_target</th>\n",
       "      <th>time_observation</th>\n",
       "      <th>obs_start</th>\n",
       "      <th>scriptSalIndex</th>\n",
       "      <th>target_name</th>\n",
       "      <th>s_ra</th>\n",
       "      <th>s_dec</th>\n",
       "      <th>sky_rotation</th>\n",
       "      <th>band</th>\n",
       "      <th>psf_sigma_median</th>\n",
       "      <th>zero_point_1s</th>\n",
       "      <th>zero_point_1s_pred</th>\n",
       "      <th>clouds</th>\n",
       "      <th>science_program</th>\n",
       "      <th>target_name</th>\n",
       "    </tr>\n",
       "  </thead>\n",
       "  <tbody>\n",
       "    <tr>\n",
       "      <th>580</th>\n",
       "      <td>2025070100721</td>\n",
       "      <td>20250701</td>\n",
       "      <td>721</td>\n",
       "      <td>2025-07-02 08:03:45.931281+00:00</td>\n",
       "      <td>2025-07-02 08:05:15.256073+00:00</td>\n",
       "      <td>2025-07-02T08:05:20.681000</td>\n",
       "      <td>110761</td>\n",
       "      <td>lowdust</td>\n",
       "      <td>343.174157</td>\n",
       "      <td>-3.755512</td>\n",
       "      <td>78.738856</td>\n",
       "      <td>i</td>\n",
       "      <td>2.931424</td>\n",
       "      <td>26.466407</td>\n",
       "      <td>28.251634</td>\n",
       "      <td>-1.785227</td>\n",
       "      <td>BLOCK-365</td>\n",
       "      <td>lowdust</td>\n",
       "    </tr>\n",
       "  </tbody>\n",
       "</table>\n",
       "</div>"
      ],
      "text/plain": [
       "          visit_id   day_obs seq_num                       time_target  \\\n",
       "580  2025070100721  20250701     721  2025-07-02 08:03:45.931281+00:00   \n",
       "\n",
       "                     time_observation                   obs_start  \\\n",
       "580  2025-07-02 08:05:15.256073+00:00  2025-07-02T08:05:20.681000   \n",
       "\n",
       "    scriptSalIndex target_name        s_ra     s_dec sky_rotation band  \\\n",
       "580         110761     lowdust  343.174157 -3.755512    78.738856    i   \n",
       "\n",
       "    psf_sigma_median zero_point_1s zero_point_1s_pred    clouds  \\\n",
       "580         2.931424     26.466407          28.251634 -1.785227   \n",
       "\n",
       "    science_program target_name  \n",
       "580       BLOCK-365     lowdust  "
      ]
     },
     "metadata": {},
     "output_type": "display_data"
    },
    {
     "name": "stdout",
     "output_type": "stream",
     "text": [
      "IMG_TYPE science. Flags: big zeropoint offset.\n"
     ]
    },
    {
     "data": {
      "text/html": [
       "<a href=\"https://usdf-rsp.slac.stanford.edu/rubintv/summit-usdf/lsstcam/event?key=lsstcam/2025-07-01/calexp_mosaic/000721/lsstcam_calexp_mosaic_2025-07-01_000721.jpg\" target=\"_blank\" rel=\"noreferrer noopener\">https://usdf-rsp.slac.stanford.edu/rubintv/summit-usdf/lsstcam/event?key=lsstcam/2025-07-01/calexp_mosaic/000721/lsstcam_calexp_mosaic_2025-07-01_000721.jpg</a>"
      ],
      "text/plain": [
       "<IPython.core.display.HTML object>"
      ]
     },
     "metadata": {},
     "output_type": "display_data"
    },
    {
     "data": {
      "text/html": [
       "<a href=\"https://usdf-rsp.slac.stanford.edu/rubintv/summit-usdf/lsstcam/event?key=lsstcam/2025-07-01/witness_detector/000721/lsstcam_witness_detector_2025-07-01_000721.jpg\" target=\"_blank\" rel=\"noreferrer noopener\">https://usdf-rsp.slac.stanford.edu/rubintv/summit-usdf/lsstcam/event?key=lsstcam/2025-07-01/witness_detector/000721/lsstcam_witness_detector_2025-07-01_000721.jpg</a>"
      ],
      "text/plain": [
       "<IPython.core.display.HTML object>"
      ]
     },
     "metadata": {},
     "output_type": "display_data"
    },
    {
     "data": {
      "text/html": [
       "<br>"
      ],
      "text/plain": [
       "<IPython.core.display.HTML object>"
      ]
     },
     "metadata": {},
     "output_type": "display_data"
    },
    {
     "data": {
      "text/html": [
       "<div>\n",
       "<style scoped>\n",
       "    .dataframe tbody tr th:only-of-type {\n",
       "        vertical-align: middle;\n",
       "    }\n",
       "\n",
       "    .dataframe tbody tr th {\n",
       "        vertical-align: top;\n",
       "    }\n",
       "\n",
       "    .dataframe thead th {\n",
       "        text-align: right;\n",
       "    }\n",
       "</style>\n",
       "<table border=\"1\" class=\"dataframe\">\n",
       "  <thead>\n",
       "    <tr style=\"text-align: right;\">\n",
       "      <th></th>\n",
       "      <th>visit_id</th>\n",
       "      <th>day_obs</th>\n",
       "      <th>seq_num</th>\n",
       "      <th>time_target</th>\n",
       "      <th>time_observation</th>\n",
       "      <th>obs_start</th>\n",
       "      <th>scriptSalIndex</th>\n",
       "      <th>target_name</th>\n",
       "      <th>s_ra</th>\n",
       "      <th>s_dec</th>\n",
       "      <th>sky_rotation</th>\n",
       "      <th>band</th>\n",
       "      <th>psf_sigma_median</th>\n",
       "      <th>zero_point_1s</th>\n",
       "      <th>zero_point_1s_pred</th>\n",
       "      <th>clouds</th>\n",
       "      <th>science_program</th>\n",
       "      <th>target_name</th>\n",
       "    </tr>\n",
       "  </thead>\n",
       "  <tbody>\n",
       "    <tr>\n",
       "      <th>581</th>\n",
       "      <td>2025070100722</td>\n",
       "      <td>20250701</td>\n",
       "      <td>722</td>\n",
       "      <td>2025-07-02 08:04:36.166611+00:00</td>\n",
       "      <td>2025-07-02 08:05:55.410807+00:00</td>\n",
       "      <td>2025-07-02T08:06:00.458000</td>\n",
       "      <td>110762</td>\n",
       "      <td>lowdust</td>\n",
       "      <td>341.823979</td>\n",
       "      <td>-1.118521</td>\n",
       "      <td>74.908944</td>\n",
       "      <td>i</td>\n",
       "      <td>2.74205</td>\n",
       "      <td>26.574217</td>\n",
       "      <td>28.249969</td>\n",
       "      <td>-1.675751</td>\n",
       "      <td>BLOCK-365</td>\n",
       "      <td>lowdust</td>\n",
       "    </tr>\n",
       "  </tbody>\n",
       "</table>\n",
       "</div>"
      ],
      "text/plain": [
       "          visit_id   day_obs seq_num                       time_target  \\\n",
       "581  2025070100722  20250701     722  2025-07-02 08:04:36.166611+00:00   \n",
       "\n",
       "                     time_observation                   obs_start  \\\n",
       "581  2025-07-02 08:05:55.410807+00:00  2025-07-02T08:06:00.458000   \n",
       "\n",
       "    scriptSalIndex target_name        s_ra     s_dec sky_rotation band  \\\n",
       "581         110762     lowdust  341.823979 -1.118521    74.908944    i   \n",
       "\n",
       "    psf_sigma_median zero_point_1s zero_point_1s_pred    clouds  \\\n",
       "581          2.74205     26.574217          28.249969 -1.675751   \n",
       "\n",
       "    science_program target_name  \n",
       "581       BLOCK-365     lowdust  "
      ]
     },
     "metadata": {},
     "output_type": "display_data"
    },
    {
     "name": "stdout",
     "output_type": "stream",
     "text": [
      "IMG_TYPE science. Flags: big zeropoint offset.\n"
     ]
    },
    {
     "data": {
      "text/html": [
       "<a href=\"https://usdf-rsp.slac.stanford.edu/rubintv/summit-usdf/lsstcam/event?key=lsstcam/2025-07-01/calexp_mosaic/000722/lsstcam_calexp_mosaic_2025-07-01_000722.jpg\" target=\"_blank\" rel=\"noreferrer noopener\">https://usdf-rsp.slac.stanford.edu/rubintv/summit-usdf/lsstcam/event?key=lsstcam/2025-07-01/calexp_mosaic/000722/lsstcam_calexp_mosaic_2025-07-01_000722.jpg</a>"
      ],
      "text/plain": [
       "<IPython.core.display.HTML object>"
      ]
     },
     "metadata": {},
     "output_type": "display_data"
    },
    {
     "data": {
      "text/html": [
       "<a href=\"https://usdf-rsp.slac.stanford.edu/rubintv/summit-usdf/lsstcam/event?key=lsstcam/2025-07-01/witness_detector/000722/lsstcam_witness_detector_2025-07-01_000722.jpg\" target=\"_blank\" rel=\"noreferrer noopener\">https://usdf-rsp.slac.stanford.edu/rubintv/summit-usdf/lsstcam/event?key=lsstcam/2025-07-01/witness_detector/000722/lsstcam_witness_detector_2025-07-01_000722.jpg</a>"
      ],
      "text/plain": [
       "<IPython.core.display.HTML object>"
      ]
     },
     "metadata": {},
     "output_type": "display_data"
    },
    {
     "data": {
      "text/html": [
       "<br>"
      ],
      "text/plain": [
       "<IPython.core.display.HTML object>"
      ]
     },
     "metadata": {},
     "output_type": "display_data"
    },
    {
     "data": {
      "text/html": [
       "<div>\n",
       "<style scoped>\n",
       "    .dataframe tbody tr th:only-of-type {\n",
       "        vertical-align: middle;\n",
       "    }\n",
       "\n",
       "    .dataframe tbody tr th {\n",
       "        vertical-align: top;\n",
       "    }\n",
       "\n",
       "    .dataframe thead th {\n",
       "        text-align: right;\n",
       "    }\n",
       "</style>\n",
       "<table border=\"1\" class=\"dataframe\">\n",
       "  <thead>\n",
       "    <tr style=\"text-align: right;\">\n",
       "      <th></th>\n",
       "      <th>visit_id</th>\n",
       "      <th>day_obs</th>\n",
       "      <th>seq_num</th>\n",
       "      <th>time_target</th>\n",
       "      <th>time_observation</th>\n",
       "      <th>obs_start</th>\n",
       "      <th>scriptSalIndex</th>\n",
       "      <th>target_name</th>\n",
       "      <th>s_ra</th>\n",
       "      <th>s_dec</th>\n",
       "      <th>sky_rotation</th>\n",
       "      <th>band</th>\n",
       "      <th>psf_sigma_median</th>\n",
       "      <th>zero_point_1s</th>\n",
       "      <th>zero_point_1s_pred</th>\n",
       "      <th>clouds</th>\n",
       "      <th>science_program</th>\n",
       "      <th>target_name</th>\n",
       "    </tr>\n",
       "  </thead>\n",
       "  <tbody>\n",
       "    <tr>\n",
       "      <th>586</th>\n",
       "      <td>2025070100727</td>\n",
       "      <td>20250701</td>\n",
       "      <td>727</td>\n",
       "      <td>2025-07-02 08:10:00.911981+00:00</td>\n",
       "      <td>2025-07-02 08:11:19.179634+00:00</td>\n",
       "      <td>2025-07-02T08:11:24.375000</td>\n",
       "      <td>110767</td>\n",
       "      <td>lowdust</td>\n",
       "      <td>338.954887</td>\n",
       "      <td>-1.291346</td>\n",
       "      <td>70.785161</td>\n",
       "      <td>r</td>\n",
       "      <td>2.696711</td>\n",
       "      <td>26.829344</td>\n",
       "      <td>28.450834</td>\n",
       "      <td>-1.62149</td>\n",
       "      <td>BLOCK-365</td>\n",
       "      <td>lowdust</td>\n",
       "    </tr>\n",
       "  </tbody>\n",
       "</table>\n",
       "</div>"
      ],
      "text/plain": [
       "          visit_id   day_obs seq_num                       time_target  \\\n",
       "586  2025070100727  20250701     727  2025-07-02 08:10:00.911981+00:00   \n",
       "\n",
       "                     time_observation                   obs_start  \\\n",
       "586  2025-07-02 08:11:19.179634+00:00  2025-07-02T08:11:24.375000   \n",
       "\n",
       "    scriptSalIndex target_name        s_ra     s_dec sky_rotation band  \\\n",
       "586         110767     lowdust  338.954887 -1.291346    70.785161    r   \n",
       "\n",
       "    psf_sigma_median zero_point_1s zero_point_1s_pred   clouds  \\\n",
       "586         2.696711     26.829344          28.450834 -1.62149   \n",
       "\n",
       "    science_program target_name  \n",
       "586       BLOCK-365     lowdust  "
      ]
     },
     "metadata": {},
     "output_type": "display_data"
    },
    {
     "name": "stdout",
     "output_type": "stream",
     "text": [
      "IMG_TYPE science. Flags: big zeropoint offset.\n"
     ]
    },
    {
     "data": {
      "text/html": [
       "<a href=\"https://usdf-rsp.slac.stanford.edu/rubintv/summit-usdf/lsstcam/event?key=lsstcam/2025-07-01/calexp_mosaic/000727/lsstcam_calexp_mosaic_2025-07-01_000727.jpg\" target=\"_blank\" rel=\"noreferrer noopener\">https://usdf-rsp.slac.stanford.edu/rubintv/summit-usdf/lsstcam/event?key=lsstcam/2025-07-01/calexp_mosaic/000727/lsstcam_calexp_mosaic_2025-07-01_000727.jpg</a>"
      ],
      "text/plain": [
       "<IPython.core.display.HTML object>"
      ]
     },
     "metadata": {},
     "output_type": "display_data"
    },
    {
     "data": {
      "text/html": [
       "<a href=\"https://usdf-rsp.slac.stanford.edu/rubintv/summit-usdf/lsstcam/event?key=lsstcam/2025-07-01/witness_detector/000727/lsstcam_witness_detector_2025-07-01_000727.jpg\" target=\"_blank\" rel=\"noreferrer noopener\">https://usdf-rsp.slac.stanford.edu/rubintv/summit-usdf/lsstcam/event?key=lsstcam/2025-07-01/witness_detector/000727/lsstcam_witness_detector_2025-07-01_000727.jpg</a>"
      ],
      "text/plain": [
       "<IPython.core.display.HTML object>"
      ]
     },
     "metadata": {},
     "output_type": "display_data"
    },
    {
     "data": {
      "text/html": [
       "<br>"
      ],
      "text/plain": [
       "<IPython.core.display.HTML object>"
      ]
     },
     "metadata": {},
     "output_type": "display_data"
    },
    {
     "data": {
      "text/html": [
       "<div>\n",
       "<style scoped>\n",
       "    .dataframe tbody tr th:only-of-type {\n",
       "        vertical-align: middle;\n",
       "    }\n",
       "\n",
       "    .dataframe tbody tr th {\n",
       "        vertical-align: top;\n",
       "    }\n",
       "\n",
       "    .dataframe thead th {\n",
       "        text-align: right;\n",
       "    }\n",
       "</style>\n",
       "<table border=\"1\" class=\"dataframe\">\n",
       "  <thead>\n",
       "    <tr style=\"text-align: right;\">\n",
       "      <th></th>\n",
       "      <th>visit_id</th>\n",
       "      <th>day_obs</th>\n",
       "      <th>seq_num</th>\n",
       "      <th>time_target</th>\n",
       "      <th>time_observation</th>\n",
       "      <th>obs_start</th>\n",
       "      <th>scriptSalIndex</th>\n",
       "      <th>target_name</th>\n",
       "      <th>s_ra</th>\n",
       "      <th>s_dec</th>\n",
       "      <th>sky_rotation</th>\n",
       "      <th>band</th>\n",
       "      <th>psf_sigma_median</th>\n",
       "      <th>zero_point_1s</th>\n",
       "      <th>zero_point_1s_pred</th>\n",
       "      <th>clouds</th>\n",
       "      <th>science_program</th>\n",
       "      <th>target_name</th>\n",
       "    </tr>\n",
       "  </thead>\n",
       "  <tbody>\n",
       "    <tr>\n",
       "      <th>589</th>\n",
       "      <td>2025070100730</td>\n",
       "      <td>20250701</td>\n",
       "      <td>730</td>\n",
       "      <td>2025-07-02 08:12:01.796632+00:00</td>\n",
       "      <td>2025-07-02 08:13:22.262133+00:00</td>\n",
       "      <td>2025-07-02T08:13:27.774000</td>\n",
       "      <td>110770</td>\n",
       "      <td>lowdust</td>\n",
       "      <td>334.668469</td>\n",
       "      <td>-4.258251</td>\n",
       "      <td>65.245343</td>\n",
       "      <td>r</td>\n",
       "      <td>2.858666</td>\n",
       "      <td>26.647441</td>\n",
       "      <td>28.455441</td>\n",
       "      <td>-1.808</td>\n",
       "      <td>BLOCK-365</td>\n",
       "      <td>lowdust</td>\n",
       "    </tr>\n",
       "  </tbody>\n",
       "</table>\n",
       "</div>"
      ],
      "text/plain": [
       "          visit_id   day_obs seq_num                       time_target  \\\n",
       "589  2025070100730  20250701     730  2025-07-02 08:12:01.796632+00:00   \n",
       "\n",
       "                     time_observation                   obs_start  \\\n",
       "589  2025-07-02 08:13:22.262133+00:00  2025-07-02T08:13:27.774000   \n",
       "\n",
       "    scriptSalIndex target_name        s_ra     s_dec sky_rotation band  \\\n",
       "589         110770     lowdust  334.668469 -4.258251    65.245343    r   \n",
       "\n",
       "    psf_sigma_median zero_point_1s zero_point_1s_pred clouds science_program  \\\n",
       "589         2.858666     26.647441          28.455441 -1.808       BLOCK-365   \n",
       "\n",
       "    target_name  \n",
       "589     lowdust  "
      ]
     },
     "metadata": {},
     "output_type": "display_data"
    },
    {
     "name": "stdout",
     "output_type": "stream",
     "text": [
      "IMG_TYPE science. Flags: big zeropoint offset.\n"
     ]
    },
    {
     "data": {
      "text/html": [
       "<a href=\"https://usdf-rsp.slac.stanford.edu/rubintv/summit-usdf/lsstcam/event?key=lsstcam/2025-07-01/calexp_mosaic/000730/lsstcam_calexp_mosaic_2025-07-01_000730.jpg\" target=\"_blank\" rel=\"noreferrer noopener\">https://usdf-rsp.slac.stanford.edu/rubintv/summit-usdf/lsstcam/event?key=lsstcam/2025-07-01/calexp_mosaic/000730/lsstcam_calexp_mosaic_2025-07-01_000730.jpg</a>"
      ],
      "text/plain": [
       "<IPython.core.display.HTML object>"
      ]
     },
     "metadata": {},
     "output_type": "display_data"
    },
    {
     "data": {
      "text/html": [
       "<a href=\"https://usdf-rsp.slac.stanford.edu/rubintv/summit-usdf/lsstcam/event?key=lsstcam/2025-07-01/witness_detector/000730/lsstcam_witness_detector_2025-07-01_000730.jpg\" target=\"_blank\" rel=\"noreferrer noopener\">https://usdf-rsp.slac.stanford.edu/rubintv/summit-usdf/lsstcam/event?key=lsstcam/2025-07-01/witness_detector/000730/lsstcam_witness_detector_2025-07-01_000730.jpg</a>"
      ],
      "text/plain": [
       "<IPython.core.display.HTML object>"
      ]
     },
     "metadata": {},
     "output_type": "display_data"
    },
    {
     "data": {
      "text/html": [
       "<br>"
      ],
      "text/plain": [
       "<IPython.core.display.HTML object>"
      ]
     },
     "metadata": {},
     "output_type": "display_data"
    },
    {
     "data": {
      "text/html": [
       "<div>\n",
       "<style scoped>\n",
       "    .dataframe tbody tr th:only-of-type {\n",
       "        vertical-align: middle;\n",
       "    }\n",
       "\n",
       "    .dataframe tbody tr th {\n",
       "        vertical-align: top;\n",
       "    }\n",
       "\n",
       "    .dataframe thead th {\n",
       "        text-align: right;\n",
       "    }\n",
       "</style>\n",
       "<table border=\"1\" class=\"dataframe\">\n",
       "  <thead>\n",
       "    <tr style=\"text-align: right;\">\n",
       "      <th></th>\n",
       "      <th>visit_id</th>\n",
       "      <th>day_obs</th>\n",
       "      <th>seq_num</th>\n",
       "      <th>time_target</th>\n",
       "      <th>time_observation</th>\n",
       "      <th>obs_start</th>\n",
       "      <th>scriptSalIndex</th>\n",
       "      <th>target_name</th>\n",
       "      <th>s_ra</th>\n",
       "      <th>s_dec</th>\n",
       "      <th>sky_rotation</th>\n",
       "      <th>band</th>\n",
       "      <th>psf_sigma_median</th>\n",
       "      <th>zero_point_1s</th>\n",
       "      <th>zero_point_1s_pred</th>\n",
       "      <th>clouds</th>\n",
       "      <th>science_program</th>\n",
       "      <th>target_name</th>\n",
       "    </tr>\n",
       "  </thead>\n",
       "  <tbody>\n",
       "    <tr>\n",
       "      <th>590</th>\n",
       "      <td>2025070100741</td>\n",
       "      <td>20250701</td>\n",
       "      <td>741</td>\n",
       "      <td>2025-07-02 08:12:45.178217+00:00</td>\n",
       "      <td>2025-07-02 08:22:52.023254+00:00</td>\n",
       "      <td>2025-07-02T08:22:57.944000</td>\n",
       "      <td>110771</td>\n",
       "      <td>lowdust</td>\n",
       "      <td>337.507297</td>\n",
       "      <td>-4.117965</td>\n",
       "      <td>70.161245</td>\n",
       "      <td>r</td>\n",
       "      <td>2.873732</td>\n",
       "      <td>26.387485</td>\n",
       "      <td>28.455235</td>\n",
       "      <td>-2.06775</td>\n",
       "      <td>BLOCK-365</td>\n",
       "      <td>lowdust</td>\n",
       "    </tr>\n",
       "  </tbody>\n",
       "</table>\n",
       "</div>"
      ],
      "text/plain": [
       "          visit_id   day_obs seq_num                       time_target  \\\n",
       "590  2025070100741  20250701     741  2025-07-02 08:12:45.178217+00:00   \n",
       "\n",
       "                     time_observation                   obs_start  \\\n",
       "590  2025-07-02 08:22:52.023254+00:00  2025-07-02T08:22:57.944000   \n",
       "\n",
       "    scriptSalIndex target_name        s_ra     s_dec sky_rotation band  \\\n",
       "590         110771     lowdust  337.507297 -4.117965    70.161245    r   \n",
       "\n",
       "    psf_sigma_median zero_point_1s zero_point_1s_pred   clouds  \\\n",
       "590         2.873732     26.387485          28.455235 -2.06775   \n",
       "\n",
       "    science_program target_name  \n",
       "590       BLOCK-365     lowdust  "
      ]
     },
     "metadata": {},
     "output_type": "display_data"
    },
    {
     "name": "stdout",
     "output_type": "stream",
     "text": [
      "IMG_TYPE science. Flags: big zeropoint offset.\n"
     ]
    },
    {
     "data": {
      "text/html": [
       "<a href=\"https://usdf-rsp.slac.stanford.edu/rubintv/summit-usdf/lsstcam/event?key=lsstcam/2025-07-01/calexp_mosaic/000741/lsstcam_calexp_mosaic_2025-07-01_000741.jpg\" target=\"_blank\" rel=\"noreferrer noopener\">https://usdf-rsp.slac.stanford.edu/rubintv/summit-usdf/lsstcam/event?key=lsstcam/2025-07-01/calexp_mosaic/000741/lsstcam_calexp_mosaic_2025-07-01_000741.jpg</a>"
      ],
      "text/plain": [
       "<IPython.core.display.HTML object>"
      ]
     },
     "metadata": {},
     "output_type": "display_data"
    },
    {
     "data": {
      "text/html": [
       "<a href=\"https://usdf-rsp.slac.stanford.edu/rubintv/summit-usdf/lsstcam/event?key=lsstcam/2025-07-01/witness_detector/000741/lsstcam_witness_detector_2025-07-01_000741.jpg\" target=\"_blank\" rel=\"noreferrer noopener\">https://usdf-rsp.slac.stanford.edu/rubintv/summit-usdf/lsstcam/event?key=lsstcam/2025-07-01/witness_detector/000741/lsstcam_witness_detector_2025-07-01_000741.jpg</a>"
      ],
      "text/plain": [
       "<IPython.core.display.HTML object>"
      ]
     },
     "metadata": {},
     "output_type": "display_data"
    },
    {
     "data": {
      "text/html": [
       "<br>"
      ],
      "text/plain": [
       "<IPython.core.display.HTML object>"
      ]
     },
     "metadata": {},
     "output_type": "display_data"
    },
    {
     "data": {
      "text/html": [
       "<div>\n",
       "<style scoped>\n",
       "    .dataframe tbody tr th:only-of-type {\n",
       "        vertical-align: middle;\n",
       "    }\n",
       "\n",
       "    .dataframe tbody tr th {\n",
       "        vertical-align: top;\n",
       "    }\n",
       "\n",
       "    .dataframe thead th {\n",
       "        text-align: right;\n",
       "    }\n",
       "</style>\n",
       "<table border=\"1\" class=\"dataframe\">\n",
       "  <thead>\n",
       "    <tr style=\"text-align: right;\">\n",
       "      <th></th>\n",
       "      <th>visit_id</th>\n",
       "      <th>day_obs</th>\n",
       "      <th>seq_num</th>\n",
       "      <th>time_target</th>\n",
       "      <th>time_observation</th>\n",
       "      <th>obs_start</th>\n",
       "      <th>scriptSalIndex</th>\n",
       "      <th>target_name</th>\n",
       "      <th>s_ra</th>\n",
       "      <th>s_dec</th>\n",
       "      <th>sky_rotation</th>\n",
       "      <th>band</th>\n",
       "      <th>psf_sigma_median</th>\n",
       "      <th>zero_point_1s</th>\n",
       "      <th>zero_point_1s_pred</th>\n",
       "      <th>clouds</th>\n",
       "      <th>science_program</th>\n",
       "      <th>target_name</th>\n",
       "    </tr>\n",
       "  </thead>\n",
       "  <tbody>\n",
       "    <tr>\n",
       "      <th>591</th>\n",
       "      <td>2025070100742</td>\n",
       "      <td>20250701</td>\n",
       "      <td>742</td>\n",
       "      <td>2025-07-02 08:22:11.947113+00:00</td>\n",
       "      <td>2025-07-02 08:23:37.198677+00:00</td>\n",
       "      <td>2025-07-02T08:23:42.183000</td>\n",
       "      <td>110772</td>\n",
       "      <td>lowdust</td>\n",
       "      <td>340.341204</td>\n",
       "      <td>-3.948448</td>\n",
       "      <td>74.663776</td>\n",
       "      <td>r</td>\n",
       "      <td>2.997037</td>\n",
       "      <td>26.551678</td>\n",
       "      <td>28.45464</td>\n",
       "      <td>-1.902961</td>\n",
       "      <td>BLOCK-365</td>\n",
       "      <td>lowdust</td>\n",
       "    </tr>\n",
       "  </tbody>\n",
       "</table>\n",
       "</div>"
      ],
      "text/plain": [
       "          visit_id   day_obs seq_num                       time_target  \\\n",
       "591  2025070100742  20250701     742  2025-07-02 08:22:11.947113+00:00   \n",
       "\n",
       "                     time_observation                   obs_start  \\\n",
       "591  2025-07-02 08:23:37.198677+00:00  2025-07-02T08:23:42.183000   \n",
       "\n",
       "    scriptSalIndex target_name        s_ra     s_dec sky_rotation band  \\\n",
       "591         110772     lowdust  340.341204 -3.948448    74.663776    r   \n",
       "\n",
       "    psf_sigma_median zero_point_1s zero_point_1s_pred    clouds  \\\n",
       "591         2.997037     26.551678           28.45464 -1.902961   \n",
       "\n",
       "    science_program target_name  \n",
       "591       BLOCK-365     lowdust  "
      ]
     },
     "metadata": {},
     "output_type": "display_data"
    },
    {
     "name": "stdout",
     "output_type": "stream",
     "text": [
      "IMG_TYPE science. Flags: big zeropoint offset.\n"
     ]
    },
    {
     "data": {
      "text/html": [
       "<a href=\"https://usdf-rsp.slac.stanford.edu/rubintv/summit-usdf/lsstcam/event?key=lsstcam/2025-07-01/calexp_mosaic/000742/lsstcam_calexp_mosaic_2025-07-01_000742.jpg\" target=\"_blank\" rel=\"noreferrer noopener\">https://usdf-rsp.slac.stanford.edu/rubintv/summit-usdf/lsstcam/event?key=lsstcam/2025-07-01/calexp_mosaic/000742/lsstcam_calexp_mosaic_2025-07-01_000742.jpg</a>"
      ],
      "text/plain": [
       "<IPython.core.display.HTML object>"
      ]
     },
     "metadata": {},
     "output_type": "display_data"
    },
    {
     "data": {
      "text/html": [
       "<a href=\"https://usdf-rsp.slac.stanford.edu/rubintv/summit-usdf/lsstcam/event?key=lsstcam/2025-07-01/witness_detector/000742/lsstcam_witness_detector_2025-07-01_000742.jpg\" target=\"_blank\" rel=\"noreferrer noopener\">https://usdf-rsp.slac.stanford.edu/rubintv/summit-usdf/lsstcam/event?key=lsstcam/2025-07-01/witness_detector/000742/lsstcam_witness_detector_2025-07-01_000742.jpg</a>"
      ],
      "text/plain": [
       "<IPython.core.display.HTML object>"
      ]
     },
     "metadata": {},
     "output_type": "display_data"
    },
    {
     "data": {
      "text/html": [
       "<br>"
      ],
      "text/plain": [
       "<IPython.core.display.HTML object>"
      ]
     },
     "metadata": {},
     "output_type": "display_data"
    },
    {
     "data": {
      "text/html": [
       "<div>\n",
       "<style scoped>\n",
       "    .dataframe tbody tr th:only-of-type {\n",
       "        vertical-align: middle;\n",
       "    }\n",
       "\n",
       "    .dataframe tbody tr th {\n",
       "        vertical-align: top;\n",
       "    }\n",
       "\n",
       "    .dataframe thead th {\n",
       "        text-align: right;\n",
       "    }\n",
       "</style>\n",
       "<table border=\"1\" class=\"dataframe\">\n",
       "  <thead>\n",
       "    <tr style=\"text-align: right;\">\n",
       "      <th></th>\n",
       "      <th>visit_id</th>\n",
       "      <th>day_obs</th>\n",
       "      <th>seq_num</th>\n",
       "      <th>time_target</th>\n",
       "      <th>time_observation</th>\n",
       "      <th>obs_start</th>\n",
       "      <th>scriptSalIndex</th>\n",
       "      <th>target_name</th>\n",
       "      <th>s_ra</th>\n",
       "      <th>s_dec</th>\n",
       "      <th>sky_rotation</th>\n",
       "      <th>band</th>\n",
       "      <th>psf_sigma_median</th>\n",
       "      <th>zero_point_1s</th>\n",
       "      <th>zero_point_1s_pred</th>\n",
       "      <th>clouds</th>\n",
       "      <th>science_program</th>\n",
       "      <th>target_name</th>\n",
       "    </tr>\n",
       "  </thead>\n",
       "  <tbody>\n",
       "    <tr>\n",
       "      <th>592</th>\n",
       "      <td>2025070100743</td>\n",
       "      <td>20250701</td>\n",
       "      <td>743</td>\n",
       "      <td>2025-07-02 08:22:53.099436+00:00</td>\n",
       "      <td>2025-07-02 08:24:16.377649+00:00</td>\n",
       "      <td>2025-07-02T08:24:21.696000</td>\n",
       "      <td>110773</td>\n",
       "      <td>lowdust</td>\n",
       "      <td>341.771561</td>\n",
       "      <td>-6.626719</td>\n",
       "      <td>79.118516</td>\n",
       "      <td>r</td>\n",
       "      <td>3.156031</td>\n",
       "      <td>26.004741</td>\n",
       "      <td>28.457332</td>\n",
       "      <td>-2.452591</td>\n",
       "      <td>BLOCK-365</td>\n",
       "      <td>lowdust</td>\n",
       "    </tr>\n",
       "  </tbody>\n",
       "</table>\n",
       "</div>"
      ],
      "text/plain": [
       "          visit_id   day_obs seq_num                       time_target  \\\n",
       "592  2025070100743  20250701     743  2025-07-02 08:22:53.099436+00:00   \n",
       "\n",
       "                     time_observation                   obs_start  \\\n",
       "592  2025-07-02 08:24:16.377649+00:00  2025-07-02T08:24:21.696000   \n",
       "\n",
       "    scriptSalIndex target_name        s_ra     s_dec sky_rotation band  \\\n",
       "592         110773     lowdust  341.771561 -6.626719    79.118516    r   \n",
       "\n",
       "    psf_sigma_median zero_point_1s zero_point_1s_pred    clouds  \\\n",
       "592         3.156031     26.004741          28.457332 -2.452591   \n",
       "\n",
       "    science_program target_name  \n",
       "592       BLOCK-365     lowdust  "
      ]
     },
     "metadata": {},
     "output_type": "display_data"
    },
    {
     "name": "stdout",
     "output_type": "stream",
     "text": [
      "IMG_TYPE science. Flags: big zeropoint offset.\n"
     ]
    },
    {
     "data": {
      "text/html": [
       "<a href=\"https://usdf-rsp.slac.stanford.edu/rubintv/summit-usdf/lsstcam/event?key=lsstcam/2025-07-01/calexp_mosaic/000743/lsstcam_calexp_mosaic_2025-07-01_000743.jpg\" target=\"_blank\" rel=\"noreferrer noopener\">https://usdf-rsp.slac.stanford.edu/rubintv/summit-usdf/lsstcam/event?key=lsstcam/2025-07-01/calexp_mosaic/000743/lsstcam_calexp_mosaic_2025-07-01_000743.jpg</a>"
      ],
      "text/plain": [
       "<IPython.core.display.HTML object>"
      ]
     },
     "metadata": {},
     "output_type": "display_data"
    },
    {
     "data": {
      "text/html": [
       "<a href=\"https://usdf-rsp.slac.stanford.edu/rubintv/summit-usdf/lsstcam/event?key=lsstcam/2025-07-01/witness_detector/000743/lsstcam_witness_detector_2025-07-01_000743.jpg\" target=\"_blank\" rel=\"noreferrer noopener\">https://usdf-rsp.slac.stanford.edu/rubintv/summit-usdf/lsstcam/event?key=lsstcam/2025-07-01/witness_detector/000743/lsstcam_witness_detector_2025-07-01_000743.jpg</a>"
      ],
      "text/plain": [
       "<IPython.core.display.HTML object>"
      ]
     },
     "metadata": {},
     "output_type": "display_data"
    },
    {
     "data": {
      "text/html": [
       "<br>"
      ],
      "text/plain": [
       "<IPython.core.display.HTML object>"
      ]
     },
     "metadata": {},
     "output_type": "display_data"
    },
    {
     "data": {
      "text/html": [
       "<div>\n",
       "<style scoped>\n",
       "    .dataframe tbody tr th:only-of-type {\n",
       "        vertical-align: middle;\n",
       "    }\n",
       "\n",
       "    .dataframe tbody tr th {\n",
       "        vertical-align: top;\n",
       "    }\n",
       "\n",
       "    .dataframe thead th {\n",
       "        text-align: right;\n",
       "    }\n",
       "</style>\n",
       "<table border=\"1\" class=\"dataframe\">\n",
       "  <thead>\n",
       "    <tr style=\"text-align: right;\">\n",
       "      <th></th>\n",
       "      <th>visit_id</th>\n",
       "      <th>day_obs</th>\n",
       "      <th>seq_num</th>\n",
       "      <th>time_target</th>\n",
       "      <th>time_observation</th>\n",
       "      <th>obs_start</th>\n",
       "      <th>scriptSalIndex</th>\n",
       "      <th>target_name</th>\n",
       "      <th>s_ra</th>\n",
       "      <th>s_dec</th>\n",
       "      <th>sky_rotation</th>\n",
       "      <th>band</th>\n",
       "      <th>psf_sigma_median</th>\n",
       "      <th>zero_point_1s</th>\n",
       "      <th>zero_point_1s_pred</th>\n",
       "      <th>clouds</th>\n",
       "      <th>science_program</th>\n",
       "      <th>target_name</th>\n",
       "    </tr>\n",
       "  </thead>\n",
       "  <tbody>\n",
       "    <tr>\n",
       "      <th>593</th>\n",
       "      <td>2025070100744</td>\n",
       "      <td>20250701</td>\n",
       "      <td>744</td>\n",
       "      <td>2025-07-02 08:23:38.283110+00:00</td>\n",
       "      <td>2025-07-02 08:24:58.206765+00:00</td>\n",
       "      <td>2025-07-02T08:25:03.736000</td>\n",
       "      <td>110774</td>\n",
       "      <td>lowdust</td>\n",
       "      <td>338.955491</td>\n",
       "      <td>-6.809973</td>\n",
       "      <td>74.627796</td>\n",
       "      <td>r</td>\n",
       "      <td>3.118853</td>\n",
       "      <td>25.58909</td>\n",
       "      <td>28.45807</td>\n",
       "      <td>-2.86898</td>\n",
       "      <td>BLOCK-365</td>\n",
       "      <td>lowdust</td>\n",
       "    </tr>\n",
       "  </tbody>\n",
       "</table>\n",
       "</div>"
      ],
      "text/plain": [
       "          visit_id   day_obs seq_num                       time_target  \\\n",
       "593  2025070100744  20250701     744  2025-07-02 08:23:38.283110+00:00   \n",
       "\n",
       "                     time_observation                   obs_start  \\\n",
       "593  2025-07-02 08:24:58.206765+00:00  2025-07-02T08:25:03.736000   \n",
       "\n",
       "    scriptSalIndex target_name        s_ra     s_dec sky_rotation band  \\\n",
       "593         110774     lowdust  338.955491 -6.809973    74.627796    r   \n",
       "\n",
       "    psf_sigma_median zero_point_1s zero_point_1s_pred   clouds  \\\n",
       "593         3.118853      25.58909           28.45807 -2.86898   \n",
       "\n",
       "    science_program target_name  \n",
       "593       BLOCK-365     lowdust  "
      ]
     },
     "metadata": {},
     "output_type": "display_data"
    },
    {
     "name": "stdout",
     "output_type": "stream",
     "text": [
      "IMG_TYPE science. Flags: big zeropoint offset.\n"
     ]
    },
    {
     "data": {
      "text/html": [
       "<a href=\"https://usdf-rsp.slac.stanford.edu/rubintv/summit-usdf/lsstcam/event?key=lsstcam/2025-07-01/calexp_mosaic/000744/lsstcam_calexp_mosaic_2025-07-01_000744.jpg\" target=\"_blank\" rel=\"noreferrer noopener\">https://usdf-rsp.slac.stanford.edu/rubintv/summit-usdf/lsstcam/event?key=lsstcam/2025-07-01/calexp_mosaic/000744/lsstcam_calexp_mosaic_2025-07-01_000744.jpg</a>"
      ],
      "text/plain": [
       "<IPython.core.display.HTML object>"
      ]
     },
     "metadata": {},
     "output_type": "display_data"
    },
    {
     "data": {
      "text/html": [
       "<a href=\"https://usdf-rsp.slac.stanford.edu/rubintv/summit-usdf/lsstcam/event?key=lsstcam/2025-07-01/witness_detector/000744/lsstcam_witness_detector_2025-07-01_000744.jpg\" target=\"_blank\" rel=\"noreferrer noopener\">https://usdf-rsp.slac.stanford.edu/rubintv/summit-usdf/lsstcam/event?key=lsstcam/2025-07-01/witness_detector/000744/lsstcam_witness_detector_2025-07-01_000744.jpg</a>"
      ],
      "text/plain": [
       "<IPython.core.display.HTML object>"
      ]
     },
     "metadata": {},
     "output_type": "display_data"
    },
    {
     "data": {
      "text/html": [
       "<br>"
      ],
      "text/plain": [
       "<IPython.core.display.HTML object>"
      ]
     },
     "metadata": {},
     "output_type": "display_data"
    },
    {
     "data": {
      "text/html": [
       "<div>\n",
       "<style scoped>\n",
       "    .dataframe tbody tr th:only-of-type {\n",
       "        vertical-align: middle;\n",
       "    }\n",
       "\n",
       "    .dataframe tbody tr th {\n",
       "        vertical-align: top;\n",
       "    }\n",
       "\n",
       "    .dataframe thead th {\n",
       "        text-align: right;\n",
       "    }\n",
       "</style>\n",
       "<table border=\"1\" class=\"dataframe\">\n",
       "  <thead>\n",
       "    <tr style=\"text-align: right;\">\n",
       "      <th></th>\n",
       "      <th>visit_id</th>\n",
       "      <th>day_obs</th>\n",
       "      <th>seq_num</th>\n",
       "      <th>time_target</th>\n",
       "      <th>time_observation</th>\n",
       "      <th>obs_start</th>\n",
       "      <th>scriptSalIndex</th>\n",
       "      <th>target_name</th>\n",
       "      <th>s_ra</th>\n",
       "      <th>s_dec</th>\n",
       "      <th>sky_rotation</th>\n",
       "      <th>band</th>\n",
       "      <th>psf_sigma_median</th>\n",
       "      <th>zero_point_1s</th>\n",
       "      <th>zero_point_1s_pred</th>\n",
       "      <th>clouds</th>\n",
       "      <th>science_program</th>\n",
       "      <th>target_name</th>\n",
       "    </tr>\n",
       "  </thead>\n",
       "  <tbody>\n",
       "    <tr>\n",
       "      <th>594</th>\n",
       "      <td>2025070100745</td>\n",
       "      <td>20250701</td>\n",
       "      <td>745</td>\n",
       "      <td>2025-07-02 08:24:18.115308+00:00</td>\n",
       "      <td>2025-07-02 08:25:40.394664+00:00</td>\n",
       "      <td>2025-07-02T08:25:46.066000</td>\n",
       "      <td>110775</td>\n",
       "      <td>lowdust</td>\n",
       "      <td>336.129099</td>\n",
       "      <td>-6.963899</td>\n",
       "      <td>69.592411</td>\n",
       "      <td>r</td>\n",
       "      <td>2.944674</td>\n",
       "      <td>25.432708</td>\n",
       "      <td>28.458433</td>\n",
       "      <td>-3.025725</td>\n",
       "      <td>BLOCK-365</td>\n",
       "      <td>lowdust</td>\n",
       "    </tr>\n",
       "  </tbody>\n",
       "</table>\n",
       "</div>"
      ],
      "text/plain": [
       "          visit_id   day_obs seq_num                       time_target  \\\n",
       "594  2025070100745  20250701     745  2025-07-02 08:24:18.115308+00:00   \n",
       "\n",
       "                     time_observation                   obs_start  \\\n",
       "594  2025-07-02 08:25:40.394664+00:00  2025-07-02T08:25:46.066000   \n",
       "\n",
       "    scriptSalIndex target_name        s_ra     s_dec sky_rotation band  \\\n",
       "594         110775     lowdust  336.129099 -6.963899    69.592411    r   \n",
       "\n",
       "    psf_sigma_median zero_point_1s zero_point_1s_pred    clouds  \\\n",
       "594         2.944674     25.432708          28.458433 -3.025725   \n",
       "\n",
       "    science_program target_name  \n",
       "594       BLOCK-365     lowdust  "
      ]
     },
     "metadata": {},
     "output_type": "display_data"
    },
    {
     "name": "stdout",
     "output_type": "stream",
     "text": [
      "IMG_TYPE science. Flags: big zeropoint offset.\n"
     ]
    },
    {
     "data": {
      "text/html": [
       "<a href=\"https://usdf-rsp.slac.stanford.edu/rubintv/summit-usdf/lsstcam/event?key=lsstcam/2025-07-01/calexp_mosaic/000745/lsstcam_calexp_mosaic_2025-07-01_000745.jpg\" target=\"_blank\" rel=\"noreferrer noopener\">https://usdf-rsp.slac.stanford.edu/rubintv/summit-usdf/lsstcam/event?key=lsstcam/2025-07-01/calexp_mosaic/000745/lsstcam_calexp_mosaic_2025-07-01_000745.jpg</a>"
      ],
      "text/plain": [
       "<IPython.core.display.HTML object>"
      ]
     },
     "metadata": {},
     "output_type": "display_data"
    },
    {
     "data": {
      "text/html": [
       "<a href=\"https://usdf-rsp.slac.stanford.edu/rubintv/summit-usdf/lsstcam/event?key=lsstcam/2025-07-01/witness_detector/000745/lsstcam_witness_detector_2025-07-01_000745.jpg\" target=\"_blank\" rel=\"noreferrer noopener\">https://usdf-rsp.slac.stanford.edu/rubintv/summit-usdf/lsstcam/event?key=lsstcam/2025-07-01/witness_detector/000745/lsstcam_witness_detector_2025-07-01_000745.jpg</a>"
      ],
      "text/plain": [
       "<IPython.core.display.HTML object>"
      ]
     },
     "metadata": {},
     "output_type": "display_data"
    },
    {
     "data": {
      "text/html": [
       "<br>"
      ],
      "text/plain": [
       "<IPython.core.display.HTML object>"
      ]
     },
     "metadata": {},
     "output_type": "display_data"
    },
    {
     "data": {
      "text/html": [
       "<div>\n",
       "<style scoped>\n",
       "    .dataframe tbody tr th:only-of-type {\n",
       "        vertical-align: middle;\n",
       "    }\n",
       "\n",
       "    .dataframe tbody tr th {\n",
       "        vertical-align: top;\n",
       "    }\n",
       "\n",
       "    .dataframe thead th {\n",
       "        text-align: right;\n",
       "    }\n",
       "</style>\n",
       "<table border=\"1\" class=\"dataframe\">\n",
       "  <thead>\n",
       "    <tr style=\"text-align: right;\">\n",
       "      <th></th>\n",
       "      <th>visit_id</th>\n",
       "      <th>day_obs</th>\n",
       "      <th>seq_num</th>\n",
       "      <th>time_target</th>\n",
       "      <th>time_observation</th>\n",
       "      <th>obs_start</th>\n",
       "      <th>scriptSalIndex</th>\n",
       "      <th>target_name</th>\n",
       "      <th>s_ra</th>\n",
       "      <th>s_dec</th>\n",
       "      <th>sky_rotation</th>\n",
       "      <th>band</th>\n",
       "      <th>psf_sigma_median</th>\n",
       "      <th>zero_point_1s</th>\n",
       "      <th>zero_point_1s_pred</th>\n",
       "      <th>clouds</th>\n",
       "      <th>science_program</th>\n",
       "      <th>target_name</th>\n",
       "    </tr>\n",
       "  </thead>\n",
       "  <tbody>\n",
       "    <tr>\n",
       "      <th>595</th>\n",
       "      <td>2025070100746</td>\n",
       "      <td>20250701</td>\n",
       "      <td>746</td>\n",
       "      <td>2025-07-02 08:24:59.292949+00:00</td>\n",
       "      <td>2025-07-02 08:26:19.596743+00:00</td>\n",
       "      <td>2025-07-02T08:26:25.397000</td>\n",
       "      <td>110776</td>\n",
       "      <td>lowdust</td>\n",
       "      <td>337.634054</td>\n",
       "      <td>-9.679446</td>\n",
       "      <td>74.785213</td>\n",
       "      <td>r</td>\n",
       "      <td>2.93435</td>\n",
       "      <td>25.476508</td>\n",
       "      <td>28.46091</td>\n",
       "      <td>-2.984401</td>\n",
       "      <td>BLOCK-365</td>\n",
       "      <td>lowdust</td>\n",
       "    </tr>\n",
       "  </tbody>\n",
       "</table>\n",
       "</div>"
      ],
      "text/plain": [
       "          visit_id   day_obs seq_num                       time_target  \\\n",
       "595  2025070100746  20250701     746  2025-07-02 08:24:59.292949+00:00   \n",
       "\n",
       "                     time_observation                   obs_start  \\\n",
       "595  2025-07-02 08:26:19.596743+00:00  2025-07-02T08:26:25.397000   \n",
       "\n",
       "    scriptSalIndex target_name        s_ra     s_dec sky_rotation band  \\\n",
       "595         110776     lowdust  337.634054 -9.679446    74.785213    r   \n",
       "\n",
       "    psf_sigma_median zero_point_1s zero_point_1s_pred    clouds  \\\n",
       "595          2.93435     25.476508           28.46091 -2.984401   \n",
       "\n",
       "    science_program target_name  \n",
       "595       BLOCK-365     lowdust  "
      ]
     },
     "metadata": {},
     "output_type": "display_data"
    },
    {
     "name": "stdout",
     "output_type": "stream",
     "text": [
      "IMG_TYPE science. Flags: big zeropoint offset.\n"
     ]
    },
    {
     "data": {
      "text/html": [
       "<a href=\"https://usdf-rsp.slac.stanford.edu/rubintv/summit-usdf/lsstcam/event?key=lsstcam/2025-07-01/calexp_mosaic/000746/lsstcam_calexp_mosaic_2025-07-01_000746.jpg\" target=\"_blank\" rel=\"noreferrer noopener\">https://usdf-rsp.slac.stanford.edu/rubintv/summit-usdf/lsstcam/event?key=lsstcam/2025-07-01/calexp_mosaic/000746/lsstcam_calexp_mosaic_2025-07-01_000746.jpg</a>"
      ],
      "text/plain": [
       "<IPython.core.display.HTML object>"
      ]
     },
     "metadata": {},
     "output_type": "display_data"
    },
    {
     "data": {
      "text/html": [
       "<a href=\"https://usdf-rsp.slac.stanford.edu/rubintv/summit-usdf/lsstcam/event?key=lsstcam/2025-07-01/witness_detector/000746/lsstcam_witness_detector_2025-07-01_000746.jpg\" target=\"_blank\" rel=\"noreferrer noopener\">https://usdf-rsp.slac.stanford.edu/rubintv/summit-usdf/lsstcam/event?key=lsstcam/2025-07-01/witness_detector/000746/lsstcam_witness_detector_2025-07-01_000746.jpg</a>"
      ],
      "text/plain": [
       "<IPython.core.display.HTML object>"
      ]
     },
     "metadata": {},
     "output_type": "display_data"
    },
    {
     "data": {
      "text/html": [
       "<br>"
      ],
      "text/plain": [
       "<IPython.core.display.HTML object>"
      ]
     },
     "metadata": {},
     "output_type": "display_data"
    },
    {
     "data": {
      "text/html": [
       "<div>\n",
       "<style scoped>\n",
       "    .dataframe tbody tr th:only-of-type {\n",
       "        vertical-align: middle;\n",
       "    }\n",
       "\n",
       "    .dataframe tbody tr th {\n",
       "        vertical-align: top;\n",
       "    }\n",
       "\n",
       "    .dataframe thead th {\n",
       "        text-align: right;\n",
       "    }\n",
       "</style>\n",
       "<table border=\"1\" class=\"dataframe\">\n",
       "  <thead>\n",
       "    <tr style=\"text-align: right;\">\n",
       "      <th></th>\n",
       "      <th>visit_id</th>\n",
       "      <th>day_obs</th>\n",
       "      <th>seq_num</th>\n",
       "      <th>time_target</th>\n",
       "      <th>time_observation</th>\n",
       "      <th>obs_start</th>\n",
       "      <th>scriptSalIndex</th>\n",
       "      <th>target_name</th>\n",
       "      <th>s_ra</th>\n",
       "      <th>s_dec</th>\n",
       "      <th>sky_rotation</th>\n",
       "      <th>band</th>\n",
       "      <th>psf_sigma_median</th>\n",
       "      <th>zero_point_1s</th>\n",
       "      <th>zero_point_1s_pred</th>\n",
       "      <th>clouds</th>\n",
       "      <th>science_program</th>\n",
       "      <th>target_name</th>\n",
       "    </tr>\n",
       "  </thead>\n",
       "  <tbody>\n",
       "    <tr>\n",
       "      <th>596</th>\n",
       "      <td>2025070100747</td>\n",
       "      <td>20250701</td>\n",
       "      <td>747</td>\n",
       "      <td>2025-07-02 08:25:41.500488+00:00</td>\n",
       "      <td>2025-07-02 08:26:59.977024+00:00</td>\n",
       "      <td>2025-07-02T08:27:04.996000</td>\n",
       "      <td>110777</td>\n",
       "      <td>lowdust</td>\n",
       "      <td>336.339338</td>\n",
       "      <td>-12.541887</td>\n",
       "      <td>75.111901</td>\n",
       "      <td>r</td>\n",
       "      <td>3.394266</td>\n",
       "      <td>25.807712</td>\n",
       "      <td>28.463214</td>\n",
       "      <td>-2.655502</td>\n",
       "      <td>BLOCK-365</td>\n",
       "      <td>lowdust</td>\n",
       "    </tr>\n",
       "  </tbody>\n",
       "</table>\n",
       "</div>"
      ],
      "text/plain": [
       "          visit_id   day_obs seq_num                       time_target  \\\n",
       "596  2025070100747  20250701     747  2025-07-02 08:25:41.500488+00:00   \n",
       "\n",
       "                     time_observation                   obs_start  \\\n",
       "596  2025-07-02 08:26:59.977024+00:00  2025-07-02T08:27:04.996000   \n",
       "\n",
       "    scriptSalIndex target_name        s_ra      s_dec sky_rotation band  \\\n",
       "596         110777     lowdust  336.339338 -12.541887    75.111901    r   \n",
       "\n",
       "    psf_sigma_median zero_point_1s zero_point_1s_pred    clouds  \\\n",
       "596         3.394266     25.807712          28.463214 -2.655502   \n",
       "\n",
       "    science_program target_name  \n",
       "596       BLOCK-365     lowdust  "
      ]
     },
     "metadata": {},
     "output_type": "display_data"
    },
    {
     "name": "stdout",
     "output_type": "stream",
     "text": [
      "IMG_TYPE science. Flags: big zeropoint offset.\n"
     ]
    },
    {
     "data": {
      "text/html": [
       "<a href=\"https://usdf-rsp.slac.stanford.edu/rubintv/summit-usdf/lsstcam/event?key=lsstcam/2025-07-01/calexp_mosaic/000747/lsstcam_calexp_mosaic_2025-07-01_000747.jpg\" target=\"_blank\" rel=\"noreferrer noopener\">https://usdf-rsp.slac.stanford.edu/rubintv/summit-usdf/lsstcam/event?key=lsstcam/2025-07-01/calexp_mosaic/000747/lsstcam_calexp_mosaic_2025-07-01_000747.jpg</a>"
      ],
      "text/plain": [
       "<IPython.core.display.HTML object>"
      ]
     },
     "metadata": {},
     "output_type": "display_data"
    },
    {
     "data": {
      "text/html": [
       "<a href=\"https://usdf-rsp.slac.stanford.edu/rubintv/summit-usdf/lsstcam/event?key=lsstcam/2025-07-01/witness_detector/000747/lsstcam_witness_detector_2025-07-01_000747.jpg\" target=\"_blank\" rel=\"noreferrer noopener\">https://usdf-rsp.slac.stanford.edu/rubintv/summit-usdf/lsstcam/event?key=lsstcam/2025-07-01/witness_detector/000747/lsstcam_witness_detector_2025-07-01_000747.jpg</a>"
      ],
      "text/plain": [
       "<IPython.core.display.HTML object>"
      ]
     },
     "metadata": {},
     "output_type": "display_data"
    },
    {
     "data": {
      "text/html": [
       "<br>"
      ],
      "text/plain": [
       "<IPython.core.display.HTML object>"
      ]
     },
     "metadata": {},
     "output_type": "display_data"
    },
    {
     "data": {
      "text/html": [
       "<div>\n",
       "<style scoped>\n",
       "    .dataframe tbody tr th:only-of-type {\n",
       "        vertical-align: middle;\n",
       "    }\n",
       "\n",
       "    .dataframe tbody tr th {\n",
       "        vertical-align: top;\n",
       "    }\n",
       "\n",
       "    .dataframe thead th {\n",
       "        text-align: right;\n",
       "    }\n",
       "</style>\n",
       "<table border=\"1\" class=\"dataframe\">\n",
       "  <thead>\n",
       "    <tr style=\"text-align: right;\">\n",
       "      <th></th>\n",
       "      <th>visit_id</th>\n",
       "      <th>day_obs</th>\n",
       "      <th>seq_num</th>\n",
       "      <th>time_target</th>\n",
       "      <th>time_observation</th>\n",
       "      <th>obs_start</th>\n",
       "      <th>scriptSalIndex</th>\n",
       "      <th>target_name</th>\n",
       "      <th>s_ra</th>\n",
       "      <th>s_dec</th>\n",
       "      <th>sky_rotation</th>\n",
       "      <th>band</th>\n",
       "      <th>psf_sigma_median</th>\n",
       "      <th>zero_point_1s</th>\n",
       "      <th>zero_point_1s_pred</th>\n",
       "      <th>clouds</th>\n",
       "      <th>science_program</th>\n",
       "      <th>target_name</th>\n",
       "    </tr>\n",
       "  </thead>\n",
       "  <tbody>\n",
       "    <tr>\n",
       "      <th>597</th>\n",
       "      <td>2025070100748</td>\n",
       "      <td>20250701</td>\n",
       "      <td>748</td>\n",
       "      <td>2025-07-02 08:26:20.883933+00:00</td>\n",
       "      <td>2025-07-02 08:27:43.390767+00:00</td>\n",
       "      <td>2025-07-02T08:27:49.233000</td>\n",
       "      <td>110778</td>\n",
       "      <td>lowdust</td>\n",
       "      <td>339.205414</td>\n",
       "      <td>-12.398555</td>\n",
       "      <td>80.980073</td>\n",
       "      <td>r</td>\n",
       "      <td>2.718669</td>\n",
       "      <td>24.919919</td>\n",
       "      <td>28.462966</td>\n",
       "      <td>-3.543047</td>\n",
       "      <td>BLOCK-365</td>\n",
       "      <td>lowdust</td>\n",
       "    </tr>\n",
       "  </tbody>\n",
       "</table>\n",
       "</div>"
      ],
      "text/plain": [
       "          visit_id   day_obs seq_num                       time_target  \\\n",
       "597  2025070100748  20250701     748  2025-07-02 08:26:20.883933+00:00   \n",
       "\n",
       "                     time_observation                   obs_start  \\\n",
       "597  2025-07-02 08:27:43.390767+00:00  2025-07-02T08:27:49.233000   \n",
       "\n",
       "    scriptSalIndex target_name        s_ra      s_dec sky_rotation band  \\\n",
       "597         110778     lowdust  339.205414 -12.398555    80.980073    r   \n",
       "\n",
       "    psf_sigma_median zero_point_1s zero_point_1s_pred    clouds  \\\n",
       "597         2.718669     24.919919          28.462966 -3.543047   \n",
       "\n",
       "    science_program target_name  \n",
       "597       BLOCK-365     lowdust  "
      ]
     },
     "metadata": {},
     "output_type": "display_data"
    },
    {
     "name": "stdout",
     "output_type": "stream",
     "text": [
      "IMG_TYPE science. Flags: big zeropoint offset.\n"
     ]
    },
    {
     "data": {
      "text/html": [
       "<a href=\"https://usdf-rsp.slac.stanford.edu/rubintv/summit-usdf/lsstcam/event?key=lsstcam/2025-07-01/calexp_mosaic/000748/lsstcam_calexp_mosaic_2025-07-01_000748.jpg\" target=\"_blank\" rel=\"noreferrer noopener\">https://usdf-rsp.slac.stanford.edu/rubintv/summit-usdf/lsstcam/event?key=lsstcam/2025-07-01/calexp_mosaic/000748/lsstcam_calexp_mosaic_2025-07-01_000748.jpg</a>"
      ],
      "text/plain": [
       "<IPython.core.display.HTML object>"
      ]
     },
     "metadata": {},
     "output_type": "display_data"
    },
    {
     "data": {
      "text/html": [
       "<a href=\"https://usdf-rsp.slac.stanford.edu/rubintv/summit-usdf/lsstcam/event?key=lsstcam/2025-07-01/witness_detector/000748/lsstcam_witness_detector_2025-07-01_000748.jpg\" target=\"_blank\" rel=\"noreferrer noopener\">https://usdf-rsp.slac.stanford.edu/rubintv/summit-usdf/lsstcam/event?key=lsstcam/2025-07-01/witness_detector/000748/lsstcam_witness_detector_2025-07-01_000748.jpg</a>"
      ],
      "text/plain": [
       "<IPython.core.display.HTML object>"
      ]
     },
     "metadata": {},
     "output_type": "display_data"
    },
    {
     "data": {
      "text/html": [
       "<br>"
      ],
      "text/plain": [
       "<IPython.core.display.HTML object>"
      ]
     },
     "metadata": {},
     "output_type": "display_data"
    },
    {
     "data": {
      "text/html": [
       "<div>\n",
       "<style scoped>\n",
       "    .dataframe tbody tr th:only-of-type {\n",
       "        vertical-align: middle;\n",
       "    }\n",
       "\n",
       "    .dataframe tbody tr th {\n",
       "        vertical-align: top;\n",
       "    }\n",
       "\n",
       "    .dataframe thead th {\n",
       "        text-align: right;\n",
       "    }\n",
       "</style>\n",
       "<table border=\"1\" class=\"dataframe\">\n",
       "  <thead>\n",
       "    <tr style=\"text-align: right;\">\n",
       "      <th></th>\n",
       "      <th>visit_id</th>\n",
       "      <th>day_obs</th>\n",
       "      <th>seq_num</th>\n",
       "      <th>time_target</th>\n",
       "      <th>time_observation</th>\n",
       "      <th>obs_start</th>\n",
       "      <th>scriptSalIndex</th>\n",
       "      <th>target_name</th>\n",
       "      <th>s_ra</th>\n",
       "      <th>s_dec</th>\n",
       "      <th>sky_rotation</th>\n",
       "      <th>band</th>\n",
       "      <th>psf_sigma_median</th>\n",
       "      <th>zero_point_1s</th>\n",
       "      <th>zero_point_1s_pred</th>\n",
       "      <th>clouds</th>\n",
       "      <th>science_program</th>\n",
       "      <th>target_name</th>\n",
       "    </tr>\n",
       "  </thead>\n",
       "  <tbody>\n",
       "    <tr>\n",
       "      <th>598</th>\n",
       "      <td>2025070100749</td>\n",
       "      <td>20250701</td>\n",
       "      <td>749</td>\n",
       "      <td>2025-07-02 08:27:01.293119+00:00</td>\n",
       "      <td>2025-07-02 08:28:25.754357+00:00</td>\n",
       "      <td>2025-07-02T08:28:31.575000</td>\n",
       "      <td>110779</td>\n",
       "      <td>lowdust</td>\n",
       "      <td>340.464061</td>\n",
       "      <td>-9.515304</td>\n",
       "      <td>79.858402</td>\n",
       "      <td>r</td>\n",
       "      <td>2.807588</td>\n",
       "      <td>25.151968</td>\n",
       "      <td>28.460532</td>\n",
       "      <td>-3.308564</td>\n",
       "      <td>BLOCK-365</td>\n",
       "      <td>lowdust</td>\n",
       "    </tr>\n",
       "  </tbody>\n",
       "</table>\n",
       "</div>"
      ],
      "text/plain": [
       "          visit_id   day_obs seq_num                       time_target  \\\n",
       "598  2025070100749  20250701     749  2025-07-02 08:27:01.293119+00:00   \n",
       "\n",
       "                     time_observation                   obs_start  \\\n",
       "598  2025-07-02 08:28:25.754357+00:00  2025-07-02T08:28:31.575000   \n",
       "\n",
       "    scriptSalIndex target_name        s_ra     s_dec sky_rotation band  \\\n",
       "598         110779     lowdust  340.464061 -9.515304    79.858402    r   \n",
       "\n",
       "    psf_sigma_median zero_point_1s zero_point_1s_pred    clouds  \\\n",
       "598         2.807588     25.151968          28.460532 -3.308564   \n",
       "\n",
       "    science_program target_name  \n",
       "598       BLOCK-365     lowdust  "
      ]
     },
     "metadata": {},
     "output_type": "display_data"
    },
    {
     "name": "stdout",
     "output_type": "stream",
     "text": [
      "IMG_TYPE science. Flags: big zeropoint offset.\n"
     ]
    },
    {
     "data": {
      "text/html": [
       "<a href=\"https://usdf-rsp.slac.stanford.edu/rubintv/summit-usdf/lsstcam/event?key=lsstcam/2025-07-01/calexp_mosaic/000749/lsstcam_calexp_mosaic_2025-07-01_000749.jpg\" target=\"_blank\" rel=\"noreferrer noopener\">https://usdf-rsp.slac.stanford.edu/rubintv/summit-usdf/lsstcam/event?key=lsstcam/2025-07-01/calexp_mosaic/000749/lsstcam_calexp_mosaic_2025-07-01_000749.jpg</a>"
      ],
      "text/plain": [
       "<IPython.core.display.HTML object>"
      ]
     },
     "metadata": {},
     "output_type": "display_data"
    },
    {
     "data": {
      "text/html": [
       "<a href=\"https://usdf-rsp.slac.stanford.edu/rubintv/summit-usdf/lsstcam/event?key=lsstcam/2025-07-01/witness_detector/000749/lsstcam_witness_detector_2025-07-01_000749.jpg\" target=\"_blank\" rel=\"noreferrer noopener\">https://usdf-rsp.slac.stanford.edu/rubintv/summit-usdf/lsstcam/event?key=lsstcam/2025-07-01/witness_detector/000749/lsstcam_witness_detector_2025-07-01_000749.jpg</a>"
      ],
      "text/plain": [
       "<IPython.core.display.HTML object>"
      ]
     },
     "metadata": {},
     "output_type": "display_data"
    },
    {
     "data": {
      "text/html": [
       "<br>"
      ],
      "text/plain": [
       "<IPython.core.display.HTML object>"
      ]
     },
     "metadata": {},
     "output_type": "display_data"
    },
    {
     "data": {
      "text/html": [
       "<div>\n",
       "<style scoped>\n",
       "    .dataframe tbody tr th:only-of-type {\n",
       "        vertical-align: middle;\n",
       "    }\n",
       "\n",
       "    .dataframe tbody tr th {\n",
       "        vertical-align: top;\n",
       "    }\n",
       "\n",
       "    .dataframe thead th {\n",
       "        text-align: right;\n",
       "    }\n",
       "</style>\n",
       "<table border=\"1\" class=\"dataframe\">\n",
       "  <thead>\n",
       "    <tr style=\"text-align: right;\">\n",
       "      <th></th>\n",
       "      <th>visit_id</th>\n",
       "      <th>day_obs</th>\n",
       "      <th>seq_num</th>\n",
       "      <th>time_target</th>\n",
       "      <th>time_observation</th>\n",
       "      <th>obs_start</th>\n",
       "      <th>scriptSalIndex</th>\n",
       "      <th>target_name</th>\n",
       "      <th>s_ra</th>\n",
       "      <th>s_dec</th>\n",
       "      <th>sky_rotation</th>\n",
       "      <th>band</th>\n",
       "      <th>psf_sigma_median</th>\n",
       "      <th>zero_point_1s</th>\n",
       "      <th>zero_point_1s_pred</th>\n",
       "      <th>clouds</th>\n",
       "      <th>science_program</th>\n",
       "      <th>target_name</th>\n",
       "    </tr>\n",
       "  </thead>\n",
       "  <tbody>\n",
       "    <tr>\n",
       "      <th>599</th>\n",
       "      <td>2025070100750</td>\n",
       "      <td>20250701</td>\n",
       "      <td>750</td>\n",
       "      <td>2025-07-02 08:27:44.658983+00:00</td>\n",
       "      <td>2025-07-02 08:29:08.913805+00:00</td>\n",
       "      <td>2025-07-02T08:29:14.759000</td>\n",
       "      <td>110780</td>\n",
       "      <td>lowdust</td>\n",
       "      <td>342.056505</td>\n",
       "      <td>-12.226008</td>\n",
       "      <td>85.93364</td>\n",
       "      <td>r</td>\n",
       "      <td>2.647785</td>\n",
       "      <td>25.832024</td>\n",
       "      <td>28.462481</td>\n",
       "      <td>-2.630457</td>\n",
       "      <td>BLOCK-365</td>\n",
       "      <td>lowdust</td>\n",
       "    </tr>\n",
       "  </tbody>\n",
       "</table>\n",
       "</div>"
      ],
      "text/plain": [
       "          visit_id   day_obs seq_num                       time_target  \\\n",
       "599  2025070100750  20250701     750  2025-07-02 08:27:44.658983+00:00   \n",
       "\n",
       "                     time_observation                   obs_start  \\\n",
       "599  2025-07-02 08:29:08.913805+00:00  2025-07-02T08:29:14.759000   \n",
       "\n",
       "    scriptSalIndex target_name        s_ra      s_dec sky_rotation band  \\\n",
       "599         110780     lowdust  342.056505 -12.226008     85.93364    r   \n",
       "\n",
       "    psf_sigma_median zero_point_1s zero_point_1s_pred    clouds  \\\n",
       "599         2.647785     25.832024          28.462481 -2.630457   \n",
       "\n",
       "    science_program target_name  \n",
       "599       BLOCK-365     lowdust  "
      ]
     },
     "metadata": {},
     "output_type": "display_data"
    },
    {
     "name": "stdout",
     "output_type": "stream",
     "text": [
      "IMG_TYPE science. Flags: big zeropoint offset.\n"
     ]
    },
    {
     "data": {
      "text/html": [
       "<a href=\"https://usdf-rsp.slac.stanford.edu/rubintv/summit-usdf/lsstcam/event?key=lsstcam/2025-07-01/calexp_mosaic/000750/lsstcam_calexp_mosaic_2025-07-01_000750.jpg\" target=\"_blank\" rel=\"noreferrer noopener\">https://usdf-rsp.slac.stanford.edu/rubintv/summit-usdf/lsstcam/event?key=lsstcam/2025-07-01/calexp_mosaic/000750/lsstcam_calexp_mosaic_2025-07-01_000750.jpg</a>"
      ],
      "text/plain": [
       "<IPython.core.display.HTML object>"
      ]
     },
     "metadata": {},
     "output_type": "display_data"
    },
    {
     "data": {
      "text/html": [
       "<a href=\"https://usdf-rsp.slac.stanford.edu/rubintv/summit-usdf/lsstcam/event?key=lsstcam/2025-07-01/witness_detector/000750/lsstcam_witness_detector_2025-07-01_000750.jpg\" target=\"_blank\" rel=\"noreferrer noopener\">https://usdf-rsp.slac.stanford.edu/rubintv/summit-usdf/lsstcam/event?key=lsstcam/2025-07-01/witness_detector/000750/lsstcam_witness_detector_2025-07-01_000750.jpg</a>"
      ],
      "text/plain": [
       "<IPython.core.display.HTML object>"
      ]
     },
     "metadata": {},
     "output_type": "display_data"
    },
    {
     "data": {
      "text/html": [
       "<br>"
      ],
      "text/plain": [
       "<IPython.core.display.HTML object>"
      ]
     },
     "metadata": {},
     "output_type": "display_data"
    },
    {
     "data": {
      "text/html": [
       "<div>\n",
       "<style scoped>\n",
       "    .dataframe tbody tr th:only-of-type {\n",
       "        vertical-align: middle;\n",
       "    }\n",
       "\n",
       "    .dataframe tbody tr th {\n",
       "        vertical-align: top;\n",
       "    }\n",
       "\n",
       "    .dataframe thead th {\n",
       "        text-align: right;\n",
       "    }\n",
       "</style>\n",
       "<table border=\"1\" class=\"dataframe\">\n",
       "  <thead>\n",
       "    <tr style=\"text-align: right;\">\n",
       "      <th></th>\n",
       "      <th>visit_id</th>\n",
       "      <th>day_obs</th>\n",
       "      <th>seq_num</th>\n",
       "      <th>time_target</th>\n",
       "      <th>time_observation</th>\n",
       "      <th>obs_start</th>\n",
       "      <th>scriptSalIndex</th>\n",
       "      <th>target_name</th>\n",
       "      <th>s_ra</th>\n",
       "      <th>s_dec</th>\n",
       "      <th>sky_rotation</th>\n",
       "      <th>band</th>\n",
       "      <th>psf_sigma_median</th>\n",
       "      <th>zero_point_1s</th>\n",
       "      <th>zero_point_1s_pred</th>\n",
       "      <th>clouds</th>\n",
       "      <th>science_program</th>\n",
       "      <th>target_name</th>\n",
       "    </tr>\n",
       "  </thead>\n",
       "  <tbody>\n",
       "    <tr>\n",
       "      <th>600</th>\n",
       "      <td>2025070100751</td>\n",
       "      <td>20250701</td>\n",
       "      <td>751</td>\n",
       "      <td>2025-07-02 08:28:26.819151+00:00</td>\n",
       "      <td>2025-07-02 08:29:49.262219+00:00</td>\n",
       "      <td>2025-07-02T08:29:54.402000</td>\n",
       "      <td>110781</td>\n",
       "      <td>lowdust</td>\n",
       "      <td>340.819837</td>\n",
       "      <td>-15.115489</td>\n",
       "      <td>88.170657</td>\n",
       "      <td>r</td>\n",
       "      <td>3.007138</td>\n",
       "      <td>24.686067</td>\n",
       "      <td>28.464647</td>\n",
       "      <td>-3.77858</td>\n",
       "      <td>BLOCK-365</td>\n",
       "      <td>lowdust</td>\n",
       "    </tr>\n",
       "  </tbody>\n",
       "</table>\n",
       "</div>"
      ],
      "text/plain": [
       "          visit_id   day_obs seq_num                       time_target  \\\n",
       "600  2025070100751  20250701     751  2025-07-02 08:28:26.819151+00:00   \n",
       "\n",
       "                     time_observation                   obs_start  \\\n",
       "600  2025-07-02 08:29:49.262219+00:00  2025-07-02T08:29:54.402000   \n",
       "\n",
       "    scriptSalIndex target_name        s_ra      s_dec sky_rotation band  \\\n",
       "600         110781     lowdust  340.819837 -15.115489    88.170657    r   \n",
       "\n",
       "    psf_sigma_median zero_point_1s zero_point_1s_pred   clouds  \\\n",
       "600         3.007138     24.686067          28.464647 -3.77858   \n",
       "\n",
       "    science_program target_name  \n",
       "600       BLOCK-365     lowdust  "
      ]
     },
     "metadata": {},
     "output_type": "display_data"
    },
    {
     "name": "stdout",
     "output_type": "stream",
     "text": [
      "IMG_TYPE science. Flags: big zeropoint offset.\n"
     ]
    },
    {
     "data": {
      "text/html": [
       "<a href=\"https://usdf-rsp.slac.stanford.edu/rubintv/summit-usdf/lsstcam/event?key=lsstcam/2025-07-01/calexp_mosaic/000751/lsstcam_calexp_mosaic_2025-07-01_000751.jpg\" target=\"_blank\" rel=\"noreferrer noopener\">https://usdf-rsp.slac.stanford.edu/rubintv/summit-usdf/lsstcam/event?key=lsstcam/2025-07-01/calexp_mosaic/000751/lsstcam_calexp_mosaic_2025-07-01_000751.jpg</a>"
      ],
      "text/plain": [
       "<IPython.core.display.HTML object>"
      ]
     },
     "metadata": {},
     "output_type": "display_data"
    },
    {
     "data": {
      "text/html": [
       "<a href=\"https://usdf-rsp.slac.stanford.edu/rubintv/summit-usdf/lsstcam/event?key=lsstcam/2025-07-01/witness_detector/000751/lsstcam_witness_detector_2025-07-01_000751.jpg\" target=\"_blank\" rel=\"noreferrer noopener\">https://usdf-rsp.slac.stanford.edu/rubintv/summit-usdf/lsstcam/event?key=lsstcam/2025-07-01/witness_detector/000751/lsstcam_witness_detector_2025-07-01_000751.jpg</a>"
      ],
      "text/plain": [
       "<IPython.core.display.HTML object>"
      ]
     },
     "metadata": {},
     "output_type": "display_data"
    },
    {
     "data": {
      "text/html": [
       "<br>"
      ],
      "text/plain": [
       "<IPython.core.display.HTML object>"
      ]
     },
     "metadata": {},
     "output_type": "display_data"
    },
    {
     "data": {
      "text/html": [
       "<div>\n",
       "<style scoped>\n",
       "    .dataframe tbody tr th:only-of-type {\n",
       "        vertical-align: middle;\n",
       "    }\n",
       "\n",
       "    .dataframe tbody tr th {\n",
       "        vertical-align: top;\n",
       "    }\n",
       "\n",
       "    .dataframe thead th {\n",
       "        text-align: right;\n",
       "    }\n",
       "</style>\n",
       "<table border=\"1\" class=\"dataframe\">\n",
       "  <thead>\n",
       "    <tr style=\"text-align: right;\">\n",
       "      <th></th>\n",
       "      <th>visit_id</th>\n",
       "      <th>day_obs</th>\n",
       "      <th>seq_num</th>\n",
       "      <th>time_target</th>\n",
       "      <th>time_observation</th>\n",
       "      <th>obs_start</th>\n",
       "      <th>scriptSalIndex</th>\n",
       "      <th>target_name</th>\n",
       "      <th>s_ra</th>\n",
       "      <th>s_dec</th>\n",
       "      <th>sky_rotation</th>\n",
       "      <th>band</th>\n",
       "      <th>psf_sigma_median</th>\n",
       "      <th>zero_point_1s</th>\n",
       "      <th>zero_point_1s_pred</th>\n",
       "      <th>clouds</th>\n",
       "      <th>science_program</th>\n",
       "      <th>target_name</th>\n",
       "    </tr>\n",
       "  </thead>\n",
       "  <tbody>\n",
       "    <tr>\n",
       "      <th>601</th>\n",
       "      <td>2025070100752</td>\n",
       "      <td>20250701</td>\n",
       "      <td>752</td>\n",
       "      <td>2025-07-02 08:29:10.172106+00:00</td>\n",
       "      <td>2025-07-02 08:30:33.426531+00:00</td>\n",
       "      <td>2025-07-02T08:30:38.918000</td>\n",
       "      <td>110782</td>\n",
       "      <td>lowdust</td>\n",
       "      <td>343.695727</td>\n",
       "      <td>-14.934235</td>\n",
       "      <td>92.743198</td>\n",
       "      <td>r</td>\n",
       "      <td>2.917412</td>\n",
       "      <td>NaN</td>\n",
       "      <td>28.464057</td>\n",
       "      <td>NaN</td>\n",
       "      <td>BLOCK-365</td>\n",
       "      <td>lowdust</td>\n",
       "    </tr>\n",
       "  </tbody>\n",
       "</table>\n",
       "</div>"
      ],
      "text/plain": [
       "          visit_id   day_obs seq_num                       time_target  \\\n",
       "601  2025070100752  20250701     752  2025-07-02 08:29:10.172106+00:00   \n",
       "\n",
       "                     time_observation                   obs_start  \\\n",
       "601  2025-07-02 08:30:33.426531+00:00  2025-07-02T08:30:38.918000   \n",
       "\n",
       "    scriptSalIndex target_name        s_ra      s_dec sky_rotation band  \\\n",
       "601         110782     lowdust  343.695727 -14.934235    92.743198    r   \n",
       "\n",
       "    psf_sigma_median zero_point_1s zero_point_1s_pred clouds science_program  \\\n",
       "601         2.917412           NaN          28.464057    NaN       BLOCK-365   \n",
       "\n",
       "    target_name  \n",
       "601     lowdust  "
      ]
     },
     "metadata": {},
     "output_type": "display_data"
    },
    {
     "name": "stdout",
     "output_type": "stream",
     "text": [
      "IMG_TYPE science. Flags: no quicklook.\n"
     ]
    },
    {
     "data": {
      "text/html": [
       "<a href=\"https://usdf-rsp.slac.stanford.edu/rubintv/summit-usdf/lsstcam/event?key=lsstcam/2025-07-01/calexp_mosaic/000752/lsstcam_calexp_mosaic_2025-07-01_000752.jpg\" target=\"_blank\" rel=\"noreferrer noopener\">https://usdf-rsp.slac.stanford.edu/rubintv/summit-usdf/lsstcam/event?key=lsstcam/2025-07-01/calexp_mosaic/000752/lsstcam_calexp_mosaic_2025-07-01_000752.jpg</a>"
      ],
      "text/plain": [
       "<IPython.core.display.HTML object>"
      ]
     },
     "metadata": {},
     "output_type": "display_data"
    },
    {
     "data": {
      "text/html": [
       "<a href=\"https://usdf-rsp.slac.stanford.edu/rubintv/summit-usdf/lsstcam/event?key=lsstcam/2025-07-01/witness_detector/000752/lsstcam_witness_detector_2025-07-01_000752.jpg\" target=\"_blank\" rel=\"noreferrer noopener\">https://usdf-rsp.slac.stanford.edu/rubintv/summit-usdf/lsstcam/event?key=lsstcam/2025-07-01/witness_detector/000752/lsstcam_witness_detector_2025-07-01_000752.jpg</a>"
      ],
      "text/plain": [
       "<IPython.core.display.HTML object>"
      ]
     },
     "metadata": {},
     "output_type": "display_data"
    },
    {
     "data": {
      "text/html": [
       "<br>"
      ],
      "text/plain": [
       "<IPython.core.display.HTML object>"
      ]
     },
     "metadata": {},
     "output_type": "display_data"
    },
    {
     "data": {
      "text/html": [
       "<hr>"
      ],
      "text/plain": [
       "<IPython.core.display.HTML object>"
      ]
     },
     "metadata": {},
     "output_type": "display_data"
    }
   ],
   "source": [
    "pcols = ['visit_id', 'day_obs', 'seq_num', 'time_target', 'time_observation', 'obs_start', 'scriptSalIndex', \n",
    "          'target_name', 's_ra', 's_dec', 'sky_rotation', 'band', 'psf_sigma_median',\n",
    "         'zero_point_1s', 'zero_point_1s_pred', 'clouds', 'science_program', 'target_name']\n",
    "\n",
    "if len(vt) == 0:\n",
    "    print(\"No observations.\")\n",
    "\n",
    "else:\n",
    "    quicklook_missing = np.where(np.isnan(vt.zero_point_median) & (vt.visit_id > 0))[0]\n",
    "    big_zp_offset = np.where((vt.zero_point_1s_pred.values - vt.zero_point_1s.values) > 1.5)[0]\n",
    "    failed_obs = np.where(np.isnan(vt.time_observation.values) & (vt.visit_id > 0))[0]\n",
    "    issues = np.concatenate([quicklook_missing, big_zp_offset, failed_obs])\n",
    "    issues = np.sort(issues)\n",
    "    issues = np.unique(issues)\n",
    "    print(f\"Found {len(issues)} images with potential issues out of {len(vt)} visits {(len(issues)/len(vt))*100 :.1f}%\")\n",
    "    \n",
    "    print(\"From the bad visit list: bad visits from the list which are not flagged here: \")\n",
    "    print(set(bad_visit_dayobs).difference(set(vt.iloc[issues]['visit_id'].values)))\n",
    "    \n",
    "    if len(issues) == 0:\n",
    "        print(\"No obvious issues found.\")\n",
    "    else:\n",
    "        display(HTML(\"<hr>\"))\n",
    "        display(HTML(\"Potential problems (please only report OBJECT img_types)\"))\n",
    "        display(HTML(\"<br>\"))\n",
    "        for idx in issues:\n",
    "            problem_string = f\"IMG_TYPE {vt.iloc[idx].img_type}. Flags:\"\n",
    "            if idx in failed_obs:\n",
    "                problem_string += \" no observation event,\"\n",
    "            if idx in quicklook_missing:\n",
    "                problem_string += \" no quicklook,\"\n",
    "            if idx in big_zp_offset:\n",
    "                problem_string += \" big zeropoint offset,\"\n",
    "            problem_string = problem_string[0:-1] + '.'\n",
    "            if vt.iloc[idx].visit_id in bad_visit_list:\n",
    "                problem_string += \" Already in bad visit list.\"\n",
    "            #problem_string = \", \".join(problem_string)\n",
    "            display(pd.DataFrame(vt.iloc[idx][pcols]).T)\n",
    "            print(problem_string)\n",
    "            mosaic_html, witness_html = rubintv_links(day_obs, vt.iloc[idx].seq_num)\n",
    "            display(HTML(mosaic_html))\n",
    "            display(HTML(witness_html))\n",
    "            display(HTML(\"<br>\"))\n",
    "        display(HTML(\"<hr>\"))"
   ]
  },
  {
   "cell_type": "code",
   "execution_count": 13,
   "id": "94455ea5-91bb-44eb-8262-9358777bd9c9",
   "metadata": {},
   "outputs": [
    {
     "name": "stderr",
     "output_type": "stream",
     "text": [
      "INFO:rubin_nights.scriptqueue:No queue ENABLED events during time interval 2025-07-01T12:00:00.000 to 2025-07-02T12:00:00.000 for any queue.\n",
      "INFO:rubin_nights.scriptqueue:Found 1166 script status messages\n",
      "INFO:rubin_nights.scriptqueue:Found 20 scheduler configuration records\n",
      "INFO:rubin_nights.scriptqueue:Found 26 messages in the narrative log\n",
      "INFO:rubin_nights.scriptqueue:Found 57 error messages\n",
      "INFO:rubin_nights.scriptqueue:Found 700 image times for MTCamera Simonyi\n",
      "INFO:rubin_nights.scriptqueue:Found 337 image times for ATCamera AuxTel\n",
      "INFO:rubin_nights.scriptqueue:Found 0 messages in the exposure log\n"
     ]
    },
    {
     "ename": "ValueError",
     "evalue": "Could not convert object to NumPy timedelta",
     "output_type": "error",
     "traceback": [
      "\u001b[31m---------------------------------------------------------------------------\u001b[39m",
      "\u001b[31mValueError\u001b[39m                                Traceback (most recent call last)",
      "\u001b[36mCell\u001b[39m\u001b[36m \u001b[39m\u001b[32mIn[13]\u001b[39m\u001b[32m, line 2\u001b[39m\n\u001b[32m      1\u001b[39m \u001b[38;5;28;01mif\u001b[39;00m \u001b[38;5;28;01mTrue\u001b[39;00m: \u001b[38;5;66;03m#len(failed_obs) > 0:\u001b[39;00m\n\u001b[32m----> \u001b[39m\u001b[32m2\u001b[39m     efd_and_messages, ecols = \u001b[43mscriptqueue\u001b[49m\u001b[43m.\u001b[49m\u001b[43mget_consolidated_messages\u001b[49m\u001b[43m(\u001b[49m\u001b[43msunset\u001b[49m\u001b[43m,\u001b[49m\u001b[43m \u001b[49m\u001b[43msunrise\u001b[49m\u001b[43m,\u001b[49m\u001b[43m \u001b[49m\u001b[43mendpoints\u001b[49m\u001b[43m)\u001b[49m\n\u001b[32m      3\u001b[39m     mtimes = pd.to_datetime(efd_and_messages.time)\n\u001b[32m      4\u001b[39m     \u001b[38;5;28;01mfor\u001b[39;00m idx \u001b[38;5;129;01min\u001b[39;00m failed_obs:\n",
      "\u001b[36mFile \u001b[39m\u001b[32m~/lsst_repos/rubin_nights/rubin_nights/scriptqueue.py:1048\u001b[39m, in \u001b[36mget_consolidated_messages\u001b[39m\u001b[34m(t_start, t_end, endpoints)\u001b[39m\n\u001b[32m   1044\u001b[39m     job_changes[\u001b[33m\"\u001b[39m\u001b[33mtimestampProcessStart\u001b[39m\u001b[33m\"\u001b[39m] = job_changes.index.copy()\n\u001b[32m   1045\u001b[39m     job_changes[\u001b[33m\"\u001b[39m\u001b[33mtimestampProcessEnd\u001b[39m\u001b[33m\"\u001b[39m] = np.concatenate(\n\u001b[32m   1046\u001b[39m         [job_changes.index[\u001b[32m1\u001b[39m:].copy(), np.array([efd_and_messages.index[-\u001b[32m1\u001b[39m]])]\n\u001b[32m   1047\u001b[39m     )\n\u001b[32m-> \u001b[39m\u001b[32m1048\u001b[39m     job_changes.index = job_changes.index - \u001b[43mnp\u001b[49m\u001b[43m.\u001b[49m\u001b[43mtimedelta64\u001b[49m\u001b[43m(\u001b[49m\u001b[32;43m0.5\u001b[39;49m\u001b[43m,\u001b[49m\u001b[43m \u001b[49m\u001b[33;43m'\u001b[39;49m\u001b[33;43ms\u001b[39;49m\u001b[33;43m'\u001b[39;49m\u001b[43m)\u001b[49m\n\u001b[32m   1049\u001b[39m     efd_and_messages = pd.concat([efd_and_messages, job_changes]).sort_index()\n\u001b[32m   1051\u001b[39m \u001b[38;5;66;03m# use an integer index, which makes it easier to pull up values\u001b[39;00m\n\u001b[32m   1052\u001b[39m \u001b[38;5;66;03m# plus avoids occasional failures of time uniqueness\u001b[39;00m\n",
      "\u001b[31mValueError\u001b[39m: Could not convert object to NumPy timedelta"
     ]
    }
   ],
   "source": [
    "if True: #len(failed_obs) > 0:\n",
    "    efd_and_messages, ecols = scriptqueue.get_consolidated_messages(sunset, sunrise, endpoints)\n",
    "    mtimes = pd.to_datetime(efd_and_messages.time)\n",
    "    for idx in failed_obs:\n",
    "        display(HTML(\"<hr>\"))\n",
    "        display(HTML(\"ScriptQueue info on visits missing observations (cause of failure?)\"))\n",
    "        display(HTML(\"<br>\"))\n",
    "        display(pd.DataFrame(vt.iloc[idx][pcols]).T)\n",
    "        display(HTML(\"ScriptQueue Information with same scriptSalIndex\"))\n",
    "        fo = vt.iloc[idx]\n",
    "        fo_time = pd.to_datetime(fo.time_target)\n",
    "        mm = efd_and_messages.iloc[np.where(abs(mtimes - fo_time) < pd.Timedelta(1, unit='hr'))[0]]\n",
    "        mm = mm.query('script_salIndex == @fo.scriptSalIndex')        \n",
    "        display(HTML(mm[ecols].to_html()))\n",
    "        display(Markdown(\"--\"))"
   ]
  },
  {
   "cell_type": "code",
   "execution_count": 36,
   "id": "b25095ef-740f-4921-8779-deef377ddc87",
   "metadata": {},
   "outputs": [
    {
     "data": {
      "text/html": [
       "<div>\n",
       "<style scoped>\n",
       "    .dataframe tbody tr th:only-of-type {\n",
       "        vertical-align: middle;\n",
       "    }\n",
       "\n",
       "    .dataframe tbody tr th {\n",
       "        vertical-align: top;\n",
       "    }\n",
       "\n",
       "    .dataframe thead th {\n",
       "        text-align: right;\n",
       "    }\n",
       "</style>\n",
       "<table border=\"1\" class=\"dataframe\">\n",
       "  <thead>\n",
       "    <tr style=\"text-align: right;\">\n",
       "      <th></th>\n",
       "      <th>airmass</th>\n",
       "      <th>alt</th>\n",
       "      <th>az</th>\n",
       "      <th>blockId</th>\n",
       "      <th>cloud</th>\n",
       "      <th>decl</th>\n",
       "      <th>exposureTimes0</th>\n",
       "      <th>exposureTimes1</th>\n",
       "      <th>exposureTimes2</th>\n",
       "      <th>exposureTimes3</th>\n",
       "      <th>...</th>\n",
       "      <th>skyBrightness</th>\n",
       "      <th>slewTime</th>\n",
       "      <th>snapshotUri</th>\n",
       "      <th>solarElong</th>\n",
       "      <th>sunAlt</th>\n",
       "      <th>sunAz</th>\n",
       "      <th>sunDec</th>\n",
       "      <th>sunRa</th>\n",
       "      <th>targetId</th>\n",
       "      <th>targetName</th>\n",
       "    </tr>\n",
       "    <tr>\n",
       "      <th>time</th>\n",
       "      <th></th>\n",
       "      <th></th>\n",
       "      <th></th>\n",
       "      <th></th>\n",
       "      <th></th>\n",
       "      <th></th>\n",
       "      <th></th>\n",
       "      <th></th>\n",
       "      <th></th>\n",
       "      <th></th>\n",
       "      <th></th>\n",
       "      <th></th>\n",
       "      <th></th>\n",
       "      <th></th>\n",
       "      <th></th>\n",
       "      <th></th>\n",
       "      <th></th>\n",
       "      <th></th>\n",
       "      <th></th>\n",
       "      <th></th>\n",
       "      <th></th>\n",
       "    </tr>\n",
       "  </thead>\n",
       "  <tbody>\n",
       "    <tr>\n",
       "      <th>2025-07-01 12:07:58.426043+00:00</th>\n",
       "      <td>1.307902</td>\n",
       "      <td>0</td>\n",
       "      <td>0</td>\n",
       "      <td>303553</td>\n",
       "      <td>0</td>\n",
       "      <td>2.220861</td>\n",
       "      <td>30.0</td>\n",
       "      <td>0.0</td>\n",
       "      <td>0.0</td>\n",
       "      <td>0.0</td>\n",
       "      <td>...</td>\n",
       "      <td>2.000000</td>\n",
       "      <td>4.605422</td>\n",
       "      <td>https://s3.cp.lsst.org/rubinobs-lfa-cp/Schedul...</td>\n",
       "      <td>0</td>\n",
       "      <td>0</td>\n",
       "      <td>0</td>\n",
       "      <td>0</td>\n",
       "      <td>0</td>\n",
       "      <td>8</td>\n",
       "      <td>SimTarget</td>\n",
       "    </tr>\n",
       "    <tr>\n",
       "      <th>2025-07-01 12:17:58.677764+00:00</th>\n",
       "      <td>1.242087</td>\n",
       "      <td>0</td>\n",
       "      <td>0</td>\n",
       "      <td>303555</td>\n",
       "      <td>0</td>\n",
       "      <td>-0.245179</td>\n",
       "      <td>30.0</td>\n",
       "      <td>0.0</td>\n",
       "      <td>0.0</td>\n",
       "      <td>0.0</td>\n",
       "      <td>...</td>\n",
       "      <td>2.000000</td>\n",
       "      <td>4.882803</td>\n",
       "      <td>https://s3.cp.lsst.org/rubinobs-lfa-cp/Schedul...</td>\n",
       "      <td>0</td>\n",
       "      <td>0</td>\n",
       "      <td>0</td>\n",
       "      <td>0</td>\n",
       "      <td>0</td>\n",
       "      <td>9</td>\n",
       "      <td>SimTarget</td>\n",
       "    </tr>\n",
       "    <tr>\n",
       "      <th>2025-07-01 12:27:59.414033+00:00</th>\n",
       "      <td>1.301483</td>\n",
       "      <td>0</td>\n",
       "      <td>0</td>\n",
       "      <td>303557</td>\n",
       "      <td>0</td>\n",
       "      <td>2.425899</td>\n",
       "      <td>30.0</td>\n",
       "      <td>0.0</td>\n",
       "      <td>0.0</td>\n",
       "      <td>0.0</td>\n",
       "      <td>...</td>\n",
       "      <td>2.000000</td>\n",
       "      <td>5.106200</td>\n",
       "      <td>https://s3.cp.lsst.org/rubinobs-lfa-cp/Schedul...</td>\n",
       "      <td>0</td>\n",
       "      <td>0</td>\n",
       "      <td>0</td>\n",
       "      <td>0</td>\n",
       "      <td>0</td>\n",
       "      <td>10</td>\n",
       "      <td>SimTarget</td>\n",
       "    </tr>\n",
       "    <tr>\n",
       "      <th>2025-07-01 12:37:59.461362+00:00</th>\n",
       "      <td>1.240349</td>\n",
       "      <td>0</td>\n",
       "      <td>0</td>\n",
       "      <td>303559</td>\n",
       "      <td>0</td>\n",
       "      <td>-0.038808</td>\n",
       "      <td>30.0</td>\n",
       "      <td>0.0</td>\n",
       "      <td>0.0</td>\n",
       "      <td>0.0</td>\n",
       "      <td>...</td>\n",
       "      <td>2.000000</td>\n",
       "      <td>4.889016</td>\n",
       "      <td>https://s3.cp.lsst.org/rubinobs-lfa-cp/Schedul...</td>\n",
       "      <td>0</td>\n",
       "      <td>0</td>\n",
       "      <td>0</td>\n",
       "      <td>0</td>\n",
       "      <td>0</td>\n",
       "      <td>11</td>\n",
       "      <td>SimTarget</td>\n",
       "    </tr>\n",
       "    <tr>\n",
       "      <th>2025-07-01 12:48:00.152097+00:00</th>\n",
       "      <td>1.295320</td>\n",
       "      <td>0</td>\n",
       "      <td>0</td>\n",
       "      <td>303561</td>\n",
       "      <td>0</td>\n",
       "      <td>2.621555</td>\n",
       "      <td>30.0</td>\n",
       "      <td>0.0</td>\n",
       "      <td>0.0</td>\n",
       "      <td>0.0</td>\n",
       "      <td>...</td>\n",
       "      <td>2.000000</td>\n",
       "      <td>5.122360</td>\n",
       "      <td>https://s3.cp.lsst.org/rubinobs-lfa-cp/Schedul...</td>\n",
       "      <td>0</td>\n",
       "      <td>0</td>\n",
       "      <td>0</td>\n",
       "      <td>0</td>\n",
       "      <td>0</td>\n",
       "      <td>12</td>\n",
       "      <td>SimTarget</td>\n",
       "    </tr>\n",
       "    <tr>\n",
       "      <th>...</th>\n",
       "      <td>...</td>\n",
       "      <td>...</td>\n",
       "      <td>...</td>\n",
       "      <td>...</td>\n",
       "      <td>...</td>\n",
       "      <td>...</td>\n",
       "      <td>...</td>\n",
       "      <td>...</td>\n",
       "      <td>...</td>\n",
       "      <td>...</td>\n",
       "      <td>...</td>\n",
       "      <td>...</td>\n",
       "      <td>...</td>\n",
       "      <td>...</td>\n",
       "      <td>...</td>\n",
       "      <td>...</td>\n",
       "      <td>...</td>\n",
       "      <td>...</td>\n",
       "      <td>...</td>\n",
       "      <td>...</td>\n",
       "      <td>...</td>\n",
       "    </tr>\n",
       "    <tr>\n",
       "      <th>2025-07-02 08:28:26.819151+00:00</th>\n",
       "      <td>1.057579</td>\n",
       "      <td>0</td>\n",
       "      <td>0</td>\n",
       "      <td>110781</td>\n",
       "      <td>0</td>\n",
       "      <td>-15.115448</td>\n",
       "      <td>30.0</td>\n",
       "      <td>0.0</td>\n",
       "      <td>0.0</td>\n",
       "      <td>0.0</td>\n",
       "      <td>...</td>\n",
       "      <td>21.128848</td>\n",
       "      <td>120.000000</td>\n",
       "      <td>https://s3.cp.lsst.org/rubinobs-lfa-cp/Schedul...</td>\n",
       "      <td>0</td>\n",
       "      <td>0</td>\n",
       "      <td>0</td>\n",
       "      <td>0</td>\n",
       "      <td>0</td>\n",
       "      <td>1859</td>\n",
       "      <td>lowdust</td>\n",
       "    </tr>\n",
       "    <tr>\n",
       "      <th>2025-07-02 08:29:10.172106+00:00</th>\n",
       "      <td>1.082980</td>\n",
       "      <td>0</td>\n",
       "      <td>0</td>\n",
       "      <td>110782</td>\n",
       "      <td>0</td>\n",
       "      <td>-14.934172</td>\n",
       "      <td>30.0</td>\n",
       "      <td>0.0</td>\n",
       "      <td>0.0</td>\n",
       "      <td>0.0</td>\n",
       "      <td>...</td>\n",
       "      <td>21.106389</td>\n",
       "      <td>120.000000</td>\n",
       "      <td>https://s3.cp.lsst.org/rubinobs-lfa-cp/Schedul...</td>\n",
       "      <td>0</td>\n",
       "      <td>0</td>\n",
       "      <td>0</td>\n",
       "      <td>0</td>\n",
       "      <td>0</td>\n",
       "      <td>1860</td>\n",
       "      <td>lowdust</td>\n",
       "    </tr>\n",
       "    <tr>\n",
       "      <th>2025-07-02 08:29:50.336656+00:00</th>\n",
       "      <td>1.098863</td>\n",
       "      <td>0</td>\n",
       "      <td>0</td>\n",
       "      <td>110783</td>\n",
       "      <td>0</td>\n",
       "      <td>-14.724051</td>\n",
       "      <td>30.0</td>\n",
       "      <td>0.0</td>\n",
       "      <td>0.0</td>\n",
       "      <td>0.0</td>\n",
       "      <td>...</td>\n",
       "      <td>21.094823</td>\n",
       "      <td>120.000000</td>\n",
       "      <td>https://s3.cp.lsst.org/rubinobs-lfa-cp/Schedul...</td>\n",
       "      <td>0</td>\n",
       "      <td>0</td>\n",
       "      <td>0</td>\n",
       "      <td>0</td>\n",
       "      <td>0</td>\n",
       "      <td>1861</td>\n",
       "      <td>lowdust</td>\n",
       "    </tr>\n",
       "    <tr>\n",
       "      <th>2025-07-02 08:30:34.706540+00:00</th>\n",
       "      <td>1.136223</td>\n",
       "      <td>0</td>\n",
       "      <td>0</td>\n",
       "      <td>110785</td>\n",
       "      <td>0</td>\n",
       "      <td>-6.417443</td>\n",
       "      <td>30.0</td>\n",
       "      <td>0.0</td>\n",
       "      <td>0.0</td>\n",
       "      <td>0.0</td>\n",
       "      <td>...</td>\n",
       "      <td>21.054736</td>\n",
       "      <td>120.000000</td>\n",
       "      <td>https://s3.cp.lsst.org/rubinobs-lfa-cp/Schedul...</td>\n",
       "      <td>0</td>\n",
       "      <td>0</td>\n",
       "      <td>0</td>\n",
       "      <td>0</td>\n",
       "      <td>0</td>\n",
       "      <td>1862</td>\n",
       "      <td>lowdust</td>\n",
       "    </tr>\n",
       "    <tr>\n",
       "      <th>2025-07-02 09:21:08.143608+00:00</th>\n",
       "      <td>0.000000</td>\n",
       "      <td>0</td>\n",
       "      <td>0</td>\n",
       "      <td>110809</td>\n",
       "      <td>0</td>\n",
       "      <td>0.000000</td>\n",
       "      <td>0.0</td>\n",
       "      <td>0.0</td>\n",
       "      <td>0.0</td>\n",
       "      <td>0.0</td>\n",
       "      <td>...</td>\n",
       "      <td>0.000000</td>\n",
       "      <td>0.000000</td>\n",
       "      <td></td>\n",
       "      <td>0</td>\n",
       "      <td>0</td>\n",
       "      <td>0</td>\n",
       "      <td>0</td>\n",
       "      <td>0</td>\n",
       "      <td>0</td>\n",
       "      <td>Target</td>\n",
       "    </tr>\n",
       "  </tbody>\n",
       "</table>\n",
       "<p>681 rows × 63 columns</p>\n",
       "</div>"
      ],
      "text/plain": [
       "                                   airmass  alt  az  blockId  cloud  \\\n",
       "time                                                                  \n",
       "2025-07-01 12:07:58.426043+00:00  1.307902    0   0   303553      0   \n",
       "2025-07-01 12:17:58.677764+00:00  1.242087    0   0   303555      0   \n",
       "2025-07-01 12:27:59.414033+00:00  1.301483    0   0   303557      0   \n",
       "2025-07-01 12:37:59.461362+00:00  1.240349    0   0   303559      0   \n",
       "2025-07-01 12:48:00.152097+00:00  1.295320    0   0   303561      0   \n",
       "...                                    ...  ...  ..      ...    ...   \n",
       "2025-07-02 08:28:26.819151+00:00  1.057579    0   0   110781      0   \n",
       "2025-07-02 08:29:10.172106+00:00  1.082980    0   0   110782      0   \n",
       "2025-07-02 08:29:50.336656+00:00  1.098863    0   0   110783      0   \n",
       "2025-07-02 08:30:34.706540+00:00  1.136223    0   0   110785      0   \n",
       "2025-07-02 09:21:08.143608+00:00  0.000000    0   0   110809      0   \n",
       "\n",
       "                                       decl  exposureTimes0  exposureTimes1  \\\n",
       "time                                                                          \n",
       "2025-07-01 12:07:58.426043+00:00   2.220861            30.0             0.0   \n",
       "2025-07-01 12:17:58.677764+00:00  -0.245179            30.0             0.0   \n",
       "2025-07-01 12:27:59.414033+00:00   2.425899            30.0             0.0   \n",
       "2025-07-01 12:37:59.461362+00:00  -0.038808            30.0             0.0   \n",
       "2025-07-01 12:48:00.152097+00:00   2.621555            30.0             0.0   \n",
       "...                                     ...             ...             ...   \n",
       "2025-07-02 08:28:26.819151+00:00 -15.115448            30.0             0.0   \n",
       "2025-07-02 08:29:10.172106+00:00 -14.934172            30.0             0.0   \n",
       "2025-07-02 08:29:50.336656+00:00 -14.724051            30.0             0.0   \n",
       "2025-07-02 08:30:34.706540+00:00  -6.417443            30.0             0.0   \n",
       "2025-07-02 09:21:08.143608+00:00   0.000000             0.0             0.0   \n",
       "\n",
       "                                  exposureTimes2  exposureTimes3  ...  \\\n",
       "time                                                              ...   \n",
       "2025-07-01 12:07:58.426043+00:00             0.0             0.0  ...   \n",
       "2025-07-01 12:17:58.677764+00:00             0.0             0.0  ...   \n",
       "2025-07-01 12:27:59.414033+00:00             0.0             0.0  ...   \n",
       "2025-07-01 12:37:59.461362+00:00             0.0             0.0  ...   \n",
       "2025-07-01 12:48:00.152097+00:00             0.0             0.0  ...   \n",
       "...                                          ...             ...  ...   \n",
       "2025-07-02 08:28:26.819151+00:00             0.0             0.0  ...   \n",
       "2025-07-02 08:29:10.172106+00:00             0.0             0.0  ...   \n",
       "2025-07-02 08:29:50.336656+00:00             0.0             0.0  ...   \n",
       "2025-07-02 08:30:34.706540+00:00             0.0             0.0  ...   \n",
       "2025-07-02 09:21:08.143608+00:00             0.0             0.0  ...   \n",
       "\n",
       "                                  skyBrightness    slewTime  \\\n",
       "time                                                          \n",
       "2025-07-01 12:07:58.426043+00:00       2.000000    4.605422   \n",
       "2025-07-01 12:17:58.677764+00:00       2.000000    4.882803   \n",
       "2025-07-01 12:27:59.414033+00:00       2.000000    5.106200   \n",
       "2025-07-01 12:37:59.461362+00:00       2.000000    4.889016   \n",
       "2025-07-01 12:48:00.152097+00:00       2.000000    5.122360   \n",
       "...                                         ...         ...   \n",
       "2025-07-02 08:28:26.819151+00:00      21.128848  120.000000   \n",
       "2025-07-02 08:29:10.172106+00:00      21.106389  120.000000   \n",
       "2025-07-02 08:29:50.336656+00:00      21.094823  120.000000   \n",
       "2025-07-02 08:30:34.706540+00:00      21.054736  120.000000   \n",
       "2025-07-02 09:21:08.143608+00:00       0.000000    0.000000   \n",
       "\n",
       "                                                                        snapshotUri  \\\n",
       "time                                                                                  \n",
       "2025-07-01 12:07:58.426043+00:00  https://s3.cp.lsst.org/rubinobs-lfa-cp/Schedul...   \n",
       "2025-07-01 12:17:58.677764+00:00  https://s3.cp.lsst.org/rubinobs-lfa-cp/Schedul...   \n",
       "2025-07-01 12:27:59.414033+00:00  https://s3.cp.lsst.org/rubinobs-lfa-cp/Schedul...   \n",
       "2025-07-01 12:37:59.461362+00:00  https://s3.cp.lsst.org/rubinobs-lfa-cp/Schedul...   \n",
       "2025-07-01 12:48:00.152097+00:00  https://s3.cp.lsst.org/rubinobs-lfa-cp/Schedul...   \n",
       "...                                                                             ...   \n",
       "2025-07-02 08:28:26.819151+00:00  https://s3.cp.lsst.org/rubinobs-lfa-cp/Schedul...   \n",
       "2025-07-02 08:29:10.172106+00:00  https://s3.cp.lsst.org/rubinobs-lfa-cp/Schedul...   \n",
       "2025-07-02 08:29:50.336656+00:00  https://s3.cp.lsst.org/rubinobs-lfa-cp/Schedul...   \n",
       "2025-07-02 08:30:34.706540+00:00  https://s3.cp.lsst.org/rubinobs-lfa-cp/Schedul...   \n",
       "2025-07-02 09:21:08.143608+00:00                                                      \n",
       "\n",
       "                                  solarElong  sunAlt  sunAz sunDec  sunRa  \\\n",
       "time                                                                        \n",
       "2025-07-01 12:07:58.426043+00:00           0       0      0      0      0   \n",
       "2025-07-01 12:17:58.677764+00:00           0       0      0      0      0   \n",
       "2025-07-01 12:27:59.414033+00:00           0       0      0      0      0   \n",
       "2025-07-01 12:37:59.461362+00:00           0       0      0      0      0   \n",
       "2025-07-01 12:48:00.152097+00:00           0       0      0      0      0   \n",
       "...                                      ...     ...    ...    ...    ...   \n",
       "2025-07-02 08:28:26.819151+00:00           0       0      0      0      0   \n",
       "2025-07-02 08:29:10.172106+00:00           0       0      0      0      0   \n",
       "2025-07-02 08:29:50.336656+00:00           0       0      0      0      0   \n",
       "2025-07-02 08:30:34.706540+00:00           0       0      0      0      0   \n",
       "2025-07-02 09:21:08.143608+00:00           0       0      0      0      0   \n",
       "\n",
       "                                  targetId  targetName  \n",
       "time                                                    \n",
       "2025-07-01 12:07:58.426043+00:00         8   SimTarget  \n",
       "2025-07-01 12:17:58.677764+00:00         9   SimTarget  \n",
       "2025-07-01 12:27:59.414033+00:00        10   SimTarget  \n",
       "2025-07-01 12:37:59.461362+00:00        11   SimTarget  \n",
       "2025-07-01 12:48:00.152097+00:00        12   SimTarget  \n",
       "...                                    ...         ...  \n",
       "2025-07-02 08:28:26.819151+00:00      1859     lowdust  \n",
       "2025-07-02 08:29:10.172106+00:00      1860     lowdust  \n",
       "2025-07-02 08:29:50.336656+00:00      1861     lowdust  \n",
       "2025-07-02 08:30:34.706540+00:00      1862     lowdust  \n",
       "2025-07-02 09:21:08.143608+00:00         0      Target  \n",
       "\n",
       "[681 rows x 63 columns]"
      ]
     },
     "execution_count": 36,
     "metadata": {},
     "output_type": "execute_result"
    }
   ],
   "source": [
    "t = endpoints['efd'].select_time_series(\"lsst.sal.Scheduler.logevent_target\", '*', sunset, sunrise)\n",
    "t.index = t.index - pd.Timedelta(1, 'ms')\n",
    "t"
   ]
  },
  {
   "cell_type": "code",
   "execution_count": null,
   "id": "4b08493a-4391-4a44-ba23-17f2cc914772",
   "metadata": {},
   "outputs": [],
   "source": [
    "# Targets which did not result in a visit\n",
    "cols = ['visit_id', 'day_obs', 'seq_num', 'time_target', 'time_observation', 'time_nextvisit', 'groupId', \n",
    "        'ra', 'decl', 'skyAngle', 'filter', 'scriptSalIndex', 'note']\n",
    "if len(vt) > 0:\n",
    "    incomplete_target = vt.query('visit_id == 0')[cols]\n",
    "    if len(incomplete_target) == 0:\n",
    "        print(\"All requested targets resulted in visits.\")\n",
    "    else:\n",
    "        print(\"Targets requested by not observed.\")\n",
    "        display(HTML(incomplete_target.to_html()))"
   ]
  },
  {
   "cell_type": "code",
   "execution_count": null,
   "id": "fd9f01f9-3857-40cc-82f6-e9eb1d4137ec",
   "metadata": {},
   "outputs": [],
   "source": []
  }
 ],
 "metadata": {
  "kernelspec": {
   "display_name": "Python 3 (ipykernel)",
   "language": "python",
   "name": "python3"
  },
  "language_info": {
   "codemirror_mode": {
    "name": "ipython",
    "version": 3
   },
   "file_extension": ".py",
   "mimetype": "text/x-python",
   "name": "python",
   "nbconvert_exporter": "python",
   "pygments_lexer": "ipython3",
   "version": "3.13.1"
  }
 },
 "nbformat": 4,
 "nbformat_minor": 5
}
