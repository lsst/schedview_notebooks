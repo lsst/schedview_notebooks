{
 "cells": [
  {
   "cell_type": "markdown",
   "id": "78a0ef72-3c8c-482c-a91e-caff394de59c",
   "metadata": {},
   "source": [
    "# Prenight Briefing for {{ params.day_obs }}"
   ]
  },
  {
   "cell_type": "markdown",
   "id": "e62944f7-3180-4018-bd4f-1ced0b25f117",
   "metadata": {},
   "source": [
    "This is presently just a playground for building a pre-night briefing."
   ]
  },
  {
   "cell_type": "code",
   "execution_count": null,
   "id": "1443b550-9836-495b-8f95-3a3d85d72372",
   "metadata": {},
   "outputs": [],
   "source": [
    "# This cell is only for setting parameter defaults\n",
    "day_obs = \"2025-05-05\"\n",
    "sim_date = \"2024-01-04\"\n",
    "sim_index = \"2\""
   ]
  },
  {
   "cell_type": "code",
   "execution_count": null,
   "id": "2ab46da6-0edd-4db1-a169-5d944b794349",
   "metadata": {},
   "outputs": [],
   "source": [
    "# Validate the input\n",
    "import re\n",
    "assert re.match(r'^\\d\\d\\d\\d-\\d\\d-\\d\\d$', day_obs) is not None\n",
    "assert re.match(r'^\\d\\d\\d\\d-\\d\\d-\\d\\d$', sim_date) is not None\n",
    "assert re.match(r'^\\d+$', sim_index) is not None"
   ]
  },
  {
   "cell_type": "code",
   "execution_count": null,
   "id": "c0f9c11a-ca91-46d7-8d08-96e3d242c325",
   "metadata": {},
   "outputs": [],
   "source": [
    "from IPython.display import display, HTML\n",
    "import datetime\n",
    "import sys\n",
    "import os\n",
    "import yaml\n",
    "from urllib.parse import urlparse\n",
    "import warnings\n",
    "import pandas as pd\n",
    "import numpy as np\n",
    "import astropy\n",
    "import bokeh\n",
    "import bokeh.io\n",
    "import boto3\n",
    "from astropy.time import Time"
   ]
  },
  {
   "cell_type": "code",
   "execution_count": null,
   "id": "2d99932c-1c03-4630-9b0b-b47840cdf588",
   "metadata": {},
   "outputs": [],
   "source": [
    "os.environ['RUBIN_SIM_DATA_DIR'] = '/sdf/data/rubin/user/neilsen/data/rubin_sim_data'"
   ]
  },
  {
   "cell_type": "code",
   "execution_count": null,
   "id": "cd04b56e-d070-4cfb-83c6-169835e34e63",
   "metadata": {},
   "outputs": [],
   "source": [
    "sys.path.insert(0, '/sdf/data/rubin/user/neilsen/devel/pip_targets/lib/python3.11/site-packages')"
   ]
  },
  {
   "cell_type": "code",
   "execution_count": null,
   "id": "8670af58-91f2-4dba-91d4-e6b4f5c2d8fb",
   "metadata": {},
   "outputs": [],
   "source": [
    "devel_versions = True\n",
    "if devel_versions:\n",
    "    sys.path.insert(0, '/sdf/data/rubin/user/neilsen/devel/times_square_sources/2024-03-25/uranography')\n",
    "    sys.path.insert(0, '/sdf/data/rubin/user/neilsen/devel/times_square_sources/2024-03-25/rubin_scheduler')\n",
    "    sys.path.insert(0, '/sdf/data/rubin/user/neilsen/devel/times_square_sources/2024-03-25/rubin_sim')\n",
    "    sys.path.insert(0, '/sdf/data/rubin/user/neilsen/devel/times_square_sources/2024-03-25/schedview')"
   ]
  },
  {
   "cell_type": "code",
   "execution_count": null,
   "id": "34e7a7d2-3cab-433f-882d-17577e1a6079",
   "metadata": {},
   "outputs": [],
   "source": [
    "import rubin_scheduler\n",
    "import rubin_scheduler.utils\n",
    "from rubin_scheduler.scheduler.model_observatory import ModelObservatory\n",
    "from rubin_sim import maf\n",
    "from lsst.resources import ResourcePath"
   ]
  },
  {
   "cell_type": "code",
   "execution_count": null,
   "id": "18cebc19-1e5d-4e40-9645-bec9da7d712e",
   "metadata": {},
   "outputs": [],
   "source": [
    "import schedview.compute\n",
    "import schedview.compute.visits\n",
    "import schedview.collect\n",
    "import schedview.plot"
   ]
  },
  {
   "cell_type": "code",
   "execution_count": null,
   "id": "593a158a-d33c-41fe-a5b6-ac2659ce41df",
   "metadata": {},
   "outputs": [],
   "source": [
    "astropy.utils.iers.conf.iers_degraded_accuracy = 'ignore'"
   ]
  },
  {
   "cell_type": "code",
   "execution_count": null,
   "id": "8b63f7b3-e3c1-44f6-999a-0a43c48f32b9",
   "metadata": {},
   "outputs": [],
   "source": [
    "# Degraded IERS accuracy is never going to be important for these figures.\n",
    "\n",
    "# If IERS degraded accuracy encountered, don't fail, just keep going.\n",
    "astropy.utils.iers.conf.iers_degraded_accuracy = \"ignore\"\n",
    "\n",
    "# Don't even complain.\n",
    "warnings.filterwarnings(\n",
    "    \"ignore\",\n",
    "    category=astropy.utils.exceptions.AstropyWarning,\n",
    "    message=\"Tried to get polar motions for times after IERS data is valid. Defaulting to polar motion from the 50-yr mean for those. This may affect precision at the arcsec level. Please check your astropy.utils.iers.conf.iers_auto_url and point it to a newer version if necessary.\",\n",
    ")"
   ]
  },
  {
   "cell_type": "code",
   "execution_count": null,
   "id": "b631463b-75f1-4865-9979-746986e5887d",
   "metadata": {},
   "outputs": [],
   "source": [
    "# Don't complain about working with daytime MJDs either.\n",
    "warnings.filterwarnings(\n",
    "    \"ignore\",\n",
    "    module=\"rubin_scheduler.skybrightness_pre.sky_model_pre\",\n",
    "    category=UserWarning,\n",
    "    message=\"Requested MJD between sunrise and sunset, returning closest maps\",\n",
    ")"
   ]
  },
  {
   "cell_type": "code",
   "execution_count": null,
   "id": "5a565a1b-92d3-4c97-9191-7eb3365c0f82",
   "metadata": {},
   "outputs": [],
   "source": [
    "# Quiet unimportant chatter from healpy.\n",
    "healpy_logger = logging.getLogger(\"healpy\")\n",
    "healpy_logger.setLevel(logging.WARNING)"
   ]
  },
  {
   "cell_type": "code",
   "execution_count": null,
   "id": "ce34bced-b5c5-42fd-8469-082eb8a3614f",
   "metadata": {},
   "outputs": [],
   "source": [
    "bokeh.io.output_notebook()"
   ]
  },
  {
   "cell_type": "code",
   "execution_count": null,
   "id": "d4d515c3-97fa-4bcc-96c1-19ca678f65bb",
   "metadata": {},
   "outputs": [],
   "source": [
    "%matplotlib inline"
   ]
  },
  {
   "cell_type": "code",
   "execution_count": null,
   "id": "6be09ede-0402-4f74-82c5-adfffde18605",
   "metadata": {},
   "outputs": [],
   "source": [
    "archive_uri = \"s3://rubin-scheduler-prenight/opsim/\"\n",
    "# archive_uri = \"file:///sdf/data/rubin/user/neilsen/data/test_sim_archive/\"\n",
    "\n",
    "if urlparse(archive_uri).scheme.upper() == 'S3':\n",
    "    os.environ[\"S3_ENDPOINT_URL\"] = \"https://s3dfrgw.slac.stanford.edu/\"\n",
    "    available_profiles = boto3.session.Session().available_profiles\n",
    "    for candidate_profile in ('prenight', 'default'):\n",
    "        if candidate_profile in available_profiles:\n",
    "            os.environ[\"AWS_PROFILE\"] = candidate_profile\n",
    "            break"
   ]
  },
  {
   "cell_type": "code",
   "execution_count": null,
   "id": "f09b69ae-d727-40ad-8034-ad40bd8b3f00",
   "metadata": {},
   "outputs": [],
   "source": [
    "sim_archive_rp = ResourcePath(archive_uri).join(sim_date, forceDirectory=True).join(sim_index, forceDirectory=True)\n",
    "sim_archive_metadata = yaml.safe_load(sim_archive_rp.join('sim_metadata.yaml').read().decode())"
   ]
  },
  {
   "cell_type": "code",
   "execution_count": null,
   "id": "216820a9-c69c-45d7-a933-bd8209db67d6",
   "metadata": {},
   "outputs": [],
   "source": [
    "sim_rp = sim_archive_rp.join(sim_archive_metadata['files']['observations']['name'])\n",
    "day_obs_mjd = int(Time(day_obs).mjd)\n",
    "observatory = ModelObservatory(init_load_length=1)\n",
    "timezone = \"Chile/Continental\""
   ]
  },
  {
   "cell_type": "markdown",
   "id": "7b332e10-8383-4ee2-b281-cc9cbee6be1a",
   "metadata": {},
   "source": [
    "## Astronomical events during the night"
   ]
  },
  {
   "cell_type": "code",
   "execution_count": null,
   "id": "0bb041ed-0ff0-4de3-a229-0cb0c3589af5",
   "metadata": {},
   "outputs": [],
   "source": [
    "day_obs_datetime = Time(day_obs_mjd, format='mjd').datetime\n",
    "day_obs_date = datetime.date(day_obs_datetime.year, day_obs_datetime.month, day_obs_datetime.day)\n",
    "night_events = schedview.compute.astro.night_events(day_obs_date)\n",
    "night_events"
   ]
  },
  {
   "cell_type": "markdown",
   "id": "7bed58c5-4084-4acf-bc1d-0f17895b8c70",
   "metadata": {},
   "source": [
    "## Sun and moon positions in the middle of the night"
   ]
  },
  {
   "cell_type": "code",
   "execution_count": null,
   "id": "13cc2f97-4d8e-43b5-98d9-3d93fcdd0f75",
   "metadata": {},
   "outputs": [],
   "source": [
    "model_observatory = ModelObservatory(init_load_length=1)\n",
    "model_observatory.mjd = night_events.loc['night_middle', 'MJD']"
   ]
  },
  {
   "cell_type": "code",
   "execution_count": null,
   "id": "0b8882f8-3e69-4b4c-b0af-23d760414b23",
   "metadata": {},
   "outputs": [],
   "source": [
    "body_positions_wide = pd.DataFrame(model_observatory.almanac.get_sun_moon_positions(night_events.loc['night_middle', 'MJD']))\n",
    "body_positions_wide.index.name = 'r'\n",
    "body_positions_wide.reset_index(inplace=True)\n",
    "\n",
    "angle_columns = ['RA', 'dec', 'alt', 'az']\n",
    "all_columns = angle_columns + ['phase']\n",
    "body_positions = (\n",
    "    pd.wide_to_long(body_positions_wide, stubnames=('sun', 'moon'), suffix=r'.*', sep='_', i='r', j='')\n",
    "    .droplevel('r')\n",
    "    .T[all_columns]\n",
    ")\n",
    "body_positions[angle_columns] = np.degrees(body_positions[angle_columns])\n",
    "body_positions"
   ]
  },
  {
   "cell_type": "markdown",
   "id": "3c8b0d6c-f050-44e9-8227-9cf90d47387a",
   "metadata": {},
   "source": [
    "All angles are in degrees."
   ]
  },
  {
   "cell_type": "markdown",
   "id": "d11cf112-3a36-49d6-bdc3-ba846e9870da",
   "metadata": {},
   "source": [
    "## Simulated visits"
   ]
  },
  {
   "cell_type": "code",
   "execution_count": null,
   "id": "ba21cd3e-6487-4fb8-829e-4591c87f9f7b",
   "metadata": {},
   "outputs": [],
   "source": [
    "try:\n",
    "    visits = schedview.collect.read_opsim(\n",
    "        sim_rp,\n",
    "        constraint=f\"FLOOR(observationStartMJD-0.5)={day_obs_mjd}\",\n",
    "        stackers=[\n",
    "            maf.stackers.TeffStacker(),\n",
    "            maf.stackers.ObservationStartDatetime64Stacker(),\n",
    "            maf.stackers.DayObsStacker(),\n",
    "            maf.stackers.DayObsMJDStacker(),\n",
    "            maf.stackers.DayObsISOStacker(),\n",
    "            maf.stackers.OverheadStacker()\n",
    "        ]        \n",
    "    )\n",
    "    visits = schedview.compute.visits.add_coords_tuple(visits)\n",
    "except UserError:\n",
    "    visits = pd.DataFrame(rubin_scheduler.scheduler.utils.empty_observation()).drop(index=0)"
   ]
  },
  {
   "cell_type": "markdown",
   "id": "5ef50e5c-b11f-4e5c-83d8-2b24322e4291",
   "metadata": {},
   "source": [
    "### Numbers of exposures, and gaps between them"
   ]
  },
  {
   "cell_type": "code",
   "execution_count": null,
   "id": "cdd6b401-d183-4d5d-a464-671bee13778f",
   "metadata": {},
   "outputs": [],
   "source": [
    "if len(visits):\n",
    "    overhead_summary = schedview.compute.visits.compute_overhead_summary(visits, night_events.loc['sun_n12_setting','MJD'], night_events.loc['sun_n12_rising','MJD'])\n",
    "    summary_table = schedview.plot.create_overhead_summary_table(overhead_summary)\n",
    "    display(HTML(summary_table))\n",
    "else:\n",
    "    print(\"No visits\")"
   ]
  },
  {
   "cell_type": "markdown",
   "id": "f35fe727-a827-49bf-bad1-0d1ca4bd99ac",
   "metadata": {},
   "source": [
    "### Map of the visits"
   ]
  },
  {
   "cell_type": "code",
   "execution_count": null,
   "id": "f3159b5c-0f12-48ba-84c6-a8d4cf92c1b4",
   "metadata": {},
   "outputs": [],
   "source": [
    "if len(visits):\n",
    "    vmap, vmap_data = schedview.plot.visitmap.create_visit_skymaps(\n",
    "        visits=visits,\n",
    "        night_date=day_obs_date,\n",
    "        timezone=timezone,\n",
    "        observatory=observatory,\n",
    "    )\n",
    "    bokeh.io.show(vmap)\n",
    "else:\n",
    "    print(\"No visits\")"
   ]
  },
  {
   "cell_type": "markdown",
   "id": "7a6d4ac1-a349-4032-ab20-575faf649ee2",
   "metadata": {},
   "source": [
    "The above plots show the visits collected during the night in two different representations, modeled after physical observing tools.\n",
    "\n",
    " - The \"Armillary sphere\" shows the sphere in orthographic projection, with the center point of the projection controlled by the \"center alt\" and \"center az\" sliders beneath the plot. A static orthogrophic projection is not an equal-area projection, but playing with the sliders is a helpful way to inform a human's spatial reasoning in three dimensions.\n",
    " - The \"Planisphere\" shows the sky in [Lambert Azimuthal Equal Area Projection](https://en.wikipedia.org/wiki/Lambert_azimuthal_equal-area_projection), centered at the south celestial pole, with R.A. increasing counterclockwise. The projection used is equal area, but highly distorted near the north celestial pole (outside the LSST footprint). This is a particularly helpful representation for planning observing, because changes in time in relevant features are simple rotations, without alterations in distortion, and there are no discontinuities anywhere in the footprint at any time of year.\n",
    "\n",
    "Both plots show the footprints of camera pointing taken up to the time set by the MJD slider, with the most recent three pointings outlined in cyan. The fill colors are set according to the [descolors palette](https://github.com/DarkEnergySurvey/descolors):\n",
    "\n",
    " - <span style='background-color:#56b4e9'>&nbsp;&nbsp;&nbsp;</span><span style='color:#56b4e9'> blue</span>: u band\n",
    " - <span style='background-color:#008060'>&nbsp;&nbsp;&nbsp;</span><span style='color:#008060'> green</span>: g band\n",
    " - <span style='background-color:#ff4000'>&nbsp;&nbsp;&nbsp;</span><span style='color:#ff4000'> red</span>: r band\n",
    " - <span style='background-color:#850000'>&nbsp;&nbsp;&nbsp;</span><span style='color:#850000'> brown/crimson</span>: i band\n",
    " - <span style='background-color:#6600cc'>&nbsp;&nbsp;&nbsp;</span><span style='color:#6600cc'> purple</span>: z band\n",
    " - <span style='background-color:#000000'>&nbsp;&nbsp;&nbsp;</span><span style='color:#000000'> black</span>: y band\n",
    "\n",
    "Both plots have the following additional annotations:\n",
    " - The gray background shows the planned final depth of the LSST survey.\n",
    " - The orange disk shows the coordinates of the moon.\n",
    " - The yellow disk shows the coordinates of the sun.\n",
    " - The green line (oval) shows the ecliptic.\n",
    "   - The sun moves along the ecliptic in the direction of increasing R.A. (counter-clockwise in the planisphere figure) such that it makes a full revolution in one year.\n",
    "   - The moon moves roughly (within 5.14°) along the ecliptic in the direction of increasing R.A. (counter-clockwise in the planisphere figure) , completing a full revolution in one [sidereal month](https://en.wikipedia.org/wiki/Lunar_month#Sidereal_month) (a bit over 27 days), about 14° per day.\n",
    " - The blue line (oval) shows the plane of the Milky Way.\n",
    " - The black line shows the horizon at the time set by the MJD slider.\n",
    " - The red line shows a zenith distince of 70° (airmass=2.9) at the time set by the MJD slider."
   ]
  },
  {
   "cell_type": "markdown",
   "id": "ec20ab07-9199-4e76-b351-334b6ca2b5d5",
   "metadata": {},
   "source": [
    "### Altitude plot"
   ]
  },
  {
   "cell_type": "code",
   "execution_count": null,
   "id": "4ddcdc42-5d5f-4156-bc0e-14538ba75cb9",
   "metadata": {},
   "outputs": [],
   "source": [
    "if len(visits):\n",
    "    fig = schedview.plot.nightly.plot_alt_vs_time(\n",
    "        visits=visits, almanac_events=night_events\n",
    "    )\n",
    "    bokeh.io.show(fig)\n",
    "else:\n",
    "    print(\"No visits\")"
   ]
  },
  {
   "cell_type": "markdown",
   "id": "3a51ca07-c590-486e-9f7c-6935d92f7c6c",
   "metadata": {},
   "source": [
    "### Horizon plot"
   ]
  },
  {
   "cell_type": "code",
   "execution_count": null,
   "id": "fb8f101f-3ea6-44a1-ad2a-59e2660e21f8",
   "metadata": {},
   "outputs": [],
   "source": [
    "if len(visits):\n",
    "    fig = schedview.plot.nightly.plot_polar_alt_az(visits=visits, legend=True)\n",
    "    bokeh.io.show(fig)\n",
    "else:\n",
    "    print(\"No visits\")"
   ]
  },
  {
   "cell_type": "markdown",
   "id": "660b1c07-a4a2-47e1-8ed7-a877802a37fd",
   "metadata": {},
   "source": [
    "### Table of visits"
   ]
  },
  {
   "cell_type": "code",
   "execution_count": null,
   "id": "e1904c95-5622-4b1e-adcc-d1911039c9e3",
   "metadata": {},
   "outputs": [],
   "source": [
    "if len(visits):\n",
    "    displayed_columns = ['start_date', 'fieldRA', 'fieldDec', 'filter', 'visitExposureTime', 'numExposures', 't_eff', 'skyBrightness', 'seeingFwhmEff', 'cloud', 'note']\n",
    "    displayed_visits_df = visits.loc[:, displayed_columns]\n",
    "    with pd.option_context('display.max_rows', 2000):\n",
    "        display(displayed_visits_df)\n",
    "else:\n",
    "    print(\"No visits\")"
   ]
  },
  {
   "cell_type": "code",
   "execution_count": null,
   "id": "501949ef-a2e9-4ff7-a8c5-3d8285dca500",
   "metadata": {},
   "outputs": [],
   "source": []
  }
 ],
 "metadata": {
  "kernelspec": {
   "display_name": "LSST",
   "language": "python",
   "name": "lsst"
  },
  "language_info": {
   "codemirror_mode": {
    "name": "ipython",
    "version": 3
   },
   "file_extension": ".py",
   "mimetype": "text/x-python",
   "name": "python",
   "nbconvert_exporter": "python",
   "pygments_lexer": "ipython3",
   "version": "3.11.7"
  }
 },
 "nbformat": 4,
 "nbformat_minor": 5
}
