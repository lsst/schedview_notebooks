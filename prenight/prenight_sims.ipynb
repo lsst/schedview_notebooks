{
 "cells": [
  {
   "cell_type": "code",
   "execution_count": null,
   "id": "f0323b9d-fe49-4e05-81b7-28fc75c587ef",
   "metadata": {},
   "outputs": [],
   "source": [
    "day_obs = \"2024-09-01\"\n",
    "earliest_sim = \"2023-01-01\""
   ]
  },
  {
   "cell_type": "code",
   "execution_count": null,
   "id": "8c76f84a-df76-4b9a-a0bf-e4872dd75041",
   "metadata": {},
   "outputs": [],
   "source": [
    "# Validate the input\n",
    "import re\n",
    "assert re.match(r'^\\d\\d\\d\\d-\\d\\d-\\d\\d$', day_obs) is not None\n",
    "assert re.match(r'^\\d\\d\\d\\d-\\d\\d-\\d\\d$', earliest_sim) is not None"
   ]
  },
  {
   "cell_type": "code",
   "execution_count": null,
   "id": "5416a89c-c702-4cfd-98b7-8c76dfc0d106",
   "metadata": {},
   "outputs": [],
   "source": [
    "from IPython.display import display, HTML, Markdown\n",
    "from collections import OrderedDict\n",
    "import datetime\n",
    "import sys\n",
    "import os\n",
    "import pandas as pd\n",
    "import numpy as np\n",
    "import astropy\n",
    "import bokeh\n",
    "import bokeh.io\n",
    "import boto3\n",
    "import warnings\n",
    "import astropy.units as u\n",
    "from astropy.time import Time, TimezoneInfo\n",
    "from urllib.parse import urlparse\n",
    "from lsst.resources import ResourcePath\n",
    "import yaml\n",
    "from contextlib import redirect_stdout\n",
    "import io\n",
    "from erfa import ErfaWarning"
   ]
  },
  {
   "cell_type": "code",
   "execution_count": null,
   "id": "2d578a98-c83a-4e4b-af3f-3e9f78d18dff",
   "metadata": {},
   "outputs": [],
   "source": [
    "os.environ['RUBIN_SIM_DATA_DIR'] = '/sdf/data/rubin/user/neilsen/data/rubin_sim_data'"
   ]
  },
  {
   "cell_type": "code",
   "execution_count": null,
   "id": "e31768ee-117f-4c9b-a2fe-e04279ca4885",
   "metadata": {},
   "outputs": [],
   "source": [
    "sys.path.insert(0, '/sdf/data/rubin/user/neilsen/devel/pip_targets/lib/python3.11/site-packages')"
   ]
  },
  {
   "cell_type": "code",
   "execution_count": null,
   "id": "15fb555a-b96b-431c-a89d-ac31bb796f41",
   "metadata": {},
   "outputs": [],
   "source": [
    "devel_versions = True\n",
    "if devel_versions:\n",
    "    sys.path.insert(0, '/sdf/data/rubin/user/neilsen/devel/times_square_sources/2024-03-25/uranography')\n",
    "    sys.path.insert(0, '/sdf/data/rubin/user/neilsen/devel/times_square_sources/2024-06-24/rubin_scheduler')\n",
    "    sys.path.insert(0, '/sdf/data/rubin/user/neilsen/devel/times_square_sources/2024-03-25/rubin_sim')\n",
    "    sys.path.insert(0, '/sdf/data/rubin/user/neilsen/devel/times_square_sources/2024-05-07/schedview')"
   ]
  },
  {
   "cell_type": "code",
   "execution_count": null,
   "id": "69a8cc9c-36f0-4ad5-a97a-5ff22eaf3b69",
   "metadata": {},
   "outputs": [],
   "source": [
    "import schedview.collect.resources\n",
    "import rubin_scheduler"
   ]
  },
  {
   "cell_type": "code",
   "execution_count": null,
   "id": "65374a59-a24c-4e2a-82b6-5bfb8af46345",
   "metadata": {},
   "outputs": [],
   "source": [
    "# Suppress benign warnings.\n",
    "\n",
    "warnings.filterwarnings(\n",
    "    \"ignore\",\n",
    "    category=ErfaWarning,\n",
    "    message=r\".*ERFA function.*dubious year.*\",\n",
    ")"
   ]
  },
  {
   "cell_type": "code",
   "execution_count": null,
   "id": "6be09ede-0402-4f74-82c5-adfffde18605",
   "metadata": {},
   "outputs": [],
   "source": [
    "archive_uri = \"s3://rubin:rubin-scheduler-prenight/opsim/\"\n",
    "\n",
    "if urlparse(archive_uri).scheme.upper() == 'S3':\n",
    "    os.environ[\"LSST_DISABLE_BUCKET_VALIDATION\"] = \"1\"\n",
    "    os.environ[\"S3_ENDPOINT_URL\"] = \"https://s3dfrgw.slac.stanford.edu/\""
   ]
  },
  {
   "cell_type": "markdown",
   "id": "81ad7a47-4d3a-4e49-bd91-fe7efac2cd4d",
   "metadata": {},
   "source": [
    "# Pre-night simulation archive overview with simulations including the `day_obs` of {{ params.day_obs }}"
   ]
  },
  {
   "cell_type": "code",
   "execution_count": null,
   "id": "e5a56a99-365e-446e-b4cb-cb245fd817fc",
   "metadata": {},
   "outputs": [],
   "source": [
    "display(Markdown(f\"Including simulations inserted into the archive at `{archive_uri}` on or after {earliest_sim}.\"))"
   ]
  },
  {
   "cell_type": "code",
   "execution_count": null,
   "id": "6bff746f-d037-471a-8cae-76cf527921b8",
   "metadata": {},
   "outputs": [],
   "source": [
    "archives_resource_path = ResourcePath(archive_uri)\n",
    "num_nights = np.ceil((Time.now() - Time(earliest_sim)).to_value(format='jd')).astype(int)\n",
    "sim_metadata = rubin_scheduler.sim_archive.read_archived_sim_metadata(archive_uri, num_nights=num_nights)\n",
    "marked_for_deletion = []\n",
    "for sim_uri in sim_metadata:\n",
    "    try:\n",
    "        first_day_obs = sim_metadata[sim_uri]['simulated_dates']['first_day_obs']\n",
    "        last_day_obs = sim_metadata[sim_uri]['simulated_dates']['last_day_obs']\n",
    "    except KeyError:\n",
    "        \n",
    "        try:\n",
    "            first_time = sim_metadata[sim_uri]['simulated_dates']['first']\n",
    "            if len(first_time) == 10:\n",
    "                # If the length is 10, it's really a date.\n",
    "                first_day_obs = first_time\n",
    "            else:\n",
    "                # day_obs is in utc-12 hours, but opsim starts in UTC\n",
    "                first_day_obs = Time(first).to_datetime(timezone=TimezoneInfo(utc_offset=-12*u.hour)).date().isoformat()\n",
    "            sim_metadata[sim_uri]['simulated_dates']['first_day_obs'] = first_day_obs\n",
    "            \n",
    "            last_time = sim_metadata[sim_uri]['simulated_dates']['last']\n",
    "            if len(last_time) == 10:\n",
    "                # If the length is 10, it's really a date.\n",
    "                last_day_obs = last_time\n",
    "            else:\n",
    "                # day_obs is in utc-12 hours, but opsim starts in UTC    \n",
    "                last_day_obs = Time(last).to_datetime(timezone=TimezoneInfo(utc_offset=-12*u.hour)).date().isoformat()\n",
    "\n",
    "            sim_metadata[sim_uri]['simulated_dates']['last_day_obs'] = last_day_obs\n",
    "        except KeyError:\n",
    "            marked_for_deletion.append(sim_uri)\n",
    "            continue\n",
    "    \n",
    "    if first_day_obs <= day_obs <= last_day_obs:\n",
    "        this_sim_rp = ResourcePath(sim_uri)\n",
    "        date_str, index_str = this_sim_rp.relative_to(archives_resource_path).split('/')\n",
    "        sim_metadata[sim_uri]['sim_execution_date'] = date_str\n",
    "        sim_metadata[sim_uri]['sim_index'] = int(index_str)\n",
    "        sim_metadata[sim_uri]['files']['observations']['url'] = this_sim_rp.join(sim_metadata[sim_uri]['files']['observations']['name'])\n",
    "        sim_metadata[sim_uri]['simulated_dates']['first_day_obs'] = first_day_obs\n",
    "        \n",
    "    else:\n",
    "        marked_for_deletion.append(sim_uri)\n",
    "\n",
    "for out_of_range_uri in marked_for_deletion:\n",
    "    del sim_metadata[out_of_range_uri]"
   ]
  },
  {
   "cell_type": "code",
   "execution_count": null,
   "id": "0b07a2fd-005b-445e-b40f-61cd38d080fe",
   "metadata": {},
   "outputs": [],
   "source": [
    "# Sort the simulations, most recent first.\n",
    "sort_by_values = np.array([(s['sim_execution_date'], s['sim_index'], s['label']) for s in sim_metadata.values()],\n",
    "                         dtype=[('date', np.unicode_, 10), ('id', int), ('label', np.unicode_, 128)])\n",
    "descending_indexes = np.flip(sort_by_values.argsort())\n",
    "sim_metadata = OrderedDict((list(sim_metadata.keys())[i], sim_metadata[list(sim_metadata.keys())[i]]) for i in descending_indexes)"
   ]
  },
  {
   "cell_type": "code",
   "execution_count": null,
   "id": "8d8104ed-d87c-4570-815c-5ab7ed57ff0e",
   "metadata": {},
   "outputs": [],
   "source": [
    "sim_table_markdown = io.StringIO()\n",
    "with redirect_stdout(sim_table_markdown):\n",
    "    print(\"| Date simulation addad to archive| id | simulation |first day_obs | last day_obs | scheduler version | tags |\")\n",
    "    print(\"|---------------------------------|----|------------|--------------|--------------|-------------------|------|\")\n",
    "    for sim_name, metadata in sim_metadata.items():\n",
    "        base_url = \"https://usdf-rsp-dev.slac.stanford.edu/times-square/github/lsst/schedview_notebooks/prenight/prenight\"\n",
    "        sim_date = metadata['sim_execution_date']\n",
    "        sim_index = metadata['sim_index']\n",
    "        url = f\"{base_url}?day_obs={day_obs}&sim_date={sim_date}&sim_index={sim_index}\"\n",
    "        abbreviated_label = metadata['label'].removeprefix(f\"{sim_date}/{sim_index}\")\n",
    "        print(f\"|{sim_date}|{sim_index}\", end=\"\")\n",
    "        print(f\"|[{abbreviated_label}]({url})\", end=\"\")\n",
    "        print(f\"|{metadata['simulated_dates']['first_day_obs']}|{metadata['simulated_dates']['last_day_obs']}\", end=\"\")\n",
    "        print(f\"|{metadata['scheduler_version'] if 'scheduler_version' in metadata else 'unknown'}|\", end=\"\")\n",
    "        if 'tags' in metadata:\n",
    "            print(f\"{str(metadata['tags'])}|\")\n",
    "        else:\n",
    "            print(\" |\")\n",
    "\n",
    "    print()\n",
    "\n",
    "display(Markdown(sim_table_markdown.getvalue()))"
   ]
  },
  {
   "cell_type": "code",
   "execution_count": null,
   "id": "ccb459d8-e5fa-40e3-81c7-10f1dca648c4",
   "metadata": {},
   "outputs": [],
   "source": [
    "sim_metadata"
   ]
  },
  {
   "cell_type": "code",
   "execution_count": null,
   "id": "55e2d320-affe-410a-b1b0-3759d53b1c6b",
   "metadata": {},
   "outputs": [],
   "source": []
  }
 ],
 "metadata": {
  "kernelspec": {
   "display_name": "LSST",
   "language": "python",
   "name": "lsst"
  },
  "language_info": {
   "codemirror_mode": {
    "name": "ipython",
    "version": 3
   },
   "file_extension": ".py",
   "mimetype": "text/x-python",
   "name": "python",
   "nbconvert_exporter": "python",
   "pygments_lexer": "ipython3",
   "version": "3.11.9"
  }
 },
 "nbformat": 4,
 "nbformat_minor": 5
}
