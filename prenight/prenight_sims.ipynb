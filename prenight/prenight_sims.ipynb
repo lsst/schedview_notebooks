{
 "cells": [
  {
   "cell_type": "code",
   "execution_count": null,
   "id": "f0323b9d-fe49-4e05-81b7-28fc75c587ef",
   "metadata": {
    "tags": []
   },
   "outputs": [],
   "source": [
    "# This cell does not get executed when run with Times Square\n",
    "import os\n",
    "import datetime\n",
    "\n",
    "day_obs = int(os.environ.get(\"SCHEDVIEW_DAY_OBS\", datetime.date.today().strftime(\"%Y%m%d\")))\n",
    "earliest_sim = datetime.date.fromisoformat(os.environ.get(\"SCHEDVIEW_SIM_DATE\", datetime.date(day_obs//10000, (day_obs%10000)//100, day_obs%100).isoformat()))"
   ]
  },
  {
   "cell_type": "code",
   "execution_count": null,
   "id": "e453f5d5-21a7-4183-a02f-2ffabdf06cb4",
   "metadata": {},
   "outputs": [],
   "source": [
    "day_obs = '2025-10-08'\n",
    "earliest_sim = datetime.date.fromisoformat('2025-01-01')"
   ]
  },
  {
   "cell_type": "code",
   "execution_count": null,
   "id": "15fb555a-b96b-431c-a89d-ac31bb796f41",
   "metadata": {},
   "outputs": [],
   "source": [
    "import os\n",
    "import sys\n",
    "\n",
    "#sched_source = 'usdf'\n",
    "#sched_source = 'shared'\n",
    "sched_source = 'devel'\n",
    "match sched_source:\n",
    "    case 'shared':\n",
    "        if os.path.exists('/sdf/data/rubin/shared/scheduler/packages'):\n",
    "            sys.path.insert(0, \"/sdf/data/rubin/shared/scheduler/packages/uranography-1.2.1\")\n",
    "            sys.path.insert(0, \"/sdf/data/rubin/shared/scheduler/packages/rubin_scheduler-3.11.0\")\n",
    "            sys.path.insert(0, \"/sdf/data/rubin/shared/scheduler/packages/rubin_sim-2.2.4\")\n",
    "            sys.path.insert(0, \"/sdf/data/rubin/shared/scheduler/packages/schedview-0.18.1.dev27+g2dced97\")\n",
    "    case 'devel':\n",
    "        if os.path.exists('/sdf/data/rubin/user/neilsen/devel'):\n",
    "            sys.path.insert(0, \"/sdf/data/rubin/user/neilsen/devel/uranography\")\n",
    "            sys.path.insert(0, \"/sdf/data/rubin/user/neilsen/devel/rubin_scheduler\")\n",
    "            sys.path.insert(0, \"/sdf/data/rubin/user/neilsen/devel/rubin_sim\")\n",
    "            sys.path.insert(0, \"/sdf/data/rubin/user/neilsen/devel/schedview\")\n",
    "    case _:\n",
    "        # Use the current environment\n",
    "        pass"
   ]
  },
  {
   "cell_type": "code",
   "execution_count": null,
   "id": "33627d06-14e7-4762-b10a-b76e3b0d1bdb",
   "metadata": {},
   "outputs": [],
   "source": [
    "from schedview.util import config_logging_for_reports\n",
    "import logging\n",
    "config_logging_for_reports(logging.ERROR)"
   ]
  },
  {
   "cell_type": "code",
   "execution_count": null,
   "id": "5416a89c-c702-4cfd-98b7-8c76dfc0d106",
   "metadata": {},
   "outputs": [],
   "source": [
    "from IPython.display import display, HTML, Markdown\n",
    "from collections import OrderedDict\n",
    "import datetime\n",
    "import pandas as pd\n",
    "import numpy as np\n",
    "import astropy\n",
    "import bokeh\n",
    "import bokeh.io\n",
    "import boto3\n",
    "import warnings\n",
    "import astropy.units as u\n",
    "from astropy.time import Time, TimezoneInfo\n",
    "from urllib.parse import urlparse\n",
    "from lsst.resources import ResourcePath\n",
    "import yaml\n",
    "from contextlib import redirect_stdout\n",
    "import io\n",
    "from erfa import ErfaWarning"
   ]
  },
  {
   "cell_type": "code",
   "execution_count": null,
   "id": "2d578a98-c83a-4e4b-af3f-3e9f78d18dff",
   "metadata": {},
   "outputs": [],
   "source": [
    "os.environ['RUBIN_SIM_DATA_DIR'] = '/sdf/data/rubin/shared/rubin_sim_data'"
   ]
  },
  {
   "cell_type": "code",
   "execution_count": null,
   "id": "69a8cc9c-36f0-4ad5-a97a-5ff22eaf3b69",
   "metadata": {},
   "outputs": [],
   "source": [
    "import schedview.collect.resources\n",
    "import schedview.plot\n",
    "import rubin_sim\n",
    "from rubin_sim.sim_archive import vseqarchive\n",
    "from schedview import DayObs"
   ]
  },
  {
   "cell_type": "code",
   "execution_count": null,
   "id": "65374a59-a24c-4e2a-82b6-5bfb8af46345",
   "metadata": {},
   "outputs": [],
   "source": [
    "# Suppress benign warnings.\n",
    "\n",
    "warnings.filterwarnings(\n",
    "    \"ignore\",\n",
    "    category=ErfaWarning,\n",
    "    message=r\".*ERFA function.*dubious year.*\",\n",
    ")"
   ]
  },
  {
   "cell_type": "code",
   "execution_count": null,
   "id": "70611ede-b6e8-4ace-aaae-220391b89c73",
   "metadata": {},
   "outputs": [],
   "source": [
    "metadata_dsn = {\n",
    "    'host': 'usdf-maf-visit-seq-archive-tx-ro.sdf.slac.stanford.edu',\n",
    "    'user': 'tester',\n",
    "    'database': 'opsim_log',\n",
    "}\n",
    "metadata_schema = 'test'\n",
    "visit_seq_archive_metadata = vseqarchive.VisitSequenceArchiveMetadata(metadata_dsn, metadata_schema)"
   ]
  },
  {
   "cell_type": "code",
   "execution_count": null,
   "id": "07640f32-eb95-4416-b1e1-f010644ab0be",
   "metadata": {},
   "outputs": [],
   "source": [
    "max_age = (datetime.date.today() - earliest_sim).days + 1"
   ]
  },
  {
   "cell_type": "code",
   "execution_count": null,
   "id": "6677ab3c-8ebb-40d6-9bbf-e1d6f0f6a0e4",
   "metadata": {},
   "outputs": [],
   "source": [
    "def make_prenight_link(row):\n",
    "    url = f\"https://usdf-rsp.slac.stanford.edu/times-square/github/lsst/schedview_notebooks/prenight/prenight?day_obs={day_obs}&sim_date={row.sim_creation_day_obs}&sim_index={row.daily_id}\"\n",
    "    return f'<a href={url} target=\"_blank\" rel=\"noopener noreferrer\">{row.visitseq_label}</a>'\n",
    "\n",
    "def display_prenight_html_for_telescope(this_telescope_prenights):\n",
    "    prenight_html = (\n",
    "        this_telescope_prenights\n",
    "        .assign(simulation=this_telescope_prenights.apply(make_prenight_link, axis='columns'))\n",
    "        .loc[:, ['sim_creation_day_obs', 'daily_id', 'simulation', 'first_day_obs', 'last_day_obs', 'scheduler_version', 'tags']]\n",
    "        .rename(columns={\n",
    "            'sim_creation_day_obs': 'Date simulation was run',\n",
    "            'daily_id': 'id',\n",
    "        })\n",
    "    ).to_html(escape=False)\n",
    "    display(HTML(prenight_html))"
   ]
  },
  {
   "cell_type": "markdown",
   "id": "81ad7a47-4d3a-4e49-bd91-fe7efac2cd4d",
   "metadata": {},
   "source": [
    "# Pre-night simulation archive overview with simulations including the `day_obs` of {{ params.day_obs }}"
   ]
  },
  {
   "cell_type": "code",
   "execution_count": null,
   "id": "e5a56a99-365e-446e-b4cb-cb245fd817fc",
   "metadata": {},
   "outputs": [],
   "source": [
    "display(Markdown(f\"Including simulations recorded on or after {earliest_sim}.\"))"
   ]
  },
  {
   "cell_type": "markdown",
   "id": "372f704c-c999-4548-8374-d06f88fd82cf",
   "metadata": {},
   "source": [
    "### Simonyi telescope"
   ]
  },
  {
   "cell_type": "code",
   "execution_count": null,
   "id": "233534c5-8caa-44cf-ab4e-5ec467e13099",
   "metadata": {},
   "outputs": [],
   "source": [
    "simonyi_prenights = visit_seq_archive_metadata.sims_on_nights(DayObs(day_obs).date, DayObs(day_obs).date, tags=[\"prenight\"], telescope='simonyi', max_simulation_age=max_age).set_index('visitseq_uuid')\n",
    "display_prenight_html_for_telescope(simonyi_prenights)"
   ]
  },
  {
   "cell_type": "markdown",
   "id": "44084513-0595-42bd-aa37-44787fc5c97d",
   "metadata": {},
   "source": [
    "### AuxTel"
   ]
  },
  {
   "cell_type": "code",
   "execution_count": null,
   "id": "ad488bcc-c4c0-4d45-9c3e-6f5efc1fcaf5",
   "metadata": {},
   "outputs": [],
   "source": [
    "auxtel_prenights = visit_seq_archive_metadata.sims_on_nights(DayObs(day_obs).date, DayObs(day_obs).date, tags=[\"prenight\"], telescope='auxtel', max_simulation_age=max_age).set_index('visitseq_uuid')\n",
    "display_prenight_html_for_telescope(auxtel_prenights)"
   ]
  },
  {
   "cell_type": "code",
   "execution_count": null,
   "id": "8dd3d621-c472-44c6-a4b8-80460d238300",
   "metadata": {},
   "outputs": [],
   "source": [
    "os.environ['AWS_PROFILE'] = 'prenight'"
   ]
  },
  {
   "cell_type": "code",
   "execution_count": null,
   "id": "94dbad7c-8f69-4134-a79b-2f05da7017d1",
   "metadata": {},
   "outputs": [],
   "source": [
    "from lsst.resources import ResourcePath"
   ]
  },
  {
   "cell_type": "code",
   "execution_count": null,
   "id": "363cdcbb-e0d8-4638-9ad3-39e118c424cb",
   "metadata": {},
   "outputs": [],
   "source": [
    "rp = ResourcePath('s3://rubin:rubin-scheduler-prenight/opsim/test/prenight_index/auxtel/2025/10/auxtel_prenights_for_2025-10-08.json')"
   ]
  },
  {
   "cell_type": "code",
   "execution_count": null,
   "id": "085e1f9c-fc4e-4988-abc2-9c371aa03cda",
   "metadata": {},
   "outputs": [],
   "source": [
    "with rp.as_local() as local_rp:\n",
    "    df = pd.read_json(local_rp.ospath, orient='index')"
   ]
  },
  {
   "cell_type": "code",
   "execution_count": null,
   "id": "65b2d235-9bc7-4a8a-9dbf-f76fd1ce7a4b",
   "metadata": {},
   "outputs": [],
   "source": [
    "df"
   ]
  },
  {
   "cell_type": "code",
   "execution_count": null,
   "id": "69ad2382-da1b-4716-bfc5-e248a56ee9c9",
   "metadata": {},
   "outputs": [],
   "source": []
  }
 ],
 "metadata": {
  "kernelspec": {
   "display_name": "LSST",
   "language": "python",
   "name": "lsst"
  },
  "language_info": {
   "codemirror_mode": {
    "name": "ipython",
    "version": 3
   },
   "file_extension": ".py",
   "mimetype": "text/x-python",
   "name": "python",
   "nbconvert_exporter": "python",
   "pygments_lexer": "ipython3",
   "version": "3.10.11"
  }
 },
 "nbformat": 4,
 "nbformat_minor": 5
}
