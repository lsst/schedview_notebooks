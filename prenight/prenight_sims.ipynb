{
 "cells": [
  {
   "cell_type": "code",
   "execution_count": null,
   "id": "f0323b9d-fe49-4e05-81b7-28fc75c587ef",
   "metadata": {},
   "outputs": [],
   "source": [
    "# This cell does not get executed when run with Times Square\n",
    "import os\n",
    "import datetime\n",
    "\n",
    "day_obs = int(os.environ.get(\"SCHEDVIEW_DAY_OBS\", datetime.date.today().strftime(\"%Y%m%d\")))\n",
    "earliest_sim = datetime.date.fromisoformat(os.environ.get(\"SCHEDVIEW_SIM_DATE\", datetime.date(day_obs//10000, (day_obs%10000)//100, day_obs%100).isoformat()))"
   ]
  },
  {
   "cell_type": "code",
   "execution_count": null,
   "id": "8c76f84a-df76-4b9a-a0bf-e4872dd75041",
   "metadata": {},
   "outputs": [],
   "source": [
    "# Validate the input\n",
    "import re\n",
    "if not isinstance(earliest_sim, str):\n",
    "    earliest_sim = earliest_sim.isoformat()"
   ]
  },
  {
   "cell_type": "code",
   "execution_count": null,
   "id": "5416a89c-c702-4cfd-98b7-8c76dfc0d106",
   "metadata": {},
   "outputs": [],
   "source": [
    "from IPython.display import display, HTML, Markdown\n",
    "from collections import OrderedDict\n",
    "import datetime\n",
    "import sys\n",
    "import os\n",
    "import pandas as pd\n",
    "import numpy as np\n",
    "import astropy\n",
    "import bokeh\n",
    "import bokeh.io\n",
    "import boto3\n",
    "import warnings\n",
    "import astropy.units as u\n",
    "from astropy.time import Time, TimezoneInfo\n",
    "from urllib.parse import urlparse\n",
    "from lsst.resources import ResourcePath\n",
    "import yaml\n",
    "from contextlib import redirect_stdout\n",
    "import io\n",
    "from erfa import ErfaWarning"
   ]
  },
  {
   "cell_type": "code",
   "execution_count": null,
   "id": "2d578a98-c83a-4e4b-af3f-3e9f78d18dff",
   "metadata": {},
   "outputs": [],
   "source": [
    "os.environ['RUBIN_SIM_DATA_DIR'] = '/sdf/data/rubin/shared/rubin_sim_data'"
   ]
  },
  {
   "cell_type": "code",
   "execution_count": null,
   "id": "15fb555a-b96b-431c-a89d-ac31bb796f41",
   "metadata": {},
   "outputs": [],
   "source": [
    "#sched_source = 'usdf'\n",
    "sched_source = 'shared'\n",
    "#sched_source = 'devel'\n",
    "match sched_source:\n",
    "    case 'shared':\n",
    "            sys.path.insert(0, \"/sdf/data/rubin/shared/scheduler/packages/rubin_scheduler-3.8.0\")\n",
    "            sys.path.insert(0, \"/sdf/data/rubin/shared/scheduler/packages/rubin_sim-2.2.4\")\n",
    "            sys.path.insert(0, \"/sdf/data/rubin/shared/scheduler/packages/schedview-0.17.0\")\n",
    "    case 'devel':\n",
    "        sys.path.insert(0, \"/sdf/data/rubin/user/neilsen/devel/uranography\")\n",
    "        sys.path.insert(0, \"/sdf/data/rubin/user/neilsen/devel/rubin_scheduler\")\n",
    "        sys.path.insert(0, \"/sdf/data/rubin/user/neilsen/devel/rubin_sim\")\n",
    "        sys.path.insert(0, \"/sdf/data/rubin/user/neilsen/devel/schedview\")\n",
    "    case _:\n",
    "        # Use the current environment\n",
    "        pass"
   ]
  },
  {
   "cell_type": "code",
   "execution_count": null,
   "id": "69a8cc9c-36f0-4ad5-a97a-5ff22eaf3b69",
   "metadata": {},
   "outputs": [],
   "source": [
    "import schedview.collect.resources\n",
    "import schedview.plot\n",
    "import rubin_sim\n",
    "from schedview import DayObs"
   ]
  },
  {
   "cell_type": "code",
   "execution_count": null,
   "id": "65374a59-a24c-4e2a-82b6-5bfb8af46345",
   "metadata": {},
   "outputs": [],
   "source": [
    "# Suppress benign warnings.\n",
    "\n",
    "warnings.filterwarnings(\n",
    "    \"ignore\",\n",
    "    category=ErfaWarning,\n",
    "    message=r\".*ERFA function.*dubious year.*\",\n",
    ")"
   ]
  },
  {
   "cell_type": "code",
   "execution_count": null,
   "id": "6be09ede-0402-4f74-82c5-adfffde18605",
   "metadata": {},
   "outputs": [],
   "source": [
    "archive_uri = \"s3://rubin:rubin-scheduler-prenight/opsim/\"\n",
    "compilation_uri = f\"{archive_uri}compiled_metadata_cache.h5\"\n",
    "\n",
    "if urlparse(archive_uri).scheme.upper() == 'S3':\n",
    "    os.environ[\"LSST_DISABLE_BUCKET_VALIDATION\"] = \"1\"\n",
    "    os.environ[\"S3_ENDPOINT_URL\"] = \"https://s3dfrgw.slac.stanford.edu/\""
   ]
  },
  {
   "cell_type": "markdown",
   "id": "81ad7a47-4d3a-4e49-bd91-fe7efac2cd4d",
   "metadata": {},
   "source": [
    "# Pre-night simulation archive overview with simulations including the `day_obs` of {{ params.day_obs }}"
   ]
  },
  {
   "cell_type": "code",
   "execution_count": null,
   "id": "e5a56a99-365e-446e-b4cb-cb245fd817fc",
   "metadata": {},
   "outputs": [],
   "source": [
    "display(Markdown(f\"Including simulations inserted into the archive at `{archive_uri}` on or after {earliest_sim}.\"))"
   ]
  },
  {
   "cell_type": "code",
   "execution_count": null,
   "id": "6bff746f-d037-471a-8cae-76cf527921b8",
   "metadata": {},
   "outputs": [],
   "source": [
    "day_obs = DayObs.from_date(day_obs)\n",
    "archives_resource_path = ResourcePath(archive_uri)\n",
    "num_nights = np.ceil((Time.now() - Time(earliest_sim)).to_value(format='jd')).astype(int)\n",
    "raw_sim_metadata = rubin_sim.sim_archive.read_archived_sim_metadata(archive_uri, num_nights=num_nights, compilation_resource=compilation_uri)\n",
    "sim_metadata = schedview.compute.munge_sim_archive_metadata(raw_sim_metadata, day_obs, archive_uri)"
   ]
  },
  {
   "cell_type": "markdown",
   "id": "372f704c-c999-4548-8374-d06f88fd82cf",
   "metadata": {},
   "source": [
    "### Simonyi telescope"
   ]
  },
  {
   "cell_type": "code",
   "execution_count": null,
   "id": "55e2d320-affe-410a-b1b0-3759d53b1c6b",
   "metadata": {},
   "outputs": [],
   "source": [
    "simonyi_sim_metadata = {\n",
    "    k: v for k, v in sim_metadata.items()\n",
    "    if 'telescope' in sim_metadata[k] and sim_metadata[k]['telescope'].lower() == 'simonyi'\n",
    "}\n",
    "sim_table_html = schedview.plot.make_html_table_of_sim_archive_metadata(simonyi_sim_metadata, day_obs)\n",
    "display(HTML(sim_table_html))"
   ]
  },
  {
   "cell_type": "markdown",
   "id": "44084513-0595-42bd-aa37-44787fc5c97d",
   "metadata": {},
   "source": [
    "### AuxTel"
   ]
  },
  {
   "cell_type": "code",
   "execution_count": null,
   "id": "ad488bcc-c4c0-4d45-9c3e-6f5efc1fcaf5",
   "metadata": {},
   "outputs": [],
   "source": [
    "auxtel_sim_metadata = {\n",
    "    k: v for k, v in sim_metadata.items()\n",
    "    if 'telescope' in sim_metadata[k] and sim_metadata[k]['telescope'].lower() == 'auxtel'\n",
    "}\n",
    "sim_table_html = schedview.plot.make_html_table_of_sim_archive_metadata(auxtel_sim_metadata, day_obs)\n",
    "display(HTML(sim_table_html))"
   ]
  },
  {
   "cell_type": "code",
   "execution_count": null,
   "id": "8dd3d621-c472-44c6-a4b8-80460d238300",
   "metadata": {},
   "outputs": [],
   "source": []
  }
 ],
 "metadata": {
  "kernelspec": {
   "display_name": "ehn312",
   "language": "python",
   "name": "python3"
  },
  "language_info": {
   "codemirror_mode": {
    "name": "ipython",
    "version": 3
   },
   "file_extension": ".py",
   "mimetype": "text/x-python",
   "name": "python",
   "nbconvert_exporter": "python",
   "pygments_lexer": "ipython3",
   "version": "3.12.7"
  }
 },
 "nbformat": 4,
 "nbformat_minor": 5
}
