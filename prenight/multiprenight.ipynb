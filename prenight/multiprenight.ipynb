{
 "cells": [
  {
   "cell_type": "markdown",
   "id": "78a0ef72-3c8c-482c-a91e-caff394de59c",
   "metadata": {},
   "source": [
    "# Prenight Briefing for {{ params.day_obs }}"
   ]
  },
  {
   "cell_type": "markdown",
   "id": "e62944f7-3180-4018-bd4f-1ced0b25f117",
   "metadata": {},
   "source": [
    "This is presently just a playground for building a pre-night briefing."
   ]
  },
  {
   "cell_type": "code",
   "execution_count": null,
   "id": "00491da5-f911-4329-81c9-a300e7e9897f",
   "metadata": {},
   "outputs": [],
   "source": [
    "# This cell is only for setting parameter defaults\n",
    "day_obs = \"2024-09-04\"\n",
    "sim_date = \"2024-09-04\""
   ]
  },
  {
   "cell_type": "code",
   "execution_count": null,
   "id": "2ab46da6-0edd-4db1-a169-5d944b794349",
   "metadata": {},
   "outputs": [],
   "source": [
    "# Validate the inputs\n",
    "import re\n",
    "assert re.match(r'^\\d\\d\\d\\d-\\d\\d-\\d\\d$', day_obs) is not None\n",
    "assert re.match(r'^\\d\\d\\d\\d-\\d\\d-\\d\\d$', sim_date) is not None"
   ]
  },
  {
   "cell_type": "code",
   "execution_count": null,
   "id": "c0f9c11a-ca91-46d7-8d08-96e3d242c325",
   "metadata": {},
   "outputs": [],
   "source": [
    "from IPython.display import display, HTML\n",
    "import datetime\n",
    "import sys\n",
    "import os\n",
    "import yaml\n",
    "from urllib.parse import urlparse\n",
    "import warnings\n",
    "import pandas as pd\n",
    "import numpy as np\n",
    "import astropy\n",
    "import bokeh\n",
    "import bokeh.io\n",
    "import boto3\n",
    "import colorcet\n",
    "from erfa import ErfaWarning\n",
    "from astropy.time import Time"
   ]
  },
  {
   "cell_type": "code",
   "execution_count": null,
   "id": "2d99932c-1c03-4630-9b0b-b47840cdf588",
   "metadata": {},
   "outputs": [],
   "source": [
    "os.environ['RUBIN_SIM_DATA_DIR'] = '/sdf/data/rubin/user/neilsen/data/rubin_sim_data'"
   ]
  },
  {
   "cell_type": "code",
   "execution_count": null,
   "id": "cd04b56e-d070-4cfb-83c6-169835e34e63",
   "metadata": {},
   "outputs": [],
   "source": [
    "sys.path.insert(0, '/sdf/data/rubin/user/neilsen/devel/pip_targets/lib/python3.11/site-packages')"
   ]
  },
  {
   "cell_type": "code",
   "execution_count": null,
   "id": "8670af58-91f2-4dba-91d4-e6b4f5c2d8fb",
   "metadata": {},
   "outputs": [],
   "source": [
    "devel_versions = True\n",
    "if devel_versions:\n",
    "    sys.path.insert(0, '/sdf/data/rubin/user/neilsen/devel/times_square_sources/2024-03-25/uranography')\n",
    "    sys.path.insert(0, '/sdf/data/rubin/user/neilsen/devel/rubin_scheduler')\n",
    "    sys.path.insert(0, '/sdf/data/rubin/user/neilsen/devel/rubin_sim')\n",
    "    sys.path.insert(0, '/sdf/data/rubin/user/neilsen/devel/schedview')"
   ]
  },
  {
   "cell_type": "code",
   "execution_count": null,
   "id": "34e7a7d2-3cab-433f-882d-17577e1a6079",
   "metadata": {},
   "outputs": [],
   "source": [
    "import rubin_scheduler\n",
    "import rubin_scheduler.utils\n",
    "import rubin_scheduler.sim_archive\n",
    "from rubin_scheduler.scheduler.model_observatory import ModelObservatory\n",
    "from rubin_sim import maf\n",
    "from lsst.resources import ResourcePath"
   ]
  },
  {
   "cell_type": "code",
   "execution_count": null,
   "id": "18cebc19-1e5d-4e40-9645-bec9da7d712e",
   "metadata": {},
   "outputs": [],
   "source": [
    "import schedview.compute\n",
    "import schedview.compute.visits\n",
    "import schedview.collect\n",
    "import schedview.collect.rewards\n",
    "import schedview.plot\n",
    "import schedview.plot.rewards"
   ]
  },
  {
   "cell_type": "code",
   "execution_count": null,
   "id": "8b63f7b3-e3c1-44f6-999a-0a43c48f32b9",
   "metadata": {},
   "outputs": [],
   "source": [
    "# Degraded IERS accuracy is never going to be important for these figures.\n",
    "\n",
    "# If IERS degraded accuracy encountered, don't fail, just keep going.\n",
    "astropy.utils.iers.conf.iers_degraded_accuracy = \"ignore\"\n",
    "\n",
    "# Don't even complain.\n",
    "warnings.filterwarnings(\n",
    "    \"ignore\",\n",
    "    category=astropy.utils.exceptions.AstropyWarning,\n",
    "    message=\"Tried to get polar motions for times after IERS data is valid. Defaulting to polar motion from the 50-yr mean for those. This may affect precision at the arcsec level. Please check your astropy.utils.iers.conf.iers_auto_url and point it to a newer version if necessary.\",\n",
    ")"
   ]
  },
  {
   "cell_type": "code",
   "execution_count": null,
   "id": "0a0c0657-9b51-4406-ac8a-ee70baff7e87",
   "metadata": {},
   "outputs": [],
   "source": [
    "# In simulations, we go far enough into the future that the erfa module finds it \"dubious\".\n",
    "# Keep the complaints quiet.\n",
    "warnings.filterwarnings(\n",
    "    \"ignore\",\n",
    "    category=ErfaWarning,\n",
    "    message=r\".*dubious year.*\",\n",
    ")"
   ]
  },
  {
   "cell_type": "code",
   "execution_count": null,
   "id": "b631463b-75f1-4865-9979-746986e5887d",
   "metadata": {},
   "outputs": [],
   "source": [
    "# Don't complain about working with daytime MJDs either.\n",
    "warnings.filterwarnings(\n",
    "    \"ignore\",\n",
    "    module=\"rubin_scheduler.skybrightness_pre.sky_model_pre\",\n",
    "    category=UserWarning,\n",
    "    message=\"Requested MJD between sunrise and sunset, returning closest maps\",\n",
    ")"
   ]
  },
  {
   "cell_type": "code",
   "execution_count": null,
   "id": "5a565a1b-92d3-4c97-9191-7eb3365c0f82",
   "metadata": {},
   "outputs": [],
   "source": [
    "# Quiet unimportant chatter from healpy.\n",
    "healpy_logger = logging.getLogger(\"healpy\")\n",
    "healpy_logger.setLevel(logging.WARNING)"
   ]
  },
  {
   "cell_type": "code",
   "execution_count": null,
   "id": "ce34bced-b5c5-42fd-8469-082eb8a3614f",
   "metadata": {},
   "outputs": [],
   "source": [
    "bokeh.io.output_notebook()"
   ]
  },
  {
   "cell_type": "code",
   "execution_count": null,
   "id": "d4d515c3-97fa-4bcc-96c1-19ca678f65bb",
   "metadata": {},
   "outputs": [],
   "source": [
    "%matplotlib inline"
   ]
  },
  {
   "cell_type": "code",
   "execution_count": null,
   "id": "6be09ede-0402-4f74-82c5-adfffde18605",
   "metadata": {},
   "outputs": [],
   "source": [
    "archive_uri = \"s3://rubin:rubin-scheduler-prenight/opsim/\"\n",
    "\n",
    "if urlparse(archive_uri).scheme.upper() == 'S3':\n",
    "    os.environ[\"LSST_DISABLE_BUCKET_VALIDATION\"] = \"1\"\n",
    "    os.environ[\"S3_ENDPOINT_URL\"] = \"https://s3dfrgw.slac.stanford.edu/\""
   ]
  },
  {
   "cell_type": "code",
   "execution_count": null,
   "id": "216820a9-c69c-45d7-a933-bd8209db67d6",
   "metadata": {},
   "outputs": [],
   "source": [
    "day_obs_mjd = int(Time(day_obs).mjd)\n",
    "observatory = ModelObservatory(init_load_length=1)\n",
    "timezone = \"Chile/Continental\""
   ]
  },
  {
   "cell_type": "markdown",
   "id": "7b332e10-8383-4ee2-b281-cc9cbee6be1a",
   "metadata": {},
   "source": [
    "## Astronomical events during the night"
   ]
  },
  {
   "cell_type": "code",
   "execution_count": null,
   "id": "0bb041ed-0ff0-4de3-a229-0cb0c3589af5",
   "metadata": {},
   "outputs": [],
   "source": [
    "day_obs_datetime = Time(day_obs_mjd, format='mjd').datetime\n",
    "day_obs_date = datetime.date(day_obs_datetime.year, day_obs_datetime.month, day_obs_datetime.day)\n",
    "night_events = schedview.compute.astro.night_events(day_obs_date)\n",
    "night_events"
   ]
  },
  {
   "cell_type": "markdown",
   "id": "7bed58c5-4084-4acf-bc1d-0f17895b8c70",
   "metadata": {},
   "source": [
    "## Sun and moon positions in the middle of the night"
   ]
  },
  {
   "cell_type": "code",
   "execution_count": null,
   "id": "13cc2f97-4d8e-43b5-98d9-3d93fcdd0f75",
   "metadata": {},
   "outputs": [],
   "source": [
    "model_observatory = ModelObservatory(init_load_length=1)\n",
    "model_observatory.mjd = night_events.loc['night_middle', 'MJD']"
   ]
  },
  {
   "cell_type": "code",
   "execution_count": null,
   "id": "0b8882f8-3e69-4b4c-b0af-23d760414b23",
   "metadata": {},
   "outputs": [],
   "source": [
    "body_positions_wide = pd.DataFrame(model_observatory.almanac.get_sun_moon_positions(night_events.loc['night_middle', 'MJD']))\n",
    "body_positions_wide.index.name = 'r'\n",
    "body_positions_wide.reset_index(inplace=True)\n",
    "\n",
    "angle_columns = ['RA', 'dec', 'alt', 'az']\n",
    "all_columns = angle_columns + ['phase']\n",
    "body_positions = (\n",
    "    pd.wide_to_long(body_positions_wide, stubnames=('sun', 'moon'), suffix=r'.*', sep='_', i='r', j='')\n",
    "    .droplevel('r')\n",
    "    .T[all_columns]\n",
    ")\n",
    "body_positions[angle_columns] = np.degrees(body_positions[angle_columns])\n",
    "body_positions"
   ]
  },
  {
   "cell_type": "markdown",
   "id": "3c8b0d6c-f050-44e9-8227-9cf90d47387a",
   "metadata": {},
   "source": [
    "All angles are in degrees."
   ]
  },
  {
   "cell_type": "markdown",
   "id": "d11cf112-3a36-49d6-bdc3-ba846e9870da",
   "metadata": {},
   "source": [
    "## Simulated visits"
   ]
  },
  {
   "cell_type": "code",
   "execution_count": null,
   "id": "04cd962f-ab6c-4ed5-9484-3295001457b1",
   "metadata": {},
   "outputs": [],
   "source": [
    "sims_metadata = rubin_scheduler.sim_archive.read_archived_sim_metadata(archive_uri, latest=sim_date, num_nights=1)"
   ]
  },
  {
   "cell_type": "code",
   "execution_count": null,
   "id": "b22f8fa6-0014-46ca-ab0d-564532ad42ba",
   "metadata": {},
   "outputs": [],
   "source": [
    "visit_columns = [\n",
    "    \"observationId\",\n",
    "    \"fieldRA\",\n",
    "    \"fieldDec\",\n",
    "    \"observationStartMJD\",\n",
    "    \"flush_by_mjd\",\n",
    "    \"visitExposureTime\",\n",
    "    \"filter\",\n",
    "    \"rotSkyPos\",\n",
    "    \"rotSkyPos_desired\",\n",
    "    \"numExposures\",\n",
    "    \"airmass\",\n",
    "    \"seeingFwhm500\",\n",
    "    \"seeingFwhmEff\",\n",
    "    \"seeingFwhmGeom\",\n",
    "    \"skyBrightness\",\n",
    "    \"night\",\n",
    "    \"slewTime\",\n",
    "    \"visitTime\",\n",
    "    \"slewDistance\",\n",
    "    \"fiveSigmaDepth\",\n",
    "    \"altitude\",\n",
    "    \"azimuth\",\n",
    "    \"paraAngle\",\n",
    "    \"cloud\",\n",
    "    \"moonAlt\",\n",
    "    \"sunAlt\",\n",
    "    \"note\",\n",
    "    \"block_id\",\n",
    "    \"observationStartLST\",\n",
    "    \"rotTelPos\",\n",
    "    \"rotTelPos_backup\",\n",
    "    \"moonAz\",\n",
    "    \"sunAz\",\n",
    "    \"sunRA\",\n",
    "    \"sunDec\",\n",
    "    \"moonRA\",\n",
    "    \"moonDec\",\n",
    "    \"moonDistance\",\n",
    "    \"solarElong\",\n",
    "    \"moonPhase\",\n",
    "    \"cummTelAz\",\n",
    "    \"scripted_id\",\n",
    "]"
   ]
  },
  {
   "cell_type": "code",
   "execution_count": null,
   "id": "ed591004-bc36-46b2-b3d3-92b2c4562521",
   "metadata": {},
   "outputs": [],
   "source": [
    "visits_list = []\n",
    "for sim_uri, sim_metadata in sims_metadata.items():\n",
    "    first_day_obs_mjd = astropy.time.Time(sim_metadata['simulated_dates']['first']).mjd\n",
    "    last_day_obs_mjd = astropy.time.Time(sim_metadata['simulated_dates']['last']).mjd\n",
    "\n",
    "    includes_day_obs = first_day_obs_mjd <= day_obs_mjd <= last_day_obs_mjd\n",
    "\n",
    "    if not includes_day_obs:\n",
    "        continue\n",
    "\n",
    "    sim_rp = ResourcePath(sim_uri).join(sim_metadata['files']['observations']['name'])\n",
    "\n",
    "    these_visits = schedview.collect.read_opsim(\n",
    "        sim_rp,\n",
    "        constraint=f\"FLOOR(observationStartMJD-0.5)={day_obs_mjd}\",\n",
    "        stackers=[\n",
    "            maf.stackers.TeffStacker(),\n",
    "            maf.stackers.ObservationStartDatetime64Stacker(),\n",
    "            maf.stackers.DayObsStacker(),\n",
    "            maf.stackers.DayObsMJDStacker(),\n",
    "            maf.stackers.DayObsISOStacker(),\n",
    "            maf.stackers.OverheadStacker()\n",
    "        ],\n",
    "        dbcols=visit_columns\n",
    "    )\n",
    "    these_visits = schedview.compute.visits.add_coords_tuple(these_visits)\n",
    "\n",
    "    for key in ['label', 'opsim_config_branch', 'opsim_config_repository', 'opsim_config_script', 'scheduler_version', 'sim_runner_kwargs', 'tags']:\n",
    "        these_visits[key] = [sim_metadata[key]] * len(these_visits)\n",
    "\n",
    "    visits_list.append(these_visits)\n",
    "\n",
    "visits = pd.concat(visits_list)\n",
    "visits_ds = bokeh.models.ColumnDataSource(visits)"
   ]
  },
  {
   "cell_type": "code",
   "execution_count": null,
   "id": "e4129a64-523c-4290-9ef1-45d4e034e46b",
   "metadata": {},
   "outputs": [],
   "source": [
    "sim_labels = visits['label'].unique()\n",
    "num_sims = len(sim_labels)\n",
    "sim_color_mapper = bokeh.models.CategoricalColorMapper(\n",
    "    factors=sim_labels, palette=colorcet.palette[\"glasbey\"][: num_sims], name=\"simulation\"\n",
    ")\n",
    "\n",
    "# Some bokeh symbols have the same outer shape but different inner markings,\n",
    "# but these are harder to distinguish, so put them at the end.\n",
    "all_markers = [m for m in bokeh.core.enums.MarkerType if \"_\" not in m] + [m for m in bokeh.core.enums.MarkerType if \"_\" in m]\n",
    "\n",
    "# dot is hard to see\n",
    "all_markers.remove('dot')\n",
    "sim_marker_mapper = bokeh.models.CategoricalMarkerMapper(\n",
    "    factors=sim_labels,\n",
    "    markers=all_markers[:num_sims],\n",
    "    name=\"simulation\",\n",
    ")"
   ]
  },
  {
   "cell_type": "code",
   "execution_count": null,
   "id": "fb35ff65-ea27-4706-891f-16652edaadbe",
   "metadata": {},
   "outputs": [],
   "source": [
    "fig = bokeh.plotting.figure(\n",
    "    title=\"Altitude\",\n",
    "    x_axis_label=\"Time (UTC)\",\n",
    "    y_axis_label=\"Altitude\",\n",
    "    frame_width=1536,\n",
    "    frame_height=512,\n",
    ")\n",
    "\n",
    "fig.scatter(x='start_date',\n",
    "            y='altitude',\n",
    "            legend_group='label',\n",
    "            fill_alpha=0.2,\n",
    "            color={\"field\": \"label\", \"transform\": sim_color_mapper},\n",
    "            marker={\"field\": \"label\", \"transform\": sim_marker_mapper},\n",
    "            source=visits_ds)\n",
    "bokeh.io.show(fig)"
   ]
  },
  {
   "cell_type": "code",
   "execution_count": null,
   "id": "3367fbf8-60e9-4143-a93f-53965acc3a5c",
   "metadata": {},
   "outputs": [],
   "source": []
  }
 ],
 "metadata": {
  "kernelspec": {
   "display_name": "LSST",
   "language": "python",
   "name": "lsst"
  },
  "language_info": {
   "codemirror_mode": {
    "name": "ipython",
    "version": 3
   },
   "file_extension": ".py",
   "mimetype": "text/x-python",
   "name": "python",
   "nbconvert_exporter": "python",
   "pygments_lexer": "ipython3",
   "version": "3.11.9"
  }
 },
 "nbformat": 4,
 "nbformat_minor": 5
}
