{
 "cells": [
  {
   "cell_type": "code",
   "execution_count": null,
   "id": "00491da5-f911-4329-81c9-a300e7e9897f",
   "metadata": {},
   "outputs": [],
   "source": [
    "# This cell is only for setting parameter defaults\n",
    "day_obs = \"2024-09-04\"\n",
    "sim_date = \"2024-09-04\""
   ]
  },
  {
   "cell_type": "markdown",
   "id": "78a0ef72-3c8c-482c-a91e-caff394de59c",
   "metadata": {},
   "source": [
    "# Prenight Briefing for {{ params.day_obs }}"
   ]
  },
  {
   "cell_type": "markdown",
   "id": "e62944f7-3180-4018-bd4f-1ced0b25f117",
   "metadata": {},
   "source": [
    "This is presently just a playground for building a pre-night briefing."
   ]
  },
  {
   "cell_type": "code",
   "execution_count": null,
   "id": "2ab46da6-0edd-4db1-a169-5d944b794349",
   "metadata": {},
   "outputs": [],
   "source": [
    "# Validate the inputs\n",
    "import re\n",
    "assert re.match(r'^\\d\\d\\d\\d-\\d\\d-\\d\\d$', day_obs) is not None\n",
    "assert re.match(r'^\\d\\d\\d\\d-\\d\\d-\\d\\d$', sim_date) is not None"
   ]
  },
  {
   "cell_type": "code",
   "execution_count": null,
   "id": "c0f9c11a-ca91-46d7-8d08-96e3d242c325",
   "metadata": {},
   "outputs": [],
   "source": [
    "from IPython.display import display, HTML\n",
    "import datetime\n",
    "import math\n",
    "import sys\n",
    "import os\n",
    "import yaml\n",
    "from urllib.parse import urlparse\n",
    "import warnings\n",
    "import itertools\n",
    "import pandas as pd\n",
    "import numpy as np\n",
    "import astropy\n",
    "import bokeh\n",
    "import bokeh.io\n",
    "import boto3\n",
    "import colorcet\n",
    "from erfa import ErfaWarning\n",
    "from astropy.time import Time"
   ]
  },
  {
   "cell_type": "code",
   "execution_count": null,
   "id": "ac504651-4898-411c-9245-10f7b6860a96",
   "metadata": {},
   "outputs": [],
   "source": [
    "from sklearn.neighbors import KernelDensity"
   ]
  },
  {
   "cell_type": "code",
   "execution_count": null,
   "id": "2d99932c-1c03-4630-9b0b-b47840cdf588",
   "metadata": {},
   "outputs": [],
   "source": [
    "os.environ['RUBIN_SIM_DATA_DIR'] = '/sdf/data/rubin/user/neilsen/data/rubin_sim_data'"
   ]
  },
  {
   "cell_type": "code",
   "execution_count": null,
   "id": "cd04b56e-d070-4cfb-83c6-169835e34e63",
   "metadata": {},
   "outputs": [],
   "source": [
    "sys.path.insert(0, '/sdf/data/rubin/user/neilsen/devel/pip_targets/lib/python3.11/site-packages')"
   ]
  },
  {
   "cell_type": "code",
   "execution_count": null,
   "id": "8670af58-91f2-4dba-91d4-e6b4f5c2d8fb",
   "metadata": {},
   "outputs": [],
   "source": [
    "devel_versions = True\n",
    "if devel_versions:\n",
    "    sys.path.insert(0, '/sdf/data/rubin/user/neilsen/devel/times_square_sources/2024-03-25/uranography')\n",
    "    sys.path.insert(0, '/sdf/data/rubin/user/neilsen/devel/rubin_scheduler')\n",
    "    sys.path.insert(0, '/sdf/data/rubin/user/neilsen/devel/rubin_sim')\n",
    "    sys.path.insert(0, '/sdf/data/rubin/user/neilsen/devel/schedview')"
   ]
  },
  {
   "cell_type": "code",
   "execution_count": null,
   "id": "34e7a7d2-3cab-433f-882d-17577e1a6079",
   "metadata": {},
   "outputs": [],
   "source": [
    "import rubin_scheduler\n",
    "import rubin_scheduler.utils\n",
    "import rubin_scheduler.sim_archive\n",
    "from rubin_scheduler.scheduler.model_observatory import ModelObservatory\n",
    "from rubin_sim import maf\n",
    "from lsst.resources import ResourcePath"
   ]
  },
  {
   "cell_type": "code",
   "execution_count": null,
   "id": "18cebc19-1e5d-4e40-9645-bec9da7d712e",
   "metadata": {},
   "outputs": [],
   "source": [
    "import schedview.compute\n",
    "import schedview.compute.visits\n",
    "import schedview.collect\n",
    "import schedview.collect.rewards\n",
    "import schedview.plot\n",
    "import schedview.plot.rewards"
   ]
  },
  {
   "cell_type": "code",
   "execution_count": null,
   "id": "8b63f7b3-e3c1-44f6-999a-0a43c48f32b9",
   "metadata": {},
   "outputs": [],
   "source": [
    "# Degraded IERS accuracy is never going to be important for these figures.\n",
    "\n",
    "# If IERS degraded accuracy encountered, don't fail, just keep going.\n",
    "astropy.utils.iers.conf.iers_degraded_accuracy = \"ignore\"\n",
    "\n",
    "# Don't even complain.\n",
    "warnings.filterwarnings(\n",
    "    \"ignore\",\n",
    "    category=astropy.utils.exceptions.AstropyWarning,\n",
    "    message=\"Tried to get polar motions for times after IERS data is valid. Defaulting to polar motion from the 50-yr mean for those. This may affect precision at the arcsec level. Please check your astropy.utils.iers.conf.iers_auto_url and point it to a newer version if necessary.\",\n",
    ")"
   ]
  },
  {
   "cell_type": "code",
   "execution_count": null,
   "id": "0a0c0657-9b51-4406-ac8a-ee70baff7e87",
   "metadata": {},
   "outputs": [],
   "source": [
    "# In simulations, we go far enough into the future that the erfa module finds it \"dubious\".\n",
    "# Keep the complaints quiet.\n",
    "warnings.filterwarnings(\n",
    "    \"ignore\",\n",
    "    category=ErfaWarning,\n",
    "    message=r\".*dubious year.*\",\n",
    ")"
   ]
  },
  {
   "cell_type": "code",
   "execution_count": null,
   "id": "b631463b-75f1-4865-9979-746986e5887d",
   "metadata": {},
   "outputs": [],
   "source": [
    "# Don't complain about working with daytime MJDs either.\n",
    "warnings.filterwarnings(\n",
    "    \"ignore\",\n",
    "    module=\"rubin_scheduler.skybrightness_pre.sky_model_pre\",\n",
    "    category=UserWarning,\n",
    "    message=\"Requested MJD between sunrise and sunset, returning closest maps\",\n",
    ")"
   ]
  },
  {
   "cell_type": "code",
   "execution_count": null,
   "id": "7ade4793-1c95-42f2-91ff-0870f3b5f154",
   "metadata": {},
   "outputs": [],
   "source": [
    "warnings.filterwarnings(\n",
    "    \"ignore\",\n",
    "    module=r\"schedview.collect.opsim.*\",\n",
    "    category=UserWarning,\n",
    "    message=r\"Column .* not found in .*, skipping.\",\n",
    ")"
   ]
  },
  {
   "cell_type": "code",
   "execution_count": null,
   "id": "5a565a1b-92d3-4c97-9191-7eb3365c0f82",
   "metadata": {},
   "outputs": [],
   "source": [
    "# Quiet unimportant chatter from healpy.\n",
    "healpy_logger = logging.getLogger(\"healpy\")\n",
    "healpy_logger.setLevel(logging.WARNING)"
   ]
  },
  {
   "cell_type": "code",
   "execution_count": null,
   "id": "ce34bced-b5c5-42fd-8469-082eb8a3614f",
   "metadata": {},
   "outputs": [],
   "source": [
    "bokeh.io.output_notebook()"
   ]
  },
  {
   "cell_type": "code",
   "execution_count": null,
   "id": "d4d515c3-97fa-4bcc-96c1-19ca678f65bb",
   "metadata": {},
   "outputs": [],
   "source": [
    "%matplotlib inline"
   ]
  },
  {
   "cell_type": "code",
   "execution_count": null,
   "id": "6be09ede-0402-4f74-82c5-adfffde18605",
   "metadata": {},
   "outputs": [],
   "source": [
    "archive_uri = \"s3://rubin:rubin-scheduler-prenight/opsim/\"\n",
    "\n",
    "if urlparse(archive_uri).scheme.upper() == 'S3':\n",
    "    os.environ[\"LSST_DISABLE_BUCKET_VALIDATION\"] = \"1\"\n",
    "    os.environ[\"S3_ENDPOINT_URL\"] = \"https://s3dfrgw.slac.stanford.edu/\""
   ]
  },
  {
   "cell_type": "code",
   "execution_count": null,
   "id": "216820a9-c69c-45d7-a933-bd8209db67d6",
   "metadata": {},
   "outputs": [],
   "source": [
    "day_obs_mjd = int(Time(day_obs).mjd)\n",
    "observatory = ModelObservatory(init_load_length=1)\n",
    "timezone = \"Chile/Continental\""
   ]
  },
  {
   "cell_type": "markdown",
   "id": "7b332e10-8383-4ee2-b281-cc9cbee6be1a",
   "metadata": {},
   "source": [
    "## Astronomical events during the night"
   ]
  },
  {
   "cell_type": "code",
   "execution_count": null,
   "id": "0bb041ed-0ff0-4de3-a229-0cb0c3589af5",
   "metadata": {},
   "outputs": [],
   "source": [
    "day_obs_datetime = Time(day_obs_mjd, format='mjd').datetime\n",
    "day_obs_date = datetime.date(day_obs_datetime.year, day_obs_datetime.month, day_obs_datetime.day)\n",
    "night_events = schedview.compute.astro.night_events(day_obs_date)\n",
    "night_events"
   ]
  },
  {
   "cell_type": "markdown",
   "id": "7bed58c5-4084-4acf-bc1d-0f17895b8c70",
   "metadata": {},
   "source": [
    "## Sun and moon positions in the middle of the night"
   ]
  },
  {
   "cell_type": "code",
   "execution_count": null,
   "id": "13cc2f97-4d8e-43b5-98d9-3d93fcdd0f75",
   "metadata": {},
   "outputs": [],
   "source": [
    "model_observatory = ModelObservatory(init_load_length=1)\n",
    "model_observatory.mjd = night_events.loc['night_middle', 'MJD']"
   ]
  },
  {
   "cell_type": "code",
   "execution_count": null,
   "id": "0b8882f8-3e69-4b4c-b0af-23d760414b23",
   "metadata": {},
   "outputs": [],
   "source": [
    "body_positions_wide = pd.DataFrame(model_observatory.almanac.get_sun_moon_positions(night_events.loc['night_middle', 'MJD']))\n",
    "body_positions_wide.index.name = 'r'\n",
    "body_positions_wide.reset_index(inplace=True)\n",
    "\n",
    "angle_columns = ['RA', 'dec', 'alt', 'az']\n",
    "all_columns = angle_columns + ['phase']\n",
    "body_positions = (\n",
    "    pd.wide_to_long(body_positions_wide, stubnames=('sun', 'moon'), suffix=r'.*', sep='_', i='r', j='')\n",
    "    .droplevel('r')\n",
    "    .T[all_columns]\n",
    ")\n",
    "body_positions[angle_columns] = np.degrees(body_positions[angle_columns])\n",
    "body_positions"
   ]
  },
  {
   "cell_type": "markdown",
   "id": "3c8b0d6c-f050-44e9-8227-9cf90d47387a",
   "metadata": {},
   "source": [
    "All angles are in degrees."
   ]
  },
  {
   "cell_type": "markdown",
   "id": "d11cf112-3a36-49d6-bdc3-ba846e9870da",
   "metadata": {},
   "source": [
    "## Simulated visits"
   ]
  },
  {
   "cell_type": "code",
   "execution_count": null,
   "id": "5374e3b1-db51-4a2a-a4ad-2fc4d1320241",
   "metadata": {},
   "outputs": [],
   "source": [
    "visits = schedview.collect.read_multiple_opsims(archive_uri, sim_date, day_obs_mjd)\n",
    "visits_ds = bokeh.models.ColumnDataSource(visits)"
   ]
  },
  {
   "cell_type": "code",
   "execution_count": null,
   "id": "0d925b97-6845-47c1-a82b-1c5f72597dd9",
   "metadata": {},
   "outputs": [],
   "source": [
    "sim_labels = visits['label'].unique()\n",
    "sim_color_mapper, sim_color_dict, sim_marker_mapper, sim_hatch_dict = schedview.plot.generate_sim_indicators(sim_labels)"
   ]
  },
  {
   "cell_type": "markdown",
   "id": "bd005bbb-65d4-4ea1-8213-ff3d9b95b8b8",
   "metadata": {},
   "source": [
    "## Altitude and airmass"
   ]
  },
  {
   "cell_type": "code",
   "execution_count": null,
   "id": "f17433c4-8553-4374-9006-d861d69b42b0",
   "metadata": {},
   "outputs": [],
   "source": [
    "fig = schedview.plot.multisim.plot_alt_airmass_vs_time(\n",
    "    visits_ds,\n",
    "    scatter_user_kwargs=dict(\n",
    "        fill_alpha=0.2,\n",
    "        color={\"field\": \"label\", \"transform\": sim_color_mapper},\n",
    "        marker={\"field\": \"label\", \"transform\": sim_marker_mapper},\n",
    "    )\n",
    ")\n",
    "bokeh.io.show(fig)"
   ]
  },
  {
   "cell_type": "markdown",
   "id": "ae61ce9d-e1ff-4504-997c-2fefba94c42e",
   "metadata": {},
   "source": [
    "## Often repeated fields"
   ]
  },
  {
   "cell_type": "markdown",
   "id": "18bfba53-85a6-48a7-9da0-715da4eb6feb",
   "metadata": {},
   "source": [
    "An often repeated field is a field repeated at least four times in at least one simulation:"
   ]
  },
  {
   "cell_type": "code",
   "execution_count": null,
   "id": "19d15a93-73d3-4d33-b921-72f3625e8104",
   "metadata": {},
   "outputs": [],
   "source": [
    "often_repeated_fields, often_repeated_field_stats = schedview.compute.often_repeated_fields(visits)\n",
    "often_repeated_field_stats.style.format({\n",
    "    'first_time': lambda t: t.strftime(\"%H:%M:%S\"),\n",
    "    'last_time': lambda t: t.strftime(\"%H:%M:%S\")}) "
   ]
  },
  {
   "cell_type": "markdown",
   "id": "9885f9f2-f1e2-40b3-ac8c-876c73016cd5",
   "metadata": {},
   "source": [
    "At present, field coordinates must be exactly matched to be recognized as the \"same\" field.\n",
    "A more robust approach would be to find clusters of nearby pointings (maybe with kmeans or a similar algorithm), and group by the identified clusters."
   ]
  },
  {
   "cell_type": "markdown",
   "id": "167b6082-c2b1-45a6-910d-3bc6c05906e0",
   "metadata": {},
   "source": [
    "## Distribution comparisons"
   ]
  },
  {
   "cell_type": "code",
   "execution_count": null,
   "id": "69c27233-8227-42c5-900f-a6ce3ed5dc25",
   "metadata": {},
   "outputs": [],
   "source": [
    "fig = schedview.plot.overplot_kernel_density_estimates(visits, column='fieldRA', x_points=np.arange(0, 360), colors=sim_color_dict, hatches=sim_hatch_dict, bandwidth=1)\n",
    "bokeh.io.show(fig)"
   ]
  },
  {
   "cell_type": "code",
   "execution_count": null,
   "id": "ca6c0ee2-e459-4a53-9df4-accd22cf5856",
   "metadata": {},
   "outputs": [],
   "source": [
    "fig = schedview.plot.overplot_kernel_density_estimates(visits, column='fieldRA', x_points=np.arange(0, 360), colors=sim_color_dict, hatches=sim_hatch_dict, bandwidth=1)\n",
    "bokeh.io.show(fig)"
   ]
  },
  {
   "cell_type": "code",
   "execution_count": null,
   "id": "5b6ed786-2fb4-4af4-b6b7-c7770d8286d9",
   "metadata": {},
   "outputs": [],
   "source": [
    "fig = schedview.plot.overplot_kernel_density_estimates(visits, column='fieldDec', x_points=np.arange(-90, 30), colors=sim_color_dict, hatches=sim_hatch_dict, bandwidth=1)\n",
    "bokeh.io.show(fig)"
   ]
  },
  {
   "cell_type": "code",
   "execution_count": null,
   "id": "27c94d99-4b82-466a-9c2e-707f1cb79c90",
   "metadata": {},
   "outputs": [],
   "source": [
    "fig = schedview.plot.overplot_kernel_density_estimates(visits, column='airmass', bandwidth=0.001, x_points=np.arange(1.0, 2.5, 0.005), colors=sim_color_dict, hatches=sim_hatch_dict)\n",
    "bokeh.io.show(fig)"
   ]
  },
  {
   "cell_type": "markdown",
   "id": "6952089b-07e5-48b8-82f8-058b5ac80957",
   "metadata": {},
   "source": [
    "## Common visits"
   ]
  },
  {
   "cell_type": "code",
   "execution_count": null,
   "id": "22b2430e-71d8-4b5f-a934-72c397e0ca69",
   "metadata": {},
   "outputs": [],
   "source": [
    "visit_counts = (\n",
    "    visits\n",
    "    .groupby(['sim_index', 'fieldRA', 'fieldDec', 'filter', 'visitExposureTime'])\n",
    "    .agg({'start_date': 'count'})\n",
    "    .rename(columns={'start_date': 'count'})\n",
    "    .reset_index()\n",
    "    .pivot(index=['fieldRA', 'fieldDec', 'filter', 'visitExposureTime'],\n",
    "           columns=['sim_index'],\n",
    "           values='count')\n",
    "    .fillna(0)\n",
    "    .astype(int)\n",
    ")"
   ]
  },
  {
   "cell_type": "markdown",
   "id": "b3dd595c-a984-441d-9781-aacabae18951",
   "metadata": {},
   "source": [
    "Coordinate/filter/exposure time combinations repeated more that four times in any simulation:"
   ]
  },
  {
   "cell_type": "code",
   "execution_count": null,
   "id": "90843dc1-75a5-4684-af28-abdd8084dcde",
   "metadata": {},
   "outputs": [],
   "source": [
    "visit_counts.loc[visit_counts.max(axis='columns')>4, :]"
   ]
  },
  {
   "cell_type": "markdown",
   "id": "2ac064f9-9c86-4ee2-a38c-b55e3b114a51",
   "metadata": {},
   "source": [
    "Coordinate/filter/exposure time combinations all simulations have in common, and the count from the simulation where it is repeated the fewest times:"
   ]
  },
  {
   "cell_type": "code",
   "execution_count": null,
   "id": "c730bdd2-24c9-44f0-816c-43306edd5cf6",
   "metadata": {},
   "outputs": [],
   "source": [
    "common_visits = visit_counts.min(axis='columns')\n",
    "common_visits = common_visits[common_visits>0]\n",
    "print(f\"There are {common_visits.sum()} visits in common across all simulations:\")\n",
    "common_visits"
   ]
  },
  {
   "cell_type": "code",
   "execution_count": null,
   "id": "c3f7ea6f-65d1-451f-8966-5cdf650ce570",
   "metadata": {},
   "outputs": [],
   "source": [
    "def fraction_common(visit_counts, sim1, sim2, match_count=True):\n",
    "    # Only count fields for which there is at least one visit in sim1\n",
    "    these_visit_counts = visit_counts[visit_counts[sim2] > 0]\n",
    "\n",
    "    if not match_count:\n",
    "        # Count any number of repetitons of a field only once\n",
    "        for sim in sim1, sim2:\n",
    "            these_visit_counts.loc[these_visit_counts[sim]>0, sim] = 1\n",
    "\n",
    "    num_common_visits = these_visit_counts[[sim2, sim1]].min(axis='columns').sum()\n",
    "    num_visits2 = these_visit_counts[sim2].sum()\n",
    "    fraction_common = num_common_visits/num_visits2\n",
    "    return fraction_common\n"
   ]
  },
  {
   "cell_type": "code",
   "execution_count": null,
   "id": "56688b94-db28-4a8c-a0b9-0dbf7e100028",
   "metadata": {},
   "outputs": [],
   "source": [
    "def make_fraction_common_matrix(visit_counts, match_count=True, sim_indexes=None):\n",
    "    if sim_indexes is None:\n",
    "        sim_indexes = visit_counts.columns.values\n",
    "\n",
    "    common_matrix = pd.DataFrame(np.nan, index=sim_indexes, columns=sim_indexes)\n",
    "    for row in sim_indexes:\n",
    "        for column in sim_indexes:\n",
    "            common_matrix.loc[row, column] = fraction_common(visit_counts, row, column, match_count=match_count)\n",
    "    return common_matrix"
   ]
  },
  {
   "cell_type": "markdown",
   "id": "625fad93-f730-4c77-a442-68b394eee3d4",
   "metadata": {},
   "source": [
    "Matrix of fraction of coordinate/filter/exposure time combinations present in one simulation that are alse present in another.\n",
    "\n",
    "For example, column 1, row 2 has the fraction of such combinations present in simulation one that are also present is simulation 2."
   ]
  },
  {
   "cell_type": "code",
   "execution_count": null,
   "id": "58525d57-a3ec-454f-a12b-54fb6e2fd826",
   "metadata": {},
   "outputs": [],
   "source": [
    "make_fraction_common_matrix(visit_counts, match_count=False)"
   ]
  },
  {
   "cell_type": "markdown",
   "id": "267f31f8-2bd7-4f62-822f-a3a58c2f4686",
   "metadata": {},
   "source": [
    "Matrix of fraction of coordinate/filter/exposure time combinations present in one simulation that are alse present in another, where repeats in both are considered additional matches and differences in number of repeats of a given combination are counted as occurrences in one but not the other."
   ]
  },
  {
   "cell_type": "code",
   "execution_count": null,
   "id": "2db9bff9-563e-4f72-8232-445894d04cdf",
   "metadata": {},
   "outputs": [],
   "source": [
    "make_fraction_common_matrix(visit_counts)    "
   ]
  },
  {
   "cell_type": "markdown",
   "id": "e3f52a39-8f45-4b82-b0f4-0a984cfb64c4",
   "metadata": {},
   "source": [
    "## Timing offsets"
   ]
  },
  {
   "cell_type": "raw",
   "id": "898a8448-ee1a-40fb-98c7-35c252ecb439",
   "metadata": {},
   "source": [
    "visit_counts"
   ]
  },
  {
   "cell_type": "raw",
   "id": "223c174a-3531-41f0-85f7-257a3d297dc7",
   "metadata": {},
   "source": [
    "test_rdft = visit_counts.loc[(visit_counts.loc[:, 1].values > 0) & (visit_counts.loc[:, 1].values <5) & (visit_counts.loc[:, 3].values > 0) & (visit_counts.loc[:, 3].values <5), :].index.values[-1]"
   ]
  },
  {
   "cell_type": "raw",
   "id": "89fb10f8-32df-4374-a5cb-684026fc0d16",
   "metadata": {},
   "source": [
    "rdft_times = visits.set_index(visit_counts.index.names + ['sim_index']).loc[test_rdft, 'start_date']\n",
    "rdft_times"
   ]
  },
  {
   "cell_type": "code",
   "execution_count": null,
   "id": "420d5ca0-89d9-4ee7-b507-432e7f38bdcf",
   "metadata": {},
   "outputs": [],
   "source": [
    "def find_best_matches(start_times, sim_indexes=(1, 2), max_match_dist=np.inf):\n",
    "    for sim_index in sim_indexes:\n",
    "        if sim_index not in start_times.index:\n",
    "            return pd.DataFrame({sim_indexes[0]: [], sim_indexes[1]: [], 'delta': []})\n",
    "    \n",
    "    if len(start_times.loc[[sim_indexes[0]]]) >= len(start_times.loc[[sim_indexes[1]]]):\n",
    "        sim_map = {'longer': sim_indexes[0], 'shorter': sim_indexes[1]}\n",
    "    else:\n",
    "        sim_map = {'longer': sim_indexes[1], 'shorter': sim_indexes[0]}\n",
    "\n",
    "    longer = start_times.loc[[sim_map['longer']]]\n",
    "    shorter = start_times.loc[[sim_map['shorter']]]\n",
    "\n",
    "    num_combinations = math.comb(len(longer), len(shorter))\n",
    "    if num_combinations > 1000:\n",
    "        # There are too many combinations to do a complete search in reasonable time\n",
    "        # so assume the matches are sequential.\n",
    "        def make_seq_iter(num_offsets, sequence_length):\n",
    "            for i in range(num_offsets):\n",
    "                yield np.arange(sequence_length) + i\n",
    "        combo_iterator = make_seq_iter(len(longer)-len(shorter), len(shorter))\n",
    "    else:\n",
    "        combo_iterator = itertools.combinations(np.arange(len(longer)), len(shorter))\n",
    "    \n",
    "    matches = pd.DataFrame({'longer': longer.values[:len(shorter)], 'shorter': shorter.values})\n",
    "    best_diff = np.inf\n",
    "    most_matches = 0\n",
    "    for matched_ids in combo_iterator:\n",
    "        matches.loc[:, 'longer'] = longer.values[np.array(matched_ids)]\n",
    "        matches['delta'] = (matches.shorter - matches.longer).dt.total_seconds()\n",
    "        good_matches = matches.query(f'abs(delta) < {max_match_dist}')\n",
    "        num_matches = len(good_matches)\n",
    "        max_diff = matches['delta'].max()\n",
    "        within_max_dist = max_diff <= max_match_dist\n",
    "        if (num_matches >= most_matches) and (max_diff < best_diff):\n",
    "            best_match = good_matches.copy()\n",
    "            best_diff = max_diff\n",
    "            most_matches = num_matches\n",
    "\n",
    "    best_match.rename(columns=sim_map, inplace=True)\n",
    "    return best_match"
   ]
  },
  {
   "cell_type": "code",
   "execution_count": null,
   "id": "aaec1d7d-763c-4e7b-a827-f3e55b18241a",
   "metadata": {},
   "outputs": [],
   "source": [
    "def compute_best_match_delta_stats(these_visits, sim_indexes):\n",
    "    return find_best_matches(these_visits.set_index('sim_index').start_date, sim_indexes).loc[:,'delta'].describe()"
   ]
  },
  {
   "cell_type": "code",
   "execution_count": null,
   "id": "b7441d09-f696-4126-96e7-1285577c0090",
   "metadata": {},
   "outputs": [],
   "source": [
    "reference_index = 1\n",
    "delta_stats_list = []\n",
    "for comparison_index in visits['sim_index'].unique():\n",
    "    if comparison_index == reference_index:\n",
    "        continue\n",
    "    sim_indexes = [reference_index, comparison_index]\n",
    "    these_delta_stats = visits.groupby(['fieldRA', 'fieldDec', 'filter', 'visitExposureTime']).apply(compute_best_match_delta_stats, sim_indexes=sim_indexes).query('count > 0')\n",
    "    these_delta_stats['sim_index'] = comparison_index\n",
    "    delta_stats_list.append(these_delta_stats)\n",
    "\n",
    "pd.concat(delta_stats_list).set_index('sim_index', append=True).sort_index()"
   ]
  },
  {
   "cell_type": "code",
   "execution_count": null,
   "id": "5bca5e09-6f93-4b40-9a6e-2fbf674b7008",
   "metadata": {},
   "outputs": [],
   "source": []
  }
 ],
 "metadata": {
  "kernelspec": {
   "display_name": "LSST",
   "language": "python",
   "name": "lsst"
  },
  "language_info": {
   "codemirror_mode": {
    "name": "ipython",
    "version": 3
   },
   "file_extension": ".py",
   "mimetype": "text/x-python",
   "name": "python",
   "nbconvert_exporter": "python",
   "pygments_lexer": "ipython3",
   "version": "3.11.9"
  }
 },
 "nbformat": 4,
 "nbformat_minor": 5
}
