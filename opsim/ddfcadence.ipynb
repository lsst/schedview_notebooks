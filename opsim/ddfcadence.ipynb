{
 "cells": [
  {
   "cell_type": "code",
   "execution_count": null,
   "id": "0ef6f783-8824-4a7e-ab54-c5dcf622efb4",
   "metadata": {},
   "outputs": [],
   "source": [
    "visit_source = '4.3'"
   ]
  },
  {
   "cell_type": "markdown",
   "id": "143e32e8",
   "metadata": {},
   "source": [
    "# Yearly DDF cadence plots for one opsim"
   ]
  },
  {
   "cell_type": "code",
   "execution_count": null,
   "id": "678bcfa7-9f68-4d10-bf80-89ccd44e2463",
   "metadata": {},
   "outputs": [],
   "source": [
    "import sys\n",
    "\n",
    "sched_source = 'usdf'\n",
    "#sched_source = 'shared'\n",
    "#sched_source = 'devel'\n",
    "match sched_source:\n",
    "    case 'shared':\n",
    "        sys.path.insert(0, \"/sdf/data/rubin/shared/scheduler/packages/rubin_scheduler-3.7.0\")\n",
    "        sys.path.insert(0, \"/sdf/data/rubin/shared/scheduler/packages/SP-2165/rubin_sim\")\n",
    "        sys.path.insert(0, \"/sdf/data/rubin/shared/scheduler/packages/SP-2120/schedview\")\n",
    "    case 'devel':\n",
    "        sys.path.insert(0, \"/sdf/data/rubin/user/neilsen/devel/rubin_scheduler\")\n",
    "        sys.path.insert(0, \"/sdf/data/rubin/user/neilsen/devel/rubin_sim\")\n",
    "        sys.path.insert(0, \"/sdf/data/rubin/user/neilsen/devel/schedview\")\n",
    "    case _:\n",
    "        # Use whatever is in the kernel\n",
    "        pass"
   ]
  },
  {
   "cell_type": "code",
   "execution_count": null,
   "id": "8ba7743e",
   "metadata": {},
   "outputs": [],
   "source": [
    "import datetime\n",
    "import warnings\n",
    "import schedview.collect\n",
    "import schedview.plot\n",
    "from rubin_sim.data import get_baseline\n",
    "from lsst.resources import ResourcePath\n",
    "from rubin_scheduler.utils import ddf_locations\n",
    "from schedview import DayObs\n",
    "from astropy.time import Time\n",
    "import bokeh.io\n",
    "import numpy as np\n",
    "from erfa import ErfaWarning\n",
    "from IPython.display import display, Markdown"
   ]
  },
  {
   "cell_type": "code",
   "execution_count": null,
   "id": "930fc6e6-ec82-49dc-9b29-cd06dc11b82f",
   "metadata": {},
   "outputs": [],
   "source": [
    "from schedview.collect.visits import OPSIMDB_TEMPLATE"
   ]
  },
  {
   "cell_type": "code",
   "execution_count": null,
   "id": "1c94c44c-475f-4ccf-b8ae-327d46001a00",
   "metadata": {},
   "outputs": [],
   "source": [
    "# In simulations, we go far enough into the future that the erfa module finds it \"dubious\".\n",
    "# Keep the complaints quiet.\n",
    "warnings.filterwarnings(\n",
    "    \"ignore\",\n",
    "    category=ErfaWarning,\n",
    "    message=r\".*dubious year.*\",\n",
    ")"
   ]
  },
  {
   "cell_type": "code",
   "execution_count": null,
   "id": "025280e0",
   "metadata": {},
   "outputs": [],
   "source": [
    "bokeh.io.output_notebook(hide_banner=True)"
   ]
  },
  {
   "cell_type": "code",
   "execution_count": null,
   "id": "b7d2a94c",
   "metadata": {},
   "outputs": [],
   "source": [
    "opsim_fname = get_baseline() if visit_source=='baseline' else OPSIMDB_TEMPLATE.format(sim_version=visit_source)\n",
    "visits_rp = ResourcePath(opsim_fname)\n",
    "visits = schedview.collect.read_opsim(visits_rp, stackers=schedview.collect.visits.DDF_STACKERS)"
   ]
  },
  {
   "cell_type": "code",
   "execution_count": null,
   "id": "f21c3160-27df-4e90-8eda-88071716d370",
   "metadata": {},
   "outputs": [],
   "source": [
    "print(f\"Read visits from {opsim_fname}\")"
   ]
  },
  {
   "cell_type": "code",
   "execution_count": null,
   "id": "ab3734f1",
   "metadata": {},
   "outputs": [],
   "source": [
    "ddf_field_names = tuple(ddf_locations().keys())\n",
    "# Different versions of the schedule include a DD: prefix, or not.\n",
    "# Catch them all.\n",
    "ddf_field_names = ddf_field_names + tuple([f\"DD:{n}\" for n in ddf_field_names])\n",
    "\n",
    "# Figure out which column has the target names.\n",
    "target_column_name = \"target_name\" if \"target_name\" in visits.columns else \"target\"\n",
    "ddf_visits = visits.loc[visits[target_column_name].isin(ddf_field_names)]"
   ]
  },
  {
   "cell_type": "code",
   "execution_count": null,
   "id": "6a779719",
   "metadata": {},
   "outputs": [],
   "source": [
    "nightly_ddf = schedview.compute.visits.accum_teff_by_night(ddf_visits)\n",
    "for year in np.arange(2025, 2036):\n",
    "    start_mjd = int(Time(f\"{year}-06-21\").mjd)\n",
    "    end_mjd = start_mjd + 365\n",
    "    cadence_plots = schedview.plot.create_cadence_plot(nightly_ddf, start_mjd, end_mjd)\n",
    "    display(Markdown(f\"## DDF Cadence for {year}-{year+1} of opsim {visit_source}\"))\n",
    "    bokeh.io.show(cadence_plots)"
   ]
  },
  {
   "cell_type": "code",
   "execution_count": null,
   "id": "98abddb4",
   "metadata": {},
   "outputs": [],
   "source": []
  }
 ],
 "metadata": {
  "kernelspec": {
   "display_name": "LSST",
   "language": "python",
   "name": "lsst"
  },
  "language_info": {
   "codemirror_mode": {
    "name": "ipython",
    "version": 3
   },
   "file_extension": ".py",
   "mimetype": "text/x-python",
   "name": "python",
   "nbconvert_exporter": "python",
   "pygments_lexer": "ipython3",
   "version": "3.12.10"
  }
 },
 "nbformat": 4,
 "nbformat_minor": 5
}
