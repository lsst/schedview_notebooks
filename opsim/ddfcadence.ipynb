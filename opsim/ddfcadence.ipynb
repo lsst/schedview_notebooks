{
 "cells": [
  {
   "cell_type": "markdown",
   "id": "143e32e8",
   "metadata": {},
   "source": [
    "# Yearly DDF cadence plots for one opsim"
   ]
  },
  {
   "cell_type": "code",
   "execution_count": null,
   "id": "8ba7743e",
   "metadata": {},
   "outputs": [],
   "source": [
    "import datetime\n",
    "import schedview.collect\n",
    "import schedview.plot\n",
    "from rubin_sim.data import get_baseline\n",
    "from lsst.resources import ResourcePath\n",
    "from rubin_scheduler.utils import ddf_locations\n",
    "from schedview import DayObs\n",
    "from astropy.time import Time\n",
    "import bokeh.io\n",
    "import numpy as np\n",
    "from IPython.display import display, Markdown"
   ]
  },
  {
   "cell_type": "code",
   "execution_count": null,
   "id": "025280e0",
   "metadata": {},
   "outputs": [],
   "source": [
    "bokeh.io.output_notebook(hide_banner=True)"
   ]
  },
  {
   "cell_type": "code",
   "execution_count": null,
   "id": "54e6d6ad",
   "metadata": {},
   "outputs": [],
   "source": [
    "visits_fname = get_baseline()"
   ]
  },
  {
   "cell_type": "code",
   "execution_count": null,
   "id": "b7d2a94c",
   "metadata": {},
   "outputs": [],
   "source": [
    "visits_rp = ResourcePath(visits_fname)\n",
    "visits = schedview.collect.read_opsim(visits_rp, stackers=schedview.collect.visits.DDF_STACKERS)"
   ]
  },
  {
   "cell_type": "code",
   "execution_count": null,
   "id": "ab3734f1",
   "metadata": {},
   "outputs": [],
   "source": [
    "ddf_field_names = tuple(ddf_locations().keys())\n",
    "# Different versions of the schedule include a DD: prefix, or not.\n",
    "# Catch them all.\n",
    "ddf_field_names = ddf_field_names + tuple([f\"DD:{n}\" for n in ddf_field_names])\n",
    "\n",
    "# Figure out which column has the target names.\n",
    "target_column_name = \"target_name\" if \"target_name\" in visits.columns else \"target\"\n",
    "ddf_visits = visits.loc[visits[target_column_name].isin(ddf_field_names)]"
   ]
  },
  {
   "cell_type": "code",
   "execution_count": null,
   "id": "6a779719",
   "metadata": {},
   "outputs": [],
   "source": [
    "nightly_ddf = schedview.compute.visits.accum_teff_by_night(ddf_visits)\n",
    "for year in np.arange(2025, 2036):\n",
    "    start_mjd = int(Time(f\"{year}-06-21\").mjd)\n",
    "    end_mjd = start_mjd + 365\n",
    "    cadence_plots = schedview.plot.create_cadence_plot(nightly_ddf, start_mjd, end_mjd)\n",
    "    display(Markdown(f\"## DDF Cadence for {year}-{year+1}\"))\n",
    "    bokeh.io.show(cadence_plots)"
   ]
  },
  {
   "cell_type": "code",
   "execution_count": null,
   "id": "98abddb4",
   "metadata": {},
   "outputs": [],
   "source": []
  }
 ],
 "metadata": {
  "kernelspec": {
   "display_name": "Python 3",
   "language": "python",
   "name": "python3"
  },
  "language_info": {
   "codemirror_mode": {
    "name": "ipython",
    "version": 3
   },
   "file_extension": ".py",
   "mimetype": "text/x-python",
   "name": "python",
   "nbconvert_exporter": "python",
   "pygments_lexer": "ipython3",
   "version": "3.13.2"
  }
 },
 "nbformat": 4,
 "nbformat_minor": 5
}
