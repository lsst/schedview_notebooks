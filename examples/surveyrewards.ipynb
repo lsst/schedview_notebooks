{
 "cells": [
  {
   "cell_type": "markdown",
   "id": "7d92ff6f-4183-4ef2-9101-4ef1c184c0e3",
   "metadata": {},
   "source": [
    "# Example use of a schedview visit table in a Times Square notebook"
   ]
  },
  {
   "cell_type": "code",
   "execution_count": null,
   "id": "154e65e5-c826-45a1-831f-efccefb7edd2",
   "metadata": {},
   "outputs": [],
   "source": [
    "# Times Square parameters\n",
    "\n",
    "night = \"2024-11-20\"\n",
    "sim_date = \"2024-11-20\"\n",
    "sim_index = \"1\""
   ]
  },
  {
   "cell_type": "code",
   "execution_count": null,
   "id": "53ce74d8-a29e-45d3-a6d7-0ce1598b241d",
   "metadata": {},
   "outputs": [],
   "source": [
    "# Use more recent versions of rubin_scheduler and schedview (will become unnecessary soon)\n",
    "import sys\n",
    "sys.path.insert(0, '/sdf/data/rubin/user/neilsen/devel/times_square_sources/2024-11-21/rubin_scheduler')\n",
    "sys.path.insert(0, '/sdf/data/rubin/user/neilsen/devel/times_square_sources/2024-11-21/schedview')\n",
    "\n",
    "# Imports\n",
    "import os\n",
    "import yaml\n",
    "import numpy as np\n",
    "import bokeh.io\n",
    "\n",
    "from lsst.resources import ResourcePath\n",
    "\n",
    "from schedview import DayObs\n",
    "from schedview.collect.rewards import read_rewards\n",
    "from schedview.plot.rewards import reward_timeline_for_surveys\n",
    "\n",
    "from schedview.collect.visits import read_visits\n",
    "from schedview.plot import create_visit_table\n",
    "\n",
    "# Prepare jupyter to show bokeh plots\n",
    "bokeh.io.output_notebook()"
   ]
  },
  {
   "cell_type": "code",
   "execution_count": null,
   "id": "74b73752-01f5-4203-9a1e-0bc99dc517fb",
   "metadata": {},
   "outputs": [],
   "source": [
    "archive_uri = \"s3://rubin:rubin-scheduler-prenight/opsim/\"\n",
    "os.environ[\"LSST_DISABLE_BUCKET_VALIDATION\"] = \"1\"\n",
    "os.environ[\"S3_ENDPOINT_URL\"] = \"https://s3dfrgw.slac.stanford.edu/\""
   ]
  },
  {
   "cell_type": "code",
   "execution_count": null,
   "id": "6708563b-cc82-4790-9f9f-492a2f931bc9",
   "metadata": {},
   "outputs": [],
   "source": [
    "sim_archive_rp = ResourcePath(archive_uri).join(sim_date, forceDirectory=True).join(sim_index, forceDirectory=True)\n",
    "sim_archive_metadata = yaml.safe_load(sim_archive_rp.join('sim_metadata.yaml').read().decode())"
   ]
  },
  {
   "cell_type": "code",
   "execution_count": null,
   "id": "b6dbd782-ab4f-45b6-b759-dba6822d2bb9",
   "metadata": {},
   "outputs": [],
   "source": [
    "day_obs = DayObs.from_date(night)"
   ]
  },
  {
   "cell_type": "code",
   "execution_count": null,
   "id": "72961d53-2387-4ea9-8473-7863b299a148",
   "metadata": {},
   "outputs": [],
   "source": [
    "rewards_rp = sim_archive_rp.join(sim_archive_metadata['files']['rewards']['name'])\n",
    "rewards_df, obs_reward = read_rewards(rewards_rp)\n",
    "rewards_df[\"queue_fill_mjd_ns\"] = rewards_df[\"queue_fill_mjd_ns\"].astype(np.float64)"
   ]
  },
  {
   "cell_type": "code",
   "execution_count": null,
   "id": "232d016b-7c73-4305-8625-71aa9afccfdf",
   "metadata": {},
   "outputs": [],
   "source": [
    "reward_timeline_for_surveys(rewards_df, day_obs.mjd)"
   ]
  }
 ],
 "metadata": {
  "kernelspec": {
   "display_name": "LSST",
   "language": "python",
   "name": "lsst"
  },
  "language_info": {
   "codemirror_mode": {
    "name": "ipython",
    "version": 3
   },
   "file_extension": ".py",
   "mimetype": "text/x-python",
   "name": "python",
   "nbconvert_exporter": "python",
   "pygments_lexer": "ipython3",
   "version": "3.11.9"
  }
 },
 "nbformat": 4,
 "nbformat_minor": 5
}
