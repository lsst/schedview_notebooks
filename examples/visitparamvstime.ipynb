{
 "cells": [
  {
   "cell_type": "markdown",
   "id": "7d92ff6f-4183-4ef2-9101-4ef1c184c0e3",
   "metadata": {},
   "source": [
    "# Example use of a schedview visit table in a Times Square notebook"
   ]
  },
  {
   "cell_type": "code",
   "execution_count": null,
   "id": "154e65e5-c826-45a1-831f-efccefb7edd2",
   "metadata": {},
   "outputs": [],
   "source": [
    "# Times Square parameters\n",
    "\n",
    "night = '2024-11-15'\n",
    "visit_origin = 'lsstcomcam'"
   ]
  },
  {
   "cell_type": "code",
   "execution_count": null,
   "id": "53ce74d8-a29e-45d3-a6d7-0ce1598b241d",
   "metadata": {},
   "outputs": [],
   "source": [
    "# Use more recent versions of rubin_scheduler and schedview (will become unnecessary soon)\n",
    "import sys\n",
    "sys.path.insert(0, '/sdf/data/rubin/user/neilsen/devel/times_square_sources/2024-11-21/rubin_scheduler')\n",
    "sys.path.insert(0, '/sdf/data/rubin/user/neilsen/devel/times_square_sources/2024-11-21/schedview')\n",
    "\n",
    "\n",
    "# Imports\n",
    "import bokeh.io\n",
    "import astropy.utils.iers\n",
    "from schedview import DayObs\n",
    "from schedview.collect.visits import read_visits\n",
    "from schedview.plot import plot_visit_param_vs_time\n",
    "\n",
    "# Tell astropy we don't need super high precision:\n",
    "astropy.utils.iers.conf.iers_degraded_accuracy = \"ignore\"\n",
    "\n",
    "# Tell rubin_scheduler where to find its data\n",
    "os.environ[\"RUBIN_SIM_DATA_DIR\"] = \"/sdf/data/rubin/shared/rubin_sim_data\"\n",
    "\n",
    "# Prepare jupyter to show bokeh plots\n",
    "bokeh.io.output_notebook()"
   ]
  },
  {
   "cell_type": "code",
   "execution_count": null,
   "id": "b6dbd782-ab4f-45b6-b759-dba6822d2bb9",
   "metadata": {},
   "outputs": [],
   "source": [
    "day_obs = DayObs.from_date(night)"
   ]
  },
  {
   "cell_type": "code",
   "execution_count": null,
   "id": "23c1bfc2-0f9b-4a9d-a530-07f96e47d4c7",
   "metadata": {},
   "outputs": [],
   "source": [
    "visits = read_visits(day_obs, visit_origin)"
   ]
  },
  {
   "cell_type": "code",
   "execution_count": null,
   "id": "72961d53-2387-4ea9-8473-7863b299a148",
   "metadata": {},
   "outputs": [],
   "source": [
    "p = plot_visit_param_vs_time(visits, 'skyBrightness', show_column_selector=True)\n",
    "bokeh.io.show(p)"
   ]
  },
  {
   "cell_type": "code",
   "execution_count": null,
   "id": "fed08f53-9a7c-4e4c-89a2-c3faccc015c7",
   "metadata": {},
   "outputs": [],
   "source": []
  }
 ],
 "metadata": {
  "kernelspec": {
   "display_name": "LSST",
   "language": "python",
   "name": "lsst"
  },
  "language_info": {
   "codemirror_mode": {
    "name": "ipython",
    "version": 3
   },
   "file_extension": ".py",
   "mimetype": "text/x-python",
   "name": "python",
   "nbconvert_exporter": "python",
   "pygments_lexer": "ipython3",
   "version": "3.11.9"
  }
 },
 "nbformat": 4,
 "nbformat_minor": 5
}
