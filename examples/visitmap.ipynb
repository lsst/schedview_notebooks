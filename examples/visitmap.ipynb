{
 "cells": [
  {
   "cell_type": "markdown",
   "id": "7d92ff6f-4183-4ef2-9101-4ef1c184c0e3",
   "metadata": {},
   "source": [
    "# Example use of a schedview visit table in a Times Square notebook"
   ]
  },
  {
   "cell_type": "code",
   "execution_count": null,
   "id": "154e65e5-c826-45a1-831f-efccefb7edd2",
   "metadata": {},
   "outputs": [],
   "source": [
    "# Times Square parameters\n",
    "\n",
    "night = '2024-11-15'\n",
    "visit_origin = 'lsstcomcam'"
   ]
  },
  {
   "cell_type": "code",
   "execution_count": null,
   "id": "53ce74d8-a29e-45d3-a6d7-0ce1598b241d",
   "metadata": {},
   "outputs": [],
   "source": [
    "# Use more recent versions of rubin_scheduler and schedview (will become unnecessary soon)\n",
    "import sys\n",
    "sys.path.insert(0, '/sdf/data/rubin/user/neilsen/devel/times_square_sources/2024-11-21/rubin_scheduler')\n",
    "sys.path.insert(0, '/sdf/data/rubin/user/neilsen/devel/times_square_sources/2024-11-21/schedview')\n",
    "\n",
    "\n",
    "# Imports\n",
    "import bokeh.io\n",
    "import astropy.utils.iers\n",
    "from schedview import DayObs\n",
    "from schedview.collect.visits import read_visits\n",
    "from rubin_scheduler.scheduler.model_observatory import ModelObservatory\n",
    "from schedview.compute.visits import add_coords_tuple\n",
    "from schedview.plot.visitmap import create_visit_skymaps\n",
    "\n",
    "# Tell astropy we don't need super high precision:\n",
    "astropy.utils.iers.conf.iers_degraded_accuracy = \"ignore\"\n",
    "\n",
    "# Tell rubin_scheduler where to find its data\n",
    "os.environ[\"RUBIN_SIM_DATA_DIR\"] = \"/sdf/data/rubin/shared/rubin_sim_data\"\n",
    "\n",
    "# Prepare jupyter to show bokeh plots\n",
    "bokeh.io.output_notebook()"
   ]
  },
  {
   "cell_type": "code",
   "execution_count": null,
   "id": "b6dbd782-ab4f-45b6-b759-dba6822d2bb9",
   "metadata": {},
   "outputs": [],
   "source": [
    "day_obs = DayObs.from_date(night)"
   ]
  },
  {
   "cell_type": "code",
   "execution_count": null,
   "id": "23c1bfc2-0f9b-4a9d-a530-07f96e47d4c7",
   "metadata": {},
   "outputs": [],
   "source": [
    "visits = read_visits(day_obs, visit_origin)"
   ]
  },
  {
   "cell_type": "code",
   "execution_count": null,
   "id": "6afc3dfa-3309-434e-a907-1ac1c51a481b",
   "metadata": {},
   "outputs": [],
   "source": [
    "observatory = ModelObservatory(init_load_length=1)\n",
    "observatory.mjd = visits.observationStartMJD.median()"
   ]
  },
  {
   "cell_type": "code",
   "execution_count": null,
   "id": "72961d53-2387-4ea9-8473-7863b299a148",
   "metadata": {},
   "outputs": [],
   "source": [
    "visits = add_coords_tuple(visits)\n",
    "p, vmap_data = create_visit_skymaps(\n",
    "    visits=visits,\n",
    "    night_date=day_obs.date,\n",
    "    timezone=\"Chile/Continental\",\n",
    "    observatory=observatory,\n",
    ")\n",
    "bokeh.io.show(p)\n"
   ]
  },
  {
   "cell_type": "markdown",
   "id": "a0e765f7-c636-4c0a-a690-8e59d99f39cb",
   "metadata": {},
   "source": [
    "The above plots show the visits collected during the night in two different representations, modeled after physical observing tools.\n",
    "\n",
    " - The \"Armillary sphere\" shows the sphere in orthographic projection, with the center point of the projection controlled by the \"center alt\" and \"center az\" sliders beneath the plot. A static orthogrophic projection is not an equal-area projection, but playing with the sliders is a helpful way to inform a human's spatial reasoning in three dimensions.\n",
    " - The \"Planisphere\" shows the sky in [Lambert Azimuthal Equal Area Projection](https://en.wikipedia.org/wiki/Lambert_azimuthal_equal-area_projection), centered at the south celestial pole, with R.A. increasing counterclockwise. The projection used is equal area, but highly distorted near the north celestial pole (outside the LSST footprint). This is a particularly helpful representation for planning observing, because changes in time in relevant features are simple rotations, without alterations in distortion, and there are no discontinuities anywhere in the footprint at any time of year.\n",
    "\n",
    "Both plots show the footprints of camera pointing taken up to the time set by the MJD slider, with the most recent three pointings outlined in cyan. The fill colors are set according to the [descolors palette](https://github.com/DarkEnergySurvey/descolors):\n",
    "\n",
    " - <span style='background-color:#56b4e9'>&nbsp;&nbsp;&nbsp;</span><span style='color:#56b4e9'> blue</span>: u band\n",
    " - <span style='background-color:#008060'>&nbsp;&nbsp;&nbsp;</span><span style='color:#008060'> green</span>: g band\n",
    " - <span style='background-color:#ff4000'>&nbsp;&nbsp;&nbsp;</span><span style='color:#ff4000'> red</span>: r band\n",
    " - <span style='background-color:#850000'>&nbsp;&nbsp;&nbsp;</span><span style='color:#850000'> brown/crimson</span>: i band\n",
    " - <span style='background-color:#6600cc'>&nbsp;&nbsp;&nbsp;</span><span style='color:#6600cc'> purple</span>: z band\n",
    " - <span style='background-color:#000000'>&nbsp;&nbsp;&nbsp;</span><span style='color:#000000'> black</span>: y band\n",
    "\n",
    "Both plots have the following additional annotations:\n",
    " - The gray background shows the planned final depth of the LSST survey.\n",
    " - The orange disk shows the coordinates of the moon.\n",
    " - The yellow disk shows the coordinates of the sun.\n",
    " - The green line (oval) shows the ecliptic.\n",
    "   - The sun moves along the ecliptic in the direction of increasing R.A. (counter-clockwise in the planisphere figure) such that it makes a full revolution in one year.\n",
    "   - The moon moves roughly (within 5.14°) along the ecliptic in the direction of increasing R.A. (counter-clockwise in the planisphere figure) , completing a full revolution in one [sidereal month](https://en.wikipedia.org/wiki/Lunar_month#Sidereal_month) (a bit over 27 days), about 14° per day.\n",
    " - The blue line (oval) shows the plane of the Milky Way.\n",
    " - The black line shows the horizon at the time set by the MJD slider.\n",
    " - The red line shows a zenith distince of 70° (airmass=2.9) at the time set by the MJD slider."
   ]
  },
  {
   "cell_type": "code",
   "execution_count": null,
   "id": "fed08f53-9a7c-4e4c-89a2-c3faccc015c7",
   "metadata": {},
   "outputs": [],
   "source": []
  }
 ],
 "metadata": {
  "kernelspec": {
   "display_name": "LSST",
   "language": "python",
   "name": "lsst"
  },
  "language_info": {
   "codemirror_mode": {
    "name": "ipython",
    "version": 3
   },
   "file_extension": ".py",
   "mimetype": "text/x-python",
   "name": "python",
   "nbconvert_exporter": "python",
   "pygments_lexer": "ipython3",
   "version": "3.11.9"
  }
 },
 "nbformat": 4,
 "nbformat_minor": 5
}
