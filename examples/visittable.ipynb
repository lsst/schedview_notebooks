{
 "cells": [
  {
   "cell_type": "markdown",
   "id": "7d92ff6f-4183-4ef2-9101-4ef1c184c0e3",
   "metadata": {},
   "source": [
    "# Example use of a schedview visit table in a Times Square notebook"
   ]
  },
  {
   "cell_type": "markdown",
   "id": "37ce6b08-ff32-4db3-aa41-4aa411cb7764",
   "metadata": {},
   "source": [
    "Times Square parameters"
   ]
  },
  {
   "cell_type": "code",
   "execution_count": null,
   "id": "154e65e5-c826-45a1-831f-efccefb7edd2",
   "metadata": {},
   "outputs": [],
   "source": [
    "day_obs = '2024-11-15'\n",
    "visit_origin = 'lsstcomcam'"
   ]
  },
  {
   "cell_type": "code",
   "execution_count": null,
   "id": "53ce74d8-a29e-45d3-a6d7-0ce1598b241d",
   "metadata": {},
   "outputs": [],
   "source": [
    "# Use more recent versions of rubin_scheduler and schedview (will become unnecessary soon)\n",
    "import sys\n",
    "sys.path.insert(0, '/sdf/data/rubin/user/neilsen/devel/rubin_scheduler')\n",
    "sys.path.insert(0, '/sdf/data/rubin/user/neilsen/devel/schedview')\n",
    "\n",
    "# Imports\n",
    "import astropy.utils.iers\n",
    "import schedview.examples.visittable\n",
    "import bokeh\n",
    "from schedview import DayObs\n",
    "\n",
    "# Tell astropy we don't need super high precision:\n",
    "astropy.utils.iers.conf.iers_degraded_accuracy = \"ignore\"\n",
    "\n",
    "# Tell rubin_scheduler where to find its data\n",
    "os.environ[\"RUBIN_SIM_DATA_DIR\"] = \"/sdf/data/rubin/user/neilsen/data/rubin_sim_data\"\n",
    "\n",
    "# Prepare jupyter to show bokeh plots\n",
    "bokeh.io.output_notebook()"
   ]
  },
  {
   "cell_type": "code",
   "execution_count": null,
   "id": "048a11d0-e2b2-40b4-9284-24622909a058",
   "metadata": {},
   "outputs": [],
   "source": [
    "schedview.examples.visittable.visit_table(visit_origin, DayObs.from_date(day_obs))"
   ]
  },
  {
   "cell_type": "code",
   "execution_count": null,
   "id": "836d5e99-f2ba-4c37-bcfc-9cfa14fab387",
   "metadata": {},
   "outputs": [],
   "source": []
  }
 ],
 "metadata": {
  "kernelspec": {
   "display_name": "LSST",
   "language": "python",
   "name": "lsst"
  },
  "language_info": {
   "codemirror_mode": {
    "name": "ipython",
    "version": 3
   },
   "file_extension": ".py",
   "mimetype": "text/x-python",
   "name": "python",
   "nbconvert_exporter": "python",
   "pygments_lexer": "ipython3",
   "version": "3.11.9"
  }
 },
 "nbformat": 4,
 "nbformat_minor": 5
}
