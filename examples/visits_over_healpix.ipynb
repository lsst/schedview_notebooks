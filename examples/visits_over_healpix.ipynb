{
 "cells": [
  {
   "cell_type": "markdown",
   "id": "7d8d54bf-e517-4160-8a63-3eb83c9d3471",
   "metadata": {},
   "source": [
    "# Example use of a schedview visit table in a Times Square notebook"
   ]
  },
  {
   "cell_type": "markdown",
   "id": "d169ebea-bf51-4951-9dc1-c3d9ed3e67c7",
   "metadata": {},
   "source": [
    "Times Square parameters"
   ]
  },
  {
   "cell_type": "code",
   "execution_count": null,
   "id": "8f267d05-1a60-4c24-b335-6277098bc077",
   "metadata": {},
   "outputs": [],
   "source": [
    "night = '2024-11-15'\n",
    "visit_origin = 'lsstcomcam'"
   ]
  },
  {
   "cell_type": "code",
   "execution_count": null,
   "id": "045f1428-633e-4742-af0e-0018952e6d91",
   "metadata": {},
   "outputs": [],
   "source": [
    "# Use more recent versions of rubin_scheduler and schedview (will become unnecessary soon)\n",
    "import sys\n",
    "sys.path.insert(0, '/sdf/data/rubin/user/neilsen/devel/times_square_sources/2024-11-21/rubin_scheduler')\n",
    "sys.path.insert(0, '/sdf/data/rubin/user/neilsen/devel/times_square_sources/2024-11-21/schedview')\n",
    "sys.path.insert(0, '/sdf/data/rubin/user/neilsen/devel/times_square_sources/2024-11-22/rubin_sim')\n",
    "\n",
    "\n",
    "# Imports\n",
    "import healpy as hp\n",
    "import numpy as np\n",
    "import colorcet\n",
    "import bokeh.io\n",
    "import astropy.utils.iers\n",
    "from schedview import DayObs\n",
    "from schedview.collect.visits import read_visits\n",
    "from schedview.plot.survey import map_visits_over_hpix\n",
    "from rubin_sim import maf\n",
    "from rubin_scheduler.scheduler.model_observatory import ModelObservatory\n",
    "from uranography.api import ArmillarySphere, HorizonMap, MollweideMap, Planisphere\n",
    "\n",
    "# Tell astropy we don't need super high precision:\n",
    "astropy.utils.iers.conf.iers_degraded_accuracy = \"ignore\"\n",
    "\n",
    "# Tell rubin_scheduler where to find its data\n",
    "os.environ[\"RUBIN_SIM_DATA_DIR\"] = \"/sdf/data/rubin/shared/rubin_sim_data\"\n",
    "\n",
    "# Prepare jupyter to show bokeh plots\n",
    "bokeh.io.output_notebook()"
   ]
  },
  {
   "cell_type": "code",
   "execution_count": null,
   "id": "9a5a6c41-6fbc-46a0-871d-9ed59c2190e6",
   "metadata": {},
   "outputs": [],
   "source": [
    "day_obs = DayObs.from_date(night)"
   ]
  },
  {
   "cell_type": "code",
   "execution_count": null,
   "id": "a6399cef-765c-439c-bd45-cd8ae11c0fd6",
   "metadata": {},
   "outputs": [],
   "source": [
    "visits = read_visits(day_obs, visit_origin)"
   ]
  },
  {
   "cell_type": "code",
   "execution_count": null,
   "id": "109dfe9c-926a-4650-8d13-30c3535a2384",
   "metadata": {},
   "outputs": [],
   "source": [
    "observatory = ModelObservatory(init_load_length=1)\n",
    "observatory.mjd = visits.observationStartMJD.median()\n",
    "conditions = observatory.return_conditions()"
   ]
  },
  {
   "cell_type": "code",
   "execution_count": null,
   "id": "da7957dd-ab9f-4fb8-9815-51b2157b1342",
   "metadata": {},
   "outputs": [],
   "source": [
    "nside = 16\n",
    "decl_map = hp.pix2ang(nside, np.arange(hp.nside2npix(nside)))[0]"
   ]
  },
  {
   "cell_type": "code",
   "execution_count": null,
   "id": "ef78beaa-bca2-4af3-8e9a-f54c841a4ef6",
   "metadata": {},
   "outputs": [],
   "source": [
    "p = map_visits_over_hpix(visits, conditions, decl_map)"
   ]
  },
  {
   "cell_type": "code",
   "execution_count": null,
   "id": "55d5f10d-1afb-4397-862b-266e94aa7f8a",
   "metadata": {},
   "outputs": [],
   "source": [
    "bokeh.io.show(p)"
   ]
  },
  {
   "cell_type": "code",
   "execution_count": null,
   "id": "f1e8165d-4240-4422-a06a-515bfa412712",
   "metadata": {},
   "outputs": [],
   "source": [
    "p = map_visits_over_hpix(\n",
    "    visits=visits,\n",
    "    conditions=conditions,\n",
    "    map_hpix=decl_map,\n",
    "    plot=bokeh.plotting.figure(frame_width=1024, frame_height=512, match_aspect=True),\n",
    "    palette=colorcet.gwv,\n",
    "    prerender_hpix=False,\n",
    "    map_class=MollweideMap)\n",
    "bokeh.io.show(p)\n"
   ]
  },
  {
   "cell_type": "code",
   "execution_count": null,
   "id": "c1d0bf2f-9487-45b2-be2a-297010f076af",
   "metadata": {},
   "outputs": [],
   "source": [
    "help"
   ]
  }
 ],
 "metadata": {
  "kernelspec": {
   "display_name": "LSST",
   "language": "python",
   "name": "lsst"
  },
  "language_info": {
   "codemirror_mode": {
    "name": "ipython",
    "version": 3
   },
   "file_extension": ".py",
   "mimetype": "text/x-python",
   "name": "python",
   "nbconvert_exporter": "python",
   "pygments_lexer": "ipython3",
   "version": "3.11.9"
  }
 },
 "nbformat": 4,
 "nbformat_minor": 5
}
