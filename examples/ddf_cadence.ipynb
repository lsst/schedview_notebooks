{
 "cells": [
  {
   "cell_type": "markdown",
   "id": "7d8d54bf-e517-4160-8a63-3eb83c9d3471",
   "metadata": {},
   "source": [
    "# Example use of a schedview accumulated effective time depth map in a Times Square notebook"
   ]
  },
  {
   "cell_type": "code",
   "execution_count": null,
   "id": "8f267d05-1a60-4c24-b335-6277098bc077",
   "metadata": {},
   "outputs": [],
   "source": [
    "# Times Square parameters\n",
    "\n",
    "night = '2026-11-15'\n",
    "visit_origin = '3.5'\n",
    "time_window_nights = 90"
   ]
  },
  {
   "cell_type": "code",
   "execution_count": null,
   "id": "045f1428-633e-4742-af0e-0018952e6d91",
   "metadata": {},
   "outputs": [],
   "source": [
    "# Use more recent versions of rubin_scheduler and schedview (will become unnecessary soon)\n",
    "import sys\n",
    "sys.path.insert(0, '/sdf/data/rubin/user/neilsen/devel/times_square_sources/2024-11-21/rubin_scheduler')\n",
    "sys.path.insert(0, '/sdf/data/rubin/user/neilsen/devel/times_square_sources/2024-11-21/schedview')\n",
    "sys.path.insert(0, '/sdf/data/rubin/user/neilsen/devel/times_square_sources/2024-11-22/rubin_sim')\n",
    "\n",
    "\n",
    "# Imports\n",
    "import bokeh.io\n",
    "import astropy.utils.iers\n",
    "from schedview import DayObs\n",
    "from schedview.collect.visits import read_visits, NIGHT_STACKERS\n",
    "from schedview.plot import create_visit_table\n",
    "from schedview.plot.survey import create_metric_visit_map_grid\n",
    "from rubin_sim import maf\n",
    "from rubin_scheduler.scheduler.model_observatory import ModelObservatory\n",
    "from schedview.collect.visits import read_ddf_visits\n",
    "from schedview.compute.visits import accum_teff_by_night\n",
    "from schedview.plot import create_cadence_plot\n",
    "\n",
    "# Tell astropy we don't need super high precision:\n",
    "astropy.utils.iers.conf.iers_degraded_accuracy = \"ignore\"\n",
    "\n",
    "# Tell rubin_scheduler where to find its data\n",
    "os.environ[\"RUBIN_SIM_DATA_DIR\"] = \"/sdf/data/rubin/shared/rubin_sim_data\"\n",
    "\n",
    "# Prepare jupyter to show bokeh plots\n",
    "bokeh.io.output_notebook()"
   ]
  },
  {
   "cell_type": "code",
   "execution_count": null,
   "id": "9a5a6c41-6fbc-46a0-871d-9ed59c2190e6",
   "metadata": {},
   "outputs": [],
   "source": [
    "day_obs = DayObs.from_date(night)"
   ]
  },
  {
   "cell_type": "code",
   "execution_count": null,
   "id": "2c2cf403-1bb2-449b-bd79-e5089b96c36c",
   "metadata": {},
   "outputs": [],
   "source": [
    "# Collect the data\n",
    "\n",
    "ddf_visits = read_ddf_visits(day_obs, visit_origin, num_nights=time_window_nights)"
   ]
  },
  {
   "cell_type": "code",
   "execution_count": null,
   "id": "b8a5cc40-bf75-4485-8589-33c4e21a0366",
   "metadata": {},
   "outputs": [],
   "source": [
    "# Do the needed computations on it\n",
    "\n",
    "nightly_ddf = accum_teff_by_night(ddf_visits)"
   ]
  },
  {
   "cell_type": "code",
   "execution_count": null,
   "id": "0f6da0bf-111c-4efb-9986-114e44ca832a",
   "metadata": {},
   "outputs": [],
   "source": [
    "# Create the visualization\n",
    "\n",
    "cadence_plots = create_cadence_plot(\n",
    "    nightly_ddf, day_obs.mjd - time_window_nights, day_obs.mjd\n",
    ")\n",
    "bokeh.io.show(cadence_plots)\n"
   ]
  },
  {
   "cell_type": "code",
   "execution_count": null,
   "id": "cbcdf8b5-a4ea-4c78-9260-033cb877b639",
   "metadata": {},
   "outputs": [],
   "source": []
  }
 ],
 "metadata": {
  "kernelspec": {
   "display_name": "LSST",
   "language": "python",
   "name": "lsst"
  },
  "language_info": {
   "codemirror_mode": {
    "name": "ipython",
    "version": 3
   },
   "file_extension": ".py",
   "mimetype": "text/x-python",
   "name": "python",
   "nbconvert_exporter": "python",
   "pygments_lexer": "ipython3",
   "version": "3.11.9"
  }
 },
 "nbformat": 4,
 "nbformat_minor": 5
}
