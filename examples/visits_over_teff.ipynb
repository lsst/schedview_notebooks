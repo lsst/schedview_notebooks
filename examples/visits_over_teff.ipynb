{
 "cells": [
  {
   "cell_type": "markdown",
   "id": "7d8d54bf-e517-4160-8a63-3eb83c9d3471",
   "metadata": {},
   "source": [
    "# Example use of a schedview accumulated effective time depth map in a Times Square notebook"
   ]
  },
  {
   "cell_type": "code",
   "execution_count": null,
   "id": "8f267d05-1a60-4c24-b335-6277098bc077",
   "metadata": {},
   "outputs": [],
   "source": [
    "# Times Square parameters\n",
    "\n",
    "night = '2024-11-15'\n",
    "visit_origin = 'lsstcomcam'"
   ]
  },
  {
   "cell_type": "code",
   "execution_count": null,
   "id": "045f1428-633e-4742-af0e-0018952e6d91",
   "metadata": {},
   "outputs": [],
   "source": [
    "# Use more recent versions of rubin_scheduler and schedview (will become unnecessary soon)\n",
    "import sys\n",
    "sys.path.insert(0, '/sdf/data/rubin/user/neilsen/devel/times_square_sources/2024-11-21/rubin_scheduler')\n",
    "sys.path.insert(0, '/sdf/data/rubin/user/neilsen/devel/times_square_sources/2024-11-21/schedview')\n",
    "sys.path.insert(0, '/sdf/data/rubin/user/neilsen/devel/times_square_sources/2024-11-22/rubin_sim')\n",
    "\n",
    "\n",
    "# Imports\n",
    "import bokeh.io\n",
    "import astropy.utils.iers\n",
    "from schedview import DayObs\n",
    "from schedview.collect.visits import read_visits, NIGHT_STACKERS\n",
    "from schedview.plot import create_visit_table\n",
    "from schedview.plot.survey import create_metric_visit_map_grid\n",
    "from rubin_sim import maf\n",
    "from rubin_scheduler.scheduler.model_observatory import ModelObservatory\n",
    "\n",
    "# Tell astropy we don't need super high precision:\n",
    "astropy.utils.iers.conf.iers_degraded_accuracy = \"ignore\"\n",
    "\n",
    "# Tell rubin_scheduler where to find its data\n",
    "os.environ[\"RUBIN_SIM_DATA_DIR\"] = \"/sdf/data/rubin/shared/rubin_sim_data\"\n",
    "\n",
    "# Prepare jupyter to show bokeh plots\n",
    "bokeh.io.output_notebook()"
   ]
  },
  {
   "cell_type": "code",
   "execution_count": null,
   "id": "9a5a6c41-6fbc-46a0-871d-9ed59c2190e6",
   "metadata": {},
   "outputs": [],
   "source": [
    "day_obs = DayObs.from_date(night)"
   ]
  },
  {
   "cell_type": "code",
   "execution_count": null,
   "id": "a6399cef-765c-439c-bd45-cd8ae11c0fd6",
   "metadata": {},
   "outputs": [],
   "source": [
    "visits = read_visits(day_obs, visit_origin)"
   ]
  },
  {
   "cell_type": "code",
   "execution_count": null,
   "id": "e4ce86b3-fb17-4a82-a153-4e42b2c18832",
   "metadata": {},
   "outputs": [],
   "source": [
    "previous_day_obs = DayObs.from_date(day_obs.mjd-1, int_format='mjd')\n",
    "previous_visits = read_visits(previous_day_obs, visit_origin, stackers=NIGHT_STACKERS, num_nights=10000)"
   ]
  },
  {
   "cell_type": "code",
   "execution_count": null,
   "id": "109dfe9c-926a-4650-8d13-30c3535a2384",
   "metadata": {},
   "outputs": [],
   "source": [
    "observatory = ModelObservatory(init_load_length=1)\n",
    "observatory.mjd = visits.observationStartMJD.median()"
   ]
  },
  {
   "cell_type": "code",
   "execution_count": null,
   "id": "880e6f6f-9453-4853-a57a-29a609328a8f",
   "metadata": {},
   "outputs": [],
   "source": [
    "fig = create_metric_visit_map_grid(\n",
    "        maf.SumMetric(col=\"eff_time_median\", metric_name=\"Total Teff\"),\n",
    "        previous_visits.loc[previous_visits.eff_time_median > 0, :],\n",
    "        visits,\n",
    "        observatory,\n",
    "        nside=32,\n",
    "        use_matplotlib=True\n",
    "    )"
   ]
  },
  {
   "cell_type": "markdown",
   "id": "49cc12a0-997b-4e5a-875b-91d758382375",
   "metadata": {},
   "source": [
    "Each subplot represents the progress in the survey in a different filter, presented in a [Lambert Azimuthal Equal Area Projection](https://en.wikipedia.org/wiki/Lambert_azimuthal_equal-area_projection), centered at the south celestial pole.\n",
    "\n",
    " - Black outlines show the camera footprint of each exposure taken on this night.\n",
    " - The blue backdrop represents the accumulated effective exposure time, t<sub>eff</sub> (as defined above) at the start of the night.\n",
    " - The orange disk shows the coordinates of the moon.\n",
    " - The yellow disk shows the coordinates of the sun.\n",
    " - The green line (oval) shows the ecliptic.\n",
    " - The blue line (oval) shows the plane of the Milky Way.\n",
    " - Broken red ovals show a zenith distince of 70° (airmass=2.9) at morning and evening 12° twilight.\n",
    "   - The dashed portions of each red oval show the extent of what is observable at all during the night.\n",
    "   - As time progress through the night, the ZD circle maintains its shape, moving counter-clockwise around the pole over the course of the night."
   ]
  },
  {
   "cell_type": "markdown",
   "id": "48f1b411-e697-46b6-aa9a-5a32d236154a",
   "metadata": {},
   "source": [
    "Parts of the sky visited most recently are dark blue, growing fainter and grayer for areas visited less recently. Regions not visited in the last 10 days are not colored.\n"
   ]
  },
  {
   "cell_type": "code",
   "execution_count": null,
   "id": "cbcdf8b5-a4ea-4c78-9260-033cb877b639",
   "metadata": {},
   "outputs": [],
   "source": []
  }
 ],
 "metadata": {
  "kernelspec": {
   "display_name": "LSST",
   "language": "python",
   "name": "lsst"
  },
  "language_info": {
   "codemirror_mode": {
    "name": "ipython",
    "version": 3
   },
   "file_extension": ".py",
   "mimetype": "text/x-python",
   "name": "python",
   "nbconvert_exporter": "python",
   "pygments_lexer": "ipython3",
   "version": "3.11.9"
  }
 },
 "nbformat": 4,
 "nbformat_minor": 5
}
