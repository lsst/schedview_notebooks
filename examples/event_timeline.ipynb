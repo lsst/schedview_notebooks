{
 "cells": [
  {
   "cell_type": "markdown",
   "id": "507d14fb-e056-4d34-99dd-8fe4fc43a15f",
   "metadata": {},
   "source": [
    "# Example of a schedview event timeline"
   ]
  },
  {
   "cell_type": "code",
   "execution_count": null,
   "id": "3d7c47ef-86b7-434f-9de4-056518be4f18",
   "metadata": {},
   "outputs": [],
   "source": [
    "night = '2024-12-08'\n",
    "telescope = 'Simonyi'\n",
    "visit_origin = \"lsstcomcam\""
   ]
  },
  {
   "cell_type": "code",
   "execution_count": null,
   "id": "8e09c6f2-2f81-4d7a-a9fc-6566e37d8b9c",
   "metadata": {},
   "outputs": [],
   "source": [
    "# Use more recent versions of rubin_scheduler and schedview (will become unnecessary soon)\n",
    "import sys\n",
    "import os\n",
    "import astropy.utils.iers\n",
    "import bokeh.io\n",
    "\n",
    "# Tell astropy we don't need super high precision:\n",
    "astropy.utils.iers.conf.iers_degraded_accuracy = \"ignore\"\n",
    "\n",
    "# Tell rubin_scheduler where to find its data\n",
    "os.environ[\"RUBIN_SIM_DATA_DIR\"] = \"/sdf/data/rubin/shared/rubin_sim_data\"\n",
    "\n",
    "# Prepare jupyter to show bokeh plots\n",
    "bokeh.io.output_notebook(hide_banner=True)"
   ]
  },
  {
   "cell_type": "code",
   "execution_count": null,
   "id": "72cad499-2979-451e-8e54-d043a77a46b6",
   "metadata": {},
   "outputs": [],
   "source": [
    "devel = False\n",
    "if devel:\n",
    "    %load_ext lab_black\n",
    "    %load_ext autoreload\n",
    "    %autoreload 1\n",
    "\n",
    "    extra_paths = (\n",
    "        \"/sdf/data/rubin/user/neilsen/devel/rubin_scheduler\",\n",
    "        \"/sdf/data/rubin/user/neilsen/devel/rubin_sim\",\n",
    "        \"/sdf/data/rubin/user/neilsen/devel/schedview\",\n",
    "    )\n",
    "    for extra_path in extra_paths:\n",
    "        sys.path.insert(0, extra_path)\n",
    "\n",
    "    %aimport schedview.dayobs\n",
    "    %aimport schedview.collect.nightreport\n",
    "    %aimport schedview.collect.visits\n",
    "    %aimport schedview.collect.efd\n",
    "    %aimport schedview.compute.astro\n",
    "    %aimport schedview.compute.obsblocks\n",
    "    %aimport schedview.compute.nightreport\n",
    "    %aimport schedview.plot.timeline\n",
    "else:\n",
    "    extra_paths = (\n",
    "        \"/sdf/data/rubin/shared/scheduler/packages/rubin_scheduler-3.4.1.dev2+g9f70dc6.d20241204\",\n",
    "        \"/sdf/data/rubin/shared/scheduler/packages/rubin_sim-2.1.1.dev71+g0a9c0ea9\",\n",
    "        \"/sdf/data/rubin/shared/scheduler/packages/SP-1789/schedview\",\n",
    "    )\n",
    "    for extra_path in extra_paths:\n",
    "        sys.path.insert(0, extra_path)\n",
    "\n",
    "    import schedview.dayobs\n",
    "    import schedview.collect.nightreport\n",
    "    import schedview.collect.visits\n",
    "    import schedview.collect.efd\n",
    "    import schedview.compute.astro\n",
    "    import schedview.compute.obsblocks\n",
    "    import schedview.compute.nightreport\n",
    "    import schedview.plot.timeline"
   ]
  },
  {
   "cell_type": "code",
   "execution_count": null,
   "id": "f34a729e-0c90-49b9-9132-6dc1284d55ef",
   "metadata": {},
   "outputs": [],
   "source": [
    "day_obs = schedview.dayobs.DayObs.from_date(night)"
   ]
  },
  {
   "cell_type": "code",
   "execution_count": null,
   "id": "92a931a2-9db4-4149-aff5-b96e1a3f040d",
   "metadata": {},
   "outputs": [],
   "source": [
    "visits = schedview.collect.visits.read_visits(\n",
    "    day_obs, visit_origin, stackers=schedview.collect.visits.NIGHT_STACKERS\n",
    ")"
   ]
  },
  {
   "cell_type": "code",
   "execution_count": null,
   "id": "0dfa1337-833c-4b1d-b202-65c56b05cddb",
   "metadata": {},
   "outputs": [],
   "source": [
    "messages = schedview.collect.nightreport.get_night_narrative(day_obs, telescope)\n",
    "messages_with_duration = [m for m in messages if m[\"date_begin\"] < m[\"date_end\"]]"
   ]
  },
  {
   "cell_type": "code",
   "execution_count": null,
   "id": "f74374c9-0a17-448e-a9d1-9317508f94d1",
   "metadata": {},
   "outputs": [],
   "source": [
    "new_messages = []\n",
    "for message in messages:\n",
    "    time_lost_type = (\n",
    "        \"\" if message[\"time_lost_type\"] == \"None\" else message[\"time_lost_type\"]\n",
    "    )\n",
    "    writer = \"Human\" if message[\"is_human\"] else \"Automated \"\n",
    "    for component in message[\"components\"]:\n",
    "        new_message = {\"factor\": f\"{writer} log message ({component} {time_lost_type})\"}\n",
    "        new_message.update(message)\n",
    "        new_messages.append(new_message)"
   ]
  },
  {
   "cell_type": "code",
   "execution_count": null,
   "id": "dc5c54c1-0fb5-490c-9b7a-8e5464a7bdab",
   "metadata": {},
   "outputs": [],
   "source": [
    "sal_indexes = schedview.collect.efd.SAL_INDEX_GUESSES[visit_origin]"
   ]
  },
  {
   "cell_type": "code",
   "execution_count": null,
   "id": "31719f43-5ed2-45d6-8c97-05025cd26eb2",
   "metadata": {},
   "outputs": [],
   "source": [
    "scheduler_dependencies = await schedview.collect.efd.query_efd_topic_for_night(\n",
    "    \"lsst.sal.Scheduler.logevent_dependenciesVersions\", day_obs, sal_indexes\n",
    ")"
   ]
  },
  {
   "cell_type": "code",
   "execution_count": null,
   "id": "531953ed-a682-4b4e-ae38-5260b512645c",
   "metadata": {},
   "outputs": [],
   "source": [
    "scheduler_configuration = await schedview.collect.efd.query_efd_topic_for_night(\n",
    "    \"lsst.sal.Scheduler.logevent_configurationApplied\", day_obs, sal_indexes\n",
    ")"
   ]
  },
  {
   "cell_type": "code",
   "execution_count": null,
   "id": "b8d66efb-5c41-4722-a117-a6b05c3f9dc8",
   "metadata": {},
   "outputs": [],
   "source": [
    "block_status = await schedview.collect.efd.query_efd_topic_for_night(\n",
    "    \"lsst.sal.Scheduler.logevent_blockStatus\", day_obs, sal_indexes\n",
    ")\n",
    "block_spans = schedview.compute.obsblocks.compute_block_spans(block_status)"
   ]
  },
  {
   "cell_type": "code",
   "execution_count": null,
   "id": "6627c1d7-84f6-4b30-819c-335d0240a06b",
   "metadata": {},
   "outputs": [],
   "source": [
    "scheduler_snapshots = await schedview.collect.efd.query_efd_topic_for_night(\n",
    "    \"lsst.sal.Scheduler.logevent_largeFileObjectAvailable\", day_obs, sal_indexes\n",
    ")"
   ]
  },
  {
   "cell_type": "code",
   "execution_count": null,
   "id": "857e02a2-6d3d-4e16-87b2-ea0b0d51c2b2",
   "metadata": {},
   "outputs": [],
   "source": [
    "night_events = schedview.compute.astro.night_events(day_obs.date)"
   ]
  },
  {
   "cell_type": "code",
   "execution_count": null,
   "id": "34cbf143-77d4-40db-ac4a-d3093c989968",
   "metadata": {},
   "outputs": [],
   "source": [
    "median_model_sky = schedview.compute.astro.get_median_model_sky(day_obs)"
   ]
  },
  {
   "cell_type": "code",
   "execution_count": null,
   "id": "cb17f375-d062-4a77-b1ba-2668bccfada0",
   "metadata": {},
   "outputs": [],
   "source": [
    "p = schedview.plot.timeline.make_timeline_scatterplots(\n",
    "    visits=visits,\n",
    "    sun=night_events,\n",
    "    model_sky=median_model_sky,\n",
    "    visit_timeline=visits,\n",
    "    block_spans=block_spans,\n",
    "    block_status=block_status,\n",
    "    scheduler_snapshots=scheduler_snapshots,\n",
    "    scheduler_dependencies=scheduler_dependencies,\n",
    "    scheduler_configuration=scheduler_configuration,\n",
    "    log_messages=messages,\n",
    "    message_spans=messages_with_duration,\n",
    ")\n",
    "\n",
    "bokeh.io.show(p)"
   ]
  },
  {
   "cell_type": "markdown",
   "id": "7499d7c5-4b9f-4aa5-aa4a-09fee3ea715b",
   "metadata": {},
   "source": [
    "You can make a full stand-alone (*not* using jupyter or Times Square) dashboard web application using `panel` like this:"
   ]
  },
  {
   "cell_type": "code",
   "execution_count": null,
   "id": "fc3650d5-286c-4d3f-a8c2-283a21f7fc3c",
   "metadata": {},
   "outputs": [],
   "source": [
    "import inspect\n",
    "from schedview.examples.app import event_timeline\n",
    "\n",
    "print(inspect.getsource(event_timeline))"
   ]
  },
  {
   "cell_type": "code",
   "execution_count": null,
   "id": "ee96a640-c73c-4677-a1e6-fd2beb41c42c",
   "metadata": {},
   "outputs": [],
   "source": []
  }
 ],
 "metadata": {
  "kernelspec": {
   "display_name": "LSST",
   "language": "python",
   "name": "lsst"
  },
  "language_info": {
   "codemirror_mode": {
    "name": "ipython",
    "version": 3
   },
   "file_extension": ".py",
   "mimetype": "text/x-python",
   "name": "python",
   "nbconvert_exporter": "python",
   "pygments_lexer": "ipython3",
   "version": "3.11.9"
  }
 },
 "nbformat": 4,
 "nbformat_minor": 5
}
