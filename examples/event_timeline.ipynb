{
 "cells": [
  {
   "cell_type": "markdown",
   "id": "507d14fb-e056-4d34-99dd-8fe4fc43a15f",
   "metadata": {},
   "source": [
    "# Example of a schedview event timeline"
   ]
  },
  {
   "cell_type": "code",
   "execution_count": null,
   "id": "3d7c47ef-86b7-434f-9de4-056518be4f18",
   "metadata": {},
   "outputs": [],
   "source": [
    "night = '2024-11-15'\n",
    "telescope = 'Simonyi'"
   ]
  },
  {
   "cell_type": "code",
   "execution_count": null,
   "id": "8e09c6f2-2f81-4d7a-a9fc-6566e37d8b9c",
   "metadata": {},
   "outputs": [],
   "source": [
    "# Use more recent versions of rubin_scheduler and schedview (will become unnecessary soon)\n",
    "import sys\n",
    "sys.path.insert(0, '/sdf/data/rubin/user/neilsen/devel/times_square_sources/2024-11-21/rubin_scheduler')\n",
    "sys.path.insert(0, '/sdf/data/rubin/user/neilsen/devel/times_square_sources/2024-11-21/schedview')\n",
    "\n",
    "# Imports\n",
    "import os\n",
    "import astropy.utils.iers\n",
    "import bokeh.io\n",
    "\n",
    "from schedview import DayObs\n",
    "from schedview.collect.nightreport import get_night_narrative\n",
    "from schedview.plot import make_timeline_scatterplots\n",
    "\n",
    "# Tell astropy we don't need super high precision:\n",
    "astropy.utils.iers.conf.iers_degraded_accuracy = \"ignore\"\n",
    "\n",
    "# Tell rubin_scheduler where to find its data\n",
    "os.environ[\"RUBIN_SIM_DATA_DIR\"] = \"/sdf/data/rubin/shared/rubin_sim_data\"\n",
    "\n",
    "# Prepare jupyter to show bokeh plots\n",
    "bokeh.io.output_notebook()"
   ]
  },
  {
   "cell_type": "code",
   "execution_count": null,
   "id": "80ce3722-720e-4be4-b1c8-f80c0d1bf1f2",
   "metadata": {},
   "outputs": [],
   "source": [
    "# Parse the date provided\n",
    "day_obs = DayObs.from_date(night)"
   ]
  },
  {
   "cell_type": "code",
   "execution_count": null,
   "id": "7a06eebc-d20f-433c-bfee-c957247008f2",
   "metadata": {},
   "outputs": [],
   "source": [
    "messages = get_night_narrative(day_obs, telescope)"
   ]
  },
  {
   "cell_type": "code",
   "execution_count": null,
   "id": "e2e22572-ed29-43be-9c44-f767c44e1df6",
   "metadata": {},
   "outputs": [],
   "source": [
    "fig = make_timeline_scatterplots(log_messages=messages)\n",
    "# fig is an instance of a bokeh figure and can be adjusted, embedded in more elaborate UIs, or otherwise manipulated using the bokeh API\n",
    "bokeh.io.show(fig)"
   ]
  },
  {
   "cell_type": "markdown",
   "id": "3aaa8faa-a1a5-438a-8bbb-53f355d45fc2",
   "metadata": {},
   "source": [
    "To reduce crowding, there is also a \"jitter\" option with randomly dispalces point vertically from the straight line:"
   ]
  },
  {
   "cell_type": "code",
   "execution_count": null,
   "id": "b34eb200-032b-44c7-a995-f20c807c8a16",
   "metadata": {},
   "outputs": [],
   "source": [
    "fig_with_jitter = make_timeline_scatterplots(log_messages=messages, jitter=True)\n",
    "bokeh.io.show(fig_with_jitter)"
   ]
  },
  {
   "cell_type": "code",
   "execution_count": null,
   "id": "ee96a640-c73c-4677-a1e6-fd2beb41c42c",
   "metadata": {},
   "outputs": [],
   "source": []
  }
 ],
 "metadata": {
  "kernelspec": {
   "display_name": "LSST",
   "language": "python",
   "name": "lsst"
  },
  "language_info": {
   "codemirror_mode": {
    "name": "ipython",
    "version": 3
   },
   "file_extension": ".py",
   "mimetype": "text/x-python",
   "name": "python",
   "nbconvert_exporter": "python",
   "pygments_lexer": "ipython3",
   "version": "3.11.9"
  }
 },
 "nbformat": 4,
 "nbformat_minor": 5
}
