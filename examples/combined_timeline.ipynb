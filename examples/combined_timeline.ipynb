{
 "cells": [
  {
   "cell_type": "markdown",
   "id": "507d14fb-e056-4d34-99dd-8fe4fc43a15f",
   "metadata": {},
   "source": [
    "# Example of a schedview combined event + visit timeline"
   ]
  },
  {
   "cell_type": "code",
   "execution_count": null,
   "id": "dec72521-8593-4184-99af-29f80035db95",
   "metadata": {},
   "outputs": [],
   "source": [
    "night = '2024-12-08'\n",
    "telescope = 'Simonyi'\n",
    "visit_origin = \"lsstcomcam\""
   ]
  },
  {
   "cell_type": "code",
   "execution_count": null,
   "id": "891ee5c1-2792-4fad-8203-e6467adf5e16",
   "metadata": {},
   "outputs": [],
   "source": [
    "# Use more recent versions of rubin_scheduler and schedview (will become unnecessary soon)\n",
    "import sys\n",
    "extra_paths = (\n",
    "    \"/sdf/data/rubin/shared/scheduler/packages/rubin_scheduler-3.4.1.dev2+g9f70dc6.d20241204\",\n",
    "    \"/sdf/data/rubin/shared/scheduler/packages/rubin_sim-2.1.1.dev71+g0a9c0ea9\",\n",
    "    \"/sdf/data/rubin/shared/scheduler/packages/SP-1789/schedview\",\n",
    ")\n",
    "for extra_path in extra_paths:\n",
    "    sys.path.insert(0, extra_path)\n",
    "\n",
    "import os\n",
    "import astropy.utils.iers\n",
    "import bokeh.io\n",
    "import schedview.dayobs\n",
    "import schedview.collect.nightreport\n",
    "import schedview.collect.visits\n",
    "import schedview.collect.efd\n",
    "import schedview.compute.astro\n",
    "import schedview.compute.obsblocks\n",
    "import schedview.compute.nightreport\n",
    "import schedview.plot.timeline\n",
    "import schedview.collect.timeline"
   ]
  },
  {
   "cell_type": "code",
   "execution_count": null,
   "id": "9495b690-0651-4565-a7ed-aa0ffaf936a7",
   "metadata": {},
   "outputs": [],
   "source": [
    "# Tell astropy we don't need super high precision\n",
    "astropy.utils.iers.conf.iers_degraded_accuracy = \"ignore\""
   ]
  },
  {
   "cell_type": "code",
   "execution_count": null,
   "id": "44249d7c-1edb-48a9-86c1-86a969808b16",
   "metadata": {},
   "outputs": [],
   "source": [
    "# Tell rubin_scheduler where to find its data\n",
    "os.environ[\"RUBIN_SIM_DATA_DIR\"] = \"/sdf/data/rubin/shared/rubin_sim_data\""
   ]
  },
  {
   "cell_type": "code",
   "execution_count": null,
   "id": "dca69c2e-b4c8-4dd0-bfe6-370cd97f1b1b",
   "metadata": {},
   "outputs": [],
   "source": [
    "# Prepare jupyter to show bokeh plots\n",
    "bokeh.io.output_notebook(hide_banner=True)"
   ]
  },
  {
   "cell_type": "code",
   "execution_count": null,
   "id": "2bb1791a-0494-4e1d-9ff7-43b5c1d50968",
   "metadata": {},
   "outputs": [],
   "source": [
    "# Get the DayObs instance from whatever form the user\n",
    "# provided it in.\n",
    "\n",
    "day_obs = schedview.dayobs.DayObs.from_date(night)"
   ]
  },
  {
   "cell_type": "code",
   "execution_count": null,
   "id": "d8d37c50-64d1-4201-99f9-aae743536b11",
   "metadata": {},
   "outputs": [],
   "source": [
    "# Collect data from outside sources of data such as\n",
    "# the consdb or the EFD.\n",
    "\n",
    "data = await schedview.collect.timeline.collect_timeline_data(\n",
    "    day_obs,\n",
    "    sal_indexes=schedview.collect.efd.SAL_INDEX_GUESSES[visit_origin],\n",
    "    telescope=telescope,\n",
    "    visit_origin=visit_origin,\n",
    "    visits=True,\n",
    "    log_messages=True,\n",
    "    scheduler_dependencies=True,\n",
    "    scheduler_configuration=True,\n",
    "    block_status=True,\n",
    "    scheduler_snapshots=True\n",
    ")"
   ]
  },
  {
   "cell_type": "code",
   "execution_count": null,
   "id": "c5f8d755-f8b6-4cfd-845b-f8bb517b18ad",
   "metadata": {},
   "outputs": [],
   "source": [
    "# Things to plot that are not collected from outside data sources directly,\n",
    "# but rather either computed from them or derived from models.\n",
    "\n",
    "data['block_spans'] = schedview.compute.obsblocks.compute_block_spans(data['block_status'])\n",
    "data['visit_timeline'] = data['visits']\n",
    "data['model_sky'] = schedview.compute.astro.get_median_model_sky(day_obs)\n",
    "data['sun'] = schedview.compute.astro.night_events(day_obs.date)"
   ]
  },
  {
   "cell_type": "code",
   "execution_count": null,
   "id": "02826d3e-d0c9-4b28-98ef-9ae239c7216c",
   "metadata": {},
   "outputs": [],
   "source": [
    "# Actually make the plot\n",
    "\n",
    "p = schedview.plot.timeline.make_timeline_scatterplots(**data)\n",
    "bokeh.io.show(p)"
   ]
  },
  {
   "cell_type": "markdown",
   "id": "a68e5495-bdae-4008-8df3-d2fe0cea9ebe",
   "metadata": {},
   "source": [
    "You can make a full stand-alone (*not* using jupyter or Times Square) dashboard web application using `panel` like this:"
   ]
  },
  {
   "cell_type": "code",
   "execution_count": null,
   "id": "48ab9e9a-88dd-4893-9bdf-7ec51fb54433",
   "metadata": {},
   "outputs": [],
   "source": [
    "import inspect\n",
    "from schedview.examples.app import combined_timeline\n",
    "print(inspect.getsource(combined_timeline))"
   ]
  },
  {
   "cell_type": "code",
   "execution_count": null,
   "id": "1d62b039-30c2-4bdd-88df-f7f01003c2e5",
   "metadata": {},
   "outputs": [],
   "source": []
  }
 ],
 "metadata": {
  "kernelspec": {
   "display_name": "LSST",
   "language": "python",
   "name": "lsst"
  },
  "language_info": {
   "codemirror_mode": {
    "name": "ipython",
    "version": 3
   },
   "file_extension": ".py",
   "mimetype": "text/x-python",
   "name": "python",
   "nbconvert_exporter": "python",
   "pygments_lexer": "ipython3",
   "version": "3.11.9"
  }
 },
 "nbformat": 4,
 "nbformat_minor": 5
}
