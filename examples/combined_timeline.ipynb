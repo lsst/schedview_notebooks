{
 "cells": [
  {
   "cell_type": "markdown",
   "id": "507d14fb-e056-4d34-99dd-8fe4fc43a15f",
   "metadata": {},
   "source": [
    "# Example of a schedview event timeline"
   ]
  },
  {
   "cell_type": "code",
   "execution_count": null,
   "id": "3d7c47ef-86b7-434f-9de4-056518be4f18",
   "metadata": {},
   "outputs": [],
   "source": [
    "night = '2024-11-15'\n",
    "telescope = 'Simonyi'\n",
    "visit_origin = 'lsstcomcam'"
   ]
  },
  {
   "cell_type": "code",
   "execution_count": null,
   "id": "8e09c6f2-2f81-4d7a-a9fc-6566e37d8b9c",
   "metadata": {},
   "outputs": [],
   "source": [
    "# Use more recent versions of rubin_scheduler and schedview (will become unnecessary soon)\n",
    "import sys\n",
    "sys.path.insert(0, '/sdf/data/rubin/user/neilsen/devel/times_square_sources/2024-11-21/rubin_scheduler')\n",
    "sys.path.insert(0, '/sdf/data/rubin/user/neilsen/devel/times_square_sources/2024-11-21/schedview')\n",
    "\n",
    "# Imports\n",
    "import os\n",
    "import astropy.utils.iers\n",
    "import bokeh.io\n",
    "\n",
    "from schedview import DayObs\n",
    "from schedview.collect.visits import read_visits\n",
    "from schedview.collect.nightreport import get_night_narrative\n",
    "from schedview.plot import make_timeline_scatterplots\n",
    "\n",
    "# Tell astropy we don't need super high precision:\n",
    "astropy.utils.iers.conf.iers_degraded_accuracy = \"ignore\"\n",
    "\n",
    "# Tell rubin_scheduler where to find its data\n",
    "os.environ[\"RUBIN_SIM_DATA_DIR\"] = \"/sdf/data/rubin/shared/rubin_sim_data\"\n",
    "\n",
    "# Prepare jupyter to show bokeh plots\n",
    "bokeh.io.output_notebook()"
   ]
  },
  {
   "cell_type": "code",
   "execution_count": null,
   "id": "80ce3722-720e-4be4-b1c8-f80c0d1bf1f2",
   "metadata": {},
   "outputs": [],
   "source": [
    "# Parse the date provided\n",
    "day_obs = DayObs.from_date(night)"
   ]
  },
  {
   "cell_type": "code",
   "execution_count": null,
   "id": "bbfc3c75-148e-4e99-bbc4-631d3ef963f6",
   "metadata": {},
   "outputs": [],
   "source": [
    "messages = get_night_narrative(day_obs, telescope)"
   ]
  },
  {
   "cell_type": "code",
   "execution_count": null,
   "id": "654c8211-e0c9-4f3d-9f85-ddcad1ffb60c",
   "metadata": {},
   "outputs": [],
   "source": [
    "visits = read_visits(day_obs, visit_origin)"
   ]
  },
  {
   "cell_type": "code",
   "execution_count": null,
   "id": "b92ccd02-db0d-4319-be34-75160baf38b3",
   "metadata": {},
   "outputs": [],
   "source": [
    "fig = make_timeline_scatterplots(log_messages=messages, visits=visits, jitter=True)\n",
    "bokeh.io.show(fig)"
   ]
  },
  {
   "cell_type": "markdown",
   "id": "a68e5495-bdae-4008-8df3-d2fe0cea9ebe",
   "metadata": {},
   "source": [
    "You can make a full stand-alone (*not* using jupyter or Times Square) dashboard web application using `panel` like this:"
   ]
  },
  {
   "cell_type": "code",
   "execution_count": null,
   "id": "48ab9e9a-88dd-4893-9bdf-7ec51fb54433",
   "metadata": {},
   "outputs": [],
   "source": [
    "import inspect\n",
    "from schedview.examples.app import combined_timeline\n",
    "print(inspect.getsource(combined_timeline))"
   ]
  },
  {
   "cell_type": "code",
   "execution_count": null,
   "id": "1d62b039-30c2-4bdd-88df-f7f01003c2e5",
   "metadata": {},
   "outputs": [],
   "source": []
  }
 ],
 "metadata": {
  "kernelspec": {
   "display_name": "LSST",
   "language": "python",
   "name": "lsst"
  },
  "language_info": {
   "codemirror_mode": {
    "name": "ipython",
    "version": 3
   },
   "file_extension": ".py",
   "mimetype": "text/x-python",
   "name": "python",
   "nbconvert_exporter": "python",
   "pygments_lexer": "ipython3",
   "version": "3.11.9"
  }
 },
 "nbformat": 4,
 "nbformat_minor": 5
}
