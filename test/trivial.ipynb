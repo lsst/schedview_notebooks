{
 "cells": [
  {
   "cell_type": "code",
   "execution_count": null,
   "id": "305a7351-ef95-4fb6-b81c-462bc3570a5f",
   "metadata": {},
   "outputs": [],
   "source": [
    "value = 5"
   ]
  },
  {
   "cell_type": "markdown",
   "id": "595807f9-9264-4233-a712-186cd0e60611",
   "metadata": {},
   "source": [
    "# A Trivial Test"
   ]
  },
  {
   "cell_type": "code",
   "execution_count": null,
   "id": "c70f0f93-fb95-4dd2-b098-fbedb9d963a9",
   "metadata": {},
   "outputs": [],
   "source": [
    "new_value = value + 5"
   ]
  },
  {
   "cell_type": "code",
   "execution_count": null,
   "id": "027a7a21-1259-4395-bb0b-39251fd8c455",
   "metadata": {},
   "outputs": [],
   "source": [
    "print(f\"{value} + 5 = {new_value}\")"
   ]
  },
  {
   "cell_type": "code",
   "execution_count": null,
   "id": "7c4d40f4-c70e-4128-a875-4f9dff8fd136",
   "metadata": {},
   "outputs": [],
   "source": []
  }
 ],
 "metadata": {
  "kernelspec": {
   "display_name": "LSST",
   "language": "python",
   "name": "lsst"
  },
  "language_info": {
   "codemirror_mode": {
    "name": "ipython",
    "version": 3
   },
   "file_extension": ".py",
   "mimetype": "text/x-python",
   "name": "python",
   "nbconvert_exporter": "python",
   "pygments_lexer": "ipython3",
   "version": "3.11.7"
  }
 },
 "nbformat": 4,
 "nbformat_minor": 5
}
