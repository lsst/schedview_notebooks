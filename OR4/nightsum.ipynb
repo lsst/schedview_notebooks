{
 "cells": [
  {
   "cell_type": "markdown",
   "id": "ca1f04f0-f28b-4964-965a-c2e12186a84b",
   "metadata": {},
   "source": [
    "# Scheduler-oriented night summary for Rubin Observatory for {{ params.day_obs }} of baseline simulation {{ params.sim_version }}"
   ]
  },
  {
   "cell_type": "code",
   "execution_count": null,
   "id": "9bd216b6-6ae7-4ded-bd90-69f801140275",
   "metadata": {},
   "outputs": [],
   "source": [
    "# This cell is only for setting parameter defaults\n",
    "day_obs = \"2024-06-26\"\n",
    "instrument = 'lsstcomcamsim'\n",
    "previous_visits_fname = '/sdf/group/rubin/web_data/sim-data/sims_featureScheduler_runs3.4/baseline/baseline_v3.4_10yrs.db'"
   ]
  },
  {
   "cell_type": "markdown",
   "id": "29c2b3e5-a8db-4676-b24d-b266cf9a55db",
   "metadata": {},
   "source": [
    "## Introduction\n",
    "\n",
    "This report is a summary of a night of observing designed to understand scheduler behavior during the night, identify scheduler problems, and otherwise monitor scheduler performance.\n",
    "It present, it creates reports only from opsim simulations."
   ]
  },
  {
   "cell_type": "code",
   "execution_count": null,
   "id": "26aa8faa-2dc6-4236-abf0-d6248d1a2a89",
   "metadata": {},
   "outputs": [],
   "source": [
    "# Uncomment for development\n",
    "# %load_ext lab_black"
   ]
  },
  {
   "cell_type": "code",
   "execution_count": null,
   "id": "dcd4ecbc-95fe-4548-bf87-24589acecb67",
   "metadata": {},
   "outputs": [],
   "source": [
    "# Validate the input\n",
    "import re\n",
    "\n",
    "assert re.match(r\"^\\d\\d\\d\\d-\\d\\d-\\d\\d$\", day_obs) is not None\n",
    "assert instrument in ('latiss','lsstcomcam', 'lsstcomcamsim')"
   ]
  },
  {
   "cell_type": "code",
   "execution_count": null,
   "id": "9fa64668-c556-4b2f-8204-d5d68c9b56bf",
   "metadata": {},
   "outputs": [],
   "source": [
    "import datetime\n",
    "import logging\n",
    "import os\n",
    "import sqlite3\n",
    "import sys\n",
    "import warnings\n",
    "\n",
    "import astropy\n",
    "import astropy.units as u\n",
    "import bokeh\n",
    "import bokeh.io\n",
    "import bokeh.layouts\n",
    "import bokeh.models\n",
    "import bokeh.plotting\n",
    "import bokeh.transform\n",
    "import cartopy\n",
    "import colorcet\n",
    "import healpy\n",
    "import healpy as hp\n",
    "import matplotlib as mpl\n",
    "import matplotlib.pyplot as plt\n",
    "import numpy as np\n",
    "import pandas as pd\n",
    "from erfa import ErfaWarning\n",
    "from astropy.coordinates import SkyCoord, get_body\n",
    "from astropy.time import Time\n",
    "from astropy.visualization import ZScaleInterval\n",
    "from IPython.display import HTML, display\n",
    "from lsst.resources import ResourcePath"
   ]
  },
  {
   "cell_type": "code",
   "execution_count": null,
   "id": "d0b8ed4a-6835-4e82-a53d-97bb731c6bc3",
   "metadata": {},
   "outputs": [],
   "source": [
    "os.environ[\"RUBIN_SIM_DATA_DIR\"] = \"/sdf/data/rubin/user/neilsen/data/rubin_sim_data\""
   ]
  },
  {
   "cell_type": "code",
   "execution_count": null,
   "id": "ced90133-91ee-4f88-9ba6-2a0abee216cf",
   "metadata": {},
   "outputs": [],
   "source": [
    "sys.path.insert(\n",
    "    0, \"/sdf/data/rubin/user/neilsen/devel/pip_targets/lib/python3.11/site-packages\"\n",
    ")"
   ]
  },
  {
   "cell_type": "code",
   "execution_count": null,
   "id": "2087487d-5381-4aeb-9f18-73e2c47d0fd3",
   "metadata": {},
   "outputs": [],
   "source": [
    "devel_versions = True\n",
    "if devel_versions:\n",
    "    sys.path.insert(0, \"/sdf/data/rubin/user/neilsen/devel/times_square_sources/2024-03-25/uranography\") \n",
    "    sys.path.insert(0, \"/sdf/data/rubin/user/neilsen/devel/times_square_sources/2024-09-13/rubin_scheduler\")\n",
    "    sys.path.insert(0, \"/sdf/data/rubin/user/neilsen/devel/times_square_sources/2024-09-13/rubin_sim\")\n",
    "    sys.path.insert(0, \"/sdf/data/rubin/user/neilsen/devel/times_square_sources/2024-09-13/schedview\")"
   ]
  },
  {
   "cell_type": "code",
   "execution_count": null,
   "id": "d6ab481d-8e62-4cd8-8735-7178e6a3223e",
   "metadata": {},
   "outputs": [],
   "source": [
    "import rubin_scheduler\n",
    "import rubin_scheduler.site_models\n",
    "import rubin_scheduler.utils\n",
    "import schedview.compute.astro\n",
    "import schedview.compute.visits\n",
    "import schedview.plot.survey_skyproj\n",
    "import schedview.plot.visitmap\n",
    "import schedview.collect.consdb\n",
    "import uranography\n",
    "from rubin_sim.data import get_baseline\n",
    "from rubin_scheduler.scheduler.model_observatory import ModelObservatory\n",
    "from rubin_sim import maf\n",
    "from schedview.compute.camera import LsstCameraFootprintPerimeter\n",
    "from uranography.api import Planisphere, make_zscale_linear_cmap"
   ]
  },
  {
   "cell_type": "code",
   "execution_count": null,
   "id": "8b63f7b3-e3c1-44f6-999a-0a43c48f32b9",
   "metadata": {},
   "outputs": [],
   "source": [
    "# Degraded IERS accuracy is never going to be important for these figures.\n",
    "\n",
    "# If IERS degraded accuracy encountered, don't fail, just keep going.\n",
    "astropy.utils.iers.conf.iers_degraded_accuracy = \"ignore\"\n",
    "\n",
    "# Don't even complain.\n",
    "warnings.filterwarnings(\n",
    "    \"ignore\",\n",
    "    category=astropy.utils.exceptions.AstropyWarning,\n",
    "    message=\"Tried to get polar motions for times after IERS data is valid. Defaulting to polar motion from the 50-yr mean for those. This may affect precision at the arcsec level. Please check your astropy.utils.iers.conf.iers_auto_url and point it to a newer version if necessary.\",\n",
    ")"
   ]
  },
  {
   "cell_type": "code",
   "execution_count": null,
   "id": "defbe05b-ab63-411b-85a5-6d8ecd9f38c1",
   "metadata": {},
   "outputs": [],
   "source": [
    "# In simulations, we go far enough into the future that the erfa module finds it \"dubious\".\n",
    "# Keep the complaints quiet.\n",
    "warnings.filterwarnings(\n",
    "    \"ignore\",\n",
    "    category=ErfaWarning,\n",
    "    message=r\".*dubious year.*\",\n",
    ")"
   ]
  },
  {
   "cell_type": "code",
   "execution_count": null,
   "id": "b631463b-75f1-4865-9979-746986e5887d",
   "metadata": {},
   "outputs": [],
   "source": [
    "# Don't complain about working with daytime MJDs either.\n",
    "warnings.filterwarnings(\n",
    "    \"ignore\",\n",
    "    module=\"rubin_scheduler.skybrightness_pre.sky_model_pre\",\n",
    "    category=UserWarning,\n",
    "    message=\"Requested MJD between sunrise and sunset, returning closest maps\",\n",
    ")"
   ]
  },
  {
   "cell_type": "code",
   "execution_count": null,
   "id": "65351431-7483-4a96-8585-693012d76c7c",
   "metadata": {},
   "outputs": [],
   "source": [
    "# Quiet unimportant chatter from healpy.\n",
    "healpy_logger = logging.getLogger(\"healpy\")\n",
    "healpy_logger.setLevel(logging.WARNING)"
   ]
  },
  {
   "cell_type": "code",
   "execution_count": null,
   "id": "40f9aca3-fdbe-4247-b860-a35288e328f7",
   "metadata": {},
   "outputs": [],
   "source": [
    "bokeh.io.output_notebook()"
   ]
  },
  {
   "cell_type": "code",
   "execution_count": null,
   "id": "3028f9f0-cee9-4f56-9353-5d788ada1c09",
   "metadata": {},
   "outputs": [],
   "source": [
    "%matplotlib inline"
   ]
  },
  {
   "cell_type": "code",
   "execution_count": null,
   "id": "c1ee17df-c43d-44d5-ac47-4f7e396503f7",
   "metadata": {},
   "outputs": [],
   "source": [
    "observatory = ModelObservatory(init_load_length=1)\n",
    "timezone = \"Chile/Continental\"\n",
    "use_matplotlib = True"
   ]
  },
  {
   "cell_type": "code",
   "execution_count": null,
   "id": "10ebff91-1a64-4259-8286-4420c89e739e",
   "metadata": {},
   "outputs": [],
   "source": [
    "day_obs_mjd = int(Time(day_obs).mjd)\n",
    "day_obs_datetime = Time(day_obs_mjd, format=\"mjd\").datetime\n",
    "day_obs_date = datetime.date(day_obs_datetime.year, day_obs_datetime.month, day_obs_datetime.day)\n",
    "observatory.mjd = day_obs_mjd + 1 - observatory.location.lon.deg/360 ;# The approximate middle of the night"
   ]
  },
  {
   "cell_type": "code",
   "execution_count": null,
   "id": "4118a98a-505f-4339-9bfc-db7397681965",
   "metadata": {},
   "outputs": [],
   "source": [
    "stackers = [\n",
    "    maf.HourAngleStacker(),\n",
    "    maf.stackers.ObservationStartDatetime64Stacker(),\n",
    "    maf.stackers.TeffStacker(),\n",
    "    maf.stackers.OverheadStacker(),\n",
    "]\n",
    "\n",
    "visits = schedview.collect.consdb.read_consdb(\n",
    "    instrument,\n",
    "    stackers=stackers,\n",
    "    day_obs=day_obs\n",
    ")"
   ]
  },
  {
   "cell_type": "markdown",
   "id": "861952bd-5c21-4d80-94be-365d136ef369",
   "metadata": {},
   "source": [
    "## Night narrative\n",
    "\n",
    "Human written summaries and narratives describing the night and any problems or engineering tests that occurred during it will be important for understandnig what events in the night arose from the scheduler, and what came from other causes.\n",
    "\n",
    "Tools for recording such text and providing access to it are still under development (see the #rubinobs-nightlog channel in the LSSTC slack), and content not included here.\n",
    "But, if it could be reported now, here is where it would be."
   ]
  },
  {
   "cell_type": "markdown",
   "id": "485d3d14-dae3-4d4e-981d-eaaf99d60929",
   "metadata": {},
   "source": [
    "## Sun and Moon"
   ]
  },
  {
   "cell_type": "code",
   "execution_count": null,
   "id": "a635adfa-0242-44d8-a919-0069b51b8cf5",
   "metadata": {},
   "outputs": [],
   "source": [
    "night_events = schedview.compute.astro.night_events(day_obs_date)\n",
    "night_events"
   ]
  },
  {
   "cell_type": "markdown",
   "id": "a3a9efcb-d56f-4a6f-8083-35d182ea6a43",
   "metadata": {},
   "source": [
    "Modified Julian Date (MJD) is in units of days (UTC).\n",
    "\n",
    "Local Sidereal Time (LST) is in units of degrees."
   ]
  },
  {
   "cell_type": "code",
   "execution_count": null,
   "id": "5db4e476-1308-4fb7-a5dc-e8e0dfde1127",
   "metadata": {},
   "outputs": [],
   "source": [
    "# Refine the mjd of the middle of the night, unlikely to be important.\n",
    "observatory.mjd = night_events.loc[\"night_middle\", \"MJD\"]"
   ]
  },
  {
   "cell_type": "code",
   "execution_count": null,
   "id": "016035e9-655f-4e36-89d8-84327d193378",
   "metadata": {},
   "outputs": [],
   "source": [
    "body_positions = schedview.compute.astro.compute_sun_moon_positions(observatory)\n",
    "body_positions"
   ]
  },
  {
   "cell_type": "markdown",
   "id": "454078c2-766e-41bf-9976-9f07f8f76184",
   "metadata": {},
   "source": [
    "RA, dec, alt, and az are all in units of degrees."
   ]
  },
  {
   "cell_type": "markdown",
   "id": "6a3134fa-10ad-403b-bce3-56858e59d6fb",
   "metadata": {},
   "source": [
    "## Conditions and statistics"
   ]
  },
  {
   "cell_type": "markdown",
   "id": "9d387553-ac08-4cb5-8a41-f1da65311699",
   "metadata": {},
   "source": [
    "### Numbers of exposures, and gaps between them"
   ]
  },
  {
   "cell_type": "code",
   "execution_count": null,
   "id": "abd67d4a-1c1f-477c-8214-54539ec35b27",
   "metadata": {},
   "outputs": [],
   "source": [
    "if len(visits):\n",
    "    overhead_summary = schedview.compute.visits.compute_overhead_summary(\n",
    "        visits,\n",
    "        night_events.loc[\"sun_n12_setting\", \"MJD\"],\n",
    "        night_events.loc[\"sun_n12_rising\", \"MJD\"],\n",
    "    )\n",
    "    summary_table = schedview.plot.create_overhead_summary_table(overhead_summary)\n",
    "    display(HTML(summary_table))\n",
    "else:\n",
    "    print(\"No visits\")"
   ]
  },
  {
   "cell_type": "markdown",
   "id": "e5ac8114-2e48-4f05-9296-e7ea0271ae7c",
   "metadata": {},
   "source": [
    "## Visit map"
   ]
  },
  {
   "cell_type": "code",
   "execution_count": null,
   "id": "ab7f312b-089e-4fc4-a26d-a16451d0e78d",
   "metadata": {},
   "outputs": [],
   "source": [
    "if len(visits):\n",
    "    visits = schedview.compute.visits.add_coords_tuple(visits)\n",
    "    vmap, vmap_data = schedview.plot.visitmap.create_visit_skymaps(\n",
    "        visits=visits,\n",
    "        night_date=day_obs_date,\n",
    "        timezone=timezone,\n",
    "        observatory=observatory,\n",
    "    )\n",
    "    bokeh.io.show(vmap)\n",
    "else:\n",
    "    print(\"No visits\")"
   ]
  },
  {
   "cell_type": "markdown",
   "id": "d0c7559a-6058-4892-823a-ab22429b608d",
   "metadata": {},
   "source": [
    "The above plots show the visits collected during the night in two different representations, modeled after physical observing tools.\n",
    "\n",
    " - The \"Armillary sphere\" shows the sphere in orthographic projection, with the center point of the projection controlled by the \"center alt\" and \"center az\" sliders beneath the plot. A static orthogrophic projection is not an equal-area projection, but playing with the sliders is a helpful way to inform a human's spatial reasoning in three dimensions.\n",
    " - The \"Planisphere\" shows the sky in [Lambert Azimuthal Equal Area Projection](https://en.wikipedia.org/wiki/Lambert_azimuthal_equal-area_projection), centered at the south celestial pole, with R.A. increasing counterclockwise. The projection used is equal area, but highly distorted near the north celestial pole (outside the LSST footprint). This is a particularly helpful representation for planning observing, because changes in time in relevant features are simple rotations, without alterations in distortion, and there are no discontinuities anywhere in the footprint at any time of year.\n",
    "\n",
    "Both plots show the footprints of camera pointing taken up to the time set by the MJD slider, with the most recent three pointings outlined in cyan. The fill colors are set according to the [descolors palette](https://github.com/DarkEnergySurvey/descolors):\n",
    "\n",
    " - <span style='background-color:#56b4e9'>&nbsp;&nbsp;&nbsp;</span><span style='color:#56b4e9'> blue</span>: u band\n",
    " - <span style='background-color:#008060'>&nbsp;&nbsp;&nbsp;</span><span style='color:#008060'> green</span>: g band\n",
    " - <span style='background-color:#ff4000'>&nbsp;&nbsp;&nbsp;</span><span style='color:#ff4000'> red</span>: r band\n",
    " - <span style='background-color:#850000'>&nbsp;&nbsp;&nbsp;</span><span style='color:#850000'> brown/crimson</span>: i band\n",
    " - <span style='background-color:#6600cc'>&nbsp;&nbsp;&nbsp;</span><span style='color:#6600cc'> purple</span>: z band\n",
    " - <span style='background-color:#000000'>&nbsp;&nbsp;&nbsp;</span><span style='color:#000000'> black</span>: y band\n",
    "\n",
    "Both plots have the following additional annotations:\n",
    " - The gray background shows the planned final depth of the LSST survey.\n",
    " - The orange disk shows the coordinates of the moon.\n",
    " - The yellow disk shows the coordinates of the sun.\n",
    " - The green line (oval) shows the ecliptic.\n",
    "   - The sun moves along the ecliptic in the direction of increasing R.A. (counter-clockwise in the planisphere figure) such that it makes a full revolution in one year.\n",
    "   - The moon moves roughly (within 5.14°) along the ecliptic in the direction of increasing R.A. (counter-clockwise in the planisphere figure) , completing a full revolution in one [sidereal month](https://en.wikipedia.org/wiki/Lunar_month#Sidereal_month) (a bit over 27 days), about 14° per day.\n",
    " - The blue line (oval) shows the plane of the Milky Way.\n",
    " - The black line shows the horizon at the time set by the MJD slider.\n",
    " - The red line shows a zenith distince of 70° (airmass=2.9) at the time set by the MJD slider."
   ]
  },
  {
   "cell_type": "markdown",
   "id": "43634b30-8c12-4416-86c3-375ee6fbabcd",
   "metadata": {},
   "source": [
    "## Survey Progress"
   ]
  },
  {
   "cell_type": "markdown",
   "id": "9340b2fb-7e03-4bfd-830b-e867fb29353f",
   "metadata": {},
   "source": [
    "### Map depth accumulated so far"
   ]
  },
  {
   "cell_type": "code",
   "execution_count": null,
   "id": "08dad2e3-3cdf-4514-92d0-9d00653b0a4b",
   "metadata": {},
   "outputs": [],
   "source": [
    "conditions = observatory.return_conditions()"
   ]
  },
  {
   "cell_type": "code",
   "execution_count": null,
   "id": "0e75f253-e43a-40fe-8bbd-6e7dd87b28ee",
   "metadata": {},
   "outputs": [],
   "source": [
    "if previous_visits_fname is not None and len(previous_visits_fname)>0:\n",
    "    previous_visits = schedview.collect.read_opsim(\n",
    "            previous_visits_fname,\n",
    "            constraint=f\"observationStartMjd < {1000+night_events.loc['sunset', 'MJD']}\",\n",
    "        )\n",
    "    have_previous_visits = len(previous_visits)>0\n",
    "else:\n",
    "    have_previous_visits = False"
   ]
  },
  {
   "cell_type": "code",
   "execution_count": null,
   "id": "1670b339-fadb-4c4d-9bcf-8ab98aac181d",
   "metadata": {},
   "outputs": [],
   "source": [
    "if have_previous_visits:\n",
    "    fig = schedview.plot.survey.create_metric_visit_map_grid(\n",
    "        maf.SumMetric(col=\"t_eff\", metric_name=\"Total Teff\"),\n",
    "        previous_visits,\n",
    "        visits,\n",
    "        observatory,\n",
    "        nside=32,\n",
    "        use_matplotlib=use_matplotlib\n",
    "    )\n",
    "else:\n",
    "    print(\"No previous visits.\")"
   ]
  },
  {
   "cell_type": "markdown",
   "id": "be7ff398-e1ca-49de-8bc4-b63125a118dc",
   "metadata": {},
   "source": [
    "Each subplot represents the progress in the survey in a different filter, presented in a [Lambert Azimuthal Equal Area Projection](https://en.wikipedia.org/wiki/Lambert_azimuthal_equal-area_projection), centered at the south celestial pole.\n",
    "\n",
    "Annotations are similar to those of the \"Visit Map\" above:\n",
    "\n",
    " - Black outlines show the camera footprint of each exposure taken on this night.\n",
    " - The blue backdrop represents the accumulated effective exposure time, t<sub>eff</sub> (as defined above) at the start of the night.\n",
    " - The orange disk shows the coordinates of the moon.\n",
    " - The yellow disk shows the coordinates of the sun.\n",
    " - The green line (oval) shows the ecliptic.\n",
    " - The blue line (oval) shows the plane of the Milky Way.\n",
    " - Broken red ovals show a zenith distince of 70° (airmass=2.9) at morning and evening 12° twilight.\n",
    "   - The dashed portions of each red oval show the extent of what is observable at all during the night.\n",
    "   - As time progress through the night, the ZD circle maintains its shape, moving counter-clockwise around the pole over the course of the night."
   ]
  },
  {
   "cell_type": "markdown",
   "id": "eb98630d-4671-44c1-96a6-08684d876bb9",
   "metadata": {},
   "source": [
    "### Map the most recent visit so far"
   ]
  },
  {
   "cell_type": "code",
   "execution_count": null,
   "id": "19b7e560-9dda-4df7-8d21-b35d056818c0",
   "metadata": {},
   "outputs": [],
   "source": [
    "if have_previous_visits:\n",
    "    fig = schedview.plot.survey.create_metric_visit_map_grid(\n",
    "        maf.AgeMetric(night_events.loc['sunset', 'MJD']),\n",
    "        previous_visits,\n",
    "        visits,\n",
    "        observatory,\n",
    "        nside=32,\n",
    "        use_matplotlib=use_matplotlib,\n",
    "        vmin=0,\n",
    "        vmax=10,\n",
    "        cmap=colorcet.cm.blues_r\n",
    "    )\n",
    "else:\n",
    "    print(\"No previous visits.\")"
   ]
  },
  {
   "cell_type": "markdown",
   "id": "704059e6-9a15-47ca-9514-336a34fe66ed",
   "metadata": {},
   "source": [
    "Each subplot represents the time since the most recent visits to each point in the sky, by filter, presented in a Lambert Azimuthal Equal Area Projection, centered at the south celestial pole.\n",
    "\n",
    "Parts of the sky visited most recently are dark blue, growing fainter and grayer for areas visited less recently. Regions not visited in the last 10 days are not colored.\n",
    "\n",
    "Other features and annotations are the same as those of the depth map, above."
   ]
  },
  {
   "cell_type": "markdown",
   "id": "9ad2f7a1-1df3-4b62-b0a3-e8618051d97c",
   "metadata": {},
   "source": [
    "## Histogram of gaps between exposures"
   ]
  },
  {
   "cell_type": "code",
   "execution_count": null,
   "id": "b4ca98ad-bac2-4a1f-98be-57ec99ebfeeb",
   "metadata": {},
   "outputs": [],
   "source": [
    "if len(visits):\n",
    "    p1 = schedview.plot.create_overhead_histogram(visits)\n",
    "    p2 = schedview.plot.plot_overhead_vs_slew_distance(visits)\n",
    "    overhead_plots = bokeh.layouts.row([p1, p2])\n",
    "    bokeh.io.show(overhead_plots)\n",
    "else:\n",
    "    print(\"No visits\")"
   ]
  },
  {
   "cell_type": "markdown",
   "id": "3f21a0bf-c1bc-404f-9452-0d3de8ebbff3",
   "metadata": {},
   "source": [
    "\"Overhead\" is the time window (in seconds) between the end of the previous exposure and the end of the current exposure, minus the exposure time."
   ]
  },
  {
   "cell_type": "markdown",
   "id": "d6a2d6e4-720d-405b-9ed4-fd60becad920",
   "metadata": {},
   "source": [
    "## Long gaps between exposures"
   ]
  },
  {
   "cell_type": "code",
   "execution_count": null,
   "id": "86310ad8-dad2-4beb-9348-c73fbd91966d",
   "metadata": {},
   "outputs": [],
   "source": [
    "if len(visits):\n",
    "    num_gaps = 10\n",
    "    visits[\"previous_filter\"] = visits[\"filter\"].shift(1)\n",
    "    long_gap_visits = (\n",
    "        visits.set_index('observationId')\n",
    "        .sort_values(\"overhead\", ascending=False)\n",
    "        .query(\"overhead>30\")\n",
    "        .loc[:, [\"start_date\", \"seq_num\", \"overhead\", \"slewDistance\", \"filter\", \"previous_filter\"]]\n",
    "        .sort_values(\"start_date\")\n",
    "    )\n",
    "    display(long_gap_visits)\n",
    "else:\n",
    "    print(\"No visits\")"
   ]
  },
  {
   "cell_type": "markdown",
   "id": "fc330ae7-2b37-49e3-918b-5bd2a9073fc4",
   "metadata": {},
   "source": [
    "These are the longest gaps between exposures that occur on the night, ordered by duration of the gaps.\n",
    "\n",
    "Slew time and previous and current filters are noted, because filter changes are the greatest expected contributions to overhead."
   ]
  },
  {
   "cell_type": "markdown",
   "id": "a024d3fe-3bd9-4bc7-8db1-aee681c259e0",
   "metadata": {},
   "source": [
    "## PSF Width"
   ]
  },
  {
   "cell_type": "code",
   "execution_count": null,
   "id": "bf9b0893-a5f9-4d66-a04d-afbc7286e70a",
   "metadata": {},
   "outputs": [],
   "source": [
    "if len(visits):\n",
    "    p = schedview.plot.plot_visit_param_vs_time(visits, \"seeingFwhmEff\")\n",
    "    p.yaxis.axis_label = \"Effective PSF FWHM (asec)\"\n",
    "    p.title = \"FWHM of gaussian fit to the PSF (asec)\"\n",
    "    bokeh.io.show(p)\n",
    "else:\n",
    "    print(\"No visits\")"
   ]
  },
  {
   "cell_type": "markdown",
   "id": "1332b0b8-ebab-4003-ae94-cfb828b54102",
   "metadata": {},
   "source": [
    "## Sky brightness"
   ]
  },
  {
   "cell_type": "code",
   "execution_count": null,
   "id": "fae56e6e-c645-4d70-913e-cb367625d502",
   "metadata": {},
   "outputs": [],
   "source": [
    "if len(visits):\n",
    "    p = schedview.plot.plot_visit_param_vs_time(visits, \"skyBrightness\")\n",
    "    p.yaxis.axis_label = \"Sky brightness (mag/asec^)\"\n",
    "    p.title = \"Sky brightness\"\n",
    "    bokeh.io.show(p)\n",
    "else:\n",
    "    print(\"No visits\")"
   ]
  },
  {
   "cell_type": "markdown",
   "id": "2cd2544d-abfa-45f6-8c0f-5fa88c1ffd75",
   "metadata": {},
   "source": [
    "## Effective exposure time"
   ]
  },
  {
   "cell_type": "code",
   "execution_count": null,
   "id": "cfe9bd12-1415-4a7d-bfe5-92858ff18959",
   "metadata": {},
   "outputs": [],
   "source": [
    "if len(visits):\n",
    "    p = schedview.plot.plot_visit_param_vs_time(visits, \"t_eff\")\n",
    "    p.yaxis.axis_label = \"Effective exposure time (seconds)\"\n",
    "    p.title = \"Effective exposure time\"\n",
    "    bokeh.io.show(p)\n",
    "else:\n",
    "    print(\"No visits\")"
   ]
  },
  {
   "cell_type": "markdown",
   "id": "45543377-e3e5-41b6-9eff-97d03191bc6f",
   "metadata": {},
   "source": [
    "The effective exposure time, t<sub>eff</sub>, is a measure of the depth of an image, mapping monotonically to the (5-sigma point source) limiting magnitude:\n",
    "\n",
    "m<sub>lim</sub> = m<sub>reference</sub> + 1.25 log10(t<sub>eff</sub>)\n",
    "\n",
    "where m<sub>reference</sub> is defined such that m<sub>lim</sub> is the 5-sigma point source limiting magnitude for an exposure taken under excellent conditions and t<sub>eff</sub> is the actual exposure time. As such, t<sub>eff</sub> is in units of seconds, and expected to be approximately equal to the actual exposure time for exposures taken under superb conditions."
   ]
  },
  {
   "cell_type": "markdown",
   "id": "0e3605be-cd8f-4d3f-8e93-64ced652db0b",
   "metadata": {},
   "source": [
    "## Table of exposures"
   ]
  },
  {
   "cell_type": "code",
   "execution_count": null,
   "id": "2fedfc30-7737-4ab1-9c1d-5b3560b2982c",
   "metadata": {},
   "outputs": [],
   "source": [
    "if len(visits):\n",
    "    displayed_columns = [\n",
    "        \"seq_num\",\n",
    "        \"fieldRA\",\n",
    "        \"fieldDec\",\n",
    "        \"filter\",\n",
    "        \"visitExposureTime\",\n",
    "        \"numExposures\",\n",
    "        \"t_eff\",\n",
    "        \"skyBrightness\",\n",
    "        \"seeingFwhmEff\",\n",
    "        \"cloud\",\n",
    "        \"note\",\n",
    "    ]\n",
    "    displayed_visits_df = visits.set_index(\"start_date\").loc[:, displayed_columns]\n",
    "    with pd.option_context(\"display.max_rows\", 2000):\n",
    "        display(displayed_visits_df)\n",
    "else:\n",
    "    print(\"No visits\")"
   ]
  },
  {
   "cell_type": "code",
   "execution_count": null,
   "id": "83d057e7-5c3a-4ef4-852b-f1b176516c64",
   "metadata": {},
   "outputs": [],
   "source": []
  }
 ],
 "metadata": {
  "kernelspec": {
   "display_name": "LSST",
   "language": "python",
   "name": "lsst"
  },
  "language_info": {
   "codemirror_mode": {
    "name": "ipython",
    "version": 3
   },
   "file_extension": ".py",
   "mimetype": "text/x-python",
   "name": "python",
   "nbconvert_exporter": "python",
   "pygments_lexer": "ipython3",
   "version": "3.11.9"
  }
 },
 "nbformat": 4,
 "nbformat_minor": 5
}
