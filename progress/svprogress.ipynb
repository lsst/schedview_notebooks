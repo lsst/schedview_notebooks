{
 "cells": [
  {
   "cell_type": "code",
   "execution_count": null,
   "id": "54aad269-400f-44c2-8438-1b6111ba6a9b",
   "metadata": {},
   "outputs": [],
   "source": [
    "# This cell does not get executed when run with Times Square\n",
    "import os\n",
    "import datetime\n",
    "\n",
    "visit_origin = 'lsstcam'\n",
    "day_obs = datetime.date.today().isoformat()\n"
   ]
  },
  {
   "cell_type": "code",
   "execution_count": null,
   "id": "2087487d-5381-4aeb-9f18-73e2c47d0fd3",
   "metadata": {},
   "outputs": [],
   "source": [
    "import os\n",
    "import sys\n",
    "\n",
    "#sched_source = 'env'\n",
    "#sched_source = 'shared'\n",
    "sched_source = 'devel'\n",
    "match sched_source:\n",
    "    case 'shared':\n",
    "        if os.path.exists('/sdf/data/rubin/shared/scheduler/packages'):\n",
    "            sys.path.insert(0, \"/sdf/data/rubin/shared/scheduler/packages/uranography-1.2.1\")\n",
    "            sys.path.insert(0, \"/sdf/data/rubin/shared/scheduler/packages/rubin_scheduler-3.11.0\")\n",
    "            sys.path.insert(0, \"/sdf/data/rubin/shared/scheduler/packages/rubin_sim-2.2.4\")\n",
    "            sys.path.insert(0, \"/sdf/data/rubin/shared/scheduler/packages/schedview-0.18.1.dev7+g8c79ae0\")\n",
    "    case 'devel':\n",
    "        if os.path.exists('/sdf/data/rubin/user/neilsen/devel'):\n",
    "            sys.path.insert(0, \"/sdf/data/rubin/user/neilsen/devel/rubin_scheduler\")\n",
    "            sys.path.insert(0, \"/sdf/data/rubin/user/neilsen/devel/rubin_sim\")\n",
    "            sys.path.insert(0, \"/sdf/data/rubin/user/neilsen/devel/schedview\")\n",
    "    case _:\n",
    "        # Use whatever is in the kernel python environment\n",
    "        pass"
   ]
  },
  {
   "cell_type": "code",
   "execution_count": null,
   "id": "dd7e09a3-b344-4725-9a42-3cb6d855d686",
   "metadata": {},
   "outputs": [],
   "source": [
    "from schedview.util import config_logging_for_reports\n",
    "import logging\n",
    "config_logging_for_reports(logging.ERROR)"
   ]
  },
  {
   "cell_type": "code",
   "execution_count": null,
   "id": "9fa64668-c556-4b2f-8204-d5d68c9b56bf",
   "metadata": {},
   "outputs": [],
   "source": [
    "import datetime\n",
    "import os\n",
    "import sqlite3\n",
    "import sys\n",
    "from collections import defaultdict, OrderedDict\n",
    "from pathlib import Path\n",
    "\n",
    "import astropy\n",
    "import astropy.units as u\n",
    "import bokeh\n",
    "import bokeh.io\n",
    "import bokeh.layouts\n",
    "import bokeh.models\n",
    "import bokeh.plotting\n",
    "import bokeh.transform\n",
    "import cartopy\n",
    "import colorcet\n",
    "import healpy\n",
    "import healpy as hp\n",
    "import matplotlib as mpl\n",
    "import matplotlib.pyplot as plt\n",
    "import numpy as np\n",
    "import pandas as pd\n",
    "from erfa import ErfaWarning\n",
    "from astropy.coordinates import SkyCoord, get_body\n",
    "from astropy.time import Time\n",
    "from astropy.visualization import ZScaleInterval\n",
    "from IPython.display import HTML, display, Markdown, HTML\n",
    "from lsst.resources import ResourcePath"
   ]
  },
  {
   "cell_type": "code",
   "execution_count": null,
   "id": "d0b8ed4a-6835-4e82-a53d-97bb731c6bc3",
   "metadata": {},
   "outputs": [],
   "source": [
    "usdf_sim_data_dir = \"/sdf/data/rubin/shared/rubin_sim_data\"\n",
    "if os.path.exists(usdf_sim_data_dir):\n",
    "    os.environ[\"RUBIN_SIM_DATA_DIR\"] = \"/sdf/data/rubin/shared/rubin_sim_data\""
   ]
  },
  {
   "cell_type": "code",
   "execution_count": null,
   "id": "d6ab481d-8e62-4cd8-8735-7178e6a3223e",
   "metadata": {},
   "outputs": [],
   "source": [
    "import schedview.collect.consdb\n",
    "import schedview.collect.nightreport\n",
    "import schedview.collect.timeline\n",
    "import rubin_scheduler\n",
    "import rubin_scheduler.site_models\n",
    "import rubin_scheduler.utils\n",
    "import schedview.compute.maf\n",
    "import schedview.compute.astro\n",
    "import schedview.compute.visits\n",
    "import schedview.compute.nightreport\n",
    "import schedview.plot.survey_skyproj\n",
    "import schedview.plot.visitmap\n",
    "import schedview.plot.nightreport\n",
    "import schedview.collect.visits\n",
    "import rubin_sim.sim_archive\n",
    "import uranography\n",
    "from rubin_sim.data import get_baseline\n",
    "from rubin_scheduler.scheduler.model_observatory import ModelObservatory\n",
    "from rubin_sim import maf\n",
    "from schedview.compute.camera import LsstCameraFootprintPerimeter\n",
    "from uranography.api import Planisphere, make_zscale_linear_cmap\n",
    "from schedview import DayObs\n",
    "from rubin_scheduler.utils.consdb import KNOWN_INSTRUMENTS"
   ]
  },
  {
   "cell_type": "code",
   "execution_count": null,
   "id": "373fcdca",
   "metadata": {},
   "outputs": [],
   "source": [
    "if not Path('/sdf/group/rubin/web_data/sim-data').exists():\n",
    "    schedview.collect.visits.OPSIMDB_TEMPLATE = str(\n",
    "        Path.home().joinpath(\"Data/sim-data/sims_featureScheduler_runs{sim_version}/baseline/baseline_v{sim_version}_10yrs.db\")\n",
    "    )"
   ]
  },
  {
   "cell_type": "code",
   "execution_count": null,
   "id": "dcd4ecbc-95fe-4548-bf87-24589acecb67",
   "metadata": {},
   "outputs": [],
   "source": [
    "# Validate the input\n",
    "import re\n",
    "\n",
    "assert visit_origin in KNOWN_INSTRUMENTS or visit_origin == 'baseline' or re.match(r\"^\\d+\\.\\d+$\", visit_origin) is not None"
   ]
  },
  {
   "cell_type": "code",
   "execution_count": null,
   "id": "7678cee7-491b-4f8d-b73c-79aa8b078700",
   "metadata": {},
   "outputs": [],
   "source": [
    "# Degraded IERS accuracy is never going to be important for these figures.\n",
    "\n",
    "# If IERS degraded accuracy encountered, don't fail, just keep going.\n",
    "astropy.utils.iers.conf.iers_degraded_accuracy = \"ignore\""
   ]
  },
  {
   "cell_type": "code",
   "execution_count": null,
   "id": "40f9aca3-fdbe-4247-b860-a35288e328f7",
   "metadata": {},
   "outputs": [],
   "source": [
    "bokeh.io.output_notebook(hide_banner=True)"
   ]
  },
  {
   "cell_type": "code",
   "execution_count": null,
   "id": "3028f9f0-cee9-4f56-9353-5d788ada1c09",
   "metadata": {},
   "outputs": [],
   "source": [
    "%matplotlib inline"
   ]
  },
  {
   "cell_type": "code",
   "execution_count": null,
   "id": "38816e49-8735-41d6-bee3-01bbfe80c509",
   "metadata": {},
   "outputs": [],
   "source": [
    "ORIGIN_TELESCOPE = defaultdict(\n",
    "    np.array(['Simonyi']).item,\n",
    "    {'latiss': 'AuxTel'}\n",
    ")"
   ]
  },
  {
   "cell_type": "code",
   "execution_count": null,
   "id": "75033374-6fc8-44ad-9440-5cdf92904d01",
   "metadata": {},
   "outputs": [],
   "source": [
    "observatory = ModelObservatory(no_sky=True)\n",
    "timezone = \"Chile/Continental\"\n",
    "telescope = ORIGIN_TELESCOPE[visit_origin]\n",
    "from_opsim = visit_origin not in KNOWN_INSTRUMENTS\n",
    "science_programs_to_include = ['BLOCK-365']\n",
    "telescope = \"AuxTel\" if visit_origin.lower()==\"latiss\" else \"Simonyi\""
   ]
  },
  {
   "cell_type": "markdown",
   "id": "29c2b3e5-a8db-4676-b24d-b266cf9a55db",
   "metadata": {},
   "source": [
    "This report is a summary of a night of observing designed to understand scheduler behavior during the night, identify scheduler problems, and otherwise monitor scheduler performance."
   ]
  },
  {
   "cell_type": "code",
   "execution_count": null,
   "id": "c7668f23-ee71-47f8-a2d8-970086a022a9",
   "metadata": {},
   "outputs": [],
   "source": [
    "day_obs = DayObs.from_date(day_obs)\n",
    "observatory.mjd = day_obs.mjd + 1 - observatory.location.lon.deg/360 ;# The approximate middle of the night"
   ]
  },
  {
   "cell_type": "markdown",
   "id": "43634b30-8c12-4416-86c3-375ee6fbabcd",
   "metadata": {},
   "source": [
    "# Science Verification Survey Progress"
   ]
  },
  {
   "cell_type": "markdown",
   "id": "9340b2fb-7e03-4bfd-830b-e867fb29353f",
   "metadata": {},
   "source": [
    "### Metric maps"
   ]
  },
  {
   "cell_type": "markdown",
   "id": "be7ff398-e1ca-49de-8bc4-b63125a118dc",
   "metadata": {},
   "source": [
    "Each subplot represents the map of a metric a different filter, presented in a [Lambert Azimuthal Equal Area Projection](https://en.wikipedia.org/wiki/Lambert_azimuthal_equal-area_projection), centered at the south celestial pole.\n",
    "\n",
    "Annotations are similar to those of the \"Visit Map\" above:\n",
    "\n",
    " - The blue backdrop represents the value of the metric.\n",
    " - The orange disk shows the coordinates of the moon.\n",
    " - The yellow disk shows the coordinates of the sun.\n",
    " - The green line (oval) shows the ecliptic.\n",
    " - The blue line (oval) shows the plane of the Milky Way.\n",
    " - Broken red ovals show a zenith distince of 70° (airmass=2.9) at morning and evening 12° twilight.\n",
    "   - The dashed portions of each red oval show the extent of what is observable at all during the night.\n",
    "   - As time progress through the night, the ZD circle maintains its shape, moving counter-clockwise around the pole over the course of the night."
   ]
  },
  {
   "cell_type": "code",
   "execution_count": null,
   "id": "f6936d04-ce1d-4020-8878-fba7f928926c",
   "metadata": {},
   "outputs": [],
   "source": [
    "conditions = observatory.return_conditions()"
   ]
  },
  {
   "cell_type": "code",
   "execution_count": null,
   "id": "201a2044-83fa-4b1a-86cd-828e37c2e3a2",
   "metadata": {},
   "outputs": [],
   "source": [
    "visits = schedview.collect.visits.read_visits(day_obs, visit_origin, stackers = schedview.collect.visits.NIGHT_STACKERS, num_nights=10000)\n",
    "visits = visits.loc[visits['science_program'].isin(science_programs_to_include), :]"
   ]
  },
  {
   "cell_type": "markdown",
   "id": "f9ecda7c-62cb-4433-b724-c8c27df7a839",
   "metadata": {},
   "source": [
    "### Accumulated numbers of visits"
   ]
  },
  {
   "cell_type": "code",
   "execution_count": null,
   "id": "8e8f2e91",
   "metadata": {},
   "outputs": [],
   "source": [
    "fig = schedview.plot.survey_skyproj.create_metric_map_grid(\n",
    "    maf.CountMetric(col='fiveSigmaDepth', metric_name=\"Numbers of visits\"),\n",
    "    visits.loc[np.isfinite(visits['fiveSigmaDepth']), :],\n",
    "    observatory,\n",
    "    nside=32,\n",
    ")"
   ]
  },
  {
   "cell_type": "markdown",
   "id": "53308798-2113-4699-a784-446727d8143e",
   "metadata": {},
   "source": [
    "## DDF Cadence"
   ]
  },
  {
   "cell_type": "code",
   "execution_count": null,
   "id": "5431c52e-f259-44c3-92da-c3fe014e0856",
   "metadata": {},
   "outputs": [],
   "source": [
    "time_window_duration=90"
   ]
  },
  {
   "cell_type": "code",
   "execution_count": null,
   "id": "cd07c771-199c-459b-98b9-3b2e3ccaad4f",
   "metadata": {},
   "outputs": [],
   "source": [
    "try:\n",
    "    ddf_visits = schedview.collect.visits.read_ddf_visits(day_obs, visit_origin, num_nights=time_window_duration)\n",
    "    ddf_visits = ddf_visits.loc[ddf_visits['science_program'].isin(science_programs_to_include), :]\n",
    "except:\n",
    "    ddf_visits = []\n",
    "\n",
    "if len(ddf_visits) > 0:\n",
    "    nightly_ddf = schedview.compute.visits.accum_stats_by_target_band_night(ddf_visits)\n",
    "    cadence_plots = schedview.plot.create_cadence_plot(\n",
    "        nightly_ddf, day_obs.mjd - time_window_duration, day_obs.mjd\n",
    "    )\n",
    "    bokeh.io.show(cadence_plots)\n",
    "else:\n",
    "    print(\"No DDF visits\")\n"
   ]
  },
  {
   "cell_type": "markdown",
   "id": "ade9e10a-f8f6-4f56-8497-ffba3e62a269",
   "metadata": {},
   "source": [
    "The y-axis (height of the vertical bars) represents the accumulated effective exposure time, teff (as defined above) accumulated over all exposures on the field for the night, colored by filter."
   ]
  },
  {
   "cell_type": "markdown",
   "id": "ef1b8ff8-0843-4442-b6b8-69eb09359755",
   "metadata": {},
   "source": [
    "## Hourglass"
   ]
  },
  {
   "cell_type": "code",
   "execution_count": null,
   "id": "5ee70b14-0607-4709-b607-d614f578d2e1",
   "metadata": {},
   "outputs": [],
   "source": [
    "def plot_hourglass_metric(visits, metric, constraint=\"\", plot_dict={}, plotter=maf.plots.MonthHourglassPlot):\n",
    "    seeing_bundle = maf.metric_bundles.MetricBundle(\n",
    "        metric=metric,\n",
    "        slicer=maf.slicers.VisitIntervalSlicer(),\n",
    "        constraint=constraint,\n",
    "        plot_dict=plot_dict,\n",
    "        plot_funcs=[plotter(m, 2025) for m in (6, 7)],\n",
    "    )\n",
    "    schedview.compute.maf.compute_metric(visits, seeing_bundle)\n",
    "    return seeing_bundle.plot()\n"
   ]
  },
  {
   "cell_type": "markdown",
   "id": "bc5792e3-685d-4a3e-b38f-994e645f1be6",
   "metadata": {},
   "source": [
    "### Seeing"
   ]
  },
  {
   "cell_type": "code",
   "execution_count": null,
   "id": "1a8e95d0-bef7-4dfd-88e6-803caa55c8ee",
   "metadata": {},
   "outputs": [],
   "source": [
    "plot_hourglass_metric(visits, maf.metrics.MedianMetric(\"seeingFwhmEff\"))"
   ]
  },
  {
   "cell_type": "markdown",
   "id": "aafdc2e0-712d-42cb-bec1-264c3ec5f97e",
   "metadata": {},
   "source": [
    "### Hour Angle"
   ]
  },
  {
   "cell_type": "code",
   "execution_count": null,
   "id": "0f38ca31-40f5-440a-8838-788363aa0f14",
   "metadata": {},
   "outputs": [],
   "source": [
    "plot_hourglass_metric(visits, maf.metrics.MedianMetric(\"HA\"), plot_dict={\"cmap\": plt.get_cmap(\"coolwarm\"), \"color_limits\": (-4.5, 4.5)})"
   ]
  },
  {
   "cell_type": "markdown",
   "id": "662c6546-9d28-4219-955c-bc9d1f5aebef",
   "metadata": {},
   "source": [
    "### Band"
   ]
  },
  {
   "cell_type": "code",
   "execution_count": null,
   "id": "620306e5-2065-44b0-b0c9-f2706063e099",
   "metadata": {},
   "outputs": [],
   "source": [
    "class BandUseMetric(maf.metrics.BaseMetric):\n",
    "    def __init__(self, band_col=\"band\", **kwargs):\n",
    "        self.band_col = band_col\n",
    "        super().__init__(col=[band_col], metric_dtype=\"object\", **kwargs)\n",
    "\n",
    "    def run(self, data_slice, slice_point=None):\n",
    "        return data_slice[self.band_col]\n"
   ]
  },
  {
   "cell_type": "code",
   "execution_count": null,
   "id": "26b51cfc-f537-4c4c-b766-82bc32bbfd96",
   "metadata": {},
   "outputs": [],
   "source": [
    "plot_dict = {\n",
    "    \"cmap\": plt.get_cmap(\"Set1\"),\n",
    "    \"assigned_colors\": OrderedDict(\n",
    "        [(\"u\", 1), (\"g\", 2), (\"r\", 4), (\"i\", 7), (\"z\", 0), (\"y\", 3)]\n",
    "    ),\n",
    "    \"legend_ncols\": 1,\n",
    "    \"legend_loc\": (1.01, 0.5),\n",
    "    \"legend_bbox_to_anchor\": (1.01, 0.0),\n",
    "    \"legend\": True,\n",
    "}\n",
    "\n",
    "plot_hourglass_metric(visits, BandUseMetric(), plot_dict=plot_dict, plotter=maf.plots.MonthHourglassCategoricalPlot)"
   ]
  },
  {
   "cell_type": "code",
   "execution_count": null,
   "id": "9ec646ca-d565-4b6e-b966-065e9a176b1f",
   "metadata": {},
   "outputs": [],
   "source": []
  }
 ],
 "metadata": {
  "kernelspec": {
   "display_name": "LSST",
   "language": "python",
   "name": "lsst"
  },
  "language_info": {
   "codemirror_mode": {
    "name": "ipython",
    "version": 3
   },
   "file_extension": ".py",
   "mimetype": "text/x-python",
   "name": "python",
   "nbconvert_exporter": "python",
   "pygments_lexer": "ipython3",
   "version": "3.12.11"
  }
 },
 "nbformat": 4,
 "nbformat_minor": 5
}
