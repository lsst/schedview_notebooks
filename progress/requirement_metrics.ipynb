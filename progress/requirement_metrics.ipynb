{
 "cells": [
  {
   "cell_type": "code",
   "execution_count": null,
   "id": "6d7c6b91-aa2d-4546-a4ba-90a9291729c8",
   "metadata": {},
   "outputs": [],
   "source": [
    "day_obs = -1\n",
    "sim_filename = '/Users/lynnej/opsim/fbs_3.2/baseline_v3.2_10yrs.db'\n",
    "version = 3\n",
    "sim_filename = ''\n",
    "version = 5\n",
    "calculate = True"
   ]
  },
  {
   "cell_type": "code",
   "execution_count": null,
   "id": "cd9800e5-1cef-46e4-8723-d890e341b0d9",
   "metadata": {},
   "outputs": [],
   "source": [
    "import os\n",
    "import numpy as np\n",
    "import pandas as pd\n",
    "import matplotlib.pyplot as plt\n",
    "import healpy as hp\n",
    "import sqlite3\n",
    "from IPython.display import display, Markdown\n",
    "\n",
    "from astropy.time import Time, TimeDelta\n",
    "import astropy.units as u\n",
    "\n",
    "from rubin_scheduler.scheduler.utils import get_current_footprint\n",
    "import rubin_sim.maf as maf\n",
    "from rubin_sim.data import get_baseline"
   ]
  },
  {
   "cell_type": "markdown",
   "id": "b77715f7-9b01-47cf-9f33-2da0f49f40ab",
   "metadata": {},
   "source": [
    "# Survey Strategy Key Metrics\n",
    "\n",
    "Use the baseline survey (eventually real visits + new sim) to calculate \n",
    "* Sky Coverage (LSR-REQ-0098)\n",
    "* Fast Revisit Area (LSR-REQ-0098)\n",
    "* Proper Motion (LSR-REQ-0099)\n",
    "* Parallax Uncertainty (LSR-REQ-0099)\n",
    "* Survey Time Allocation (LSR-REQ-0075) "
   ]
  },
  {
   "cell_type": "code",
   "execution_count": null,
   "id": "ca44a7da-0318-4186-a2bb-5bf7db342812",
   "metadata": {},
   "outputs": [],
   "source": [
    "if sim_filename is not None and len(sim_filename) > 0:\n",
    "    opsdb = sim_filename\n",
    "else:\n",
    "    opsdb = get_baseline()\n",
    "    \n",
    "run_name = os.path.split(opsdb)[-1].replace(\".db\", \"\")\n",
    "\n",
    "print(f\"Evaluating {run_name}\")"
   ]
  },
  {
   "cell_type": "code",
   "execution_count": null,
   "id": "4c6a2211-f648-4d8d-8f49-16f7b8e4080c",
   "metadata": {},
   "outputs": [],
   "source": [
    "nside = 64\n",
    "pixarea = hp.nside2pixarea(nside, degrees=True)\n",
    "wfd_labels = [\"lowdust\", \"euclid_overlap\", \"virgo\", \"bulgy\", \"LMC_SMC\"]\n",
    "footprints, labels = get_current_footprint(nside=nside)\n",
    "wfdpix = np.where(np.isin(labels, wfd_labels), 1, 0)\n",
    "\n",
    "\n",
    "colmap = maf.col_map_dict(\"fbs\")\n",
    "if version < 4:\n",
    "    colmap = maf.col_map_dict(\"fbs_sim\")\n",
    "    colmap['scheduler_note'] = 'note'\n",
    "\n",
    "slicer = maf.HealpixSlicer(nside=nside, lon_col=colmap['ra'], lat_col=colmap['dec'], use_cache=True, verbose=False)\n",
    "wfd_slicer = maf.HealpixSubsetSlicer(nside=nside, hpid=np.where(wfdpix == 1)[0], lon_col=colmap['ra'], lat_col=colmap['dec'], use_cache=True, verbose=False)\n",
    "s = wfd_slicer"
   ]
  },
  {
   "cell_type": "code",
   "execution_count": null,
   "id": "8dd474e2-bd76-4abd-b486-79a9a19417b9",
   "metadata": {},
   "outputs": [],
   "source": [
    "# Calculate over whole sky; we can mask later. \n",
    "\n",
    "fO_bundles = maf.fOBatch(colmap=colmap,\n",
    "                         slicer=slicer,\n",
    "                        run_name=run_name,\n",
    "                        benchmark_area=18000,\n",
    "                        benchmark_n_visits=825,\n",
    "                        min_n_visits=750,)\n",
    "revisit_bundles = maf.rapidRevisitBatch(colmap=colmap, \n",
    "                                        slicer=s,\n",
    "                                        run_name=run_name)\n",
    "astrometry_bundles = maf.astrometryBatch(colmap=colmap, \n",
    "                                         slicer=s,\n",
    "                                        run_name=run_name)\n",
    "# Let's drop some of the astrometry bundles \n",
    "keep_keys = [k for k in astrometry_bundles if \"Normalized\" not in k and \"Coverage\" not in k and \"degeneracy\" not in k]\n",
    "astrometry_bundles = dict([(k, astrometry_bundles[k]) for k in keep_keys])\n",
    "\n",
    "slew_bundles = maf.slewBasics(colmap=colmap, \n",
    "                              run_name=run_name)\n",
    "\n",
    "# Nvisits for WFD and for all sky\n",
    "bdict = {}\n",
    "bdict.update(\n",
    "    maf.nvisitsPerSubset(\n",
    "        colmap,\n",
    "        run_name,\n",
    "        constraint=\"visitExposureTime > 19\",\n",
    "        footprintConstraint=wfdpix,\n",
    "        extraInfoLabel=\"WFD\",\n",
    "    )\n",
    ")\n",
    "dd_constraint = f\"{colmap['scheduler_note']} like '%DD%'\"\n",
    "bdict.update(\n",
    "    maf.nvisitsPerSubset(\n",
    "        colmap,\n",
    "        run_name,\n",
    "        constraint=dd_constraint,\n",
    "        footprintConstraint=None,\n",
    "        extraInfoLabel=\"DDF\",\n",
    "    )\n",
    ")\n",
    "bdict.update(\n",
    "    maf.nvisitsPerSubset(\n",
    "        colmap,\n",
    "        run_name,\n",
    "        constraint=None,\n",
    "        footprintConstraint=None,\n",
    "        extraInfoLabel=\"All visits\",\n",
    "    )\n",
    ")\n",
    "\n",
    "\n",
    "all_bundles = {}\n",
    "all_bundles.update(fO_bundles)\n",
    "all_bundles.update(revisit_bundles)\n",
    "all_bundles.update(astrometry_bundles)\n",
    "all_bundles.update(slew_bundles)\n",
    "all_bundles.update(bdict)"
   ]
  },
  {
   "cell_type": "code",
   "execution_count": null,
   "id": "7db61a0f-2fd1-4d81-9f5d-bac00e937c1f",
   "metadata": {},
   "outputs": [],
   "source": [
    "if calculate:\n",
    "    g = maf.MetricBundleGroup(all_bundles, opsdb, save_early=False, verbose=False)\n",
    "    g.run_all()"
   ]
  },
  {
   "cell_type": "code",
   "execution_count": null,
   "id": "fc350b41-cc2f-4042-958a-cf55c757554a",
   "metadata": {},
   "outputs": [],
   "source": [
    "astrometry_bundles_ideal = maf.astrometryBatch(colmap=colmap, \n",
    "                                         slicer=s,\n",
    "                                         run_name=run_name)\n",
    "\n",
    "seeing_srd = {'u': 0.77, 'g': 0.73, 'r': 0.70, 'i' : 0.67, 'z': 0.65, 'y': 0.63}\n",
    "m5_srd = {'u': 23.90, 'g': 25.0, 'r': 24.70, 'i': 24.0, 'z': 23.3, 'y': 22.1}\n",
    "\n",
    "if calculate:\n",
    "    # Hack visits to all have fiducial seeing and depth\n",
    "    conn = sqlite3.connect(opsdb)\n",
    "    query = 'select * from observations'\n",
    "    dd = pd.read_sql(query, conn)\n",
    "    dd = dd.to_records()\n",
    "    for f in 'ugrizy':\n",
    "        good = np.where(dd['filter'] == f)\n",
    "        dd['seeingFwhmGeom'][good] = seeing_srd[f]\n",
    "        dd['fiveSigmaDepth'][good] = m5_srd[f]\n",
    "    \n",
    "    g = maf.MetricBundleGroup(astrometry_bundles_ideal, opsdb, save_early=False)\n",
    "    ## all bands\n",
    "    g.run_current(constraint='', sim_data=dd)\n",
    "    ## y band\n",
    "    kk = f\"{run_name.replace('.', '_')}_Parallax_Uncert_@_21_3_y_band_visits_HEAL\"\n",
    "    sim_data = dd[np.where(dd[\"filter\"] == \"y\")]\n",
    "    g.run_current(constraint=astrometry_bundles_ideal[kk].constraint, sim_data=sim_data)"
   ]
  },
  {
   "cell_type": "code",
   "execution_count": null,
   "id": "a294e692-963c-4c60-acb1-70d1e8e574e2",
   "metadata": {},
   "outputs": [],
   "source": [
    "if calculate:\n",
    "    print(\"Metrics calculated.\")\n",
    "else:\n",
    "    print(\"Skipping calculation.\")"
   ]
  },
  {
   "cell_type": "code",
   "execution_count": null,
   "id": "5359e44a-c66b-45ce-811f-f8b7485e5c50",
   "metadata": {},
   "outputs": [],
   "source": [
    "display(Markdown(\"## Fraction of WFD visits ##\"))\n",
    "\n",
    "if calculate:\n",
    "    # Fraction of visits counting in fO that are in WFD area\n",
    "    fO = fO_bundles[f\"{run_name.replace('.', '_')}_fO_All_visits_HEAL\"]\n",
    "    wfd_subset = fO.metric_values.filled(0)[np.where(wfdpix == 1)].sum() * pixarea\n",
    "    all_visits = fO.metric_values.filled(0).sum() * pixarea\n",
    "    display(Markdown(f\"Visits within WFD region consist of {100*wfd_subset/all_visits : .1f} % of total visits.\"\\\n",
    "                     \" This includes DDF visits, but not visits shorter than 20 seconds.\"))\n",
    "    \n",
    "    # Fraction of visits, counted differently, should be very similar\n",
    "    k = f\"{run_name.replace('.', '_')}_Nvisits_WFD_UNIS\"\n",
    "    wfd_visits = bdict[k].metric_values[0]\n",
    "    k = f\"{run_name.replace('.', '_')}_Nvisits_DDF_UNIS\"\n",
    "    ddf_visits = bdict[k].metric_values[0]\n",
    "    k = f\"{run_name.replace('.', '_')}_Nvisits_All_visits_UNIS\"\n",
    "    all_visits = bdict[k].metric_values[0]\n",
    "    display(Markdown(f\"Find {100 * wfd_visits / all_visits :.1f}% of visits in WFD, and {100* ddf_visits /all_visits :0.1f}% DDF, out of {all_visits :.0f} total.\"))"
   ]
  },
  {
   "cell_type": "code",
   "execution_count": null,
   "id": "e4756d74-fc68-4f16-a8eb-bd3bdae210db",
   "metadata": {},
   "outputs": [],
   "source": [
    "display(Markdown(\"## Sky Coverage ##\"))\n",
    "if calculate:\n",
    "    fO = fO_bundles[f\"{run_name.replace('.', '_')}_fO_All_visits_HEAL\"]\n",
    "    nv_med = np.where(fO.summary_values['fONv']['name'] == 'MedianNvis')[0]\n",
    "    nv_min = np.where(fO.summary_values['fONv']['name'] == 'MinNvis')[0]\n",
    "    \n",
    "    print(f\"Asky is {fO.summary_values['fOArea_750'] :.1f}. Minimum requirement is 15000, Design requirement is 18000.\")\n",
    "    print(f\"Nv1Sum is {fO.summary_values['fONv'][nv_med]['value'][0]}. Minimum requirement is 750. Design requirement is 825.\")"
   ]
  },
  {
   "cell_type": "code",
   "execution_count": null,
   "id": "b06bec41-2cce-41fa-8acd-842827c5999f",
   "metadata": {},
   "outputs": [],
   "source": [
    "if calculate:\n",
    "    # Plot cumulative area covered to a minimum number of visits\n",
    "    ph = maf.PlotHandler(savefig=False)\n",
    "    ph.set_metric_bundles([fO])\n",
    "    \n",
    "    plot_dict = {\"color_min\": 0, \"color_max\": 1100}\n",
    "    _ = ph.plot(plot_func=maf.HealpixSkyMap(), plot_dicts=plot_dict)\n",
    "    \n",
    "    plot_dict = {\"asky\":18000, \"n_visits\": 750,}\n",
    "    _ = ph.plot(plot_func=maf.FOPlot(), plot_dicts=plot_dict)"
   ]
  },
  {
   "cell_type": "markdown",
   "id": "59517fc4-888c-4fe6-8f97-4ba11032f012",
   "metadata": {},
   "source": [
    "The dotted red and blue lines above indicate design AREA and minimum NVISIT SRD values. The solid blue line indicates the median number of visits over the top 18,000 sq degrees. The solid red line indicates the area covered to a minimum of 750 visits per pointing. The solid black line indicates the area covered to a minimum number of visits, as a function of minimum number of visits."
   ]
  },
  {
   "cell_type": "code",
   "execution_count": null,
   "id": "9be7d225-1f64-4347-ae03-c6ab6fcc226c",
   "metadata": {},
   "outputs": [],
   "source": [
    "display(Markdown(\"## Rapid Revisit ##\"))\n",
    "if calculate:\n",
    "    revisit_2 = revisit_bundles[f\"{run_name.replace('.', '_')}_RapidRevisits_All_visits_HEAL\"]\n",
    "    print(f\"RVA1 - Area meeting rapid revisit requirement : {revisit_2.summary_values['Area (sq deg)'] :.1f}. Design requirement is 2000 sq degrees.\")"
   ]
  },
  {
   "cell_type": "code",
   "execution_count": null,
   "id": "0a7643be-d48d-4813-ad1a-8e7cde792e53",
   "metadata": {},
   "outputs": [],
   "source": [
    "if calculate:\n",
    "    plot_dict = {'color_min': 0, 'color_max': 1}\n",
    "    revisit_2.set_plot_dict(plot_dict)\n",
    "    revisit_2.plot_funcs = [maf.HealpixSkyMap()]\n",
    "    revisit_2.plot()\n",
    "    display(Markdown((revisit_2.display_dict['caption'])))"
   ]
  },
  {
   "cell_type": "code",
   "execution_count": null,
   "id": "b2497470-5cee-4b38-a2ab-b429b6ef514b",
   "metadata": {},
   "outputs": [],
   "source": [
    "display(Markdown(\"## Parallax Uncertainty ##\"))\n",
    "\n",
    "if calculate:\n",
    "    display(Markdown(\"Median parallax uncertainty over the top 18k square degrees (approximately equivalent to the 'WFD') \"\\\n",
    "        \"under SRD seeing and depth conditions at r=24.0 is \"))\n",
    "    print(\"SIGpara = %.2f mas \" % astrometry_bundles[f\"{run_name.replace('.', '_')}_Parallax_Uncert_@_24_0_All_visits_HEAL\"].summary_values[\"Median Parallax Uncert (18k)\"])\n",
    "    print(\"The design requirement is 3.0 mas, the minimum requirement is 6.0 mas.\")\n",
    "    \n",
    "    print(\"\")\n",
    "    \n",
    "    b = astrometry_bundles[f\"{run_name.replace('.', '_')}_Parallax_Uncert_@_21_3_y_band_visits_HEAL\"]\n",
    "    display(Markdown(\"Median parallax uncertainty over the top 18k square degrees under SRD seeing and depth conditions, \"\\\n",
    "                     \"for sources with SNR=10 visible in y band only\"))\n",
    "    print(\"SIGparaRed %.2f mas\" % b.summary_values[\"Median Parallax Uncert (18k)\"])\n",
    "    print(\"The design requirement is 6.0 mas, the minimum requirement is 10.0 mas.\")\n",
    "    \n",
    "    display(Markdown(\"NOTE: design values use fiducial seeing and skybrightness for calculation, \"\\\n",
    "            \"while above calculation uses range of simulated values and thus is expected to be worse\"))"
   ]
  },
  {
   "cell_type": "code",
   "execution_count": null,
   "id": "e0a2d5ca-0ac7-4359-8aec-7c689e47b1d2",
   "metadata": {},
   "outputs": [],
   "source": [
    "if calculate:\n",
    "    display(Markdown(\"Evaluated with SRD fiducial seeing and M5 values \"))\n",
    "    print(\"SIGpara = %.2f mas \" % astrometry_bundles_ideal[f\"{run_name.replace('.', '_')}_Parallax_Uncert_@_24_0_All_visits_HEAL\"].summary_values[\"Median Parallax Uncert (18k)\"])\n",
    "    print(\"The design requirement is 3.0 mas, the minimum requirement is 6.0 mas.\")\n",
    "    \n",
    "    print(\"\")\n",
    "    \n",
    "    b = astrometry_bundles_ideal[f\"{run_name.replace('.', '_')}_Parallax_Uncert_@_21_3_y_band_visits_HEAL\"]\n",
    "    display(Markdown(\"Median parallax uncertainty over the top 18k square degrees under SRD seeing and depth conditions, \"\\\n",
    "                     \"for sources with SNR=10 visible in y band only\"))\n",
    "    print(\"SIGparaRed %.2f mas\" % b.summary_values[\"Median Parallax Uncert (18k)\"])\n",
    "    print(\"The design requirement is 6.0 mas, the minimum requirement is 10.0 mas.\")"
   ]
  },
  {
   "cell_type": "code",
   "execution_count": null,
   "id": "435a1382-b5e4-4cb6-bb4b-6d4e8ee645e1",
   "metadata": {},
   "outputs": [],
   "source": [
    "if calculate:\n",
    "    print(\"Calculated values with model seeing and M5\")\n",
    "    b = astrometry_bundles[f\"{run_name.replace('.', '_')}_Parallax_Uncert_@_24_0_All_visits_HEAL\"]\n",
    "    plot_dict = {\"color_min\" : 2, \"color_max\": 8, \"bins\": 150}\n",
    "    b.set_plot_dict(plot_dict)\n",
    "    _ = b.plot()"
   ]
  },
  {
   "cell_type": "code",
   "execution_count": null,
   "id": "f89f9cd5-de75-4781-845a-e68265cd413b",
   "metadata": {},
   "outputs": [],
   "source": [
    "display(Markdown(\"## Proper Motion ##\"))\n",
    "\n",
    "if calculate:\n",
    "    display(Markdown((\"Median proper motion uncertainty over the top 18k square degrees (approximately equivalent to the 'WFD') \"\\\n",
    "            \"under SRD seeing and depth conditions is at r=24.0 \")))\n",
    "    print(\"SIGpm = %.2f mas \" % astrometry_bundles[f\"{run_name.replace('.', '_')}_Proper_Motion_Uncert_@_24_0_All_visits_HEAL\"].summary_values[\"Median Proper Motion Uncert (18k)\"])\n",
    "    print(\"The design requirement is 1.0 mas, the minimum requirement is 2.0 mas.\")\n",
    "    display(Markdown(\"NOTE: design values use fiducial seeing and skybrightness for calculation, \"\\\n",
    "            \"while above calculation uses range of simulated values and thus is expected to be worse\"))"
   ]
  },
  {
   "cell_type": "code",
   "execution_count": null,
   "id": "ebf0b343-588e-40dc-aa9a-f1d137cc6a8a",
   "metadata": {},
   "outputs": [],
   "source": [
    "if calculate:\n",
    "    display(Markdown((\"Evaluated with SRD fiducial seeing and M5 values \")))\n",
    "    print(\"SIGpm = %.2f mas \" % astrometry_bundles_ideal[f\"{run_name.replace('.', '_')}_Proper_Motion_Uncert_@_24_0_All_visits_HEAL\"].summary_values[\"Median Proper Motion Uncert (18k)\"])\n",
    "    print(\"The design requirement is 1.0 mas, the minimum requirement is 2.0 mas.\")"
   ]
  },
  {
   "cell_type": "code",
   "execution_count": null,
   "id": "3398a1a3-46ce-499b-b0c6-63c56281feff",
   "metadata": {},
   "outputs": [],
   "source": [
    "if calculate:\n",
    "    print(\"Calculated values with model seeing and M5\")\n",
    "    b = astrometry_bundles[f\"{run_name.replace('.', '_')}_Proper_Motion_Uncert_@_24_0_All_visits_HEAL\"]\n",
    "    plot_dict = {\"color_min\" : 0.5, \"color_max\": 2, \"bins\": 150}\n",
    "    b.set_plot_dict(plot_dict)\n",
    "    _ = b.plot()"
   ]
  },
  {
   "cell_type": "code",
   "execution_count": null,
   "id": "e9ca542e-8d52-419a-a0e1-e13330549f93",
   "metadata": {},
   "outputs": [],
   "source": [
    "display(Markdown(\"## Time between visits ##\"))\n",
    "\n",
    "if calculate:\n",
    "    k = f\"{run_name.replace('.', '_')}_Median_slewTime_All_visits_UNIS\"\n",
    "    b2 = slew_bundles[k]\n",
    "    print(f\"medianVisitInterval: Median slew time is {b2.metric_values[0]: .2f} seconds\")\n",
    "    print(\"Requirement is 5 seconds\")\n",
    "    \n",
    "    print(\"\")\n",
    "    \n",
    "    k = f\"{run_name.replace('.', '_')}_Mean_slewTime_All_visits_UNIS\"\n",
    "    b1 = slew_bundles[k]\n",
    "    print(f\"aveVisitInterval: Mean slew time is {b1.metric_values[0]: .2f} seconds\")\n",
    "    print(\"Requirement is 10 seconds\")"
   ]
  },
  {
   "cell_type": "code",
   "execution_count": null,
   "id": "19f366c6-dabd-4e87-ae83-202986259153",
   "metadata": {},
   "outputs": [],
   "source": [
    "if calculate:\n",
    "    k = f\"{run_name.replace('.', '_')}_Slew_Time_Histogram_All_visits_ONED\"\n",
    "    b = slew_bundles[k]\n",
    "    b.set_plot_dict({'y_min': 10})\n",
    "    label = f\"Median slew time: {b2.metric_values[0]: .2f}s\\n Mean slew time: {b1.metric_values[0]: .2f}s\"\n",
    "    b.plot()\n",
    "    _ = plt.figtext(0.5, 0.8, label)"
   ]
  }
 ],
 "metadata": {
  "kernelspec": {
   "display_name": "Python 3 (ipykernel)",
   "language": "python",
   "name": "python3"
  },
  "language_info": {
   "codemirror_mode": {
    "name": "ipython",
    "version": 3
   },
   "file_extension": ".py",
   "mimetype": "text/x-python",
   "name": "python",
   "nbconvert_exporter": "python",
   "pygments_lexer": "ipython3",
   "version": "3.13.1"
  }
 },
 "nbformat": 4,
 "nbformat_minor": 5
}
