{
 "cells": [
  {
   "cell_type": "code",
   "execution_count": null,
   "id": "2fca0080",
   "metadata": {},
   "outputs": [],
   "source": [
    "baseline = 4.3\n",
    "day_obs_iso = '2033-04-02'"
   ]
  },
  {
   "cell_type": "markdown",
   "id": "a06891c3",
   "metadata": {},
   "source": [
    "# LSST Progress Mockup\n",
    "\n",
    "This mockup is intended as a tool for iterating LSST progress report design.\n",
    "\n",
    "Currently, it does not show results based on any \"real\" data.\n",
    "The statistics it plots are currently read from data files update by hand, made using an alternate weather simulation.\n",
    "For production use, these statistics will be automatically generated from completed visits."
   ]
  },
  {
   "cell_type": "code",
   "execution_count": null,
   "id": "a58e15f2-48f2-4b34-8fba-4823b9e8fa3f",
   "metadata": {},
   "outputs": [],
   "source": [
    "%load_ext autoreload\n",
    "%autoreload 1"
   ]
  },
  {
   "cell_type": "code",
   "execution_count": null,
   "id": "42d87955",
   "metadata": {},
   "outputs": [],
   "source": [
    "import sys\n",
    "import os"
   ]
  },
  {
   "cell_type": "code",
   "execution_count": null,
   "id": "fc0ff0d6",
   "metadata": {},
   "outputs": [],
   "source": [
    "at_usdf = 'usdf-rsp' in os.getenv(\"EXTERNAL_INSTANCE_URL\", \"\")"
   ]
  },
  {
   "cell_type": "code",
   "execution_count": null,
   "id": "6eab2af4",
   "metadata": {},
   "outputs": [],
   "source": [
    "if at_usdf:\n",
    "    sys.path.insert(0, \"/sdf/data/rubin/user/neilsen/devel/rubin_scheduler\")\n",
    "    sys.path.insert(0, \"/sdf/data/rubin/user/neilsen/devel/rubin_sim\")\n",
    "    sys.path.insert(0, \"/sdf/data/rubin/user/neilsen/devel/schedview\")"
   ]
  },
  {
   "cell_type": "code",
   "execution_count": null,
   "id": "15d00545-94ba-4f6a-aed0-1b3950c9ccdf",
   "metadata": {},
   "outputs": [],
   "source": [
    "import logging\n",
    "from logging import debug, info, warning\n",
    "from warnings import warn\n",
    "import warnings\n",
    "from pathlib import Path\n",
    "from tempfile import TemporaryDirectory\n",
    "from collections import OrderedDict\n",
    "\n",
    "import astropy.units as u\n",
    "import astropy.utils.iers\n",
    "import bokeh\n",
    "import bokeh.io\n",
    "import bokeh.layouts\n",
    "import bokeh.models\n",
    "import bokeh.plotting\n",
    "import colorcet as cc\n",
    "import healpy as hp\n",
    "import matplotlib as mpl\n",
    "import matplotlib.pyplot as plt\n",
    "import numpy as np\n",
    "import pandas as pd\n",
    "import panel as pn\n",
    "from astropy.time import Time"
   ]
  },
  {
   "cell_type": "code",
   "execution_count": null,
   "id": "f58da28f-2bca-4f08-9455-61c5f8b27354",
   "metadata": {},
   "outputs": [],
   "source": [
    "# If IERS degraded accuracy encountered, don't fail, just keep going.\n",
    "astropy.utils.iers.conf.iers_degraded_accuracy = \"ignore\"\n",
    "\n",
    "logging.basicConfig(level=logging.WARNING)\n",
    "\n",
    "warnings.filterwarnings(\n",
    "    \"ignore\",\n",
    "    category=UserWarning,\n",
    "    message=r\"Could not determine site from EXTERNAL_INSTANCE_URL.*\",\n",
    ")\n",
    "\n",
    "warnings.filterwarnings(\n",
    "    \"ignore\",\n",
    "    append=True,\n",
    "    message=r\".*Tried to get polar motions for times after IERS data is valid.*\",\n",
    ")\n",
    "\n",
    "warnings.filterwarnings(\"ignore\", append=True, message=r\".*dubious year.*\")"
   ]
  },
  {
   "cell_type": "code",
   "execution_count": null,
   "id": "2f59c24e-c2a7-460b-8a2c-9e26aa59746c",
   "metadata": {},
   "outputs": [],
   "source": [
    "import schedview.collect.visits\n",
    "import schedview.compute.visits\n",
    "import schedview.plot\n",
    "from rubin_sim import maf\n",
    "from schedview import DayObs\n",
    "from lsst.resources import ResourcePath\n",
    "from rubin_scheduler.utils import ddf_locations"
   ]
  },
  {
   "cell_type": "code",
   "execution_count": null,
   "id": "87c9258f-4d4a-4782-b88d-23709e053232",
   "metadata": {},
   "outputs": [],
   "source": [
    "bokeh.io.output_notebook(hide_banner=True)"
   ]
  },
  {
   "cell_type": "code",
   "execution_count": null,
   "id": "9dd00733-23ce-40c8-8b55-13714f24c255",
   "metadata": {},
   "outputs": [],
   "source": [
    "day_obs = DayObs.from_date(day_obs_iso)"
   ]
  },
  {
   "cell_type": "code",
   "execution_count": null,
   "id": "b687f664-5044-4009-8213-bbab426bacef",
   "metadata": {},
   "outputs": [],
   "source": [
    "sim_data_dir = Path(\"/sdf/group/rubin/web_data/sim-data\")\n",
    "baseline_fname = sim_data_dir.joinpath('sims_featureScheduler_runs4.3/baseline/baseline_v4.3.2_10yrs.db')\n",
    "visits_fname = sim_data_dir.joinpath('sims_featureScheduler_runs4.3/weather/weather_cloudso1v4.3_10yrs.db')"
   ]
  },
  {
   "cell_type": "markdown",
   "id": "96b664d5",
   "metadata": {},
   "source": [
    "## Progress as measured by scalar (\"summary\") metrics\n",
    "\n",
    "Any MAF summary metric (such os those reported [here](https://usdf-maf.slac.stanford.edu/summaryStats?runId=1)) can potentially be computed and reported on either of these plots.\n",
    "\n",
    "Two examples are shown below:\n",
    " - the coadd depth in g, which shows the advantages plotting the instantaneous metric value vs. date.\n",
    " - the total area with more than 750 visits in square degrees (f0Area), an example for which the extrapolated final value is a more useful measure of progress toward the final objective."
   ]
  },
  {
   "cell_type": "code",
   "execution_count": null,
   "id": "b659a1ce-02a1-450c-8b1b-6b2b867091f3",
   "metadata": {},
   "outputs": [],
   "source": [
    "summary_path = Path('/sdf/data/rubin/user/neilsen/data/lsst_progress_mockup')\n",
    "summary_fname = summary_path.joinpath('progress_bymonth.h5').as_posix()"
   ]
  },
  {
   "cell_type": "markdown",
   "id": "93b517f9",
   "metadata": {},
   "source": [
    "### Median depth in g\n",
    "\n",
    "In the left-hand plot below, the points and black line show the metric values at each point in time, as measured only from visits at or before that time.\n",
    "The green line shows the same metric values measured at these times in the baseline simulation. This kind of a plot is suitable for metric values that inclease steadily over time.\n",
    "\n",
    "The right-hand plot below shows the final g band depth, extrapolated from the date to the end using the baseline simulation."
   ]
  },
  {
   "cell_type": "code",
   "execution_count": null,
   "id": "36a99f9d-9b29-4960-9e03-1ea2a4746823",
   "metadata": {},
   "outputs": [],
   "source": [
    "median_depth_g = pd.read_hdf(summary_fname, 'median_depth_g')\n",
    "median_depth_g.loc[day_obs.mjd:, 'extrapolated'] = np.nan\n",
    "median_depth_g.loc[day_obs.mjd:, 'snapshot'] = np.nan\n",
    "median_depth_g['date'] = pd.to_datetime(2400000.5 + median_depth_g.index, unit='D', origin='julian')\n",
    "median_depth_g_ds = bokeh.models.ColumnDataSource(median_depth_g)"
   ]
  },
  {
   "cell_type": "code",
   "execution_count": null,
   "id": "11b581b9-907d-47cd-b1fd-a86556f7d335",
   "metadata": {},
   "outputs": [],
   "source": [
    "metric_at_date_fig = bokeh.plotting.figure(title=\"Median g depth at date\", x_axis_label='Date', y_axis_label='Metric value', x_axis_type='datetime')\n",
    "metric_at_date_fig.line(x='date', y='baseline', color='lightgreen', width=5, source=median_depth_g_ds)\n",
    "metric_at_date_fig.line(x='date', y='snapshot', color='black', source=median_depth_g_ds)\n",
    "metric_at_date_fig.scatter(x='date', y='snapshot', color='black', source=median_depth_g_ds)\n",
    "\n",
    "baseline_final_depth = median_depth_g.loc[median_depth_g.index.max(), 'baseline']\n",
    "extrapolated_metric_fig = bokeh.plotting.figure(title=\"Final g depth extrapolated from date to end with baseline\", x_axis_label='Date', y_axis_label='Metric value', x_axis_type='datetime')\n",
    "extrapolated_metric_fig.ray(x=median_depth_g['date'].min(), y=baseline_final_depth, length=0, angle=0, width=5, color='lightgreen')\n",
    "extrapolated_metric_fig.line(x='date', y='extrapolated', color='black', source=median_depth_g_ds)\n",
    "extrapolated_metric_fig.scatter(x='date', y='extrapolated', color='black', source=median_depth_g_ds)\n",
    "\n",
    "metric_figs = bokeh.layouts.row(metric_at_date_fig, extrapolated_metric_fig)\n",
    "bokeh.io.show(metric_figs)"
   ]
  },
  {
   "cell_type": "markdown",
   "id": "a8d7c3b3",
   "metadata": {},
   "source": [
    "### Total area with more than 750 visits\n",
    "\n",
    "For some metrics, the current value does not provide a good indication of progress on that metric. For example, the value of fOArea metric (the total area that has reached a given depth) might not change much even when significant progress is being made if the progress is spread out evenly over the whole footprint.\n",
    "\n",
    "For these metrics, the plot on the right, which shows the value extrapolated to the end of the survey, is more useful.\n",
    "\n",
    "This value will be pessimistic, because it does not account for any response the scheduler might make to the difference in completed vs. baseline visits. A different approach is to create bespoke simulations from each date, starting the scheduler simulator with the completed visits pre-loaded and simulating to the end of the survey. The general appearance of the figure would remain much the same, however.\n",
    "\n",
    "In the plot below, the black line and points show the metric values measured from the chimera simulations, while the green is the value from the baseline."
   ]
  },
  {
   "cell_type": "code",
   "execution_count": null,
   "id": "fb6df496-e365-45e8-8a2c-07cc7a832523",
   "metadata": {},
   "outputs": [],
   "source": [
    "f0area = pd.read_hdf(summary_fname, 'fOArea750')\n",
    "f0area.loc[day_obs.mjd:, 'extrapolated'] = np.nan\n",
    "f0area.loc[day_obs.mjd:, 'snapshot'] = np.nan\n",
    "f0area['date'] = pd.to_datetime(2400000.5 + f0area.index, unit='D', origin='julian')\n",
    "f0area_ds = bokeh.models.ColumnDataSource(f0area)"
   ]
  },
  {
   "cell_type": "code",
   "execution_count": null,
   "id": "a381043c-068e-4fd7-aea9-0a642e54ea2d",
   "metadata": {},
   "outputs": [],
   "source": [
    "metric_at_date_fig = bokeh.plotting.figure(title=\"Square degrees with more than 750 visits at data\", x_axis_label='Date', y_axis_label='Metric value', x_axis_type='datetime')\n",
    "metric_at_date_fig.line(x='date', y='baseline', color='lightgreen', width=5, source=f0area_ds)\n",
    "metric_at_date_fig.line(x='date', y='snapshot', color='black', source=f0area_ds)\n",
    "metric_at_date_fig.scatter(x='date', y='snapshot', color='black', source=f0area_ds)\n",
    "\n",
    "baseline_final_f0area = f0area.loc[f0area.index.max(), 'baseline']\n",
    "extrapolated_metric_fig = bokeh.plotting.figure(title=\"Final area with more than 750 visits extrapolated from date to end with baseline\", x_axis_label='Date', y_axis_label='Metric value', x_axis_type='datetime')\n",
    "extrapolated_metric_fig.ray(x=f0area['date'].min(), y=baseline_final_f0area, length=0, angle=0, width=5, color='lightgreen')\n",
    "extrapolated_metric_fig.line(x='date', y='extrapolated', color='black', source=f0area_ds)\n",
    "extrapolated_metric_fig.scatter(x='date', y='extrapolated', color='black', source=f0area_ds)\n",
    "\n",
    "metric_figs = bokeh.layouts.row(metric_at_date_fig, extrapolated_metric_fig)\n",
    "bokeh.io.show(metric_figs)"
   ]
  },
  {
   "cell_type": "markdown",
   "id": "ef1dfd7b-0d4a-4df2-a83b-9bf95a2e1759",
   "metadata": {},
   "source": [
    "## Hourglass plots\n",
    "\n",
    "Hourglass plots can instantaneous values over a large period of time, e.g. a year: the colors each horizontal line within a column represent the values over that night. Hourglass plots can be additionally annotated with twilight times, moon rise, transit, and set times, and other astronomical events.\n",
    "\n",
    "The HA of each visits represented in the sample plot below. Other good candidates for plotting in hourglass plots are time use (wide ugr, wide izy, each DDF, lost to weather, lost to instrument failure, etc.), depth, sky brightness, and seeing."
   ]
  },
  {
   "cell_type": "code",
   "execution_count": null,
   "id": "964e1da1-9871-4e22-9a97-7aec5e86dc02",
   "metadata": {},
   "outputs": [],
   "source": [
    "out_dir = 'tmp'\n",
    "bundle_group = maf.metric_bundles.MetricBundleGroup(\n",
    "    bundle_dict=[\n",
    "        maf.metric_bundles.MetricBundle(\n",
    "            metric=maf.metrics.MedianMetric(\"HA\"),\n",
    "            slicer=maf.slicers.VisitIntervalSlicer(),\n",
    "            constraint=\"\",\n",
    "            plot_dict={\"cmap\": plt.get_cmap(\"coolwarm\"), \"color_limits\": (-4.5, 4.5), 'figsize': (13, 8)},\n",
    "            plot_funcs=[maf.plots.YearHourglassPlot(day_obs.date.year)],\n",
    "        )\n",
    "    ],\n",
    "    db_con=visits_fname.as_posix(),\n",
    "    out_dir=out_dir,\n",
    ")\n",
    "bundle_group.run_all()\n",
    "bundle_group.plot_all(closefigs=False)"
   ]
  },
  {
   "cell_type": "markdown",
   "id": "7ec0eefb-1df5-41c4-9c9d-ca030eff3776",
   "metadata": {},
   "source": [
    "## DDF Cadence\n",
    "\n",
    "The y-axis (height of the vertical bars) represents the accumulated effective exposure time, t<sub>eff</sub>, accumulated over all exposures on the field for the night, colored by filter. t<sub>eff</sub> is a measure of survey depth that increases monatonically mith limiting magnitude: t<sub>eff</sub> &prop; 10<sup>&frac45; (m5 - m5<sub>nom</sub>)</sup>. The primary advantage of using t<sub>eff</sub> over a magnitude limit is that it is addative in a coadd: the t<sub>eff</sub> in a properly weighted coadd is the sum of the t<sub>eff</sub>s of the visits that were included in the coadd. As such, it makes sense to \"stack\" the t<sub>eff</sub> values for a night in a bar plot, while stacking magnitudes is not physically meaningful. (It is called \"effective exposure time\" because, in the limit of noise domination by sky background photon noise and constant nominal instrument performance and observing conditions, t<sub>eff</sub> is the accumulated exposure time in seconds.) For more details, see [DMTN-296](https://dmtn-296.lsst.io/).\n",
    "\n",
    "The plot only includes the current DDF \"season.\""
   ]
  },
  {
   "cell_type": "code",
   "execution_count": null,
   "id": "0d42c1ba-caa2-4e69-bc0d-e5284c420f23",
   "metadata": {},
   "outputs": [],
   "source": [
    "visits_rp = ResourcePath(visits_fname.as_posix())\n",
    "visits = schedview.collect.read_opsim(visits_rp, stackers=schedview.collect.visits.DDF_STACKERS)"
   ]
  },
  {
   "cell_type": "code",
   "execution_count": null,
   "id": "22dbf6dd-1dbe-4e95-b9dd-8eef5e11e8d9",
   "metadata": {},
   "outputs": [],
   "source": [
    "ddf_field_names = tuple(ddf_locations().keys())\n",
    "# Different versions of the schedule include a DD: prefix, or not.\n",
    "# Catch them all.\n",
    "ddf_field_names = ddf_field_names + tuple([f\"DD:{n}\" for n in ddf_field_names])\n",
    "\n",
    "# Figure out which column has the target names.\n",
    "target_column_name = \"target_name\" if \"target_name\" in visits.columns else \"target\"\n",
    "ddf_visits = visits.loc[visits[target_column_name].isin(ddf_field_names)]\n"
   ]
  },
  {
   "cell_type": "code",
   "execution_count": null,
   "id": "0e239359-1a67-408f-b5ee-573e3605f7a2",
   "metadata": {},
   "outputs": [],
   "source": [
    "time_window_duration=15 + int(day_obs.mjd - Time('2026-06-30').mjd) % 365\n",
    "nightly_ddf = schedview.compute.visits.accum_stats_by_target_band_night(ddf_visits)\n",
    "cadence_plots = schedview.plot.create_cadence_plot(\n",
    "    nightly_ddf, day_obs.mjd - time_window_duration, day_obs.mjd\n",
    ")\n",
    "bokeh.io.show(cadence_plots)"
   ]
  },
  {
   "cell_type": "code",
   "execution_count": null,
   "id": "817da874-b1d5-443d-b4af-d7e7d3e48e87",
   "metadata": {},
   "outputs": [],
   "source": []
  }
 ],
 "metadata": {
  "kernelspec": {
   "display_name": "Python 3",
   "language": "python",
   "name": "python3"
  },
  "language_info": {
   "codemirror_mode": {
    "name": "ipython",
    "version": 3
   },
   "file_extension": ".py",
   "mimetype": "text/x-python",
   "name": "python",
   "nbconvert_exporter": "python",
   "pygments_lexer": "ipython3",
   "version": "3.13.2"
  }
 },
 "nbformat": 4,
 "nbformat_minor": 5
}
